{
 "cells": [
  {
   "cell_type": "markdown",
   "metadata": {},
   "source": [
    "https://docs.h2o.ai/h2o/latest-stable/h2o-docs/index.html"
   ]
  },
  {
   "cell_type": "code",
   "execution_count": null,
   "metadata": {
    "ExecuteTime": {
     "end_time": "2020-10-20T09:23:57.612528Z",
     "start_time": "2020-10-20T09:23:50.805634Z"
    }
   },
   "outputs": [],
   "source": [
    "import pandas as pd\n",
    "import matplotlib.pyplot as plt\n",
    "import h2o"
   ]
  },
  {
   "cell_type": "code",
   "execution_count": null,
   "metadata": {
    "ExecuteTime": {
     "end_time": "2020-10-20T09:41:27.946234Z",
     "start_time": "2020-10-20T09:41:27.800181Z"
    }
   },
   "outputs": [],
   "source": [
    "df = pd.read_csv(\"/work/jupyterhub/shared/benoit/data_h2o.csv\")\n",
    "df.head()"
   ]
  },
  {
   "cell_type": "code",
   "execution_count": null,
   "metadata": {
    "ExecuteTime": {
     "end_time": "2020-10-20T09:41:52.289087Z",
     "start_time": "2020-10-20T09:41:51.718491Z"
    }
   },
   "outputs": [],
   "source": [
    "df[\"Legendary\"].value_counts().plot(kind=\"bar\")"
   ]
  },
  {
   "cell_type": "markdown",
   "metadata": {},
   "source": [
    "# Preparation"
   ]
  },
  {
   "cell_type": "code",
   "execution_count": null,
   "metadata": {
    "ExecuteTime": {
     "end_time": "2020-10-20T09:42:22.931314Z",
     "start_time": "2020-10-20T09:42:17.397854Z"
    }
   },
   "outputs": [],
   "source": [
    "h2o.init(nthreads = 4, port = 54341)"
   ]
  },
  {
   "cell_type": "code",
   "execution_count": null,
   "metadata": {
    "ExecuteTime": {
     "end_time": "2020-10-20T09:44:40.292153Z",
     "start_time": "2020-10-20T09:44:39.872573Z"
    }
   },
   "outputs": [],
   "source": [
    "df_h2o = h2o.H2OFrame(df) # transform into h2o df from pandas\n",
    "\n",
    "train, test = df_h2o.split_frame(ratios=[0.7], seed=42)\n",
    "\n",
    "\n",
    "print(\"{} rows in training set\".format(train.shape[0]))\n",
    "print(\"{} rows in testing set\".format(test.shape[0]))\n",
    "\n",
    "y = \"Legendary\"\n",
    "features = train.columns\n",
    "\n",
    "features.remove(\"num\")\n",
    "features.remove(\"Name\")\n",
    "features.remove(y)"
   ]
  },
  {
   "cell_type": "markdown",
   "metadata": {},
   "source": [
    "# Modeling"
   ]
  },
  {
   "cell_type": "code",
   "execution_count": null,
   "metadata": {
    "ExecuteTime": {
     "end_time": "2020-10-20T09:47:18.443926Z",
     "start_time": "2020-10-20T09:46:53.100266Z"
    }
   },
   "outputs": [],
   "source": [
    "from h2o.grid.grid_search import H2OGridSearch\n",
    "from h2o.estimators.random_forest import H2ORandomForestEstimator\n",
    "\n",
    "gs_params1 = {'ntrees': [20,50,100,150],\n",
    "                'max_depth': [3, 5, 7, 9],\n",
    "                'sample_rate': [0.5, 0.8, 1.0]\n",
    "             }\n",
    "\n",
    "search_criteria = {'strategy': 'RandomDiscrete', 'max_models': 5, 'seed': 42}\n",
    "\n",
    "rf_grid1 = H2OGridSearch(model = H2ORandomForestEstimator,\n",
    "                          grid_id = 'rf_grid1',\n",
    "                          hyper_params = gs_params1,\n",
    "                          search_criteria = search_criteria)\n",
    "\n",
    "rf_grid1.train(x = features, \n",
    "               y = y,\n",
    "               training_frame = train,\n",
    "#                validation_frame = valid,\n",
    "               seed=42,\n",
    "               nfolds = 5);"
   ]
  },
  {
   "cell_type": "markdown",
   "metadata": {},
   "source": [
    "You can relaunch it with the same grid_id to continue the GS"
   ]
  },
  {
   "cell_type": "code",
   "execution_count": null,
   "metadata": {
    "ExecuteTime": {
     "end_time": "2020-10-20T09:47:29.658003Z",
     "start_time": "2020-10-20T09:47:29.282452Z"
    }
   },
   "outputs": [],
   "source": [
    "perfs = rf_grid1.get_grid(sort_by='auc', decreasing=True)\n",
    "display(perfs)"
   ]
  },
  {
   "cell_type": "code",
   "execution_count": null,
   "metadata": {
    "ExecuteTime": {
     "end_time": "2020-10-20T09:47:56.099817Z",
     "start_time": "2020-10-20T09:47:56.058150Z"
    }
   },
   "outputs": [],
   "source": [
    "model = rf_grid1.models[0]\n",
    "model.summary()"
   ]
  },
  {
   "cell_type": "code",
   "execution_count": null,
   "metadata": {
    "ExecuteTime": {
     "end_time": "2020-10-20T09:48:28.054764Z",
     "start_time": "2020-10-20T09:48:27.870178Z"
    }
   },
   "outputs": [],
   "source": [
    "perf = model.model_performance(test)\n",
    "perf"
   ]
  },
  {
   "cell_type": "code",
   "execution_count": null,
   "metadata": {
    "ExecuteTime": {
     "end_time": "2020-10-20T09:48:48.175310Z",
     "start_time": "2020-10-20T09:48:48.157843Z"
    }
   },
   "outputs": [],
   "source": [
    "print(\"Training AUC : {:.1%}\".format(model.auc()))\n",
    "print(\"Cross val AUC : {:.1%}\".format(model.auc(xval=True)))\n",
    "print(\"Testing AUC : {:.1%}\".format(perf.auc()))"
   ]
  },
  {
   "cell_type": "code",
   "execution_count": null,
   "metadata": {
    "ExecuteTime": {
     "end_time": "2020-10-20T09:49:07.936360Z",
     "start_time": "2020-10-20T09:49:07.706459Z"
    }
   },
   "outputs": [],
   "source": [
    "perf.plot(type=\"roc\")"
   ]
  },
  {
   "cell_type": "code",
   "execution_count": null,
   "metadata": {
    "ExecuteTime": {
     "end_time": "2020-10-20T09:49:50.746590Z",
     "start_time": "2020-10-20T09:49:50.454963Z"
    }
   },
   "outputs": [],
   "source": [
    "gains_lifts = perf.gains_lift()\n",
    "pandas_gl = gains_lifts.as_data_frame()\n",
    "\n",
    "plt.figure(figsize=(10,6))   \n",
    "plt.plot(pandas_gl.cumulative_data_fraction, pandas_gl.cumulative_lift, label=\"model\")\n",
    "plt.plot([0,1], [1,1], 'k-')\n",
    "plt.title(\"Cumulative lift curve\")\n",
    "plt.xlabel(\"Cumulative data fraction\")\n",
    "plt.ylabel(\"Cumulative Lift\")\n",
    "plt.ylim([0,14])\n",
    "plt.show()"
   ]
  },
  {
   "cell_type": "markdown",
   "metadata": {},
   "source": [
    "# AutoML"
   ]
  },
  {
   "cell_type": "markdown",
   "metadata": {},
   "source": [
    "https://docs.h2o.ai/h2o/latest-stable/h2o-docs/automl.html"
   ]
  },
  {
   "cell_type": "code",
   "execution_count": null,
   "metadata": {
    "ExecuteTime": {
     "end_time": "2020-10-20T09:51:28.936482Z",
     "start_time": "2020-10-20T09:51:04.654481Z"
    }
   },
   "outputs": [],
   "source": [
    "from h2o.automl import H2OAutoML\n",
    "\n",
    "model = H2OAutoML(nfolds = 3,\n",
    "                      balance_classes=True, \n",
    "                      max_runtime_secs=300, \n",
    "                      max_models=10, \n",
    "                      stopping_metric=\"AUC\", \n",
    "                      stopping_rounds=3, \n",
    "                      seed = 42)\n",
    "    \n",
    "model.train(x=features, \n",
    "      y=y, \n",
    "      training_frame=train)\n",
    "\n",
    "display(model.leaderboard)"
   ]
  },
  {
   "cell_type": "code",
   "execution_count": null,
   "metadata": {
    "ExecuteTime": {
     "end_time": "2020-10-20T09:52:14.855638Z",
     "start_time": "2020-10-20T09:52:14.724728Z"
    }
   },
   "outputs": [],
   "source": [
    "best_model = model.leader\n",
    "\n",
    "perf = best_model.model_performance(test)\n",
    "\n",
    "print(\"Training AUC : {:.1%}\".format(best_model.auc()))\n",
    "print(\"Cross val AUC : {:.1%}\".format(best_model.auc(xval=True)))\n",
    "print(\"Testing AUC : {:.1%}\".format(perf.auc()))"
   ]
  }
 ],
 "metadata": {
  "kernelspec": {
   "display_name": "Python 3.5",
   "language": "python",
   "name": "my_python_3.5"
  },
  "language_info": {
   "codemirror_mode": {
    "name": "ipython",
    "version": 3
   },
   "file_extension": ".py",
   "mimetype": "text/x-python",
   "name": "python",
   "nbconvert_exporter": "python",
   "pygments_lexer": "ipython3",
   "version": "3.5.5"
  },
  "toc": {
   "base_numbering": 1,
   "nav_menu": {},
   "number_sections": true,
   "sideBar": true,
   "skip_h1_title": false,
   "title_cell": "Table of Contents",
   "title_sidebar": "Contents",
   "toc_cell": false,
   "toc_position": {
    "height": "calc(100% - 180px)",
    "left": "10px",
    "top": "150px",
    "width": "165px"
   },
   "toc_section_display": true,
   "toc_window_display": true
  }
 },
 "nbformat": 4,
 "nbformat_minor": 4
}
