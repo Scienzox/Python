{
 "cells": [
  {
   "cell_type": "code",
   "execution_count": 1,
   "metadata": {
    "ExecuteTime": {
     "end_time": "2020-04-02T12:22:04.190304Z",
     "start_time": "2020-04-02T12:22:03.797785Z"
    }
   },
   "outputs": [],
   "source": [
    "import numpy as np\n",
    "import pandas as pd"
   ]
  },
  {
   "cell_type": "markdown",
   "metadata": {},
   "source": [
    "# XML files"
   ]
  },
  {
   "cell_type": "markdown",
   "metadata": {},
   "source": [
    "## Reading"
   ]
  },
  {
   "cell_type": "code",
   "execution_count": 2,
   "metadata": {
    "ExecuteTime": {
     "end_time": "2020-04-02T12:23:37.545402Z",
     "start_time": "2020-04-02T12:23:37.537948Z"
    }
   },
   "outputs": [],
   "source": [
    "import xml.etree.ElementTree as ET"
   ]
  },
  {
   "cell_type": "code",
   "execution_count": 8,
   "metadata": {
    "ExecuteTime": {
     "end_time": "2020-04-02T12:24:58.556701Z",
     "start_time": "2020-04-02T12:24:58.552400Z"
    }
   },
   "outputs": [
    {
     "name": "stdout",
     "output_type": "stream",
     "text": [
      "collection\n",
      "{}\n"
     ]
    }
   ],
   "source": [
    "tree = ET.parse('Data/xml_example.xml')\n",
    "root = tree.getroot()\n",
    "\n",
    "print(root.tag)\n",
    "print(root.attrib)"
   ]
  },
  {
   "cell_type": "code",
   "execution_count": 9,
   "metadata": {
    "ExecuteTime": {
     "end_time": "2020-04-02T12:25:05.786819Z",
     "start_time": "2020-04-02T12:25:05.752816Z"
    }
   },
   "outputs": [
    {
     "name": "stdout",
     "output_type": "stream",
     "text": [
      "genre {'category': 'Action'}\n",
      "genre {'category': 'Thriller'}\n"
     ]
    }
   ],
   "source": [
    "for child in root:\n",
    "    print(child.tag, child.attrib)"
   ]
  },
  {
   "cell_type": "code",
   "execution_count": 10,
   "metadata": {
    "ExecuteTime": {
     "end_time": "2020-04-02T12:26:07.030979Z",
     "start_time": "2020-04-02T12:26:07.026575Z"
    },
    "scrolled": true
   },
   "outputs": [
    {
     "data": {
      "text/plain": [
       "['collection',\n",
       " 'genre',\n",
       " 'decade',\n",
       " 'movie',\n",
       " 'format',\n",
       " 'year',\n",
       " 'rating',\n",
       " 'description',\n",
       " 'movie',\n",
       " 'format',\n",
       " 'year',\n",
       " 'rating',\n",
       " 'description',\n",
       " 'movie',\n",
       " 'format',\n",
       " 'year',\n",
       " 'rating',\n",
       " 'description',\n",
       " 'decade',\n",
       " 'movie',\n",
       " 'format',\n",
       " 'year',\n",
       " 'rating',\n",
       " 'description',\n",
       " 'movie',\n",
       " 'format',\n",
       " 'year',\n",
       " 'rating',\n",
       " 'description',\n",
       " 'movie',\n",
       " 'format',\n",
       " 'year',\n",
       " 'rating',\n",
       " 'description',\n",
       " 'genre',\n",
       " 'decade',\n",
       " 'movie',\n",
       " 'format',\n",
       " 'year',\n",
       " 'rating',\n",
       " 'description',\n",
       " 'decade',\n",
       " 'movie',\n",
       " 'format',\n",
       " 'year',\n",
       " 'rating',\n",
       " 'description',\n",
       " 'movie',\n",
       " 'format',\n",
       " 'year',\n",
       " 'rating',\n",
       " 'description']"
      ]
     },
     "execution_count": 10,
     "metadata": {},
     "output_type": "execute_result"
    }
   ],
   "source": [
    "[elem.tag for elem in root.iter()]"
   ]
  },
  {
   "cell_type": "code",
   "execution_count": 11,
   "metadata": {
    "ExecuteTime": {
     "end_time": "2020-04-02T12:27:04.708872Z",
     "start_time": "2020-04-02T12:27:04.704530Z"
    }
   },
   "outputs": [
    {
     "name": "stdout",
     "output_type": "stream",
     "text": [
      "<?xml version='1.0' encoding='utf8'?>\n",
      "<collection>\n",
      "    <genre category=\"Action\">\n",
      "        <decade years=\"1980s\">\n",
      "            <movie favorite=\"True\" title=\"Indiana Jones: The raiders of the lost Ark\">\n",
      "                <format multiple=\"No\">DVD</format>\n",
      "                <year>1981</year>\n",
      "                <rating>PG</rating>\n",
      "                <description>\n",
      "                'Archaeologist and adventurer Indiana Jones \n",
      "                is hired by the U.S. government to find the Ark of the \n",
      "                Covenant before the Nazis.'\n",
      "                </description>\n",
      "            </movie>\n",
      "               <movie favorite=\"True\" title=\"THE KARATE KID\">\n",
      "               <format multiple=\"Yes\">DVD,Online</format>\n",
      "               <year>1984</year>\n",
      "               <rating>PG</rating>\n",
      "               <description>None provided.</description>\n",
      "            </movie>\n",
      "            <movie favorite=\"False\" title=\"Back 2 the Future\">\n",
      "               <format multiple=\"False\">Blu-ray</format>\n",
      "               <year>1985</year>\n",
      "               <rating>PG</rating>\n",
      "               <description>Marty McFly</description>\n",
      "            </movie>\n",
      "        </decade>\n",
      "        <decade years=\"1990s\">\n",
      "            <movie favorite=\"False\" title=\"X-Men\">\n",
      "               <format multiple=\"Yes\">dvd, digital</format>\n",
      "               <year>2000</year>\n",
      "               <rating>PG-13</rating>\n",
      "               <description>Two mutants come to a private academy for their kind whose resident superhero team must \n",
      "               oppose a terrorist organization with similar powers.</description>\n",
      "            </movie>\n",
      "            <movie favorite=\"True\" title=\"Batman Returns\">\n",
      "               <format multiple=\"No\">VHS</format>\n",
      "               <year>1992</year>\n",
      "               <rating>PG13</rating>\n",
      "               <description>NA.</description>\n",
      "            </movie>\n",
      "               <movie favorite=\"False\" title=\"Reservoir Dogs\">\n",
      "               <format multiple=\"No\">Online</format>\n",
      "               <year>1992</year>\n",
      "               <rating>R</rating>\n",
      "               <description>WhAtEvER I Want!!!?!</description>\n",
      "            </movie>\n",
      "        </decade>    \n",
      "    </genre>\n",
      "\n",
      "    <genre category=\"Thriller\">\n",
      "        <decade years=\"1970s\">\n",
      "            <movie favorite=\"False\" title=\"ALIEN\">\n",
      "                <format multiple=\"Yes\">DVD</format>\n",
      "                <year>1979</year>\n",
      "                <rating>R</rating>\n",
      "                <description>\"\"\"\"\"\"\"\"\"</description>\n",
      "            </movie>\n",
      "        </decade>\n",
      "        <decade years=\"1980s\">\n",
      "            <movie favorite=\"True\" title=\"Ferris Bueller's Day Off\">\n",
      "                <format multiple=\"No\">DVD</format>\n",
      "                <year>1986</year>\n",
      "                <rating>PG13</rating>\n",
      "                <description>Funny movie about a funny guy</description>\n",
      "            </movie>\n",
      "            <movie favorite=\"FALSE\" title=\"American Psycho\">\n",
      "                <format multiple=\"No\">blue-ray</format>\n",
      "                <year>2000</year>\n",
      "                <rating>Unrated</rating>\n",
      "                <description>psychopathic Bateman</description>\n",
      "            </movie>\n",
      "        </decade>\n",
      "    </genre>\n",
      "</collection>\n"
     ]
    }
   ],
   "source": [
    "print(ET.tostring(root, encoding='utf8').decode('utf8'))"
   ]
  },
  {
   "cell_type": "code",
   "execution_count": 12,
   "metadata": {
    "ExecuteTime": {
     "end_time": "2020-04-02T12:27:55.252608Z",
     "start_time": "2020-04-02T12:27:55.248896Z"
    }
   },
   "outputs": [
    {
     "name": "stdout",
     "output_type": "stream",
     "text": [
      "{'favorite': 'True', 'title': 'Indiana Jones: The raiders of the lost Ark'}\n",
      "{'favorite': 'True', 'title': 'THE KARATE KID'}\n",
      "{'favorite': 'False', 'title': 'Back 2 the Future'}\n",
      "{'favorite': 'False', 'title': 'X-Men'}\n",
      "{'favorite': 'True', 'title': 'Batman Returns'}\n",
      "{'favorite': 'False', 'title': 'Reservoir Dogs'}\n",
      "{'favorite': 'False', 'title': 'ALIEN'}\n",
      "{'favorite': 'True', 'title': \"Ferris Bueller's Day Off\"}\n",
      "{'favorite': 'FALSE', 'title': 'American Psycho'}\n"
     ]
    }
   ],
   "source": [
    "for movie in root.iter('movie'):\n",
    "    print(movie.attrib)"
   ]
  },
  {
   "cell_type": "code",
   "execution_count": 13,
   "metadata": {
    "ExecuteTime": {
     "end_time": "2020-04-02T12:28:31.295238Z",
     "start_time": "2020-04-02T12:28:31.291453Z"
    }
   },
   "outputs": [
    {
     "name": "stdout",
     "output_type": "stream",
     "text": [
      "\n",
      "                'Archaeologist and adventurer Indiana Jones \n",
      "                is hired by the U.S. government to find the Ark of the \n",
      "                Covenant before the Nazis.'\n",
      "                \n",
      "None provided.\n",
      "Marty McFly\n",
      "Two mutants come to a private academy for their kind whose resident superhero team must \n",
      "               oppose a terrorist organization with similar powers.\n",
      "NA.\n",
      "WhAtEvER I Want!!!?!\n",
      "\"\"\"\"\"\"\"\"\"\n",
      "Funny movie about a funny guy\n",
      "psychopathic Bateman\n"
     ]
    }
   ],
   "source": [
    "for description in root.iter('description'):\n",
    "    print(description.text)"
   ]
  },
  {
   "cell_type": "code",
   "execution_count": 14,
   "metadata": {
    "ExecuteTime": {
     "end_time": "2020-04-02T12:28:58.650211Z",
     "start_time": "2020-04-02T12:28:58.645190Z"
    }
   },
   "outputs": [
    {
     "name": "stdout",
     "output_type": "stream",
     "text": [
      "{'favorite': 'True', 'title': 'Batman Returns'}\n",
      "{'favorite': 'False', 'title': 'Reservoir Dogs'}\n"
     ]
    }
   ],
   "source": [
    "for movie in root.findall(\"./genre/decade/movie/[year='1992']\"):\n",
    "    print(movie.attrib)"
   ]
  },
  {
   "cell_type": "code",
   "execution_count": 15,
   "metadata": {
    "ExecuteTime": {
     "end_time": "2020-04-02T12:29:59.438415Z",
     "start_time": "2020-04-02T12:29:59.434878Z"
    }
   },
   "outputs": [
    {
     "name": "stdout",
     "output_type": "stream",
     "text": [
      "{'favorite': 'True', 'title': 'THE KARATE KID'}\n",
      "{'favorite': 'False', 'title': 'X-Men'}\n",
      "{'favorite': 'False', 'title': 'ALIEN'}\n"
     ]
    }
   ],
   "source": [
    "for movie in root.findall(\"./genre/decade/movie/format[@multiple='Yes']...\"):\n",
    "    print(movie.attrib)"
   ]
  },
  {
   "cell_type": "markdown",
   "metadata": {},
   "source": [
    "## Modifying"
   ]
  },
  {
   "cell_type": "code",
   "execution_count": 18,
   "metadata": {
    "ExecuteTime": {
     "end_time": "2020-04-02T12:31:12.332032Z",
     "start_time": "2020-04-02T12:31:12.328475Z"
    }
   },
   "outputs": [
    {
     "name": "stdout",
     "output_type": "stream",
     "text": [
      "{'favorite': 'False', 'title': 'Back 2 the Future'}\n"
     ]
    }
   ],
   "source": [
    "b2tf = root.find(\"./genre/decade/movie[@title='Back 2 the Future']\")\n",
    "print(b2tf.attrib)"
   ]
  },
  {
   "cell_type": "code",
   "execution_count": 19,
   "metadata": {
    "ExecuteTime": {
     "end_time": "2020-04-02T12:31:23.166401Z",
     "start_time": "2020-04-02T12:31:23.162990Z"
    }
   },
   "outputs": [
    {
     "name": "stdout",
     "output_type": "stream",
     "text": [
      "{'favorite': 'False', 'title': 'Back to the Future'}\n"
     ]
    }
   ],
   "source": [
    "b2tf.attrib[\"title\"] = \"Back to the Future\"\n",
    "print(b2tf.attrib)"
   ]
  },
  {
   "cell_type": "code",
   "execution_count": 20,
   "metadata": {
    "ExecuteTime": {
     "end_time": "2020-04-02T12:31:58.647574Z",
     "start_time": "2020-04-02T12:31:58.614209Z"
    }
   },
   "outputs": [],
   "source": [
    "tree.write(\"Data/xml_example_modified.xml\")"
   ]
  },
  {
   "cell_type": "code",
   "execution_count": 21,
   "metadata": {
    "ExecuteTime": {
     "end_time": "2020-04-02T12:32:20.379933Z",
     "start_time": "2020-04-02T12:32:20.374465Z"
    }
   },
   "outputs": [
    {
     "name": "stdout",
     "output_type": "stream",
     "text": [
      "{'multiple': 'No'} DVD\n",
      "{'multiple': 'Yes'} DVD,Online\n",
      "{'multiple': 'False'} Blu-ray\n",
      "{'multiple': 'Yes'} dvd, digital\n",
      "{'multiple': 'No'} VHS\n",
      "{'multiple': 'No'} Online\n",
      "{'multiple': 'Yes'} DVD\n",
      "{'multiple': 'No'} DVD\n",
      "{'multiple': 'No'} blue-ray\n"
     ]
    }
   ],
   "source": [
    "for form in root.findall(\"./genre/decade/movie/format\"):\n",
    "    print(form.attrib, form.text)"
   ]
  },
  {
   "cell_type": "code",
   "execution_count": 23,
   "metadata": {
    "ExecuteTime": {
     "end_time": "2020-04-02T12:32:55.695578Z",
     "start_time": "2020-04-02T12:32:55.689054Z"
    }
   },
   "outputs": [
    {
     "name": "stdout",
     "output_type": "stream",
     "text": [
      "{'multiple': 'No'} DVD\n",
      "{'multiple': 'Yes'} DVD,Online\n",
      "{'multiple': 'No'} Blu-ray\n",
      "{'multiple': 'Yes'} dvd, digital\n",
      "{'multiple': 'No'} VHS\n",
      "{'multiple': 'No'} Online\n",
      "{'multiple': 'No'} DVD\n",
      "{'multiple': 'No'} DVD\n",
      "{'multiple': 'No'} blue-ray\n"
     ]
    }
   ],
   "source": [
    "import re\n",
    "\n",
    "for form in root.findall(\"./genre/decade/movie/format\"):\n",
    "    # Search for the commas in the format text\n",
    "    match = re.search(',',form.text)\n",
    "    if match:\n",
    "        form.set('multiple','Yes')\n",
    "    else:\n",
    "        form.set('multiple','No')\n",
    "        \n",
    "for form in root.findall(\"./genre/decade/movie/format\"):\n",
    "    print(form.attrib, form.text)"
   ]
  }
 ],
 "metadata": {
  "kernelspec": {
   "display_name": "Python 3.5",
   "language": "python",
   "name": "my_python_3.5"
  },
  "language_info": {
   "codemirror_mode": {
    "name": "ipython",
    "version": 3
   },
   "file_extension": ".py",
   "mimetype": "text/x-python",
   "name": "python",
   "nbconvert_exporter": "python",
   "pygments_lexer": "ipython3",
   "version": "3.5.5"
  },
  "toc": {
   "base_numbering": 1,
   "nav_menu": {},
   "number_sections": true,
   "sideBar": true,
   "skip_h1_title": false,
   "title_cell": "Table of Contents",
   "title_sidebar": "Contents",
   "toc_cell": false,
   "toc_position": {},
   "toc_section_display": true,
   "toc_window_display": false
  }
 },
 "nbformat": 4,
 "nbformat_minor": 4
}
