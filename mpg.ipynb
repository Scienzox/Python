{
 "cells": [
  {
   "cell_type": "code",
   "execution_count": 3,
   "metadata": {},
   "outputs": [],
   "source": [
    "import pandas as pd\n",
    "import matplotlib.pyplot as plt\n",
    "import seaborn as sns\n",
    "import numpy as np"
   ]
  },
  {
   "cell_type": "markdown",
   "metadata": {},
   "source": [
    "Data import and exploration\n",
    "---"
   ]
  },
  {
   "cell_type": "code",
   "execution_count": 4,
   "metadata": {},
   "outputs": [
    {
     "name": "stdout",
     "output_type": "stream",
     "text": [
      "(398, 9)\n",
      "<class 'pandas.core.frame.DataFrame'>\n",
      "<class 'pandas.core.frame.DataFrame'>\n",
      "RangeIndex: 398 entries, 0 to 397\n",
      "Data columns (total 9 columns):\n",
      "mpg             398 non-null float64\n",
      "cylinders       398 non-null int64\n",
      "displacement    398 non-null float64\n",
      "horsepower      398 non-null object\n",
      "weight          398 non-null float64\n",
      "acceleration    398 non-null float64\n",
      "model_year      398 non-null int64\n",
      "origin          398 non-null int64\n",
      "car_name        398 non-null object\n",
      "dtypes: float64(4), int64(3), object(2)\n",
      "memory usage: 28.1+ KB\n",
      "None\n",
      "mpg             float64\n",
      "cylinders         int64\n",
      "displacement    float64\n",
      "horsepower       object\n",
      "weight          float64\n",
      "acceleration    float64\n",
      "model_year        int64\n",
      "origin            int64\n",
      "car_name         object\n",
      "dtype: object\n",
      "Index(['mpg', 'cylinders', 'displacement', 'horsepower', 'weight',\n",
      "       'acceleration', 'model_year', 'origin', 'car_name'],\n",
      "      dtype='object')\n"
     ]
    }
   ],
   "source": [
    "data = pd.read_csv(\"mpg.txt\", delim_whitespace = True)\n",
    "print(data.shape)\n",
    "print(type(data))\n",
    "print(data.info())\n",
    "data.describe()\n",
    "print(data.dtypes)\n",
    "data.columns = data.columns.str.strip()\n",
    "print(data.columns)"
   ]
  },
  {
   "cell_type": "markdown",
   "metadata": {},
   "source": [
    "---\n",
    "Data manipulation\n",
    "---"
   ]
  },
  {
   "cell_type": "code",
   "execution_count": 5,
   "metadata": {
    "scrolled": true
   },
   "outputs": [
    {
     "name": "stdout",
     "output_type": "stream",
     "text": [
      "0    18.0\n",
      "1    15.0\n",
      "2    18.0\n",
      "3    16.0\n",
      "4    17.0\n",
      "Name: mpg, dtype: float64\n",
      "0    chevrolet chevelle malibu\n",
      "1            buick skylark 320\n",
      "2           plymouth satellite\n",
      "3                amc rebel sst\n",
      "4                  ford torino\n",
      "5             ford galaxie 500\n",
      "Name: car_name, dtype: object\n",
      "   cylinders  displacement horsepower  weight\n",
      "0          8         307.0      130.0  3504.0\n",
      "1          8         350.0      165.0  3693.0\n",
      "2          8         318.0      150.0  3436.0\n",
      "3          8         304.0      150.0  3433.0\n",
      "4          8         302.0      140.0  3449.0\n",
      "    mpg  cylinders  displacement horsepower  weight  acceleration  model_year  \\\n",
      "2  18.0          8         318.0      150.0  3436.0          11.0          70   \n",
      "3  16.0          8         304.0      150.0  3433.0          12.0          70   \n",
      "\n",
      "   origin            car_name  \n",
      "2       1  plymouth satellite  \n",
      "3       1       amc rebel sst  \n",
      "    mpg  cylinders  displacement horsepower  weight  acceleration  model_year  \\\n",
      "2  18.0          8         318.0      150.0  3436.0          11.0          70   \n",
      "\n",
      "   origin            car_name  \n",
      "2       1  plymouth satellite  \n",
      "cylinders         8\n",
      "displacement    307\n",
      "Name: 0, dtype: object\n"
     ]
    }
   ],
   "source": [
    "print(data[\"mpg\"].head())\n",
    "print(data.loc[:5,\"car_name\"])\n",
    "print(data.iloc[0:5,1:5])\n",
    "print(data.loc[2:3]) # this prints 2 lines\n",
    "print(data.iloc[2:3]) # this only prints 1 line\n",
    "print(data.iloc[0,1:3]) # this prints 2 values"
   ]
  },
  {
   "cell_type": "code",
   "execution_count": 6,
   "metadata": {},
   "outputs": [
    {
     "name": "stdout",
     "output_type": "stream",
     "text": [
      "mpg              float64\n",
      "cylinders          int64\n",
      "displacement     float64\n",
      "horsepower        object\n",
      "weight           float64\n",
      "acceleration     float64\n",
      "model_year         int64\n",
      "origin             int64\n",
      "car_name          object\n",
      "origin_cat      category\n",
      "dtype: object\n",
      "Int64Index([1, 2, 3], dtype='int64')\n"
     ]
    }
   ],
   "source": [
    "data[\"origin_cat\"] = data[\"origin\"].astype(\"category\")\n",
    "print(data.dtypes)\n",
    "print(data.origin_cat.cat.categories)"
   ]
  },
  {
   "cell_type": "code",
   "execution_count": 7,
   "metadata": {
    "scrolled": true
   },
   "outputs": [
    {
     "name": "stdout",
     "output_type": "stream",
     "text": [
      "mpg             0\n",
      "cylinders       0\n",
      "displacement    0\n",
      "horsepower      0\n",
      "weight          0\n",
      "acceleration    0\n",
      "model_year      0\n",
      "origin          0\n",
      "car_name        0\n",
      "origin_cat      0\n",
      "dtype: int64\n"
     ]
    },
    {
     "data": {
      "text/plain": [
       "mpg              0\n",
       "cylinders        0\n",
       "displacement     0\n",
       "horsepower       0\n",
       "weight           0\n",
       "acceleration     0\n",
       "model_year       0\n",
       "origin           0\n",
       "car_name         0\n",
       "origin_cat       0\n",
       "na_col          10\n",
       "dtype: int64"
      ]
     },
     "execution_count": 7,
     "metadata": {},
     "output_type": "execute_result"
    }
   ],
   "source": [
    "print(pd.isnull(data).sum())\n",
    "data[\"na_col\"] = [np.random.randint(10) for x in data.origin]\n",
    "na_inds = np.random.choice(np.arange(0,len(data)-1),10, replace = False)\n",
    "data.loc[na_inds, \"na_col\"] = np.nan\n",
    "pd.isnull(data).sum()"
   ]
  },
  {
   "cell_type": "code",
   "execution_count": 8,
   "metadata": {},
   "outputs": [
    {
     "data": {
      "text/html": [
       "<div>\n",
       "<style scoped>\n",
       "    .dataframe tbody tr th:only-of-type {\n",
       "        vertical-align: middle;\n",
       "    }\n",
       "\n",
       "    .dataframe tbody tr th {\n",
       "        vertical-align: top;\n",
       "    }\n",
       "\n",
       "    .dataframe thead th {\n",
       "        text-align: right;\n",
       "    }\n",
       "</style>\n",
       "<table border=\"1\" class=\"dataframe\">\n",
       "  <thead>\n",
       "    <tr style=\"text-align: right;\">\n",
       "      <th></th>\n",
       "      <th>mpg</th>\n",
       "      <th>cylinders</th>\n",
       "      <th>displacement</th>\n",
       "      <th>weight</th>\n",
       "      <th>acceleration</th>\n",
       "      <th>model_year</th>\n",
       "      <th>na_col</th>\n",
       "    </tr>\n",
       "    <tr>\n",
       "      <th>origin</th>\n",
       "      <th></th>\n",
       "      <th></th>\n",
       "      <th></th>\n",
       "      <th></th>\n",
       "      <th></th>\n",
       "      <th></th>\n",
       "      <th></th>\n",
       "    </tr>\n",
       "  </thead>\n",
       "  <tbody>\n",
       "    <tr>\n",
       "      <th>1</th>\n",
       "      <td>20.083534</td>\n",
       "      <td>6.248996</td>\n",
       "      <td>245.901606</td>\n",
       "      <td>3361.931727</td>\n",
       "      <td>15.033735</td>\n",
       "      <td>75.610442</td>\n",
       "      <td>4.329218</td>\n",
       "    </tr>\n",
       "    <tr>\n",
       "      <th>2</th>\n",
       "      <td>27.891429</td>\n",
       "      <td>4.157143</td>\n",
       "      <td>109.142857</td>\n",
       "      <td>2423.300000</td>\n",
       "      <td>16.787143</td>\n",
       "      <td>75.814286</td>\n",
       "      <td>4.557143</td>\n",
       "    </tr>\n",
       "    <tr>\n",
       "      <th>3</th>\n",
       "      <td>30.450633</td>\n",
       "      <td>4.101266</td>\n",
       "      <td>102.708861</td>\n",
       "      <td>2221.227848</td>\n",
       "      <td>16.172152</td>\n",
       "      <td>77.443038</td>\n",
       "      <td>4.320000</td>\n",
       "    </tr>\n",
       "  </tbody>\n",
       "</table>\n",
       "</div>"
      ],
      "text/plain": [
       "              mpg  cylinders  displacement       weight  acceleration  \\\n",
       "origin                                                                  \n",
       "1       20.083534   6.248996    245.901606  3361.931727     15.033735   \n",
       "2       27.891429   4.157143    109.142857  2423.300000     16.787143   \n",
       "3       30.450633   4.101266    102.708861  2221.227848     16.172152   \n",
       "\n",
       "        model_year    na_col  \n",
       "origin                        \n",
       "1        75.610442  4.329218  \n",
       "2        75.814286  4.557143  \n",
       "3        77.443038  4.320000  "
      ]
     },
     "execution_count": 8,
     "metadata": {},
     "output_type": "execute_result"
    }
   ],
   "source": [
    "data.groupby(\"origin\").mean()"
   ]
  },
  {
   "cell_type": "markdown",
   "metadata": {},
   "source": [
    "---\n",
    "# Modeling"
   ]
  },
  {
   "cell_type": "code",
   "execution_count": 9,
   "metadata": {},
   "outputs": [],
   "source": [
    "y = data.horsepower.replace(\"?\", np.nan).astype(\"float64\")\n",
    "y = y.fillna(y.mean())\n",
    "\n",
    "X = data.drop([\"na_col\", \"car_name\", \"origin\", y.name], axis=1)\n",
    "X = pd.get_dummies(X, columns = [\"cylinders\", 'origin_cat'])\n",
    "\n",
    "feature_list = list(X.columns)\n",
    "\n",
    "from sklearn.model_selection import train_test_split\n",
    "\n",
    "X_train, X_test, y_train, y_test = train_test_split(X, y, test_size = 0.3, random_state = 42)"
   ]
  },
  {
   "cell_type": "code",
   "execution_count": 13,
   "metadata": {},
   "outputs": [
    {
     "name": "stdout",
     "output_type": "stream",
     "text": [
      "RMSE = 12.34\n",
      "RMSE2 = 12.34\n",
      "Accuracy: 90.3 %.\n"
     ]
    }
   ],
   "source": [
    "from sklearn.linear_model import LinearRegression\n",
    "from sklearn.metrics import mean_squared_error\n",
    "lr = LinearRegression()\n",
    "lr.fit(X_train, y_train)\n",
    "y_pred = lr.predict(X_test)\n",
    "\n",
    "MSE = ((y_pred - y_test)**2).mean()\n",
    "print('RMSE =', round(np.sqrt(MSE), 2))\n",
    "\n",
    "MSE2 = mean_squared_error(y_test, y_pred)\n",
    "print('RMSE2 =', round(np.sqrt(MSE2), 2))\n",
    "\n",
    "# mean absolute percentage error\n",
    "mape = 100 * (abs(y_pred - y_test) / y_pred)\n",
    "accuracy = 100 - np.mean(mape)\n",
    "print('Accuracy:', round(accuracy, 2), '%.')"
   ]
  },
  {
   "cell_type": "code",
   "execution_count": 14,
   "metadata": {},
   "outputs": [
    {
     "name": "stdout",
     "output_type": "stream",
     "text": [
      "RMSE = 12.41\n",
      "Accuracy: 91.26 %.\n",
      "Variable: displacement         Importance: 0.78\n",
      "Variable: weight               Importance: 0.07\n",
      "Variable: acceleration         Importance: 0.05\n",
      "Variable: mpg                  Importance: 0.04\n",
      "Variable: cylinders_8          Importance: 0.04\n",
      "Variable: model_year           Importance: 0.02\n",
      "Variable: cylinders_3          Importance: 0.0\n",
      "Variable: cylinders_4          Importance: 0.0\n",
      "Variable: cylinders_5          Importance: 0.0\n",
      "Variable: cylinders_6          Importance: 0.0\n",
      "Variable: origin_cat_1         Importance: 0.0\n",
      "Variable: origin_cat_2         Importance: 0.0\n",
      "Variable: origin_cat_3         Importance: 0.0\n",
      "displacement    0.775027\n",
      "weight          0.071334\n",
      "acceleration    0.050703\n",
      "mpg             0.042728\n",
      "cylinders_8     0.035642\n",
      "model_year      0.017685\n",
      "origin_cat_1    0.001822\n",
      "origin_cat_3    0.001522\n",
      "origin_cat_2    0.001342\n",
      "cylinders_6     0.000953\n",
      "cylinders_4     0.000927\n",
      "cylinders_3     0.000209\n",
      "cylinders_5     0.000105\n",
      "dtype: float64\n"
     ]
    },
    {
     "data": {
      "image/png": "[encoded data removed]",
      "text/plain": [
       "<Figure size 432x288 with 1 Axes>"
      ]
     },
     "metadata": {
      "needs_background": "light"
     },
     "output_type": "display_data"
    }
   ],
   "source": [
    "from sklearn.ensemble import RandomForestRegressor\n",
    "\n",
    "rf = RandomForestRegressor(n_estimators = 100, random_state = 42)\n",
    "rf.fit(X_train, y_train)\n",
    "\n",
    "y_pred = rf.predict(X_test)\n",
    "\n",
    "MSE = ((y_pred - y_test)**2).mean()\n",
    "\n",
    "print('RMSE =', round(np.sqrt(MSE), 2))\n",
    "\n",
    "mape = 100 * (abs(y_pred - y_test) / y_pred)\n",
    "accuracy = 100 - np.mean(mape)\n",
    "print('Accuracy:', round(accuracy, 2), '%.')\n",
    "\n",
    "importances = list(rf.feature_importances_)\n",
    "feature_importances = [(feature, round(importance, 2)) for feature, importance in zip(feature_list, importances)]\n",
    "feature_importances = sorted(feature_importances, key = lambda x: x[1], reverse = True)\n",
    "\n",
    "[print('Variable: {:20} Importance: {}'.format(*pair)) for pair in feature_importances];\n",
    "\n",
    "feature_imp = pd.Series(rf.feature_importances_, index = feature_list).sort_values(ascending=False)\n",
    "print(feature_imp)\n",
    "\n",
    "%matplotlib inline\n",
    "plot = sns.barplot(y=feature_imp, x=feature_imp.index)\n",
    "\n",
    "for x in plot.get_xticklabels():\n",
    "    x.set_rotation(45)\n",
    "\n",
    "plt.ylabel('Feature Importance Score')\n",
    "plt.xlabel('Features')\n",
    "plt.title(\"Visualizing Important Features\")\n",
    "plt.show()"
   ]
  },
  {
   "cell_type": "code",
   "execution_count": 144,
   "metadata": {},
   "outputs": [
    {
     "name": "stdout",
     "output_type": "stream",
     "text": [
      "RMSE = 137.57\n",
      "Accuracy: 90.83 %.\n",
      "Variable: displacement         Importance: 0.82\n",
      "Variable: weight               Importance: 0.08\n",
      "Variable: acceleration         Importance: 0.06\n",
      "Variable: mpg                  Importance: 0.05\n",
      "displacement    0.816526\n",
      "weight          0.077755\n",
      "acceleration    0.055805\n",
      "mpg             0.049913\n",
      "dtype: float64\n"
     ]
    },
    {
     "data": {
      "image/png": "[encoded data removed]",
      "text/plain": [
       "<matplotlib.figure.Figure at 0x23cd537d4e0>"
      ]
     },
     "metadata": {},
     "output_type": "display_data"
    }
   ],
   "source": [
    "#reduced model\n",
    "\n",
    "z = list(zip(feature_list, importances))\n",
    "\n",
    "important_features = [x1 for (x1, x2) in z if x2 > 0.04]\n",
    "\n",
    "X = data[important_features]\n",
    "\n",
    "feature_list = list(X.columns)\n",
    "\n",
    "from sklearn.model_selection import train_test_split\n",
    "\n",
    "X_train, X_test, y_train, y_test = train_test_split(X, y, test_size = 0.3, random_state = 42)\n",
    "\n",
    "rf = RandomForestRegressor(n_estimators = 100, random_state = 42)\n",
    "rf.fit(X_train, y_train)\n",
    "\n",
    "y_pred = rf.predict(X_test)\n",
    "\n",
    "MSE = ((y_pred - y_test)**2).sum()\n",
    "\n",
    "print('RMSE =', round(np.sqrt(MSE), 2))\n",
    "\n",
    "mape = 100 * (abs(y_pred - y_test) / y_pred)\n",
    "accuracy = 100 - np.mean(mape)\n",
    "print('Accuracy:', round(accuracy, 2), '%.')\n",
    "\n",
    "importances = list(rf.feature_importances_)\n",
    "feature_importances = [(feature, round(importance, 2)) for feature, importance in zip(feature_list, importances)]\n",
    "feature_importances = sorted(feature_importances, key = lambda x: x[1], reverse = True)\n",
    "\n",
    "[print('Variable: {:20} Importance: {}'.format(*pair)) for pair in feature_importances];\n",
    "\n",
    "feature_imp = pd.Series(rf.feature_importances_, index = feature_list).sort_values(ascending=False)\n",
    "print(feature_imp)\n",
    "\n",
    "%matplotlib inline\n",
    "plot = sns.barplot(y=feature_imp, x=feature_imp.index)\n",
    "\n",
    "for x in plot.get_xticklabels():\n",
    "    x.set_rotation(45)\n",
    "\n",
    "plt.ylabel('Feature Importance Score')\n",
    "plt.xlabel('Features')\n",
    "plt.title(\"Visualizing Important Features\")\n",
    "plt.show()"
   ]
  },
  {
   "cell_type": "markdown",
   "metadata": {},
   "source": [
    "## PCA decomposition"
   ]
  },
  {
   "cell_type": "code",
   "execution_count": 148,
   "metadata": {},
   "outputs": [
    {
     "name": "stdout",
     "output_type": "stream",
     "text": [
      "[[  5.43091963e+02   5.19066422e+01  -6.23453730e-01  -1.15629795e+00]\n",
      " [  7.35786545e+02   7.30356332e+01  -1.79056703e+00  -6.54580502e-01]\n",
      " [  4.76798754e+02   7.06394360e+01  -8.63757266e-01  -1.64117248e+00]\n",
      " [  4.72231900e+02   5.70834520e+01  -3.07382895e+00  -9.37806130e-01]\n",
      " [  4.87892276e+02   5.32987261e+01  -2.11521139e+00  -2.59898372e+00]]\n"
     ]
    }
   ],
   "source": [
    "from sklearn.decomposition import PCA \n",
    "pca = PCA()\n",
    "pca.fit(X)\n",
    "X = pca.transform(X)\n",
    "print(X[:5])"
   ]
  },
  {
   "cell_type": "code",
   "execution_count": 163,
   "metadata": {},
   "outputs": [
    {
     "name": "stdout",
     "output_type": "stream",
     "text": [
      "Best parameter (CV score=0.789):\n",
      "{'pca__n_components': 6}\n"
     ]
    },
    {
     "data": {
      "image/png": "[encoded data removed]",
      "text/plain": [
       "<matplotlib.figure.Figure at 0x23cd885b9b0>"
      ]
     },
     "metadata": {},
     "output_type": "display_data"
    }
   ],
   "source": [
    "from sklearn.pipeline import Pipeline\n",
    "from sklearn.model_selection import GridSearchCV\n",
    "\n",
    "# Define a pipeline to search for the best combination of PCA truncation\n",
    "# and classifier regularization.\n",
    "lr = LinearRegression()\n",
    "pca = PCA()\n",
    "pipe = Pipeline(steps=[('pca', pca), ('linear', lr)])\n",
    "\n",
    "# Parameters of pipelines can be set using ‘__’ separated parameter names:\n",
    "param_grid = {\n",
    "    'pca__n_components': np.arange(1,9)\n",
    "}\n",
    "search = GridSearchCV(pipe, param_grid, iid=False, cv=5,\n",
    "                      return_train_score=False)\n",
    "search.fit(X, y)\n",
    "print(\"Best parameter (CV score=%0.3f):\" % search.best_score_)\n",
    "print(search.best_params_)\n",
    "\n",
    "# Plot the PCA spectrum\n",
    "pca.fit(X)\n",
    "\n",
    "fig, (ax0, ax1) = plt.subplots(nrows=2, sharex=True, figsize=(6, 6))\n",
    "ax0.plot(pca.explained_variance_ratio_, linewidth=2)\n",
    "ax0.set_ylabel('PCA explained variance')\n",
    "\n",
    "ax0.axvline(search.best_estimator_.named_steps['pca'].n_components,\n",
    "            linestyle=':', label='n_components chosen')\n",
    "ax0.legend(prop=dict(size=12))\n",
    "\n",
    "# For each number of components, find the best classifier results\n",
    "results = pd.DataFrame(search.cv_results_)\n",
    "components_col = 'param_pca__n_components'\n",
    "best_clfs = results.groupby(components_col).apply(\n",
    "    lambda g: g.nlargest(1, 'mean_test_score'))\n",
    "\n",
    "best_clfs.plot(x=components_col, y='mean_test_score', yerr='std_test_score',\n",
    "               legend=False, ax=ax1)\n",
    "ax1.set_ylabel('Classification accuracy (val)')\n",
    "ax1.set_xlabel('n_components')\n",
    "\n",
    "plt.tight_layout()\n",
    "plt.show()"
   ]
  }
 ],
 "metadata": {
  "kernelspec": {
   "display_name": "Python 3.5",
   "language": "python",
   "name": "my_python_3.5"
  },
  "language_info": {
   "codemirror_mode": {
    "name": "ipython",
    "version": 3
   },
   "file_extension": ".py",
   "mimetype": "text/x-python",
   "name": "python",
   "nbconvert_exporter": "python",
   "pygments_lexer": "ipython3",
   "version": "3.5.5"
  },
  "toc": {
   "base_numbering": 1,
   "nav_menu": {},
   "number_sections": true,
   "sideBar": true,
   "skip_h1_title": false,
   "title_cell": "Table of Contents",
   "title_sidebar": "Contents",
   "toc_cell": false,
   "toc_position": {},
   "toc_section_display": true,
   "toc_window_display": true
  }
 },
 "nbformat": 4,
 "nbformat_minor": 2
}
