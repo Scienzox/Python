{
 "cells": [
  {
   "cell_type": "markdown",
   "metadata": {},
   "source": [
    "# Import data"
   ]
  },
  {
   "cell_type": "code",
   "execution_count": 1,
   "metadata": {
    "ExecuteTime": {
     "end_time": "2020-06-10T09:44:20.732956Z",
     "start_time": "2020-06-10T09:44:12.199755Z"
    }
   },
   "outputs": [],
   "source": [
    "import pandas as pd\n",
    "import matplotlib.pyplot as plt\n",
    "import seaborn as sns\n",
    "import numpy as np\n",
    "import time\n",
    "from sklearn import datasets\n",
    "import statsmodels.api as sm\n",
    "\n",
    "import scikitplot as skplt"
   ]
  },
  {
   "cell_type": "code",
   "execution_count": 2,
   "metadata": {
    "ExecuteTime": {
     "end_time": "2020-06-10T09:44:20.822671Z",
     "start_time": "2020-06-10T09:44:20.735566Z"
    }
   },
   "outputs": [],
   "source": [
    "df = pd.read_csv(\"Data/data.csv\")\n",
    "column_names = list(df.columns)\n",
    "df.drop(\"num\", axis=1, inplace=True)\n",
    "df.Generation = df.Generation.astype(object)"
   ]
  },
  {
   "cell_type": "markdown",
   "metadata": {},
   "source": [
    "# EDA"
   ]
  },
  {
   "cell_type": "code",
   "execution_count": 12,
   "metadata": {
    "ExecuteTime": {
     "end_time": "2020-02-24T16:38:10.967026Z",
     "start_time": "2020-02-24T16:38:10.954451Z"
    }
   },
   "outputs": [
    {
     "data": {
      "text/html": [
       "<div>\n",
       "<style scoped>\n",
       "    .dataframe tbody tr th:only-of-type {\n",
       "        vertical-align: middle;\n",
       "    }\n",
       "\n",
       "    .dataframe tbody tr th {\n",
       "        vertical-align: top;\n",
       "    }\n",
       "\n",
       "    .dataframe thead th {\n",
       "        text-align: right;\n",
       "    }\n",
       "</style>\n",
       "<table border=\"1\" class=\"dataframe\">\n",
       "  <thead>\n",
       "    <tr style=\"text-align: right;\">\n",
       "      <th></th>\n",
       "      <th>Generation</th>\n",
       "      <th>Legendary</th>\n",
       "      <th>HP</th>\n",
       "    </tr>\n",
       "  </thead>\n",
       "  <tbody>\n",
       "    <tr>\n",
       "      <th>0</th>\n",
       "      <td>1</td>\n",
       "      <td>False</td>\n",
       "      <td>64.612500</td>\n",
       "    </tr>\n",
       "    <tr>\n",
       "      <th>1</th>\n",
       "      <td>1</td>\n",
       "      <td>True</td>\n",
       "      <td>98.000000</td>\n",
       "    </tr>\n",
       "    <tr>\n",
       "      <th>2</th>\n",
       "      <td>2</td>\n",
       "      <td>False</td>\n",
       "      <td>69.613861</td>\n",
       "    </tr>\n",
       "    <tr>\n",
       "      <th>3</th>\n",
       "      <td>2</td>\n",
       "      <td>True</td>\n",
       "      <td>103.400000</td>\n",
       "    </tr>\n",
       "    <tr>\n",
       "      <th>4</th>\n",
       "      <td>3</td>\n",
       "      <td>False</td>\n",
       "      <td>64.626761</td>\n",
       "    </tr>\n",
       "    <tr>\n",
       "      <th>5</th>\n",
       "      <td>3</td>\n",
       "      <td>True</td>\n",
       "      <td>81.666667</td>\n",
       "    </tr>\n",
       "    <tr>\n",
       "      <th>6</th>\n",
       "      <td>4</td>\n",
       "      <td>False</td>\n",
       "      <td>69.740741</td>\n",
       "    </tr>\n",
       "    <tr>\n",
       "      <th>7</th>\n",
       "      <td>4</td>\n",
       "      <td>True</td>\n",
       "      <td>100.846154</td>\n",
       "    </tr>\n",
       "    <tr>\n",
       "      <th>8</th>\n",
       "      <td>5</td>\n",
       "      <td>False</td>\n",
       "      <td>69.353333</td>\n",
       "    </tr>\n",
       "    <tr>\n",
       "      <th>9</th>\n",
       "      <td>5</td>\n",
       "      <td>True</td>\n",
       "      <td>96.133333</td>\n",
       "    </tr>\n",
       "    <tr>\n",
       "      <th>10</th>\n",
       "      <td>6</td>\n",
       "      <td>False</td>\n",
       "      <td>66.189189</td>\n",
       "    </tr>\n",
       "    <tr>\n",
       "      <th>11</th>\n",
       "      <td>6</td>\n",
       "      <td>True</td>\n",
       "      <td>87.500000</td>\n",
       "    </tr>\n",
       "  </tbody>\n",
       "</table>\n",
       "</div>"
      ],
      "text/plain": [
       "    Generation  Legendary          HP\n",
       "0            1      False   64.612500\n",
       "1            1       True   98.000000\n",
       "2            2      False   69.613861\n",
       "3            2       True  103.400000\n",
       "4            3      False   64.626761\n",
       "5            3       True   81.666667\n",
       "6            4      False   69.740741\n",
       "7            4       True  100.846154\n",
       "8            5      False   69.353333\n",
       "9            5       True   96.133333\n",
       "10           6      False   66.189189\n",
       "11           6       True   87.500000"
      ]
     },
     "execution_count": 12,
     "metadata": {},
     "output_type": "execute_result"
    }
   ],
   "source": [
    "df.groupby(by = [\"Generation\", \"Legendary\"],\n",
    "          axis = 0,\n",
    "          as_index = False).HP.mean()"
   ]
  },
  {
   "cell_type": "code",
   "execution_count": 13,
   "metadata": {
    "ExecuteTime": {
     "end_time": "2020-02-24T16:38:15.522869Z",
     "start_time": "2020-02-24T16:38:15.503855Z"
    }
   },
   "outputs": [
    {
     "data": {
      "text/html": [
       "<div>\n",
       "<style scoped>\n",
       "    .dataframe tbody tr th:only-of-type {\n",
       "        vertical-align: middle;\n",
       "    }\n",
       "\n",
       "    .dataframe tbody tr th {\n",
       "        vertical-align: top;\n",
       "    }\n",
       "\n",
       "    .dataframe thead tr th {\n",
       "        text-align: left;\n",
       "    }\n",
       "\n",
       "    .dataframe thead tr:last-of-type th {\n",
       "        text-align: right;\n",
       "    }\n",
       "</style>\n",
       "<table border=\"1\" class=\"dataframe\">\n",
       "  <thead>\n",
       "    <tr>\n",
       "      <th></th>\n",
       "      <th colspan=\"3\" halign=\"left\">Defense</th>\n",
       "      <th colspan=\"3\" halign=\"left\">Attack</th>\n",
       "    </tr>\n",
       "    <tr>\n",
       "      <th></th>\n",
       "      <th>min</th>\n",
       "      <th>mean</th>\n",
       "      <th>max</th>\n",
       "      <th>min</th>\n",
       "      <th>mean</th>\n",
       "      <th>max</th>\n",
       "    </tr>\n",
       "    <tr>\n",
       "      <th>Generation</th>\n",
       "      <th></th>\n",
       "      <th></th>\n",
       "      <th></th>\n",
       "      <th></th>\n",
       "      <th></th>\n",
       "      <th></th>\n",
       "    </tr>\n",
       "  </thead>\n",
       "  <tbody>\n",
       "    <tr>\n",
       "      <th>1</th>\n",
       "      <td>5</td>\n",
       "      <td>70.861446</td>\n",
       "      <td>180</td>\n",
       "      <td>5</td>\n",
       "      <td>76.638554</td>\n",
       "      <td>190</td>\n",
       "    </tr>\n",
       "    <tr>\n",
       "      <th>2</th>\n",
       "      <td>10</td>\n",
       "      <td>73.386792</td>\n",
       "      <td>230</td>\n",
       "      <td>10</td>\n",
       "      <td>72.028302</td>\n",
       "      <td>185</td>\n",
       "    </tr>\n",
       "    <tr>\n",
       "      <th>3</th>\n",
       "      <td>20</td>\n",
       "      <td>74.100000</td>\n",
       "      <td>230</td>\n",
       "      <td>15</td>\n",
       "      <td>81.625000</td>\n",
       "      <td>180</td>\n",
       "    </tr>\n",
       "    <tr>\n",
       "      <th>4</th>\n",
       "      <td>5</td>\n",
       "      <td>78.132231</td>\n",
       "      <td>168</td>\n",
       "      <td>5</td>\n",
       "      <td>82.867769</td>\n",
       "      <td>170</td>\n",
       "    </tr>\n",
       "    <tr>\n",
       "      <th>5</th>\n",
       "      <td>30</td>\n",
       "      <td>72.327273</td>\n",
       "      <td>145</td>\n",
       "      <td>25</td>\n",
       "      <td>82.066667</td>\n",
       "      <td>170</td>\n",
       "    </tr>\n",
       "    <tr>\n",
       "      <th>6</th>\n",
       "      <td>33</td>\n",
       "      <td>76.682927</td>\n",
       "      <td>184</td>\n",
       "      <td>22</td>\n",
       "      <td>75.804878</td>\n",
       "      <td>160</td>\n",
       "    </tr>\n",
       "  </tbody>\n",
       "</table>\n",
       "</div>"
      ],
      "text/plain": [
       "           Defense                 Attack                \n",
       "               min       mean  max    min       mean  max\n",
       "Generation                                               \n",
       "1                5  70.861446  180      5  76.638554  190\n",
       "2               10  73.386792  230     10  72.028302  185\n",
       "3               20  74.100000  230     15  81.625000  180\n",
       "4                5  78.132231  168      5  82.867769  170\n",
       "5               30  72.327273  145     25  82.066667  170\n",
       "6               33  76.682927  184     22  75.804878  160"
      ]
     },
     "execution_count": 13,
     "metadata": {},
     "output_type": "execute_result"
    }
   ],
   "source": [
    "df.groupby(by = [\"Generation\"],\n",
    "          axis = 0).agg({\"Attack\": [\"min\", \"mean\", \"max\"],\n",
    "                           \"Defense\": [\"min\", \"mean\", \"max\"]})"
   ]
  },
  {
   "cell_type": "code",
   "execution_count": 17,
   "metadata": {
    "ExecuteTime": {
     "end_time": "2020-02-24T16:44:12.107065Z",
     "start_time": "2020-02-24T16:44:12.093858Z"
    }
   },
   "outputs": [
    {
     "data": {
      "text/html": [
       "<div>\n",
       "<style scoped>\n",
       "    .dataframe tbody tr th:only-of-type {\n",
       "        vertical-align: middle;\n",
       "    }\n",
       "\n",
       "    .dataframe tbody tr th {\n",
       "        vertical-align: top;\n",
       "    }\n",
       "\n",
       "    .dataframe thead th {\n",
       "        text-align: right;\n",
       "    }\n",
       "</style>\n",
       "<table border=\"1\" class=\"dataframe\">\n",
       "  <thead>\n",
       "    <tr style=\"text-align: right;\">\n",
       "      <th></th>\n",
       "      <th>Name</th>\n",
       "      <th>Type 1</th>\n",
       "      <th>Type 2</th>\n",
       "      <th>Total</th>\n",
       "      <th>HP</th>\n",
       "      <th>Attack</th>\n",
       "      <th>Defense</th>\n",
       "      <th>Sp. Atk</th>\n",
       "      <th>Sp. Def</th>\n",
       "      <th>Speed</th>\n",
       "      <th>Generation</th>\n",
       "      <th>Legendary</th>\n",
       "      <th>num_types</th>\n",
       "    </tr>\n",
       "  </thead>\n",
       "  <tbody>\n",
       "    <tr>\n",
       "      <th>0</th>\n",
       "      <td>Bulbasaur</td>\n",
       "      <td>Grass</td>\n",
       "      <td>Poison</td>\n",
       "      <td>318</td>\n",
       "      <td>45</td>\n",
       "      <td>49</td>\n",
       "      <td>49</td>\n",
       "      <td>65</td>\n",
       "      <td>65</td>\n",
       "      <td>45</td>\n",
       "      <td>1</td>\n",
       "      <td>False</td>\n",
       "      <td>2</td>\n",
       "    </tr>\n",
       "    <tr>\n",
       "      <th>1</th>\n",
       "      <td>Ivysaur</td>\n",
       "      <td>Grass</td>\n",
       "      <td>Poison</td>\n",
       "      <td>405</td>\n",
       "      <td>60</td>\n",
       "      <td>62</td>\n",
       "      <td>63</td>\n",
       "      <td>80</td>\n",
       "      <td>80</td>\n",
       "      <td>60</td>\n",
       "      <td>1</td>\n",
       "      <td>False</td>\n",
       "      <td>2</td>\n",
       "    </tr>\n",
       "    <tr>\n",
       "      <th>2</th>\n",
       "      <td>Venusaur</td>\n",
       "      <td>Grass</td>\n",
       "      <td>Poison</td>\n",
       "      <td>525</td>\n",
       "      <td>80</td>\n",
       "      <td>82</td>\n",
       "      <td>83</td>\n",
       "      <td>100</td>\n",
       "      <td>100</td>\n",
       "      <td>80</td>\n",
       "      <td>1</td>\n",
       "      <td>False</td>\n",
       "      <td>2</td>\n",
       "    </tr>\n",
       "    <tr>\n",
       "      <th>3</th>\n",
       "      <td>VenusaurMega Venusaur</td>\n",
       "      <td>Grass</td>\n",
       "      <td>Poison</td>\n",
       "      <td>625</td>\n",
       "      <td>80</td>\n",
       "      <td>100</td>\n",
       "      <td>123</td>\n",
       "      <td>122</td>\n",
       "      <td>120</td>\n",
       "      <td>80</td>\n",
       "      <td>1</td>\n",
       "      <td>False</td>\n",
       "      <td>2</td>\n",
       "    </tr>\n",
       "    <tr>\n",
       "      <th>4</th>\n",
       "      <td>Charmander</td>\n",
       "      <td>Fire</td>\n",
       "      <td>NaN</td>\n",
       "      <td>309</td>\n",
       "      <td>39</td>\n",
       "      <td>52</td>\n",
       "      <td>43</td>\n",
       "      <td>60</td>\n",
       "      <td>50</td>\n",
       "      <td>65</td>\n",
       "      <td>1</td>\n",
       "      <td>False</td>\n",
       "      <td>1</td>\n",
       "    </tr>\n",
       "  </tbody>\n",
       "</table>\n",
       "</div>"
      ],
      "text/plain": [
       "                    Name Type 1  Type 2  Total  HP  Attack  Defense  Sp. Atk  \\\n",
       "0              Bulbasaur  Grass  Poison    318  45      49       49       65   \n",
       "1                Ivysaur  Grass  Poison    405  60      62       63       80   \n",
       "2               Venusaur  Grass  Poison    525  80      82       83      100   \n",
       "3  VenusaurMega Venusaur  Grass  Poison    625  80     100      123      122   \n",
       "4             Charmander   Fire     NaN    309  39      52       43       60   \n",
       "\n",
       "   Sp. Def  Speed  Generation  Legendary  num_types  \n",
       "0       65     45           1      False          2  \n",
       "1       80     60           1      False          2  \n",
       "2      100     80           1      False          2  \n",
       "3      120     80           1      False          2  \n",
       "4       50     65           1      False          1  "
      ]
     },
     "execution_count": 17,
     "metadata": {},
     "output_type": "execute_result"
    }
   ],
   "source": [
    "df[\"num_types\"] = np.where(df[\"Type 2\"].notnull(), 2, 1)\n",
    "df.head()"
   ]
  },
  {
   "cell_type": "markdown",
   "metadata": {},
   "source": [
    "# Probability "
   ]
  },
  {
   "cell_type": "markdown",
   "metadata": {},
   "source": [
    "## distributions"
   ]
  },
  {
   "cell_type": "markdown",
   "metadata": {},
   "source": [
    "### Binomial"
   ]
  },
  {
   "cell_type": "code",
   "execution_count": 46,
   "metadata": {
    "ExecuteTime": {
     "end_time": "2020-05-04T14:40:29.726804Z",
     "start_time": "2020-05-04T14:40:29.723849Z"
    }
   },
   "outputs": [],
   "source": [
    "np.random.seed(42)"
   ]
  },
  {
   "cell_type": "code",
   "execution_count": 24,
   "metadata": {
    "ExecuteTime": {
     "end_time": "2020-04-27T14:14:48.527398Z",
     "start_time": "2020-04-27T14:14:48.381919Z"
    }
   },
   "outputs": [
    {
     "data": {
      "text/plain": [
       "(array([503.,   0.,   0.,   0.,   0.,   0.,   0.,   0.,   0., 497.]),\n",
       " array([0. , 0.1, 0.2, 0.3, 0.4, 0.5, 0.6, 0.7, 0.8, 0.9, 1. ]),\n",
       " <a list of 10 Patch objects>)"
      ]
     },
     "execution_count": 24,
     "metadata": {},
     "output_type": "execute_result"
    },
    {
     "data": {
      "image/png": "[encoded data removed]",
      "text/plain": [
       "<Figure size 432x288 with 1 Axes>"
      ]
     },
     "metadata": {
      "needs_background": "light"
     },
     "output_type": "display_data"
    }
   ],
   "source": [
    "from scipy.stats import bernoulli\n",
    "\n",
    "exp = bernoulli.rvs(p = 0.5, size=1000, random_state = 42)\n",
    "\n",
    "plt.hist(exp)"
   ]
  },
  {
   "cell_type": "code",
   "execution_count": 47,
   "metadata": {
    "ExecuteTime": {
     "end_time": "2020-05-04T14:40:32.009123Z",
     "start_time": "2020-05-04T14:40:31.853862Z"
    }
   },
   "outputs": [
    {
     "data": {
      "text/plain": [
       "(array([  16.,   85.,  451., 1215., 2055., 2509., 2021., 1121.,  436.,\n",
       "          91.]),\n",
       " array([ 0.,  1.,  2.,  3.,  4.,  5.,  6.,  7.,  8.,  9., 10.]),\n",
       " <a list of 10 Patch objects>)"
      ]
     },
     "execution_count": 47,
     "metadata": {},
     "output_type": "execute_result"
    },
    {
     "data": {
      "image/png": "[encoded data removed]",
      "text/plain": [
       "<Figure size 432x288 with 1 Axes>"
      ]
     },
     "metadata": {
      "needs_background": "light"
     },
     "output_type": "display_data"
    }
   ],
   "source": [
    "from scipy.stats import binom\n",
    "\n",
    "exp = binom.rvs(n=10, p=0.5, size=10000, random_state = 42)\n",
    "\n",
    "plt.hist(exp)"
   ]
  },
  {
   "cell_type": "code",
   "execution_count": 38,
   "metadata": {
    "ExecuteTime": {
     "end_time": "2020-04-28T08:04:31.448937Z",
     "start_time": "2020-04-28T08:04:31.441791Z"
    }
   },
   "outputs": [
    {
     "name": "stdout",
     "output_type": "stream",
     "text": [
      "Probability of having 3 heads out of 10 trials = 0.12\n",
      "Probability of having <= 3 heads out of 10 trials = 0.17\n",
      "Probability of having > 5 heads out of 10 trials = 0.38\n"
     ]
    }
   ],
   "source": [
    "print(\"Probability of having {} heads out of {} trials = {:.2f}\".format(3,10, binom.pmf(k=3, n=10, p=0.5))) # probability mass function\n",
    "print(\"Probability of having <= {} heads out of {} trials = {:.2f}\".format(3,10, binom.cdf(k=3, n=10, p=0.5))) # cumulative distribution function\n",
    "print(\"Probability of having > {} heads out of {} trials = {:.2f}\".format(5,10, binom.sf(k=5, n=10, p=0.5))) # survival function"
   ]
  },
  {
   "cell_type": "code",
   "execution_count": 42,
   "metadata": {
    "ExecuteTime": {
     "end_time": "2020-04-28T08:09:10.949521Z",
     "start_time": "2020-04-28T08:09:10.943462Z"
    }
   },
   "outputs": [
    {
     "data": {
      "text/plain": [
       "0.2502412412412412"
      ]
     },
     "execution_count": 42,
     "metadata": {},
     "output_type": "execute_result"
    }
   ],
   "source": [
    "from scipy.stats import describe\n",
    "\n",
    "describe(exp).mean\n",
    "describe(exp).variance"
   ]
  },
  {
   "cell_type": "code",
   "execution_count": 43,
   "metadata": {
    "ExecuteTime": {
     "end_time": "2020-04-28T08:10:06.493687Z",
     "start_time": "2020-04-28T08:10:06.488861Z"
    }
   },
   "outputs": [
    {
     "data": {
      "text/plain": [
       "(array(5.), array(2.5))"
      ]
     },
     "execution_count": 43,
     "metadata": {},
     "output_type": "execute_result"
    }
   ],
   "source": [
    "binom.stats(n=10, p=0.5)"
   ]
  },
  {
   "cell_type": "markdown",
   "metadata": {},
   "source": [
    "### Normal"
   ]
  },
  {
   "cell_type": "code",
   "execution_count": null,
   "metadata": {},
   "outputs": [],
   "source": []
  },
  {
   "cell_type": "code",
   "execution_count": 68,
   "metadata": {
    "ExecuteTime": {
     "end_time": "2020-05-08T08:51:47.191224Z",
     "start_time": "2020-05-08T08:51:46.498265Z"
    }
   },
   "outputs": [
    {
     "name": "stderr",
     "output_type": "stream",
     "text": [
      "/work/jupyterhub/id860112/envs/My_Python_3.5/lib/python3.5/site-packages/scipy/stats/stats.py:1713: FutureWarning: Using a non-tuple sequence for multidimensional indexing is deprecated; use `arr[tuple(seq)]` instead of `arr[seq]`. In the future this will be interpreted as an array index, `arr[np.array(seq)]`, which will result either in an error or a different result.\n",
      "  return np.add.reduce(sorted[indexer] * weights, axis=axis) / sumval\n"
     ]
    },
    {
     "data": {
      "text/plain": [
       "<matplotlib.axes._subplots.AxesSubplot at 0x7f59453dcc88>"
      ]
     },
     "execution_count": 68,
     "metadata": {},
     "output_type": "execute_result"
    },
    {
     "data": {
      "image/png": "[encoded data removed]",
      "text/plain": [
       "<Figure size 432x288 with 1 Axes>"
      ]
     },
     "metadata": {
      "needs_background": "light"
     },
     "output_type": "display_data"
    }
   ],
   "source": [
    "from scipy.stats import norm\n",
    "\n",
    "sample = norm.rvs(loc = 0, scale = 2, size = 10000, random_state = 42)\n",
    "sns.distplot(sample)"
   ]
  },
  {
   "cell_type": "code",
   "execution_count": 21,
   "metadata": {
    "ExecuteTime": {
     "end_time": "2020-05-11T12:38:52.481057Z",
     "start_time": "2020-05-11T12:38:52.468737Z"
    }
   },
   "outputs": [
    {
     "name": "stdout",
     "output_type": "stream",
     "text": [
      "For N(0,1)\n"
     ]
    },
    {
     "ename": "NameError",
     "evalue": "name 'norm' is not defined",
     "output_type": "error",
     "traceback": [
      "\u001b[0;31m---------------------------------------------------------------------------\u001b[0m",
      "\u001b[0;31mNameError\u001b[0m                                 Traceback (most recent call last)",
      "\u001b[0;32m<ipython-input-21-a889d650977c>\u001b[0m in \u001b[0;36m<module>\u001b[0;34m\u001b[0m\n\u001b[1;32m      1\u001b[0m \u001b[0mprint\u001b[0m\u001b[0;34m(\u001b[0m\u001b[0;34m\"For N(0,1)\"\u001b[0m\u001b[0;34m)\u001b[0m\u001b[0;34m\u001b[0m\u001b[0m\n\u001b[0;32m----> 2\u001b[0;31m \u001b[0mprint\u001b[0m\u001b[0;34m(\u001b[0m\u001b[0;34m\"probability < 0.5 = {:.2f}\"\u001b[0m\u001b[0;34m.\u001b[0m\u001b[0mformat\u001b[0m\u001b[0;34m(\u001b[0m\u001b[0mnorm\u001b[0m\u001b[0;34m.\u001b[0m\u001b[0mcdf\u001b[0m\u001b[0;34m(\u001b[0m\u001b[0;36m4\u001b[0m\u001b[0;34m,\u001b[0m \u001b[0mmu\u001b[0m\u001b[0;34m=\u001b[0m\u001b[0;36m2\u001b[0m\u001b[0;34m)\u001b[0m\u001b[0;34m)\u001b[0m\u001b[0;34m)\u001b[0m\u001b[0;34m\u001b[0m\u001b[0m\n\u001b[0m\u001b[1;32m      3\u001b[0m \u001b[0mprint\u001b[0m\u001b[0;34m(\u001b[0m\u001b[0;34m\"probability < 0.5 = {:.2f}\"\u001b[0m\u001b[0;34m.\u001b[0m\u001b[0mformat\u001b[0m\u001b[0;34m(\u001b[0m\u001b[0mnorm\u001b[0m\u001b[0;34m.\u001b[0m\u001b[0msf\u001b[0m\u001b[0;34m(\u001b[0m\u001b[0;36m4\u001b[0m\u001b[0;34m,\u001b[0m \u001b[0mmu\u001b[0m\u001b[0;34m=\u001b[0m\u001b[0;36m2\u001b[0m\u001b[0;34m)\u001b[0m\u001b[0;34m)\u001b[0m\u001b[0;34m)\u001b[0m\u001b[0;34m\u001b[0m\u001b[0m\n\u001b[1;32m      4\u001b[0m \u001b[0mprint\u001b[0m\u001b[0;34m(\u001b[0m\u001b[0;34m\"probability = 0.5 = {:.2f}\"\u001b[0m\u001b[0;34m.\u001b[0m\u001b[0mformat\u001b[0m\u001b[0;34m(\u001b[0m\u001b[0mnorm\u001b[0m\u001b[0;34m.\u001b[0m\u001b[0mppf\u001b[0m\u001b[0;34m(\u001b[0m\u001b[0;36m4\u001b[0m\u001b[0;34m,\u001b[0m \u001b[0mmu\u001b[0m\u001b[0;34m=\u001b[0m\u001b[0;36m2\u001b[0m\u001b[0;34m)\u001b[0m\u001b[0;34m)\u001b[0m\u001b[0;34m)\u001b[0m\u001b[0;34m\u001b[0m\u001b[0m\n\u001b[1;32m      5\u001b[0m \u001b[0mprint\u001b[0m\u001b[0;34m(\u001b[0m\u001b[0;34m\"interval containing {:.1%} of the data = {}\"\u001b[0m\u001b[0;34m.\u001b[0m\u001b[0mformat\u001b[0m\u001b[0;34m(\u001b[0m\u001b[0;36m0.7\u001b[0m\u001b[0;34m,\u001b[0m \u001b[0mnorm\u001b[0m\u001b[0;34m.\u001b[0m\u001b[0minterval\u001b[0m\u001b[0;34m(\u001b[0m\u001b[0;36m0.68\u001b[0m\u001b[0;34m)\u001b[0m\u001b[0;34m)\u001b[0m\u001b[0;34m)\u001b[0m\u001b[0;34m\u001b[0m\u001b[0m\n",
      "\u001b[0;31mNameError\u001b[0m: name 'norm' is not defined"
     ]
    }
   ],
   "source": [
    "print(\"For N(0,1)\")\n",
    "print(\"probability < 0.5 = {:.2f}\".format(norm.cdf(4, mu=2)))\n",
    "print(\"probability > 0.5 = {:.2f}\".format(norm.sf(4, mu=2)))\n",
    "print(\"probability = 0.5 = {:.2f}\".format(norm.ppf(4, mu=2)))\n",
    "print(\"interval containing {:.1%} of the data = {}\".format(0.7, norm.interval(0.68)))"
   ]
  },
  {
   "cell_type": "markdown",
   "metadata": {},
   "source": [
    "### Poisson"
   ]
  },
  {
   "cell_type": "markdown",
   "metadata": {},
   "source": [
    "* discrete\n",
    "* counts of events in a time or space interval"
   ]
  },
  {
   "cell_type": "code",
   "execution_count": 18,
   "metadata": {
    "ExecuteTime": {
     "end_time": "2020-05-11T12:36:52.445704Z",
     "start_time": "2020-05-11T12:36:52.306055Z"
    }
   },
   "outputs": [
    {
     "data": {
      "text/plain": [
       "<BarContainer object of 10 artists>"
      ]
     },
     "execution_count": 18,
     "metadata": {},
     "output_type": "execute_result"
    },
    {
     "data": {
      "image/png": "[encoded data removed]",
      "text/plain": [
       "<Figure size 432x288 with 1 Axes>"
      ]
     },
     "metadata": {
      "needs_background": "light"
     },
     "output_type": "display_data"
    }
   ],
   "source": [
    "from scipy.stats import poisson\n",
    "\n",
    "distribution = []\n",
    "for k in range(10):\n",
    "    distribution.append(poisson.pmf(k = k, mu=2))\n",
    "    \n",
    "plt.bar(x = range(10), height = distribution)"
   ]
  },
  {
   "cell_type": "code",
   "execution_count": 19,
   "metadata": {
    "ExecuteTime": {
     "end_time": "2020-05-11T12:37:04.875281Z",
     "start_time": "2020-05-11T12:37:04.742261Z"
    }
   },
   "outputs": [
    {
     "data": {
      "text/plain": [
       "<BarContainer object of 10 artists>"
      ]
     },
     "execution_count": 19,
     "metadata": {},
     "output_type": "execute_result"
    },
    {
     "data": {
      "image/png": "[encoded data removed]",
      "text/plain": [
       "<Figure size 432x288 with 1 Axes>"
      ]
     },
     "metadata": {
      "needs_background": "light"
     },
     "output_type": "display_data"
    }
   ],
   "source": [
    "from scipy.stats import poisson\n",
    "\n",
    "distribution = []\n",
    "for k in range(10):\n",
    "    distribution.append(poisson.cdf(k = k, mu=2))\n",
    "    \n",
    "plt.bar(x = range(10), height = distribution)"
   ]
  },
  {
   "cell_type": "code",
   "execution_count": 34,
   "metadata": {
    "ExecuteTime": {
     "end_time": "2020-05-13T08:07:39.378065Z",
     "start_time": "2020-05-13T08:07:39.372472Z"
    }
   },
   "outputs": [
    {
     "name": "stdout",
     "output_type": "stream",
     "text": [
      "For mu = 2\n",
      "probability < 4 = 0.95\n",
      "probability > 4 = 0.05\n",
      "probability = 4 = 0.09\n"
     ]
    }
   ],
   "source": [
    "print(\"For mu = 2\")\n",
    "print(\"probability < 4 = {:.2f}\".format(poisson.cdf(4, mu=2)))\n",
    "print(\"probability > 4 = {:.2f}\".format(poisson.sf(4, mu=2)))\n",
    "print(\"probability = 4 = {:.2f}\".format(poisson.pmf(4, mu=2)))"
   ]
  },
  {
   "cell_type": "code",
   "execution_count": 27,
   "metadata": {
    "ExecuteTime": {
     "end_time": "2020-05-11T12:40:34.640734Z",
     "start_time": "2020-05-11T12:40:34.404725Z"
    }
   },
   "outputs": [
    {
     "data": {
      "text/plain": [
       "<matplotlib.axes._subplots.AxesSubplot at 0x7fa1e937a940>"
      ]
     },
     "execution_count": 27,
     "metadata": {},
     "output_type": "execute_result"
    },
    {
     "data": {
      "image/png": "[encoded data removed]",
      "text/plain": [
       "<Figure size 432x288 with 1 Axes>"
      ]
     },
     "metadata": {
      "needs_background": "light"
     },
     "output_type": "display_data"
    }
   ],
   "source": [
    "samples = poisson.rvs(mu = 2, size=10000, random_state = 42)\n",
    "sns.distplot(samples, kde=False)"
   ]
  },
  {
   "cell_type": "markdown",
   "metadata": {},
   "source": [
    "### Geometric"
   ]
  },
  {
   "cell_type": "markdown",
   "metadata": {},
   "source": [
    "* probability of first success after n trials"
   ]
  },
  {
   "cell_type": "code",
   "execution_count": 42,
   "metadata": {
    "ExecuteTime": {
     "end_time": "2020-05-13T08:12:31.098906Z",
     "start_time": "2020-05-13T08:12:31.074920Z"
    }
   },
   "outputs": [
    {
     "name": "stdout",
     "output_type": "stream",
     "text": [
      "For p = 0.3\n",
      "probability of success in less than 4 attempts = 0.76\n",
      "probability of success in more than 4 attempts = 0.24\n",
      "probability of success after 3 failures = 0.10\n",
      "Number of attempts to have a probability of success of 0.9 = 7.00\n"
     ]
    }
   ],
   "source": [
    "from scipy.stats import geom\n",
    "\n",
    "print(\"For p = 0.3\")\n",
    "print(\"probability of success in less than 4 attempts = {:.2f}\".format(geom.cdf(4, p=0.3)))\n",
    "print(\"probability of success in more than 4 attempts = {:.2f}\".format(geom.sf(4, p=0.3)))\n",
    "print(\"probability of success after 3 failures = {:.2f}\".format(geom.pmf(4, p=0.3)))\n",
    "print(\"Number of attempts to have a probability of success of 0.9 = {:.2f}\".format(geom.ppf(0.9, p=0.3)))"
   ]
  },
  {
   "cell_type": "code",
   "execution_count": 38,
   "metadata": {
    "ExecuteTime": {
     "end_time": "2020-05-13T08:09:25.629809Z",
     "start_time": "2020-05-13T08:09:25.357091Z"
    }
   },
   "outputs": [
    {
     "data": {
      "text/plain": [
       "<matplotlib.axes._subplots.AxesSubplot at 0x7fa1e8ffe320>"
      ]
     },
     "execution_count": 38,
     "metadata": {},
     "output_type": "execute_result"
    },
    {
     "data": {
      "image/png": "[encoded data removed]",
      "text/plain": [
       "<Figure size 432x288 with 1 Axes>"
      ]
     },
     "metadata": {
      "needs_background": "light"
     },
     "output_type": "display_data"
    }
   ],
   "source": [
    "samples = geom.rvs(p=0.3, size=10000, random_state = 42)\n",
    "sns.distplot(samples, bins = np.linspace(0,20,21), kde=False)"
   ]
  },
  {
   "cell_type": "markdown",
   "metadata": {},
   "source": [
    "## Experiments"
   ]
  },
  {
   "cell_type": "code",
   "execution_count": 58,
   "metadata": {
    "ExecuteTime": {
     "end_time": "2020-05-04T14:49:38.138019Z",
     "start_time": "2020-05-04T14:49:38.133253Z"
    }
   },
   "outputs": [
    {
     "name": "stdout",
     "output_type": "stream",
     "text": [
      "Sample = [1 2 1 1 0 0 0 2 1 1]\n",
      "Counts of outcomes = [3 5 2]\n"
     ]
    }
   ],
   "source": [
    "from scipy.stats import find_repeats\n",
    "\n",
    "sample = binom.rvs(n=2,p=0.5, size = 10, random_state = 42)\n",
    "print(\"Sample = {}\".format(sample))\n",
    "print(\"Counts of outcomes = {}\".format(find_repeats(sample).counts)) # count how many times you have each outcome"
   ]
  },
  {
   "cell_type": "code",
   "execution_count": 64,
   "metadata": {
    "ExecuteTime": {
     "end_time": "2020-05-04T14:51:10.152982Z",
     "start_time": "2020-05-04T14:51:10.145333Z"
    }
   },
   "outputs": [
    {
     "name": "stdout",
     "output_type": "stream",
     "text": [
      "probability of each outcome = [0.659 0.303 0.038]\n"
     ]
    }
   ],
   "source": [
    "from scipy.stats import relfreq\n",
    "\n",
    "print(\"probability of each outcome = {}\".format(relfreq(binom.rvs(n=2,p=0.2, size = 1000, random_state = 42), numbins = 3).frequency)) # probability of 2 "
   ]
  },
  {
   "cell_type": "markdown",
   "metadata": {},
   "source": [
    "## Law of large number & CLT"
   ]
  },
  {
   "cell_type": "code",
   "execution_count": 51,
   "metadata": {
    "ExecuteTime": {
     "end_time": "2020-05-15T15:02:35.344046Z",
     "start_time": "2020-05-15T15:02:34.432814Z"
    }
   },
   "outputs": [
    {
     "data": {
      "text/plain": [
       "<matplotlib.legend.Legend at 0x7fa193710400>"
      ]
     },
     "execution_count": 51,
     "metadata": {},
     "output_type": "execute_result"
    },
    {
     "data": {
      "image/png": "[encoded data removed]",
      "text/plain": [
       "<Figure size 432x288 with 1 Axes>"
      ]
     },
     "metadata": {
      "needs_background": "light"
     },
     "output_type": "display_data"
    }
   ],
   "source": [
    "from scipy.stats import binom, describe\n",
    "\n",
    "samples = binom.rvs(n=1, p=0.65, size=250, random_state = 4)\n",
    "averages = []\n",
    "for i in range(2, 251):\n",
    "    averages.append(describe(samples[0:i]).mean)\n",
    "    \n",
    "plt.axhline(binom.mean(n=1, p=0.65), color='red')\n",
    "plt.plot(averages, '-')\n",
    "\n",
    "plt.legend((\"Population mean\",\"Sample mean\"), loc='lower right')"
   ]
  },
  {
   "cell_type": "code",
   "execution_count": 55,
   "metadata": {
    "ExecuteTime": {
     "end_time": "2020-05-15T15:08:43.398550Z",
     "start_time": "2020-05-15T15:08:40.088990Z"
    }
   },
   "outputs": [
    {
     "data": {
      "image/png": "[encoded data removed]",
      "text/plain": [
       "<Figure size 432x288 with 1 Axes>"
      ]
     },
     "metadata": {
      "needs_background": "light"
     },
     "output_type": "display_data"
    }
   ],
   "source": [
    "from scipy.stats import poisson\n",
    "\n",
    "population = poisson.rvs(mu = 2, size=1000, random_state = 20)\n",
    "plt.hist(population)\n",
    "\n",
    "\n",
    "sample_means = []\n",
    "for _ in range(1500):\n",
    "\n",
    "    sample = np.random.choice(population, 20)\n",
    "    sample_means.append(describe(sample).mean)\n",
    "\n",
    "plt.hist(sample_means, alpha=0.5)\n",
    "plt.xlabel(\"Sample mean values\")\n",
    "plt.ylabel(\"Frequency\")\n",
    "plt.show()"
   ]
  },
  {
   "cell_type": "markdown",
   "metadata": {},
   "source": [
    "# Stats"
   ]
  },
  {
   "cell_type": "markdown",
   "metadata": {},
   "source": [
    "## Parametric tests"
   ]
  },
  {
   "cell_type": "markdown",
   "metadata": {},
   "source": [
    "### T test"
   ]
  },
  {
   "cell_type": "code",
   "execution_count": 17,
   "metadata": {
    "ExecuteTime": {
     "end_time": "2020-06-10T10:02:16.034470Z",
     "start_time": "2020-06-10T10:02:16.028680Z"
    }
   },
   "outputs": [
    {
     "name": "stdout",
     "output_type": "stream",
     "text": [
      "pvalue = 1.3980610122763659e-14\n"
     ]
    }
   ],
   "source": [
    "from scipy import stats\n",
    "\n",
    "# 1 sample t test\n",
    "res =stats.ttest_1samp(df.Attack, 70)\n",
    "print(\"pvalue = {}\".format(res[1]))"
   ]
  },
  {
   "cell_type": "code",
   "execution_count": 5,
   "metadata": {
    "ExecuteTime": {
     "end_time": "2020-05-25T15:19:51.772218Z",
     "start_time": "2020-05-25T15:19:51.763252Z"
    }
   },
   "outputs": [
    {
     "name": "stdout",
     "output_type": "stream",
     "text": [
      "pvalue = 3.0952457469652825e-52\n"
     ]
    }
   ],
   "source": [
    "# 2 samples t test\n",
    "\n",
    "res = stats.ttest_ind(df[df.Legendary][\"Total\"], df[~df.Legendary][\"Total\"])\n",
    "print(\"pvalue = {}\".format(res[1]))"
   ]
  },
  {
   "cell_type": "code",
   "execution_count": 9,
   "metadata": {
    "ExecuteTime": {
     "end_time": "2020-05-25T15:20:28.151995Z",
     "start_time": "2020-05-25T15:20:28.144008Z"
    }
   },
   "outputs": [
    {
     "name": "stdout",
     "output_type": "stream",
     "text": [
      "pvalue = 1.7140303479358558e-05\n"
     ]
    }
   ],
   "source": [
    "# paired t test\n",
    "\n",
    "res = stats.ttest_rel(df[\"Defense\"], df[\"Attack\"])\n",
    "print(\"pvalue = {}\".format(res[1]))"
   ]
  },
  {
   "cell_type": "code",
   "execution_count": 30,
   "metadata": {
    "ExecuteTime": {
     "end_time": "2020-06-03T15:51:46.436990Z",
     "start_time": "2020-06-03T15:51:46.422494Z"
    }
   },
   "outputs": [
    {
     "name": "stdout",
     "output_type": "stream",
     "text": [
      "[0.55991406490144402, 0.50173627395639475, 0.27186073756153178]\n",
      "(array([False, False, False], dtype=bool), array([ 1.        ,  1.        ,  0.81558221]), 0.016952427508441503, 0.016666666666666666)\n"
     ]
    }
   ],
   "source": [
    "# multiple ttest\n",
    "\n",
    "t_result_1v2= stats.ttest_ind(df[df.Generation == 1].Total, df[df.Generation == 2].Total)\n",
    "t_result_1v3= stats.ttest_ind(df[df.Generation == 1].Total, df[df.Generation == 3].Total)\n",
    "t_result_2v3= stats.ttest_ind(df[df.Generation == 2].Total, df[df.Generation == 3].Total)\n",
    "\n",
    "pvals_array = [t_result_1v2[1], t_result_1v3[1], t_result_2v3[1]]\n",
    "print(pvals_array)\n",
    "\n",
    "# Perform Bonferroni correction\n",
    "adjustedvalues = sm.stats.multitest.multipletests(pvals_array, alpha=0.05, method=\"b\")\n",
    "print(adjustedvalues)"
   ]
  },
  {
   "cell_type": "markdown",
   "metadata": {},
   "source": [
    "### testing proportion (chi-square, Fisher exact)"
   ]
  },
  {
   "cell_type": "markdown",
   "metadata": {},
   "source": [
    "* Fisher is to chi-square what two sample t test is to simple t test"
   ]
  },
  {
   "cell_type": "code",
   "execution_count": 16,
   "metadata": {
    "ExecuteTime": {
     "end_time": "2020-05-20T13:15:49.816330Z",
     "start_time": "2020-05-20T13:15:49.810632Z"
    }
   },
   "outputs": [
    {
     "data": {
      "text/plain": [
       "Power_divergenceResult(statistic=47.364999999999995, pvalue=4.7866570174121113e-09)"
      ]
     },
     "execution_count": 16,
     "metadata": {},
     "output_type": "execute_result"
    }
   ],
   "source": [
    "legend = df[\"Generation\"].value_counts()\n",
    "\n",
    "stats.chisquare(legend)"
   ]
  },
  {
   "cell_type": "code",
   "execution_count": 30,
   "metadata": {
    "ExecuteTime": {
     "end_time": "2020-05-20T13:21:06.899777Z",
     "start_time": "2020-05-20T13:21:06.867767Z"
    }
   },
   "outputs": [
    {
     "data": {
      "text/html": [
       "<div>\n",
       "<style scoped>\n",
       "    .dataframe tbody tr th:only-of-type {\n",
       "        vertical-align: middle;\n",
       "    }\n",
       "\n",
       "    .dataframe tbody tr th {\n",
       "        vertical-align: top;\n",
       "    }\n",
       "\n",
       "    .dataframe thead th {\n",
       "        text-align: right;\n",
       "    }\n",
       "</style>\n",
       "<table border=\"1\" class=\"dataframe\">\n",
       "  <thead>\n",
       "    <tr style=\"text-align: right;\">\n",
       "      <th>Legendary</th>\n",
       "      <th>False</th>\n",
       "      <th>True</th>\n",
       "    </tr>\n",
       "    <tr>\n",
       "      <th>Generation</th>\n",
       "      <th></th>\n",
       "      <th></th>\n",
       "    </tr>\n",
       "  </thead>\n",
       "  <tbody>\n",
       "    <tr>\n",
       "      <th>1</th>\n",
       "      <td>160</td>\n",
       "      <td>6</td>\n",
       "    </tr>\n",
       "    <tr>\n",
       "      <th>3</th>\n",
       "      <td>142</td>\n",
       "      <td>18</td>\n",
       "    </tr>\n",
       "  </tbody>\n",
       "</table>\n",
       "</div>"
      ],
      "text/plain": [
       "Legendary   False  True \n",
       "Generation              \n",
       "1             160      6\n",
       "3             142     18"
      ]
     },
     "metadata": {},
     "output_type": "display_data"
    },
    {
     "data": {
      "text/plain": [
       "(3.380281690140845, 0.010174685927981623)"
      ]
     },
     "execution_count": 30,
     "metadata": {},
     "output_type": "execute_result"
    }
   ],
   "source": [
    "table = pd.crosstab(df[df.Generation.isin([1,3])].Generation, df.Legendary)\n",
    "display(table)\n",
    "stats.fisher_exact(table, alternative=\"two-sided\")"
   ]
  },
  {
   "cell_type": "markdown",
   "metadata": {},
   "source": [
    "### correlation test"
   ]
  },
  {
   "cell_type": "code",
   "execution_count": 34,
   "metadata": {
    "ExecuteTime": {
     "end_time": "2020-05-20T13:22:44.915597Z",
     "start_time": "2020-05-20T13:22:44.504346Z"
    }
   },
   "outputs": [
    {
     "data": {
      "image/png": "[encoded data removed]",
      "text/plain": [
       "<Figure size 640x480 with 1 Axes>"
      ]
     },
     "metadata": {},
     "output_type": "display_data"
    },
    {
     "name": "stdout",
     "output_type": "stream",
     "text": [
      "<ggplot: (-9223363254418097229)>\n",
      "(0.38123973924108973, 4.4799033780532703e-29)\n"
     ]
    }
   ],
   "source": [
    "import plotnine as p9\n",
    "print(p9.ggplot(df) + p9.aes(x=\"Attack\", y=\"Speed\") + p9.geom_point())\n",
    "\n",
    "pearson = stats.pearsonr(df.Attack, df.Speed)\n",
    "print(pearson)"
   ]
  },
  {
   "cell_type": "markdown",
   "metadata": {},
   "source": [
    "### ANOVA"
   ]
  },
  {
   "cell_type": "code",
   "execution_count": 13,
   "metadata": {
    "ExecuteTime": {
     "end_time": "2020-05-29T14:36:01.176479Z",
     "start_time": "2020-05-29T14:36:01.114411Z"
    }
   },
   "outputs": [
    {
     "data": {
      "text/plain": [
       "F_onewayResult(statistic=1.3820785268048337, pvalue=0.25217171431194962)"
      ]
     },
     "execution_count": 13,
     "metadata": {},
     "output_type": "execute_result"
    }
   ],
   "source": [
    "gen1 = df[df.Generation == 1].HP\n",
    "gen2 = df[df.Generation == 2].HP\n",
    "gen3 = df[df.Generation == 3].HP\n",
    "\n",
    "stats.f_oneway(gen1, gen2, gen3)"
   ]
  },
  {
   "cell_type": "code",
   "execution_count": 26,
   "metadata": {
    "ExecuteTime": {
     "end_time": "2020-05-29T14:48:07.938829Z",
     "start_time": "2020-05-29T14:48:07.645674Z"
    }
   },
   "outputs": [
    {
     "data": {
      "text/html": [
       "<div>\n",
       "<style scoped>\n",
       "    .dataframe tbody tr th:only-of-type {\n",
       "        vertical-align: middle;\n",
       "    }\n",
       "\n",
       "    .dataframe tbody tr th {\n",
       "        vertical-align: top;\n",
       "    }\n",
       "\n",
       "    .dataframe thead th {\n",
       "        text-align: right;\n",
       "    }\n",
       "</style>\n",
       "<table border=\"1\" class=\"dataframe\">\n",
       "  <thead>\n",
       "    <tr style=\"text-align: right;\">\n",
       "      <th></th>\n",
       "      <th>sum_sq</th>\n",
       "      <th>df</th>\n",
       "      <th>F</th>\n",
       "      <th>PR(&gt;F)</th>\n",
       "    </tr>\n",
       "  </thead>\n",
       "  <tbody>\n",
       "    <tr>\n",
       "      <th>Generation</th>\n",
       "      <td>5912.184969</td>\n",
       "      <td>5.0</td>\n",
       "      <td>1.966967</td>\n",
       "      <td>8.133154e-02</td>\n",
       "    </tr>\n",
       "    <tr>\n",
       "      <th>Legendary</th>\n",
       "      <td>38464.613952</td>\n",
       "      <td>1.0</td>\n",
       "      <td>63.985332</td>\n",
       "      <td>4.469561e-15</td>\n",
       "    </tr>\n",
       "    <tr>\n",
       "      <th>Generation:Legendary</th>\n",
       "      <td>2343.813975</td>\n",
       "      <td>5.0</td>\n",
       "      <td>0.779780</td>\n",
       "      <td>5.643852e-01</td>\n",
       "    </tr>\n",
       "    <tr>\n",
       "      <th>Residual</th>\n",
       "      <td>473704.124970</td>\n",
       "      <td>788.0</td>\n",
       "      <td>NaN</td>\n",
       "      <td>NaN</td>\n",
       "    </tr>\n",
       "  </tbody>\n",
       "</table>\n",
       "</div>"
      ],
      "text/plain": [
       "                             sum_sq     df          F        PR(>F)\n",
       "Generation              5912.184969    5.0   1.966967  8.133154e-02\n",
       "Legendary              38464.613952    1.0  63.985332  4.469561e-15\n",
       "Generation:Legendary    2343.813975    5.0   0.779780  5.643852e-01\n",
       "Residual              473704.124970  788.0        NaN           NaN"
      ]
     },
     "execution_count": 26,
     "metadata": {},
     "output_type": "execute_result"
    }
   ],
   "source": [
    "import statsmodels as sm\n",
    "\n",
    "formula = 'HP ~ Generation * Legendary' #HP ~ Generation + Legendary + Generation:Legendary\n",
    "model = sm.formula.api.ols(formula, data=df).fit()\n",
    "\n",
    "aov_table = sm.api.stats.anova_lm(model, typ=2)\n",
    "aov_table"
   ]
  },
  {
   "cell_type": "markdown",
   "metadata": {},
   "source": [
    "### Normality tests"
   ]
  },
  {
   "cell_type": "code",
   "execution_count": 33,
   "metadata": {
    "ExecuteTime": {
     "end_time": "2020-06-12T14:03:20.578084Z",
     "start_time": "2020-06-12T14:03:17.197994Z"
    }
   },
   "outputs": [
    {
     "data": {
      "image/png": "[encoded data removed]",
      "text/plain": [
       "<Figure size 640x480 with 1 Axes>"
      ]
     },
     "metadata": {},
     "output_type": "display_data"
    },
    {
     "name": "stdout",
     "output_type": "stream",
     "text": [
      "<ggplot: (-9223363304045841257)>\n"
     ]
    }
   ],
   "source": [
    "from scipy import stats\n",
    "import plotnine as p9\n",
    "\n",
    "tq = stats.probplot(df.Total, dist=\"norm\")\n",
    "\n",
    "tqdf = pd.DataFrame(data= {'Theoretical Quantiles': tq[0][0], \n",
    "                         \"Ordered Values\": df.Total.sort_values() })\n",
    "# Create Q-Q plot\n",
    "print(p9.ggplot(tqdf)+ p9.aes(\"Theoretical Quantiles\", \"Ordered Values\") +p9.geom_point())"
   ]
  },
  {
   "cell_type": "code",
   "execution_count": 35,
   "metadata": {
    "ExecuteTime": {
     "end_time": "2020-06-12T14:06:27.304311Z",
     "start_time": "2020-06-12T14:06:27.288384Z"
    }
   },
   "outputs": [
    {
     "data": {
      "text/plain": [
       "(0.9817469120025635, 1.932413695726609e-08)"
      ]
     },
     "execution_count": 35,
     "metadata": {},
     "output_type": "execute_result"
    }
   ],
   "source": [
    "# Shapiro-Wilk\n",
    "# H0: data is normally distributed\n",
    "# for small sample size. When sample size is large, usually no need to check for normality\n",
    "\n",
    "stats.shapiro(df.Total)"
   ]
  },
  {
   "cell_type": "markdown",
   "metadata": {},
   "source": [
    "## Non parametric tests"
   ]
  },
  {
   "cell_type": "markdown",
   "metadata": {},
   "source": [
    "### Wilcoxon sum rank test - Mann-whitney U test"
   ]
  },
  {
   "cell_type": "code",
   "execution_count": 36,
   "metadata": {
    "ExecuteTime": {
     "end_time": "2020-06-12T14:13:51.836591Z",
     "start_time": "2020-06-12T14:13:51.829161Z"
    }
   },
   "outputs": [
    {
     "data": {
      "text/plain": [
       "RanksumsResult(statistic=12.54471531401145, pvalue=4.2493873394270626e-36)"
      ]
     },
     "execution_count": 36,
     "metadata": {},
     "output_type": "execute_result"
    }
   ],
   "source": [
    "res = stats.ranksums(df[df.Legendary][\"Total\"], df[~df.Legendary][\"Total\"])\n",
    "res"
   ]
  },
  {
   "cell_type": "code",
   "execution_count": null,
   "metadata": {},
   "outputs": [],
   "source": [
    "# Wilcoxon signed rank test - equivelent to paired t test\n",
    "stats.wilcoxon()"
   ]
  },
  {
   "cell_type": "markdown",
   "metadata": {},
   "source": [
    "### Spearman correlation"
   ]
  },
  {
   "cell_type": "code",
   "execution_count": 37,
   "metadata": {
    "ExecuteTime": {
     "end_time": "2020-06-12T14:28:57.904414Z",
     "start_time": "2020-06-12T14:28:57.899088Z"
    }
   },
   "outputs": [
    {
     "data": {
      "text/plain": [
       "SpearmanrResult(correlation=0.7201309606515206, pvalue=8.2588609523935911e-129)"
      ]
     },
     "execution_count": 37,
     "metadata": {},
     "output_type": "execute_result"
    }
   ],
   "source": [
    "stats.spearmanr(df.Total, df.Attack)"
   ]
  },
  {
   "cell_type": "markdown",
   "metadata": {},
   "source": [
    "## Sample size, alpha, power and effect size"
   ]
  },
  {
   "cell_type": "code",
   "execution_count": 14,
   "metadata": {
    "ExecuteTime": {
     "end_time": "2020-06-10T09:54:13.512698Z",
     "start_time": "2020-06-10T09:54:13.500495Z"
    }
   },
   "outputs": [
    {
     "name": "stdout",
     "output_type": "stream",
     "text": [
      "81.13524297426882\n"
     ]
    }
   ],
   "source": [
    "from statsmodels.stats import power as pwr\n",
    "\n",
    "# Set parameters\n",
    "effect = 0.4\n",
    "power = 0.8\n",
    "alpha = 0.05\n",
    "\n",
    "# Calculate ratio\n",
    "gen1 = float(len(df[df.Generation == 1]))\n",
    "gen2 = float(len(df[df.Generation == 2]))\n",
    "ratio = gen1/gen2\n",
    "\n",
    "# Initialize analysis and calculate sample size\n",
    "analysis = pwr.TTestIndPower()\n",
    "ssresult = analysis.solve_power(effect_size=effect, power=power, alpha= alpha, nobs1=None, ratio=ratio)\n",
    "print(ssresult)"
   ]
  },
  {
   "cell_type": "code",
   "execution_count": 27,
   "metadata": {
    "ExecuteTime": {
     "end_time": "2020-06-12T13:26:40.111035Z",
     "start_time": "2020-06-12T13:26:40.097405Z"
    }
   },
   "outputs": [
    {
     "name": "stdout",
     "output_type": "stream",
     "text": [
      "Power = 0.999\n"
     ]
    }
   ],
   "source": [
    "effect = 0.5\n",
    "sample_size = len(df[df.Generation == 1])\n",
    "alpha = 0.05\n",
    "\n",
    "# Calculate ratio\n",
    "gen1 = float(len(df[df.Generation == 1]))\n",
    "gen2 = float(len(df[df.Generation == 2]))\n",
    "ratio = gen1/gen2\n",
    "\n",
    "# Initialize analysis and calculate sample size\n",
    "analysis = pwr.TTestIndPower()\n",
    "ssresult = analysis.solve_power(effect_size=effect, power=None, alpha= alpha, nobs1=sample_size, ratio=ratio)\n",
    "print(\"Power = {:.3f}\".format(ssresult))"
   ]
  },
  {
   "cell_type": "markdown",
   "metadata": {},
   "source": [
    "cohen'd = normalized difference between the means (way to asses effect size between continuous and categorical variable\n",
    "odds ratio = how much one event is associated with the other (for categorical vars)"
   ]
  },
  {
   "cell_type": "code",
   "execution_count": 15,
   "metadata": {
    "ExecuteTime": {
     "end_time": "2020-06-10T09:54:36.178616Z",
     "start_time": "2020-06-10T09:54:35.957731Z"
    }
   },
   "outputs": [
    {
     "name": "stdout",
     "output_type": "stream",
     "text": [
      "2.53294840577\n"
     ]
    },
    {
     "data": {
      "text/plain": [
       "0.3599791820339769"
      ]
     },
     "execution_count": 15,
     "metadata": {},
     "output_type": "execute_result"
    },
    {
     "data": {
      "image/png": "[encoded data removed]",
      "text/plain": [
       "<Figure size 432x288 with 1 Axes>"
      ]
     },
     "metadata": {
      "needs_background": "light"
     },
     "output_type": "display_data"
    }
   ],
   "source": [
    "import math\n",
    "\n",
    "sampleA = df[df.Legendary].Total\n",
    "sampleB = df[~df.Legendary].Total\n",
    "\n",
    "pooled_sd = math.sqrt((sampleA.std()**2 + sampleB.std()**2)/2)\n",
    "cohensd = abs(sampleA.mean() - sampleB.mean()) / pooled_sd\n",
    "print(cohensd)\n",
    "sampleA.hist(alpha=0.5)\n",
    "sampleB.hist(alpha=0.5)\n",
    "\n",
    "analysis.solve_power(effect_size=None, power=power, alpha= alpha, nobs1=100, ratio=ratio)"
   ]
  },
  {
   "cell_type": "code",
   "execution_count": 23,
   "metadata": {
    "ExecuteTime": {
     "end_time": "2020-06-10T10:03:13.660930Z",
     "start_time": "2020-06-10T10:03:13.632891Z"
    }
   },
   "outputs": [
    {
     "name": "stdout",
     "output_type": "stream",
     "text": [
      "Generation    1   6\n",
      "Legendary          \n",
      "False       160  74\n",
      "True          6   8\n",
      "p-value of test: 0.07541\n",
      "Odds ratio between groups: 2.9\n"
     ]
    }
   ],
   "source": [
    "# Create a table of cross-tabulations\n",
    "table = pd.crosstab(df.Legendary, df[df.Generation.isin([1,6])].Generation)\n",
    "print(table)\n",
    "\n",
    "# Perform the Fisher exact test\n",
    "chi = stats.fisher_exact(table, alternative=\"two-sided\")\n",
    "\n",
    "# Print p-value\n",
    "print(\"p-value of test: \" + str(round(chi[1], 5))  )\n",
    "\n",
    "# Print odds ratio  \n",
    "print(\"Odds ratio between groups: \" + str(round(chi[0], 1))  )"
   ]
  },
  {
   "cell_type": "markdown",
   "metadata": {},
   "source": [
    "## GLM"
   ]
  },
  {
   "cell_type": "code",
   "execution_count": 3,
   "metadata": {
    "ExecuteTime": {
     "end_time": "2020-02-10T15:46:56.016741Z",
     "start_time": "2020-02-10T15:46:56.008004Z"
    }
   },
   "outputs": [],
   "source": [
    "from statsmodels.formula.api import ols, glm"
   ]
  },
  {
   "cell_type": "code",
   "execution_count": 40,
   "metadata": {
    "ExecuteTime": {
     "end_time": "2020-02-10T16:11:46.390172Z",
     "start_time": "2020-02-10T16:11:46.110860Z"
    }
   },
   "outputs": [
    {
     "name": "stdout",
     "output_type": "stream",
     "text": [
      "                 Generalized Linear Model Regression Results                  \n",
      "==============================================================================\n",
      "Dep. Variable:                  Total   No. Observations:                  800\n",
      "Model:                            GLM   Df Residuals:                      792\n",
      "Model Family:                Gaussian   Df Model:                            7\n",
      "Link Function:               identity   Scale:                          5618.6\n",
      "Method:                          IRLS   Log-Likelihood:                -4584.7\n",
      "Date:                Mon, 10 Feb 2020   Deviance:                   4.4499e+06\n",
      "Time:                        17:11:46   Pearson chi2:                 4.45e+06\n",
      "No. Iterations:                     3   Covariance Type:             nonrobust\n",
      "======================================================================================\n",
      "                         coef    std err          z      P>|z|      [0.025      0.975]\n",
      "--------------------------------------------------------------------------------------\n",
      "Intercept            357.4910      8.711     41.037      0.000     340.417     374.565\n",
      "C(Generation)[T.2]    -3.3451      9.349     -0.358      0.720     -21.668      14.978\n",
      "C(Generation)[T.3]    -6.7809      8.318     -0.815      0.415     -23.083       9.521\n",
      "C(Generation)[T.4]    11.6783      8.980      1.301      0.193      -5.922      29.278\n",
      "C(Generation)[T.5]    -3.7640      8.256     -0.456      0.648     -19.945      12.417\n",
      "C(Generation)[T.6]     5.6921     10.132      0.562      0.574     -14.165      25.550\n",
      "center(Attack)         1.3516      0.143      9.420      0.000       1.070       1.633\n",
      "Attack:Defense         0.0124      0.001     11.690      0.000       0.010       0.014\n",
      "======================================================================================\n",
      "                 Generalized Linear Model Regression Results                  \n",
      "==============================================================================\n",
      "Dep. Variable:                  Total   No. Observations:                  800\n",
      "Model:                            GLM   Df Residuals:                      792\n",
      "Model Family:                 Poisson   Df Model:                            7\n",
      "Link Function:                    log   Scale:                          1.0000\n",
      "Method:                          IRLS   Log-Likelihood:                -8952.0\n",
      "Date:                Mon, 10 Feb 2020   Deviance:                       11605.\n",
      "Time:                        17:11:46   Pearson chi2:                 1.17e+04\n",
      "No. Iterations:                     4   Covariance Type:             nonrobust\n",
      "======================================================================================\n",
      "                         coef    std err          z      P>|z|      [0.025      0.975]\n",
      "--------------------------------------------------------------------------------------\n",
      "Intercept              5.9181      0.005   1127.208      0.000       5.908       5.928\n",
      "C(Generation)[T.2]    -0.0141      0.006     -2.311      0.021      -0.026      -0.002\n",
      "C(Generation)[T.3]    -0.0223      0.005     -4.168      0.000      -0.033      -0.012\n",
      "C(Generation)[T.4]     0.0284      0.006      5.006      0.000       0.017       0.040\n",
      "C(Generation)[T.5]    -0.0062      0.005     -1.169      0.242      -0.017       0.004\n",
      "C(Generation)[T.6]     0.0161      0.006      2.475      0.013       0.003       0.029\n",
      "center(Attack)         0.0034   8.56e-05     39.935      0.000       0.003       0.004\n",
      "Attack:Defense      2.204e-05   5.93e-07     37.138      0.000    2.09e-05    2.32e-05\n",
      "======================================================================================\n"
     ]
    }
   ],
   "source": [
    "formula = 'Total ~ Attack + Attack:Defense + C(Generation)' # include interaction and specify categorical variables\n",
    "\n",
    "family_LM = sm.families.Gaussian()\n",
    "family_GLM = sm.families.Poisson()\n",
    "\n",
    "model_LM = glm(formula = formula, data = df, family = family_LM).fit()\n",
    "print(model_LM.summary())\n",
    "\n",
    "model_GLM = glm(formula = formula, data = df, family = family_GLM).fit()\n",
    "print(model_GLM.summary())"
   ]
  },
  {
   "attachments": {
    "image.png": {
     "image/png": "[encoded data removed]"
    }
   },
   "cell_type": "markdown",
   "metadata": {},
   "source": [
    "![image.png](attachment:image.png)"
   ]
  },
  {
   "cell_type": "code",
   "execution_count": 4,
   "metadata": {
    "ExecuteTime": {
     "end_time": "2019-12-18T10:27:19.227155Z",
     "start_time": "2019-12-18T10:27:18.933872Z"
    }
   },
   "outputs": [
    {
     "name": "stdout",
     "output_type": "stream",
     "text": [
      "Intercept    13.023260\n",
      "Total        -0.021349\n",
      "HP           -0.019516\n",
      "Total:HP      0.000036\n",
      "dtype: float64\n",
      "                   0          1\n",
      "Intercept  12.527414  13.519107\n",
      "Total      -0.022213  -0.020485\n",
      "HP         -0.024658  -0.014374\n",
      "Total:HP    0.000027   0.000045\n"
     ]
    },
    {
     "name": "stderr",
     "output_type": "stream",
     "text": [
      "/work/jupyterhub/id860112/envs/My_Python_3.5/lib/python3.5/site-packages/statsmodels/genmod/families/family.py:880: RuntimeWarning: invalid value encountered in true_divide\n",
      "  n_endog_mu = self._clean((1. - endog) / (1. - mu))\n"
     ]
    }
   ],
   "source": [
    "formula = 'Legendary ~ Total*HP'\n",
    "\n",
    "family_GLM = sm.families.Binomial(link = sm.families.links.probit)\n",
    "\n",
    "model_GLM = glm(formula = formula, data = df, family = family_GLM).fit()\n",
    "# print(model_GLM.summary())\n",
    "print(model_GLM.params)\n",
    "print(model_GLM.conf_int(alpha=0.9))"
   ]
  },
  {
   "cell_type": "markdown",
   "metadata": {},
   "source": [
    "### Formula with patsy"
   ]
  },
  {
   "cell_type": "code",
   "execution_count": 64,
   "metadata": {
    "ExecuteTime": {
     "end_time": "2020-02-10T16:24:19.227175Z",
     "start_time": "2020-02-10T16:24:18.956256Z"
    }
   },
   "outputs": [
    {
     "data": {
      "text/html": [
       "<div>\n",
       "<style scoped>\n",
       "    .dataframe tbody tr th:only-of-type {\n",
       "        vertical-align: middle;\n",
       "    }\n",
       "\n",
       "    .dataframe tbody tr th {\n",
       "        vertical-align: top;\n",
       "    }\n",
       "\n",
       "    .dataframe thead th {\n",
       "        text-align: right;\n",
       "    }\n",
       "</style>\n",
       "<table border=\"1\" class=\"dataframe\">\n",
       "  <thead>\n",
       "    <tr style=\"text-align: right;\">\n",
       "      <th></th>\n",
       "      <th>Intercept</th>\n",
       "      <th>C(Generation)[T.2]</th>\n",
       "      <th>C(Generation)[T.3]</th>\n",
       "      <th>C(Generation)[T.4]</th>\n",
       "      <th>C(Generation)[T.5]</th>\n",
       "      <th>C(Generation)[T.6]</th>\n",
       "      <th>Attack</th>\n",
       "      <th>Defense</th>\n",
       "    </tr>\n",
       "  </thead>\n",
       "  <tbody>\n",
       "    <tr>\n",
       "      <th>0</th>\n",
       "      <td>1.0</td>\n",
       "      <td>0.0</td>\n",
       "      <td>0.0</td>\n",
       "      <td>0.0</td>\n",
       "      <td>0.0</td>\n",
       "      <td>0.0</td>\n",
       "      <td>49.0</td>\n",
       "      <td>49.0</td>\n",
       "    </tr>\n",
       "    <tr>\n",
       "      <th>1</th>\n",
       "      <td>1.0</td>\n",
       "      <td>0.0</td>\n",
       "      <td>0.0</td>\n",
       "      <td>0.0</td>\n",
       "      <td>0.0</td>\n",
       "      <td>0.0</td>\n",
       "      <td>62.0</td>\n",
       "      <td>63.0</td>\n",
       "    </tr>\n",
       "    <tr>\n",
       "      <th>2</th>\n",
       "      <td>1.0</td>\n",
       "      <td>0.0</td>\n",
       "      <td>0.0</td>\n",
       "      <td>0.0</td>\n",
       "      <td>0.0</td>\n",
       "      <td>0.0</td>\n",
       "      <td>82.0</td>\n",
       "      <td>83.0</td>\n",
       "    </tr>\n",
       "    <tr>\n",
       "      <th>3</th>\n",
       "      <td>1.0</td>\n",
       "      <td>0.0</td>\n",
       "      <td>0.0</td>\n",
       "      <td>0.0</td>\n",
       "      <td>0.0</td>\n",
       "      <td>0.0</td>\n",
       "      <td>100.0</td>\n",
       "      <td>123.0</td>\n",
       "    </tr>\n",
       "    <tr>\n",
       "      <th>4</th>\n",
       "      <td>1.0</td>\n",
       "      <td>0.0</td>\n",
       "      <td>0.0</td>\n",
       "      <td>0.0</td>\n",
       "      <td>0.0</td>\n",
       "      <td>0.0</td>\n",
       "      <td>52.0</td>\n",
       "      <td>43.0</td>\n",
       "    </tr>\n",
       "  </tbody>\n",
       "</table>\n",
       "</div>"
      ],
      "text/plain": [
       "   Intercept  C(Generation)[T.2]  C(Generation)[T.3]  C(Generation)[T.4]  \\\n",
       "0        1.0                 0.0                 0.0                 0.0   \n",
       "1        1.0                 0.0                 0.0                 0.0   \n",
       "2        1.0                 0.0                 0.0                 0.0   \n",
       "3        1.0                 0.0                 0.0                 0.0   \n",
       "4        1.0                 0.0                 0.0                 0.0   \n",
       "\n",
       "   C(Generation)[T.5]  C(Generation)[T.6]  Attack  Defense  \n",
       "0                 0.0                 0.0    49.0     49.0  \n",
       "1                 0.0                 0.0    62.0     63.0  \n",
       "2                 0.0                 0.0    82.0     83.0  \n",
       "3                 0.0                 0.0   100.0    123.0  \n",
       "4                 0.0                 0.0    52.0     43.0  "
      ]
     },
     "metadata": {},
     "output_type": "display_data"
    },
    {
     "data": {
      "text/html": [
       "<div>\n",
       "<style scoped>\n",
       "    .dataframe tbody tr th:only-of-type {\n",
       "        vertical-align: middle;\n",
       "    }\n",
       "\n",
       "    .dataframe tbody tr th {\n",
       "        vertical-align: top;\n",
       "    }\n",
       "\n",
       "    .dataframe thead th {\n",
       "        text-align: right;\n",
       "    }\n",
       "</style>\n",
       "<table border=\"1\" class=\"dataframe\">\n",
       "  <thead>\n",
       "    <tr style=\"text-align: right;\">\n",
       "      <th></th>\n",
       "      <th>Intercept</th>\n",
       "      <th>I(Attack + Defense)</th>\n",
       "    </tr>\n",
       "  </thead>\n",
       "  <tbody>\n",
       "    <tr>\n",
       "      <th>0</th>\n",
       "      <td>1.0</td>\n",
       "      <td>98.0</td>\n",
       "    </tr>\n",
       "    <tr>\n",
       "      <th>1</th>\n",
       "      <td>1.0</td>\n",
       "      <td>125.0</td>\n",
       "    </tr>\n",
       "    <tr>\n",
       "      <th>2</th>\n",
       "      <td>1.0</td>\n",
       "      <td>165.0</td>\n",
       "    </tr>\n",
       "    <tr>\n",
       "      <th>3</th>\n",
       "      <td>1.0</td>\n",
       "      <td>223.0</td>\n",
       "    </tr>\n",
       "    <tr>\n",
       "      <th>4</th>\n",
       "      <td>1.0</td>\n",
       "      <td>95.0</td>\n",
       "    </tr>\n",
       "  </tbody>\n",
       "</table>\n",
       "</div>"
      ],
      "text/plain": [
       "   Intercept  I(Attack + Defense)\n",
       "0        1.0                 98.0\n",
       "1        1.0                125.0\n",
       "2        1.0                165.0\n",
       "3        1.0                223.0\n",
       "4        1.0                 95.0"
      ]
     },
     "metadata": {},
     "output_type": "display_data"
    },
    {
     "data": {
      "text/html": [
       "<div>\n",
       "<style scoped>\n",
       "    .dataframe tbody tr th:only-of-type {\n",
       "        vertical-align: middle;\n",
       "    }\n",
       "\n",
       "    .dataframe tbody tr th {\n",
       "        vertical-align: top;\n",
       "    }\n",
       "\n",
       "    .dataframe thead th {\n",
       "        text-align: right;\n",
       "    }\n",
       "</style>\n",
       "<table border=\"1\" class=\"dataframe\">\n",
       "  <thead>\n",
       "    <tr style=\"text-align: right;\">\n",
       "      <th></th>\n",
       "      <th>Intercept</th>\n",
       "      <th>np.log(Total)</th>\n",
       "    </tr>\n",
       "  </thead>\n",
       "  <tbody>\n",
       "    <tr>\n",
       "      <th>0</th>\n",
       "      <td>1.0</td>\n",
       "      <td>5.762051</td>\n",
       "    </tr>\n",
       "    <tr>\n",
       "      <th>1</th>\n",
       "      <td>1.0</td>\n",
       "      <td>6.003887</td>\n",
       "    </tr>\n",
       "    <tr>\n",
       "      <th>2</th>\n",
       "      <td>1.0</td>\n",
       "      <td>6.263398</td>\n",
       "    </tr>\n",
       "    <tr>\n",
       "      <th>3</th>\n",
       "      <td>1.0</td>\n",
       "      <td>6.437752</td>\n",
       "    </tr>\n",
       "    <tr>\n",
       "      <th>4</th>\n",
       "      <td>1.0</td>\n",
       "      <td>5.733341</td>\n",
       "    </tr>\n",
       "  </tbody>\n",
       "</table>\n",
       "</div>"
      ],
      "text/plain": [
       "   Intercept  np.log(Total)\n",
       "0        1.0       5.762051\n",
       "1        1.0       6.003887\n",
       "2        1.0       6.263398\n",
       "3        1.0       6.437752\n",
       "4        1.0       5.733341"
      ]
     },
     "metadata": {},
     "output_type": "display_data"
    },
    {
     "data": {
      "text/html": [
       "<div>\n",
       "<style scoped>\n",
       "    .dataframe tbody tr th:only-of-type {\n",
       "        vertical-align: middle;\n",
       "    }\n",
       "\n",
       "    .dataframe tbody tr th {\n",
       "        vertical-align: top;\n",
       "    }\n",
       "\n",
       "    .dataframe thead th {\n",
       "        text-align: right;\n",
       "    }\n",
       "</style>\n",
       "<table border=\"1\" class=\"dataframe\">\n",
       "  <thead>\n",
       "    <tr style=\"text-align: right;\">\n",
       "      <th></th>\n",
       "      <th>Intercept</th>\n",
       "      <th>Attack:Defense</th>\n",
       "    </tr>\n",
       "  </thead>\n",
       "  <tbody>\n",
       "    <tr>\n",
       "      <th>0</th>\n",
       "      <td>1.0</td>\n",
       "      <td>2401.0</td>\n",
       "    </tr>\n",
       "    <tr>\n",
       "      <th>1</th>\n",
       "      <td>1.0</td>\n",
       "      <td>3906.0</td>\n",
       "    </tr>\n",
       "    <tr>\n",
       "      <th>2</th>\n",
       "      <td>1.0</td>\n",
       "      <td>6806.0</td>\n",
       "    </tr>\n",
       "    <tr>\n",
       "      <th>3</th>\n",
       "      <td>1.0</td>\n",
       "      <td>12300.0</td>\n",
       "    </tr>\n",
       "    <tr>\n",
       "      <th>4</th>\n",
       "      <td>1.0</td>\n",
       "      <td>2236.0</td>\n",
       "    </tr>\n",
       "  </tbody>\n",
       "</table>\n",
       "</div>"
      ],
      "text/plain": [
       "   Intercept  Attack:Defense\n",
       "0        1.0          2401.0\n",
       "1        1.0          3906.0\n",
       "2        1.0          6806.0\n",
       "3        1.0         12300.0\n",
       "4        1.0          2236.0"
      ]
     },
     "metadata": {},
     "output_type": "display_data"
    },
    {
     "data": {
      "text/html": [
       "<div>\n",
       "<style scoped>\n",
       "    .dataframe tbody tr th:only-of-type {\n",
       "        vertical-align: middle;\n",
       "    }\n",
       "\n",
       "    .dataframe tbody tr th {\n",
       "        vertical-align: top;\n",
       "    }\n",
       "\n",
       "    .dataframe thead th {\n",
       "        text-align: right;\n",
       "    }\n",
       "</style>\n",
       "<table border=\"1\" class=\"dataframe\">\n",
       "  <thead>\n",
       "    <tr style=\"text-align: right;\">\n",
       "      <th></th>\n",
       "      <th>Intercept</th>\n",
       "      <th>Attack</th>\n",
       "      <th>Defense</th>\n",
       "      <th>Attack:Defense</th>\n",
       "    </tr>\n",
       "  </thead>\n",
       "  <tbody>\n",
       "    <tr>\n",
       "      <th>0</th>\n",
       "      <td>1.0</td>\n",
       "      <td>49.0</td>\n",
       "      <td>49.0</td>\n",
       "      <td>2401.0</td>\n",
       "    </tr>\n",
       "    <tr>\n",
       "      <th>1</th>\n",
       "      <td>1.0</td>\n",
       "      <td>62.0</td>\n",
       "      <td>63.0</td>\n",
       "      <td>3906.0</td>\n",
       "    </tr>\n",
       "    <tr>\n",
       "      <th>2</th>\n",
       "      <td>1.0</td>\n",
       "      <td>82.0</td>\n",
       "      <td>83.0</td>\n",
       "      <td>6806.0</td>\n",
       "    </tr>\n",
       "    <tr>\n",
       "      <th>3</th>\n",
       "      <td>1.0</td>\n",
       "      <td>100.0</td>\n",
       "      <td>123.0</td>\n",
       "      <td>12300.0</td>\n",
       "    </tr>\n",
       "    <tr>\n",
       "      <th>4</th>\n",
       "      <td>1.0</td>\n",
       "      <td>52.0</td>\n",
       "      <td>43.0</td>\n",
       "      <td>2236.0</td>\n",
       "    </tr>\n",
       "  </tbody>\n",
       "</table>\n",
       "</div>"
      ],
      "text/plain": [
       "   Intercept  Attack  Defense  Attack:Defense\n",
       "0        1.0    49.0     49.0          2401.0\n",
       "1        1.0    62.0     63.0          3906.0\n",
       "2        1.0    82.0     83.0          6806.0\n",
       "3        1.0   100.0    123.0         12300.0\n",
       "4        1.0    52.0     43.0          2236.0"
      ]
     },
     "metadata": {},
     "output_type": "display_data"
    }
   ],
   "source": [
    "from patsy import dmatrix # is called by glm function to create intermediate df\n",
    "\n",
    "display(dmatrix('Attack + Defense + C(Generation)', data = df, return_type = 'dataframe').head())\n",
    "\n",
    "display(dmatrix('I(Attack+Defense)', data = df, return_type = 'dataframe').head())\n",
    "\n",
    "display(dmatrix('np.log(Total)', data = df, return_type = 'dataframe').head())\n",
    "\n",
    "display(dmatrix('Attack:Defense', data = df, return_type = 'dataframe').head())\n",
    "\n",
    "display(dmatrix('Attack*Defense', data = df, return_type = 'dataframe').head())"
   ]
  },
  {
   "cell_type": "markdown",
   "metadata": {},
   "source": [
    "### Transformations"
   ]
  },
  {
   "cell_type": "code",
   "execution_count": 53,
   "metadata": {
    "ExecuteTime": {
     "end_time": "2020-02-10T16:14:39.903075Z",
     "start_time": "2020-02-10T16:14:39.849333Z"
    }
   },
   "outputs": [
    {
     "data": {
      "text/html": [
       "<table class=\"simpletable\">\n",
       "<caption>Generalized Linear Model Regression Results</caption>\n",
       "<tr>\n",
       "  <th>Dep. Variable:</th>  <td>['Legendary[False]', 'Legendary[True]']</td> <th>  No. Observations:  </th>  <td>   800</td>  \n",
       "</tr>\n",
       "<tr>\n",
       "  <th>Model:</th>                            <td>GLM</td>                   <th>  Df Residuals:      </th>  <td>   791</td>  \n",
       "</tr>\n",
       "<tr>\n",
       "  <th>Model Family:</th>                  <td>Binomial</td>                 <th>  Df Model:          </th>  <td>     8</td>  \n",
       "</tr>\n",
       "<tr>\n",
       "  <th>Link Function:</th>                   <td>logit</td>                  <th>  Scale:             </th> <td>  1.0000</td> \n",
       "</tr>\n",
       "<tr>\n",
       "  <th>Method:</th>                          <td>IRLS</td>                   <th>  Log-Likelihood:    </th> <td> -81.290</td> \n",
       "</tr>\n",
       "<tr>\n",
       "  <th>Date:</th>                      <td>Mon, 10 Feb 2020</td>             <th>  Deviance:          </th> <td>  162.58</td> \n",
       "</tr>\n",
       "<tr>\n",
       "  <th>Time:</th>                          <td>17:14:39</td>                 <th>  Pearson chi2:      </th>  <td>  184.</td>  \n",
       "</tr>\n",
       "<tr>\n",
       "  <th>No. Iterations:</th>                    <td>9</td>                    <th>  Covariance Type:   </th> <td>nonrobust</td>\n",
       "</tr>\n",
       "</table>\n",
       "<table class=\"simpletable\">\n",
       "<tr>\n",
       "           <td></td>              <th>coef</th>     <th>std err</th>      <th>z</th>      <th>P>|z|</th>  <th>[0.025</th>    <th>0.975]</th>  \n",
       "</tr>\n",
       "<tr>\n",
       "  <th>Intercept</th>           <td>  166.1175</td> <td>   21.515</td> <td>    7.721</td> <td> 0.000</td> <td>  123.948</td> <td>  208.287</td>\n",
       "</tr>\n",
       "<tr>\n",
       "  <th>C(Generation)[T.2]</th>  <td>   -0.8692</td> <td>    0.903</td> <td>   -0.963</td> <td> 0.335</td> <td>   -2.638</td> <td>    0.900</td>\n",
       "</tr>\n",
       "<tr>\n",
       "  <th>C(Generation)[T.3]</th>  <td>   -1.3224</td> <td>    0.739</td> <td>   -1.789</td> <td> 0.074</td> <td>   -2.771</td> <td>    0.126</td>\n",
       "</tr>\n",
       "<tr>\n",
       "  <th>C(Generation)[T.4]</th>  <td>   -1.6272</td> <td>    0.767</td> <td>   -2.122</td> <td> 0.034</td> <td>   -3.130</td> <td>   -0.125</td>\n",
       "</tr>\n",
       "<tr>\n",
       "  <th>C(Generation)[T.5]</th>  <td>   -2.3909</td> <td>    0.769</td> <td>   -3.111</td> <td> 0.002</td> <td>   -3.897</td> <td>   -0.885</td>\n",
       "</tr>\n",
       "<tr>\n",
       "  <th>C(Generation)[T.6]</th>  <td>   -2.1419</td> <td>    0.879</td> <td>   -2.436</td> <td> 0.015</td> <td>   -3.865</td> <td>   -0.418</td>\n",
       "</tr>\n",
       "<tr>\n",
       "  <th>standardize(Attack)</th> <td>    0.7970</td> <td>    0.259</td> <td>    3.083</td> <td> 0.002</td> <td>    0.290</td> <td>    1.304</td>\n",
       "</tr>\n",
       "<tr>\n",
       "  <th>np.log(Total)</th>       <td>  -25.7993</td> <td>    3.375</td> <td>   -7.643</td> <td> 0.000</td> <td>  -32.415</td> <td>  -19.184</td>\n",
       "</tr>\n",
       "<tr>\n",
       "  <th>center(HP)</th>          <td>    0.0102</td> <td>    0.011</td> <td>    0.925</td> <td> 0.355</td> <td>   -0.011</td> <td>    0.032</td>\n",
       "</tr>\n",
       "</table>"
      ],
      "text/plain": [
       "<class 'statsmodels.iolib.summary.Summary'>\n",
       "\"\"\"\n",
       "                            Generalized Linear Model Regression Results                            \n",
       "===================================================================================================\n",
       "Dep. Variable:     ['Legendary[False]', 'Legendary[True]']   No. Observations:                  800\n",
       "Model:                                                 GLM   Df Residuals:                      791\n",
       "Model Family:                                     Binomial   Df Model:                            8\n",
       "Link Function:                                       logit   Scale:                          1.0000\n",
       "Method:                                               IRLS   Log-Likelihood:                -81.290\n",
       "Date:                                     Mon, 10 Feb 2020   Deviance:                       162.58\n",
       "Time:                                             17:14:39   Pearson chi2:                     184.\n",
       "No. Iterations:                                          9   Covariance Type:             nonrobust\n",
       "=======================================================================================\n",
       "                          coef    std err          z      P>|z|      [0.025      0.975]\n",
       "---------------------------------------------------------------------------------------\n",
       "Intercept             166.1175     21.515      7.721      0.000     123.948     208.287\n",
       "C(Generation)[T.2]     -0.8692      0.903     -0.963      0.335      -2.638       0.900\n",
       "C(Generation)[T.3]     -1.3224      0.739     -1.789      0.074      -2.771       0.126\n",
       "C(Generation)[T.4]     -1.6272      0.767     -2.122      0.034      -3.130      -0.125\n",
       "C(Generation)[T.5]     -2.3909      0.769     -3.111      0.002      -3.897      -0.885\n",
       "C(Generation)[T.6]     -2.1419      0.879     -2.436      0.015      -3.865      -0.418\n",
       "standardize(Attack)     0.7970      0.259      3.083      0.002       0.290       1.304\n",
       "np.log(Total)         -25.7993      3.375     -7.643      0.000     -32.415     -19.184\n",
       "center(HP)              0.0102      0.011      0.925      0.355      -0.011       0.032\n",
       "=======================================================================================\n",
       "\"\"\""
      ]
     },
     "execution_count": 53,
     "metadata": {},
     "output_type": "execute_result"
    }
   ],
   "source": [
    "glm(\"Legendary ~ standardize(Attack) + np.log(Total) + center(HP) + C(Generation)\", \n",
    "    data=df, \n",
    "    family = sm.families.Binomial())\\\n",
    "    .fit()\\\n",
    "    .summary()"
   ]
  },
  {
   "cell_type": "code",
   "execution_count": 55,
   "metadata": {
    "ExecuteTime": {
     "end_time": "2020-02-10T16:15:37.850600Z",
     "start_time": "2020-02-10T16:15:37.769956Z"
    }
   },
   "outputs": [
    {
     "data": {
      "text/html": [
       "<table class=\"simpletable\">\n",
       "<caption>Generalized Linear Model Regression Results</caption>\n",
       "<tr>\n",
       "  <th>Dep. Variable:</th>  <td>['Legendary[False]', 'Legendary[True]']</td> <th>  No. Observations:  </th>  <td>   800</td>  \n",
       "</tr>\n",
       "<tr>\n",
       "  <th>Model:</th>                            <td>GLM</td>                   <th>  Df Residuals:      </th>  <td>   797</td>  \n",
       "</tr>\n",
       "<tr>\n",
       "  <th>Model Family:</th>                  <td>Binomial</td>                 <th>  Df Model:          </th>  <td>     2</td>  \n",
       "</tr>\n",
       "<tr>\n",
       "  <th>Link Function:</th>                   <td>logit</td>                  <th>  Scale:             </th> <td>  1.0000</td> \n",
       "</tr>\n",
       "<tr>\n",
       "  <th>Method:</th>                          <td>IRLS</td>                   <th>  Log-Likelihood:    </th> <td> -128.66</td> \n",
       "</tr>\n",
       "<tr>\n",
       "  <th>Date:</th>                      <td>Mon, 10 Feb 2020</td>             <th>  Deviance:          </th> <td>  257.33</td> \n",
       "</tr>\n",
       "<tr>\n",
       "  <th>Time:</th>                          <td>17:15:37</td>                 <th>  Pearson chi2:      </th>  <td>  471.</td>  \n",
       "</tr>\n",
       "<tr>\n",
       "  <th>No. Iterations:</th>                    <td>7</td>                    <th>  Covariance Type:   </th> <td>nonrobust</td>\n",
       "</tr>\n",
       "</table>\n",
       "<table class=\"simpletable\">\n",
       "<tr>\n",
       "           <td></td>              <th>coef</th>     <th>std err</th>      <th>z</th>      <th>P>|z|</th>  <th>[0.025</th>    <th>0.975]</th>  \n",
       "</tr>\n",
       "<tr>\n",
       "  <th>Intercept</th>           <td>   10.1640</td> <td>    0.963</td> <td>   10.557</td> <td> 0.000</td> <td>    8.277</td> <td>   12.051</td>\n",
       "</tr>\n",
       "<tr>\n",
       "  <th>I(Attack + Defense)</th> <td>   -0.0216</td> <td>    0.004</td> <td>   -6.144</td> <td> 0.000</td> <td>   -0.028</td> <td>   -0.015</td>\n",
       "</tr>\n",
       "<tr>\n",
       "  <th>I(HP * Speed)</th>       <td>   -0.0005</td> <td> 6.85e-05</td> <td>   -8.011</td> <td> 0.000</td> <td>   -0.001</td> <td>   -0.000</td>\n",
       "</tr>\n",
       "</table>"
      ],
      "text/plain": [
       "<class 'statsmodels.iolib.summary.Summary'>\n",
       "\"\"\"\n",
       "                            Generalized Linear Model Regression Results                            \n",
       "===================================================================================================\n",
       "Dep. Variable:     ['Legendary[False]', 'Legendary[True]']   No. Observations:                  800\n",
       "Model:                                                 GLM   Df Residuals:                      797\n",
       "Model Family:                                     Binomial   Df Model:                            2\n",
       "Link Function:                                       logit   Scale:                          1.0000\n",
       "Method:                                               IRLS   Log-Likelihood:                -128.66\n",
       "Date:                                     Mon, 10 Feb 2020   Deviance:                       257.33\n",
       "Time:                                             17:15:37   Pearson chi2:                     471.\n",
       "No. Iterations:                                          7   Covariance Type:             nonrobust\n",
       "=======================================================================================\n",
       "                          coef    std err          z      P>|z|      [0.025      0.975]\n",
       "---------------------------------------------------------------------------------------\n",
       "Intercept              10.1640      0.963     10.557      0.000       8.277      12.051\n",
       "I(Attack + Defense)    -0.0216      0.004     -6.144      0.000      -0.028      -0.015\n",
       "I(HP * Speed)          -0.0005   6.85e-05     -8.011      0.000      -0.001      -0.000\n",
       "=======================================================================================\n",
       "\"\"\""
      ]
     },
     "execution_count": 55,
     "metadata": {},
     "output_type": "execute_result"
    }
   ],
   "source": [
    "glm(\"Legendary ~ I(Attack + Defense) + I(HP * Speed)\", # to combine columns\n",
    "    data=df, \n",
    "    family = sm.families.Binomial())\\\n",
    "    .fit()\\\n",
    "    .summary()"
   ]
  },
  {
   "cell_type": "code",
   "execution_count": 10,
   "metadata": {
    "ExecuteTime": {
     "end_time": "2020-02-10T15:54:37.703652Z",
     "start_time": "2020-02-10T15:54:37.694158Z"
    }
   },
   "outputs": [
    {
     "data": {
      "text/plain": [
       "Index(['Name', 'Type 1', 'Type 2', 'Total', 'HP', 'Attack', 'Defense',\n",
       "       'Sp. Atk', 'Sp. Def', 'Speed', 'Generation', 'Legendary'],\n",
       "      dtype='object')"
      ]
     },
     "execution_count": 10,
     "metadata": {},
     "output_type": "execute_result"
    }
   ],
   "source": [
    "df.columns"
   ]
  },
  {
   "cell_type": "markdown",
   "metadata": {},
   "source": [
    "## VIF"
   ]
  },
  {
   "cell_type": "code",
   "execution_count": 22,
   "metadata": {
    "ExecuteTime": {
     "end_time": "2020-02-10T15:57:00.578964Z",
     "start_time": "2020-02-10T15:57:00.509390Z"
    }
   },
   "outputs": [
    {
     "name": "stdout",
     "output_type": "stream",
     "text": [
      "    variables        VIF\n",
      "0       Total  35.456876\n",
      "1      Attack   3.385251\n",
      "2          HP   3.719092\n",
      "3       Speed   4.106130\n",
      "4     Defense   6.193106\n",
      "5     Sp. Atk   5.931702\n",
      "6  Generation   1.007442\n",
      "7   Intercept  19.025144\n"
     ]
    }
   ],
   "source": [
    "from statsmodels.stats.outliers_influence import variance_inflation_factor\n",
    "\n",
    "X = df[[\"Total\", \"Attack\", \"HP\", \"Speed\", \"Defense\", \"Sp. Atk\", \"Generation\"]].copy()\n",
    "X[\"Intercept\"] = 1\n",
    "\n",
    "\n",
    "vif = pd.DataFrame()\n",
    "vif[\"variables\"] = X.columns\n",
    "vif[\"VIF\"] = [variance_inflation_factor(X.values, i) for i in range(X.shape[1])]\n",
    "\n",
    "# View results using print\n",
    "print(vif)\n",
    "\n",
    "# VIF > 2.5 indicates colinearity ...\n",
    "# Here removing Total we get "
   ]
  },
  {
   "cell_type": "code",
   "execution_count": 21,
   "metadata": {
    "ExecuteTime": {
     "end_time": "2020-02-10T15:56:56.270686Z",
     "start_time": "2020-02-10T15:56:56.240867Z"
    }
   },
   "outputs": [
    {
     "name": "stdout",
     "output_type": "stream",
     "text": [
      "    variables        VIF\n",
      "0      Attack   1.690858\n",
      "1          HP   1.299188\n",
      "2       Speed   1.448730\n",
      "3     Defense   1.309681\n",
      "4     Sp. Atk   1.501114\n",
      "5  Generation   1.007434\n",
      "6   Intercept  18.805825\n"
     ]
    }
   ],
   "source": [
    "X = df[[\"Attack\", \"HP\", \"Speed\", \"Defense\", \"Sp. Atk\", \"Generation\"]].copy()\n",
    "X[\"Intercept\"] = 1\n",
    "\n",
    "\n",
    "vif = pd.DataFrame()\n",
    "vif[\"variables\"] = X.columns\n",
    "vif[\"VIF\"] = [variance_inflation_factor(X.values, i) for i in range(X.shape[1])]\n",
    "\n",
    "# View results using print\n",
    "print(vif)"
   ]
  },
  {
   "cell_type": "markdown",
   "metadata": {},
   "source": [
    "## Deviance"
   ]
  },
  {
   "attachments": {
    "image.png": {
     "image/png": "[encoded data removed]"
    }
   },
   "cell_type": "markdown",
   "metadata": {},
   "source": [
    "![image.png](attachment:image.png)"
   ]
  },
  {
   "cell_type": "markdown",
   "metadata": {},
   "source": [
    "* Deviance will always become smaller when adding new variables\n",
    "* But we should have a look at each step when we add a new variable and only keep variable that make the Deviance drop by a big amount"
   ]
  },
  {
   "cell_type": "code",
   "execution_count": 38,
   "metadata": {
    "ExecuteTime": {
     "end_time": "2020-02-10T16:03:10.753299Z",
     "start_time": "2020-02-10T16:03:10.485373Z"
    }
   },
   "outputs": [
    {
     "name": "stdout",
     "output_type": "stream",
     "text": [
      "Null model (intercept only) has deviance = 450.89878533938077\n",
      "New model has deviance = 362.63348074633365\n",
      "\n",
      "New model has deviance = 349.99588892160057\n",
      "\n",
      "New model has deviance = 243.74443184184307\n",
      "\n",
      "                            Generalized Linear Model Regression Results                            \n",
      "===================================================================================================\n",
      "Dep. Variable:     ['Legendary[False]', 'Legendary[True]']   No. Observations:                  800\n",
      "Model:                                                 GLM   Df Residuals:                      790\n",
      "Model Family:                                     Binomial   Df Model:                            9\n",
      "Link Function:                                       logit   Scale:                          1.0000\n",
      "Method:                                               IRLS   Log-Likelihood:                -121.87\n",
      "Date:                                     Mon, 10 Feb 2020   Deviance:                       243.74\n",
      "Time:                                             17:03:10   Pearson chi2:                     414.\n",
      "No. Iterations:                                          8   Covariance Type:             nonrobust\n",
      "======================================================================================\n",
      "                         coef    std err          z      P>|z|      [0.025      0.975]\n",
      "--------------------------------------------------------------------------------------\n",
      "Intercept             16.5521      1.716      9.645      0.000      13.188      19.916\n",
      "C(Generation)[T.2]    -0.5923      0.761     -0.778      0.437      -2.085       0.900\n",
      "C(Generation)[T.3]    -1.4436      0.631     -2.286      0.022      -2.681      -0.206\n",
      "C(Generation)[T.4]    -1.0501      0.646     -1.625      0.104      -2.317       0.216\n",
      "C(Generation)[T.5]    -1.4036      0.621     -2.259      0.024      -2.621      -0.186\n",
      "C(Generation)[T.6]    -1.8150      0.713     -2.544      0.011      -3.213      -0.417\n",
      "HP                    -0.0420      0.008     -5.572      0.000      -0.057      -0.027\n",
      "Attack                -0.0141      0.006     -2.478      0.013      -0.025      -0.003\n",
      "Defense               -0.0362      0.006     -5.656      0.000      -0.049      -0.024\n",
      "Speed                 -0.0583      0.008     -7.143      0.000      -0.074      -0.042\n",
      "======================================================================================\n"
     ]
    }
   ],
   "source": [
    "family = sm.families.Binomial()\n",
    "\n",
    "model = glm(formula = 'Legendary ~ Attack' , data = df, family = family).fit()\n",
    "\n",
    "print(\"Null model (intercept only) has deviance = {}\".format(model.null_deviance))\n",
    "print(\"New model has deviance = {}\\n\".format(model.deviance)) # the lower the better fit but can lead to overfitting\n",
    "\n",
    "model = glm(formula = 'Legendary ~ Attack + Defense' , data = df, family = family).fit()\n",
    "print(\"New model has deviance = {}\\n\".format(model.deviance)) \n",
    "\n",
    "model = glm(formula = 'Legendary ~ HP + Attack + Defense + Speed + C(Generation)' , data = df, family = family).fit()\n",
    "print(\"New model has deviance = {}\\n\".format(model.deviance)) \n",
    "print(model.summary())"
   ]
  },
  {
   "cell_type": "markdown",
   "metadata": {},
   "source": [
    "## A/B testing"
   ]
  },
  {
   "cell_type": "markdown",
   "metadata": {},
   "source": [
    "Hypothesis: pokemon of generation 4 are better than pokemon of generation 2"
   ]
  },
  {
   "cell_type": "code",
   "execution_count": 138,
   "metadata": {
    "ExecuteTime": {
     "end_time": "2020-02-25T15:28:13.356216Z",
     "start_time": "2020-02-25T15:28:13.346927Z"
    }
   },
   "outputs": [
    {
     "name": "stdout",
     "output_type": "stream",
     "text": [
      "Generation\n",
      "2    418.283019\n",
      "4    459.016529\n",
      "Name: Total, dtype: float64\n",
      "Generation\n",
      "2    120.114133\n",
      "4    119.556541\n",
      "Name: Total, dtype: float64\n"
     ]
    }
   ],
   "source": [
    "subset = df[(df.Generation == 2) | (df.Generation == 4)].copy()\n",
    "print(subset.groupby(\"Generation\")[\"Total\"].mean())\n",
    "print(subset.groupby(\"Generation\")[\"Total\"].std())"
   ]
  },
  {
   "cell_type": "code",
   "execution_count": 139,
   "metadata": {
    "ExecuteTime": {
     "end_time": "2020-02-25T15:28:13.800087Z",
     "start_time": "2020-02-25T15:28:13.795231Z"
    }
   },
   "outputs": [],
   "source": [
    "a = subset[subset.Generation == 2][\"Total\"]\n",
    "b = subset[subset.Generation == 4][\"Total\"]\n",
    "\n"
   ]
  },
  {
   "cell_type": "code",
   "execution_count": 155,
   "metadata": {
    "ExecuteTime": {
     "end_time": "2020-02-25T15:31:32.916622Z",
     "start_time": "2020-02-25T15:31:32.910335Z"
    }
   },
   "outputs": [],
   "source": [
    "def display_pvalue_hyp_test(control, treatment):\n",
    "    \"\"\"\n",
    "    (pandas df, pandas df -> None)\n",
    "    Display distributions of both variables and show graphically the pvalue\n",
    "    \"\"\"\n",
    "    \n",
    "    control_mean = control.mean()\n",
    "    control_sd = control.std()\n",
    "    \n",
    "    treatment_mean = treatment.mean()\n",
    "    treatment_sd = treatment.std()\n",
    "    \n",
    "    all_data = np.concatenate([control.values, treatment.values])\n",
    "    \n",
    "    xvals = np.arange(np.min(all_data), np.max(all_data), 0.01)\n",
    "    \n",
    "    H0 = mlab.normpdf(xvals, control_mean, control_sd)\n",
    "    H1 = mlab.normpdf(xvals, treatment_mean, treatment_sd)\n",
    "\n",
    "    plt.plot(xvals, H0, color=\"k\")\n",
    "    plt.plot(xvals, H1, color=\"b\")\n",
    "\n",
    "    pvalue_range = np.arange(treatment_mean, max(all_data), 0.01)\n",
    "\n",
    "    plt.axvline(treatment_mean, color=\"r\")\n",
    "    plt.fill_between(pvalue_range, mlab.normpdf(pvalue_range, control_mean, control_sd), color=\"red\", alpha=0.5)\n",
    "    \n",
    "    plt.show()"
   ]
  },
  {
   "cell_type": "code",
   "execution_count": 157,
   "metadata": {
    "ExecuteTime": {
     "end_time": "2020-02-25T15:32:39.778972Z",
     "start_time": "2020-02-25T15:32:39.558328Z"
    }
   },
   "outputs": [
    {
     "name": "stderr",
     "output_type": "stream",
     "text": [
      "/work/jupyterhub/id860112/envs/My_Python_3.5/lib/python3.5/site-packages/ipykernel_launcher.py:17: MatplotlibDeprecationWarning: scipy.stats.norm.pdf\n",
      "/work/jupyterhub/id860112/envs/My_Python_3.5/lib/python3.5/site-packages/ipykernel_launcher.py:18: MatplotlibDeprecationWarning: scipy.stats.norm.pdf\n",
      "/work/jupyterhub/id860112/envs/My_Python_3.5/lib/python3.5/site-packages/ipykernel_launcher.py:26: MatplotlibDeprecationWarning: scipy.stats.norm.pdf\n"
     ]
    },
    {
     "data": {
      "image/png": "[encoded data removed]",
      "text/plain": [
       "<Figure size 432x288 with 1 Axes>"
      ]
     },
     "metadata": {
      "needs_background": "light"
     },
     "output_type": "display_data"
    }
   ],
   "source": [
    "a = df[~df.Legendary][\"Total\"]\n",
    "b = df[df.Legendary][\"Total\"]\n",
    "display_pvalue_hyp_test(a,b)"
   ]
  },
  {
   "cell_type": "markdown",
   "metadata": {},
   "source": [
    "Hypothesis: proportion of fire pokemon is higher in generation 4 than 2"
   ]
  },
  {
   "cell_type": "code",
   "execution_count": 132,
   "metadata": {
    "ExecuteTime": {
     "end_time": "2020-02-25T15:27:27.590335Z",
     "start_time": "2020-02-25T15:27:27.578362Z"
    }
   },
   "outputs": [
    {
     "name": "stdout",
     "output_type": "stream",
     "text": [
      "Generation\n",
      "2    0.103774\n",
      "4    0.049587\n",
      "Name: is_fire, dtype: float64\n",
      "Generation\n",
      "2    0.306415\n",
      "4    0.217992\n",
      "Name: is_fire, dtype: float64\n"
     ]
    }
   ],
   "source": [
    "subset = df[(df.Generation == 2) | (df.Generation == 4)].copy()\n",
    "subset[\"is_fire\"] = (subset[\"Type 1\"] == \"Fire\") | (subset[\"Type 2\"] == \"Fire\")\n",
    "print(subset.groupby(\"Generation\")[\"is_fire\"].mean())\n",
    "print(subset.groupby(\"Generation\")[\"is_fire\"].std())"
   ]
  },
  {
   "cell_type": "code",
   "execution_count": 133,
   "metadata": {
    "ExecuteTime": {
     "end_time": "2020-02-25T15:27:28.207503Z",
     "start_time": "2020-02-25T15:27:28.024173Z"
    }
   },
   "outputs": [
    {
     "name": "stderr",
     "output_type": "stream",
     "text": [
      "/work/jupyterhub/id860112/envs/My_Python_3.5/lib/python3.5/site-packages/ipykernel_launcher.py:7: MatplotlibDeprecationWarning: scipy.stats.norm.pdf\n",
      "  import sys\n",
      "/work/jupyterhub/id860112/envs/My_Python_3.5/lib/python3.5/site-packages/ipykernel_launcher.py:8: MatplotlibDeprecationWarning: scipy.stats.norm.pdf\n",
      "  \n",
      "/work/jupyterhub/id860112/envs/My_Python_3.5/lib/python3.5/site-packages/ipykernel_launcher.py:17: MatplotlibDeprecationWarning: scipy.stats.norm.pdf\n"
     ]
    },
    {
     "data": {
      "text/plain": [
       "<matplotlib.collections.PolyCollection at 0x7f507630aa58>"
      ]
     },
     "execution_count": 133,
     "metadata": {},
     "output_type": "execute_result"
    },
    {
     "data": {
      "image/png": "[encoded data removed]",
      "text/plain": [
       "<Figure size 432x288 with 1 Axes>"
      ]
     },
     "metadata": {
      "needs_background": "light"
     },
     "output_type": "display_data"
    }
   ],
   "source": [
    "from matplotlib import mlab\n",
    "\n",
    "x = np.arange(-1,1, 1/1000)\n",
    "results = [*zip(subset.groupby(\"Generation\")[\"is_fire\"].mean(), subset.groupby(\"Generation\")[\"is_fire\"].std())]\n",
    "# CI = np.arange(-2, 2, 1/100)\n",
    "\n",
    "H0 = mlab.normpdf(x, results[1][0], results[1][1])\n",
    "H1 = mlab.normpdf(x, results[0][0], results[0][1])\n",
    "\n",
    "plt.plot(x, H0, color=\"k\")\n",
    "plt.plot(x, H1, color=\"b\")\n",
    "\n",
    "critical_value = results[0][0]\n",
    "pvalue_range = np.arange(critical_value, 1, 1/1000)\n",
    "\n",
    "plt.axvline(critical_value, color=\"r\")\n",
    "plt.fill_between(pvalue_range, mlab.normpdf(pvalue_range, results[1][0], results[1][1]), color=\"red\", alpha=0.5)"
   ]
  },
  {
   "cell_type": "code",
   "execution_count": 44,
   "metadata": {
    "ExecuteTime": {
     "end_time": "2020-02-25T13:42:26.327709Z",
     "start_time": "2020-02-25T13:42:26.323390Z"
    }
   },
   "outputs": [],
   "source": [
    "from scipy import stats\n",
    "\n",
    "def get_pvalue(p1, p2, n1, n2):\n",
    "    lift = - abs(p2 - p1)\n",
    "    se1 = (p1 * (1 - p1))/n1\n",
    "    se2 = (p2 * (1 - p2))/n2\n",
    "    se = (se1 + se2)**0.5\n",
    "    \n",
    "    p_value = 2 * stats.norm.cdf(lift, loc=0, scale = se)\n",
    "    \n",
    "    return(p_value)"
   ]
  },
  {
   "cell_type": "code",
   "execution_count": 43,
   "metadata": {
    "ExecuteTime": {
     "end_time": "2020-02-25T13:42:21.049800Z",
     "start_time": "2020-02-25T13:42:21.038503Z"
    }
   },
   "outputs": [
    {
     "data": {
      "text/plain": [
       "1.8720877838746492"
      ]
     },
     "execution_count": 43,
     "metadata": {},
     "output_type": "execute_result"
    }
   ],
   "source": [
    "get_pvalue(0.103774, 0.049587, subset[subset.Generation == 2].shape[0], subset[subset.Generation == 4].shape[0])"
   ]
  },
  {
   "cell_type": "code",
   "execution_count": 73,
   "metadata": {
    "ExecuteTime": {
     "end_time": "2020-02-25T13:54:53.448547Z",
     "start_time": "2020-02-25T13:54:53.297803Z"
    }
   },
   "outputs": [
    {
     "name": "stderr",
     "output_type": "stream",
     "text": [
      "/work/jupyterhub/id860112/envs/My_Python_3.5/lib/python3.5/site-packages/ipykernel_launcher.py:6: MatplotlibDeprecationWarning: scipy.stats.norm.pdf\n",
      "  \n",
      "/work/jupyterhub/id860112/envs/My_Python_3.5/lib/python3.5/site-packages/ipykernel_launcher.py:7: MatplotlibDeprecationWarning: scipy.stats.norm.pdf\n",
      "  import sys\n",
      "/work/jupyterhub/id860112/envs/My_Python_3.5/lib/python3.5/site-packages/ipykernel_launcher.py:8: MatplotlibDeprecationWarning: scipy.stats.norm.pdf\n",
      "  \n"
     ]
    },
    {
     "data": {
      "text/plain": [
       "[<matplotlib.lines.Line2D at 0x7f5076dd29b0>]"
      ]
     },
     "execution_count": 73,
     "metadata": {},
     "output_type": "execute_result"
    },
    {
     "data": {
      "image/png": "[encoded data removed]",
      "text/plain": [
       "<Figure size 432x288 with 1 Axes>"
      ]
     },
     "metadata": {
      "needs_background": "light"
     },
     "output_type": "display_data"
    }
   ],
   "source": [
    "from matplotlib import mlab\n",
    "\n",
    "x = np.arange(-5,8, 1/100)\n",
    "CI = np.arange(-2, 2, 1/100)\n",
    "\n",
    "plt.plot(x, mlab.normpdf(x, 0 , 0.9))\n",
    "plt.fill_between(CI, mlab.normpdf(CI, 0 , 0.9), alpha=0.5)\n",
    "plt.plot(x, mlab.normpdf(x, 3, 0.8))"
   ]
  }
 ],
 "metadata": {
  "kernelspec": {
   "display_name": "Python 3.5",
   "language": "python",
   "name": "my_python_3.5"
  },
  "language_info": {
   "codemirror_mode": {
    "name": "ipython",
    "version": 3
   },
   "file_extension": ".py",
   "mimetype": "text/x-python",
   "name": "python",
   "nbconvert_exporter": "python",
   "pygments_lexer": "ipython3",
   "version": "3.5.5"
  },
  "toc": {
   "base_numbering": 1,
   "nav_menu": {},
   "number_sections": true,
   "sideBar": true,
   "skip_h1_title": false,
   "title_cell": "Table of Contents",
   "title_sidebar": "Contents",
   "toc_cell": false,
   "toc_position": {
    "height": "calc(100% - 180px)",
    "left": "10px",
    "top": "150px",
    "width": "341.313px"
   },
   "toc_section_display": true,
   "toc_window_display": true
  }
 },
 "nbformat": 4,
 "nbformat_minor": 2
}
