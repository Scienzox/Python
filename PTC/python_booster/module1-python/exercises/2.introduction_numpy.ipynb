{
 "cells": [
  {
   "cell_type": "markdown",
   "metadata": {},
   "source": [
    "# Import packages"
   ]
  },
  {
   "cell_type": "markdown",
   "metadata": {},
   "source": [
    "Packages are a set of functions/classes created by someone and which share a common goal"
   ]
  },
  {
   "cell_type": "code",
   "execution_count": 1,
   "metadata": {
    "ExecuteTime": {
     "end_time": "2020-09-17T09:51:39.485750Z",
     "start_time": "2020-09-17T09:51:38.402062Z"
    }
   },
   "outputs": [],
   "source": [
    "import numpy as np"
   ]
  },
  {
   "cell_type": "markdown",
   "metadata": {},
   "source": [
    "Numpy is the most fondamental package for calculations in Python.\n",
    "\n",
    "It allows you to create mathematical operations over vectors, matrices, tensors etc"
   ]
  },
  {
   "cell_type": "markdown",
   "metadata": {},
   "source": [
    "You can also define your own pacakges but that's a bit too advanced for now"
   ]
  },
  {
   "cell_type": "markdown",
   "metadata": {},
   "source": [
    "# Basic maths"
   ]
  },
  {
   "cell_type": "code",
   "execution_count": null,
   "metadata": {
    "ExecuteTime": {
     "end_time": "2020-07-13T14:22:35.843819Z",
     "start_time": "2020-07-13T14:22:35.840091Z"
    }
   },
   "outputs": [],
   "source": [
    "np.sqrt(64)"
   ]
  },
  {
   "cell_type": "code",
   "execution_count": null,
   "metadata": {
    "ExecuteTime": {
     "end_time": "2020-07-13T14:23:58.794593Z",
     "start_time": "2020-07-13T14:23:58.789651Z"
    }
   },
   "outputs": [],
   "source": [
    "print(np.round(1286.25698, 2))\n",
    "print(np.round(1286.25698, 0))\n",
    "print(np.round(1286.25698, -1))\n",
    "print(np.round(1286.25698, -2))\n",
    "print(np.floor(1286.25698))"
   ]
  },
  {
   "cell_type": "code",
   "execution_count": null,
   "metadata": {},
   "outputs": [],
   "source": [
    "np.pi"
   ]
  },
  {
   "cell_type": "code",
   "execution_count": null,
   "metadata": {},
   "outputs": [],
   "source": [
    "np.sin(np.pi/2)"
   ]
  },
  {
   "cell_type": "code",
   "execution_count": 1,
   "metadata": {
    "ExecuteTime": {
     "end_time": "2020-08-24T08:36:00.444321Z",
     "start_time": "2020-08-24T08:36:00.304904Z"
    }
   },
   "outputs": [
    {
     "ename": "NameError",
     "evalue": "name 'np' is not defined",
     "output_type": "error",
     "traceback": [
      "\u001b[0;31m---------------------------------------------------------------------------\u001b[0m",
      "\u001b[0;31mNameError\u001b[0m                                 Traceback (most recent call last)",
      "\u001b[0;32m<ipython-input-1-8662d2875705>\u001b[0m in \u001b[0;36m<module>\u001b[0;34m\u001b[0m\n\u001b[0;32m----> 1\u001b[0;31m \u001b[0mprint\u001b[0m\u001b[0;34m(\u001b[0m\u001b[0mnp\u001b[0m\u001b[0;34m.\u001b[0m\u001b[0mlog\u001b[0m\u001b[0;34m(\u001b[0m\u001b[0;36m1000\u001b[0m\u001b[0;34m)\u001b[0m\u001b[0;34m)\u001b[0m\u001b[0;34m\u001b[0m\u001b[0m\n\u001b[0m",
      "\u001b[0;31mNameError\u001b[0m: name 'np' is not defined"
     ]
    }
   ],
   "source": [
    "print(np.log(1000))\n",
    "print(np.exp(2))"
   ]
  },
  {
   "cell_type": "markdown",
   "metadata": {},
   "source": [
    "## Exercises"
   ]
  },
  {
   "cell_type": "markdown",
   "metadata": {},
   "source": [
    "* compute $2020 - \\dfrac{\\sqrt{2*58^3+10^4*1.55}}{\\sin{(e^4/6)}}$ and give answer rounded to integer (solution=26)"
   ]
  },
  {
   "cell_type": "code",
   "execution_count": null,
   "metadata": {},
   "outputs": [],
   "source": []
  },
  {
   "cell_type": "markdown",
   "metadata": {},
   "source": [
    "# Vectors"
   ]
  },
  {
   "cell_type": "code",
   "execution_count": null,
   "metadata": {
    "ExecuteTime": {
     "end_time": "2020-07-13T14:13:13.885322Z",
     "start_time": "2020-07-13T14:13:13.881189Z"
    }
   },
   "outputs": [],
   "source": [
    "l1 = [1,5,6,3]\n",
    "x1 = np.array(l1)\n",
    "x1"
   ]
  },
  {
   "cell_type": "code",
   "execution_count": null,
   "metadata": {
    "ExecuteTime": {
     "end_time": "2020-07-13T14:13:09.687287Z",
     "start_time": "2020-07-13T14:13:09.683561Z"
    }
   },
   "outputs": [],
   "source": [
    "print(type(l1))\n",
    "print(type(x1))\n",
    "print(x1.shape)\n",
    "print(x1.ndim)\n",
    "print(x1.size)"
   ]
  },
  {
   "cell_type": "code",
   "execution_count": null,
   "metadata": {
    "ExecuteTime": {
     "end_time": "2020-07-13T14:03:48.080182Z",
     "start_time": "2020-07-13T14:03:48.076360Z"
    }
   },
   "outputs": [],
   "source": [
    "x1[:2]"
   ]
  },
  {
   "cell_type": "code",
   "execution_count": null,
   "metadata": {
    "ExecuteTime": {
     "end_time": "2020-07-13T14:13:14.797444Z",
     "start_time": "2020-07-13T14:13:14.793771Z"
    }
   },
   "outputs": [],
   "source": [
    "x[2]"
   ]
  },
  {
   "cell_type": "code",
   "execution_count": null,
   "metadata": {
    "ExecuteTime": {
     "end_time": "2020-07-13T14:17:17.730911Z",
     "start_time": "2020-07-13T14:17:17.727514Z"
    }
   },
   "outputs": [],
   "source": [
    "a = x1\n",
    "a[0] = 0\n",
    "print(x1)\n",
    "print(a)"
   ]
  },
  {
   "cell_type": "code",
   "execution_count": null,
   "metadata": {
    "ExecuteTime": {
     "end_time": "2020-07-13T14:16:43.404366Z",
     "start_time": "2020-07-13T14:16:43.399934Z"
    }
   },
   "outputs": [],
   "source": [
    "b = a.copy()\n",
    "b[0] = 1\n",
    "\n",
    "print(a)\n",
    "print(b)"
   ]
  },
  {
   "cell_type": "markdown",
   "metadata": {},
   "source": [
    "## Math operations"
   ]
  },
  {
   "cell_type": "code",
   "execution_count": null,
   "metadata": {
    "ExecuteTime": {
     "end_time": "2020-07-13T14:13:17.605250Z",
     "start_time": "2020-07-13T14:13:17.601549Z"
    }
   },
   "outputs": [],
   "source": [
    "# mathematical operations on vectors\n",
    "l2 = [2,2,4,1]\n",
    "x2 = np.array(l2)\n",
    "\n",
    "print(x1 + x2)\n",
    "print(l1 + l2)"
   ]
  },
  {
   "cell_type": "code",
   "execution_count": null,
   "metadata": {
    "ExecuteTime": {
     "end_time": "2020-07-13T13:56:29.577472Z",
     "start_time": "2020-07-13T13:56:29.571709Z"
    }
   },
   "outputs": [],
   "source": [
    "2 * x1"
   ]
  },
  {
   "cell_type": "code",
   "execution_count": null,
   "metadata": {
    "ExecuteTime": {
     "end_time": "2020-07-13T13:56:34.255141Z",
     "start_time": "2020-07-13T13:56:34.250299Z"
    }
   },
   "outputs": [],
   "source": [
    "x1 * x2 "
   ]
  },
  {
   "cell_type": "code",
   "execution_count": null,
   "metadata": {
    "ExecuteTime": {
     "end_time": "2020-07-13T13:56:51.310476Z",
     "start_time": "2020-07-13T13:56:51.305412Z"
    }
   },
   "outputs": [],
   "source": [
    "np.multiply(x1, x2)"
   ]
  },
  {
   "cell_type": "code",
   "execution_count": null,
   "metadata": {
    "ExecuteTime": {
     "end_time": "2020-07-13T13:56:59.255106Z",
     "start_time": "2020-07-13T13:56:59.250975Z"
    }
   },
   "outputs": [],
   "source": [
    "x1 / x2"
   ]
  },
  {
   "cell_type": "code",
   "execution_count": null,
   "metadata": {
    "ExecuteTime": {
     "end_time": "2020-07-13T14:07:30.905626Z",
     "start_time": "2020-07-13T14:07:30.901847Z"
    }
   },
   "outputs": [],
   "source": [
    "x1.dot(x2) #dot product"
   ]
  },
  {
   "cell_type": "markdown",
   "metadata": {},
   "source": [
    "## Statistics"
   ]
  },
  {
   "cell_type": "code",
   "execution_count": null,
   "metadata": {
    "ExecuteTime": {
     "end_time": "2020-07-13T14:26:39.341513Z",
     "start_time": "2020-07-13T14:26:39.328493Z"
    }
   },
   "outputs": [],
   "source": [
    "x = np.random.randint(0,100, size=1000)\n",
    "print(x.shape)\n",
    "print(x[:5])"
   ]
  },
  {
   "cell_type": "code",
   "execution_count": null,
   "metadata": {
    "ExecuteTime": {
     "end_time": "2020-07-13T14:27:21.042092Z",
     "start_time": "2020-07-13T14:27:21.032892Z"
    }
   },
   "outputs": [],
   "source": [
    "print(np.min(x))\n",
    "print(np.std(x))\n",
    "print(np.mean(x))\n",
    "print(np.percentile(x, q=[25,50,75]))"
   ]
  },
  {
   "cell_type": "code",
   "execution_count": null,
   "metadata": {
    "ExecuteTime": {
     "end_time": "2020-07-13T14:28:43.489153Z",
     "start_time": "2020-07-13T14:28:43.484254Z"
    }
   },
   "outputs": [],
   "source": [
    "np.average([1,2,3],weights = [1,1,3])"
   ]
  },
  {
   "cell_type": "markdown",
   "metadata": {},
   "source": [
    "## Generating vectors"
   ]
  },
  {
   "cell_type": "code",
   "execution_count": null,
   "metadata": {
    "ExecuteTime": {
     "end_time": "2020-07-13T14:11:36.119020Z",
     "start_time": "2020-07-13T14:11:36.115447Z"
    }
   },
   "outputs": [],
   "source": [
    "np.arange(0, 30, 5)"
   ]
  },
  {
   "cell_type": "code",
   "execution_count": null,
   "metadata": {
    "ExecuteTime": {
     "end_time": "2020-07-13T14:12:26.767762Z",
     "start_time": "2020-07-13T14:12:26.763840Z"
    }
   },
   "outputs": [],
   "source": [
    "np.linspace(0, 2, 9)   "
   ]
  },
  {
   "cell_type": "code",
   "execution_count": null,
   "metadata": {
    "ExecuteTime": {
     "end_time": "2020-07-13T14:21:33.321533Z",
     "start_time": "2020-07-13T14:21:33.317351Z"
    }
   },
   "outputs": [],
   "source": [
    "y = np.arange(0,210,30)\n",
    "y"
   ]
  },
  {
   "cell_type": "code",
   "execution_count": null,
   "metadata": {
    "ExecuteTime": {
     "end_time": "2020-07-13T14:22:10.114269Z",
     "start_time": "2020-07-13T14:22:10.107725Z"
    }
   },
   "outputs": [],
   "source": [
    "y2 = np.radians(y)\n",
    "np.sin(y2).round(2)"
   ]
  },
  {
   "cell_type": "markdown",
   "metadata": {},
   "source": [
    "## Stacking"
   ]
  },
  {
   "cell_type": "code",
   "execution_count": null,
   "metadata": {
    "ExecuteTime": {
     "end_time": "2020-07-13T14:14:45.193811Z",
     "start_time": "2020-07-13T14:14:45.190068Z"
    }
   },
   "outputs": [],
   "source": [
    "np.vstack((x1,x2))"
   ]
  },
  {
   "cell_type": "code",
   "execution_count": null,
   "metadata": {
    "ExecuteTime": {
     "end_time": "2020-07-13T14:14:57.727194Z",
     "start_time": "2020-07-13T14:14:57.723292Z"
    }
   },
   "outputs": [],
   "source": [
    "np.hstack((x1,x2))"
   ]
  },
  {
   "cell_type": "markdown",
   "metadata": {},
   "source": [
    "## other"
   ]
  },
  {
   "cell_type": "code",
   "execution_count": null,
   "metadata": {
    "ExecuteTime": {
     "end_time": "2020-07-13T14:30:41.811668Z",
     "start_time": "2020-07-13T14:30:41.807716Z"
    }
   },
   "outputs": [],
   "source": [
    "np.sort(x1)"
   ]
  },
  {
   "cell_type": "code",
   "execution_count": null,
   "metadata": {
    "ExecuteTime": {
     "end_time": "2020-07-13T14:31:16.089955Z",
     "start_time": "2020-07-13T14:31:16.085600Z"
    }
   },
   "outputs": [],
   "source": [
    "np.argmax(x1)"
   ]
  },
  {
   "cell_type": "code",
   "execution_count": null,
   "metadata": {
    "ExecuteTime": {
     "end_time": "2020-07-13T14:32:16.847695Z",
     "start_time": "2020-07-13T14:32:16.843785Z"
    }
   },
   "outputs": [],
   "source": [
    "x1"
   ]
  },
  {
   "cell_type": "code",
   "execution_count": null,
   "metadata": {
    "ExecuteTime": {
     "end_time": "2020-07-13T14:32:31.295751Z",
     "start_time": "2020-07-13T14:32:31.291451Z"
    }
   },
   "outputs": [],
   "source": [
    "np.where(x1 > 3) #indices"
   ]
  },
  {
   "cell_type": "code",
   "execution_count": null,
   "metadata": {
    "ExecuteTime": {
     "end_time": "2020-07-13T14:32:55.223161Z",
     "start_time": "2020-07-13T14:32:55.213467Z"
    }
   },
   "outputs": [],
   "source": [
    "x1[np.where(x1 > 3)]"
   ]
  },
  {
   "cell_type": "code",
   "execution_count": null,
   "metadata": {
    "ExecuteTime": {
     "end_time": "2020-07-13T14:34:31.668285Z",
     "start_time": "2020-07-13T14:34:31.663580Z"
    }
   },
   "outputs": [],
   "source": [
    "np.extract(x1 < 4, x1)"
   ]
  },
  {
   "cell_type": "markdown",
   "metadata": {},
   "source": [
    "## Exercises"
   ]
  },
  {
   "cell_type": "markdown",
   "metadata": {},
   "source": [
    "* Generate 1000 random numbers via uniform distribution between 10 and 50 and store it in a vector\n",
    "* compute the 5 following statistics numbers for that vector: mean, std, min, max,  median"
   ]
  },
  {
   "cell_type": "markdown",
   "metadata": {},
   "source": [
    "* Generate 10000 normally distributed numbers with mean 0 and standard deviation 1\n",
    "* select only values which are greater than 3 and store them in another vector\n",
    "* count the number of elements it has and print the proportion of the initial vector it represents\n",
    "\n",
    "(optional)\n",
    "* is it close to the expected pvalue?"
   ]
  },
  {
   "cell_type": "code",
   "execution_count": null,
   "metadata": {},
   "outputs": [],
   "source": []
  },
  {
   "cell_type": "markdown",
   "metadata": {},
   "source": [
    "# matrices"
   ]
  },
  {
   "cell_type": "markdown",
   "metadata": {},
   "source": [
    "## definition"
   ]
  },
  {
   "cell_type": "code",
   "execution_count": null,
   "metadata": {
    "ExecuteTime": {
     "end_time": "2020-07-13T14:13:45.139025Z",
     "start_time": "2020-07-13T14:13:45.135380Z"
    }
   },
   "outputs": [],
   "source": [
    "np.reshape(x1, (2,2))"
   ]
  },
  {
   "cell_type": "code",
   "execution_count": null,
   "metadata": {
    "ExecuteTime": {
     "end_time": "2020-07-13T13:57:42.337303Z",
     "start_time": "2020-07-13T13:57:42.333189Z"
    }
   },
   "outputs": [],
   "source": [
    "m1 = np.matrix([[1,2], [3,4]])\n",
    "m1"
   ]
  },
  {
   "cell_type": "code",
   "execution_count": null,
   "metadata": {
    "ExecuteTime": {
     "end_time": "2020-07-13T14:03:19.993742Z",
     "start_time": "2020-07-13T14:03:19.990386Z"
    }
   },
   "outputs": [],
   "source": [
    "m1.shape"
   ]
  },
  {
   "cell_type": "code",
   "execution_count": null,
   "metadata": {
    "ExecuteTime": {
     "end_time": "2020-07-13T13:59:08.689291Z",
     "start_time": "2020-07-13T13:59:08.684784Z"
    }
   },
   "outputs": [],
   "source": [
    "m2 = np.matrix([[1,1], [2,3]])\n",
    "m2"
   ]
  },
  {
   "cell_type": "markdown",
   "metadata": {},
   "source": [
    "## Math operations"
   ]
  },
  {
   "cell_type": "code",
   "execution_count": null,
   "metadata": {
    "ExecuteTime": {
     "end_time": "2020-07-13T13:59:10.320592Z",
     "start_time": "2020-07-13T13:59:10.315739Z"
    }
   },
   "outputs": [],
   "source": [
    "m1*m2"
   ]
  },
  {
   "cell_type": "code",
   "execution_count": null,
   "metadata": {
    "ExecuteTime": {
     "end_time": "2020-07-13T13:59:24.989324Z",
     "start_time": "2020-07-13T13:59:24.985423Z"
    }
   },
   "outputs": [],
   "source": [
    "m1.T #transpose"
   ]
  },
  {
   "cell_type": "code",
   "execution_count": null,
   "metadata": {
    "ExecuteTime": {
     "end_time": "2020-07-13T13:59:41.891718Z",
     "start_time": "2020-07-13T13:59:41.869110Z"
    }
   },
   "outputs": [],
   "source": [
    "m1.I #inverse"
   ]
  },
  {
   "cell_type": "code",
   "execution_count": null,
   "metadata": {
    "ExecuteTime": {
     "end_time": "2020-07-13T13:59:55.437124Z",
     "start_time": "2020-07-13T13:59:55.433588Z"
    }
   },
   "outputs": [],
   "source": [
    "m1.A #adjoint"
   ]
  },
  {
   "cell_type": "code",
   "execution_count": null,
   "metadata": {
    "ExecuteTime": {
     "end_time": "2020-07-13T14:00:33.967877Z",
     "start_time": "2020-07-13T14:00:33.964492Z"
    }
   },
   "outputs": [],
   "source": [
    "print(m1.max())\n",
    "print(m1.mean())"
   ]
  },
  {
   "cell_type": "code",
   "execution_count": null,
   "metadata": {
    "ExecuteTime": {
     "end_time": "2020-07-13T14:00:59.067615Z",
     "start_time": "2020-07-13T14:00:59.063539Z"
    }
   },
   "outputs": [],
   "source": [
    "m1.reshape(1,4)"
   ]
  },
  {
   "cell_type": "code",
   "execution_count": null,
   "metadata": {
    "ExecuteTime": {
     "end_time": "2020-07-13T14:05:35.700484Z",
     "start_time": "2020-07-13T14:05:35.696620Z"
    }
   },
   "outputs": [],
   "source": [
    "np.zeros((2,2))             "
   ]
  },
  {
   "cell_type": "code",
   "execution_count": null,
   "metadata": {
    "ExecuteTime": {
     "end_time": "2020-07-13T14:05:32.442703Z",
     "start_time": "2020-07-13T14:05:32.438785Z"
    }
   },
   "outputs": [],
   "source": [
    "np.ones((3,3))"
   ]
  },
  {
   "cell_type": "code",
   "execution_count": null,
   "metadata": {
    "ExecuteTime": {
     "end_time": "2020-07-13T14:05:42.939502Z",
     "start_time": "2020-07-13T14:05:42.935434Z"
    }
   },
   "outputs": [],
   "source": [
    "np.eye(3)"
   ]
  },
  {
   "cell_type": "code",
   "execution_count": null,
   "metadata": {
    "ExecuteTime": {
     "end_time": "2020-07-13T14:06:00.780266Z",
     "start_time": "2020-07-13T14:06:00.775975Z"
    }
   },
   "outputs": [],
   "source": [
    "np.random.random((2,2)).round(2)"
   ]
  },
  {
   "cell_type": "code",
   "execution_count": null,
   "metadata": {
    "ExecuteTime": {
     "end_time": "2020-07-13T14:06:41.944358Z",
     "start_time": "2020-07-13T14:06:41.939806Z"
    }
   },
   "outputs": [],
   "source": [
    "a = np.array([[1,2,3,4], [5,6,7,8], [9,10,11,12]])\n",
    "\n",
    "a[:2, 1:3]"
   ]
  },
  {
   "cell_type": "code",
   "execution_count": null,
   "metadata": {
    "ExecuteTime": {
     "end_time": "2020-07-13T14:08:02.749584Z",
     "start_time": "2020-07-13T14:08:02.745747Z"
    }
   },
   "outputs": [],
   "source": [
    "a"
   ]
  },
  {
   "cell_type": "code",
   "execution_count": null,
   "metadata": {
    "ExecuteTime": {
     "end_time": "2020-07-13T14:08:08.488098Z",
     "start_time": "2020-07-13T14:08:08.484288Z"
    }
   },
   "outputs": [],
   "source": [
    "np.sum(a, axis=0) #sum columns"
   ]
  },
  {
   "cell_type": "code",
   "execution_count": null,
   "metadata": {
    "ExecuteTime": {
     "end_time": "2020-07-13T14:08:15.783103Z",
     "start_time": "2020-07-13T14:08:15.779402Z"
    }
   },
   "outputs": [],
   "source": [
    "np.sum(a, axis=1) #sum rows"
   ]
  },
  {
   "cell_type": "code",
   "execution_count": null,
   "metadata": {
    "ExecuteTime": {
     "end_time": "2020-07-13T14:09:43.793062Z",
     "start_time": "2020-07-13T14:09:43.789685Z"
    }
   },
   "outputs": [],
   "source": [
    "np.empty_like(x1).shape"
   ]
  },
  {
   "cell_type": "markdown",
   "metadata": {},
   "source": [
    "## solving equations"
   ]
  },
  {
   "cell_type": "markdown",
   "metadata": {},
   "source": [
    "\\begin{eqnarray}\n",
    "x + y + z &=& 6 \\\\\n",
    "2x + 5z &=& -4 \\\\\n",
    "2x + 5y - z &=& 27 \\\\\n",
    "\\end{eqnarray}\n",
    "\n",
    "is equivalent to\n",
    "\n",
    "$$\\begin{bmatrix}1 & 1 & 1 \\\\0 & 2 & 5 \\\\2 & 5 & -1\\end{bmatrix} \\begin{bmatrix}x \\\\y \\\\z \\end{bmatrix} = \\begin{bmatrix}6 \\\\-4 \\\\27 \\end{bmatrix}$$\n",
    "\n",
    "or\n",
    "\n",
    "$$A.x = b$$"
   ]
  },
  {
   "cell_type": "code",
   "execution_count": null,
   "metadata": {
    "ExecuteTime": {
     "end_time": "2020-07-13T14:42:28.757969Z",
     "start_time": "2020-07-13T14:42:28.751406Z"
    }
   },
   "outputs": [],
   "source": [
    "A = np.matrix([\n",
    "    [1,1,1],\n",
    "    [0,2,5],\n",
    "    [2,5,-1]\n",
    "])\n",
    "b = np.array([6,-4,27])\n",
    "np.linalg.solve(a=A, b=b)"
   ]
  },
  {
   "cell_type": "code",
   "execution_count": null,
   "metadata": {
    "ExecuteTime": {
     "end_time": "2020-07-13T14:42:58.313087Z",
     "start_time": "2020-07-13T14:42:58.308452Z"
    }
   },
   "outputs": [],
   "source": [
    "np.linalg.det(A)"
   ]
  },
  {
   "cell_type": "code",
   "execution_count": null,
   "metadata": {
    "ExecuteTime": {
     "end_time": "2020-07-13T14:43:06.888878Z",
     "start_time": "2020-07-13T14:43:06.881655Z"
    }
   },
   "outputs": [],
   "source": [
    "np.linalg.inv(A)"
   ]
  },
  {
   "cell_type": "markdown",
   "metadata": {},
   "source": [
    "## Excercises"
   ]
  },
  {
   "cell_type": "markdown",
   "metadata": {},
   "source": [
    "Solve the following system of equations\n",
    "\n",
    "\\begin{eqnarray}\n",
    "-x + 5y + 2z &=& 8 \\\\\n",
    "6x - 2y + 9z &=& 0 \\\\\n",
    "3x + 8y - z &=& 15 \\\\\n",
    "\\end{eqnarray}\n",
    "\n",
    "and check the solution is indeed correct"
   ]
  },
  {
   "cell_type": "code",
   "execution_count": null,
   "metadata": {},
   "outputs": [],
   "source": []
  },
  {
   "cell_type": "markdown",
   "metadata": {},
   "source": [
    "# Example - fractals"
   ]
  },
  {
   "cell_type": "code",
   "execution_count": null,
   "metadata": {
    "ExecuteTime": {
     "end_time": "2020-07-16T12:10:47.272828Z",
     "start_time": "2020-07-16T12:10:46.543128Z"
    }
   },
   "outputs": [],
   "source": [
    "import matplotlib.pyplot as plt\n",
    "def mandelbrot( h,w, maxit=20 ):\n",
    "    \"\"\"Returns an image of the Mandelbrot fractal of size (h,w).\"\"\"\n",
    "    y,x = np.ogrid[ -1.4:1.4:h*1j, -2:0.8:w*1j ]\n",
    "    c = x+y*1j\n",
    "    z = c\n",
    "    divtime = maxit + np.zeros(z.shape, dtype=int)\n",
    "\n",
    "    for i in range(maxit):\n",
    "        z = z**2 + c\n",
    "        diverge = z*np.conj(z) > 2**2            # who is diverging\n",
    "        div_now = diverge & (divtime==maxit)  # who is diverging now\n",
    "        divtime[div_now] = i                  # note when\n",
    "        z[diverge] = 2                        # avoid diverging too much\n",
    "\n",
    "    return divtime\n",
    "plt.imshow(mandelbrot(800,800))"
   ]
  }
 ],
 "metadata": {
  "kernelspec": {
   "display_name": "Python 3.5",
   "language": "python",
   "name": "my_python_3.5"
  },
  "language_info": {
   "codemirror_mode": {
    "name": "ipython",
    "version": 3
   },
   "file_extension": ".py",
   "mimetype": "text/x-python",
   "name": "python",
   "nbconvert_exporter": "python",
   "pygments_lexer": "ipython3",
   "version": "3.5.5"
  },
  "toc": {
   "base_numbering": 1,
   "nav_menu": {},
   "number_sections": true,
   "sideBar": true,
   "skip_h1_title": false,
   "title_cell": "Table of Contents",
   "title_sidebar": "Contents",
   "toc_cell": false,
   "toc_position": {
    "height": "calc(100% - 180px)",
    "left": "10px",
    "top": "150px",
    "width": "307.2px"
   },
   "toc_section_display": true,
   "toc_window_display": true
  }
 },
 "nbformat": 4,
 "nbformat_minor": 4
}
