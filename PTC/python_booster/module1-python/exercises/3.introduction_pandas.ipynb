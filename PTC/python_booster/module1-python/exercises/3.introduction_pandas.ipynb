{
 "cells": [
  {
   "cell_type": "code",
   "execution_count": 1,
   "metadata": {
    "ExecuteTime": {
     "end_time": "2020-09-17T10:02:25.583721Z",
     "start_time": "2020-09-17T10:02:22.711789Z"
    }
   },
   "outputs": [],
   "source": [
    "import numpy as np\n",
    "import pandas as pd"
   ]
  },
  {
   "cell_type": "markdown",
   "metadata": {},
   "source": [
    "If you get an error, run the following command in a separate cell:\n",
    "\n",
    "> conda install pandas"
   ]
  },
  {
   "cell_type": "markdown",
   "metadata": {},
   "source": [
    "# Dataframes from scratch"
   ]
  },
  {
   "cell_type": "code",
   "execution_count": null,
   "metadata": {
    "ExecuteTime": {
     "end_time": "2020-07-14T13:38:19.442121Z",
     "start_time": "2020-07-14T13:38:19.432081Z"
    }
   },
   "outputs": [],
   "source": [
    "dico = {\"name\": [\"Ben\", \"Max\", \"John\", \"Ema\", \"Alice\"],\n",
    "        \"age\" : [25,20,18,10,33],\n",
    "        \"gender\": [\"m\", \"m\", \"m\", \"f\", \"f\"]}\n",
    "dico"
   ]
  },
  {
   "cell_type": "code",
   "execution_count": null,
   "metadata": {
    "ExecuteTime": {
     "end_time": "2020-07-14T13:38:26.376931Z",
     "start_time": "2020-07-14T13:38:26.356025Z"
    }
   },
   "outputs": [],
   "source": [
    "pd.DataFrame(dico)"
   ]
  },
  {
   "cell_type": "code",
   "execution_count": null,
   "metadata": {
    "ExecuteTime": {
     "end_time": "2020-07-14T14:20:25.384887Z",
     "start_time": "2020-07-14T14:20:25.372220Z"
    }
   },
   "outputs": [],
   "source": [
    "x = pd.Series([\"Ben\", \"Max\", \"John\", \"Ema\", \"Alice\"], name=\"name\")\n",
    "x"
   ]
  },
  {
   "cell_type": "code",
   "execution_count": null,
   "metadata": {
    "ExecuteTime": {
     "end_time": "2020-07-14T14:20:41.155423Z",
     "start_time": "2020-07-14T14:20:41.132066Z"
    }
   },
   "outputs": [],
   "source": [
    "y = pd.Series([25,20,18,10,33], name=\"age\")\n",
    "z = pd.Series([\"m\", \"m\", \"m\", \"f\", \"f\"], name=\"gender\")\n",
    "\n",
    "pd.concat([x, y ,z], axis=1)"
   ]
  },
  {
   "cell_type": "markdown",
   "metadata": {},
   "source": [
    "## Exercises"
   ]
  },
  {
   "cell_type": "markdown",
   "metadata": {},
   "source": [
    "* Create your own data frame with 2 columns and 100 rows:\n",
    "    * first column should be a random name: Ben, Tom of John (use np.random.choice)\n",
    "    * second column should be a random age between 20 and 40 \n",
    "* print the last 6 rows"
   ]
  },
  {
   "cell_type": "code",
   "execution_count": null,
   "metadata": {},
   "outputs": [],
   "source": []
  },
  {
   "cell_type": "markdown",
   "metadata": {},
   "source": [
    "# Manipulating data"
   ]
  },
  {
   "cell_type": "markdown",
   "metadata": {},
   "source": [
    "## Import files"
   ]
  },
  {
   "cell_type": "code",
   "execution_count": 5,
   "metadata": {
    "ExecuteTime": {
     "end_time": "2020-09-17T10:05:22.755073Z",
     "start_time": "2020-09-17T10:05:22.571301Z"
    }
   },
   "outputs": [],
   "source": [
    "df = pd.read_csv(\"vgsales.csv\")"
   ]
  },
  {
   "cell_type": "code",
   "execution_count": 6,
   "metadata": {
    "ExecuteTime": {
     "end_time": "2020-08-24T08:55:50.766966Z",
     "start_time": "2020-08-24T08:55:50.717358Z"
    }
   },
   "outputs": [
    {
     "data": {
      "text/html": [
       "<div>\n",
       "<style scoped>\n",
       "    .dataframe tbody tr th:only-of-type {\n",
       "        vertical-align: middle;\n",
       "    }\n",
       "\n",
       "    .dataframe tbody tr th {\n",
       "        vertical-align: top;\n",
       "    }\n",
       "\n",
       "    .dataframe thead th {\n",
       "        text-align: right;\n",
       "    }\n",
       "</style>\n",
       "<table border=\"1\" class=\"dataframe\">\n",
       "  <thead>\n",
       "    <tr style=\"text-align: right;\">\n",
       "      <th></th>\n",
       "      <th>Rank</th>\n",
       "      <th>Name</th>\n",
       "      <th>Platform</th>\n",
       "      <th>Year</th>\n",
       "      <th>Genre</th>\n",
       "      <th>Publisher</th>\n",
       "      <th>NA_Sales</th>\n",
       "      <th>EU_Sales</th>\n",
       "      <th>JP_Sales</th>\n",
       "      <th>Other_Sales</th>\n",
       "      <th>Global_Sales</th>\n",
       "    </tr>\n",
       "  </thead>\n",
       "  <tbody>\n",
       "    <tr>\n",
       "      <th>0</th>\n",
       "      <td>259</td>\n",
       "      <td>Asteroids</td>\n",
       "      <td>2600</td>\n",
       "      <td>1980</td>\n",
       "      <td>Shooter</td>\n",
       "      <td>Atari</td>\n",
       "      <td>4.00</td>\n",
       "      <td>0.26</td>\n",
       "      <td>0.0</td>\n",
       "      <td>0.05</td>\n",
       "      <td>4.31</td>\n",
       "    </tr>\n",
       "    <tr>\n",
       "      <th>1</th>\n",
       "      <td>545</td>\n",
       "      <td>Missile Command</td>\n",
       "      <td>2600</td>\n",
       "      <td>1980</td>\n",
       "      <td>Shooter</td>\n",
       "      <td>Atari</td>\n",
       "      <td>2.56</td>\n",
       "      <td>0.17</td>\n",
       "      <td>0.0</td>\n",
       "      <td>0.03</td>\n",
       "      <td>2.76</td>\n",
       "    </tr>\n",
       "    <tr>\n",
       "      <th>2</th>\n",
       "      <td>1768</td>\n",
       "      <td>Kaboom!</td>\n",
       "      <td>2600</td>\n",
       "      <td>1980</td>\n",
       "      <td>Misc</td>\n",
       "      <td>Activision</td>\n",
       "      <td>1.07</td>\n",
       "      <td>0.07</td>\n",
       "      <td>0.0</td>\n",
       "      <td>0.01</td>\n",
       "      <td>1.15</td>\n",
       "    </tr>\n",
       "    <tr>\n",
       "      <th>3</th>\n",
       "      <td>1971</td>\n",
       "      <td>Defender</td>\n",
       "      <td>2600</td>\n",
       "      <td>1980</td>\n",
       "      <td>Misc</td>\n",
       "      <td>Atari</td>\n",
       "      <td>0.99</td>\n",
       "      <td>0.05</td>\n",
       "      <td>0.0</td>\n",
       "      <td>0.01</td>\n",
       "      <td>1.05</td>\n",
       "    </tr>\n",
       "    <tr>\n",
       "      <th>4</th>\n",
       "      <td>2671</td>\n",
       "      <td>Boxing</td>\n",
       "      <td>2600</td>\n",
       "      <td>1980</td>\n",
       "      <td>Fighting</td>\n",
       "      <td>Activision</td>\n",
       "      <td>0.72</td>\n",
       "      <td>0.04</td>\n",
       "      <td>0.0</td>\n",
       "      <td>0.01</td>\n",
       "      <td>0.77</td>\n",
       "    </tr>\n",
       "  </tbody>\n",
       "</table>\n",
       "</div>"
      ],
      "text/plain": [
       "   Rank             Name Platform  Year     Genre   Publisher  NA_Sales  \\\n",
       "0   259        Asteroids     2600  1980   Shooter       Atari      4.00   \n",
       "1   545  Missile Command     2600  1980   Shooter       Atari      2.56   \n",
       "2  1768          Kaboom!     2600  1980      Misc  Activision      1.07   \n",
       "3  1971         Defender     2600  1980      Misc       Atari      0.99   \n",
       "4  2671           Boxing     2600  1980  Fighting  Activision      0.72   \n",
       "\n",
       "   EU_Sales  JP_Sales  Other_Sales  Global_Sales  \n",
       "0      0.26       0.0         0.05          4.31  \n",
       "1      0.17       0.0         0.03          2.76  \n",
       "2      0.07       0.0         0.01          1.15  \n",
       "3      0.05       0.0         0.01          1.05  \n",
       "4      0.04       0.0         0.01          0.77  "
      ]
     },
     "execution_count": 6,
     "metadata": {},
     "output_type": "execute_result"
    }
   ],
   "source": [
    "df.head()"
   ]
  },
  {
   "cell_type": "code",
   "execution_count": null,
   "metadata": {
    "ExecuteTime": {
     "end_time": "2020-07-14T14:21:00.329077Z",
     "start_time": "2020-07-14T14:21:00.284692Z"
    }
   },
   "outputs": [],
   "source": [
    "df.tail(3)"
   ]
  },
  {
   "cell_type": "code",
   "execution_count": null,
   "metadata": {
    "ExecuteTime": {
     "end_time": "2020-07-14T13:29:45.431698Z",
     "start_time": "2020-07-14T13:29:45.427369Z"
    }
   },
   "outputs": [],
   "source": [
    "df.shape"
   ]
  },
  {
   "cell_type": "code",
   "execution_count": null,
   "metadata": {
    "ExecuteTime": {
     "end_time": "2020-07-14T13:29:49.433099Z",
     "start_time": "2020-07-14T13:29:49.423500Z"
    }
   },
   "outputs": [],
   "source": [
    "df.columns"
   ]
  },
  {
   "cell_type": "code",
   "execution_count": null,
   "metadata": {
    "ExecuteTime": {
     "end_time": "2020-07-14T13:29:52.268539Z",
     "start_time": "2020-07-14T13:29:52.213877Z"
    }
   },
   "outputs": [],
   "source": [
    "df.info()"
   ]
  },
  {
   "cell_type": "code",
   "execution_count": null,
   "metadata": {
    "ExecuteTime": {
     "end_time": "2020-07-14T13:30:16.412608Z",
     "start_time": "2020-07-14T13:30:16.385176Z"
    }
   },
   "outputs": [],
   "source": [
    "df.dtypes"
   ]
  },
  {
   "cell_type": "code",
   "execution_count": null,
   "metadata": {
    "ExecuteTime": {
     "end_time": "2020-07-14T13:44:37.509211Z",
     "start_time": "2020-07-14T13:44:37.500051Z"
    }
   },
   "outputs": [],
   "source": [
    "df[\"Global_Sales\"].head()"
   ]
  },
  {
   "cell_type": "code",
   "execution_count": null,
   "metadata": {
    "ExecuteTime": {
     "end_time": "2020-07-14T13:45:02.988008Z",
     "start_time": "2020-07-14T13:45:02.980185Z"
    }
   },
   "outputs": [],
   "source": [
    "print(type(df))\n",
    "print(type(df[\"Global_Sales\"]))\n",
    "print(type(df[\"Global_Sales\"].values))"
   ]
  },
  {
   "cell_type": "code",
   "execution_count": null,
   "metadata": {
    "ExecuteTime": {
     "end_time": "2020-07-14T13:45:39.165589Z",
     "start_time": "2020-07-14T13:45:39.095887Z"
    }
   },
   "outputs": [],
   "source": [
    "df[[\"Name\", \"Rank\"]].head()"
   ]
  },
  {
   "cell_type": "code",
   "execution_count": null,
   "metadata": {
    "ExecuteTime": {
     "end_time": "2020-07-14T13:50:03.779020Z",
     "start_time": "2020-07-14T13:50:03.703269Z"
    }
   },
   "outputs": [],
   "source": [
    "df.iloc[:5]"
   ]
  },
  {
   "cell_type": "code",
   "execution_count": null,
   "metadata": {
    "ExecuteTime": {
     "end_time": "2020-07-14T13:50:00.582210Z",
     "start_time": "2020-07-14T13:50:00.567857Z"
    }
   },
   "outputs": [],
   "source": [
    "df.iloc[:5,:3]"
   ]
  },
  {
   "cell_type": "code",
   "execution_count": null,
   "metadata": {
    "ExecuteTime": {
     "end_time": "2020-07-14T13:50:33.216677Z",
     "start_time": "2020-07-14T13:50:33.197776Z"
    }
   },
   "outputs": [],
   "source": [
    "df.loc[:4,:\"EU_Sales\"]"
   ]
  },
  {
   "cell_type": "markdown",
   "metadata": {},
   "source": [
    "## statistics"
   ]
  },
  {
   "cell_type": "code",
   "execution_count": null,
   "metadata": {
    "ExecuteTime": {
     "end_time": "2020-07-14T13:46:37.922850Z",
     "start_time": "2020-07-14T13:46:37.904066Z"
    }
   },
   "outputs": [],
   "source": [
    "df[\"Global_Sales\"].mean()"
   ]
  },
  {
   "cell_type": "code",
   "execution_count": null,
   "metadata": {
    "ExecuteTime": {
     "end_time": "2020-07-14T13:46:45.556513Z",
     "start_time": "2020-07-14T13:46:45.548509Z"
    }
   },
   "outputs": [],
   "source": [
    "df[\"Global_Sales\"].min()"
   ]
  },
  {
   "cell_type": "code",
   "execution_count": null,
   "metadata": {
    "ExecuteTime": {
     "end_time": "2020-07-14T13:46:45.556513Z",
     "start_time": "2020-07-14T13:46:45.548509Z"
    }
   },
   "outputs": [],
   "source": [
    "df[\"Global_Sales\"].var()"
   ]
  },
  {
   "cell_type": "code",
   "execution_count": null,
   "metadata": {
    "ExecuteTime": {
     "end_time": "2020-07-14T13:29:56.424065Z",
     "start_time": "2020-07-14T13:29:56.071064Z"
    }
   },
   "outputs": [],
   "source": [
    "df.describe()"
   ]
  },
  {
   "cell_type": "code",
   "execution_count": null,
   "metadata": {
    "ExecuteTime": {
     "end_time": "2020-07-14T13:47:08.849920Z",
     "start_time": "2020-07-14T13:47:08.838924Z"
    }
   },
   "outputs": [],
   "source": [
    "df[\"Platform\"].value_counts()"
   ]
  },
  {
   "cell_type": "markdown",
   "metadata": {},
   "source": [
    "## SQL like operations: filter, groupby, sort, joins"
   ]
  },
  {
   "cell_type": "code",
   "execution_count": null,
   "metadata": {
    "ExecuteTime": {
     "end_time": "2020-07-14T13:51:09.420841Z",
     "start_time": "2020-07-14T13:51:09.398596Z"
    }
   },
   "outputs": [],
   "source": [
    "df[\"Platform\"] == \"PS4\""
   ]
  },
  {
   "cell_type": "code",
   "execution_count": null,
   "metadata": {
    "ExecuteTime": {
     "end_time": "2020-07-14T13:51:35.878483Z",
     "start_time": "2020-07-14T13:51:35.819493Z"
    }
   },
   "outputs": [],
   "source": [
    "df[df[\"Platform\"] == \"PS4\"].head(10)"
   ]
  },
  {
   "cell_type": "code",
   "execution_count": 22,
   "metadata": {
    "ExecuteTime": {
     "end_time": "2020-09-17T10:09:20.618494Z",
     "start_time": "2020-09-17T10:09:20.557683Z"
    }
   },
   "outputs": [
    {
     "data": {
      "text/html": [
       "<div>\n",
       "<style scoped>\n",
       "    .dataframe tbody tr th:only-of-type {\n",
       "        vertical-align: middle;\n",
       "    }\n",
       "\n",
       "    .dataframe tbody tr th {\n",
       "        vertical-align: top;\n",
       "    }\n",
       "\n",
       "    .dataframe thead th {\n",
       "        text-align: right;\n",
       "    }\n",
       "</style>\n",
       "<table border=\"1\" class=\"dataframe\">\n",
       "  <thead>\n",
       "    <tr style=\"text-align: right;\">\n",
       "      <th></th>\n",
       "      <th>Rank</th>\n",
       "      <th>Name</th>\n",
       "      <th>Platform</th>\n",
       "      <th>Year</th>\n",
       "      <th>Genre</th>\n",
       "      <th>Publisher</th>\n",
       "      <th>NA_Sales</th>\n",
       "      <th>EU_Sales</th>\n",
       "      <th>JP_Sales</th>\n",
       "      <th>Other_Sales</th>\n",
       "      <th>Global_Sales</th>\n",
       "    </tr>\n",
       "  </thead>\n",
       "  <tbody>\n",
       "    <tr>\n",
       "      <th>15984</th>\n",
       "      <td>847</td>\n",
       "      <td>Tom Clancy's The Division</td>\n",
       "      <td>XOne</td>\n",
       "      <td>2016</td>\n",
       "      <td>Shooter</td>\n",
       "      <td>Ubisoft</td>\n",
       "      <td>1.20</td>\n",
       "      <td>0.62</td>\n",
       "      <td>0.0</td>\n",
       "      <td>0.18</td>\n",
       "      <td>2.01</td>\n",
       "    </tr>\n",
       "    <tr>\n",
       "      <th>15988</th>\n",
       "      <td>1226</td>\n",
       "      <td>FIFA 17</td>\n",
       "      <td>XOne</td>\n",
       "      <td>2016</td>\n",
       "      <td>Sports</td>\n",
       "      <td>Electronic Arts</td>\n",
       "      <td>0.17</td>\n",
       "      <td>1.26</td>\n",
       "      <td>0.0</td>\n",
       "      <td>0.10</td>\n",
       "      <td>1.53</td>\n",
       "    </tr>\n",
       "    <tr>\n",
       "      <th>15998</th>\n",
       "      <td>2436</td>\n",
       "      <td>Far Cry: Primal</td>\n",
       "      <td>XOne</td>\n",
       "      <td>2016</td>\n",
       "      <td>Action</td>\n",
       "      <td>Ubisoft</td>\n",
       "      <td>0.46</td>\n",
       "      <td>0.32</td>\n",
       "      <td>0.0</td>\n",
       "      <td>0.07</td>\n",
       "      <td>0.85</td>\n",
       "    </tr>\n",
       "    <tr>\n",
       "      <th>15999</th>\n",
       "      <td>2446</td>\n",
       "      <td>Overwatch</td>\n",
       "      <td>XOne</td>\n",
       "      <td>2016</td>\n",
       "      <td>Shooter</td>\n",
       "      <td>Activision</td>\n",
       "      <td>0.52</td>\n",
       "      <td>0.25</td>\n",
       "      <td>0.0</td>\n",
       "      <td>0.08</td>\n",
       "      <td>0.85</td>\n",
       "    </tr>\n",
       "    <tr>\n",
       "      <th>16002</th>\n",
       "      <td>2507</td>\n",
       "      <td>Madden NFL 17</td>\n",
       "      <td>XOne</td>\n",
       "      <td>2016</td>\n",
       "      <td>Sports</td>\n",
       "      <td>Electronic Arts</td>\n",
       "      <td>0.72</td>\n",
       "      <td>0.02</td>\n",
       "      <td>0.0</td>\n",
       "      <td>0.09</td>\n",
       "      <td>0.82</td>\n",
       "    </tr>\n",
       "  </tbody>\n",
       "</table>\n",
       "</div>"
      ],
      "text/plain": [
       "       Rank                       Name Platform  Year    Genre  \\\n",
       "15984   847  Tom Clancy's The Division     XOne  2016  Shooter   \n",
       "15988  1226                    FIFA 17     XOne  2016   Sports   \n",
       "15998  2436            Far Cry: Primal     XOne  2016   Action   \n",
       "15999  2446                  Overwatch     XOne  2016  Shooter   \n",
       "16002  2507              Madden NFL 17     XOne  2016   Sports   \n",
       "\n",
       "             Publisher  NA_Sales  EU_Sales  JP_Sales  Other_Sales  \\\n",
       "15984          Ubisoft      1.20      0.62       0.0         0.18   \n",
       "15988  Electronic Arts      0.17      1.26       0.0         0.10   \n",
       "15998          Ubisoft      0.46      0.32       0.0         0.07   \n",
       "15999       Activision      0.52      0.25       0.0         0.08   \n",
       "16002  Electronic Arts      0.72      0.02       0.0         0.09   \n",
       "\n",
       "       Global_Sales  \n",
       "15984          2.01  \n",
       "15988          1.53  \n",
       "15998          0.85  \n",
       "15999          0.85  \n",
       "16002          0.82  "
      ]
     },
     "execution_count": 22,
     "metadata": {},
     "output_type": "execute_result"
    }
   ],
   "source": [
    "df.sort_values([\"Year\", \"Platform\"], ascending=False).head(5)"
   ]
  },
  {
   "cell_type": "code",
   "execution_count": null,
   "metadata": {
    "ExecuteTime": {
     "end_time": "2020-07-14T13:59:48.031605Z",
     "start_time": "2020-07-14T13:59:48.006941Z"
    }
   },
   "outputs": [],
   "source": [
    "df[[\"Platform\", \"Global_Sales\"]].groupby(\"Platform\").mean().reset_index()"
   ]
  },
  {
   "cell_type": "code",
   "execution_count": null,
   "metadata": {
    "ExecuteTime": {
     "end_time": "2020-07-14T14:25:11.462761Z",
     "start_time": "2020-07-14T14:25:11.433386Z"
    }
   },
   "outputs": [],
   "source": [
    "df1 = pd.DataFrame({'id': [1,2,4,5], 'var1': [22,21,18,30]})\n",
    "df2 = pd.DataFrame({'id': [1,2,3,5], 'var2': [1,1,3,2]})\n",
    "\n",
    "display(df1, df2)"
   ]
  },
  {
   "cell_type": "code",
   "execution_count": null,
   "metadata": {
    "ExecuteTime": {
     "end_time": "2020-07-14T14:25:12.908471Z",
     "start_time": "2020-07-14T14:25:12.894788Z"
    }
   },
   "outputs": [],
   "source": [
    "pd.merge(df1, df2, how=\"left\", on=\"id\")"
   ]
  },
  {
   "cell_type": "code",
   "execution_count": null,
   "metadata": {
    "ExecuteTime": {
     "end_time": "2020-07-14T14:25:19.101913Z",
     "start_time": "2020-07-14T14:25:19.051567Z"
    }
   },
   "outputs": [],
   "source": [
    "pd.merge(df1, df2, how=\"inner\", on=\"id\")"
   ]
  },
  {
   "cell_type": "code",
   "execution_count": null,
   "metadata": {
    "ExecuteTime": {
     "end_time": "2020-07-14T14:25:23.840343Z",
     "start_time": "2020-07-14T14:25:23.822355Z"
    }
   },
   "outputs": [],
   "source": [
    "pd.merge(df1, df2, how=\"outer\", on=\"id\")"
   ]
  },
  {
   "cell_type": "markdown",
   "metadata": {},
   "source": [
    "## Exercise"
   ]
  },
  {
   "cell_type": "markdown",
   "metadata": {},
   "source": [
    "* select the 10 ranked video games and keep only the following columns: Name, Year, Genre, Publisher, EU_Sales\n",
    "* what do they have in common ?"
   ]
  },
  {
   "cell_type": "markdown",
   "metadata": {},
   "source": [
    "* select top 5 video games from PS4 or XOne with highest global sales in descending order"
   ]
  },
  {
   "cell_type": "code",
   "execution_count": null,
   "metadata": {},
   "outputs": [],
   "source": []
  },
  {
   "cell_type": "markdown",
   "metadata": {
    "ExecuteTime": {
     "end_time": "2020-07-14T13:47:20.107261Z",
     "start_time": "2020-07-14T13:47:20.028297Z"
    }
   },
   "source": [
    "## data cleaning"
   ]
  },
  {
   "cell_type": "markdown",
   "metadata": {},
   "source": [
    "disclaimer: data cleaning and preparation is a broad topic and cannot be covered in a few hours only.\n",
    "\n",
    "I show here the most basic steps, but you would have to look at the documentation when you will work on complex data"
   ]
  },
  {
   "cell_type": "code",
   "execution_count": null,
   "metadata": {
    "ExecuteTime": {
     "end_time": "2020-07-14T13:47:51.963356Z",
     "start_time": "2020-07-14T13:47:51.941069Z"
    }
   },
   "outputs": [],
   "source": [
    "df.isna().sum()"
   ]
  },
  {
   "cell_type": "code",
   "execution_count": null,
   "metadata": {
    "ExecuteTime": {
     "end_time": "2020-07-14T13:48:02.988497Z",
     "start_time": "2020-07-14T13:48:02.869942Z"
    },
    "scrolled": true
   },
   "outputs": [],
   "source": [
    "df = df.fillna(\"missing\") #missing values\n",
    "df.isna().sum()"
   ]
  },
  {
   "cell_type": "code",
   "execution_count": null,
   "metadata": {
    "ExecuteTime": {
     "end_time": "2020-07-14T13:48:18.218964Z",
     "start_time": "2020-07-14T13:48:18.171401Z"
    }
   },
   "outputs": [],
   "source": [
    "df = df.drop_duplicates() #in case there are duplicates"
   ]
  },
  {
   "cell_type": "code",
   "execution_count": null,
   "metadata": {
    "ExecuteTime": {
     "end_time": "2020-07-14T14:14:57.868890Z",
     "start_time": "2020-07-14T14:14:57.837820Z"
    }
   },
   "outputs": [],
   "source": [
    "df[\"Name\"].str.upper().head()"
   ]
  },
  {
   "cell_type": "code",
   "execution_count": 14,
   "metadata": {
    "ExecuteTime": {
     "end_time": "2020-09-16T15:16:39.717476Z",
     "start_time": "2020-09-16T15:16:39.636397Z"
    }
   },
   "outputs": [
    {
     "data": {
      "text/html": [
       "<div>\n",
       "<style scoped>\n",
       "    .dataframe tbody tr th:only-of-type {\n",
       "        vertical-align: middle;\n",
       "    }\n",
       "\n",
       "    .dataframe tbody tr th {\n",
       "        vertical-align: top;\n",
       "    }\n",
       "\n",
       "    .dataframe thead th {\n",
       "        text-align: right;\n",
       "    }\n",
       "</style>\n",
       "<table border=\"1\" class=\"dataframe\">\n",
       "  <thead>\n",
       "    <tr style=\"text-align: right;\">\n",
       "      <th></th>\n",
       "      <th>0</th>\n",
       "      <th>1</th>\n",
       "    </tr>\n",
       "  </thead>\n",
       "  <tbody>\n",
       "    <tr>\n",
       "      <th>0</th>\n",
       "      <td>Asteroids</td>\n",
       "      <td></td>\n",
       "    </tr>\n",
       "    <tr>\n",
       "      <th>1</th>\n",
       "      <td>Missile</td>\n",
       "      <td>Command</td>\n",
       "    </tr>\n",
       "    <tr>\n",
       "      <th>2</th>\n",
       "      <td>Kaboom!</td>\n",
       "      <td></td>\n",
       "    </tr>\n",
       "    <tr>\n",
       "      <th>3</th>\n",
       "      <td>Defender</td>\n",
       "      <td></td>\n",
       "    </tr>\n",
       "    <tr>\n",
       "      <th>4</th>\n",
       "      <td>Boxing</td>\n",
       "      <td></td>\n",
       "    </tr>\n",
       "    <tr>\n",
       "      <th>5</th>\n",
       "      <td>Ice</td>\n",
       "      <td>Hockey</td>\n",
       "    </tr>\n",
       "    <tr>\n",
       "      <th>6</th>\n",
       "      <td>Freeway</td>\n",
       "      <td></td>\n",
       "    </tr>\n",
       "    <tr>\n",
       "      <th>7</th>\n",
       "      <td>Bridge</td>\n",
       "      <td></td>\n",
       "    </tr>\n",
       "    <tr>\n",
       "      <th>8</th>\n",
       "      <td>Checkers</td>\n",
       "      <td></td>\n",
       "    </tr>\n",
       "    <tr>\n",
       "      <th>9</th>\n",
       "      <td>Pitfall!</td>\n",
       "      <td></td>\n",
       "    </tr>\n",
       "  </tbody>\n",
       "</table>\n",
       "</div>"
      ],
      "text/plain": [
       "           0        1\n",
       "0  Asteroids         \n",
       "1    Missile  Command\n",
       "2    Kaboom!         \n",
       "3   Defender         \n",
       "4     Boxing         \n",
       "5        Ice   Hockey\n",
       "6    Freeway         \n",
       "7     Bridge         \n",
       "8   Checkers         \n",
       "9   Pitfall!         "
      ]
     },
     "execution_count": 14,
     "metadata": {},
     "output_type": "execute_result"
    }
   ],
   "source": [
    "df[\"Name\"].str.split(\" \", n=1, expand=True).fillna(\"\").head(10)"
   ]
  },
  {
   "cell_type": "code",
   "execution_count": 17,
   "metadata": {
    "ExecuteTime": {
     "end_time": "2020-09-16T15:17:38.416296Z",
     "start_time": "2020-09-16T15:17:38.402343Z"
    }
   },
   "outputs": [
    {
     "data": {
      "text/plain": [
       "0     2600-Shooter\n",
       "1     2600-Shooter\n",
       "2        2600-Misc\n",
       "3        2600-Misc\n",
       "4    2600-Fighting\n",
       "Name: platform_genre, dtype: object"
      ]
     },
     "execution_count": 17,
     "metadata": {},
     "output_type": "execute_result"
    }
   ],
   "source": [
    "df[\"platform_genre\"] = df[\"Platform\"] + \"-\" + df[\"Genre\"]\n",
    "df[\"platform_genre\"].head()"
   ]
  },
  {
   "cell_type": "code",
   "execution_count": null,
   "metadata": {
    "ExecuteTime": {
     "end_time": "2020-07-14T14:16:59.922480Z",
     "start_time": "2020-07-14T14:16:59.880561Z"
    }
   },
   "outputs": [],
   "source": [
    "df[\"blockbuster\"] = df[\"Global_Sales\"] > 10\n",
    "df.head()"
   ]
  },
  {
   "cell_type": "code",
   "execution_count": null,
   "metadata": {
    "ExecuteTime": {
     "end_time": "2020-07-14T14:17:18.757726Z",
     "start_time": "2020-07-14T14:17:18.627884Z"
    }
   },
   "outputs": [],
   "source": [
    "df[df[\"blockbuster\"]].sort_values(\"Name\")"
   ]
  },
  {
   "cell_type": "markdown",
   "metadata": {},
   "source": [
    "## data reshaping"
   ]
  },
  {
   "cell_type": "code",
   "execution_count": null,
   "metadata": {
    "ExecuteTime": {
     "end_time": "2020-07-14T13:54:17.683135Z",
     "start_time": "2020-07-14T13:54:17.573000Z"
    }
   },
   "outputs": [],
   "source": [
    "# pivot table as in Excel for analysis\n",
    "df.pivot_table(index=\"Platform\", columns=\"Genre\", values = \"Global_Sales\", aggfunc=\"sum\")"
   ]
  },
  {
   "cell_type": "code",
   "execution_count": null,
   "metadata": {
    "ExecuteTime": {
     "end_time": "2020-07-14T13:56:44.614792Z",
     "start_time": "2020-07-14T13:56:44.504199Z"
    }
   },
   "outputs": [],
   "source": [
    "df.reset_index()"
   ]
  },
  {
   "cell_type": "code",
   "execution_count": null,
   "metadata": {
    "ExecuteTime": {
     "end_time": "2020-07-14T14:13:57.793813Z",
     "start_time": "2020-07-14T14:13:57.766213Z"
    }
   },
   "outputs": [],
   "source": [
    "# wide to long, needed for visualization purposes\n",
    "df.melt(id_vars=['Platform', 'Genre'], value_vars=[\"EU_Sales\", \"Global_Sales\"])"
   ]
  },
  {
   "cell_type": "markdown",
   "metadata": {},
   "source": [
    "# Exercises"
   ]
  },
  {
   "cell_type": "markdown",
   "metadata": {},
   "source": [
    "* Import the netflix dataset\n",
    "* display info about the dataset (nrows, columns, etc)"
   ]
  },
  {
   "cell_type": "markdown",
   "metadata": {},
   "source": [
    "* Check if there are missing values in columns\n",
    "* identify columns with more that 9% missing values and drop them\n",
    "* also remove the show_id columns"
   ]
  },
  {
   "cell_type": "markdown",
   "metadata": {},
   "source": [
    "* Answer the following questions:\n",
    "    * are there more movies or TV shows?\n",
    "    * what are the 3 countries producing the more movies?\n",
    "    * what is the longest and shortest film?\n",
    "* (Optional) List TV-shows that have more than 10 seasons?\n"
   ]
  },
  {
   "cell_type": "code",
   "execution_count": null,
   "metadata": {},
   "outputs": [],
   "source": []
  },
  {
   "cell_type": "code",
   "execution_count": null,
   "metadata": {},
   "outputs": [],
   "source": []
  },
  {
   "cell_type": "code",
   "execution_count": null,
   "metadata": {},
   "outputs": [],
   "source": []
  }
 ],
 "metadata": {
  "kernelspec": {
   "display_name": "Python 3.5",
   "language": "python",
   "name": "my_python_3.5"
  },
  "language_info": {
   "codemirror_mode": {
    "name": "ipython",
    "version": 3
   },
   "file_extension": ".py",
   "mimetype": "text/x-python",
   "name": "python",
   "nbconvert_exporter": "python",
   "pygments_lexer": "ipython3",
   "version": "3.5.5"
  },
  "toc": {
   "base_numbering": 1,
   "nav_menu": {},
   "number_sections": true,
   "sideBar": true,
   "skip_h1_title": false,
   "title_cell": "Table of Contents",
   "title_sidebar": "Contents",
   "toc_cell": false,
   "toc_position": {
    "height": "calc(100% - 180px)",
    "left": "10px",
    "top": "150px",
    "width": "307.2px"
   },
   "toc_section_display": true,
   "toc_window_display": true
  }
 },
 "nbformat": 4,
 "nbformat_minor": 4
}
