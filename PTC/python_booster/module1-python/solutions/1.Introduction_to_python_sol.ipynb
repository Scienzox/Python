{
 "cells": [
  {
   "cell_type": "markdown",
   "metadata": {},
   "source": [
    "# Jupyter commands"
   ]
  },
  {
   "cell_type": "markdown",
   "metadata": {},
   "source": [
    "Live review of the menu, buttons and interface"
   ]
  },
  {
   "cell_type": "markdown",
   "metadata": {},
   "source": [
    "Some useful shortcuts:\n",
    "* press a to add a cell above the selected one\n",
    "* press b to add a cell below the selected one\n",
    "* press d, d to delete a cell\n",
    "* press ctrl+enter to run a cell\n",
    "* press m to convert a cell to Markdown language\n",
    "* press y to convert back a cell to python"
   ]
  },
  {
   "cell_type": "markdown",
   "metadata": {},
   "source": [
    "It's also possible to use bash commands in the cells"
   ]
  },
  {
   "cell_type": "code",
   "execution_count": 3,
   "metadata": {
    "ExecuteTime": {
     "end_time": "2020-10-01T13:00:58.265019Z",
     "start_time": "2020-10-01T13:00:58.141263Z"
    }
   },
   "outputs": [
    {
     "name": "stdout",
     "output_type": "stream",
     "text": [
      "1.Introduction_to_python_sol.ipynb\n",
      "2.introduction_numpy_sol.ipynb\n",
      "3.introduction_pandas_sol.ipynb\n",
      "4.introduction_visualization_sol.ipynb\n",
      "netflix_titles.csv\n",
      "vgsales.csv\n"
     ]
    }
   ],
   "source": [
    "%%bash \n",
    "ls"
   ]
  },
  {
   "cell_type": "markdown",
   "metadata": {},
   "source": [
    "# Python basics"
   ]
  },
  {
   "cell_type": "code",
   "execution_count": 1,
   "metadata": {
    "ExecuteTime": {
     "end_time": "2020-07-08T14:50:32.961165Z",
     "start_time": "2020-07-08T14:50:32.958500Z"
    }
   },
   "outputs": [],
   "source": [
    "# This is a comment, this line is not executed by Python"
   ]
  },
  {
   "cell_type": "code",
   "execution_count": 7,
   "metadata": {
    "ExecuteTime": {
     "end_time": "2020-10-01T13:03:27.834628Z",
     "start_time": "2020-10-01T13:03:27.830912Z"
    }
   },
   "outputs": [
    {
     "name": "stdout",
     "output_type": "stream",
     "text": [
      "1\n",
      "2\n"
     ]
    }
   ],
   "source": [
    "print(1)\n",
    "print(2)"
   ]
  },
  {
   "cell_type": "code",
   "execution_count": 3,
   "metadata": {
    "ExecuteTime": {
     "end_time": "2020-07-08T14:51:02.062863Z",
     "start_time": "2020-07-08T14:51:02.058948Z"
    }
   },
   "outputs": [
    {
     "name": "stdout",
     "output_type": "stream",
     "text": [
      "Hello world!\n"
     ]
    }
   ],
   "source": [
    "# Hello world\n",
    "print(\"Hello world!\")"
   ]
  },
  {
   "cell_type": "code",
   "execution_count": 8,
   "metadata": {
    "ExecuteTime": {
     "end_time": "2020-10-01T13:04:07.666543Z",
     "start_time": "2020-10-01T13:04:07.661864Z"
    }
   },
   "outputs": [
    {
     "name": "stdout",
     "output_type": "stream",
     "text": [
      "Help on built-in function print in module builtins:\n",
      "\n",
      "print(...)\n",
      "    print(value, ..., sep=' ', end='\\n', file=sys.stdout, flush=False)\n",
      "    \n",
      "    Prints the values to a stream, or to sys.stdout by default.\n",
      "    Optional keyword arguments:\n",
      "    file:  a file-like object (stream); defaults to the current sys.stdout.\n",
      "    sep:   string inserted between values, default a space.\n",
      "    end:   string appended after the last value, default a newline.\n",
      "    flush: whether to forcibly flush the stream.\n",
      "\n"
     ]
    }
   ],
   "source": [
    "help(print)"
   ]
  },
  {
   "cell_type": "code",
   "execution_count": 23,
   "metadata": {
    "ExecuteTime": {
     "end_time": "2020-10-01T13:13:23.876646Z",
     "start_time": "2020-10-01T13:13:23.873194Z"
    }
   },
   "outputs": [
    {
     "name": "stdout",
     "output_type": "stream",
     "text": [
      "1 2 3 4\n"
     ]
    }
   ],
   "source": [
    "print('25*4=',x)"
   ]
  },
  {
   "cell_type": "code",
   "execution_count": 11,
   "metadata": {
    "ExecuteTime": {
     "end_time": "2020-10-01T13:06:12.966013Z",
     "start_time": "2020-10-01T13:06:12.903655Z"
    }
   },
   "outputs": [
    {
     "name": "stdout",
     "output_type": "stream",
     "text": [
      "3\n",
      "10\n",
      "25\n",
      "1\n"
     ]
    }
   ],
   "source": [
    "# python as calculator\n",
    "print(1+2)\n",
    "print(2*5)\n",
    "print(5**2) # exponent\n",
    "print(5 % 2) # modulo - rest of division"
   ]
  },
  {
   "cell_type": "code",
   "execution_count": 12,
   "metadata": {
    "ExecuteTime": {
     "end_time": "2020-10-01T13:06:47.365133Z",
     "start_time": "2020-10-01T13:06:47.328132Z"
    }
   },
   "outputs": [
    {
     "name": "stdout",
     "output_type": "stream",
     "text": [
      "12.2\n"
     ]
    }
   ],
   "source": [
    "# variables to store a piece of data\n",
    "a = 5\n",
    "b = 7.2\n",
    "print(a+b)"
   ]
  },
  {
   "cell_type": "code",
   "execution_count": 13,
   "metadata": {
    "ExecuteTime": {
     "end_time": "2020-10-01T13:07:02.002999Z",
     "start_time": "2020-10-01T13:07:01.999005Z"
    }
   },
   "outputs": [
    {
     "data": {
      "text/plain": [
       "int"
      ]
     },
     "execution_count": 13,
     "metadata": {},
     "output_type": "execute_result"
    }
   ],
   "source": [
    "type(a)"
   ]
  },
  {
   "cell_type": "code",
   "execution_count": 14,
   "metadata": {
    "ExecuteTime": {
     "end_time": "2020-10-01T13:07:06.760700Z",
     "start_time": "2020-10-01T13:07:06.756734Z"
    }
   },
   "outputs": [
    {
     "data": {
      "text/plain": [
       "float"
      ]
     },
     "execution_count": 14,
     "metadata": {},
     "output_type": "execute_result"
    }
   ],
   "source": [
    "type(b)"
   ]
  },
  {
   "cell_type": "code",
   "execution_count": 16,
   "metadata": {
    "ExecuteTime": {
     "end_time": "2020-10-01T13:07:43.346444Z",
     "start_time": "2020-10-01T13:07:43.342796Z"
    }
   },
   "outputs": [
    {
     "data": {
      "text/plain": [
       "7"
      ]
     },
     "execution_count": 16,
     "metadata": {},
     "output_type": "execute_result"
    }
   ],
   "source": [
    "# change type (= casting)\n",
    "int(7.9)"
   ]
  },
  {
   "cell_type": "code",
   "execution_count": 20,
   "metadata": {
    "ExecuteTime": {
     "end_time": "2020-10-01T13:09:02.927066Z",
     "start_time": "2020-10-01T13:09:02.924030Z"
    }
   },
   "outputs": [
    {
     "name": "stdout",
     "output_type": "stream",
     "text": [
      "Hello you\n"
     ]
    }
   ],
   "source": [
    "x = \"Hello \"\n",
    "y = \"you\"\n",
    "print(x + y) # concatenation"
   ]
  },
  {
   "cell_type": "code",
   "execution_count": 19,
   "metadata": {
    "ExecuteTime": {
     "end_time": "2020-10-01T13:08:33.454070Z",
     "start_time": "2020-10-01T13:08:33.447984Z"
    }
   },
   "outputs": [
    {
     "data": {
      "text/plain": [
       "str"
      ]
     },
     "execution_count": 19,
     "metadata": {},
     "output_type": "execute_result"
    }
   ],
   "source": [
    "type(x)"
   ]
  },
  {
   "cell_type": "code",
   "execution_count": 21,
   "metadata": {
    "ExecuteTime": {
     "end_time": "2020-10-01T13:09:04.814385Z",
     "start_time": "2020-10-01T13:09:04.807708Z"
    }
   },
   "outputs": [
    {
     "name": "stdout",
     "output_type": "stream",
     "text": [
      "6\n"
     ]
    }
   ],
   "source": [
    "print(len(x))"
   ]
  },
  {
   "cell_type": "markdown",
   "metadata": {},
   "source": [
    "## Exercises"
   ]
  },
  {
   "cell_type": "markdown",
   "metadata": {},
   "source": [
    "* Store the result of 25 * 4 in a variable\n",
    "* then, using this new variable, display the following sentence: '25 * 4 = 100'"
   ]
  },
  {
   "cell_type": "markdown",
   "metadata": {
    "deletable": false,
    "editable": false
   },
   "source": [
    "### Solution"
   ]
  },
  {
   "cell_type": "code",
   "execution_count": 24,
   "metadata": {
    "ExecuteTime": {
     "end_time": "2020-10-01T13:14:07.482283Z",
     "start_time": "2020-10-01T13:14:07.478915Z"
    }
   },
   "outputs": [
    {
     "name": "stdout",
     "output_type": "stream",
     "text": [
      "25 * 4 =  100\n"
     ]
    }
   ],
   "source": [
    "x = 25 * 4\n",
    "\n",
    "print('25 * 4 = ', x)"
   ]
  },
  {
   "cell_type": "markdown",
   "metadata": {},
   "source": [
    "# Data structure"
   ]
  },
  {
   "cell_type": "markdown",
   "metadata": {},
   "source": [
    "## Lists"
   ]
  },
  {
   "cell_type": "code",
   "execution_count": 46,
   "metadata": {
    "ExecuteTime": {
     "end_time": "2020-10-01T13:24:58.354858Z",
     "start_time": "2020-10-01T13:24:58.351042Z"
    }
   },
   "outputs": [
    {
     "name": "stdout",
     "output_type": "stream",
     "text": [
      "[2, 5.2, 6, 'Ben']\n"
     ]
    }
   ],
   "source": [
    "l = [2, 5.2, 6, \"Ben\"]\n",
    "print(l)"
   ]
  },
  {
   "cell_type": "code",
   "execution_count": 32,
   "metadata": {
    "ExecuteTime": {
     "end_time": "2020-10-01T13:18:43.261598Z",
     "start_time": "2020-10-01T13:18:43.258160Z"
    }
   },
   "outputs": [
    {
     "data": {
      "text/plain": [
       "6"
      ]
     },
     "execution_count": 32,
     "metadata": {},
     "output_type": "execute_result"
    }
   ],
   "source": [
    "# zero-indexed !!!\n",
    "l[2]"
   ]
  },
  {
   "cell_type": "code",
   "execution_count": 31,
   "metadata": {
    "ExecuteTime": {
     "end_time": "2020-10-01T13:17:58.844663Z",
     "start_time": "2020-10-01T13:17:58.840046Z"
    }
   },
   "outputs": [
    {
     "data": {
      "text/plain": [
       "6"
      ]
     },
     "execution_count": 31,
     "metadata": {},
     "output_type": "execute_result"
    }
   ],
   "source": [
    "l[-2]"
   ]
  },
  {
   "cell_type": "code",
   "execution_count": 40,
   "metadata": {
    "ExecuteTime": {
     "end_time": "2020-10-01T13:21:16.564935Z",
     "start_time": "2020-10-01T13:21:16.560382Z"
    }
   },
   "outputs": [
    {
     "name": "stdout",
     "output_type": "stream",
     "text": [
      "[2, 5.2]\n",
      "[2, 6]\n"
     ]
    }
   ],
   "source": [
    "print(l[0:2])\n",
    "print(l[::2])"
   ]
  },
  {
   "cell_type": "code",
   "execution_count": 41,
   "metadata": {
    "ExecuteTime": {
     "end_time": "2020-10-01T13:22:02.145319Z",
     "start_time": "2020-10-01T13:22:02.142223Z"
    }
   },
   "outputs": [
    {
     "name": "stdout",
     "output_type": "stream",
     "text": [
      "[2, 5.2, 6, 'Tom']\n"
     ]
    }
   ],
   "source": [
    "l[-1] = \"Tom\"\n",
    "print(l)"
   ]
  },
  {
   "cell_type": "code",
   "execution_count": 42,
   "metadata": {
    "ExecuteTime": {
     "end_time": "2020-10-01T13:22:49.134103Z",
     "start_time": "2020-10-01T13:22:49.131154Z"
    }
   },
   "outputs": [
    {
     "name": "stdout",
     "output_type": "stream",
     "text": [
      "[2, 5.2, 6, 'Tom', 'Xavier']\n"
     ]
    }
   ],
   "source": [
    "l.append(\"Xavier\")\n",
    "\n",
    "print(l)"
   ]
  },
  {
   "cell_type": "code",
   "execution_count": 50,
   "metadata": {
    "ExecuteTime": {
     "end_time": "2020-10-01T13:28:47.669611Z",
     "start_time": "2020-10-01T13:28:47.665834Z"
    }
   },
   "outputs": [],
   "source": [
    "l.insert(2, \"hello\")"
   ]
  },
  {
   "cell_type": "code",
   "execution_count": 43,
   "metadata": {
    "ExecuteTime": {
     "end_time": "2020-10-01T13:24:02.500903Z",
     "start_time": "2020-10-01T13:24:02.495625Z"
    }
   },
   "outputs": [
    {
     "data": {
      "text/plain": [
       "5"
      ]
     },
     "execution_count": 43,
     "metadata": {},
     "output_type": "execute_result"
    }
   ],
   "source": [
    "len(l)"
   ]
  },
  {
   "cell_type": "code",
   "execution_count": 47,
   "metadata": {
    "ExecuteTime": {
     "end_time": "2020-10-01T13:25:01.509621Z",
     "start_time": "2020-10-01T13:25:01.505039Z"
    }
   },
   "outputs": [
    {
     "name": "stdout",
     "output_type": "stream",
     "text": [
      "[2, 6, 'Ben']\n"
     ]
    }
   ],
   "source": [
    "del l[1]\n",
    "print(l)"
   ]
  },
  {
   "cell_type": "code",
   "execution_count": 48,
   "metadata": {
    "ExecuteTime": {
     "end_time": "2020-10-01T13:25:28.054864Z",
     "start_time": "2020-10-01T13:25:28.050405Z"
    }
   },
   "outputs": [
    {
     "data": {
      "text/plain": [
       "['pomme', 'poire', 'orange', 'pomme', 'cerise', 'orange']"
      ]
     },
     "execution_count": 48,
     "metadata": {},
     "output_type": "execute_result"
    }
   ],
   "source": [
    "l1 = [\"pomme\", \"poire\", \"orange\"]\n",
    "l2 = [\"pomme\", \"cerise\", \"orange\"]\n",
    "\n",
    "l3 = l1 + l2 \n",
    "print(l3)"
   ]
  },
  {
   "cell_type": "code",
   "execution_count": 49,
   "metadata": {
    "ExecuteTime": {
     "end_time": "2020-10-01T13:26:15.655583Z",
     "start_time": "2020-10-01T13:26:15.651493Z"
    }
   },
   "outputs": [
    {
     "data": {
      "text/plain": [
       "['orange', 'poire', 'pomme']"
      ]
     },
     "execution_count": 49,
     "metadata": {},
     "output_type": "execute_result"
    }
   ],
   "source": [
    "l1.sort()\n",
    "l1"
   ]
  },
  {
   "cell_type": "markdown",
   "metadata": {},
   "source": [
    "## Tuples"
   ]
  },
  {
   "cell_type": "code",
   "execution_count": 62,
   "metadata": {
    "ExecuteTime": {
     "end_time": "2020-10-01T13:39:43.749865Z",
     "start_time": "2020-10-01T13:39:43.746995Z"
    }
   },
   "outputs": [],
   "source": [
    "l = [2, 5, 6]\n",
    "l[0] = 3"
   ]
  },
  {
   "cell_type": "code",
   "execution_count": 63,
   "metadata": {
    "ExecuteTime": {
     "end_time": "2020-10-01T13:39:47.827542Z",
     "start_time": "2020-10-01T13:39:47.824037Z"
    }
   },
   "outputs": [
    {
     "name": "stdout",
     "output_type": "stream",
     "text": [
      "[3, 5, 6]\n"
     ]
    }
   ],
   "source": [
    "print(l)"
   ]
  },
  {
   "cell_type": "code",
   "execution_count": 64,
   "metadata": {
    "ExecuteTime": {
     "end_time": "2020-10-01T13:39:51.209236Z",
     "start_time": "2020-10-01T13:39:51.205913Z"
    }
   },
   "outputs": [
    {
     "name": "stdout",
     "output_type": "stream",
     "text": [
      "(2, 5, 6)\n"
     ]
    }
   ],
   "source": [
    "t = (2, 5, 6)\n",
    "print(t)"
   ]
  },
  {
   "cell_type": "code",
   "execution_count": 53,
   "metadata": {
    "ExecuteTime": {
     "end_time": "2020-10-01T13:29:57.351497Z",
     "start_time": "2020-10-01T13:29:57.316310Z"
    }
   },
   "outputs": [
    {
     "data": {
      "text/plain": [
       "2"
      ]
     },
     "execution_count": 53,
     "metadata": {},
     "output_type": "execute_result"
    }
   ],
   "source": [
    "t[0]"
   ]
  },
  {
   "cell_type": "code",
   "execution_count": 65,
   "metadata": {
    "ExecuteTime": {
     "end_time": "2020-10-01T13:39:53.344569Z",
     "start_time": "2020-10-01T13:39:53.108571Z"
    }
   },
   "outputs": [
    {
     "ename": "TypeError",
     "evalue": "'tuple' object does not support item assignment",
     "output_type": "error",
     "traceback": [
      "\u001b[0;31m---------------------------------------------------------------------------\u001b[0m",
      "\u001b[0;31mTypeError\u001b[0m                                 Traceback (most recent call last)",
      "\u001b[0;32m<ipython-input-65-2103742316cf>\u001b[0m in \u001b[0;36m<module>\u001b[0;34m\u001b[0m\n\u001b[0;32m----> 1\u001b[0;31m \u001b[0mt\u001b[0m\u001b[0;34m[\u001b[0m\u001b[0;36m0\u001b[0m\u001b[0;34m]\u001b[0m \u001b[0;34m=\u001b[0m \u001b[0;36m3\u001b[0m\u001b[0;34m\u001b[0m\u001b[0m\n\u001b[0m\u001b[1;32m      2\u001b[0m \u001b[0mprint\u001b[0m\u001b[0;34m(\u001b[0m\u001b[0mt\u001b[0m\u001b[0;34m)\u001b[0m \u001b[0;31m# tuples cannot be modified once created\u001b[0m\u001b[0;34m\u001b[0m\u001b[0m\n",
      "\u001b[0;31mTypeError\u001b[0m: 'tuple' object does not support item assignment"
     ]
    }
   ],
   "source": [
    "t[0] = 3\n",
    "print(t) # tuples cannot be modified once created"
   ]
  },
  {
   "cell_type": "markdown",
   "metadata": {},
   "source": [
    "## Sets"
   ]
  },
  {
   "cell_type": "code",
   "execution_count": 55,
   "metadata": {
    "ExecuteTime": {
     "end_time": "2020-10-01T13:32:01.366211Z",
     "start_time": "2020-10-01T13:32:01.348356Z"
    }
   },
   "outputs": [
    {
     "data": {
      "text/plain": [
       "['pomme', 'poire', 'orange', 'pomme', 'cerise', 'orange']"
      ]
     },
     "execution_count": 55,
     "metadata": {},
     "output_type": "execute_result"
    }
   ],
   "source": [
    "l3"
   ]
  },
  {
   "cell_type": "code",
   "execution_count": 56,
   "metadata": {
    "ExecuteTime": {
     "end_time": "2020-10-01T13:32:14.143117Z",
     "start_time": "2020-10-01T13:32:14.136500Z"
    }
   },
   "outputs": [
    {
     "data": {
      "text/plain": [
       "{'cerise', 'orange', 'poire', 'pomme'}"
      ]
     },
     "execution_count": 56,
     "metadata": {},
     "output_type": "execute_result"
    }
   ],
   "source": [
    "set(l3)"
   ]
  },
  {
   "cell_type": "code",
   "execution_count": 36,
   "metadata": {
    "ExecuteTime": {
     "end_time": "2020-07-09T15:13:44.140088Z",
     "start_time": "2020-07-09T15:13:44.135796Z"
    }
   },
   "outputs": [
    {
     "name": "stdout",
     "output_type": "stream",
     "text": [
      "{'pomme', 'orange'}\n",
      "{'cerise', 'orange', 'poire', 'fraise', 'pomme'}\n",
      "{'cerise', 'poire'}\n"
     ]
    }
   ],
   "source": [
    "s1 = set(l3)\n",
    "s2 = set([\"fraise\", \"pomme\", \"orange\"])\n",
    "print(s1.intersection(s2))\n",
    "print(s1.union(s2))\n",
    "print(s1.difference(s2))"
   ]
  },
  {
   "cell_type": "markdown",
   "metadata": {},
   "source": [
    "## Dictionaries"
   ]
  },
  {
   "cell_type": "code",
   "execution_count": 58,
   "metadata": {
    "ExecuteTime": {
     "end_time": "2020-10-01T13:36:58.964573Z",
     "start_time": "2020-10-01T13:36:58.959409Z"
    }
   },
   "outputs": [
    {
     "name": "stdout",
     "output_type": "stream",
     "text": [
      "{'orange': 1, 'poire': 2, 'pomme': 5}\n"
     ]
    }
   ],
   "source": [
    "inventaire = {\"pomme\": 5,\n",
    "      \"poire\" : 2,\n",
    "      \"orange\": 1}\n",
    "\n",
    "print(inventaire)"
   ]
  },
  {
   "cell_type": "code",
   "execution_count": 59,
   "metadata": {
    "ExecuteTime": {
     "end_time": "2020-10-01T13:37:03.992074Z",
     "start_time": "2020-10-01T13:37:03.987402Z"
    }
   },
   "outputs": [
    {
     "data": {
      "text/plain": [
       "2"
      ]
     },
     "execution_count": 59,
     "metadata": {},
     "output_type": "execute_result"
    }
   ],
   "source": [
    "inventaire[\"poire\"]"
   ]
  },
  {
   "cell_type": "code",
   "execution_count": 60,
   "metadata": {
    "ExecuteTime": {
     "end_time": "2020-10-01T13:37:18.494220Z",
     "start_time": "2020-10-01T13:37:18.489947Z"
    }
   },
   "outputs": [
    {
     "name": "stdout",
     "output_type": "stream",
     "text": [
      "{'orange': 0, 'poire': 2, 'pomme': 5}\n"
     ]
    }
   ],
   "source": [
    "inventaire[\"orange\"] = inventaire[\"orange\"] - 1\n",
    "print(inventaire)"
   ]
  },
  {
   "cell_type": "code",
   "execution_count": 61,
   "metadata": {
    "ExecuteTime": {
     "end_time": "2020-10-01T13:37:39.270134Z",
     "start_time": "2020-10-01T13:37:39.261256Z"
    }
   },
   "outputs": [
    {
     "name": "stdout",
     "output_type": "stream",
     "text": [
      "dict_keys(['orange', 'poire', 'pomme'])\n",
      "dict_items([('orange', 0), ('poire', 2), ('pomme', 5)])\n"
     ]
    }
   ],
   "source": [
    "print(inventaire.keys())\n",
    "print(inventaire.items())"
   ]
  },
  {
   "cell_type": "markdown",
   "metadata": {},
   "source": [
    "## Exercises"
   ]
  },
  {
   "cell_type": "markdown",
   "metadata": {},
   "source": [
    "* create a list containing the 10 first letters of the alphabet\n",
    "* create another list containing the letters of your first name\n",
    "* use sets and related methods to display the common letters of these 2 lists in alphabetical order"
   ]
  },
  {
   "cell_type": "markdown",
   "metadata": {},
   "source": [
    "### Solution"
   ]
  },
  {
   "cell_type": "code",
   "execution_count": 24,
   "metadata": {
    "ExecuteTime": {
     "end_time": "2020-09-17T09:50:02.420355Z",
     "start_time": "2020-09-17T09:50:02.390423Z"
    }
   },
   "outputs": [
    {
     "name": "stdout",
     "output_type": "stream",
     "text": [
      "Common letters:\n",
      "['b', 'e', 'i']\n"
     ]
    }
   ],
   "source": [
    "alphabet = ['a', 'b', 'c', 'd', 'e', 'f', 'g', 'h', 'i', 'j']\n",
    "name = list(\"Benoit\".lower())\n",
    "\n",
    "common_letters = list(set(alphabet).intersection(set(name)))\n",
    "common_letters.sort()\n",
    "\n",
    "print(\"Common letters:\")\n",
    "print(common_letters)"
   ]
  },
  {
   "cell_type": "markdown",
   "metadata": {},
   "source": [
    "# Non linear programming"
   ]
  },
  {
   "cell_type": "markdown",
   "metadata": {},
   "source": [
    "## Conditions"
   ]
  },
  {
   "cell_type": "code",
   "execution_count": 66,
   "metadata": {
    "ExecuteTime": {
     "end_time": "2020-10-01T13:46:58.440343Z",
     "start_time": "2020-10-01T13:46:58.437777Z"
    }
   },
   "outputs": [],
   "source": [
    "# boolean values\n",
    "a = True\n",
    "b = False"
   ]
  },
  {
   "cell_type": "code",
   "execution_count": 3,
   "metadata": {
    "ExecuteTime": {
     "end_time": "2020-07-09T09:33:34.346598Z",
     "start_time": "2020-07-09T09:33:34.339983Z"
    }
   },
   "outputs": [
    {
     "name": "stdout",
     "output_type": "stream",
     "text": [
      "False\n",
      "True\n",
      "False\n"
     ]
    }
   ],
   "source": [
    "#logics\n",
    "print(a and b)\n",
    "print(a or b)\n",
    "print(not a)"
   ]
  },
  {
   "cell_type": "code",
   "execution_count": 17,
   "metadata": {
    "ExecuteTime": {
     "end_time": "2020-09-16T15:24:57.019726Z",
     "start_time": "2020-09-16T15:24:57.016564Z"
    }
   },
   "outputs": [
    {
     "name": "stdout",
     "output_type": "stream",
     "text": [
      "False\n",
      "True\n"
     ]
    }
   ],
   "source": [
    "# also with operator\n",
    "print(a & b)\n",
    "print(a | b)"
   ]
  },
  {
   "cell_type": "code",
   "execution_count": 71,
   "metadata": {
    "ExecuteTime": {
     "end_time": "2020-10-01T13:52:54.262652Z",
     "start_time": "2020-10-01T13:52:54.257049Z"
    }
   },
   "outputs": [
    {
     "name": "stdout",
     "output_type": "stream",
     "text": [
      "ok\n",
      "good\n"
     ]
    }
   ],
   "source": [
    "a = 12 #note devoir\n",
    "\n",
    "if a >= 15:\n",
    "    print(\"Very good\")\n",
    "    \n",
    "elif a >= 10:\n",
    "    if a<13:\n",
    "        print(\"ok\")\n",
    "        print(\"good\")\n",
    "    \n",
    "else:\n",
    "    print(\"not good\")"
   ]
  },
  {
   "cell_type": "markdown",
   "metadata": {},
   "source": [
    "## Loops"
   ]
  },
  {
   "cell_type": "code",
   "execution_count": 76,
   "metadata": {
    "ExecuteTime": {
     "end_time": "2020-10-01T13:57:18.670206Z",
     "start_time": "2020-10-01T13:57:18.665929Z"
    }
   },
   "outputs": [
    {
     "name": "stdout",
     "output_type": "stream",
     "text": [
      "Hello\n",
      "Hello\n",
      "Hello\n"
     ]
    }
   ],
   "source": [
    "a = 5\n",
    "\n",
    "while a > 0:\n",
    "    print(\"Hello\")\n",
    "    a = a - 2"
   ]
  },
  {
   "cell_type": "code",
   "execution_count": 74,
   "metadata": {
    "ExecuteTime": {
     "end_time": "2020-10-01T13:56:12.108891Z",
     "start_time": "2020-10-01T13:56:12.104990Z"
    }
   },
   "outputs": [
    {
     "data": {
      "text/plain": [
       "[0, 1, 2, 3, 4]"
      ]
     },
     "execution_count": 74,
     "metadata": {},
     "output_type": "execute_result"
    }
   ],
   "source": [
    "list(range(5))"
   ]
  },
  {
   "cell_type": "code",
   "execution_count": 75,
   "metadata": {
    "ExecuteTime": {
     "end_time": "2020-10-01T13:56:52.186814Z",
     "start_time": "2020-10-01T13:56:52.183433Z"
    }
   },
   "outputs": [
    {
     "name": "stdout",
     "output_type": "stream",
     "text": [
      "Hello 0\n",
      "Hello 1\n",
      "Hello 2\n",
      "Hello 3\n",
      "Hello 4\n"
     ]
    }
   ],
   "source": [
    "for i in range(5):\n",
    "    print(\"Hello\", i)"
   ]
  },
  {
   "cell_type": "code",
   "execution_count": 9,
   "metadata": {
    "ExecuteTime": {
     "end_time": "2020-07-09T09:40:43.677834Z",
     "start_time": "2020-07-09T09:40:43.672118Z"
    }
   },
   "outputs": [
    {
     "name": "stdout",
     "output_type": "stream",
     "text": [
      "0 0\n",
      "0 1\n",
      "1 0\n",
      "1 1\n",
      "2 0\n",
      "2 1\n"
     ]
    }
   ],
   "source": [
    "for i in range(3):\n",
    "    for j in range(2):\n",
    "        print(i,j)"
   ]
  },
  {
   "cell_type": "markdown",
   "metadata": {},
   "source": [
    "## Exercises"
   ]
  },
  {
   "cell_type": "markdown",
   "metadata": {},
   "source": [
    "Implement the following algorithm:\n",
    "\n",
    "* initialize a variable with value between 100 and 200\n",
    "* if variable is an even number, then divide it by 2 and substract 1, else substract 11\n",
    "* store the new result in a variable and repeat this process until the result is negative (print that result)\n",
    "\n",
    "(Optional)\n",
    "* at the end, display a sentence like this: 'When starting with number ... it took ... steps to become negative"
   ]
  },
  {
   "cell_type": "markdown",
   "metadata": {},
   "source": [
    "### Solution"
   ]
  },
  {
   "cell_type": "code",
   "execution_count": 21,
   "metadata": {
    "ExecuteTime": {
     "end_time": "2020-09-17T09:46:28.971468Z",
     "start_time": "2020-09-17T09:46:28.950363Z"
    }
   },
   "outputs": [
    {
     "name": "stdout",
     "output_type": "stream",
     "text": [
      "When starting with number 155 it took  8 steps to become negative ( -8.0 )\n"
     ]
    }
   ],
   "source": [
    "initial_number = 155\n",
    "x = initial_number\n",
    "\n",
    "n_steps = 0\n",
    "\n",
    "while x >= 0:\n",
    "    if x%2 == 0:\n",
    "        x = x / 2 - 1\n",
    "    else:\n",
    "        x = x - 11\n",
    "    n_steps += 1\n",
    "        \n",
    "print(\"When starting with number\", initial_number, \"it took \", n_steps, \"steps to become negative (\", x, \")\")"
   ]
  },
  {
   "cell_type": "markdown",
   "metadata": {},
   "source": [
    "# Functions and classes"
   ]
  },
  {
   "cell_type": "code",
   "execution_count": 77,
   "metadata": {
    "ExecuteTime": {
     "end_time": "2020-10-01T14:07:44.141618Z",
     "start_time": "2020-10-01T14:07:44.138957Z"
    }
   },
   "outputs": [],
   "source": [
    "def print_hello():\n",
    "    print(\"hello\")"
   ]
  },
  {
   "cell_type": "code",
   "execution_count": 78,
   "metadata": {
    "ExecuteTime": {
     "end_time": "2020-10-01T14:07:50.967220Z",
     "start_time": "2020-10-01T14:07:50.964012Z"
    }
   },
   "outputs": [
    {
     "name": "stdout",
     "output_type": "stream",
     "text": [
      "hello\n"
     ]
    }
   ],
   "source": [
    "print_hello()"
   ]
  },
  {
   "cell_type": "code",
   "execution_count": 79,
   "metadata": {
    "ExecuteTime": {
     "end_time": "2020-10-01T14:08:40.210650Z",
     "start_time": "2020-10-01T14:08:40.204641Z"
    }
   },
   "outputs": [
    {
     "data": {
      "text/plain": [
       "10"
      ]
     },
     "execution_count": 79,
     "metadata": {},
     "output_type": "execute_result"
    }
   ],
   "source": [
    "def somme(a,b):\n",
    "    result = a + b\n",
    "    return(result)\n",
    "\n",
    "somme(5,5)"
   ]
  },
  {
   "cell_type": "code",
   "execution_count": 80,
   "metadata": {
    "ExecuteTime": {
     "end_time": "2020-10-01T14:09:47.030538Z",
     "start_time": "2020-10-01T14:09:47.025116Z"
    }
   },
   "outputs": [
    {
     "name": "stdout",
     "output_type": "stream",
     "text": [
      "8\n",
      "36\n"
     ]
    }
   ],
   "source": [
    "def power(a,b=2):\n",
    "    result = a ** b\n",
    "    return(result)\n",
    "\n",
    "print(power(2,3))\n",
    "print(power(6))"
   ]
  },
  {
   "cell_type": "code",
   "execution_count": 8,
   "metadata": {
    "ExecuteTime": {
     "end_time": "2020-09-16T15:10:00.381415Z",
     "start_time": "2020-09-16T15:10:00.373701Z"
    }
   },
   "outputs": [],
   "source": [
    "class Character():\n",
    "    def __init__(self, name, age, job): # constructor\n",
    "        self.name = name # attributes\n",
    "        self.age = age\n",
    "        self.job = job\n",
    "        \n",
    "    def introduce_yourself(self): # methods\n",
    "        print(\"Hi, I'm {}, I am {} years old and I am a {}\".format(self.name, self.age, self.job))"
   ]
  },
  {
   "cell_type": "code",
   "execution_count": 4,
   "metadata": {
    "ExecuteTime": {
     "end_time": "2020-09-16T15:09:30.384933Z",
     "start_time": "2020-09-16T15:09:30.374363Z"
    }
   },
   "outputs": [
    {
     "name": "stdout",
     "output_type": "stream",
     "text": [
      "Alice\n",
      "35\n"
     ]
    }
   ],
   "source": [
    "alice = Character(\"Alice\", 28, \"Data analyst\")\n",
    "bob = Character(\"Bob\", 35, \"Software developper\")\n",
    "\n",
    "print(alice.name)\n",
    "print(bob.age)"
   ]
  },
  {
   "cell_type": "code",
   "execution_count": 9,
   "metadata": {
    "ExecuteTime": {
     "end_time": "2020-09-16T15:10:01.218379Z",
     "start_time": "2020-09-16T15:10:01.214862Z"
    }
   },
   "outputs": [
    {
     "name": "stdout",
     "output_type": "stream",
     "text": [
      "Hi, I'm Alice, I am 28 years old and I am a Data analyst\n"
     ]
    }
   ],
   "source": [
    "alice.introduce_yourself()"
   ]
  },
  {
   "cell_type": "markdown",
   "metadata": {},
   "source": [
    "## Exercises"
   ]
  },
  {
   "cell_type": "markdown",
   "metadata": {},
   "source": [
    "* transform the code you did in exercises of sections 'Data structure' and 'Non linear programming' into 2 functions and test it again.\n",
    "* test the first function with the name \"Benjamin\"\n",
    "* test the second fucntion with input number 160"
   ]
  },
  {
   "cell_type": "markdown",
   "metadata": {},
   "source": [
    "### Solution"
   ]
  },
  {
   "cell_type": "code",
   "execution_count": 25,
   "metadata": {
    "ExecuteTime": {
     "end_time": "2020-09-17T09:50:17.217282Z",
     "start_time": "2020-09-17T09:50:17.197513Z"
    }
   },
   "outputs": [
    {
     "name": "stdout",
     "output_type": "stream",
     "text": [
      "Common letters:\n",
      "['a', 'b', 'e', 'i', 'j']\n"
     ]
    }
   ],
   "source": [
    "def fct1(name):\n",
    "\n",
    "    alphabet = ['a', 'b', 'c', 'd', 'e', 'f', 'g', 'h', 'i', 'j']\n",
    "    name = list(name.lower())\n",
    "    \n",
    "    common_letters = list(set(alphabet).intersection(set(name)))\n",
    "    common_letters.sort()\n",
    "\n",
    "    print(\"Common letters:\")\n",
    "    print(common_letters)\n",
    "    \n",
    "fct1(name = \"Benjamin\")"
   ]
  },
  {
   "cell_type": "code",
   "execution_count": 82,
   "metadata": {
    "ExecuteTime": {
     "end_time": "2020-10-01T14:23:40.025694Z",
     "start_time": "2020-10-01T14:23:40.020807Z"
    }
   },
   "outputs": [
    {
     "name": "stdout",
     "output_type": "stream",
     "text": [
      "When starting with number 180 it took  7 steps to become negative ( -8.0 )\n"
     ]
    }
   ],
   "source": [
    "def fct2(input_number):\n",
    "\n",
    "    x = input_number\n",
    "\n",
    "    n_steps = 0\n",
    "\n",
    "    while x >= 0:\n",
    "        if x%2 == 0:\n",
    "            x = x / 2 - 1\n",
    "        else:\n",
    "            x = x - 11\n",
    "        n_steps += 1\n",
    "\n",
    "    print(\"When starting with number\", input_number, \"it took \", n_steps, \"steps to become negative (\", x, \")\")\n",
    "    \n",
    "fct2(180)"
   ]
  },
  {
   "cell_type": "markdown",
   "metadata": {},
   "source": [
    "# Markdown - Latex"
   ]
  },
  {
   "cell_type": "markdown",
   "metadata": {},
   "source": [
    "Jupyter notebooks let you insert Latex expression for those who knows it. Pretty cool for reporting "
   ]
  },
  {
   "cell_type": "markdown",
   "metadata": {
    "ExecuteTime": {
     "end_time": "2020-07-09T09:43:40.418371Z",
     "start_time": "2020-07-09T09:43:40.414736Z"
    }
   },
   "source": [
    "$ 2x^2 + \\frac{3}{x} = 5$"
   ]
  }
 ],
 "metadata": {
  "kernelspec": {
   "display_name": "Python 3.5",
   "language": "python",
   "name": "my_python_3.5"
  },
  "language_info": {
   "codemirror_mode": {
    "name": "ipython",
    "version": 3
   },
   "file_extension": ".py",
   "mimetype": "text/x-python",
   "name": "python",
   "nbconvert_exporter": "python",
   "pygments_lexer": "ipython3",
   "version": "3.5.5"
  },
  "toc": {
   "base_numbering": 1,
   "nav_menu": {},
   "number_sections": true,
   "sideBar": true,
   "skip_h1_title": false,
   "title_cell": "Table of Contents",
   "title_sidebar": "Contents",
   "toc_cell": false,
   "toc_position": {
    "height": "calc(100% - 180px)",
    "left": "10px",
    "top": "150px",
    "width": "307.2px"
   },
   "toc_section_display": true,
   "toc_window_display": true
  }
 },
 "nbformat": 4,
 "nbformat_minor": 4
}
