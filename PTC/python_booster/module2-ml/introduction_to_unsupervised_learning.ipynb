{
 "cells": [
  {
   "cell_type": "code",
   "execution_count": null,
   "metadata": {
    "ExecuteTime": {
     "end_time": "2020-10-12T13:23:40.384170Z",
     "start_time": "2020-10-12T13:23:40.290304Z"
    }
   },
   "outputs": [],
   "source": [
    "#Importing libraries\n",
    "import numpy as np\n",
    "import pandas as pd\n",
    "import random\n",
    "import matplotlib.pyplot as plt\n",
    "%matplotlib inline\n",
    "\n",
    "\n",
    "plt.rcParams['figure.figsize'] = (10,6)"
   ]
  },
  {
   "cell_type": "markdown",
   "metadata": {},
   "source": [
    "# Clustering example"
   ]
  },
  {
   "cell_type": "code",
   "execution_count": null,
   "metadata": {
    "ExecuteTime": {
     "end_time": "2020-10-12T13:25:18.516320Z",
     "start_time": "2020-10-12T13:25:18.495965Z"
    }
   },
   "outputs": [],
   "source": [
    "data = pd.read_csv(\"iris.csv\")\n",
    "data.head()"
   ]
  },
  {
   "cell_type": "code",
   "execution_count": null,
   "metadata": {
    "ExecuteTime": {
     "end_time": "2020-10-12T13:25:28.220569Z",
     "start_time": "2020-10-12T13:25:28.210359Z"
    }
   },
   "outputs": [],
   "source": [
    "y  = data[\"species\"].copy()\n",
    "X = data.drop(\"species\", axis=1)\n",
    "\n",
    "X.head(2)"
   ]
  },
  {
   "cell_type": "code",
   "execution_count": null,
   "metadata": {
    "ExecuteTime": {
     "end_time": "2020-10-12T13:29:52.282650Z",
     "start_time": "2020-10-12T13:29:51.875665Z"
    }
   },
   "outputs": [],
   "source": [
    "from sklearn.cluster import KMeans\n",
    "\n",
    "model = KMeans(n_clusters=3).fit(X)\n",
    "\n",
    "centroids = model.cluster_centers_\n",
    "centroids = pd.DataFrame(centroids, columns=X.columns)\n",
    "\n",
    "clusters = model.labels_\n",
    "\n",
    "fig, ax = plt.subplots(1,2,sharey=True,figsize=(12,6) )\n",
    "\n",
    "ax[0].scatter(X['petal_length'], X['petal_width'], c= clusters, s=50, alpha=0.6)\n",
    "ax[0].scatter(centroids.loc[:, 'petal_length'], centroids.loc[:, 'petal_width'], c='red', s=100, marker=\"+\", label=\"centroids\")\n",
    "ax[0].set_xlabel(\"petal length\")\n",
    "ax[0].set_ylabel(\"petal width\")\n",
    "ax[0].legend()\n",
    "ax[0].set_title(\"Predicted clusters\")\n",
    "\n",
    "\n",
    "ax[1].scatter(X['petal_length'], X['petal_width'], c= y.map( {\"setosa\":0, \"versicolor\":1, \"virginica\":2}), s=50, alpha=0.8)\n",
    "ax[1].set_title(\"Real species\")\n",
    "\n",
    "plt.show()"
   ]
  },
  {
   "cell_type": "code",
   "execution_count": null,
   "metadata": {
    "ExecuteTime": {
     "end_time": "2020-10-12T13:30:04.576679Z",
     "start_time": "2020-10-12T13:30:04.204350Z"
    }
   },
   "outputs": [],
   "source": [
    "from sklearn.metrics import mutual_info_score, homogeneity_score, silhouette_score\n",
    "from sklearn.metrics.cluster import contingency_matrix\n",
    "\n",
    "print(\"Agreement with true labels = {:.1%}\".format(mutual_info_score(clusters, y)))\n",
    "print(\"Homogeneity with true labels = {:.1%}\".format(homogeneity_score(clusters, y))) # [0,1] each cluster contains only members of a single class\n",
    "print(\"Silhouette coefficient = {:.2}\".format(silhouette_score(X, clusters, metric='euclidean'))) # [-1, 1] the higher, the more compact distinct clusters\n",
    "display(contingency_matrix(clusters,y))"
   ]
  },
  {
   "cell_type": "code",
   "execution_count": null,
   "metadata": {
    "ExecuteTime": {
     "end_time": "2020-10-12T13:30:13.356108Z",
     "start_time": "2020-10-12T13:30:12.182525Z"
    }
   },
   "outputs": [],
   "source": [
    "intertias = []\n",
    "\n",
    "for i in range(1, 15):\n",
    "    \n",
    "    km = KMeans(\n",
    "        n_clusters=i,\n",
    "        random_state=0\n",
    "    )\n",
    "    km.fit(X)\n",
    "    intertias.append(km.inertia_)\n",
    "\n",
    "# plot\n",
    "plt.figure(figsize=(10,6))\n",
    "plt.plot(range(1, 15), intertias, marker='o')\n",
    "plt.xlabel('Number of clusters')\n",
    "plt.ylabel('intertias')\n",
    "plt.show()"
   ]
  },
  {
   "cell_type": "markdown",
   "metadata": {},
   "source": [
    "# Exercise"
   ]
  },
  {
   "cell_type": "markdown",
   "metadata": {},
   "source": [
    "For this exercise you will use another dataset called HTRU2.\n",
    "\n",
    "You can find it here: https://archive.ics.uci.edu/ml/datasets/HTRU2\n",
    "\n",
    "This dataset contains data about pulsar candidates.\n",
    "\n",
    "    Pulsars are a rare type of Neutron star that produce radio emission detectable here on Earth. They are of considerable scientific interest as probes of space-time, the inter-stellar medium, and states of matter (see [2] for more uses).\n",
    "\n",
    "    As pulsars rotate, their emission beam sweeps across the sky, and when this crosses our line of sight, produces a detectable pattern of broadband radio emission. As pulsars rotate rapidly, this pattern repeats periodically. Thus pulsar search involves looking for periodic radio signals with large radio telescopes.\n",
    "\n",
    "    Each pulsar produces a slightly different emission pattern, which varies slightly with each rotation. Thus a potential signal detection known as a 'candidate', is averaged over many rotations of the pulsar, as determined by the length of an observation. In the absence of additional info, each candidate could potentially describe a real pulsar. However in practice almost all detections are caused by radio frequency interference (RFI) and noise, making legitimate signals hard to find.\n",
    "\n",
    "The data set shared here contains 16,259 spurious examples caused by RFI/noise, and 1,639 real pulsar examples. The class labels used are 0 (negative) and 1 (positive)."
   ]
  },
  {
   "cell_type": "markdown",
   "metadata": {},
   "source": [
    "NB: don't change the existing code in the cells below, only add code to make it work properly"
   ]
  },
  {
   "cell_type": "markdown",
   "metadata": {},
   "source": [
    "## Preparing data"
   ]
  },
  {
   "cell_type": "markdown",
   "metadata": {},
   "source": [
    "Import the HTRU_2.csv dataset and have a look at it using head"
   ]
  },
  {
   "cell_type": "code",
   "execution_count": null,
   "metadata": {},
   "outputs": [],
   "source": [
    "df = ...\n",
    "df.head()"
   ]
  },
  {
   "cell_type": "markdown",
   "metadata": {},
   "source": [
    "Check if there are missing values in the dataset (you can use isna and sum methods)"
   ]
  },
  {
   "cell_type": "code",
   "execution_count": null,
   "metadata": {},
   "outputs": [],
   "source": [
    "..."
   ]
  },
  {
   "cell_type": "markdown",
   "metadata": {},
   "source": [
    "extract the target values in one variable and keep all the other columns in another variable"
   ]
  },
  {
   "cell_type": "code",
   "execution_count": null,
   "metadata": {},
   "outputs": [],
   "source": [
    "y = ...\n",
    "X = ..."
   ]
  },
  {
   "cell_type": "code",
   "execution_count": null,
   "metadata": {},
   "outputs": [],
   "source": [
    "cols = X.columns"
   ]
  },
  {
   "cell_type": "markdown",
   "metadata": {},
   "source": [
    "## Modeling"
   ]
  },
  {
   "cell_type": "markdown",
   "metadata": {},
   "source": [
    "* Create a KMeans model\n",
    "* Fit it to your dataset\n",
    "* select 2 columns for the plots\n",
    "* create a scatter plot to show your columns on the 2 axes colored by the cluster they belong to\n",
    "* then on the same plot, add the centroids points\n",
    "* finally create a second plot with the real data colored by their target values\n",
    "* then try with different columns to find the best clusters"
   ]
  },
  {
   "cell_type": "code",
   "execution_count": null,
   "metadata": {
    "ExecuteTime": {
     "end_time": "2020-10-12T13:40:24.523712Z",
     "start_time": "2020-10-12T13:40:24.516852Z"
    }
   },
   "outputs": [],
   "source": [
    "y.value_counts()"
   ]
  },
  {
   "cell_type": "code",
   "execution_count": null,
   "metadata": {
    "ExecuteTime": {
     "end_time": "2020-10-12T13:40:37.341291Z",
     "start_time": "2020-10-12T13:40:37.158918Z"
    }
   },
   "outputs": [],
   "source": [
    "from sklearn.preprocessing import StandardScaler\n",
    "\n",
    "sc = StandardScaler()\n",
    "X = pd.DataFrame(sc.fit_transform(X))\n",
    "X.columns = cols"
   ]
  },
  {
   "cell_type": "code",
   "execution_count": null,
   "metadata": {
    "ExecuteTime": {
     "end_time": "2020-10-12T13:45:02.199785Z",
     "start_time": "2020-10-12T13:44:59.225807Z"
    }
   },
   "outputs": [],
   "source": [
    "from sklearn.cluster import KMeans\n",
    "\n",
    "model = KMeans(n_clusters=...).fit(...)\n",
    "\n",
    "centroids = model.cluster_centers_\n",
    "centroids = pd.DataFrame(centroids, columns=X.columns)\n",
    "\n",
    "clusters = model.labels_\n",
    "\n",
    "# choose columns for visualization\n",
    "column1 = ...\n",
    "column2 = ...\n",
    "\n",
    "fig, ax = plt.subplots(1,2,sharey=True,figsize=(12,6) )\n",
    "\n",
    "\n",
    "ax[0].scatter(X[column1], X[column2], c= clusters, s=50, alpha=0.6)\n",
    "ax[0].scatter(centroids.loc[:, column1], centroids.loc[:, column2], c='red', s=100, marker=\"+\", label=\"centroids\")\n",
    "ax[0].set_xlabel(column1)\n",
    "ax[0].set_ylabel(column2)\n",
    "ax[0].legend()\n",
    "ax[0].set_title(\"Predicted clusters\")\n",
    "\n",
    "ax[1].scatter(X[column1], X[column2], c= y, s=50, alpha=0.8)\n",
    "ax[1].set_title(\"Real heart attack\")\n",
    "\n",
    "plt.show()"
   ]
  },
  {
   "cell_type": "code",
   "execution_count": null,
   "metadata": {
    "ExecuteTime": {
     "end_time": "2020-10-07T09:27:00.436181Z",
     "start_time": "2020-10-07T09:27:00.411012Z"
    }
   },
   "outputs": [],
   "source": [
    "from sklearn.metrics import mutual_info_score, homogeneity_score, silhouette_score\n",
    "from sklearn.metrics.cluster import contingency_matrix\n",
    "\n",
    "print(\"Agreement with true labels = {:.1%}\".format(mutual_info_score(..., ...)))\n",
    "print(\"Homogeneity with true labels = {:.1%}\".format(homogeneity_score(..., ...))) # [0,1] each cluster contains only members of a single class\n",
    "print(\"Silhouette coefficient = {:.2}\".format(silhouette_score(..., ..., metric='euclidean'))) # [-1, 1] the higher, the more compact distinct clusters\n",
    "display(contingency_matrix(...,...))"
   ]
  }
 ],
 "metadata": {
  "kernelspec": {
   "display_name": "Python 3.5",
   "language": "python",
   "name": "my_python_3.5"
  },
  "language_info": {
   "codemirror_mode": {
    "name": "ipython",
    "version": 3
   },
   "file_extension": ".py",
   "mimetype": "text/x-python",
   "name": "python",
   "nbconvert_exporter": "python",
   "pygments_lexer": "ipython3",
   "version": "3.5.5"
  },
  "toc": {
   "base_numbering": 1,
   "nav_menu": {},
   "number_sections": true,
   "sideBar": true,
   "skip_h1_title": false,
   "title_cell": "Table of Contents",
   "title_sidebar": "Contents",
   "toc_cell": false,
   "toc_position": {
    "height": "calc(100% - 180px)",
    "left": "10px",
    "top": "150px",
    "width": "307.2px"
   },
   "toc_section_display": true,
   "toc_window_display": true
  }
 },
 "nbformat": 4,
 "nbformat_minor": 4
}
