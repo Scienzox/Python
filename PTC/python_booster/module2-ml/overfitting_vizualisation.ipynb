{
 "cells": [
  {
   "cell_type": "code",
   "execution_count": null,
   "metadata": {
    "ExecuteTime": {
     "end_time": "2020-10-12T13:15:11.427409Z",
     "start_time": "2020-10-12T13:15:11.394865Z"
    },
    "colab": {},
    "colab_type": "code",
    "id": "XiprJxiXIfN9"
   },
   "outputs": [],
   "source": [
    "#Importing libraries\n",
    "import numpy as np\n",
    "import pandas as pd\n",
    "import random\n",
    "import matplotlib.pyplot as plt\n",
    "import seaborn as sns\n",
    "%matplotlib inline\n",
    "\n",
    "plt.rcParams['figure.figsize'] = (10,6)"
   ]
  },
  {
   "cell_type": "markdown",
   "metadata": {},
   "source": [
    "# Understanding under-overfitting"
   ]
  },
  {
   "cell_type": "markdown",
   "metadata": {},
   "source": [
    "## Data generation"
   ]
  },
  {
   "cell_type": "code",
   "execution_count": null,
   "metadata": {
    "ExecuteTime": {
     "end_time": "2020-10-12T13:15:28.119819Z",
     "start_time": "2020-10-12T13:15:28.108428Z"
    },
    "colab": {},
    "colab_type": "code",
    "id": "QQWy8t4SIfOA"
   },
   "outputs": [],
   "source": [
    "x = np.array([i*np.pi/180 for i in range(10,360,3)])\n",
    "\n",
    "np.random.seed(10)  \n",
    "y = np.sin(x) + np.random.normal(0,0.15,len(x))\n",
    "\n",
    "data = pd.DataFrame(np.column_stack([x,y]),columns=['x','y'])\n",
    "data.head()"
   ]
  },
  {
   "cell_type": "code",
   "execution_count": null,
   "metadata": {
    "ExecuteTime": {
     "end_time": "2020-10-12T13:15:32.640710Z",
     "start_time": "2020-10-12T13:15:32.169324Z"
    },
    "colab": {
     "base_uri": "https://localhost:8080/",
     "height": 503
    },
    "colab_type": "code",
    "executionInfo": {
     "elapsed": 3529,
     "status": "ok",
     "timestamp": 1560000617523,
     "user": {
      "displayName": "Sharoon Saxena",
      "photoUrl": "",
      "userId": "14774175216384036942"
     },
     "user_tz": -330
    },
    "id": "iXKirMENIfOO",
    "outputId": "56723192-ac14-41c9-d978-3232a8bc5c5c"
   },
   "outputs": [],
   "source": [
    "plt.figure(figsize=(12,8))\n",
    "plt.plot(data['x'],data['y'],'.')"
   ]
  },
  {
   "cell_type": "code",
   "execution_count": null,
   "metadata": {
    "ExecuteTime": {
     "end_time": "2020-10-12T13:15:34.580875Z",
     "start_time": "2020-10-12T13:15:34.556604Z"
    },
    "colab": {
     "base_uri": "https://localhost:8080/",
     "height": 204
    },
    "colab_type": "code",
    "executionInfo": {
     "elapsed": 3494,
     "status": "ok",
     "timestamp": 1560000617525,
     "user": {
      "displayName": "Sharoon Saxena",
      "photoUrl": "",
      "userId": "14774175216384036942"
     },
     "user_tz": -330
    },
    "id": "c0KKNiYHIfOR",
    "outputId": "77397a05-f698-45f3-9969-73319abe35be"
   },
   "outputs": [],
   "source": [
    "for i in range(2,16):  \n",
    "    colname = 'x_%d'%i     \n",
    "    data[colname] = data['x']**i\n",
    "data.head()"
   ]
  },
  {
   "cell_type": "markdown",
   "metadata": {
    "colab_type": "text",
    "id": "n1nldRkUIsoU"
   },
   "source": [
    "## Creating test and train Set Randomly"
   ]
  },
  {
   "cell_type": "code",
   "execution_count": null,
   "metadata": {
    "ExecuteTime": {
     "end_time": "2020-10-12T13:15:47.971415Z",
     "start_time": "2020-10-12T13:15:47.915530Z"
    },
    "colab": {},
    "colab_type": "code",
    "id": "AUQZSAHhIfOT"
   },
   "outputs": [],
   "source": [
    "data['randNumCol'] = np.random.randint(1, 6, data.shape[0])\n",
    "train=data[data['randNumCol']<=3]\n",
    "test=data[data['randNumCol']>3]\n",
    "train = train.drop('randNumCol', axis=1)\n",
    "test = test.drop('randNumCol', axis=1)"
   ]
  },
  {
   "cell_type": "code",
   "execution_count": null,
   "metadata": {
    "ExecuteTime": {
     "end_time": "2020-10-12T13:16:03.208269Z",
     "start_time": "2020-10-12T13:16:03.202410Z"
    },
    "colab": {},
    "colab_type": "code",
    "id": "VUf2CVczIfOY"
   },
   "outputs": [],
   "source": [
    "#Separating the independent and dependent variables\n",
    "X_train = train.drop('y', axis=1).values\n",
    "y_train = train['y'].values\n",
    "\n",
    "X_test = test.drop('y', axis=1).values\n",
    "y_test = test['y'].values"
   ]
  },
  {
   "cell_type": "code",
   "execution_count": null,
   "metadata": {
    "ExecuteTime": {
     "end_time": "2020-10-12T13:16:04.632789Z",
     "start_time": "2020-10-12T13:16:04.623536Z"
    }
   },
   "outputs": [],
   "source": [
    "#Import Linear Regression model from scikit-learn.\n",
    "from sklearn.linear_model import LinearRegression\n",
    "\n",
    "def fit_model(max_exponent):\n",
    "    \n",
    "    \n",
    "    model = LinearRegression(normalize=True)\n",
    "    model.fit(X_train[:,0:max_exponent],y_train)\n",
    "    y_train_pred = model.predict(X_train[:,0:max_exponent])\n",
    "\n",
    "    rss_train = sum((y_train_pred-y_train)**2) / X_train.shape[0]\n",
    "\n",
    "    y_test_pred = model.predict(X_test[:,0:max_exponent])\n",
    "    rss_test = sum((y_test_pred-y_test)**2)/ X_test.shape[0]\n",
    "\n",
    "    print(\"Training Error\", round(rss_train,3))\n",
    "    print(\"Testing Error\",round(rss_test,3))\n",
    "    \n",
    "    if (rss_train>0.15) & (rss_test>0.15):\n",
    "        print(\"*** Underfitting ***\")\n",
    "    elif (rss_train - rss_test < -0.1):\n",
    "        print(\"*** Overfitting ***\")\n",
    "    else:\n",
    "        print(\"*** Good fit ***\")\n",
    "\n",
    "    plt.plot(X_train[:,0:1],y_train_pred)\n",
    "    plt.plot(X_train[:,0:1],y_train,'.')\n",
    "    plt.show()"
   ]
  },
  {
   "cell_type": "code",
   "execution_count": null,
   "metadata": {
    "ExecuteTime": {
     "end_time": "2020-10-12T13:16:07.783473Z",
     "start_time": "2020-10-12T13:16:06.346879Z"
    },
    "colab": {
     "base_uri": "https://localhost:8080/",
     "height": 320
    },
    "colab_type": "code",
    "executionInfo": {
     "elapsed": 4405,
     "status": "ok",
     "timestamp": 1560000618475,
     "user": {
      "displayName": "Sharoon Saxena",
      "photoUrl": "",
      "userId": "14774175216384036942"
     },
     "user_tz": -330
    },
    "id": "e87fTLw7IfOc",
    "outputId": "79e47a56-e717-4e5f-a169-6e39dd5644c2"
   },
   "outputs": [],
   "source": [
    "fit_model(1)"
   ]
  },
  {
   "cell_type": "code",
   "execution_count": null,
   "metadata": {
    "ExecuteTime": {
     "end_time": "2020-10-12T13:16:09.951329Z",
     "start_time": "2020-10-12T13:16:09.646106Z"
    },
    "colab": {
     "base_uri": "https://localhost:8080/",
     "height": 320
    },
    "colab_type": "code",
    "executionInfo": {
     "elapsed": 4372,
     "status": "ok",
     "timestamp": 1560000618476,
     "user": {
      "displayName": "Sharoon Saxena",
      "photoUrl": "",
      "userId": "14774175216384036942"
     },
     "user_tz": -330
    },
    "id": "ktx_Ep4LIfOf",
    "outputId": "8422f232-8f22-4890-892c-f1aeb269f5be"
   },
   "outputs": [],
   "source": [
    "fit_model(3)"
   ]
  },
  {
   "cell_type": "code",
   "execution_count": null,
   "metadata": {
    "ExecuteTime": {
     "end_time": "2020-10-12T13:16:11.321025Z",
     "start_time": "2020-10-12T13:16:11.069048Z"
    },
    "colab": {
     "base_uri": "https://localhost:8080/",
     "height": 320
    },
    "colab_type": "code",
    "executionInfo": {
     "elapsed": 4357,
     "status": "ok",
     "timestamp": 1560000618477,
     "user": {
      "displayName": "Sharoon Saxena",
      "photoUrl": "",
      "userId": "14774175216384036942"
     },
     "user_tz": -330
    },
    "id": "blee6wddIfOi",
    "outputId": "363df04b-46bd-4a2e-d27c-a9c3f84848ef"
   },
   "outputs": [],
   "source": [
    "fit_model(15)"
   ]
  },
  {
   "cell_type": "code",
   "execution_count": null,
   "metadata": {
    "ExecuteTime": {
     "end_time": "2020-10-12T13:16:15.091701Z",
     "start_time": "2020-10-12T13:16:15.082206Z"
    },
    "colab": {},
    "colab_type": "code",
    "id": "s3Cd83HrIfOk"
   },
   "outputs": [],
   "source": [
    "# defining a function which will fit linear regression model, plot the results, and return the coefficients\n",
    "def linear_regression(train_x, train_y, test_x, test_y, features, models_to_plot):\n",
    "        \n",
    "    #Fit the model\n",
    "    linreg = LinearRegression(normalize=True)\n",
    "    linreg.fit(train_x,train_y)\n",
    "    train_y_pred = linreg.predict(train_x)\n",
    "    test_y_pred = linreg.predict(test_x)\n",
    "    \n",
    "    #Check if a plot is to be made for the entered features\n",
    "    if features in models_to_plot:\n",
    "        plt.subplot(models_to_plot[features])\n",
    "        plt.tight_layout()\n",
    "        plt.plot(train_x[:,0:1],train_y_pred)\n",
    "        \n",
    "        plt.plot(train_x[:,0:1],train_y,'.')\n",
    "        \n",
    "        plt.title('Number of Predictors: %d'%features)\n",
    "    \n",
    "    #Return the result in pre-defined format\n",
    "    rss_train = sum((train_y_pred-train_y)**2)/train_x.shape[0]\n",
    "    ret = [rss_train]\n",
    "    \n",
    "    rss_test = sum((test_y_pred-test_y)**2)/test_x.shape[0]\n",
    "    ret.extend([rss_test])\n",
    "    \n",
    "    ret.extend([linreg.intercept_])\n",
    "    ret.extend(linreg.coef_)\n",
    "    \n",
    "    return ret"
   ]
  },
  {
   "cell_type": "code",
   "execution_count": null,
   "metadata": {
    "ExecuteTime": {
     "end_time": "2020-10-12T13:16:17.017744Z",
     "start_time": "2020-10-12T13:16:17.008521Z"
    },
    "colab": {},
    "colab_type": "code",
    "id": "dTH2mkB3IfOm"
   },
   "outputs": [],
   "source": [
    "#Initialize a dataframe to store the results:\n",
    "col = ['mrss_train','mrss_test','intercept'] + ['coef_Var_%d'%i for i in range(1,16)]\n",
    "ind = ['Number_of_variable_%d'%i for i in range(1,16)]\n",
    "coef_matrix_simple = pd.DataFrame(index=ind, columns=col)"
   ]
  },
  {
   "cell_type": "code",
   "execution_count": null,
   "metadata": {
    "ExecuteTime": {
     "end_time": "2020-10-12T13:16:18.521262Z",
     "start_time": "2020-10-12T13:16:18.518475Z"
    },
    "colab": {},
    "colab_type": "code",
    "id": "wkc3Cg_sIfOr"
   },
   "outputs": [],
   "source": []
  },
  {
   "cell_type": "code",
   "execution_count": null,
   "metadata": {
    "ExecuteTime": {
     "end_time": "2020-10-12T13:16:32.469366Z",
     "start_time": "2020-10-12T13:16:31.052972Z"
    },
    "colab": {
     "base_uri": "https://localhost:8080/",
     "height": 585
    },
    "colab_type": "code",
    "executionInfo": {
     "elapsed": 10100,
     "status": "ok",
     "timestamp": 1560000624263,
     "user": {
      "displayName": "Sharoon Saxena",
      "photoUrl": "",
      "userId": "14774175216384036942"
     },
     "user_tz": -330
    },
    "id": "latyKt6WIfOu",
    "outputId": "0e1394cc-d2de-40d5-b88b-332cd58b7e6d"
   },
   "outputs": [],
   "source": [
    "#Define the number of features for which a plot is required:\n",
    "models_to_plot = {1:231,3:232,6:233,9:234,12:235,15:236}\n",
    "\n",
    "#Iterate through all powers and store the results in a matrix form\n",
    "plt.figure(figsize=(12,8))\n",
    "for i in range(1,16):\n",
    "    train_x = X_train[:,0:i]\n",
    "    train_y = y_train\n",
    "    test_x = X_test[:,0:i]\n",
    "    test_y = y_test\n",
    "    \n",
    "    coef_matrix_simple.iloc[i-1,0:i+3] = linear_regression(train_x,train_y, test_x, test_y, features=i, models_to_plot=models_to_plot)"
   ]
  },
  {
   "cell_type": "code",
   "execution_count": null,
   "metadata": {
    "ExecuteTime": {
     "end_time": "2020-10-12T13:16:36.943770Z",
     "start_time": "2020-10-12T13:16:36.923036Z"
    },
    "colab": {
     "base_uri": "https://localhost:8080/",
     "height": 534
    },
    "colab_type": "code",
    "executionInfo": {
     "elapsed": 10066,
     "status": "ok",
     "timestamp": 1560000624265,
     "user": {
      "displayName": "Sharoon Saxena",
      "photoUrl": "",
      "userId": "14774175216384036942"
     },
     "user_tz": -330
    },
    "id": "4fQrthy0IfOy",
    "outputId": "f31c7e6c-92d0-458d-9cc5-931d066393f8"
   },
   "outputs": [],
   "source": [
    "coef_matrix_simple.head()"
   ]
  },
  {
   "cell_type": "code",
   "execution_count": null,
   "metadata": {
    "ExecuteTime": {
     "end_time": "2020-10-12T13:16:40.437748Z",
     "start_time": "2020-10-12T13:16:40.143848Z"
    },
    "colab": {
     "base_uri": "https://localhost:8080/",
     "height": 301
    },
    "colab_type": "code",
    "executionInfo": {
     "elapsed": 10056,
     "status": "ok",
     "timestamp": 1560000624266,
     "user": {
      "displayName": "Sharoon Saxena",
      "photoUrl": "",
      "userId": "14774175216384036942"
     },
     "user_tz": -330
    },
    "id": "WLcisBSWIfO3",
    "outputId": "26c4150f-659c-4533-9f4c-8cdd853ddeb9"
   },
   "outputs": [],
   "source": [
    "plt.plot(range(1,16),coef_matrix_simple.mrss_train.values)\n",
    "plt.plot(range(1,16),coef_matrix_simple.mrss_test.values)\n",
    "plt.xlabel('polynomial degree')\n",
    "plt.ylabel('MRSS')\n",
    "plt.legend(['train', 'test'])"
   ]
  }
 ],
 "metadata": {
  "colab": {
   "collapsed_sections": [],
   "name": "Ridge and Lasso Implementation.ipynb",
   "provenance": [],
   "version": "0.3.2"
  },
  "kernelspec": {
   "display_name": "Python 3.5",
   "language": "python",
   "name": "my_python_3.5"
  },
  "language_info": {
   "codemirror_mode": {
    "name": "ipython",
    "version": 3
   },
   "file_extension": ".py",
   "mimetype": "text/x-python",
   "name": "python",
   "nbconvert_exporter": "python",
   "pygments_lexer": "ipython3",
   "version": "3.5.5"
  },
  "toc": {
   "base_numbering": 1,
   "nav_menu": {},
   "number_sections": true,
   "sideBar": true,
   "skip_h1_title": false,
   "title_cell": "Table of Contents",
   "title_sidebar": "Contents",
   "toc_cell": false,
   "toc_position": {
    "height": "calc(100% - 180px)",
    "left": "10px",
    "top": "150px",
    "width": "307.2px"
   },
   "toc_section_display": true,
   "toc_window_display": true
  }
 },
 "nbformat": 4,
 "nbformat_minor": 1
}
