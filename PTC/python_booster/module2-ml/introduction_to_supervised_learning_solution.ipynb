{
 "cells": [
  {
   "cell_type": "code",
   "execution_count": null,
   "metadata": {
    "ExecuteTime": {
     "end_time": "2020-10-15T15:21:26.900261Z",
     "start_time": "2020-10-15T15:21:18.602692Z"
    },
    "colab": {},
    "colab_type": "code",
    "id": "XiprJxiXIfN9"
   },
   "outputs": [],
   "source": [
    "#Importing libraries\n",
    "import numpy as np\n",
    "import pandas as pd\n",
    "import random\n",
    "import matplotlib.pyplot as plt\n",
    "import seaborn as sns\n",
    "%matplotlib inline\n",
    "\n",
    "plt.rcParams['figure.figsize'] = (10,6)"
   ]
  },
  {
   "cell_type": "markdown",
   "metadata": {},
   "source": [
    "# Classification example"
   ]
  },
  {
   "cell_type": "code",
   "execution_count": null,
   "metadata": {
    "ExecuteTime": {
     "end_time": "2020-10-15T15:21:31.946744Z",
     "start_time": "2020-10-15T15:21:31.741183Z"
    }
   },
   "outputs": [],
   "source": [
    "data = pd.read_csv(\"iris.csv\")\n",
    "data.head()"
   ]
  },
  {
   "cell_type": "code",
   "execution_count": null,
   "metadata": {
    "ExecuteTime": {
     "end_time": "2020-10-15T15:21:33.694978Z",
     "start_time": "2020-10-15T15:21:33.309107Z"
    }
   },
   "outputs": [],
   "source": [
    "plt.figure(figsize=(10,6))\n",
    "plt.scatter(data.iloc[:50, 2], data.iloc[:50, 3], c='r', label='Iris-setosa')\n",
    "plt.scatter(data.iloc[50:100, 2], data.iloc[50:100, 3], c='g',label='Iris-versicolor')\n",
    "plt.scatter(data.iloc[100:, 2], data.iloc[100:, 3], c='b',label='Iris-virginica')\n",
    "\n",
    "plt.xlabel('Petal length',fontsize=20)\n",
    "plt.ylabel('Petal width',fontsize=20)\n",
    "plt.xticks(fontsize=20)\n",
    "plt.yticks(fontsize=20)\n",
    "plt.title('Petal length vs. Petal width',fontsize=20)\n",
    "plt.legend(prop={'size': 18})\n",
    "plt.show()"
   ]
  },
  {
   "cell_type": "code",
   "execution_count": null,
   "metadata": {
    "ExecuteTime": {
     "end_time": "2020-10-15T15:21:34.580067Z",
     "start_time": "2020-10-15T15:21:34.404166Z"
    }
   },
   "outputs": [],
   "source": [
    "sns.boxplot(x = \"species\", y = \"petal_length\", data=data)\n",
    "plt.show()"
   ]
  },
  {
   "cell_type": "code",
   "execution_count": null,
   "metadata": {
    "ExecuteTime": {
     "end_time": "2020-10-15T15:21:34.991257Z",
     "start_time": "2020-10-15T15:21:34.982527Z"
    }
   },
   "outputs": [],
   "source": [
    "y = data.species\n",
    "X = data.drop(\"species\", axis=1)\n",
    "print(X.head())\n",
    "feature_list = list(X.columns)"
   ]
  },
  {
   "cell_type": "code",
   "execution_count": null,
   "metadata": {
    "ExecuteTime": {
     "end_time": "2020-10-15T15:21:36.529394Z",
     "start_time": "2020-10-15T15:21:35.540089Z"
    }
   },
   "outputs": [],
   "source": [
    "from sklearn.model_selection import train_test_split\n",
    "from sklearn import metrics\n",
    "from sklearn.ensemble import RandomForestClassifier\n",
    "\n",
    "X_train, X_test, y_train, y_test = train_test_split(X, y, test_size = 0.3, random_state = 42)\n",
    "print(X_train.shape)\n",
    "\n",
    "rf=RandomForestClassifier(n_estimators=100)\n",
    "rf.fit(X_train,y_train)\n",
    "\n",
    "y_pred=rf.predict(X_test)\n",
    "\n",
    "print(\"Accuracy:\",metrics.accuracy_score(y_test, y_pred))\n",
    "print(\"Confusion matrix: \\n\",metrics.confusion_matrix(y_test, y_pred))\n",
    "\n",
    "feature_imp = pd.Series(rf.feature_importances_, index = feature_list).sort_values(ascending=False)\n",
    "\n",
    "plt.figure(figsize=(10,6))\n",
    "sns.barplot(x=feature_imp, y=feature_imp.index)\n",
    "\n",
    "plt.xlabel('Feature Importance Score')\n",
    "plt.ylabel('Features')\n",
    "plt.title(\"Visualizing Important Features\")\n",
    "plt.show()"
   ]
  },
  {
   "cell_type": "code",
   "execution_count": null,
   "metadata": {
    "ExecuteTime": {
     "end_time": "2020-10-15T15:21:36.875237Z",
     "start_time": "2020-10-15T15:21:36.532207Z"
    }
   },
   "outputs": [],
   "source": [
    "from sklearn.metrics import confusion_matrix\n",
    "\n",
    "import itertools\n",
    "def plot_confusion_matrix(cm, classes,\n",
    "                          normalize=False,\n",
    "                          title='Confusion matrix',\n",
    "                          cmap=plt.cm.Blues):\n",
    "\n",
    "\n",
    "    plt.imshow(cm, interpolation='nearest', cmap=cmap)\n",
    "    plt.title(title)\n",
    "    plt.colorbar()\n",
    "    tick_marks = np.arange(len(classes))\n",
    "    plt.xticks(tick_marks, classes, rotation=45)\n",
    "    plt.yticks(tick_marks, classes)\n",
    "\n",
    "    fmt = '.2f' if normalize else 'd'\n",
    "    thresh = cm.max() / 2.\n",
    "    for i, j in itertools.product(range(cm.shape[0]), range(cm.shape[1])):\n",
    "        plt.text(j, i, format(cm[i, j], fmt),\n",
    "                 horizontalalignment=\"center\",\n",
    "                 color=\"white\" if cm[i, j] > thresh else \"black\")\n",
    "\n",
    "    plt.ylabel('True label',fontsize=30)\n",
    "    plt.xlabel('Predicted label',fontsize=30)\n",
    "    plt.tight_layout()\n",
    "    plt.xticks(fontsize=18)\n",
    "    plt.yticks(fontsize=18)\n",
    "\n",
    "cnf_matrix = confusion_matrix(y_test, y_pred)\n",
    "np.set_printoptions(precision=2)\n",
    "plt.figure(figsize=(8,6))\n",
    "plot_confusion_matrix(cnf_matrix, classes=[\"iris-setosa\", \"iris-versicolor\", \"iris-virginica\"])\n",
    "plt.title('Confusion Matrix',fontsize=30)\n",
    "plt.show()\n"
   ]
  },
  {
   "cell_type": "code",
   "execution_count": null,
   "metadata": {
    "ExecuteTime": {
     "end_time": "2020-10-15T15:21:36.897927Z",
     "start_time": "2020-10-15T15:21:36.879106Z"
    }
   },
   "outputs": [],
   "source": [
    "new_point = [[6.5, 3.0, 3.1, 0.8],\n",
    "             [6.5,3.0, 2.5,0.7],\n",
    "            [ 6.5,3.0,6.0,1.0],\n",
    "            [6.5, 3.0, 1.0, 0.5],\n",
    "            [6.5, 3.0, 7.0, 2.5]]\n",
    "new_value = pd.DataFrame(new_point)\n",
    "new_value.columns = X_test.columns\n",
    "new_value"
   ]
  },
  {
   "cell_type": "code",
   "execution_count": null,
   "metadata": {
    "ExecuteTime": {
     "end_time": "2020-10-15T15:21:37.797188Z",
     "start_time": "2020-10-15T15:21:37.475868Z"
    }
   },
   "outputs": [],
   "source": [
    "plt.figure(figsize=(10,8))\n",
    "plt.scatter(data.iloc[:50, 2], data.iloc[:50, 3], c='r', label='Iris-setosa')\n",
    "plt.scatter(data.iloc[50:100, 2], data.iloc[50:100, 3], c='g',label='Iris-versicolor')\n",
    "plt.scatter(data.iloc[100:, 2], data.iloc[100:, 3], c='b',label='Iris-virginica')\n",
    "\n",
    "plt.scatter(new_value.iloc[:,2], new_value.iloc[:,3], c=\"k\", marker = \"*\", label = \"to classify\", s=200)\n",
    "\n",
    "plt.xlabel('Pepal length',fontsize=20)\n",
    "plt.ylabel('Pepal width',fontsize=20)\n",
    "plt.xticks(fontsize=20)\n",
    "plt.yticks(fontsize=20)\n",
    "plt.title('Pepal length vs. Pepal width',fontsize=20)\n",
    "plt.legend(prop={'size': 12})\n",
    "plt.show()"
   ]
  },
  {
   "cell_type": "code",
   "execution_count": null,
   "metadata": {
    "ExecuteTime": {
     "end_time": "2020-10-15T15:21:38.561870Z",
     "start_time": "2020-10-15T15:21:38.277650Z"
    }
   },
   "outputs": [],
   "source": [
    "predict_label = rf.predict(new_value)\n",
    "\n",
    "result = pd.concat([new_value, pd.Series(predict_label)], axis=1)\n",
    "result.columns = list(X.columns) + [\"species\"]\n",
    "\n",
    "sns.lmplot(\"petal_length\", \"petal_width\", data=result, hue=\"species\", fit_reg=False,\n",
    "           markers=\"*\", \n",
    "           scatter_kws={\"s\": 200},\n",
    "          palette={\"setosa\":\"red\", \"virginica\":\"blue\", \"versicolor\":\"green\"},\n",
    "          legend=False)\n",
    "\n",
    "plt.legend(prop={'size': 12})\n",
    "plt.scatter(data.iloc[:50, 2], data.iloc[:50, 3], c='r', label='setosa')\n",
    "plt.scatter(data.iloc[50:100, 2], data.iloc[50:100, 3], c='g',label='versicolor')\n",
    "plt.scatter(data.iloc[100:, 2], data.iloc[100:, 3], c='b',label='virginica')\n",
    "\n",
    "plt.xlabel('Petal length',fontsize=20)\n",
    "plt.ylabel('Petal width',fontsize=20)\n",
    "plt.xticks(fontsize=20)\n",
    "plt.yticks(fontsize=20)\n",
    "plt.title('Petal length vs. Petal width',fontsize=20)\n",
    "\n",
    "plt.show()"
   ]
  },
  {
   "cell_type": "markdown",
   "metadata": {},
   "source": [
    "# Regression example  "
   ]
  },
  {
   "cell_type": "code",
   "execution_count": null,
   "metadata": {
    "ExecuteTime": {
     "end_time": "2020-10-15T15:21:39.374792Z",
     "start_time": "2020-10-15T15:21:39.363001Z"
    }
   },
   "outputs": [],
   "source": [
    "from sklearn.metrics import accuracy_score, confusion_matrix, mean_squared_error, mean_absolute_error, roc_auc_score\n",
    "\n",
    "def diagnose_regression_model(model, X_train, y_train, X_test, y_test):\n",
    "    \"\"\"\n",
    "    Compute many regression metrics on train and test sets\n",
    "    \"\"\"\n",
    "    test_preds = model.predict(X_test)\n",
    "    train_preds = model.predict(X_train)\n",
    "    \n",
    "    print(\"Train R² = {:.3f}\".format(model.score(X_train, y_train)))\n",
    "    print(\"Test R² = {:.3f}\\n\".format(model.score(X_test, y_test))) \n",
    "    \n",
    "    print(\"Train RMSE = {:.3f}\".format(np.sqrt(mean_squared_error(y_train, train_preds))))\n",
    "    print(\"Test RMSE = {:.3f}\\n\".format(np.sqrt(mean_squared_error(y_test, test_preds))))    \n",
    "    \n",
    "    print(\"Train MAE = {:.3f}\".format(mean_absolute_error(y_train, train_preds)))\n",
    "    print(\"Test MAE = {:.3f}\".format(mean_absolute_error(y_test, test_preds))) \n",
    "    \n",
    "    compare_density_function_prediction_2(y_train, train_preds, y_test, test_preds)\n",
    "\n",
    "def compare_density_function_prediction_2(y_train, train_preds, y_test, test_preds):\n",
    "    \"\"\"\n",
    "    Displays density curve or real and predicted values for train and test \n",
    "    \"\"\"\n",
    "    \n",
    "    fig, (ax1,ax2) = plt.subplots(1,2, figsize=(12,6))\n",
    "    \n",
    "    sns.distplot(train_preds, hist=False, color=\"b\", label=\"Train Fitted\" , kde_kws={\"lw\": 2, \"linestyle\": \"-\"}, ax=ax1)\n",
    "    sns.distplot(y_train, hist=False, color=\"k\", label=\"Train Actual\",  kde_kws={\"lw\": 2, \"linestyle\": \"-\"}, ax=ax1)\n",
    "    \n",
    "    sns.distplot(test_preds, hist=False, color=\"b\", label=\"Test Fitted\" , kde_kws={\"lw\": 2, \"linestyle\": \"-\"}, ax=ax2)\n",
    "    sns.distplot(y_test, hist=False, color=\"k\", label=\"Test Actual\" , kde_kws={\"lw\": 2, \"linestyle\": \"-\"}, ax=ax2)\n",
    "\n",
    "    plt.title('Actual vs Fitted Values')\n",
    "\n",
    "\n",
    "    plt.show()\n",
    "    plt.close()"
   ]
  },
  {
   "cell_type": "code",
   "execution_count": null,
   "metadata": {
    "ExecuteTime": {
     "end_time": "2020-10-15T15:21:40.687979Z",
     "start_time": "2020-10-15T15:21:40.052479Z"
    },
    "scrolled": false
   },
   "outputs": [],
   "source": [
    "from sklearn.linear_model import LinearRegression\n",
    "\n",
    "y = data.petal_width\n",
    "X = data.drop([\"petal_width\"], axis=1)\n",
    "X = pd.get_dummies(X)\n",
    "\n",
    "feature_list = list(X.columns)\n",
    "\n",
    "X_train, X_test, y_train, y_test = train_test_split(X, y, test_size = 0.3, random_state = 42)\n",
    "print(X_train.shape)\n",
    "\n",
    "from sklearn.linear_model import LinearRegression\n",
    "\n",
    "lr = LinearRegression()\n",
    "lr.fit(X_train,y_train)\n",
    "\n",
    "y_pred = lr.predict(X_test)\n",
    "\n",
    "MSE = ((y_pred - y_test)**2).sum()\n",
    "\n",
    "print('RMSE =', round(np.sqrt(MSE), 2))\n",
    "\n",
    "mape = 100 * (abs(y_pred - y_test) / y_pred)\n",
    "accuracy = 100 - np.mean(mape)\n",
    "print('Accuracy:', round(accuracy, 2), '%.')\n",
    "\n",
    "\n",
    "diagnose_regression_model(lr, X_train, y_train, X_test, y_test)"
   ]
  },
  {
   "cell_type": "code",
   "execution_count": null,
   "metadata": {
    "ExecuteTime": {
     "end_time": "2020-10-15T15:21:41.294809Z",
     "start_time": "2020-10-15T15:21:41.280032Z"
    },
    "scrolled": false
   },
   "outputs": [],
   "source": [
    "a = pd.Series(y_test).reset_index().drop(\"index\", axis=1)\n",
    "b = pd.Series(y_pred).round(2)\n",
    "\n",
    "results = pd.concat([a, b], axis=1)\n",
    "results.columns = [\"sepal_length\", \"prediction\"]\n",
    "results[\"difference\"] = results[\"sepal_length\"] - results[\"prediction\"]\n",
    "results.head()"
   ]
  },
  {
   "cell_type": "code",
   "execution_count": null,
   "metadata": {
    "ExecuteTime": {
     "end_time": "2020-10-15T15:21:42.901409Z",
     "start_time": "2020-10-15T15:21:42.493863Z"
    }
   },
   "outputs": [],
   "source": [
    "sns.lmplot(x = \"sepal_length\", y=\"petal_length\", data=data)\n",
    "plt.show()"
   ]
  },
  {
   "cell_type": "code",
   "execution_count": null,
   "metadata": {
    "ExecuteTime": {
     "end_time": "2020-10-15T15:21:43.835122Z",
     "start_time": "2020-10-15T15:21:43.202198Z"
    }
   },
   "outputs": [],
   "source": [
    "sns.lmplot(x = \"sepal_length\", y=\"petal_length\", data=data,hue=\"species\")\n",
    "plt.show()"
   ]
  },
  {
   "cell_type": "code",
   "execution_count": null,
   "metadata": {
    "ExecuteTime": {
     "end_time": "2020-10-15T15:26:09.631776Z",
     "start_time": "2020-10-15T15:26:09.619758Z"
    }
   },
   "outputs": [],
   "source": [
    "new_point = [\n",
    "    [3.0, 6.0, 0.7, 0, 1, 0],\n",
    "    [3.0, 3.0, 0.7, 0, 1, 0],\n",
    "    [3.0, 5.0, 0.7, 0, 0, 1]\n",
    "]\n",
    "new_value = pd.DataFrame(new_point)\n",
    "new_value.columns = X_test.columns\n",
    "new_value"
   ]
  },
  {
   "cell_type": "code",
   "execution_count": null,
   "metadata": {
    "ExecuteTime": {
     "end_time": "2020-10-15T15:26:10.857820Z",
     "start_time": "2020-10-15T15:26:10.623624Z"
    }
   },
   "outputs": [],
   "source": [
    "predict_label = lr.predict(new_value)\n",
    "\n",
    "new_value = pd.concat([new_value, pd.Series(predict_label)], axis=1)\n",
    "new_value.columns = list(X.columns) + [\"petal_width\"]\n",
    "\n",
    "#plt.scatter(new_value.iloc[:,2], new_value.iloc[:,3], c=\"k\", marker = \"*\", label = \"to classify\")\n",
    "sns.lmplot(\"sepal_width\", \"petal_length\", data=new_value, fit_reg=False,\n",
    "           markers=\"*\", \n",
    "           scatter_kws={\"s\": 200},\n",
    "          legend=False)\n",
    "\n",
    "plt.scatter(data[\"sepal_width\"], data[\"petal_length\"])\n",
    "\n",
    "plt.ylabel('Petal length',fontsize=20)\n",
    "plt.xlabel('Sepal width',fontsize=20)\n",
    "plt.xticks(fontsize=20)\n",
    "plt.yticks(fontsize=20)\n",
    "plt.title('Sepal width vs. Petal length',fontsize=20)\n",
    "plt.show()"
   ]
  },
  {
   "cell_type": "markdown",
   "metadata": {},
   "source": [
    "# Exercise: Pulsar dataset"
   ]
  },
  {
   "cell_type": "markdown",
   "metadata": {},
   "source": [
    "We will use again the same pulsar dataset as before. \n",
    "\n",
    "But this time your goal here is to build a model that can predict which ones are pulsars"
   ]
  },
  {
   "cell_type": "markdown",
   "metadata": {},
   "source": [
    "## Data import"
   ]
  },
  {
   "cell_type": "code",
   "execution_count": null,
   "metadata": {
    "ExecuteTime": {
     "end_time": "2020-10-14T14:37:29.961002Z",
     "start_time": "2020-10-14T14:37:29.958206Z"
    }
   },
   "outputs": [],
   "source": [
    "# pd.options.display.float_format = '{:,.3f}'.format"
   ]
  },
  {
   "cell_type": "markdown",
   "metadata": {},
   "source": [
    "Import the HTRU_2 csv file and have a look at it using"
   ]
  },
  {
   "cell_type": "code",
   "execution_count": null,
   "metadata": {
    "ExecuteTime": {
     "end_time": "2020-10-15T15:48:12.516121Z",
     "start_time": "2020-10-15T15:48:12.423149Z"
    }
   },
   "outputs": [],
   "source": [
    "df = pd.read_csv(\"HTRU_2.csv\")\n",
    "df.head()"
   ]
  },
  {
   "cell_type": "markdown",
   "metadata": {},
   "source": [
    "have a look at the statistics of every columns to have a better idea of what is in the dataset"
   ]
  },
  {
   "cell_type": "code",
   "execution_count": null,
   "metadata": {
    "ExecuteTime": {
     "end_time": "2020-10-15T15:48:16.116973Z",
     "start_time": "2020-10-15T15:48:15.982088Z"
    }
   },
   "outputs": [],
   "source": [
    "df.describe()"
   ]
  },
  {
   "cell_type": "code",
   "execution_count": null,
   "metadata": {
    "ExecuteTime": {
     "end_time": "2020-10-15T15:48:54.372894Z",
     "start_time": "2020-10-15T15:48:24.454473Z"
    }
   },
   "outputs": [],
   "source": [
    "# no need to run this cell (because it will take some time)\n",
    "import seaborn as sns\n",
    "sns.pairplot(df, hue=\"target\")"
   ]
  },
  {
   "cell_type": "markdown",
   "metadata": {},
   "source": [
    "## Data prep"
   ]
  },
  {
   "cell_type": "markdown",
   "metadata": {},
   "source": [
    "* Extract target values in a variables and other columns in another\n",
    "* create the training and test sets by using train_test_split"
   ]
  },
  {
   "cell_type": "code",
   "execution_count": null,
   "metadata": {
    "ExecuteTime": {
     "end_time": "2020-10-15T15:49:47.512580Z",
     "start_time": "2020-10-15T15:49:47.499398Z"
    }
   },
   "outputs": [],
   "source": [
    "from sklearn.model_selection import train_test_split\n",
    "\n",
    "y = df[\"target\"].copy()\n",
    "X = df.drop(\"target\", axis=1).copy()\n",
    "\n",
    "X_train, X_test, y_train, y_test = train_test_split(X, y, test_size=0.3, random_state = 42)"
   ]
  },
  {
   "cell_type": "code",
   "execution_count": null,
   "metadata": {
    "ExecuteTime": {
     "end_time": "2020-10-15T15:49:54.198105Z",
     "start_time": "2020-10-15T15:49:54.194196Z"
    }
   },
   "outputs": [],
   "source": [
    "print(X_train.shape)\n",
    "print(X_test.shape)"
   ]
  },
  {
   "cell_type": "markdown",
   "metadata": {},
   "source": [
    "let's check the target distribution"
   ]
  },
  {
   "cell_type": "code",
   "execution_count": null,
   "metadata": {
    "ExecuteTime": {
     "end_time": "2020-10-15T15:50:09.436715Z",
     "start_time": "2020-10-15T15:50:09.431020Z"
    }
   },
   "outputs": [],
   "source": [
    "print(\"For training: \", y_train.mean())\n",
    "print(\"For testing: \", y_test.mean())"
   ]
  },
  {
   "cell_type": "markdown",
   "metadata": {},
   "source": [
    "## Modeling"
   ]
  },
  {
   "cell_type": "markdown",
   "metadata": {},
   "source": [
    "* Create an instance of a RandomForestClassifier\n",
    "* fit it to your training set"
   ]
  },
  {
   "cell_type": "code",
   "execution_count": null,
   "metadata": {
    "ExecuteTime": {
     "end_time": "2020-10-15T15:51:09.683954Z",
     "start_time": "2020-10-15T15:51:09.481881Z"
    }
   },
   "outputs": [],
   "source": [
    "from sklearn.ensemble import RandomForestClassifier\n",
    "\n",
    "model = RandomForestClassifier(n_estimators=20, max_depth=4, random_state=42) # change parameters to find better results\n",
    "model.fit(X_train, y_train)"
   ]
  },
  {
   "cell_type": "markdown",
   "metadata": {},
   "source": [
    "Evaluate the accuracy on the training and test sets using the score() method of your model"
   ]
  },
  {
   "cell_type": "code",
   "execution_count": null,
   "metadata": {
    "ExecuteTime": {
     "end_time": "2020-10-15T15:51:11.605900Z",
     "start_time": "2020-10-15T15:51:11.558047Z"
    }
   },
   "outputs": [],
   "source": [
    "print(\"Accuracy on train set = \", round(model.score(X_train, y_train)*100,1), \"%\")\n",
    "print(\"Accuracy on test set = \", round(model.score(X_test, y_test)*100,1), \"%\")"
   ]
  },
  {
   "cell_type": "markdown",
   "metadata": {},
   "source": [
    "create predictions for your train and test sets and store them in 2 variables"
   ]
  },
  {
   "cell_type": "code",
   "execution_count": null,
   "metadata": {
    "ExecuteTime": {
     "end_time": "2020-10-15T15:51:13.182378Z",
     "start_time": "2020-10-15T15:51:13.138074Z"
    }
   },
   "outputs": [],
   "source": [
    "train_preds = model.predict(X_train)\n",
    "test_preds = model.predict(X_test)"
   ]
  },
  {
   "cell_type": "code",
   "execution_count": null,
   "metadata": {
    "ExecuteTime": {
     "end_time": "2020-10-15T15:51:13.962929Z",
     "start_time": "2020-10-15T15:51:13.950849Z"
    }
   },
   "outputs": [],
   "source": [
    "from sklearn.metrics import confusion_matrix\n",
    "\n",
    "pd.DataFrame(confusion_matrix(y_test, test_preds), columns=[\"pred 0\", \"pred 1\"], index=[\"real 0\", \"real 1\"])"
   ]
  },
  {
   "cell_type": "markdown",
   "metadata": {},
   "source": [
    "Compute the precision and recall for both the training and test sets"
   ]
  },
  {
   "cell_type": "code",
   "execution_count": null,
   "metadata": {
    "ExecuteTime": {
     "end_time": "2020-10-15T15:51:16.148977Z",
     "start_time": "2020-10-15T15:51:16.133651Z"
    }
   },
   "outputs": [],
   "source": [
    "from sklearn.metrics import precision_score, recall_score\n",
    "print(\"For training\")\n",
    "print(\"train precision = \", round(precision_score(y_train, train_preds)*100, 1), \"%\")\n",
    "print(\"train recall = \", round(recall_score(y_train, train_preds)*100, 1), \"%\")\n",
    "\n",
    "print(\"\\nFor testing\")\n",
    "print(\"test precision = \", round(precision_score(y_test, test_preds)*100, 1), \"%\")\n",
    "print(\"test recall = \", round(recall_score(y_test, test_preds)*100, 1), \"%\")"
   ]
  },
  {
   "cell_type": "code",
   "execution_count": null,
   "metadata": {
    "ExecuteTime": {
     "end_time": "2020-10-15T15:52:01.008980Z",
     "start_time": "2020-10-15T15:52:00.742450Z"
    }
   },
   "outputs": [],
   "source": [
    "feat_imp = pd.concat([pd.Series(X_test.columns), pd.Series(model.feature_importances_)], axis=1)\n",
    "feat_imp.columns = [\"feature\", \"importance\"]\n",
    "feat_imp.sort_values(by=\"importance\", ascending=True, inplace=True)\n",
    "feat_imp.plot.barh(x=\"feature\", figsize=(10,6))"
   ]
  },
  {
   "cell_type": "markdown",
   "metadata": {},
   "source": [
    "You see that only 2 variables were used?!?\n",
    "\n",
    "That's because we defined a random forest with only 2 trees for now :) \n",
    "\n",
    "You goal now is to go back to your model definition and change its parameters until you get the best performance possible on the test set. "
   ]
  },
  {
   "cell_type": "markdown",
   "metadata": {},
   "source": [
    "# Going further"
   ]
  },
  {
   "cell_type": "markdown",
   "metadata": {},
   "source": [
    "This introductory training to machine learning showed you how creating predictive models can be.\n",
    "\n",
    "However note that we used a very simple dataset, with no cleaning steps and only numerical variables.\n",
    "\n",
    "In practice we often need to go back and forth between modeling and cleaning until we achieve desired results.\n",
    "\n",
    "Also model tuning and refinement might require some time with big datasets and you don't always have a well defined target."
   ]
  },
  {
   "attachments": {
    "image.png": {
     "image/png": "[encoded data removed]"
    }
   },
   "cell_type": "markdown",
   "metadata": {},
   "source": [
    "![image.png](attachment:image.png)"
   ]
  }
 ],
 "metadata": {
  "colab": {
   "collapsed_sections": [],
   "name": "Ridge and Lasso Implementation.ipynb",
   "provenance": [],
   "version": "0.3.2"
  },
  "kernelspec": {
   "display_name": "Python 3.5",
   "language": "python",
   "name": "my_python_3.5"
  },
  "language_info": {
   "codemirror_mode": {
    "name": "ipython",
    "version": 3
   },
   "file_extension": ".py",
   "mimetype": "text/x-python",
   "name": "python",
   "nbconvert_exporter": "python",
   "pygments_lexer": "ipython3",
   "version": "3.5.5"
  },
  "toc": {
   "base_numbering": 1,
   "nav_menu": {},
   "number_sections": true,
   "sideBar": true,
   "skip_h1_title": false,
   "title_cell": "Table of Contents",
   "title_sidebar": "Contents",
   "toc_cell": false,
   "toc_position": {
    "height": "calc(100% - 180px)",
    "left": "10px",
    "top": "150px",
    "width": "307.2px"
   },
   "toc_section_display": true,
   "toc_window_display": true
  }
 },
 "nbformat": 4,
 "nbformat_minor": 1
}
