{
 "cells": [
  {
   "cell_type": "markdown",
   "metadata": {},
   "source": [
    "Disclaimer: Despite the title of the notebook, we won't really do *deep* learning here as it's only useful when we have big and unstructured data"
   ]
  },
  {
   "cell_type": "markdown",
   "metadata": {},
   "source": [
    "# Import"
   ]
  },
  {
   "cell_type": "code",
   "execution_count": null,
   "metadata": {
    "ExecuteTime": {
     "end_time": "2020-11-05T15:25:29.169426Z",
     "start_time": "2020-11-05T15:25:11.793378Z"
    }
   },
   "outputs": [],
   "source": [
    "import pandas as pd\n",
    "import numpy as np\n",
    "import seaborn as sns\n",
    "import keras\n",
    "import matplotlib.pyplot as plt"
   ]
  },
  {
   "cell_type": "code",
   "execution_count": null,
   "metadata": {
    "ExecuteTime": {
     "end_time": "2020-11-05T15:25:48.358828Z",
     "start_time": "2020-11-05T15:25:48.219088Z"
    }
   },
   "outputs": [],
   "source": [
    "df = pd.read_csv(\"diabetes.csv\")\n",
    "df.head()"
   ]
  },
  {
   "cell_type": "markdown",
   "metadata": {},
   "source": [
    "# Preparing data"
   ]
  },
  {
   "cell_type": "code",
   "execution_count": null,
   "metadata": {
    "ExecuteTime": {
     "end_time": "2020-11-05T15:25:50.447906Z",
     "start_time": "2020-11-05T15:25:50.440613Z"
    }
   },
   "outputs": [],
   "source": [
    "y = df[\"class\"].copy()\n",
    "X = df.drop(\"class\", axis=1)\n",
    "cols = X.columns\n",
    "X.shape"
   ]
  },
  {
   "cell_type": "code",
   "execution_count": null,
   "metadata": {
    "ExecuteTime": {
     "end_time": "2020-11-05T15:25:57.923646Z",
     "start_time": "2020-11-05T15:25:57.508078Z"
    }
   },
   "outputs": [],
   "source": [
    "from sklearn.model_selection import train_test_split\n",
    "\n",
    "X_train, X_test, y_train, y_test = train_test_split(X, y, test_size = 0.3, random_state = 42)"
   ]
  },
  {
   "cell_type": "code",
   "execution_count": null,
   "metadata": {
    "ExecuteTime": {
     "end_time": "2020-11-05T15:25:59.258568Z",
     "start_time": "2020-11-05T15:25:59.251142Z"
    }
   },
   "outputs": [],
   "source": [
    "from sklearn.preprocessing import StandardScaler\n",
    "\n",
    "sc = StandardScaler()\n",
    "X_train = pd.DataFrame(sc.fit_transform(X_train))\n",
    "X_train.columns = cols\n",
    "\n",
    "X_test = pd.DataFrame(sc.transform(X_test))\n",
    "X_test.columns = cols"
   ]
  },
  {
   "cell_type": "markdown",
   "metadata": {},
   "source": [
    "# Models"
   ]
  },
  {
   "cell_type": "markdown",
   "metadata": {},
   "source": [
    "## Baseline model"
   ]
  },
  {
   "cell_type": "code",
   "execution_count": null,
   "metadata": {
    "ExecuteTime": {
     "end_time": "2020-11-05T15:26:02.034854Z",
     "start_time": "2020-11-05T15:26:01.312333Z"
    }
   },
   "outputs": [],
   "source": [
    "from sklearn.linear_model import LogisticRegression\n",
    "\n",
    "lr = LogisticRegression()\n",
    "\n",
    "lr.fit(X_train, y_train)\n",
    "\n",
    "baseline = lr.score(X_test, y_test)\n",
    "print(\"Baseline accuracy\", baseline)"
   ]
  },
  {
   "cell_type": "markdown",
   "metadata": {},
   "source": [
    "## Neural network model"
   ]
  },
  {
   "cell_type": "markdown",
   "metadata": {},
   "source": [
    "### Shallow NN"
   ]
  },
  {
   "cell_type": "code",
   "execution_count": null,
   "metadata": {
    "ExecuteTime": {
     "end_time": "2020-11-05T15:26:47.565115Z",
     "start_time": "2020-11-05T15:26:47.488249Z"
    }
   },
   "outputs": [],
   "source": [
    "from keras.models import Sequential\n",
    "from keras.layers import Dense\n",
    "\n",
    "# np.random.seed(42)\n",
    "\n",
    "model = Sequential()\n",
    "\n",
    "model.add(Dense(4, input_shape=(len(X_train.columns),), activation=\"relu\"))\n",
    "model.add(Dense(1, activation=\"sigmoid\"))\n",
    "\n",
    "model.compile(loss='binary_crossentropy', optimizer=\"adam\", metrics=['accuracy'])\n",
    "\n",
    "model.summary()"
   ]
  },
  {
   "cell_type": "code",
   "execution_count": null,
   "metadata": {
    "ExecuteTime": {
     "end_time": "2020-11-05T15:27:01.214467Z",
     "start_time": "2020-11-05T15:26:48.680878Z"
    }
   },
   "outputs": [],
   "source": [
    "history = model.fit(X_train, y_train, epochs = 500, validation_data = (X_test, y_test))\n",
    "\n",
    "accuracy = model.evaluate(X_test, y_test)[1]\n",
    "\n",
    "print('Accuracy:', accuracy)\n",
    "print(\"Diff with baseline:\", baseline - accuracy)\n",
    "\n",
    "plt.figure(figsize=(10,6))\n",
    "plt.plot(history.history[\"acc\"], label=\"train\")\n",
    "plt.plot(history.history[\"val_acc\"], label=\"val\")\n",
    "plt.legend()"
   ]
  },
  {
   "cell_type": "markdown",
   "metadata": {},
   "source": [
    "### Deep NN"
   ]
  },
  {
   "cell_type": "code",
   "execution_count": null,
   "metadata": {
    "ExecuteTime": {
     "end_time": "2020-11-05T15:27:32.040655Z",
     "start_time": "2020-11-05T15:27:31.924010Z"
    }
   },
   "outputs": [],
   "source": [
    "from keras.models import Sequential\n",
    "from keras.layers import Dense\n",
    "\n",
    "\n",
    "model = Sequential()\n",
    "\n",
    "model.add(Dense(16, input_shape=(len(X_train.columns),), activation=\"relu\"))\n",
    "model.add(Dense(16, activation=\"relu\"))\n",
    "model.add(Dense(8, activation=\"relu\"))\n",
    "model.add(Dense(1, activation=\"sigmoid\"))\n",
    "\n",
    "model.compile(loss='binary_crossentropy', optimizer=\"adam\", metrics=['accuracy'])\n",
    "\n",
    "model.summary()"
   ]
  },
  {
   "cell_type": "code",
   "execution_count": null,
   "metadata": {
    "ExecuteTime": {
     "end_time": "2020-11-05T15:28:03.222290Z",
     "start_time": "2020-11-05T15:27:33.405318Z"
    },
    "scrolled": true
   },
   "outputs": [],
   "source": [
    "history = model.fit(X_train, y_train, epochs = 1000, validation_data = (X_test, y_test))\n",
    "\n",
    "accuracy = model.evaluate(X_test, y_test)[1]\n",
    "\n",
    "print('Accuracy:', accuracy)\n",
    "print(\"Diff with baseline:\", baseline - accuracy)\n",
    "\n",
    "plt.figure(figsize=(10,6))\n",
    "plt.plot(history.history[\"acc\"], label=\"train\")\n",
    "plt.plot(history.history[\"val_acc\"], label=\"val\")\n",
    "plt.legend()"
   ]
  },
  {
   "cell_type": "markdown",
   "metadata": {},
   "source": [
    "We can clearly see the overfitting "
   ]
  },
  {
   "cell_type": "markdown",
   "metadata": {},
   "source": [
    "# Exercise"
   ]
  },
  {
   "cell_type": "markdown",
   "metadata": {},
   "source": [
    "For this exercise you will use another dataset called HTRU2.\n",
    "\n",
    "You can find it here: https://archive.ics.uci.edu/ml/datasets/HTRU2\n",
    "\n",
    "This dataset contains data about pulsar candidates.\n",
    "\n",
    "    Pulsars are a rare type of Neutron star that produce radio emission detectable here on Earth. They are of considerable scientific interest as probes of space-time, the inter-stellar medium, and states of matter (see [2] for more uses).\n",
    "\n",
    "    As pulsars rotate, their emission beam sweeps across the sky, and when this crosses our line of sight, produces a detectable pattern of broadband radio emission. As pulsars rotate rapidly, this pattern repeats periodically. Thus pulsar search involves looking for periodic radio signals with large radio telescopes.\n",
    "\n",
    "    Each pulsar produces a slightly different emission pattern, which varies slightly with each rotation. Thus a potential signal detection known as a 'candidate', is averaged over many rotations of the pulsar, as determined by the length of an observation. In the absence of additional info, each candidate could potentially describe a real pulsar. However in practice almost all detections are caused by radio frequency interference (RFI) and noise, making legitimate signals hard to find.\n",
    "\n",
    "The data set shared here contains 16,259 spurious examples caused by RFI/noise, and 1,639 real pulsar examples. The class labels used are 0 (negative) and 1 (positive)."
   ]
  },
  {
   "cell_type": "markdown",
   "metadata": {},
   "source": [
    "Import data"
   ]
  },
  {
   "cell_type": "code",
   "execution_count": null,
   "metadata": {
    "ExecuteTime": {
     "end_time": "2020-10-29T16:20:08.700999Z",
     "start_time": "2020-10-29T16:20:08.528827Z"
    }
   },
   "outputs": [],
   "source": [
    "df = ...\n",
    "df.head()"
   ]
  },
  {
   "cell_type": "markdown",
   "metadata": {},
   "source": [
    "Isolate target variable"
   ]
  },
  {
   "cell_type": "code",
   "execution_count": null,
   "metadata": {
    "ExecuteTime": {
     "end_time": "2020-10-29T16:20:09.651435Z",
     "start_time": "2020-10-29T16:20:09.620976Z"
    }
   },
   "outputs": [],
   "source": [
    "y = ...\n",
    "X = ...\n",
    "X.shape"
   ]
  },
  {
   "cell_type": "markdown",
   "metadata": {},
   "source": [
    "split into training and testing sets"
   ]
  },
  {
   "cell_type": "code",
   "execution_count": null,
   "metadata": {
    "ExecuteTime": {
     "end_time": "2020-10-29T16:20:10.508385Z",
     "start_time": "2020-10-29T16:20:10.503033Z"
    }
   },
   "outputs": [],
   "source": [
    "from sklearn.model_selection import train_test_split\n",
    "\n",
    "X_train, X_test, y_train, y_test = train_test_split(..., ..., test_size = ..., random_state = ...)"
   ]
  },
  {
   "cell_type": "markdown",
   "metadata": {},
   "source": [
    "create a neural network model"
   ]
  },
  {
   "cell_type": "code",
   "execution_count": null,
   "metadata": {
    "ExecuteTime": {
     "end_time": "2020-10-29T16:32:07.282196Z",
     "start_time": "2020-10-29T16:32:07.198839Z"
    }
   },
   "outputs": [],
   "source": [
    "from keras.models import Sequential\n",
    "from keras.layers import Dense\n",
    "\n",
    "\n",
    "model = ...\n",
    "\n",
    "model.compile(loss='binary_crossentropy', optimizer=\"adam\", metrics=['accuracy'])\n",
    "\n",
    "model.summary()"
   ]
  },
  {
   "cell_type": "markdown",
   "metadata": {},
   "source": [
    "train your model and check performances"
   ]
  },
  {
   "cell_type": "code",
   "execution_count": null,
   "metadata": {
    "ExecuteTime": {
     "end_time": "2020-10-29T16:32:11.022954Z",
     "start_time": "2020-10-29T16:32:08.131265Z"
    }
   },
   "outputs": [],
   "source": [
    "history = model.fit(..., ..., epochs = ..., validation_data = (..., ...))\n",
    "\n",
    "accuracy = model.evaluate(..., ...)[1]\n",
    "\n",
    "print('Accuracy:', accuracy)\n",
    "\n",
    "plt.figure(figsize=(10,6))\n",
    "plt.plot(history.history[\"acc\"], label=\"train\")\n",
    "plt.plot(history.history[\"val_acc\"], label=\"val\")\n",
    "plt.legend()"
   ]
  }
 ],
 "metadata": {
  "kernelspec": {
   "display_name": "Python 3.5",
   "language": "python",
   "name": "my_python_3.5"
  },
  "language_info": {
   "codemirror_mode": {
    "name": "ipython",
    "version": 3
   },
   "file_extension": ".py",
   "mimetype": "text/x-python",
   "name": "python",
   "nbconvert_exporter": "python",
   "pygments_lexer": "ipython3",
   "version": "3.5.5"
  },
  "toc": {
   "base_numbering": 1,
   "nav_menu": {},
   "number_sections": true,
   "sideBar": true,
   "skip_h1_title": false,
   "title_cell": "Table of Contents",
   "title_sidebar": "Contents",
   "toc_cell": false,
   "toc_position": {
    "height": "calc(100% - 180px)",
    "left": "10px",
    "top": "150px",
    "width": "307.2px"
   },
   "toc_section_display": true,
   "toc_window_display": true
  }
 },
 "nbformat": 4,
 "nbformat_minor": 4
}
