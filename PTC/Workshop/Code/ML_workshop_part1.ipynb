{
 "cells": [
  {
   "cell_type": "code",
   "execution_count": null,
   "metadata": {
    "ExecuteTime": {
     "end_time": "2019-11-06T10:14:32.650558Z",
     "start_time": "2019-11-06T10:14:32.647262Z"
    },
    "collapsed": true
   },
   "outputs": [],
   "source": [
    "import pandas as pd\n",
    "import numpy as np\n",
    "import matplotlib.pyplot as plt\n",
    "import seaborn as sns"
   ]
  },
  {
   "cell_type": "markdown",
   "metadata": {},
   "source": [
    "# Import dataset"
   ]
  },
  {
   "cell_type": "markdown",
   "metadata": {},
   "source": [
    "Name: Heart Disease UCI\n",
    "\n",
    "Source: Kaggle\n",
    "\n",
    "https://www.kaggle.com/ronitf/heart-disease-uci/downloads/heart-disease-uci.zip/1"
   ]
  },
  {
   "cell_type": "markdown",
   "metadata": {},
   "source": [
    "Attribute Information: \n",
    "> 1. age \n",
    "> 2. sex \n",
    "> 3. chest pain type (4 values) \n",
    "> 4. resting blood pressure \n",
    "> 5. serum cholestoral in mg/dl \n",
    "> 6. fasting blood sugar > 120 mg/dl\n",
    "> 7. resting electrocardiographic results (values 0,1,2)\n",
    "> 8. maximum heart rate achieved \n",
    "> 9. exercise induced angina \n",
    "> 10. oldpeak = ST depression induced by exercise relative to rest \n",
    "> 11. the slope of the peak exercise ST segment \n",
    "> 12. number of major vessels (0-3) colored by flourosopy \n",
    "> 13. thal: 3 = normal; 6 = fixed defect; 7 = reversable defect"
   ]
  },
  {
   "cell_type": "code",
   "execution_count": null,
   "metadata": {
    "ExecuteTime": {
     "end_time": "2019-11-06T10:36:56.865493Z",
     "start_time": "2019-11-06T10:36:56.844544Z"
    },
    "collapsed": true
   },
   "outputs": [],
   "source": [
    "# read heart_mod.csv file\n",
    "df = ... \n",
    "\n",
    "# Display few rows\n",
    "..."
   ]
  },
  {
   "cell_type": "code",
   "execution_count": null,
   "metadata": {
    "ExecuteTime": {
     "end_time": "2019-11-06T10:03:53.458379Z",
     "start_time": "2019-11-06T10:03:53.396319Z"
    },
    "collapsed": true
   },
   "outputs": [],
   "source": [
    "# display some statistics about the dataframe\n",
    "..."
   ]
  },
  {
   "cell_type": "code",
   "execution_count": null,
   "metadata": {
    "ExecuteTime": {
     "end_time": "2019-11-06T10:36:57.649853Z",
     "start_time": "2019-11-06T10:36:57.631551Z"
    },
    "collapsed": true
   },
   "outputs": [],
   "source": [
    "# display info about the dataframe (columns types, number of missing values etc)\n",
    "..."
   ]
  },
  {
   "cell_type": "markdown",
   "metadata": {},
   "source": [
    "# Data preparation"
   ]
  },
  {
   "cell_type": "markdown",
   "metadata": {},
   "source": [
    "In data science it's very important to work with the correct type of data\n",
    "\n",
    "Let's turn a few variables into categorical variables"
   ]
  },
  {
   "cell_type": "code",
   "execution_count": null,
   "metadata": {
    "ExecuteTime": {
     "end_time": "2019-11-06T10:36:59.726766Z",
     "start_time": "2019-11-06T10:36:59.722101Z"
    },
    "collapsed": true
   },
   "outputs": [],
   "source": [
    "factor_columns = [\"sex\", \"cp\", \"fbs\", \"restecg\", \"exang\", \"slope\", \"ca\", \"target\", \"thal\"]\n",
    "numeric_columns = [\"age\", \"trestbps\", \"chol\", \"thalach\", \"oldpeak\"]"
   ]
  },
  {
   "cell_type": "markdown",
   "metadata": {},
   "source": [
    "## Missing values"
   ]
  },
  {
   "cell_type": "code",
   "execution_count": null,
   "metadata": {
    "ExecuteTime": {
     "end_time": "2019-11-06T10:37:00.876355Z",
     "start_time": "2019-11-06T10:37:00.869526Z"
    },
    "collapsed": true
   },
   "outputs": [],
   "source": [
    "# count how many missing values there are per column\n",
    "..."
   ]
  },
  {
   "cell_type": "code",
   "execution_count": null,
   "metadata": {
    "ExecuteTime": {
     "end_time": "2019-11-06T10:37:01.866532Z",
     "start_time": "2019-11-06T10:37:01.852474Z"
    },
    "collapsed": true
   },
   "outputs": [],
   "source": [
    "# Treat the missing values by imputation\n",
    "# Remember that you should treat numerical and categorical columns differently\n",
    "\n",
    "for col in numeric_columns:\n",
    "    ...\n",
    "    \n",
    "for col in factor_columns:\n",
    "    ...\n",
    "    \n",
    "# count how many missing values there are per column\n",
    "..."
   ]
  },
  {
   "cell_type": "code",
   "execution_count": null,
   "metadata": {
    "ExecuteTime": {
     "end_time": "2019-11-06T10:37:02.339835Z",
     "start_time": "2019-11-06T10:37:02.291073Z"
    },
    "collapsed": true
   },
   "outputs": [],
   "source": [
    "# display again statistics about the dataframe to see the effect of the imputation\n",
    "..."
   ]
  },
  {
   "cell_type": "markdown",
   "metadata": {},
   "source": [
    "## Outliers treatment"
   ]
  },
  {
   "cell_type": "code",
   "execution_count": null,
   "metadata": {
    "ExecuteTime": {
     "end_time": "2019-11-06T10:37:04.163174Z",
     "start_time": "2019-11-06T10:37:03.585662Z"
    },
    "collapsed": true,
    "scrolled": true
   },
   "outputs": [],
   "source": [
    "# display boxplot of any numerical column\n",
    "\n",
    "for ... in ...:\n",
    "    ..."
   ]
  },
  {
   "cell_type": "code",
   "execution_count": null,
   "metadata": {
    "ExecuteTime": {
     "end_time": "2019-11-06T10:37:04.244717Z",
     "start_time": "2019-11-06T10:37:04.238148Z"
    },
    "collapsed": true
   },
   "outputs": [],
   "source": [
    "# based on what you see in the boxplots, apply some filters to the numerical columns to get rid of undesirable outliers\n",
    "# hints: use slicing\n",
    "\n",
    "...\n",
    "...\n",
    "..."
   ]
  },
  {
   "cell_type": "code",
   "execution_count": null,
   "metadata": {
    "ExecuteTime": {
     "end_time": "2019-11-06T10:37:05.501798Z",
     "start_time": "2019-11-06T10:37:04.877909Z"
    },
    "collapsed": true,
    "scrolled": false
   },
   "outputs": [],
   "source": [
    "# display boxplot of any numerical column to confirm outliers are gone\n",
    "for ... in ...:\n",
    "    ..."
   ]
  },
  {
   "cell_type": "markdown",
   "metadata": {},
   "source": [
    "Here the dataset was almost clean, we didn't have much to do.\n",
    "But in general we need to be careful about:\n",
    "* splitting or merging columns\n",
    "* date&time caution\n",
    "* text analytics on free text columns\n",
    "* feature extraction\n",
    "* one hot encoding categorical variables\n",
    "* aggregating levels\n",
    "* features engineering\n",
    "\n",
    "The goal of this workshop is to focus on the ML part without bothering you with data manipulation details.\n",
    "\n",
    "Note however that around 75% of a data scientist time is to collect, join and clean the data !!!"
   ]
  },
  {
   "cell_type": "markdown",
   "metadata": {},
   "source": [
    "# EDA"
   ]
  },
  {
   "cell_type": "markdown",
   "metadata": {
    "ExecuteTime": {
     "end_time": "2019-07-16T08:35:02.946619Z",
     "start_time": "2019-07-16T08:35:02.943247Z"
    }
   },
   "source": [
    "Before jumping to the machine learning part, let's visualize our dataset first"
   ]
  },
  {
   "cell_type": "markdown",
   "metadata": {},
   "source": [
    "Feel free to use either matplotlib or seaborn, as you prefer :)"
   ]
  },
  {
   "cell_type": "markdown",
   "metadata": {},
   "source": [
    "## Univariate analysis"
   ]
  },
  {
   "cell_type": "code",
   "execution_count": null,
   "metadata": {
    "ExecuteTime": {
     "end_time": "2019-11-06T10:37:11.946837Z",
     "start_time": "2019-11-06T10:37:10.971064Z"
    },
    "collapsed": true,
    "scrolled": true
   },
   "outputs": [],
   "source": [
    "# Display histograms of numerical columns\n",
    "for ... in ...:\n",
    "    ..."
   ]
  },
  {
   "cell_type": "code",
   "execution_count": null,
   "metadata": {
    "ExecuteTime": {
     "end_time": "2019-11-06T10:37:13.060885Z",
     "start_time": "2019-11-06T10:37:11.949123Z"
    },
    "collapsed": true,
    "scrolled": false
   },
   "outputs": [],
   "source": [
    "# Display barplots of counts for each levels in categorical columns\n",
    "# hint: you can use the .value_count method to count the levels in a pandas Series or countplot of sns\n",
    "for ... in ...:\n",
    "    ..."
   ]
  },
  {
   "cell_type": "markdown",
   "metadata": {},
   "source": [
    "## Bivariate analysis"
   ]
  },
  {
   "cell_type": "code",
   "execution_count": null,
   "metadata": {
    "ExecuteTime": {
     "end_time": "2019-11-06T10:37:13.065565Z",
     "start_time": "2019-11-06T10:37:13.063186Z"
    },
    "collapsed": true
   },
   "outputs": [],
   "source": [
    "target = \"target\""
   ]
  },
  {
   "cell_type": "code",
   "execution_count": null,
   "metadata": {
    "ExecuteTime": {
     "end_time": "2019-11-06T10:37:20.204162Z",
     "start_time": "2019-11-06T10:37:14.347870Z"
    },
    "collapsed": true,
    "scrolled": false
   },
   "outputs": [],
   "source": [
    "# Create scatterplot or regression plot of any combination of numerical columns\n",
    "# hint: for regression plot you can use regplot from seaborn\n",
    "\n",
    "for ... in numeric_columns:\n",
    "    for ... in numeric_columns:\n",
    "        ..."
   ]
  },
  {
   "cell_type": "markdown",
   "metadata": {},
   "source": [
    "# Unsupervised Learning"
   ]
  },
  {
   "cell_type": "markdown",
   "metadata": {},
   "source": [
    "## Clustering - KMeans"
   ]
  },
  {
   "cell_type": "markdown",
   "metadata": {},
   "source": [
    "The goal with this first exercise it to see if the data could be grouped in some way."
   ]
  },
  {
   "cell_type": "markdown",
   "metadata": {},
   "source": [
    "Since this is an unsupervised task, there is no need to define a training and test set"
   ]
  },
  {
   "cell_type": "markdown",
   "metadata": {},
   "source": [
    "Let's start by visualizing the data points"
   ]
  },
  {
   "cell_type": "code",
   "execution_count": null,
   "metadata": {
    "ExecuteTime": {
     "end_time": "2019-11-06T10:37:22.011765Z",
     "start_time": "2019-11-06T10:37:20.208520Z"
    },
    "collapsed": true,
    "scrolled": false
   },
   "outputs": [],
   "source": [
    "# Display scatter plots of combinations of numeric features as before but this time color the points by their target value\n",
    "\n",
    "for ... in numeric_columns:\n",
    "    for ... in numeric_columns:\n",
    "            ..."
   ]
  },
  {
   "cell_type": "code",
   "execution_count": null,
   "metadata": {
    "ExecuteTime": {
     "end_time": "2019-11-06T10:37:22.032193Z",
     "start_time": "2019-11-06T10:37:22.013836Z"
    },
    "collapsed": true
   },
   "outputs": [],
   "source": [
    "df.head()"
   ]
  },
  {
   "cell_type": "markdown",
   "metadata": {},
   "source": [
    "### First trial"
   ]
  },
  {
   "cell_type": "code",
   "execution_count": null,
   "metadata": {
    "ExecuteTime": {
     "end_time": "2019-11-06T10:37:22.046365Z",
     "start_time": "2019-11-06T10:37:22.034832Z"
    },
    "collapsed": true
   },
   "outputs": [],
   "source": [
    "# Run this cell without modifying it\n",
    "y = df[\"target\"].copy()\n",
    "X = df.drop([\"target\"], axis=1)\n",
    "print(X.head())\n",
    "feature_list = list(X.columns)"
   ]
  },
  {
   "cell_type": "markdown",
   "metadata": {},
   "source": [
    "Hint: https://scikit-learn.org/stable/modules/generated/sklearn.cluster.KMeans.html"
   ]
  },
  {
   "cell_type": "code",
   "execution_count": null,
   "metadata": {
    "ExecuteTime": {
     "end_time": "2019-11-06T10:39:18.251044Z",
     "start_time": "2019-11-06T10:39:17.783533Z"
    },
    "collapsed": true
   },
   "outputs": [],
   "source": [
    "# Import Kmeans from sklearn\n",
    "from sklearn.... import ...\n",
    "\n",
    "# Instantiate a KMeans with the number of clusters you want and fit it to the data\n",
    "model = ...\n",
    "\n",
    "# get the centroids and put them in a dataframe with nice columns names\n",
    "centroids = ...\n",
    "centroids = ...\n",
    "\n",
    "# get the clusters of each points\n",
    "clusters = ...\n",
    "\n",
    "# create a scatter plot of chol VS age with points colored according to the cluster they belong to \n",
    "# Also display the centroids\n",
    "...\n",
    "plt.show()"
   ]
  },
  {
   "cell_type": "code",
   "execution_count": null,
   "metadata": {
    "ExecuteTime": {
     "end_time": "2019-11-06T10:39:25.880588Z",
     "start_time": "2019-11-06T10:39:23.587096Z"
    },
    "collapsed": true,
    "scrolled": false
   },
   "outputs": [],
   "source": [
    "# create a scatter plot of any numerical column combination with points colored according to the cluster they belong to \n",
    "for col in numeric_columns:\n",
    "    for col2 in numeric_columns:\n",
    "        if col < col2:\n",
    "            plt.scatter(X[col], X[col2], c= clusters, s=50, alpha=0.6)\n",
    "            plt.scatter(centroids.loc[:, col], centroids.loc[:, col2], c='red', s=100, marker=\"+\", label=\"centroids\")\n",
    "            plt.xlabel(col)\n",
    "            plt.ylabel(col2)\n",
    "            plt.legend()\n",
    "            plt.show()"
   ]
  },
  {
   "cell_type": "markdown",
   "metadata": {},
   "source": [
    "Let's evaluate the clusters"
   ]
  },
  {
   "attachments": {
    "image.png": {
     "image/png": "[encoded data removed]"
    }
   },
   "cell_type": "markdown",
   "metadata": {},
   "source": [
    "![image.png](attachment:image.png)"
   ]
  },
  {
   "cell_type": "code",
   "execution_count": null,
   "metadata": {
    "ExecuteTime": {
     "end_time": "2019-11-06T10:39:41.743959Z",
     "start_time": "2019-11-06T10:39:41.740270Z"
    },
    "collapsed": true
   },
   "outputs": [],
   "source": [
    "# Compute the inertia of our clustering model either via the model attributes or by computing it manually\n",
    "..."
   ]
  },
  {
   "cell_type": "markdown",
   "metadata": {},
   "source": [
    "Optimisation: let's find the best number of clusters"
   ]
  },
  {
   "cell_type": "code",
   "execution_count": null,
   "metadata": {
    "ExecuteTime": {
     "end_time": "2019-11-06T10:39:46.794171Z",
     "start_time": "2019-11-06T10:39:45.847072Z"
    },
    "collapsed": true
   },
   "outputs": [],
   "source": [
    "# Create a loop to try several number of clusters and compute in each case the inertia\n",
    "\n",
    "intertias = []\n",
    "\n",
    "for i in ...:\n",
    "    \n",
    "    ...\n",
    "    ...\n",
    "    intertias.append(...) #append inertias to the list\n",
    "\n",
    "# now plot the inertia as a function of the number of clusters\n",
    "...\n",
    "plt.show()"
   ]
  },
  {
   "cell_type": "markdown",
   "metadata": {},
   "source": [
    "Thanks to this plot you should now be able to choose the best number of clusters. \n",
    "\n",
    "In our case we already know that our target only has 2 possible values. So let's generate a KMeans with 2 clusters and let's see if they correspond to the real groups"
   ]
  },
  {
   "cell_type": "code",
   "execution_count": null,
   "metadata": {
    "ExecuteTime": {
     "end_time": "2019-11-06T10:43:28.565148Z",
     "start_time": "2019-11-06T10:43:28.042257Z"
    },
    "collapsed": true
   },
   "outputs": [],
   "source": [
    "# Create KMeans model with 2 clusters\n",
    "model = KMeans(n_clusters=...).fit(...)\n",
    "\n",
    "\n",
    "# get the centroids and put them in a dataframe with nice columns names\n",
    "centroids = ...\n",
    "centroids = ...\n",
    "\n",
    "# get the clusters of each points\n",
    "clusters = ...\n",
    "\n",
    "# create a scatter plot of chol VS age with points colored according to the cluster they belong to \n",
    "# Also display the centroids\n",
    "...\n",
    "plt.show()\n",
    "\n",
    "# create a scatter plot of chol VS age with points colored according to the target and compare the two figures\n",
    "...\n",
    "plt.show()\n"
   ]
  },
  {
   "cell_type": "markdown",
   "metadata": {
    "ExecuteTime": {
     "end_time": "2019-11-06T10:41:59.674541Z",
     "start_time": "2019-11-06T10:41:59.434526Z"
    }
   },
   "source": [
    "It seems like with the clustering we didn't manage to capture the benign/malign status of the tumor. \n",
    "\n",
    "Let's try differently"
   ]
  },
  {
   "cell_type": "markdown",
   "metadata": {},
   "source": [
    "### Second trial"
   ]
  },
  {
   "cell_type": "markdown",
   "metadata": {},
   "source": [
    "If we look at the data, we can see that they are not on the same scale, so we need to standardize before in order not to bias the distance computations"
   ]
  },
  {
   "cell_type": "markdown",
   "metadata": {},
   "source": [
    "hint: https://scikit-learn.org/stable/modules/generated/sklearn.preprocessing.StandardScaler.html"
   ]
  },
  {
   "cell_type": "code",
   "execution_count": null,
   "metadata": {
    "ExecuteTime": {
     "end_time": "2019-11-06T10:47:12.988526Z",
     "start_time": "2019-11-06T10:47:12.964469Z"
    },
    "collapsed": true
   },
   "outputs": [],
   "source": [
    "# import standard scaler from sklearn\n",
    "from sklearn.... import ...\n",
    "\n",
    "# Instantiate a scaler object\n",
    "sc = ...\n",
    "\n",
    "# Apply the scaler to the data and turn it into a nice dataframe with the same column names as before\n",
    "X_scaled = ...\n",
    "\n",
    "X_scaled.columns = ...\n",
    "X_scaled.head()\n"
   ]
  },
  {
   "cell_type": "markdown",
   "metadata": {},
   "source": [
    "Let's try again to run a KMeans model with 2 clusters"
   ]
  },
  {
   "cell_type": "code",
   "execution_count": null,
   "metadata": {
    "ExecuteTime": {
     "end_time": "2019-11-06T10:48:14.965540Z",
     "start_time": "2019-11-06T10:48:14.512796Z"
    },
    "collapsed": true
   },
   "outputs": [],
   "source": [
    "# Create KMeans model with 2 clusters\n",
    "model = KMeans(n_clusters=...).fit(...)\n",
    "\n",
    "\n",
    "# get the centroids and put them in a dataframe with nice columns names\n",
    "centroids = ...\n",
    "centroids = ...\n",
    "\n",
    "# get the clusters of each points\n",
    "clusters = ...\n",
    "\n",
    "# create a scatter plot of chol VS age with points colored according to the cluster they belong to \n",
    "# Also display the centroids\n",
    "...\n",
    "plt.show()\n",
    "\n",
    "# create a scatter plot of chol VS age with points colored according to the target and compare the two figures\n",
    "...\n",
    "plt.show()\n"
   ]
  },
  {
   "cell_type": "markdown",
   "metadata": {},
   "source": [
    "This looks much better now. \n",
    "Let's compute some similarity matrix"
   ]
  },
  {
   "cell_type": "markdown",
   "metadata": {},
   "source": [
    "## Hierarchical clustering (Optional)"
   ]
  },
  {
   "cell_type": "code",
   "execution_count": null,
   "metadata": {
    "ExecuteTime": {
     "end_time": "2019-11-06T12:21:07.841360Z",
     "start_time": "2019-11-06T12:21:06.109005Z"
    },
    "collapsed": true
   },
   "outputs": [],
   "source": [
    "# Import hierarchical clustering libraries from scipy and sklearn\n",
    "import scipy.cluster.hierarchy as sch\n",
    "from sklearn.cluster import AgglomerativeClustering\n",
    "\n",
    "# Create dendrogram\n",
    "dendrogram = sch.dendrogram(sch.linkage(X_scaled, method='ward'))\n",
    "plt.show()\n",
    "\n",
    "# Create clusters and fit\n",
    "hc = AgglomerativeClustering(affinity = 'euclidean', linkage = 'ward')\n",
    "hc.fit(X_scaled)\n",
    "\n",
    "print(hc.n_clusters)"
   ]
  },
  {
   "cell_type": "markdown",
   "metadata": {},
   "source": [
    "## Principal Component Analysis"
   ]
  },
  {
   "cell_type": "markdown",
   "metadata": {},
   "source": [
    "hint: https://scikit-learn.org/stable/modules/generated/sklearn.decomposition.PCA.html"
   ]
  },
  {
   "cell_type": "code",
   "execution_count": null,
   "metadata": {
    "collapsed": true
   },
   "outputs": [],
   "source": [
    "# Import PCA from sklearn\n",
    "from sklearn..... import ...\n",
    "pca = ...()\n",
    "\n",
    "# Fit the data to the pca\n",
    "...\n",
    "\n",
    "# Plot the proportion of variance explained (attribute of the pca) on the y-axis of the bar plot\n",
    "...\n",
    "plt.show()\n"
   ]
  },
  {
   "cell_type": "code",
   "execution_count": null,
   "metadata": {
    "collapsed": true
   },
   "outputs": [],
   "source": [
    "# Reduce the dimensions of our initial data to 5 features using PCA\n",
    "pca = ...\n",
    "X_pca = ...\n",
    "\n",
    "# turn the array into a dataframe with column names PC1, PC2 etc\n",
    "principalDf = pd.DataFrame(data = ...\n",
    "             , columns = ...)\n",
    "\n",
    "finalDf = pd.concat([principalDf, y], axis = 1)"
   ]
  },
  {
   "cell_type": "code",
   "execution_count": null,
   "metadata": {
    "collapsed": true
   },
   "outputs": [],
   "source": [
    "finalDf.head()"
   ]
  },
  {
   "cell_type": "markdown",
   "metadata": {},
   "source": [
    "# Congratulations"
   ]
  },
  {
   "cell_type": "markdown",
   "metadata": {},
   "source": [
    "You made it to the end of the first part of this ML training ! :)\n",
    "\n",
    "If you still have time, feel free to experiment on what you have learned"
   ]
  },
  {
   "cell_type": "markdown",
   "metadata": {},
   "source": [
    "# Going further"
   ]
  },
  {
   "cell_type": "markdown",
   "metadata": {},
   "source": [
    "Here is a list of topic you could be interested in if you want to go further in unsupervised learning\n",
    "\n",
    "* DBScan \n",
    "* t-SNE \n",
    "* text analytics (word embeddings)\n",
    "* anomaly detection \n"
   ]
  }
 ],
 "metadata": {
  "kernelspec": {
   "display_name": "Python 3",
   "language": "python",
   "name": "python3"
  },
  "language_info": {
   "codemirror_mode": {
    "name": "ipython",
    "version": 3
   },
   "file_extension": ".py",
   "mimetype": "text/x-python",
   "name": "python",
   "nbconvert_exporter": "python",
   "pygments_lexer": "ipython3",
   "version": "3.7.6"
  },
  "toc": {
   "base_numbering": 1,
   "nav_menu": {},
   "number_sections": true,
   "sideBar": true,
   "skip_h1_title": false,
   "title_cell": "Table of Contents",
   "title_sidebar": "Contents",
   "toc_cell": false,
   "toc_position": {
    "height": "calc(100% - 180px)",
    "left": "10px",
    "top": "150px",
    "width": "341.313px"
   },
   "toc_section_display": true,
   "toc_window_display": true
  }
 },
 "nbformat": 4,
 "nbformat_minor": 2
}
