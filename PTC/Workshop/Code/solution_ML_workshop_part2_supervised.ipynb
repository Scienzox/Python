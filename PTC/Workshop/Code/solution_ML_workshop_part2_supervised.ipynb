{
 "cells": [
  {
   "cell_type": "code",
   "execution_count": 1,
   "metadata": {
    "ExecuteTime": {
     "end_time": "2019-11-18T16:34:19.434580Z",
     "start_time": "2019-11-18T16:34:18.580597Z"
    }
   },
   "outputs": [],
   "source": [
    "import pandas as pd\n",
    "import numpy as np\n",
    "import matplotlib.pyplot as plt\n",
    "import seaborn as sns"
   ]
  },
  {
   "cell_type": "markdown",
   "metadata": {},
   "source": [
    "# Import dataset"
   ]
  },
  {
   "cell_type": "markdown",
   "metadata": {},
   "source": [
    "Name: Heart Disease UCI\n",
    "\n",
    "Source: Kaggle\n",
    "\n",
    "https://www.kaggle.com/ronitf/heart-disease-uci/downloads/heart-disease-uci.zip/1"
   ]
  },
  {
   "cell_type": "markdown",
   "metadata": {},
   "source": [
    "Attribute Information: \n",
    "> 1. age \n",
    "> 2. sex \n",
    "> 3. chest pain type (4 values) \n",
    "> 4. resting blood pressure \n",
    "> 5. serum cholestoral in mg/dl \n",
    "> 6. fasting blood sugar > 120 mg/dl\n",
    "> 7. resting electrocardiographic results (values 0,1,2)\n",
    "> 8. maximum heart rate achieved \n",
    "> 9. exercise induced angina \n",
    "> 10. oldpeak = ST depression induced by exercise relative to rest \n",
    "> 11. the slope of the peak exercise ST segment \n",
    "> 12. number of major vessels (0-3) colored by flourosopy \n",
    "> 13. thal: 3 = normal; 6 = fixed defect; 7 = reversable defect"
   ]
  },
  {
   "cell_type": "code",
   "execution_count": 1,
   "metadata": {
    "ExecuteTime": {
     "end_time": "2019-11-05T15:53:31.889610Z",
     "start_time": "2019-11-05T15:53:31.886566Z"
    },
    "collapsed": true
   },
   "outputs": [],
   "source": [
    "# pd.read_csv(\"https://www.kaggle.com/ronitf/heart-disease-uci/downloads/heart-disease-uci.zip\")"
   ]
  },
  {
   "cell_type": "code",
   "execution_count": 2,
   "metadata": {
    "ExecuteTime": {
     "end_time": "2019-11-18T16:34:21.179355Z",
     "start_time": "2019-11-18T16:34:21.129843Z"
    }
   },
   "outputs": [
    {
     "data": {
      "text/html": [
       "<div>\n",
       "<style scoped>\n",
       "    .dataframe tbody tr th:only-of-type {\n",
       "        vertical-align: middle;\n",
       "    }\n",
       "\n",
       "    .dataframe tbody tr th {\n",
       "        vertical-align: top;\n",
       "    }\n",
       "\n",
       "    .dataframe thead th {\n",
       "        text-align: right;\n",
       "    }\n",
       "</style>\n",
       "<table border=\"1\" class=\"dataframe\">\n",
       "  <thead>\n",
       "    <tr style=\"text-align: right;\">\n",
       "      <th></th>\n",
       "      <th>age</th>\n",
       "      <th>sex</th>\n",
       "      <th>cp</th>\n",
       "      <th>trestbps</th>\n",
       "      <th>chol</th>\n",
       "      <th>fbs</th>\n",
       "      <th>restecg</th>\n",
       "      <th>thalach</th>\n",
       "      <th>exang</th>\n",
       "      <th>oldpeak</th>\n",
       "      <th>slope</th>\n",
       "      <th>ca</th>\n",
       "      <th>thal</th>\n",
       "      <th>target</th>\n",
       "    </tr>\n",
       "  </thead>\n",
       "  <tbody>\n",
       "    <tr>\n",
       "      <th>0</th>\n",
       "      <td>63</td>\n",
       "      <td>1</td>\n",
       "      <td>3</td>\n",
       "      <td>145</td>\n",
       "      <td>233</td>\n",
       "      <td>1</td>\n",
       "      <td>0</td>\n",
       "      <td>150</td>\n",
       "      <td>0</td>\n",
       "      <td>2.3</td>\n",
       "      <td>0</td>\n",
       "      <td>0</td>\n",
       "      <td>1</td>\n",
       "      <td>1</td>\n",
       "    </tr>\n",
       "    <tr>\n",
       "      <th>1</th>\n",
       "      <td>37</td>\n",
       "      <td>1</td>\n",
       "      <td>2</td>\n",
       "      <td>130</td>\n",
       "      <td>250</td>\n",
       "      <td>0</td>\n",
       "      <td>1</td>\n",
       "      <td>187</td>\n",
       "      <td>0</td>\n",
       "      <td>3.5</td>\n",
       "      <td>0</td>\n",
       "      <td>0</td>\n",
       "      <td>2</td>\n",
       "      <td>1</td>\n",
       "    </tr>\n",
       "    <tr>\n",
       "      <th>2</th>\n",
       "      <td>41</td>\n",
       "      <td>0</td>\n",
       "      <td>1</td>\n",
       "      <td>130</td>\n",
       "      <td>204</td>\n",
       "      <td>0</td>\n",
       "      <td>0</td>\n",
       "      <td>172</td>\n",
       "      <td>0</td>\n",
       "      <td>1.4</td>\n",
       "      <td>2</td>\n",
       "      <td>0</td>\n",
       "      <td>2</td>\n",
       "      <td>1</td>\n",
       "    </tr>\n",
       "    <tr>\n",
       "      <th>3</th>\n",
       "      <td>56</td>\n",
       "      <td>1</td>\n",
       "      <td>1</td>\n",
       "      <td>120</td>\n",
       "      <td>236</td>\n",
       "      <td>0</td>\n",
       "      <td>1</td>\n",
       "      <td>178</td>\n",
       "      <td>0</td>\n",
       "      <td>0.8</td>\n",
       "      <td>2</td>\n",
       "      <td>0</td>\n",
       "      <td>2</td>\n",
       "      <td>1</td>\n",
       "    </tr>\n",
       "    <tr>\n",
       "      <th>4</th>\n",
       "      <td>57</td>\n",
       "      <td>0</td>\n",
       "      <td>0</td>\n",
       "      <td>120</td>\n",
       "      <td>354</td>\n",
       "      <td>0</td>\n",
       "      <td>1</td>\n",
       "      <td>163</td>\n",
       "      <td>1</td>\n",
       "      <td>0.6</td>\n",
       "      <td>2</td>\n",
       "      <td>0</td>\n",
       "      <td>2</td>\n",
       "      <td>1</td>\n",
       "    </tr>\n",
       "  </tbody>\n",
       "</table>\n",
       "</div>"
      ],
      "text/plain": [
       "   age  sex  cp  trestbps  chol  fbs  restecg  thalach  exang  oldpeak  slope  \\\n",
       "0   63    1   3       145   233    1        0      150      0      2.3      0   \n",
       "1   37    1   2       130   250    0        1      187      0      3.5      0   \n",
       "2   41    0   1       130   204    0        0      172      0      1.4      2   \n",
       "3   56    1   1       120   236    0        1      178      0      0.8      2   \n",
       "4   57    0   0       120   354    0        1      163      1      0.6      2   \n",
       "\n",
       "   ca  thal  target  \n",
       "0   0     1       1  \n",
       "1   0     2       1  \n",
       "2   0     2       1  \n",
       "3   0     2       1  \n",
       "4   0     2       1  "
      ]
     },
     "execution_count": 2,
     "metadata": {},
     "output_type": "execute_result"
    }
   ],
   "source": [
    "df = pd.read_csv(\"heart_cleaned.csv\", index_col=0)\n",
    "\n",
    "df.head()"
   ]
  },
  {
   "cell_type": "code",
   "execution_count": 3,
   "metadata": {
    "ExecuteTime": {
     "end_time": "2019-11-18T16:34:22.618811Z",
     "start_time": "2019-11-18T16:34:22.609502Z"
    }
   },
   "outputs": [
    {
     "name": "stdout",
     "output_type": "stream",
     "text": [
      "<class 'pandas.core.frame.DataFrame'>\n",
      "Int64Index: 303 entries, 0 to 302\n",
      "Data columns (total 14 columns):\n",
      "age         303 non-null int64\n",
      "sex         303 non-null int64\n",
      "cp          303 non-null int64\n",
      "trestbps    303 non-null int64\n",
      "chol        303 non-null int64\n",
      "fbs         303 non-null int64\n",
      "restecg     303 non-null int64\n",
      "thalach     303 non-null int64\n",
      "exang       303 non-null int64\n",
      "oldpeak     303 non-null float64\n",
      "slope       303 non-null int64\n",
      "ca          303 non-null int64\n",
      "thal        303 non-null int64\n",
      "target      303 non-null int64\n",
      "dtypes: float64(1), int64(13)\n",
      "memory usage: 35.5 KB\n"
     ]
    }
   ],
   "source": [
    "df.info()"
   ]
  },
  {
   "cell_type": "markdown",
   "metadata": {},
   "source": [
    "# Data preparation"
   ]
  },
  {
   "cell_type": "code",
   "execution_count": 4,
   "metadata": {
    "ExecuteTime": {
     "end_time": "2019-11-18T16:34:23.732210Z",
     "start_time": "2019-11-18T16:34:23.727593Z"
    }
   },
   "outputs": [],
   "source": [
    "factor_columns = [\"sex\", \"cp\", \"fbs\", \"restecg\", \"exang\", \"slope\", \"ca\", \"target\", \"thal\"]\n",
    "numeric_columns = [\"age\", \"trestbps\", \"chol\", \"thalach\", \"oldpeak\"]"
   ]
  },
  {
   "cell_type": "markdown",
   "metadata": {},
   "source": [
    "# Supervised Learning"
   ]
  },
  {
   "cell_type": "markdown",
   "metadata": {},
   "source": [
    "## Regression "
   ]
  },
  {
   "cell_type": "markdown",
   "metadata": {},
   "source": [
    "In this exercise we will try to predict the cholesterol of a person based on the other variables.\n",
    "\n",
    "Since it's a continuous variable, it's a perfect regression problem"
   ]
  },
  {
   "cell_type": "markdown",
   "metadata": {},
   "source": [
    "As usual, let's start by preparing our target variable"
   ]
  },
  {
   "cell_type": "code",
   "execution_count": 5,
   "metadata": {
    "ExecuteTime": {
     "end_time": "2019-11-18T16:34:25.950236Z",
     "start_time": "2019-11-18T16:34:25.947091Z"
    }
   },
   "outputs": [],
   "source": [
    "target = \"age\""
   ]
  },
  {
   "cell_type": "code",
   "execution_count": 6,
   "metadata": {
    "ExecuteTime": {
     "end_time": "2019-11-18T16:34:26.451324Z",
     "start_time": "2019-11-18T16:34:26.440819Z"
    }
   },
   "outputs": [
    {
     "name": "stdout",
     "output_type": "stream",
     "text": [
      "   sex  cp  trestbps  chol  fbs  restecg  thalach  exang  oldpeak  slope  ca  \\\n",
      "0    1   3       145   233    1        0      150      0      2.3      0   0   \n",
      "1    1   2       130   250    0        1      187      0      3.5      0   0   \n",
      "2    0   1       130   204    0        0      172      0      1.4      2   0   \n",
      "3    1   1       120   236    0        1      178      0      0.8      2   0   \n",
      "4    0   0       120   354    0        1      163      1      0.6      2   0   \n",
      "\n",
      "   thal  target  \n",
      "0     1       1  \n",
      "1     2       1  \n",
      "2     2       1  \n",
      "3     2       1  \n",
      "4     2       1  \n"
     ]
    }
   ],
   "source": [
    "y = df[target].copy()\n",
    "X = df.drop([target], axis=1)\n",
    "print(X.head())\n",
    "feature_list = list(X.columns)"
   ]
  },
  {
   "cell_type": "code",
   "execution_count": 7,
   "metadata": {
    "ExecuteTime": {
     "end_time": "2019-11-18T16:34:28.365324Z",
     "start_time": "2019-11-18T16:34:27.518384Z"
    },
    "scrolled": true
   },
   "outputs": [
    {
     "data": {
      "image/png": "[encoded data removed]",
      "text/plain": [
       "<Figure size 432x288 with 1 Axes>"
      ]
     },
     "metadata": {
      "needs_background": "light"
     },
     "output_type": "display_data"
    },
    {
     "data": {
      "image/png": "[encoded data removed]",
      "text/plain": [
       "<Figure size 432x288 with 1 Axes>"
      ]
     },
     "metadata": {
      "needs_background": "light"
     },
     "output_type": "display_data"
    },
    {
     "data": {
      "image/png": "[encoded data removed]",
      "text/plain": [
       "<Figure size 432x288 with 1 Axes>"
      ]
     },
     "metadata": {
      "needs_background": "light"
     },
     "output_type": "display_data"
    },
    {
     "data": {
      "image/png": "[encoded data removed]",
      "text/plain": [
       "<Figure size 432x288 with 1 Axes>"
      ]
     },
     "metadata": {
      "needs_background": "light"
     },
     "output_type": "display_data"
    }
   ],
   "source": [
    "for col in numeric_columns:\n",
    "    if col != target:\n",
    "        plt.plot(X[col], y, 'o')\n",
    "        plt.title(col)\n",
    "        plt.xlabel(col)\n",
    "        plt.ylabel(target)\n",
    "        plt.show()"
   ]
  },
  {
   "cell_type": "markdown",
   "metadata": {},
   "source": [
    "Then we need to split the data into a training and testing set to be able to evaluate the quality of our model and its generalizability"
   ]
  },
  {
   "cell_type": "code",
   "execution_count": 8,
   "metadata": {
    "ExecuteTime": {
     "end_time": "2019-11-18T16:34:29.327035Z",
     "start_time": "2019-11-18T16:34:29.201089Z"
    }
   },
   "outputs": [
    {
     "name": "stdout",
     "output_type": "stream",
     "text": [
      "X_train shape = (212, 13)\n",
      "X_test shape = (91, 13)\n"
     ]
    }
   ],
   "source": [
    "from sklearn.model_selection import train_test_split\n",
    "\n",
    "X_train, X_test, y_train, y_test = train_test_split(X, y, test_size = 0.3, random_state = 42)\n",
    "\n",
    "print(\"X_train shape = {}\".format(X_train.shape))\n",
    "print(\"X_test shape = {}\".format(X_test.shape))"
   ]
  },
  {
   "cell_type": "markdown",
   "metadata": {},
   "source": [
    "### Multiple Linear Regression"
   ]
  },
  {
   "cell_type": "markdown",
   "metadata": {},
   "source": [
    "Now let's train our model"
   ]
  },
  {
   "cell_type": "code",
   "execution_count": 9,
   "metadata": {
    "ExecuteTime": {
     "end_time": "2019-11-18T16:34:30.780212Z",
     "start_time": "2019-11-18T16:34:30.741185Z"
    }
   },
   "outputs": [
    {
     "data": {
      "text/plain": [
       "LinearRegression(copy_X=True, fit_intercept=True, n_jobs=None,\n",
       "         normalize=False)"
      ]
     },
     "execution_count": 9,
     "metadata": {},
     "output_type": "execute_result"
    }
   ],
   "source": [
    "from sklearn.linear_model import LinearRegression\n",
    "\n",
    "model = LinearRegression()\n",
    "\n",
    "model.fit(X_train,y_train)"
   ]
  },
  {
   "cell_type": "markdown",
   "metadata": {},
   "source": [
    "It's time to evaluate the model"
   ]
  },
  {
   "cell_type": "code",
   "execution_count": 10,
   "metadata": {
    "ExecuteTime": {
     "end_time": "2019-11-18T16:34:31.560772Z",
     "start_time": "2019-11-18T16:34:31.555849Z"
    }
   },
   "outputs": [],
   "source": [
    "from sklearn.metrics import mean_absolute_error, mean_squared_error, r2_score\n",
    "\n",
    "def evaluate_regression(actuals, preds):\n",
    "    \n",
    "    print(\"RMSE = {:.1f}\".format(np.sqrt(mean_squared_error(actuals, preds))))\n",
    "    print(\"MAE = {:.1f}\".format(mean_absolute_error(actuals, preds)))\n",
    "\n",
    "    print(\"\\nR² = {:.2f}\\n\\n\".format(r2_score(actuals, preds)))"
   ]
  },
  {
   "cell_type": "code",
   "execution_count": 11,
   "metadata": {
    "ExecuteTime": {
     "end_time": "2019-11-18T16:34:32.802737Z",
     "start_time": "2019-11-18T16:34:32.796112Z"
    }
   },
   "outputs": [
    {
     "name": "stdout",
     "output_type": "stream",
     "text": [
      "In sample evaluation \n",
      "---------------------\n",
      "RMSE = 7.4\n",
      "MAE = 6.0\n",
      "\n",
      "R² = 0.35\n",
      "\n",
      "\n"
     ]
    }
   ],
   "source": [
    "y_pred_train = model.predict(X_train)\n",
    "\n",
    "print(\"In sample evaluation \\n---------------------\")\n",
    "evaluate_regression(y_train, y_pred_train)"
   ]
  },
  {
   "cell_type": "code",
   "execution_count": 12,
   "metadata": {
    "ExecuteTime": {
     "end_time": "2019-11-18T16:34:33.638072Z",
     "start_time": "2019-11-18T16:34:33.630973Z"
    }
   },
   "outputs": [
    {
     "name": "stdout",
     "output_type": "stream",
     "text": [
      "Out sample evaluation \n",
      "---------------------\n",
      "RMSE = 8.3\n",
      "MAE = 6.8\n",
      "\n",
      "R² = 0.12\n",
      "\n",
      "\n"
     ]
    }
   ],
   "source": [
    "y_pred = model.predict(X_test)\n",
    "\n",
    "print(\"Out sample evaluation \\n---------------------\")\n",
    "evaluate_regression(y_test, y_pred)"
   ]
  },
  {
   "cell_type": "code",
   "execution_count": 13,
   "metadata": {
    "ExecuteTime": {
     "end_time": "2019-11-18T16:34:35.558153Z",
     "start_time": "2019-11-18T16:34:34.856995Z"
    }
   },
   "outputs": [
    {
     "name": "stdout",
     "output_type": "stream",
     "text": [
      "Best parameter (CV score=0.249):\n",
      "{'pca__n_components': 6}\n"
     ]
    },
    {
     "data": {
      "image/png": "[encoded data removed]",
      "text/plain": [
       "<Figure size 432x432 with 2 Axes>"
      ]
     },
     "metadata": {
      "needs_background": "light"
     },
     "output_type": "display_data"
    }
   ],
   "source": [
    "from sklearn.decomposition import PCA \n",
    "from sklearn.pipeline import Pipeline\n",
    "from sklearn.model_selection import GridSearchCV\n",
    "\n",
    "model = LinearRegression()\n",
    "pca = PCA()\n",
    "pipe = Pipeline(steps=[('pca', pca), ('linear', model)])\n",
    "\n",
    "# Parameters of pipelines can be set using ‘__’ separated parameter names:\n",
    "param_grid = {\n",
    "    'pca__n_components': np.arange(1,13)\n",
    "}\n",
    "search = GridSearchCV(pipe, param_grid, iid=False, cv=5,\n",
    "                      return_train_score=False)\n",
    "search.fit(X_train, y_train)\n",
    "print(\"Best parameter (CV score=%0.3f):\" % search.best_score_)\n",
    "print(search.best_params_)\n",
    "\n",
    "# Plot the PCA spectrum\n",
    "pca.fit(X_train)\n",
    "\n",
    "fig, (ax0, ax1) = plt.subplots(nrows=2, sharex=True, figsize=(6, 6))\n",
    "ax0.plot(pca.explained_variance_ratio_, linewidth=2)\n",
    "ax0.set_ylabel('PCA explained variance')\n",
    "\n",
    "ax0.axvline(search.best_estimator_.named_steps['pca'].n_components,\n",
    "            linestyle=':', label='n_components chosen')\n",
    "ax0.legend(prop=dict(size=12))\n",
    "\n",
    "# For each number of components, find the best classifier results\n",
    "results = pd.DataFrame(search.cv_results_)\n",
    "components_col = 'param_pca__n_components'\n",
    "best_clfs = results.groupby(components_col).apply(\n",
    "    lambda g: g.nlargest(1, 'mean_test_score'))\n",
    "\n",
    "best_clfs.plot(x=components_col, y='mean_test_score', yerr='std_test_score',\n",
    "               legend=False, ax=ax1)\n",
    "ax1.set_ylabel('Classification accuracy (val)')\n",
    "ax1.set_xlabel('n_components')\n",
    "\n",
    "plt.tight_layout()\n",
    "plt.show()"
   ]
  },
  {
   "cell_type": "markdown",
   "metadata": {},
   "source": [
    "### GBR"
   ]
  },
  {
   "cell_type": "code",
   "execution_count": 14,
   "metadata": {
    "ExecuteTime": {
     "end_time": "2019-11-18T16:34:37.995612Z",
     "start_time": "2019-11-18T16:34:37.960546Z"
    }
   },
   "outputs": [
    {
     "name": "stdout",
     "output_type": "stream",
     "text": [
      "RMSE = 7.5\n",
      "MAE = 6.1\n",
      "\n",
      "R² = 0.27\n",
      "\n",
      "\n"
     ]
    }
   ],
   "source": [
    "from sklearn.ensemble import GradientBoostingRegressor\n",
    "\n",
    "model = GradientBoostingRegressor(n_estimators=30)\n",
    "\n",
    "model.fit(X_train,y_train)\n",
    "\n",
    "preds = model.predict(X_test)\n",
    "\n",
    "evaluate_regression(y_test, preds)"
   ]
  },
  {
   "cell_type": "code",
   "execution_count": 15,
   "metadata": {
    "ExecuteTime": {
     "end_time": "2019-11-18T16:34:46.304982Z",
     "start_time": "2019-11-18T16:34:45.991576Z"
    }
   },
   "outputs": [
    {
     "name": "stderr",
     "output_type": "stream",
     "text": [
      "No handles with labels found to put in legend.\n"
     ]
    },
    {
     "name": "stdout",
     "output_type": "stream",
     "text": [
      "Most important features : \n",
      " thalach     0.336829\n",
      "trestbps    0.208539\n",
      "ca          0.180957\n",
      "chol        0.174982\n",
      "oldpeak     0.030322\n",
      "sex         0.018986\n",
      "target      0.015879\n",
      "restecg     0.009422\n",
      "thal        0.008514\n",
      "exang       0.006193\n",
      "cp          0.004712\n",
      "slope       0.004664\n",
      "fbs         0.000000\n",
      "dtype: float64\n"
     ]
    },
    {
     "data": {
      "image/png": "[encoded data removed]",
      "text/plain": [
       "<Figure size 432x288 with 1 Axes>"
      ]
     },
     "metadata": {
      "needs_background": "light"
     },
     "output_type": "display_data"
    }
   ],
   "source": [
    "feature_imp = pd.Series(model.feature_importances_, index = feature_list).sort_values(ascending=False)\n",
    "print(\"Most important features : \\n\",feature_imp)\n",
    "\n",
    "%matplotlib inline\n",
    "sns.barplot(x=feature_imp, y=feature_imp.index)\n",
    "\n",
    "plt.xlabel('Feature Importance Score')\n",
    "plt.ylabel('Features')\n",
    "plt.title(\"Visualizing Important Features\")\n",
    "plt.legend()\n",
    "plt.show()"
   ]
  },
  {
   "cell_type": "markdown",
   "metadata": {},
   "source": [
    "## Classification"
   ]
  },
  {
   "cell_type": "code",
   "execution_count": 16,
   "metadata": {
    "ExecuteTime": {
     "end_time": "2019-11-18T16:34:49.369310Z",
     "start_time": "2019-11-18T16:34:49.365598Z"
    }
   },
   "outputs": [],
   "source": [
    "target = \"target\""
   ]
  },
  {
   "cell_type": "code",
   "execution_count": 17,
   "metadata": {
    "ExecuteTime": {
     "end_time": "2019-11-18T16:34:51.390809Z",
     "start_time": "2019-11-18T16:34:50.542446Z"
    }
   },
   "outputs": [
    {
     "data": {
      "image/png": "[encoded data removed]",
      "text/plain": [
       "<Figure size 432x288 with 1 Axes>"
      ]
     },
     "metadata": {
      "needs_background": "light"
     },
     "output_type": "display_data"
    },
    {
     "data": {
      "image/png": "[encoded data removed]",
      "text/plain": [
       "<Figure size 432x288 with 1 Axes>"
      ]
     },
     "metadata": {
      "needs_background": "light"
     },
     "output_type": "display_data"
    },
    {
     "data": {
      "image/png": "[encoded data removed]",
      "text/plain": [
       "<Figure size 432x288 with 1 Axes>"
      ]
     },
     "metadata": {
      "needs_background": "light"
     },
     "output_type": "display_data"
    },
    {
     "data": {
      "image/png": "[encoded data removed]",
      "text/plain": [
       "<Figure size 432x288 with 1 Axes>"
      ]
     },
     "metadata": {
      "needs_background": "light"
     },
     "output_type": "display_data"
    },
    {
     "data": {
      "image/png": "[encoded data removed]",
      "text/plain": [
       "<Figure size 432x288 with 1 Axes>"
      ]
     },
     "metadata": {
      "needs_background": "light"
     },
     "output_type": "display_data"
    }
   ],
   "source": [
    "for y in numeric_columns:\n",
    "    sns.boxplot(x = target, y = y, data=df, orient=\"v\")\n",
    "    plt.xticks(rotation=90)\n",
    "    plt.show()"
   ]
  },
  {
   "cell_type": "code",
   "execution_count": 18,
   "metadata": {
    "ExecuteTime": {
     "end_time": "2019-11-18T16:34:55.429469Z",
     "start_time": "2019-11-18T16:34:54.782159Z"
    }
   },
   "outputs": [
    {
     "name": "stdout",
     "output_type": "stream",
     "text": [
      "--- sex ---\n"
     ]
    },
    {
     "data": {
      "text/html": [
       "<style  type=\"text/css\" >\n",
       "    #T_5a38899a_0a21_11ea_91b3_98f2b3f48b5drow0_col0 {\n",
       "            background-color:  #fff7fb;\n",
       "        }    #T_5a38899a_0a21_11ea_91b3_98f2b3f48b5drow0_col1 {\n",
       "            background-color:  #023858;\n",
       "        }    #T_5a38899a_0a21_11ea_91b3_98f2b3f48b5drow1_col0 {\n",
       "            background-color:  #023858;\n",
       "        }    #T_5a38899a_0a21_11ea_91b3_98f2b3f48b5drow1_col1 {\n",
       "            background-color:  #fff7fb;\n",
       "        }</style>  \n",
       "<table id=\"T_5a38899a_0a21_11ea_91b3_98f2b3f48b5d\" > \n",
       "<thead>    <tr> \n",
       "        <th class=\"index_name level0\" >sex</th> \n",
       "        <th class=\"col_heading level0 col0\" >0</th> \n",
       "        <th class=\"col_heading level0 col1\" >1</th> \n",
       "    </tr>    <tr> \n",
       "        <th class=\"index_name level0\" >target</th> \n",
       "        <th class=\"blank\" ></th> \n",
       "        <th class=\"blank\" ></th> \n",
       "    </tr></thead> \n",
       "<tbody>    <tr> \n",
       "        <th id=\"T_5a38899a_0a21_11ea_91b3_98f2b3f48b5dlevel0_row0\" class=\"row_heading level0 row0\" >0</th> \n",
       "        <td id=\"T_5a38899a_0a21_11ea_91b3_98f2b3f48b5drow0_col0\" class=\"data row0 col0\" >24</td> \n",
       "        <td id=\"T_5a38899a_0a21_11ea_91b3_98f2b3f48b5drow0_col1\" class=\"data row0 col1\" >114</td> \n",
       "    </tr>    <tr> \n",
       "        <th id=\"T_5a38899a_0a21_11ea_91b3_98f2b3f48b5dlevel0_row1\" class=\"row_heading level0 row1\" >1</th> \n",
       "        <td id=\"T_5a38899a_0a21_11ea_91b3_98f2b3f48b5drow1_col0\" class=\"data row1 col0\" >72</td> \n",
       "        <td id=\"T_5a38899a_0a21_11ea_91b3_98f2b3f48b5drow1_col1\" class=\"data row1 col1\" >93</td> \n",
       "    </tr></tbody> \n",
       "</table> "
      ],
      "text/plain": [
       "<pandas.io.formats.style.Styler at 0x7f4078473438>"
      ]
     },
     "metadata": {},
     "output_type": "display_data"
    },
    {
     "name": "stdout",
     "output_type": "stream",
     "text": [
      "--- cp ---\n"
     ]
    },
    {
     "data": {
      "text/html": [
       "<style  type=\"text/css\" >\n",
       "    #T_5a3d0d26_0a21_11ea_91b3_98f2b3f48b5drow0_col0 {\n",
       "            background-color:  #023858;\n",
       "        }    #T_5a3d0d26_0a21_11ea_91b3_98f2b3f48b5drow0_col1 {\n",
       "            background-color:  #fff7fb;\n",
       "        }    #T_5a3d0d26_0a21_11ea_91b3_98f2b3f48b5drow0_col2 {\n",
       "            background-color:  #fff7fb;\n",
       "        }    #T_5a3d0d26_0a21_11ea_91b3_98f2b3f48b5drow0_col3 {\n",
       "            background-color:  #fff7fb;\n",
       "        }    #T_5a3d0d26_0a21_11ea_91b3_98f2b3f48b5drow1_col0 {\n",
       "            background-color:  #fff7fb;\n",
       "        }    #T_5a3d0d26_0a21_11ea_91b3_98f2b3f48b5drow1_col1 {\n",
       "            background-color:  #023858;\n",
       "        }    #T_5a3d0d26_0a21_11ea_91b3_98f2b3f48b5drow1_col2 {\n",
       "            background-color:  #023858;\n",
       "        }    #T_5a3d0d26_0a21_11ea_91b3_98f2b3f48b5drow1_col3 {\n",
       "            background-color:  #023858;\n",
       "        }</style>  \n",
       "<table id=\"T_5a3d0d26_0a21_11ea_91b3_98f2b3f48b5d\" > \n",
       "<thead>    <tr> \n",
       "        <th class=\"index_name level0\" >cp</th> \n",
       "        <th class=\"col_heading level0 col0\" >0</th> \n",
       "        <th class=\"col_heading level0 col1\" >1</th> \n",
       "        <th class=\"col_heading level0 col2\" >2</th> \n",
       "        <th class=\"col_heading level0 col3\" >3</th> \n",
       "    </tr>    <tr> \n",
       "        <th class=\"index_name level0\" >target</th> \n",
       "        <th class=\"blank\" ></th> \n",
       "        <th class=\"blank\" ></th> \n",
       "        <th class=\"blank\" ></th> \n",
       "        <th class=\"blank\" ></th> \n",
       "    </tr></thead> \n",
       "<tbody>    <tr> \n",
       "        <th id=\"T_5a3d0d26_0a21_11ea_91b3_98f2b3f48b5dlevel0_row0\" class=\"row_heading level0 row0\" >0</th> \n",
       "        <td id=\"T_5a3d0d26_0a21_11ea_91b3_98f2b3f48b5drow0_col0\" class=\"data row0 col0\" >104</td> \n",
       "        <td id=\"T_5a3d0d26_0a21_11ea_91b3_98f2b3f48b5drow0_col1\" class=\"data row0 col1\" >9</td> \n",
       "        <td id=\"T_5a3d0d26_0a21_11ea_91b3_98f2b3f48b5drow0_col2\" class=\"data row0 col2\" >18</td> \n",
       "        <td id=\"T_5a3d0d26_0a21_11ea_91b3_98f2b3f48b5drow0_col3\" class=\"data row0 col3\" >7</td> \n",
       "    </tr>    <tr> \n",
       "        <th id=\"T_5a3d0d26_0a21_11ea_91b3_98f2b3f48b5dlevel0_row1\" class=\"row_heading level0 row1\" >1</th> \n",
       "        <td id=\"T_5a3d0d26_0a21_11ea_91b3_98f2b3f48b5drow1_col0\" class=\"data row1 col0\" >39</td> \n",
       "        <td id=\"T_5a3d0d26_0a21_11ea_91b3_98f2b3f48b5drow1_col1\" class=\"data row1 col1\" >41</td> \n",
       "        <td id=\"T_5a3d0d26_0a21_11ea_91b3_98f2b3f48b5drow1_col2\" class=\"data row1 col2\" >69</td> \n",
       "        <td id=\"T_5a3d0d26_0a21_11ea_91b3_98f2b3f48b5drow1_col3\" class=\"data row1 col3\" >16</td> \n",
       "    </tr></tbody> \n",
       "</table> "
      ],
      "text/plain": [
       "<pandas.io.formats.style.Styler at 0x7f407bed73c8>"
      ]
     },
     "metadata": {},
     "output_type": "display_data"
    },
    {
     "name": "stdout",
     "output_type": "stream",
     "text": [
      "--- fbs ---\n"
     ]
    },
    {
     "data": {
      "text/html": [
       "<style  type=\"text/css\" >\n",
       "    #T_5a40d8fc_0a21_11ea_91b3_98f2b3f48b5drow0_col0 {\n",
       "            background-color:  #fff7fb;\n",
       "        }    #T_5a40d8fc_0a21_11ea_91b3_98f2b3f48b5drow0_col1 {\n",
       "            background-color:  #fff7fb;\n",
       "        }    #T_5a40d8fc_0a21_11ea_91b3_98f2b3f48b5drow1_col0 {\n",
       "            background-color:  #023858;\n",
       "        }    #T_5a40d8fc_0a21_11ea_91b3_98f2b3f48b5drow1_col1 {\n",
       "            background-color:  #023858;\n",
       "        }</style>  \n",
       "<table id=\"T_5a40d8fc_0a21_11ea_91b3_98f2b3f48b5d\" > \n",
       "<thead>    <tr> \n",
       "        <th class=\"index_name level0\" >fbs</th> \n",
       "        <th class=\"col_heading level0 col0\" >0</th> \n",
       "        <th class=\"col_heading level0 col1\" >1</th> \n",
       "    </tr>    <tr> \n",
       "        <th class=\"index_name level0\" >target</th> \n",
       "        <th class=\"blank\" ></th> \n",
       "        <th class=\"blank\" ></th> \n",
       "    </tr></thead> \n",
       "<tbody>    <tr> \n",
       "        <th id=\"T_5a40d8fc_0a21_11ea_91b3_98f2b3f48b5dlevel0_row0\" class=\"row_heading level0 row0\" >0</th> \n",
       "        <td id=\"T_5a40d8fc_0a21_11ea_91b3_98f2b3f48b5drow0_col0\" class=\"data row0 col0\" >116</td> \n",
       "        <td id=\"T_5a40d8fc_0a21_11ea_91b3_98f2b3f48b5drow0_col1\" class=\"data row0 col1\" >22</td> \n",
       "    </tr>    <tr> \n",
       "        <th id=\"T_5a40d8fc_0a21_11ea_91b3_98f2b3f48b5dlevel0_row1\" class=\"row_heading level0 row1\" >1</th> \n",
       "        <td id=\"T_5a40d8fc_0a21_11ea_91b3_98f2b3f48b5drow1_col0\" class=\"data row1 col0\" >142</td> \n",
       "        <td id=\"T_5a40d8fc_0a21_11ea_91b3_98f2b3f48b5drow1_col1\" class=\"data row1 col1\" >23</td> \n",
       "    </tr></tbody> \n",
       "</table> "
      ],
      "text/plain": [
       "<pandas.io.formats.style.Styler at 0x7f4078429438>"
      ]
     },
     "metadata": {},
     "output_type": "display_data"
    },
    {
     "name": "stdout",
     "output_type": "stream",
     "text": [
      "--- restecg ---\n"
     ]
    },
    {
     "data": {
      "text/html": [
       "<style  type=\"text/css\" >\n",
       "    #T_5a44f19e_0a21_11ea_91b3_98f2b3f48b5drow0_col0 {\n",
       "            background-color:  #023858;\n",
       "        }    #T_5a44f19e_0a21_11ea_91b3_98f2b3f48b5drow0_col1 {\n",
       "            background-color:  #fff7fb;\n",
       "        }    #T_5a44f19e_0a21_11ea_91b3_98f2b3f48b5drow0_col2 {\n",
       "            background-color:  #023858;\n",
       "        }    #T_5a44f19e_0a21_11ea_91b3_98f2b3f48b5drow1_col0 {\n",
       "            background-color:  #fff7fb;\n",
       "        }    #T_5a44f19e_0a21_11ea_91b3_98f2b3f48b5drow1_col1 {\n",
       "            background-color:  #023858;\n",
       "        }    #T_5a44f19e_0a21_11ea_91b3_98f2b3f48b5drow1_col2 {\n",
       "            background-color:  #fff7fb;\n",
       "        }</style>  \n",
       "<table id=\"T_5a44f19e_0a21_11ea_91b3_98f2b3f48b5d\" > \n",
       "<thead>    <tr> \n",
       "        <th class=\"index_name level0\" >restecg</th> \n",
       "        <th class=\"col_heading level0 col0\" >0</th> \n",
       "        <th class=\"col_heading level0 col1\" >1</th> \n",
       "        <th class=\"col_heading level0 col2\" >2</th> \n",
       "    </tr>    <tr> \n",
       "        <th class=\"index_name level0\" >target</th> \n",
       "        <th class=\"blank\" ></th> \n",
       "        <th class=\"blank\" ></th> \n",
       "        <th class=\"blank\" ></th> \n",
       "    </tr></thead> \n",
       "<tbody>    <tr> \n",
       "        <th id=\"T_5a44f19e_0a21_11ea_91b3_98f2b3f48b5dlevel0_row0\" class=\"row_heading level0 row0\" >0</th> \n",
       "        <td id=\"T_5a44f19e_0a21_11ea_91b3_98f2b3f48b5drow0_col0\" class=\"data row0 col0\" >79</td> \n",
       "        <td id=\"T_5a44f19e_0a21_11ea_91b3_98f2b3f48b5drow0_col1\" class=\"data row0 col1\" >56</td> \n",
       "        <td id=\"T_5a44f19e_0a21_11ea_91b3_98f2b3f48b5drow0_col2\" class=\"data row0 col2\" >3</td> \n",
       "    </tr>    <tr> \n",
       "        <th id=\"T_5a44f19e_0a21_11ea_91b3_98f2b3f48b5dlevel0_row1\" class=\"row_heading level0 row1\" >1</th> \n",
       "        <td id=\"T_5a44f19e_0a21_11ea_91b3_98f2b3f48b5drow1_col0\" class=\"data row1 col0\" >68</td> \n",
       "        <td id=\"T_5a44f19e_0a21_11ea_91b3_98f2b3f48b5drow1_col1\" class=\"data row1 col1\" >96</td> \n",
       "        <td id=\"T_5a44f19e_0a21_11ea_91b3_98f2b3f48b5drow1_col2\" class=\"data row1 col2\" >1</td> \n",
       "    </tr></tbody> \n",
       "</table> "
      ],
      "text/plain": [
       "<pandas.io.formats.style.Styler at 0x7f4078165470>"
      ]
     },
     "metadata": {},
     "output_type": "display_data"
    },
    {
     "name": "stdout",
     "output_type": "stream",
     "text": [
      "--- exang ---\n"
     ]
    },
    {
     "data": {
      "text/html": [
       "<style  type=\"text/css\" >\n",
       "    #T_5a497cdc_0a21_11ea_91b3_98f2b3f48b5drow0_col0 {\n",
       "            background-color:  #fff7fb;\n",
       "        }    #T_5a497cdc_0a21_11ea_91b3_98f2b3f48b5drow0_col1 {\n",
       "            background-color:  #023858;\n",
       "        }    #T_5a497cdc_0a21_11ea_91b3_98f2b3f48b5drow1_col0 {\n",
       "            background-color:  #023858;\n",
       "        }    #T_5a497cdc_0a21_11ea_91b3_98f2b3f48b5drow1_col1 {\n",
       "            background-color:  #fff7fb;\n",
       "        }</style>  \n",
       "<table id=\"T_5a497cdc_0a21_11ea_91b3_98f2b3f48b5d\" > \n",
       "<thead>    <tr> \n",
       "        <th class=\"index_name level0\" >exang</th> \n",
       "        <th class=\"col_heading level0 col0\" >0</th> \n",
       "        <th class=\"col_heading level0 col1\" >1</th> \n",
       "    </tr>    <tr> \n",
       "        <th class=\"index_name level0\" >target</th> \n",
       "        <th class=\"blank\" ></th> \n",
       "        <th class=\"blank\" ></th> \n",
       "    </tr></thead> \n",
       "<tbody>    <tr> \n",
       "        <th id=\"T_5a497cdc_0a21_11ea_91b3_98f2b3f48b5dlevel0_row0\" class=\"row_heading level0 row0\" >0</th> \n",
       "        <td id=\"T_5a497cdc_0a21_11ea_91b3_98f2b3f48b5drow0_col0\" class=\"data row0 col0\" >62</td> \n",
       "        <td id=\"T_5a497cdc_0a21_11ea_91b3_98f2b3f48b5drow0_col1\" class=\"data row0 col1\" >76</td> \n",
       "    </tr>    <tr> \n",
       "        <th id=\"T_5a497cdc_0a21_11ea_91b3_98f2b3f48b5dlevel0_row1\" class=\"row_heading level0 row1\" >1</th> \n",
       "        <td id=\"T_5a497cdc_0a21_11ea_91b3_98f2b3f48b5drow1_col0\" class=\"data row1 col0\" >142</td> \n",
       "        <td id=\"T_5a497cdc_0a21_11ea_91b3_98f2b3f48b5drow1_col1\" class=\"data row1 col1\" >23</td> \n",
       "    </tr></tbody> \n",
       "</table> "
      ],
      "text/plain": [
       "<pandas.io.formats.style.Styler at 0x7f4078473438>"
      ]
     },
     "metadata": {},
     "output_type": "display_data"
    },
    {
     "name": "stdout",
     "output_type": "stream",
     "text": [
      "--- slope ---\n"
     ]
    },
    {
     "data": {
      "text/html": [
       "<style  type=\"text/css\" >\n",
       "    #T_5a506696_0a21_11ea_91b3_98f2b3f48b5drow0_col0 {\n",
       "            background-color:  #023858;\n",
       "        }    #T_5a506696_0a21_11ea_91b3_98f2b3f48b5drow0_col1 {\n",
       "            background-color:  #023858;\n",
       "        }    #T_5a506696_0a21_11ea_91b3_98f2b3f48b5drow0_col2 {\n",
       "            background-color:  #fff7fb;\n",
       "        }    #T_5a506696_0a21_11ea_91b3_98f2b3f48b5drow1_col0 {\n",
       "            background-color:  #fff7fb;\n",
       "        }    #T_5a506696_0a21_11ea_91b3_98f2b3f48b5drow1_col1 {\n",
       "            background-color:  #fff7fb;\n",
       "        }    #T_5a506696_0a21_11ea_91b3_98f2b3f48b5drow1_col2 {\n",
       "            background-color:  #023858;\n",
       "        }</style>  \n",
       "<table id=\"T_5a506696_0a21_11ea_91b3_98f2b3f48b5d\" > \n",
       "<thead>    <tr> \n",
       "        <th class=\"index_name level0\" >slope</th> \n",
       "        <th class=\"col_heading level0 col0\" >0</th> \n",
       "        <th class=\"col_heading level0 col1\" >1</th> \n",
       "        <th class=\"col_heading level0 col2\" >2</th> \n",
       "    </tr>    <tr> \n",
       "        <th class=\"index_name level0\" >target</th> \n",
       "        <th class=\"blank\" ></th> \n",
       "        <th class=\"blank\" ></th> \n",
       "        <th class=\"blank\" ></th> \n",
       "    </tr></thead> \n",
       "<tbody>    <tr> \n",
       "        <th id=\"T_5a506696_0a21_11ea_91b3_98f2b3f48b5dlevel0_row0\" class=\"row_heading level0 row0\" >0</th> \n",
       "        <td id=\"T_5a506696_0a21_11ea_91b3_98f2b3f48b5drow0_col0\" class=\"data row0 col0\" >12</td> \n",
       "        <td id=\"T_5a506696_0a21_11ea_91b3_98f2b3f48b5drow0_col1\" class=\"data row0 col1\" >91</td> \n",
       "        <td id=\"T_5a506696_0a21_11ea_91b3_98f2b3f48b5drow0_col2\" class=\"data row0 col2\" >35</td> \n",
       "    </tr>    <tr> \n",
       "        <th id=\"T_5a506696_0a21_11ea_91b3_98f2b3f48b5dlevel0_row1\" class=\"row_heading level0 row1\" >1</th> \n",
       "        <td id=\"T_5a506696_0a21_11ea_91b3_98f2b3f48b5drow1_col0\" class=\"data row1 col0\" >9</td> \n",
       "        <td id=\"T_5a506696_0a21_11ea_91b3_98f2b3f48b5drow1_col1\" class=\"data row1 col1\" >49</td> \n",
       "        <td id=\"T_5a506696_0a21_11ea_91b3_98f2b3f48b5drow1_col2\" class=\"data row1 col2\" >107</td> \n",
       "    </tr></tbody> \n",
       "</table> "
      ],
      "text/plain": [
       "<pandas.io.formats.style.Styler at 0x7f4118320a58>"
      ]
     },
     "metadata": {},
     "output_type": "display_data"
    },
    {
     "name": "stdout",
     "output_type": "stream",
     "text": [
      "--- ca ---\n"
     ]
    },
    {
     "data": {
      "text/html": [
       "<style  type=\"text/css\" >\n",
       "    #T_5a549162_0a21_11ea_91b3_98f2b3f48b5drow0_col0 {\n",
       "            background-color:  #fff7fb;\n",
       "        }    #T_5a549162_0a21_11ea_91b3_98f2b3f48b5drow0_col1 {\n",
       "            background-color:  #023858;\n",
       "        }    #T_5a549162_0a21_11ea_91b3_98f2b3f48b5drow0_col2 {\n",
       "            background-color:  #023858;\n",
       "        }    #T_5a549162_0a21_11ea_91b3_98f2b3f48b5drow0_col3 {\n",
       "            background-color:  #023858;\n",
       "        }    #T_5a549162_0a21_11ea_91b3_98f2b3f48b5drow0_col4 {\n",
       "            background-color:  #fff7fb;\n",
       "        }    #T_5a549162_0a21_11ea_91b3_98f2b3f48b5drow1_col0 {\n",
       "            background-color:  #023858;\n",
       "        }    #T_5a549162_0a21_11ea_91b3_98f2b3f48b5drow1_col1 {\n",
       "            background-color:  #fff7fb;\n",
       "        }    #T_5a549162_0a21_11ea_91b3_98f2b3f48b5drow1_col2 {\n",
       "            background-color:  #fff7fb;\n",
       "        }    #T_5a549162_0a21_11ea_91b3_98f2b3f48b5drow1_col3 {\n",
       "            background-color:  #fff7fb;\n",
       "        }    #T_5a549162_0a21_11ea_91b3_98f2b3f48b5drow1_col4 {\n",
       "            background-color:  #023858;\n",
       "        }</style>  \n",
       "<table id=\"T_5a549162_0a21_11ea_91b3_98f2b3f48b5d\" > \n",
       "<thead>    <tr> \n",
       "        <th class=\"index_name level0\" >ca</th> \n",
       "        <th class=\"col_heading level0 col0\" >0</th> \n",
       "        <th class=\"col_heading level0 col1\" >1</th> \n",
       "        <th class=\"col_heading level0 col2\" >2</th> \n",
       "        <th class=\"col_heading level0 col3\" >3</th> \n",
       "        <th class=\"col_heading level0 col4\" >4</th> \n",
       "    </tr>    <tr> \n",
       "        <th class=\"index_name level0\" >target</th> \n",
       "        <th class=\"blank\" ></th> \n",
       "        <th class=\"blank\" ></th> \n",
       "        <th class=\"blank\" ></th> \n",
       "        <th class=\"blank\" ></th> \n",
       "        <th class=\"blank\" ></th> \n",
       "    </tr></thead> \n",
       "<tbody>    <tr> \n",
       "        <th id=\"T_5a549162_0a21_11ea_91b3_98f2b3f48b5dlevel0_row0\" class=\"row_heading level0 row0\" >0</th> \n",
       "        <td id=\"T_5a549162_0a21_11ea_91b3_98f2b3f48b5drow0_col0\" class=\"data row0 col0\" >45</td> \n",
       "        <td id=\"T_5a549162_0a21_11ea_91b3_98f2b3f48b5drow0_col1\" class=\"data row0 col1\" >44</td> \n",
       "        <td id=\"T_5a549162_0a21_11ea_91b3_98f2b3f48b5drow0_col2\" class=\"data row0 col2\" >31</td> \n",
       "        <td id=\"T_5a549162_0a21_11ea_91b3_98f2b3f48b5drow0_col3\" class=\"data row0 col3\" >17</td> \n",
       "        <td id=\"T_5a549162_0a21_11ea_91b3_98f2b3f48b5drow0_col4\" class=\"data row0 col4\" >1</td> \n",
       "    </tr>    <tr> \n",
       "        <th id=\"T_5a549162_0a21_11ea_91b3_98f2b3f48b5dlevel0_row1\" class=\"row_heading level0 row1\" >1</th> \n",
       "        <td id=\"T_5a549162_0a21_11ea_91b3_98f2b3f48b5drow1_col0\" class=\"data row1 col0\" >130</td> \n",
       "        <td id=\"T_5a549162_0a21_11ea_91b3_98f2b3f48b5drow1_col1\" class=\"data row1 col1\" >21</td> \n",
       "        <td id=\"T_5a549162_0a21_11ea_91b3_98f2b3f48b5drow1_col2\" class=\"data row1 col2\" >7</td> \n",
       "        <td id=\"T_5a549162_0a21_11ea_91b3_98f2b3f48b5drow1_col3\" class=\"data row1 col3\" >3</td> \n",
       "        <td id=\"T_5a549162_0a21_11ea_91b3_98f2b3f48b5drow1_col4\" class=\"data row1 col4\" >4</td> \n",
       "    </tr></tbody> \n",
       "</table> "
      ],
      "text/plain": [
       "<pandas.io.formats.style.Styler at 0x7f411023e710>"
      ]
     },
     "metadata": {},
     "output_type": "display_data"
    },
    {
     "name": "stdout",
     "output_type": "stream",
     "text": [
      "--- thal ---\n"
     ]
    },
    {
     "data": {
      "text/html": [
       "<style  type=\"text/css\" >\n",
       "    #T_5a59a86e_0a21_11ea_91b3_98f2b3f48b5drow0_col0 {\n",
       "            background-color:  #fff7fb;\n",
       "        }    #T_5a59a86e_0a21_11ea_91b3_98f2b3f48b5drow0_col1 {\n",
       "            background-color:  #023858;\n",
       "        }    #T_5a59a86e_0a21_11ea_91b3_98f2b3f48b5drow0_col2 {\n",
       "            background-color:  #fff7fb;\n",
       "        }    #T_5a59a86e_0a21_11ea_91b3_98f2b3f48b5drow0_col3 {\n",
       "            background-color:  #023858;\n",
       "        }    #T_5a59a86e_0a21_11ea_91b3_98f2b3f48b5drow1_col0 {\n",
       "            background-color:  #fff7fb;\n",
       "        }    #T_5a59a86e_0a21_11ea_91b3_98f2b3f48b5drow1_col1 {\n",
       "            background-color:  #fff7fb;\n",
       "        }    #T_5a59a86e_0a21_11ea_91b3_98f2b3f48b5drow1_col2 {\n",
       "            background-color:  #023858;\n",
       "        }    #T_5a59a86e_0a21_11ea_91b3_98f2b3f48b5drow1_col3 {\n",
       "            background-color:  #fff7fb;\n",
       "        }</style>  \n",
       "<table id=\"T_5a59a86e_0a21_11ea_91b3_98f2b3f48b5d\" > \n",
       "<thead>    <tr> \n",
       "        <th class=\"index_name level0\" >thal</th> \n",
       "        <th class=\"col_heading level0 col0\" >0</th> \n",
       "        <th class=\"col_heading level0 col1\" >1</th> \n",
       "        <th class=\"col_heading level0 col2\" >2</th> \n",
       "        <th class=\"col_heading level0 col3\" >3</th> \n",
       "    </tr>    <tr> \n",
       "        <th class=\"index_name level0\" >target</th> \n",
       "        <th class=\"blank\" ></th> \n",
       "        <th class=\"blank\" ></th> \n",
       "        <th class=\"blank\" ></th> \n",
       "        <th class=\"blank\" ></th> \n",
       "    </tr></thead> \n",
       "<tbody>    <tr> \n",
       "        <th id=\"T_5a59a86e_0a21_11ea_91b3_98f2b3f48b5dlevel0_row0\" class=\"row_heading level0 row0\" >0</th> \n",
       "        <td id=\"T_5a59a86e_0a21_11ea_91b3_98f2b3f48b5drow0_col0\" class=\"data row0 col0\" >1</td> \n",
       "        <td id=\"T_5a59a86e_0a21_11ea_91b3_98f2b3f48b5drow0_col1\" class=\"data row0 col1\" >12</td> \n",
       "        <td id=\"T_5a59a86e_0a21_11ea_91b3_98f2b3f48b5drow0_col2\" class=\"data row0 col2\" >36</td> \n",
       "        <td id=\"T_5a59a86e_0a21_11ea_91b3_98f2b3f48b5drow0_col3\" class=\"data row0 col3\" >89</td> \n",
       "    </tr>    <tr> \n",
       "        <th id=\"T_5a59a86e_0a21_11ea_91b3_98f2b3f48b5dlevel0_row1\" class=\"row_heading level0 row1\" >1</th> \n",
       "        <td id=\"T_5a59a86e_0a21_11ea_91b3_98f2b3f48b5drow1_col0\" class=\"data row1 col0\" >1</td> \n",
       "        <td id=\"T_5a59a86e_0a21_11ea_91b3_98f2b3f48b5drow1_col1\" class=\"data row1 col1\" >6</td> \n",
       "        <td id=\"T_5a59a86e_0a21_11ea_91b3_98f2b3f48b5drow1_col2\" class=\"data row1 col2\" >130</td> \n",
       "        <td id=\"T_5a59a86e_0a21_11ea_91b3_98f2b3f48b5drow1_col3\" class=\"data row1 col3\" >28</td> \n",
       "    </tr></tbody> \n",
       "</table> "
      ],
      "text/plain": [
       "<pandas.io.formats.style.Styler at 0x7f4078429438>"
      ]
     },
     "metadata": {},
     "output_type": "display_data"
    }
   ],
   "source": [
    "for col in factor_columns:\n",
    "    if col != \"target\":\n",
    "        print(\"--- {} ---\".format(col))\n",
    "        display(pd.crosstab(df[target], df[col]).style.background_gradient())"
   ]
  },
  {
   "cell_type": "code",
   "execution_count": 19,
   "metadata": {
    "ExecuteTime": {
     "end_time": "2019-11-18T16:34:57.210681Z",
     "start_time": "2019-11-18T16:34:57.199545Z"
    }
   },
   "outputs": [
    {
     "name": "stdout",
     "output_type": "stream",
     "text": [
      "   age  sex  cp  trestbps  chol  fbs  restecg  thalach  exang  oldpeak  slope  \\\n",
      "0   63    1   3       145   233    1        0      150      0      2.3      0   \n",
      "1   37    1   2       130   250    0        1      187      0      3.5      0   \n",
      "2   41    0   1       130   204    0        0      172      0      1.4      2   \n",
      "3   56    1   1       120   236    0        1      178      0      0.8      2   \n",
      "4   57    0   0       120   354    0        1      163      1      0.6      2   \n",
      "\n",
      "   ca  thal  \n",
      "0   0     1  \n",
      "1   0     2  \n",
      "2   0     2  \n",
      "3   0     2  \n",
      "4   0     2  \n"
     ]
    }
   ],
   "source": [
    "y = df[\"target\"].copy()\n",
    "X = df.drop([\"target\"], axis=1)\n",
    "print(X.head())\n",
    "feature_list = list(X.columns)"
   ]
  },
  {
   "cell_type": "markdown",
   "metadata": {},
   "source": [
    "First it's important to isolate the target variable"
   ]
  },
  {
   "cell_type": "markdown",
   "metadata": {},
   "source": [
    "In oreder to get better estimates, let's normalize the data"
   ]
  },
  {
   "cell_type": "markdown",
   "metadata": {},
   "source": [
    "Then we need to split the data into a training and testing set to be able to evaluate the quality of our model and its generalizability"
   ]
  },
  {
   "cell_type": "code",
   "execution_count": 20,
   "metadata": {
    "ExecuteTime": {
     "end_time": "2019-11-18T16:34:59.684750Z",
     "start_time": "2019-11-18T16:34:59.674739Z"
    }
   },
   "outputs": [
    {
     "name": "stdout",
     "output_type": "stream",
     "text": [
      "X_train shape = (212, 13)\n",
      "X_test shape = (91, 13)\n"
     ]
    }
   ],
   "source": [
    "from sklearn.model_selection import train_test_split\n",
    "\n",
    "X_train, X_test, y_train, y_test = train_test_split(X, y, test_size = 0.3, random_state = 42)\n",
    "\n",
    "print(\"X_train shape = {}\".format(X_train.shape))\n",
    "print(\"X_test shape = {}\".format(X_test.shape))"
   ]
  },
  {
   "cell_type": "code",
   "execution_count": 21,
   "metadata": {
    "ExecuteTime": {
     "end_time": "2019-11-18T16:35:01.238024Z",
     "start_time": "2019-11-18T16:35:01.228728Z"
    }
   },
   "outputs": [],
   "source": [
    "from sklearn.metrics import accuracy_score, confusion_matrix, precision_score, recall_score, roc_auc_score\n",
    "\n",
    "def evaluate_classification(actuals, preds):\n",
    "    \n",
    "    print(\"Accuracy = {:.1%}\".format(accuracy_score(actuals, preds)))\n",
    "    print(\"Precision = {:.1%}\".format(precision_score(actuals, preds)))\n",
    "    print(\"Recall = {:.1%}\".format(recall_score(actuals, preds)))\n",
    "\n",
    "    print(\"AUC = {:.1%}\".format(roc_auc_score(actuals, preds, average=\"macro\")))\n",
    "\n",
    "    print(\"\\nConfusion matrix: \\n\",confusion_matrix(actuals, preds))\n",
    "    \n",
    "    print(\"\\n\")"
   ]
  },
  {
   "cell_type": "markdown",
   "metadata": {},
   "source": [
    "### Logistic regression"
   ]
  },
  {
   "cell_type": "code",
   "execution_count": 22,
   "metadata": {
    "ExecuteTime": {
     "end_time": "2019-11-18T16:35:05.884126Z",
     "start_time": "2019-11-18T16:35:05.818281Z"
    }
   },
   "outputs": [
    {
     "name": "stdout",
     "output_type": "stream",
     "text": [
      "In sample evaluation \n",
      "---------------------\n",
      "Accuracy = 87.3%\n",
      "Precision = 86.1%\n",
      "Recall = 91.3%\n",
      "AUC = 86.9%\n",
      "\n",
      "Confusion matrix: \n",
      " [[ 80  17]\n",
      " [ 10 105]]\n",
      "\n",
      "\n",
      "Out sample evaluation \n",
      "---------------------\n",
      "Accuracy = 81.3%\n",
      "Precision = 82.4%\n",
      "Recall = 84.0%\n",
      "AUC = 81.0%\n",
      "\n",
      "Confusion matrix: \n",
      " [[32  9]\n",
      " [ 8 42]]\n",
      "\n",
      "\n"
     ]
    },
    {
     "name": "stderr",
     "output_type": "stream",
     "text": [
      "/work/jupyterhub/id860112/envs/My_Python_3.5/lib/python3.5/site-packages/sklearn/linear_model/logistic.py:432: FutureWarning: Default solver will be changed to 'lbfgs' in 0.22. Specify a solver to silence this warning.\n",
      "  FutureWarning)\n"
     ]
    }
   ],
   "source": [
    "from sklearn.linear_model import LogisticRegression\n",
    "\n",
    "lr = LogisticRegression()\n",
    "lr.fit(X_train, y_train)\n",
    "\n",
    "preds = lr.predict(X_test)\n",
    "\n",
    "print(\"In sample evaluation \\n---------------------\")\n",
    "evaluate_classification(y_train, lr.predict(X_train))\n",
    "\n",
    "print(\"Out sample evaluation \\n---------------------\")\n",
    "evaluate_classification(y_test, preds)"
   ]
  },
  {
   "cell_type": "code",
   "execution_count": 23,
   "metadata": {
    "ExecuteTime": {
     "end_time": "2019-11-18T16:35:08.193369Z",
     "start_time": "2019-11-18T16:35:08.036418Z"
    }
   },
   "outputs": [
    {
     "data": {
      "image/png": "[encoded data removed]",
      "text/plain": [
       "<Figure size 432x288 with 1 Axes>"
      ]
     },
     "metadata": {
      "needs_background": "light"
     },
     "output_type": "display_data"
    }
   ],
   "source": [
    "proba = lr.predict_proba(X_test)[:,0]\n",
    "plt.scatter(range(len(proba)),np.sort(proba))\n",
    "plt.scatter(range(len(preds)), np.sort(preds))\n",
    "plt.show()"
   ]
  },
  {
   "cell_type": "markdown",
   "metadata": {},
   "source": [
    "### Random Forest"
   ]
  },
  {
   "cell_type": "markdown",
   "metadata": {},
   "source": [
    "Now let's train our model"
   ]
  },
  {
   "cell_type": "code",
   "execution_count": 24,
   "metadata": {
    "ExecuteTime": {
     "end_time": "2019-11-18T16:35:10.649947Z",
     "start_time": "2019-11-18T16:35:10.555470Z"
    }
   },
   "outputs": [
    {
     "data": {
      "text/plain": [
       "RandomForestClassifier(bootstrap=True, class_weight=None, criterion='gini',\n",
       "            max_depth=None, max_features='auto', max_leaf_nodes=None,\n",
       "            min_impurity_decrease=0.0, min_impurity_split=None,\n",
       "            min_samples_leaf=1, min_samples_split=2,\n",
       "            min_weight_fraction_leaf=0.0, n_estimators=100, n_jobs=None,\n",
       "            oob_score=False, random_state=None, verbose=0,\n",
       "            warm_start=False)"
      ]
     },
     "execution_count": 24,
     "metadata": {},
     "output_type": "execute_result"
    }
   ],
   "source": [
    "from sklearn.ensemble import RandomForestClassifier\n",
    "\n",
    "model = RandomForestClassifier(n_estimators=100)\n",
    "model.fit(X_train,y_train)"
   ]
  },
  {
   "cell_type": "markdown",
   "metadata": {},
   "source": [
    "It's time to evaluate the model"
   ]
  },
  {
   "cell_type": "code",
   "execution_count": 25,
   "metadata": {
    "ExecuteTime": {
     "end_time": "2019-11-18T16:35:12.497759Z",
     "start_time": "2019-11-18T16:35:12.478000Z"
    }
   },
   "outputs": [
    {
     "name": "stdout",
     "output_type": "stream",
     "text": [
      "In sample evaluation \n",
      "---------------------\n",
      "Accuracy = 100.0%\n",
      "Precision = 100.0%\n",
      "Recall = 100.0%\n",
      "AUC = 100.0%\n",
      "\n",
      "Confusion matrix: \n",
      " [[ 97   0]\n",
      " [  0 115]]\n",
      "\n",
      "\n"
     ]
    }
   ],
   "source": [
    "y_pred_train = model.predict(X_train)\n",
    "\n",
    "print(\"In sample evaluation \\n---------------------\")\n",
    "evaluate_classification(y_train, y_pred_train)"
   ]
  },
  {
   "cell_type": "code",
   "execution_count": 26,
   "metadata": {
    "ExecuteTime": {
     "end_time": "2019-11-18T16:35:14.058479Z",
     "start_time": "2019-11-18T16:35:14.039032Z"
    }
   },
   "outputs": [
    {
     "name": "stdout",
     "output_type": "stream",
     "text": [
      "Out sample evaluation \n",
      "---------------------\n",
      "Accuracy = 82.4%\n",
      "Precision = 84.0%\n",
      "Recall = 84.0%\n",
      "AUC = 82.2%\n",
      "\n",
      "Confusion matrix: \n",
      " [[33  8]\n",
      " [ 8 42]]\n",
      "\n",
      "\n"
     ]
    }
   ],
   "source": [
    "y_pred = model.predict(X_test)\n",
    "\n",
    "print(\"Out sample evaluation \\n---------------------\")\n",
    "evaluate_classification(y_test, y_pred)"
   ]
  },
  {
   "cell_type": "markdown",
   "metadata": {},
   "source": [
    "This is not too bad (in practice we would accept the model, depending on the context and risks, if recall and precision are smaller\n",
    "\n",
    "However we have here an illustration of overfitting. Indeed the performances on the training set are much better than on the test set."
   ]
  },
  {
   "cell_type": "markdown",
   "metadata": {},
   "source": [
    "Let's now dig into the results of the model and try to understand what happened"
   ]
  },
  {
   "cell_type": "code",
   "execution_count": 27,
   "metadata": {
    "ExecuteTime": {
     "end_time": "2019-11-18T16:35:16.180300Z",
     "start_time": "2019-11-18T16:35:15.884309Z"
    }
   },
   "outputs": [
    {
     "name": "stderr",
     "output_type": "stream",
     "text": [
      "No handles with labels found to put in legend.\n"
     ]
    },
    {
     "name": "stdout",
     "output_type": "stream",
     "text": [
      "Most important features : \n",
      " ca          0.153813\n",
      "cp          0.126652\n",
      "thalach     0.115358\n",
      "thal        0.103697\n",
      "oldpeak     0.102795\n",
      "age         0.090480\n",
      "chol        0.070137\n",
      "trestbps    0.069880\n",
      "exang       0.057715\n",
      "slope       0.050101\n",
      "sex         0.030270\n",
      "restecg     0.019785\n",
      "fbs         0.009318\n",
      "dtype: float64\n"
     ]
    },
    {
     "data": {
      "image/png": "[encoded data removed]",
      "text/plain": [
       "<Figure size 432x288 with 1 Axes>"
      ]
     },
     "metadata": {
      "needs_background": "light"
     },
     "output_type": "display_data"
    }
   ],
   "source": [
    "feature_imp = pd.Series(model.feature_importances_, index = feature_list).sort_values(ascending=False)\n",
    "print(\"Most important features : \\n\",feature_imp)\n",
    "\n",
    "%matplotlib inline\n",
    "sns.barplot(x=feature_imp, y=feature_imp.index)\n",
    "\n",
    "plt.xlabel('Feature Importance Score')\n",
    "plt.ylabel('Features')\n",
    "plt.title(\"Visualizing Important Features\")\n",
    "plt.legend()\n",
    "plt.show()"
   ]
  },
  {
   "cell_type": "markdown",
   "metadata": {},
   "source": [
    "Let's change some parameters to try to improve performances on the test set"
   ]
  },
  {
   "cell_type": "code",
   "execution_count": 28,
   "metadata": {
    "ExecuteTime": {
     "end_time": "2019-11-18T16:35:17.760842Z",
     "start_time": "2019-11-18T16:35:17.687473Z"
    }
   },
   "outputs": [
    {
     "data": {
      "text/plain": [
       "RandomForestClassifier(bootstrap=True, class_weight=None, criterion='gini',\n",
       "            max_depth=None, max_features='auto', max_leaf_nodes=None,\n",
       "            min_impurity_decrease=0.0, min_impurity_split=None,\n",
       "            min_samples_leaf=1, min_samples_split=2,\n",
       "            min_weight_fraction_leaf=0.0, n_estimators=50, n_jobs=None,\n",
       "            oob_score=False, random_state=None, verbose=0,\n",
       "            warm_start=False)"
      ]
     },
     "execution_count": 28,
     "metadata": {},
     "output_type": "execute_result"
    }
   ],
   "source": [
    "from sklearn.ensemble import RandomForestClassifier\n",
    "\n",
    "model = RandomForestClassifier(n_estimators=50)\n",
    "model.fit(X_train,y_train)"
   ]
  },
  {
   "cell_type": "code",
   "execution_count": 29,
   "metadata": {
    "ExecuteTime": {
     "end_time": "2019-11-18T16:35:19.318687Z",
     "start_time": "2019-11-18T16:35:19.302031Z"
    }
   },
   "outputs": [
    {
     "name": "stdout",
     "output_type": "stream",
     "text": [
      "Accuracy = 100.0%\n",
      "Precision = 100.0%\n",
      "Recall = 100.0%\n",
      "AUC = 100.0%\n",
      "\n",
      "Confusion matrix: \n",
      " [[ 97   0]\n",
      " [  0 115]]\n",
      "\n",
      "\n"
     ]
    }
   ],
   "source": [
    "from sklearn.metrics import mean_absolute_error, mean_squared_error, r2_score\n",
    "from sklearn.metrics import accuracy_score, confusion_matrix, precision_score, recall_score, roc_auc_score\n",
    "\n",
    "y_pred_train = model.predict(X_train)\n",
    "\n",
    "evaluate_classification(y_train, y_pred_train)"
   ]
  },
  {
   "cell_type": "code",
   "execution_count": 30,
   "metadata": {
    "ExecuteTime": {
     "end_time": "2019-11-18T16:35:20.003060Z",
     "start_time": "2019-11-18T16:35:19.989446Z"
    }
   },
   "outputs": [
    {
     "name": "stdout",
     "output_type": "stream",
     "text": [
      "Out sample evaluation \n",
      "---------------------\n",
      "Accuracy = 79.1%\n",
      "Precision = 81.6%\n",
      "Recall = 80.0%\n",
      "AUC = 79.0%\n",
      "\n",
      "Confusion matrix: \n",
      " [[32  9]\n",
      " [10 40]]\n",
      "\n",
      "\n"
     ]
    }
   ],
   "source": [
    "y_pred = model.predict(X_test)\n",
    "\n",
    "print(\"Out sample evaluation \\n---------------------\")\n",
    "evaluate_classification(y_test, y_pred)"
   ]
  },
  {
   "cell_type": "markdown",
   "metadata": {},
   "source": [
    "GridSearch"
   ]
  },
  {
   "cell_type": "code",
   "execution_count": 31,
   "metadata": {
    "ExecuteTime": {
     "end_time": "2019-11-18T16:35:36.904871Z",
     "start_time": "2019-11-18T16:35:22.097512Z"
    }
   },
   "outputs": [
    {
     "name": "stderr",
     "output_type": "stream",
     "text": [
      "/work/jupyterhub/id860112/envs/My_Python_3.5/lib/python3.5/site-packages/sklearn/model_selection/_search.py:841: DeprecationWarning: The default of the `iid` parameter will change from True to False in version 0.22 and will be removed in 0.24. This will change numeric results when test-set sizes are unequal.\n",
      "  DeprecationWarning)\n"
     ]
    },
    {
     "name": "stdout",
     "output_type": "stream",
     "text": [
      "Best params= {'max_depth': 6, 'n_estimators': 21}\n",
      "Best score= 0.8490566037735849\n",
      "Out sample evaluation \n",
      "---------------------\n",
      "Accuracy = 81.3%\n",
      "Precision = 82.4%\n",
      "Recall = 84.0%\n",
      "AUC = 81.0%\n",
      "\n",
      "Confusion matrix: \n",
      " [[32  9]\n",
      " [ 8 42]]\n",
      "\n",
      "\n"
     ]
    },
    {
     "data": {
      "image/png": "[encoded data removed]",
      "text/plain": [
       "<Figure size 432x288 with 1 Axes>"
      ]
     },
     "metadata": {
      "needs_background": "light"
     },
     "output_type": "display_data"
    }
   ],
   "source": [
    "from sklearn.model_selection import GridSearchCV, RandomizedSearchCV\n",
    "\n",
    "params = dict(\n",
    "    n_estimators = np.arange(2,100,1),\n",
    "    max_depth  = np.arange(2,8,1)\n",
    ")\n",
    "\n",
    "rf = RandomForestClassifier()\n",
    "\n",
    "grid_search = RandomizedSearchCV(rf, \n",
    "                           param_distributions=params, \n",
    "                                 n_iter=100,\n",
    "                           cv=3,\n",
    "                          return_train_score = True,\n",
    "                          )\n",
    "\n",
    "gs = grid_search.fit(X_train, y_train)\n",
    "\n",
    "results = pd.DataFrame(gs.cv_results_)\n",
    "\n",
    "print(\"Best params= {}\".format(gs.best_params_))\n",
    "print(\"Best score= {}\".format(gs.best_score_))\n",
    "\n",
    "# display(results.sort_values(by = \"mean_test_score\", ascending=False))\n",
    "\n",
    "plt.scatter(results[\"param_max_depth\"], results[\"param_n_estimators\"], label=\"tested\")\n",
    "plt.scatter(gs.best_params_[\"max_depth\"], gs.best_params_[\"n_estimators\"], label = \"Best\")\n",
    "plt.legend()\n",
    "plt.title(\"Investigated points\")\n",
    "plt.xlabel(\"Max_depth\")\n",
    "plt.ylabel(\"n_estimators\")\n",
    "\n",
    "best_model = gs.best_estimator_\n",
    "\n",
    "y_pred = best_model.predict(X_test)\n",
    "\n",
    "print(\"Out sample evaluation \\n---------------------\")\n",
    "evaluate_classification(y_test, y_pred)"
   ]
  },
  {
   "cell_type": "code",
   "execution_count": 32,
   "metadata": {
    "ExecuteTime": {
     "end_time": "2019-11-18T16:35:36.922324Z",
     "start_time": "2019-11-18T16:35:36.907828Z"
    }
   },
   "outputs": [
    {
     "name": "stdout",
     "output_type": "stream",
     "text": [
      "Out sample evaluation \n",
      "---------------------\n",
      "Accuracy = 81.3%\n",
      "Precision = 82.4%\n",
      "Recall = 84.0%\n",
      "AUC = 81.0%\n",
      "\n",
      "Confusion matrix: \n",
      " [[32  9]\n",
      " [ 8 42]]\n",
      "\n",
      "\n"
     ]
    }
   ],
   "source": [
    "best_model = gs.best_estimator_\n",
    "\n",
    "y_pred = best_model.predict(X_test)\n",
    "\n",
    "print(\"Out sample evaluation \\n---------------------\")\n",
    "evaluate_classification(y_test, y_pred)"
   ]
  },
  {
   "cell_type": "markdown",
   "metadata": {},
   "source": [
    "### KNN"
   ]
  },
  {
   "cell_type": "code",
   "execution_count": 33,
   "metadata": {
    "ExecuteTime": {
     "end_time": "2019-11-18T16:35:37.108262Z",
     "start_time": "2019-11-18T16:35:36.925073Z"
    }
   },
   "outputs": [
    {
     "name": "stdout",
     "output_type": "stream",
     "text": [
      "Accuracy = 61.5%\n",
      "Precision = 74.2%\n",
      "Recall = 46.0%\n",
      "AUC = 63.2%\n",
      "\n",
      "Confusion matrix: \n",
      " [[33  8]\n",
      " [27 23]]\n",
      "\n",
      "\n"
     ]
    }
   ],
   "source": [
    "from sklearn.neighbors import KNeighborsClassifier\n",
    "\n",
    "knn = KNeighborsClassifier(metric='minkowski',\n",
    "                          n_neighbors = 2,\n",
    "                          n_jobs=-1)\n",
    "\n",
    "knn.fit(X_train, y_train)\n",
    "\n",
    "preds = knn.predict(X_test)\n",
    "\n",
    "evaluate_classification(y_test, preds)"
   ]
  },
  {
   "cell_type": "markdown",
   "metadata": {},
   "source": [
    "### Naive Bayes"
   ]
  },
  {
   "cell_type": "code",
   "execution_count": 34,
   "metadata": {
    "ExecuteTime": {
     "end_time": "2019-11-18T16:35:37.124236Z",
     "start_time": "2019-11-18T16:35:37.111321Z"
    }
   },
   "outputs": [
    {
     "name": "stdout",
     "output_type": "stream",
     "text": [
      "Accuracy = 83.5%\n",
      "Precision = 88.9%\n",
      "Recall = 80.0%\n",
      "AUC = 83.9%\n",
      "\n",
      "Confusion matrix: \n",
      " [[36  5]\n",
      " [10 40]]\n",
      "\n",
      "\n"
     ]
    }
   ],
   "source": [
    "from sklearn.naive_bayes import GaussianNB\n",
    "\n",
    "nb = GaussianNB()\n",
    "nb.fit(X_train, y_train)\n",
    "\n",
    "preds = nb.predict(X_test)\n",
    "\n",
    "evaluate_classification(y_test, preds)"
   ]
  },
  {
   "cell_type": "markdown",
   "metadata": {},
   "source": [
    "### Neural network"
   ]
  },
  {
   "cell_type": "code",
   "execution_count": 35,
   "metadata": {
    "ExecuteTime": {
     "end_time": "2019-11-18T16:35:37.135588Z",
     "start_time": "2019-11-18T16:35:37.126913Z"
    }
   },
   "outputs": [],
   "source": [
    "def performance_nn(model):\n",
    "    history = model.fit(X_train, y_train, \n",
    "          epochs=500, # to be modified\n",
    "          validation_split = 0.3,\n",
    "            verbose=0)\n",
    "\n",
    "    plt.plot(history.history['acc'])\n",
    "    plt.plot(history.history['val_acc'])\n",
    "    plt.title('accuracy')\n",
    "    plt.ylabel('accuracy')\n",
    "    plt.xlabel('epoch')\n",
    "    plt.legend(['training', 'validation'], loc='upper left')\n",
    "    plt.show()\n",
    "\n",
    "    results = model.evaluate(X_train, y_train)\n",
    "    print(\"Training Loss = {:.2f}, \\t accuracy = {:.2f} \\n\".format(results[0], results[1]))\n",
    "\n",
    "    results = model.evaluate(X_test, y_test)\n",
    "    print(\"Testing Loss = {:.2f}, accuracy  = {:.2f} \\n\".format(results[0], results[1],))\n",
    "\n",
    "    nn_preds = model.predict(X_test)"
   ]
  },
  {
   "cell_type": "code",
   "execution_count": 36,
   "metadata": {
    "ExecuteTime": {
     "end_time": "2019-11-18T16:35:43.449116Z",
     "start_time": "2019-11-18T16:35:37.137971Z"
    },
    "scrolled": false
   },
   "outputs": [
    {
     "name": "stderr",
     "output_type": "stream",
     "text": [
      "Using TensorFlow backend.\n"
     ]
    },
    {
     "data": {
      "image/png": "[encoded data removed]",
      "text/plain": [
       "<Figure size 432x288 with 1 Axes>"
      ]
     },
     "metadata": {
      "needs_background": "light"
     },
     "output_type": "display_data"
    },
    {
     "name": "stdout",
     "output_type": "stream",
     "text": [
      "212/212 [==============================] - 0s 22us/step\n",
      "Training Loss = 0.69, \t accuracy = 0.54 \n",
      "\n",
      "91/91 [==============================] - 0s 28us/step\n",
      "Testing Loss = 0.69, accuracy  = 0.55 \n",
      "\n"
     ]
    }
   ],
   "source": [
    "from keras.models import Sequential\n",
    "from keras.layers import Dense, Activation\n",
    "\n",
    "model = Sequential()\n",
    "model.add(Dense(10, input_dim=len(X_train.columns), kernel_initializer='normal', activation='tanh'))\n",
    "model.add(Dense(6, kernel_initializer='normal', activation='tanh'))\n",
    "model.add(Dense(1, kernel_initializer='normal', activation=\"relu\"))\n",
    "\n",
    "model.compile(loss='binary_crossentropy', optimizer='adam', metrics=['accuracy'])\n",
    "\n",
    "performance_nn(model);"
   ]
  },
  {
   "cell_type": "markdown",
   "metadata": {},
   "source": [
    "#### Image recognition"
   ]
  },
  {
   "cell_type": "markdown",
   "metadata": {},
   "source": [
    "To conclude this workshop, let's switch to another dataset"
   ]
  },
  {
   "cell_type": "code",
   "execution_count": 36,
   "metadata": {
    "ExecuteTime": {
     "end_time": "2019-11-07T08:49:25.685016Z",
     "start_time": "2019-11-07T08:49:25.558977Z"
    },
    "collapsed": true
   },
   "outputs": [],
   "source": [
    "from sklearn import datasets\n",
    "\n",
    "df = datasets.load_digits()"
   ]
  },
  {
   "cell_type": "code",
   "execution_count": 37,
   "metadata": {
    "ExecuteTime": {
     "end_time": "2019-11-07T08:49:26.826980Z",
     "start_time": "2019-11-07T08:49:26.282791Z"
    }
   },
   "outputs": [
    {
     "data": {
      "image/png": "[encoded data removed]",
      "text/plain": [
       "<matplotlib.figure.Figure at 0x255b2149320>"
      ]
     },
     "metadata": {},
     "output_type": "display_data"
    }
   ],
   "source": [
    "images_and_labels = list(zip(df.images, df.target))\n",
    "for index, (image, label) in enumerate(images_and_labels[:4]):\n",
    "    plt.subplot(2, 4, index + 1)\n",
    "    plt.axis('off')\n",
    "    plt.imshow(image, cmap=plt.cm.gray_r, interpolation='nearest')\n",
    "    plt.title('Training: %i' % label)"
   ]
  },
  {
   "cell_type": "code",
   "execution_count": 38,
   "metadata": {
    "ExecuteTime": {
     "end_time": "2019-11-07T08:49:27.921770Z",
     "start_time": "2019-11-07T08:49:27.917629Z"
    },
    "collapsed": true
   },
   "outputs": [],
   "source": [
    "n_samples = len(df.images)\n",
    "data = df.images.reshape((n_samples, -1))"
   ]
  },
  {
   "cell_type": "code",
   "execution_count": 42,
   "metadata": {
    "ExecuteTime": {
     "end_time": "2019-11-07T09:01:36.561705Z",
     "start_time": "2019-11-07T09:01:34.619390Z"
    }
   },
   "outputs": [
    {
     "name": "stdout",
     "output_type": "stream",
     "text": [
      "Classification report for classifier MLPClassifier(activation='relu', alpha=0.0001, batch_size='auto', beta_1=0.9,\n",
      "       beta_2=0.999, early_stopping=False, epsilon=1e-08,\n",
      "       hidden_layer_sizes=(100,), learning_rate='constant',\n",
      "       learning_rate_init=0.001, max_iter=3000, momentum=0.9,\n",
      "       nesterovs_momentum=True, power_t=0.5, random_state=42, shuffle=True,\n",
      "       solver='adam', tol=0.0001, validation_fraction=0.1, verbose=False,\n",
      "       warm_start=False):\n",
      "             precision    recall  f1-score   support\n",
      "\n",
      "          0       0.97      0.97      0.97        88\n",
      "          1       0.98      0.89      0.93        91\n",
      "          2       0.99      0.97      0.98        86\n",
      "          3       0.94      0.88      0.91        91\n",
      "          4       0.96      0.95      0.95        92\n",
      "          5       0.95      0.96      0.95        91\n",
      "          6       0.93      1.00      0.96        91\n",
      "          7       0.95      0.94      0.95        89\n",
      "          8       0.90      0.89      0.89        88\n",
      "          9       0.85      0.96      0.90        92\n",
      "\n",
      "avg / total       0.94      0.94      0.94       899\n",
      "\n",
      "\n",
      "Confusion matrix:\n",
      "[[85  0  0  0  1  0  2  0  0  0]\n",
      " [ 0 81  0  0  0  0  0  1  2  7]\n",
      " [ 0  0 83  3  0  0  0  0  0  0]\n",
      " [ 0  0  1 80  0  3  1  1  5  0]\n",
      " [ 1  0  0  0 87  0  1  1  0  2]\n",
      " [ 0  0  0  0  0 87  1  0  0  3]\n",
      " [ 0  0  0  0  0  0 91  0  0  0]\n",
      " [ 0  1  0  0  2  0  0 84  0  2]\n",
      " [ 1  1  0  2  1  1  2  1 78  1]\n",
      " [ 1  0  0  0  0  1  0  0  2 88]]\n"
     ]
    },
    {
     "data": {
      "image/png": "[encoded data removed]",
      "text/plain": [
       "<matplotlib.figure.Figure at 0x255b3c3b9b0>"
      ]
     },
     "metadata": {},
     "output_type": "display_data"
    },
    {
     "data": {
      "image/png": "[encoded data removed]",
      "text/plain": [
       "<matplotlib.figure.Figure at 0x255b22eca58>"
      ]
     },
     "metadata": {},
     "output_type": "display_data"
    }
   ],
   "source": [
    "from sklearn import datasets, neural_network, metrics\n",
    "\n",
    "classifier = neural_network.MLPClassifier(activation=\"relu\",\n",
    "#                                           hidden_layer_sizes = (100,),\n",
    "                                          max_iter = 3000,\n",
    "                                          random_state = 42,\n",
    "#                                           n_iter_no_change=40,\n",
    "                                          verbose=False)\n",
    "\n",
    "# We learn the digits on the first half of the digits\n",
    "classifier.fit(data[:n_samples // 2], df.target[:n_samples // 2])\n",
    "\n",
    "# Now predict the value of the digit on the second half:\n",
    "expected = df.target[n_samples // 2:]\n",
    "predicted = classifier.predict(data[n_samples // 2:])\n",
    "\n",
    "print(\"Classification report for classifier %s:\\n%s\\n\"\n",
    "      % (classifier, metrics.classification_report(expected, predicted)))\n",
    "print(\"Confusion matrix:\\n%s\" % metrics.confusion_matrix(expected, predicted))\n",
    "\n",
    "images_and_predictions = list(zip(df.images[n_samples // 2:], predicted))\n",
    "for index, (image, prediction) in enumerate(images_and_predictions[:8]):\n",
    "    plt.subplot(2, 4, index + 1)\n",
    "    plt.axis('off')\n",
    "    plt.imshow(image, cmap=plt.cm.gray_r, interpolation='nearest')\n",
    "    plt.title('Prediction: %i' % prediction)\n",
    "\n",
    "plt.show()\n",
    "\n",
    "plt.plot(np.log(classifier.loss_curve_))\n",
    "plt.ylabel(\"Log Loss\")\n",
    "plt.xlabel(\"Epoch\")\n",
    "plt.title(\"Learning curve\");"
   ]
  },
  {
   "cell_type": "markdown",
   "metadata": {},
   "source": [
    "# Going further"
   ]
  },
  {
   "cell_type": "markdown",
   "metadata": {},
   "source": [
    "This introductory workshop to machine learning showed you how - easy - creating predictive models can be.\n",
    "\n",
    "However note that we used a very simple dataset, with few cleaning steps and only numerical variables.\n",
    "\n",
    "In practice we often need to go back and forth between modeling and cleaning until we achieve desired results.\n",
    "\n",
    "Also model tuning and refinement might require some time with big datasets."
   ]
  },
  {
   "cell_type": "markdown",
   "metadata": {},
   "source": [
    "Here is a list of topic you could be interested in if you want to go further in unsupervised learning\n",
    "\n",
    "* up/downsampling \n",
    "* Cross valisation & randomized gridsearch\n",
    "* Advanced deep learning : RNN, CNN, GAM, LSTM, ..."
   ]
  }
 ],
 "metadata": {
  "kernelspec": {
   "display_name": "Python 3.5",
   "language": "python",
   "name": "my_python_3.5"
  },
  "language_info": {
   "codemirror_mode": {
    "name": "ipython",
    "version": 3
   },
   "file_extension": ".py",
   "mimetype": "text/x-python",
   "name": "python",
   "nbconvert_exporter": "python",
   "pygments_lexer": "ipython3",
   "version": "3.5.5"
  },
  "toc": {
   "base_numbering": 1,
   "nav_menu": {},
   "number_sections": true,
   "sideBar": true,
   "skip_h1_title": false,
   "title_cell": "Table of Contents",
   "title_sidebar": "Contents",
   "toc_cell": false,
   "toc_position": {
    "height": "calc(100% - 180px)",
    "left": "10px",
    "top": "150px",
    "width": "341.313px"
   },
   "toc_section_display": true,
   "toc_window_display": true
  }
 },
 "nbformat": 4,
 "nbformat_minor": 2
}
