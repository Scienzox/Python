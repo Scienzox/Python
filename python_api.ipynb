{
 "cells": [
  {
   "cell_type": "code",
   "execution_count": 41,
   "metadata": {
    "ExecuteTime": {
     "end_time": "2020-04-10T12:49:16.623524Z",
     "start_time": "2020-04-10T12:49:16.620421Z"
    }
   },
   "outputs": [],
   "source": [
    "from flask import Flask, jsonify, abort, url_for, request, redirect, session"
   ]
  },
  {
   "cell_type": "code",
   "execution_count": null,
   "metadata": {},
   "outputs": [],
   "source": [
    "api_url = \"el5180.bc:54332/testBH/\""
   ]
  },
  {
   "cell_type": "code",
   "execution_count": 2,
   "metadata": {
    "ExecuteTime": {
     "end_time": "2020-04-10T12:15:12.395722Z",
     "start_time": "2020-04-10T12:14:55.863368Z"
    }
   },
   "outputs": [
    {
     "name": "stdout",
     "output_type": "stream",
     "text": [
      " * Serving Flask app \"__main__\" (lazy loading)\n",
      " * Environment: production\n",
      "   WARNING: Do not use the development server in a production environment.\n",
      "   Use a production WSGI server instead.\n",
      " * Debug mode: off\n"
     ]
    },
    {
     "name": "stderr",
     "output_type": "stream",
     "text": [
      " * Running on http://el5180.bc:54332/ (Press CTRL+C to quit)\n",
      "10.110.37.145 - - [10/Apr/2020 14:15:03] \"\u001b[33mGET /testBH/ HTTP/1.1\u001b[0m\" 404 -\n",
      "10.110.37.145 - - [10/Apr/2020 14:15:05] \"\u001b[37mGET /testBH/gf HTTP/1.1\u001b[0m\" 200 -\n"
     ]
    }
   ],
   "source": [
    "app = Flask(__name__)\n",
    "app.config[\"DEBUG\"] = False\n",
    "\n",
    "@app.route('/testBH/<string:data>', methods=['GET'])\n",
    "def get_pred(data):\n",
    "    return(data)\n",
    "\n",
    "app.run(host=\"el5180.bc\", debug=False, port = 54332)"
   ]
  },
  {
   "cell_type": "code",
   "execution_count": 45,
   "metadata": {
    "ExecuteTime": {
     "end_time": "2020-04-10T12:52:23.824371Z",
     "start_time": "2020-04-10T12:51:19.888904Z"
    }
   },
   "outputs": [
    {
     "name": "stdout",
     "output_type": "stream",
     "text": [
      "/\n",
      "/login\n",
      "/login?next=%2F\n",
      "/user/John%20Doe\n",
      " * Serving Flask app \"__main__\" (lazy loading)\n",
      " * Environment: production\n",
      "   WARNING: Do not use the development server in a production environment.\n",
      "   Use a production WSGI server instead.\n",
      " * Debug mode: off\n"
     ]
    },
    {
     "name": "stderr",
     "output_type": "stream",
     "text": [
      " * Running on http://el5180.bc:54332/ (Press CTRL+C to quit)\n",
      "10.110.37.145 - - [10/Apr/2020 14:51:24] \"\u001b[37mGET /login HTTP/1.1\u001b[0m\" 200 -\n",
      "10.110.37.145 - - [10/Apr/2020 14:51:26] \"\u001b[32mPOST /login HTTP/1.1\u001b[0m\" 302 -\n",
      "10.110.37.145 - - [10/Apr/2020 14:51:26] \"\u001b[37mGET / HTTP/1.1\u001b[0m\" 200 -\n",
      "10.110.37.145 - - [10/Apr/2020 14:51:33] \"\u001b[37mGET /login HTTP/1.1\u001b[0m\" 200 -\n",
      "10.110.37.145 - - [10/Apr/2020 14:51:45] \"\u001b[32mGET /logout HTTP/1.1\u001b[0m\" 302 -\n",
      "10.110.37.145 - - [10/Apr/2020 14:51:45] \"\u001b[37mGET / HTTP/1.1\u001b[0m\" 200 -\n"
     ]
    }
   ],
   "source": [
    "app = Flask(__name__)\n",
    "app.config[\"DEBUG\"] = False\n",
    "\n",
    "app.secret_key = b'_5#y2L\"F4Q8z\\n\\xec]/'\n",
    "\n",
    "@app.route('/hello')\n",
    "def hello():\n",
    "    return 'Hello, World'\n",
    "\n",
    "from markupsafe import escape\n",
    "\n",
    "@app.route('/post/<int:post_id>')\n",
    "def show_post(post_id):\n",
    "    return 'Post %d' % post_id\n",
    "\n",
    "@app.route('/path/<path:subpath>')\n",
    "def show_subpath(subpath):\n",
    "    return 'Subpath %s' % escape(subpath)\n",
    "\n",
    "    \n",
    "@app.route('/data', methods=['GET', 'POST'])\n",
    "def data():\n",
    "    if request.method == 'POST':\n",
    "        return request.data\n",
    "    else:\n",
    "        return \"show_the_login_form()\"\n",
    "    \n",
    "# use this code to send data to the /data\n",
    "\n",
    "# api_url = \"http://el5180.bc:54332/data\"\n",
    "# response = requests.post(api_url, data=\"truc\")\n",
    "# response.text\n",
    "\n",
    "@app.route('/upload', methods=['GET', 'POST'])\n",
    "def upload_file():\n",
    "    if request.method == 'POST':\n",
    "        f = request.files['the_file']\n",
    "        f.save('flask_uploaded_file.txt')\n",
    "\n",
    "@app.route('/user/<username>')\n",
    "def profile(username):\n",
    "    return '{}\\'s profile'.format(escape(username))\n",
    "\n",
    "# @app.route('/redirect')\n",
    "# def move():\n",
    "#     return redirect(url_for('login'))\n",
    "\n",
    "@app.route(\"/me\")\n",
    "def me_api():\n",
    "#     user = get_current_user() # to be implemented\n",
    "    return jsonify({\n",
    "        \"username\": \"ben\",\n",
    "        \"pwd\": \"tata\"\n",
    "    })\n",
    "\n",
    "@app.route('/')\n",
    "def index():\n",
    "    if 'username' in session:\n",
    "        return 'Logged in as %s' % escape(session['username'])\n",
    "    return 'You are not logged in'\n",
    "\n",
    "@app.route('/login', methods=['GET', 'POST'])\n",
    "def login():\n",
    "    if request.method == 'POST':\n",
    "        session['username'] = request.form['username']\n",
    "        return redirect(url_for('index'))\n",
    "    return '''\n",
    "        <form method=\"post\">\n",
    "            <p><input type=text name=username>\n",
    "            <p><input type=submit value=Login>\n",
    "        </form>\n",
    "    '''\n",
    "\n",
    "@app.route('/logout')\n",
    "def logout():\n",
    "    # remove the username from the session if it's there\n",
    "    session.pop('username', None)\n",
    "    return redirect(url_for('index'))\n",
    "\n",
    "with app.test_request_context():\n",
    "    print(url_for('index'))\n",
    "    print(url_for('login'))\n",
    "    print(url_for('login', next='/'))\n",
    "    print(url_for('profile', username='John Doe'))\n",
    "\n",
    "app.run(host=\"el5180.bc\", debug=False, port = 54332)"
   ]
  },
  {
   "cell_type": "code",
   "execution_count": 19,
   "metadata": {
    "ExecuteTime": {
     "end_time": "2020-04-10T12:28:15.043986Z",
     "start_time": "2020-04-10T12:28:15.039769Z"
    }
   },
   "outputs": [
    {
     "name": "stdout",
     "output_type": "stream",
     "text": [
      "/hello\n"
     ]
    }
   ],
   "source": [
    "from flask import request\n",
    "\n",
    "with app.test_request_context('/hello', method='POST'):\n",
    "    # now you can do something with the request until the\n",
    "    # end of the with block, such as basic assertions:\n",
    "    assert request.path == '/hello'\n",
    "    assert request.method == 'POST'"
   ]
  }
 ],
 "metadata": {
  "kernelspec": {
   "display_name": "Python 3.5",
   "language": "python",
   "name": "my_python_3.5"
  },
  "language_info": {
   "codemirror_mode": {
    "name": "ipython",
    "version": 3
   },
   "file_extension": ".py",
   "mimetype": "text/x-python",
   "name": "python",
   "nbconvert_exporter": "python",
   "pygments_lexer": "ipython3",
   "version": "3.5.5"
  },
  "toc": {
   "base_numbering": 1,
   "nav_menu": {},
   "number_sections": true,
   "sideBar": true,
   "skip_h1_title": false,
   "title_cell": "Table of Contents",
   "title_sidebar": "Contents",
   "toc_cell": false,
   "toc_position": {},
   "toc_section_display": true,
   "toc_window_display": false
  }
 },
 "nbformat": 4,
 "nbformat_minor": 4
}
