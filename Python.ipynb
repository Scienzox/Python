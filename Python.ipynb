{
 "cells": [
  {
   "cell_type": "markdown",
   "metadata": {},
   "source": [
    "# Import data"
   ]
  },
  {
   "cell_type": "code",
   "execution_count": 2,
   "metadata": {
    "ExecuteTime": {
     "end_time": "2020-02-26T08:43:58.972055Z",
     "start_time": "2020-02-26T08:43:58.968663Z"
    }
   },
   "outputs": [],
   "source": [
    "import pandas as pd\n",
    "import matplotlib.pyplot as plt\n",
    "import seaborn as sns\n",
    "import numpy as np\n",
    "import time\n",
    "from sklearn import datasets\n",
    "import datetime as dt\n",
    "\n",
    "import scikitplot as skplt"
   ]
  },
  {
   "cell_type": "code",
   "execution_count": 3,
   "metadata": {
    "ExecuteTime": {
     "end_time": "2020-02-26T08:44:02.031833Z",
     "start_time": "2020-02-26T08:44:01.987558Z"
    }
   },
   "outputs": [],
   "source": [
    "df = pd.read_csv(\"Data/data.csv\")\n",
    "column_names = list(df.columns)\n",
    "df.drop(\"num\", axis=1, inplace=True)"
   ]
  },
  {
   "cell_type": "markdown",
   "metadata": {},
   "source": [
    "# General Python"
   ]
  },
  {
   "cell_type": "code",
   "execution_count": 4,
   "metadata": {
    "ExecuteTime": {
     "end_time": "2020-02-26T08:44:59.145513Z",
     "start_time": "2020-02-26T08:44:59.141406Z"
    }
   },
   "outputs": [
    {
     "name": "stdout",
     "output_type": "stream",
     "text": [
      "I am 29 years old\n"
     ]
    }
   ],
   "source": [
    "age = 29\n",
    "print(f\"I am {age} years old\")"
   ]
  },
  {
   "cell_type": "code",
   "execution_count": 1,
   "metadata": {},
   "outputs": [],
   "source": [
    "?str.replace"
   ]
  },
  {
   "cell_type": "code",
   "execution_count": null,
   "metadata": {},
   "outputs": [],
   "source": [
    "%matplotlib inline"
   ]
  },
  {
   "cell_type": "code",
   "execution_count": 3,
   "metadata": {
    "scrolled": true
   },
   "outputs": [
    {
     "name": "stdout",
     "output_type": "stream",
     "text": [
      "a\t \n"
     ]
    }
   ],
   "source": [
    "a = 1\n",
    "%who"
   ]
  },
  {
   "cell_type": "code",
   "execution_count": 6,
   "metadata": {
    "ExecuteTime": {
     "end_time": "2019-10-15T12:49:10.463158Z",
     "start_time": "2019-10-15T12:49:10.432295Z"
    }
   },
   "outputs": [
    {
     "data": {
      "text/html": [
       "<div>\n",
       "<style scoped>\n",
       "    .dataframe tbody tr th:only-of-type {\n",
       "        vertical-align: middle;\n",
       "    }\n",
       "\n",
       "    .dataframe tbody tr th {\n",
       "        vertical-align: top;\n",
       "    }\n",
       "\n",
       "    .dataframe thead th {\n",
       "        text-align: right;\n",
       "    }\n",
       "</style>\n",
       "<table border=\"1\" class=\"dataframe\">\n",
       "  <thead>\n",
       "    <tr style=\"text-align: right;\">\n",
       "      <th></th>\n",
       "      <th>Nom</th>\n",
       "      <th>Somme</th>\n",
       "    </tr>\n",
       "  </thead>\n",
       "  <tbody>\n",
       "    <tr>\n",
       "      <th>0</th>\n",
       "      <td>Bulbasaur</td>\n",
       "      <td>318</td>\n",
       "    </tr>\n",
       "    <tr>\n",
       "      <th>1</th>\n",
       "      <td>Ivysaur</td>\n",
       "      <td>405</td>\n",
       "    </tr>\n",
       "    <tr>\n",
       "      <th>2</th>\n",
       "      <td>Venusaur</td>\n",
       "      <td>525</td>\n",
       "    </tr>\n",
       "    <tr>\n",
       "      <th>3</th>\n",
       "      <td>VenusaurMega Venusaur</td>\n",
       "      <td>625</td>\n",
       "    </tr>\n",
       "    <tr>\n",
       "      <th>4</th>\n",
       "      <td>Charmander</td>\n",
       "      <td>309</td>\n",
       "    </tr>\n",
       "    <tr>\n",
       "      <th>5</th>\n",
       "      <td>Charmeleon</td>\n",
       "      <td>405</td>\n",
       "    </tr>\n",
       "    <tr>\n",
       "      <th>6</th>\n",
       "      <td>Charizard</td>\n",
       "      <td>534</td>\n",
       "    </tr>\n",
       "    <tr>\n",
       "      <th>7</th>\n",
       "      <td>CharizardMega Charizard X</td>\n",
       "      <td>634</td>\n",
       "    </tr>\n",
       "    <tr>\n",
       "      <th>8</th>\n",
       "      <td>CharizardMega Charizard Y</td>\n",
       "      <td>634</td>\n",
       "    </tr>\n",
       "    <tr>\n",
       "      <th>9</th>\n",
       "      <td>Squirtle</td>\n",
       "      <td>314</td>\n",
       "    </tr>\n",
       "    <tr>\n",
       "      <th>10</th>\n",
       "      <td>Wartortle</td>\n",
       "      <td>405</td>\n",
       "    </tr>\n",
       "    <tr>\n",
       "      <th>11</th>\n",
       "      <td>Blastoise</td>\n",
       "      <td>530</td>\n",
       "    </tr>\n",
       "    <tr>\n",
       "      <th>12</th>\n",
       "      <td>BlastoiseMega Blastoise</td>\n",
       "      <td>630</td>\n",
       "    </tr>\n",
       "    <tr>\n",
       "      <th>13</th>\n",
       "      <td>Caterpie</td>\n",
       "      <td>195</td>\n",
       "    </tr>\n",
       "    <tr>\n",
       "      <th>14</th>\n",
       "      <td>Metapod</td>\n",
       "      <td>205</td>\n",
       "    </tr>\n",
       "    <tr>\n",
       "      <th>15</th>\n",
       "      <td>Butterfree</td>\n",
       "      <td>395</td>\n",
       "    </tr>\n",
       "    <tr>\n",
       "      <th>16</th>\n",
       "      <td>Weedle</td>\n",
       "      <td>195</td>\n",
       "    </tr>\n",
       "    <tr>\n",
       "      <th>17</th>\n",
       "      <td>Kakuna</td>\n",
       "      <td>205</td>\n",
       "    </tr>\n",
       "    <tr>\n",
       "      <th>18</th>\n",
       "      <td>Beedrill</td>\n",
       "      <td>395</td>\n",
       "    </tr>\n",
       "    <tr>\n",
       "      <th>19</th>\n",
       "      <td>BeedrillMega Beedrill</td>\n",
       "      <td>495</td>\n",
       "    </tr>\n",
       "    <tr>\n",
       "      <th>20</th>\n",
       "      <td>Pidgey</td>\n",
       "      <td>251</td>\n",
       "    </tr>\n",
       "    <tr>\n",
       "      <th>21</th>\n",
       "      <td>Pidgeotto</td>\n",
       "      <td>349</td>\n",
       "    </tr>\n",
       "    <tr>\n",
       "      <th>22</th>\n",
       "      <td>Pidgeot</td>\n",
       "      <td>479</td>\n",
       "    </tr>\n",
       "    <tr>\n",
       "      <th>23</th>\n",
       "      <td>PidgeotMega Pidgeot</td>\n",
       "      <td>579</td>\n",
       "    </tr>\n",
       "    <tr>\n",
       "      <th>24</th>\n",
       "      <td>Rattata</td>\n",
       "      <td>253</td>\n",
       "    </tr>\n",
       "    <tr>\n",
       "      <th>25</th>\n",
       "      <td>Raticate</td>\n",
       "      <td>413</td>\n",
       "    </tr>\n",
       "    <tr>\n",
       "      <th>26</th>\n",
       "      <td>Spearow</td>\n",
       "      <td>262</td>\n",
       "    </tr>\n",
       "    <tr>\n",
       "      <th>27</th>\n",
       "      <td>Fearow</td>\n",
       "      <td>442</td>\n",
       "    </tr>\n",
       "    <tr>\n",
       "      <th>28</th>\n",
       "      <td>Ekans</td>\n",
       "      <td>288</td>\n",
       "    </tr>\n",
       "    <tr>\n",
       "      <th>29</th>\n",
       "      <td>Arbok</td>\n",
       "      <td>438</td>\n",
       "    </tr>\n",
       "    <tr>\n",
       "      <th>...</th>\n",
       "      <td>...</td>\n",
       "      <td>...</td>\n",
       "    </tr>\n",
       "    <tr>\n",
       "      <th>770</th>\n",
       "      <td>Sylveon</td>\n",
       "      <td>525</td>\n",
       "    </tr>\n",
       "    <tr>\n",
       "      <th>771</th>\n",
       "      <td>Hawlucha</td>\n",
       "      <td>500</td>\n",
       "    </tr>\n",
       "    <tr>\n",
       "      <th>772</th>\n",
       "      <td>Dedenne</td>\n",
       "      <td>431</td>\n",
       "    </tr>\n",
       "    <tr>\n",
       "      <th>773</th>\n",
       "      <td>Carbink</td>\n",
       "      <td>500</td>\n",
       "    </tr>\n",
       "    <tr>\n",
       "      <th>774</th>\n",
       "      <td>Goomy</td>\n",
       "      <td>300</td>\n",
       "    </tr>\n",
       "    <tr>\n",
       "      <th>775</th>\n",
       "      <td>Sliggoo</td>\n",
       "      <td>452</td>\n",
       "    </tr>\n",
       "    <tr>\n",
       "      <th>776</th>\n",
       "      <td>Goodra</td>\n",
       "      <td>600</td>\n",
       "    </tr>\n",
       "    <tr>\n",
       "      <th>777</th>\n",
       "      <td>Klefki</td>\n",
       "      <td>470</td>\n",
       "    </tr>\n",
       "    <tr>\n",
       "      <th>778</th>\n",
       "      <td>Phantump</td>\n",
       "      <td>309</td>\n",
       "    </tr>\n",
       "    <tr>\n",
       "      <th>779</th>\n",
       "      <td>Trevenant</td>\n",
       "      <td>474</td>\n",
       "    </tr>\n",
       "    <tr>\n",
       "      <th>780</th>\n",
       "      <td>PumpkabooAverage Size</td>\n",
       "      <td>335</td>\n",
       "    </tr>\n",
       "    <tr>\n",
       "      <th>781</th>\n",
       "      <td>PumpkabooSmall Size</td>\n",
       "      <td>335</td>\n",
       "    </tr>\n",
       "    <tr>\n",
       "      <th>782</th>\n",
       "      <td>PumpkabooLarge Size</td>\n",
       "      <td>335</td>\n",
       "    </tr>\n",
       "    <tr>\n",
       "      <th>783</th>\n",
       "      <td>PumpkabooSuper Size</td>\n",
       "      <td>335</td>\n",
       "    </tr>\n",
       "    <tr>\n",
       "      <th>784</th>\n",
       "      <td>GourgeistAverage Size</td>\n",
       "      <td>494</td>\n",
       "    </tr>\n",
       "    <tr>\n",
       "      <th>785</th>\n",
       "      <td>GourgeistSmall Size</td>\n",
       "      <td>494</td>\n",
       "    </tr>\n",
       "    <tr>\n",
       "      <th>786</th>\n",
       "      <td>GourgeistLarge Size</td>\n",
       "      <td>494</td>\n",
       "    </tr>\n",
       "    <tr>\n",
       "      <th>787</th>\n",
       "      <td>GourgeistSuper Size</td>\n",
       "      <td>494</td>\n",
       "    </tr>\n",
       "    <tr>\n",
       "      <th>788</th>\n",
       "      <td>Bergmite</td>\n",
       "      <td>304</td>\n",
       "    </tr>\n",
       "    <tr>\n",
       "      <th>789</th>\n",
       "      <td>Avalugg</td>\n",
       "      <td>514</td>\n",
       "    </tr>\n",
       "    <tr>\n",
       "      <th>790</th>\n",
       "      <td>Noibat</td>\n",
       "      <td>245</td>\n",
       "    </tr>\n",
       "    <tr>\n",
       "      <th>791</th>\n",
       "      <td>Noivern</td>\n",
       "      <td>535</td>\n",
       "    </tr>\n",
       "    <tr>\n",
       "      <th>792</th>\n",
       "      <td>Xerneas</td>\n",
       "      <td>680</td>\n",
       "    </tr>\n",
       "    <tr>\n",
       "      <th>793</th>\n",
       "      <td>Yveltal</td>\n",
       "      <td>680</td>\n",
       "    </tr>\n",
       "    <tr>\n",
       "      <th>794</th>\n",
       "      <td>Zygarde50% Forme</td>\n",
       "      <td>600</td>\n",
       "    </tr>\n",
       "    <tr>\n",
       "      <th>795</th>\n",
       "      <td>Diancie</td>\n",
       "      <td>600</td>\n",
       "    </tr>\n",
       "    <tr>\n",
       "      <th>796</th>\n",
       "      <td>DiancieMega Diancie</td>\n",
       "      <td>700</td>\n",
       "    </tr>\n",
       "    <tr>\n",
       "      <th>797</th>\n",
       "      <td>HoopaHoopa Confined</td>\n",
       "      <td>600</td>\n",
       "    </tr>\n",
       "    <tr>\n",
       "      <th>798</th>\n",
       "      <td>HoopaHoopa Unbound</td>\n",
       "      <td>680</td>\n",
       "    </tr>\n",
       "    <tr>\n",
       "      <th>799</th>\n",
       "      <td>Volcanion</td>\n",
       "      <td>600</td>\n",
       "    </tr>\n",
       "  </tbody>\n",
       "</table>\n",
       "<p>800 rows × 2 columns</p>\n",
       "</div>"
      ],
      "text/plain": [
       "                           Nom  Somme\n",
       "0                    Bulbasaur    318\n",
       "1                      Ivysaur    405\n",
       "2                     Venusaur    525\n",
       "3        VenusaurMega Venusaur    625\n",
       "4                   Charmander    309\n",
       "5                   Charmeleon    405\n",
       "6                    Charizard    534\n",
       "7    CharizardMega Charizard X    634\n",
       "8    CharizardMega Charizard Y    634\n",
       "9                     Squirtle    314\n",
       "10                   Wartortle    405\n",
       "11                   Blastoise    530\n",
       "12     BlastoiseMega Blastoise    630\n",
       "13                    Caterpie    195\n",
       "14                     Metapod    205\n",
       "15                  Butterfree    395\n",
       "16                      Weedle    195\n",
       "17                      Kakuna    205\n",
       "18                    Beedrill    395\n",
       "19       BeedrillMega Beedrill    495\n",
       "20                      Pidgey    251\n",
       "21                   Pidgeotto    349\n",
       "22                     Pidgeot    479\n",
       "23         PidgeotMega Pidgeot    579\n",
       "24                     Rattata    253\n",
       "25                    Raticate    413\n",
       "26                     Spearow    262\n",
       "27                      Fearow    442\n",
       "28                       Ekans    288\n",
       "29                       Arbok    438\n",
       "..                         ...    ...\n",
       "770                    Sylveon    525\n",
       "771                   Hawlucha    500\n",
       "772                    Dedenne    431\n",
       "773                    Carbink    500\n",
       "774                      Goomy    300\n",
       "775                    Sliggoo    452\n",
       "776                     Goodra    600\n",
       "777                     Klefki    470\n",
       "778                   Phantump    309\n",
       "779                  Trevenant    474\n",
       "780      PumpkabooAverage Size    335\n",
       "781        PumpkabooSmall Size    335\n",
       "782        PumpkabooLarge Size    335\n",
       "783        PumpkabooSuper Size    335\n",
       "784      GourgeistAverage Size    494\n",
       "785        GourgeistSmall Size    494\n",
       "786        GourgeistLarge Size    494\n",
       "787        GourgeistSuper Size    494\n",
       "788                   Bergmite    304\n",
       "789                    Avalugg    514\n",
       "790                     Noibat    245\n",
       "791                    Noivern    535\n",
       "792                    Xerneas    680\n",
       "793                    Yveltal    680\n",
       "794           Zygarde50% Forme    600\n",
       "795                    Diancie    600\n",
       "796        DiancieMega Diancie    700\n",
       "797        HoopaHoopa Confined    600\n",
       "798         HoopaHoopa Unbound    680\n",
       "799                  Volcanion    600\n",
       "\n",
       "[800 rows x 2 columns]"
      ]
     },
     "execution_count": 6,
     "metadata": {},
     "output_type": "execute_result"
    }
   ],
   "source": [
    "test"
   ]
  },
  {
   "cell_type": "code",
   "execution_count": 5,
   "metadata": {
    "ExecuteTime": {
     "end_time": "2019-10-15T12:49:08.524361Z",
     "start_time": "2019-10-15T12:49:08.521345Z"
    }
   },
   "outputs": [],
   "source": [
    "test.columns = [\"Nom\", \"Somme\"]"
   ]
  },
  {
   "cell_type": "code",
   "execution_count": 7,
   "metadata": {
    "ExecuteTime": {
     "end_time": "2019-10-15T12:51:12.519441Z",
     "start_time": "2019-10-15T12:51:12.481678Z"
    }
   },
   "outputs": [],
   "source": [
    "report_fields = [\"PROV_WORK_ORDR_ID\", \"CUST_ID\", \"MACRO_SEG\", \"CUST_LEG_LANG_CD\", \"PRODUCT_FAMILY\", \"LAST_APPT_DT\", \"LAST_APPT_SLOT\", \"CONTACT_PHON_NUMBER\"]"
   ]
  },
  {
   "cell_type": "code",
   "execution_count": 10,
   "metadata": {
    "ExecuteTime": {
     "end_time": "2019-10-15T12:51:43.556913Z",
     "start_time": "2019-10-15T12:51:43.552934Z"
    }
   },
   "outputs": [
    {
     "data": {
      "text/plain": [
       "'PROV_WORK_ORDR_ID, CUST_ID, MACRO_SEG, CUST_LEG_LANG_CD, PRODUCT_FAMILY, LAST_APPT_DT, LAST_APPT_SLOT, CONTACT_PHON_NUMBER'"
      ]
     },
     "execution_count": 10,
     "metadata": {},
     "output_type": "execute_result"
    }
   ],
   "source": [
    "', '.join(report_fields)"
   ]
  },
  {
   "cell_type": "code",
   "execution_count": 17,
   "metadata": {
    "ExecuteTime": {
     "end_time": "2019-10-15T13:00:03.749409Z",
     "start_time": "2019-10-15T13:00:03.745616Z"
    }
   },
   "outputs": [],
   "source": [
    "language = 'fr'\n",
    "if language not in [\"fr\", \"nm\", \"de\"]: \n",
    "    rais"
   ]
  },
  {
   "cell_type": "code",
   "execution_count": 18,
   "metadata": {
    "ExecuteTime": {
     "end_time": "2019-10-15T13:00:04.425926Z",
     "start_time": "2019-10-15T13:00:04.422088Z"
    }
   },
   "outputs": [],
   "source": [
    "assert language in [\"fr\", \"ne\", \"de\"]"
   ]
  },
  {
   "cell_type": "code",
   "execution_count": 4,
   "metadata": {
    "scrolled": false
   },
   "outputs": [
    {
     "name": "stdout",
     "output_type": "stream",
     "text": [
      "CPU times: user 20.3 ms, sys: 10.3 ms, total: 30.6 ms\n",
      "Wall time: 10.8 s\n"
     ]
    }
   ],
   "source": [
    "%%time\n",
    "import time\n",
    "for _ in range(100):\n",
    "    time.sleep(0.01)"
   ]
  },
  {
   "cell_type": "code",
   "execution_count": 10,
   "metadata": {
    "ExecuteTime": {
     "end_time": "2019-03-07T13:38:42.270557Z",
     "start_time": "2019-03-07T13:38:42.261713Z"
    }
   },
   "outputs": [
    {
     "data": {
      "text/html": [
       "<div>\n",
       "<style scoped>\n",
       "    .dataframe tbody tr th:only-of-type {\n",
       "        vertical-align: middle;\n",
       "    }\n",
       "\n",
       "    .dataframe tbody tr th {\n",
       "        vertical-align: top;\n",
       "    }\n",
       "\n",
       "    .dataframe thead th {\n",
       "        text-align: right;\n",
       "    }\n",
       "</style>\n",
       "<table border=\"1\" class=\"dataframe\">\n",
       "  <thead>\n",
       "    <tr style=\"text-align: right;\">\n",
       "      <th></th>\n",
       "      <th>a</th>\n",
       "      <th>b</th>\n",
       "    </tr>\n",
       "  </thead>\n",
       "  <tbody>\n",
       "    <tr>\n",
       "      <th>0</th>\n",
       "      <td>1</td>\n",
       "      <td>2</td>\n",
       "    </tr>\n",
       "    <tr>\n",
       "      <th>1</th>\n",
       "      <td>2</td>\n",
       "      <td>4</td>\n",
       "    </tr>\n",
       "  </tbody>\n",
       "</table>\n",
       "</div>"
      ],
      "text/plain": [
       "   a  b\n",
       "0  1  2\n",
       "1  2  4"
      ]
     },
     "execution_count": 10,
     "metadata": {},
     "output_type": "execute_result"
    }
   ],
   "source": [
    "import pandas as pd\n",
    "dic = {\"a\":[1,2], \"b\":[2,4]}\n",
    "df = pd.DataFrame(data=dic)\n",
    "df.head()"
   ]
  },
  {
   "cell_type": "code",
   "execution_count": 5,
   "metadata": {
    "ExecuteTime": {
     "end_time": "2019-03-07T13:37:43.518455Z",
     "start_time": "2019-03-07T13:37:43.513108Z"
    }
   },
   "outputs": [
    {
     "data": {
      "text/plain": [
       "0    2\n",
       "1    4\n",
       "dtype: int64"
      ]
     },
     "execution_count": 5,
     "metadata": {},
     "output_type": "execute_result"
    }
   ],
   "source": [
    "df.max(axis=1)"
   ]
  },
  {
   "cell_type": "code",
   "execution_count": 12,
   "metadata": {},
   "outputs": [
    {
     "ename": "NameError",
     "evalue": "name 'df' is not defined",
     "output_type": "error",
     "traceback": [
      "\u001b[0;31m---------------------------------------------------------------------------\u001b[0m",
      "\u001b[0;31mNameError\u001b[0m                                 Traceback (most recent call last)",
      "\u001b[0;32m<ipython-input-12-00984bda542a>\u001b[0m in \u001b[0;36m<module>\u001b[0;34m\u001b[0m\n\u001b[0;32m----> 1\u001b[0;31m \u001b[0mdf\u001b[0m \u001b[0;34m=\u001b[0m \u001b[0mpd\u001b[0m\u001b[0;34m.\u001b[0m\u001b[0mmelt\u001b[0m\u001b[0;34m(\u001b[0m\u001b[0mdf\u001b[0m\u001b[0;34m,\u001b[0m \u001b[0mid_vars\u001b[0m\u001b[0;34m=\u001b[0m\u001b[0;34m[\u001b[0m\u001b[0;34m\"country\"\u001b[0m\u001b[0;34m,\u001b[0m\u001b[0;34m\"year\"\u001b[0m\u001b[0;34m]\u001b[0m\u001b[0;34m,\u001b[0m \u001b[0mvalue_name\u001b[0m\u001b[0;34m=\u001b[0m\u001b[0;34m\"cases\"\u001b[0m\u001b[0;34m,\u001b[0m \u001b[0mvar_name\u001b[0m\u001b[0;34m=\u001b[0m\u001b[0;34m\"sex_and_age\"\u001b[0m\u001b[0;34m)\u001b[0m\u001b[0;34m\u001b[0m\u001b[0m\n\u001b[0m\u001b[1;32m      2\u001b[0m \u001b[0;31m# Extract Sex, Age lower bound and Age upper bound group\u001b[0m\u001b[0;34m\u001b[0m\u001b[0;34m\u001b[0m\u001b[0m\n\u001b[1;32m      3\u001b[0m \u001b[0mtmp_df\u001b[0m \u001b[0;34m=\u001b[0m \u001b[0mdf\u001b[0m\u001b[0;34m[\u001b[0m\u001b[0;34m\"sex_and_age\"\u001b[0m\u001b[0;34m]\u001b[0m\u001b[0;34m.\u001b[0m\u001b[0mstr\u001b[0m\u001b[0;34m.\u001b[0m\u001b[0mextract\u001b[0m\u001b[0;34m(\u001b[0m\u001b[0;34m\"(\\D)(\\d+)(\\d{2})\"\u001b[0m\u001b[0;34m)\u001b[0m\u001b[0;34m\u001b[0m\u001b[0m\n\u001b[1;32m      4\u001b[0m \u001b[0;34m\u001b[0m\u001b[0m\n\u001b[1;32m      5\u001b[0m \u001b[0;31m# Name columns\u001b[0m\u001b[0;34m\u001b[0m\u001b[0;34m\u001b[0m\u001b[0m\n",
      "\u001b[0;31mNameError\u001b[0m: name 'df' is not defined"
     ]
    }
   ],
   "source": [
    "df = pd.melt(df, id_vars=[\"country\",\"year\"], value_name=\"cases\", var_name=\"sex_and_age\")\n",
    "# Extract Sex, Age lower bound and Age upper bound group\n",
    "tmp_df = df[\"sex_and_age\"].str.extract(\"(\\D)(\\d+)(\\d{2})\")    \n",
    "\n",
    "# Name columns\n",
    "tmp_df.columns = [\"sex\", \"age_lower\", \"age_upper\"]\n",
    "\n",
    "# Create `age`column based on `age_lower` and `age_upper`\n",
    "tmp_df[\"age\"] = tmp_df[\"age_lower\"] + \"-\" + tmp_df[\"age_upper\"]\n",
    "\n",
    "# Merge \n",
    "df = pd.concat([df, tmp_df], axis=1)\n",
    "\n",
    "# Drop unnecessary columns and rows\n",
    "df = df.drop(['sex_and_age',\"age_lower\",\"age_upper\"], axis=1)\n",
    "df = df.dropna()\n",
    "df = df.sort(ascending=True,columns=[\"country\", \"year\", \"sex\", \"age\"])\n",
    "df.head(10)"
   ]
  },
  {
   "cell_type": "code",
   "execution_count": 4,
   "metadata": {
    "ExecuteTime": {
     "end_time": "2019-09-23T15:13:44.710229Z",
     "start_time": "2019-09-23T15:13:44.706494Z"
    }
   },
   "outputs": [
    {
     "name": "stdout",
     "output_type": "stream",
     "text": [
      "Help on function double in module __main__:\n",
      "\n",
      "double(n:int) -> int\n",
      "\n"
     ]
    }
   ],
   "source": [
    "# Type hints\n",
    "# Useful because Python is dynamicly typed\n",
    "\n",
    "def double(n: int) -> int:\n",
    "    return 2*n\n",
    "\n",
    "double('yo')\n",
    "help(double)"
   ]
  },
  {
   "cell_type": "markdown",
   "metadata": {},
   "source": [
    "## Data types"
   ]
  },
  {
   "cell_type": "code",
   "execution_count": 6,
   "metadata": {},
   "outputs": [
    {
     "name": "stdout",
     "output_type": "stream",
     "text": [
      "{'c', 'b', 'x', 'a'}\n",
      "{'a'}\n",
      "{'c', 'b'}\n"
     ]
    }
   ],
   "source": [
    "a = {\"a\", \"b\", \"c\"}\n",
    "b = {\"a\", \"x\"}\n",
    "print(a | b)\n",
    "print(a & b)\n",
    "print(a - b)"
   ]
  },
  {
   "cell_type": "code",
   "execution_count": 9,
   "metadata": {},
   "outputs": [
    {
     "name": "stdout",
     "output_type": "stream",
     "text": [
      "['a', 'b', ['c', 'd']]\n"
     ]
    }
   ],
   "source": [
    "l = [\"a\", \"b\"]\n",
    "l.append([\"c\", \"d\"])\n",
    "print(l)"
   ]
  },
  {
   "cell_type": "code",
   "execution_count": 2,
   "metadata": {
    "ExecuteTime": {
     "end_time": "2019-05-09T07:13:08.694961Z",
     "start_time": "2019-05-09T07:13:08.691107Z"
    }
   },
   "outputs": [
    {
     "data": {
      "text/plain": [
       "'hey'"
      ]
     },
     "execution_count": 2,
     "metadata": {},
     "output_type": "execute_result"
    }
   ],
   "source": [
    "dic = {\"name\":\"Ben\", \"age\":15, \"goal\":\"mas\"}\n",
    "dic.get(\"names\", \"hey\")\n"
   ]
  },
  {
   "cell_type": "markdown",
   "metadata": {},
   "source": [
    "## Writing data in an Excel file"
   ]
  },
  {
   "cell_type": "code",
   "execution_count": 3,
   "metadata": {
    "ExecuteTime": {
     "end_time": "2019-10-14T09:32:18.019751Z",
     "start_time": "2019-10-14T09:32:17.979215Z"
    }
   },
   "outputs": [
    {
     "data": {
      "text/html": [
       "<div>\n",
       "<style scoped>\n",
       "    .dataframe tbody tr th:only-of-type {\n",
       "        vertical-align: middle;\n",
       "    }\n",
       "\n",
       "    .dataframe tbody tr th {\n",
       "        vertical-align: top;\n",
       "    }\n",
       "\n",
       "    .dataframe thead th {\n",
       "        text-align: right;\n",
       "    }\n",
       "</style>\n",
       "<table border=\"1\" class=\"dataframe\">\n",
       "  <thead>\n",
       "    <tr style=\"text-align: right;\">\n",
       "      <th></th>\n",
       "      <th>Name</th>\n",
       "      <th>Type 1</th>\n",
       "      <th>Total</th>\n",
       "      <th>Generation</th>\n",
       "      <th>Legendary</th>\n",
       "    </tr>\n",
       "  </thead>\n",
       "  <tbody>\n",
       "    <tr>\n",
       "      <th>734</th>\n",
       "      <td>Vivillon</td>\n",
       "      <td>Bug</td>\n",
       "      <td>411</td>\n",
       "      <td>6</td>\n",
       "      <td>False</td>\n",
       "    </tr>\n",
       "    <tr>\n",
       "      <th>328</th>\n",
       "      <td>Mawile</td>\n",
       "      <td>Steel</td>\n",
       "      <td>380</td>\n",
       "      <td>3</td>\n",
       "      <td>False</td>\n",
       "    </tr>\n",
       "    <tr>\n",
       "      <th>161</th>\n",
       "      <td>Dragonite</td>\n",
       "      <td>Dragon</td>\n",
       "      <td>600</td>\n",
       "      <td>1</td>\n",
       "      <td>False</td>\n",
       "    </tr>\n",
       "    <tr>\n",
       "      <th>598</th>\n",
       "      <td>Throh</td>\n",
       "      <td>Fighting</td>\n",
       "      <td>465</td>\n",
       "      <td>5</td>\n",
       "      <td>False</td>\n",
       "    </tr>\n",
       "    <tr>\n",
       "      <th>294</th>\n",
       "      <td>Lombre</td>\n",
       "      <td>Water</td>\n",
       "      <td>340</td>\n",
       "      <td>3</td>\n",
       "      <td>False</td>\n",
       "    </tr>\n",
       "    <tr>\n",
       "      <th>412</th>\n",
       "      <td>Metagross</td>\n",
       "      <td>Steel</td>\n",
       "      <td>600</td>\n",
       "      <td>3</td>\n",
       "      <td>False</td>\n",
       "    </tr>\n",
       "    <tr>\n",
       "      <th>164</th>\n",
       "      <td>MewtwoMega Mewtwo Y</td>\n",
       "      <td>Psychic</td>\n",
       "      <td>780</td>\n",
       "      <td>1</td>\n",
       "      <td>True</td>\n",
       "    </tr>\n",
       "    <tr>\n",
       "      <th>264</th>\n",
       "      <td>Suicune</td>\n",
       "      <td>Water</td>\n",
       "      <td>580</td>\n",
       "      <td>2</td>\n",
       "      <td>True</td>\n",
       "    </tr>\n",
       "    <tr>\n",
       "      <th>132</th>\n",
       "      <td>Scyther</td>\n",
       "      <td>Bug</td>\n",
       "      <td>500</td>\n",
       "      <td>1</td>\n",
       "      <td>False</td>\n",
       "    </tr>\n",
       "    <tr>\n",
       "      <th>214</th>\n",
       "      <td>Slowking</td>\n",
       "      <td>Water</td>\n",
       "      <td>490</td>\n",
       "      <td>2</td>\n",
       "      <td>False</td>\n",
       "    </tr>\n",
       "  </tbody>\n",
       "</table>\n",
       "</div>"
      ],
      "text/plain": [
       "                    Name    Type 1  Total  Generation  Legendary\n",
       "734             Vivillon       Bug    411           6      False\n",
       "328               Mawile     Steel    380           3      False\n",
       "161            Dragonite    Dragon    600           1      False\n",
       "598                Throh  Fighting    465           5      False\n",
       "294               Lombre     Water    340           3      False\n",
       "412            Metagross     Steel    600           3      False\n",
       "164  MewtwoMega Mewtwo Y   Psychic    780           1       True\n",
       "264              Suicune     Water    580           2       True\n",
       "132              Scyther       Bug    500           1      False\n",
       "214             Slowking     Water    490           2      False"
      ]
     },
     "execution_count": 3,
     "metadata": {},
     "output_type": "execute_result"
    }
   ],
   "source": [
    "subset = df[[\"Name\", \"Type 1\", \"Total\", \"Generation\", \"Legendary\"]].sample(10).copy()\n",
    "subset"
   ]
  },
  {
   "cell_type": "code",
   "execution_count": 18,
   "metadata": {
    "ExecuteTime": {
     "end_time": "2019-10-11T11:21:23.253527Z",
     "start_time": "2019-10-11T11:21:23.148806Z"
    }
   },
   "outputs": [
    {
     "name": "stdout",
     "output_type": "stream",
     "text": [
      "<Worksheet \"Sheet1\">\n",
      "<generator object values at 0x7f7c720cbca8>\n"
     ]
    },
    {
     "data": {
      "text/html": [
       "<div>\n",
       "<style scoped>\n",
       "    .dataframe tbody tr th:only-of-type {\n",
       "        vertical-align: middle;\n",
       "    }\n",
       "\n",
       "    .dataframe tbody tr th {\n",
       "        vertical-align: top;\n",
       "    }\n",
       "\n",
       "    .dataframe thead th {\n",
       "        text-align: right;\n",
       "    }\n",
       "</style>\n",
       "<table border=\"1\" class=\"dataframe\">\n",
       "  <thead>\n",
       "    <tr style=\"text-align: right;\">\n",
       "      <th></th>\n",
       "      <th>0</th>\n",
       "      <th>1</th>\n",
       "      <th>2</th>\n",
       "      <th>3</th>\n",
       "      <th>4</th>\n",
       "      <th>5</th>\n",
       "    </tr>\n",
       "  </thead>\n",
       "  <tbody>\n",
       "    <tr>\n",
       "      <th>0</th>\n",
       "      <td>Name</td>\n",
       "      <td>Type 1</td>\n",
       "      <td>Total</td>\n",
       "      <td>Gen</td>\n",
       "      <td>Legendary</td>\n",
       "      <td>Liked ?</td>\n",
       "    </tr>\n",
       "  </tbody>\n",
       "</table>\n",
       "</div>"
      ],
      "text/plain": [
       "      0       1      2    3          4        5\n",
       "0  Name  Type 1  Total  Gen  Legendary  Liked ?"
      ]
     },
     "execution_count": 18,
     "metadata": {},
     "output_type": "execute_result"
    }
   ],
   "source": [
    "from openpyxl import load_workbook\n",
    "\n",
    "wb = load_workbook(filename = 'pok_test.xlsx')\n",
    "ws = wb.active\n",
    "print(ws)\n",
    "print(ws.values)\n",
    "df_xlsx = pd.DataFrame(ws.values)\n",
    "df_xlsx"
   ]
  },
  {
   "cell_type": "code",
   "execution_count": 21,
   "metadata": {
    "ExecuteTime": {
     "end_time": "2019-10-11T11:25:09.526884Z",
     "start_time": "2019-10-11T11:25:09.381515Z"
    }
   },
   "outputs": [],
   "source": [
    "from openpyxl.worksheet.datavalidation import DataValidation\n",
    "\n",
    "# Create the workbook and worksheet we'll be working with\n",
    "wb = load_workbook(filename = 'pok_test.xlsx')\n",
    "ws = wb.active\n",
    "\n",
    "# Create a data-validation object with list validation\n",
    "dv = DataValidation(type=\"list\", formula1='\"Dog,Cat,Bat\"', allow_blank=True)\n",
    "\n",
    "# Optionally set a custom error message\n",
    "dv.error ='Your entry is not in the list'\n",
    "dv.errorTitle = 'Invalid Entry'\n",
    "\n",
    "# Optionally set a custom prompt message\n",
    "dv.prompt = 'Please select from the list'\n",
    "dv.promptTitle = 'List Selection'\n",
    "\n",
    "dv.add('G1:H5')\n",
    "# Add the data-validation object to the worksheet\n",
    "ws.add_data_validation(dv)\n",
    "\n",
    "wb.save(filename = \"pok_modified.xlsx\")"
   ]
  },
  {
   "cell_type": "code",
   "execution_count": 13,
   "metadata": {
    "ExecuteTime": {
     "end_time": "2019-10-14T09:46:33.503351Z",
     "start_time": "2019-10-14T09:46:33.489940Z"
    }
   },
   "outputs": [
    {
     "data": {
      "text/plain": [
       "5"
      ]
     },
     "execution_count": 13,
     "metadata": {},
     "output_type": "execute_result"
    }
   ],
   "source": [
    "len(subset.columns)"
   ]
  },
  {
   "cell_type": "code",
   "execution_count": 31,
   "metadata": {
    "ExecuteTime": {
     "end_time": "2019-10-14T11:04:21.342309Z",
     "start_time": "2019-10-14T11:04:21.326644Z"
    }
   },
   "outputs": [],
   "source": [
    "def as_text(value):\n",
    "    if value is None:\n",
    "        return \"\"\n",
    "    return str(value)"
   ]
  },
  {
   "cell_type": "code",
   "execution_count": 69,
   "metadata": {
    "ExecuteTime": {
     "end_time": "2019-10-14T11:35:58.669582Z",
     "start_time": "2019-10-14T11:35:58.644293Z"
    },
    "scrolled": false
   },
   "outputs": [
    {
     "name": "stdout",
     "output_type": "stream",
     "text": [
      "19\n",
      "8\n",
      "5\n",
      "10\n",
      "9\n"
     ]
    },
    {
     "ename": "AttributeError",
     "evalue": "module 'openpyxl.formatting' has no attribute 'CellIsRule'",
     "output_type": "error",
     "traceback": [
      "\u001b[0;31m---------------------------------------------------------------------------\u001b[0m",
      "\u001b[0;31mAttributeError\u001b[0m                            Traceback (most recent call last)",
      "\u001b[0;32m<ipython-input-69-249315a751b5>\u001b[0m in \u001b[0;36m<module>\u001b[0;34m\u001b[0m\n\u001b[1;32m     56\u001b[0m \u001b[0mred_fill\u001b[0m \u001b[0;34m=\u001b[0m \u001b[0mstyles\u001b[0m\u001b[0;34m.\u001b[0m\u001b[0mPatternFill\u001b[0m\u001b[0;34m(\u001b[0m\u001b[0mstart_color\u001b[0m\u001b[0;34m=\u001b[0m\u001b[0mred_color\u001b[0m\u001b[0;34m,\u001b[0m \u001b[0mend_color\u001b[0m\u001b[0;34m=\u001b[0m\u001b[0mred_color\u001b[0m\u001b[0;34m,\u001b[0m \u001b[0mfill_type\u001b[0m\u001b[0;34m=\u001b[0m\u001b[0;34m'solid'\u001b[0m\u001b[0;34m)\u001b[0m\u001b[0;34m\u001b[0m\u001b[0m\n\u001b[1;32m     57\u001b[0m \u001b[0;34m\u001b[0m\u001b[0m\n\u001b[0;32m---> 58\u001b[0;31m \u001b[0mws\u001b[0m\u001b[0;34m.\u001b[0m\u001b[0mconditional_formatting\u001b[0m\u001b[0;34m.\u001b[0m\u001b[0madd\u001b[0m\u001b[0;34m(\u001b[0m\u001b[0;34m'D1:D10'\u001b[0m\u001b[0;34m,\u001b[0m \u001b[0mformatting\u001b[0m\u001b[0;34m.\u001b[0m\u001b[0mCellIsRule\u001b[0m\u001b[0;34m(\u001b[0m\u001b[0moperator\u001b[0m\u001b[0;34m=\u001b[0m\u001b[0;34m'lessThan'\u001b[0m\u001b[0;34m,\u001b[0m \u001b[0mformula\u001b[0m\u001b[0;34m=\u001b[0m\u001b[0;34m[\u001b[0m\u001b[0;34m'5'\u001b[0m\u001b[0;34m]\u001b[0m\u001b[0;34m,\u001b[0m \u001b[0mfill\u001b[0m\u001b[0;34m=\u001b[0m\u001b[0mred_fill\u001b[0m\u001b[0;34m)\u001b[0m\u001b[0;34m)\u001b[0m\u001b[0;34m\u001b[0m\u001b[0m\n\u001b[0m\u001b[1;32m     59\u001b[0m \u001b[0;34m\u001b[0m\u001b[0m\n\u001b[1;32m     60\u001b[0m \u001b[0;31m# sort by appt_slot - impossible to sort via openpyxl, but can display the filters\u001b[0m\u001b[0;34m\u001b[0m\u001b[0;34m\u001b[0m\u001b[0m\n",
      "\u001b[0;31mAttributeError\u001b[0m: module 'openpyxl.formatting' has no attribute 'CellIsRule'"
     ]
    }
   ],
   "source": [
    "from openpyxl.utils.dataframe import dataframe_to_rows\n",
    "from openpyxl import Workbook\n",
    "from openpyxl.styles import PatternFill, Border, Side, Alignment, Protection, Font\n",
    "from openpyxl.utils  import get_column_letter\n",
    "from openpyxl.formatting.rule import DataBar, FormatObject\n",
    "from openpyxl.formatting.rule import Rule\n",
    "from openpyxl.styles import Font, PatternFill, Border\n",
    "from openpyxl.styles.differential import DifferentialStyle\n",
    "\n",
    "# Create the workbook and worksheet we'll be working with\n",
    "wb = Workbook()\n",
    "ws = wb.active\n",
    "\n",
    "\n",
    "\n",
    "for r in dataframe_to_rows(subset, index=False, header=True):\n",
    "    ws.append(r)\n",
    "\n",
    "# Bold headers\n",
    "for col in range(1,len(subset.columns)+1):\n",
    "    ws.cell(row=1, column=col).font=Font(bold=True,\n",
    "                                        size=12)\n",
    "# add leading 0 for phone numbers    \n",
    "for row in range(2,len(subset)+1):\n",
    "    ws.cell(row=row, column=3).number_format = '0000'\n",
    "\n",
    "# Resize column width \n",
    "dims = {}\n",
    "for row in ws.rows:\n",
    "    for cell in row:\n",
    "        if cell.value:\n",
    "            dims[cell.column] = max((dims.get(cell.column, 0), len(str(cell.value))))   \n",
    "            \n",
    "for col, value in dims.items():\n",
    "    print(value)\n",
    "    ws.column_dimensions[get_column_letter(col)].width = value + 2\n",
    "    \n",
    "# Adding data bars visuals to waste_score\n",
    "first = FormatObject(type='num',val=0)\n",
    "second = FormatObject(type='num',val=1)\n",
    "data_bar = DataBar(cfvo=[first, second], color=\"638EC6\", showValue=True, minLength=None, maxLength=None)\n",
    "\n",
    "r = Rule(type='dataBar', dataBar=data_bar)\n",
    "ws.conditional_formatting.add(\"D1:D5\", r)\n",
    "\n",
    "# # Add conditional formating on appt_slot - not supported\n",
    "# dxf = DifferentialStyle(font=Font(bold=True), fill=PatternFill(start_color='EE1111', end_color='EE1111'))\n",
    "# rule = Rule(type='cellIs', dxf=dxf, formula=[\"6\"])\n",
    "# ws.conditional_formatting.add(\"D1:D10\", rule)\n",
    "\n",
    "# sort by appt_slot - impossible to sort via openpyxl, but can display the filters\n",
    "ws.auto_filter.ref = \"A1:E15\"\n",
    "\n",
    "wb.save(filename = \"pok_with_data.xlsx\")"
   ]
  },
  {
   "cell_type": "code",
   "execution_count": 47,
   "metadata": {
    "ExecuteTime": {
     "end_time": "2019-10-14T11:11:58.479052Z",
     "start_time": "2019-10-14T11:11:58.434102Z"
    }
   },
   "outputs": [
    {
     "data": {
      "text/plain": [
       "19"
      ]
     },
     "execution_count": 47,
     "metadata": {},
     "output_type": "execute_result"
    }
   ],
   "source": [
    "dims.get(1,0)"
   ]
  },
  {
   "cell_type": "markdown",
   "metadata": {},
   "source": [
    "# Functions"
   ]
  },
  {
   "cell_type": "markdown",
   "metadata": {},
   "source": [
    "* DRY\n",
    "* Do one thing "
   ]
  },
  {
   "cell_type": "code",
   "execution_count": 91,
   "metadata": {
    "ExecuteTime": {
     "end_time": "2020-02-14T09:00:28.712394Z",
     "start_time": "2020-02-14T09:00:28.707601Z"
    }
   },
   "outputs": [],
   "source": [
    "def ideal_function_google_docstrings(a, b=2):\n",
    "    \"\"\"\n",
    "    Description of the function to easily understand what it does without having to dive into the code (with imperative style)\n",
    "    \n",
    "    Args:\n",
    "        a (string): description\n",
    "        b (int, optional): description\n",
    "        \n",
    "    Returns:\n",
    "        bool: description\n",
    "        \n",
    "    Raises:\n",
    "        valueError: in case you have error handlers\n",
    "        \n",
    "    Note:\n",
    "        to put a link to a paper describing the method you are implementing for example\n",
    "    \"\"\"\n",
    "    pass\n",
    "\n",
    "def ideal_function_numpydoc_docstrings(a, b=2):\n",
    "    \"\"\"\n",
    "    Description of the function to easily understand what it does without having to dive into the code (with imperative style)\n",
    "    \n",
    "    Parameters:\n",
    "    ------------\n",
    "    a : string\n",
    "        description\n",
    "    b : int, optional\n",
    "        description\n",
    "        Default = 2\n",
    "        \n",
    "    Returns\n",
    "    -------\n",
    "    bool\n",
    "        description\n",
    "    \"\"\"\n",
    "    pass"
   ]
  },
  {
   "cell_type": "code",
   "execution_count": 92,
   "metadata": {
    "ExecuteTime": {
     "end_time": "2020-02-14T09:00:36.342310Z",
     "start_time": "2020-02-14T09:00:36.337606Z"
    }
   },
   "outputs": [
    {
     "name": "stdout",
     "output_type": "stream",
     "text": [
      "\n",
      "    Description of the function to easily understand what it does without having to dive into the code (with imperative style)\n",
      "    \n",
      "    Args:\n",
      "        a (string): description\n",
      "        b (int, optional): description\n",
      "        \n",
      "    Returns:\n",
      "        bool: description\n",
      "        \n",
      "    Raises:\n",
      "        valueError: in case you have error handlers\n",
      "        \n",
      "    Note:\n",
      "        to put a link to a paper describing the method you are implementing for example\n",
      "    \n"
     ]
    }
   ],
   "source": [
    "print(ideal_function_google_docstrings.__doc__)"
   ]
  },
  {
   "cell_type": "code",
   "execution_count": 93,
   "metadata": {
    "ExecuteTime": {
     "end_time": "2020-02-14T09:01:24.748578Z",
     "start_time": "2020-02-14T09:01:24.743679Z"
    }
   },
   "outputs": [
    {
     "name": "stdout",
     "output_type": "stream",
     "text": [
      "Description of the function to easily understand what it does without having to dive into the code (with imperative style)\n",
      "\n",
      "Args:\n",
      "    a (string): description\n",
      "    b (int, optional): description\n",
      "    \n",
      "Returns:\n",
      "    bool: description\n",
      "    \n",
      "Raises:\n",
      "    valueError: in case you have error handlers\n",
      "    \n",
      "Note:\n",
      "    to put a link to a paper describing the method you are implementing for example\n"
     ]
    }
   ],
   "source": [
    "import inspect\n",
    "print(inspect.getdoc(ideal_function_google_docstrings))"
   ]
  },
  {
   "cell_type": "code",
   "execution_count": 95,
   "metadata": {
    "ExecuteTime": {
     "end_time": "2020-02-14T09:18:32.011445Z",
     "start_time": "2020-02-14T09:18:32.002438Z"
    }
   },
   "outputs": [
    {
     "name": "stdout",
     "output_type": "stream",
     "text": [
      "[99, 2, 3]\n",
      "5\n"
     ]
    }
   ],
   "source": [
    "# mutable object that are passed as argument to a function will be modified by the function\n",
    "# Never assign a default value to mutable parameter passed to a function, use None insted\n",
    "\n",
    "def foo(x):\n",
    "    x[0] = 99\n",
    "    return(x)\n",
    "\n",
    "t = [1,2,3]\n",
    "foo(t)\n",
    "print(t)\n",
    "\n",
    "def bar(x):\n",
    "    x=x+3\n",
    "    return(x)\n",
    "\n",
    "b = 5\n",
    "bar(b)\n",
    "print(b)"
   ]
  },
  {
   "cell_type": "markdown",
   "metadata": {},
   "source": [
    "## Context manager"
   ]
  },
  {
   "cell_type": "code",
   "execution_count": 96,
   "metadata": {
    "ExecuteTime": {
     "end_time": "2020-02-14T09:28:30.526409Z",
     "start_time": "2020-02-14T09:28:30.491578Z"
    }
   },
   "outputs": [
    {
     "name": "stdout",
     "output_type": "stream",
     "text": [
      "44024\n"
     ]
    }
   ],
   "source": [
    "with open(\"Data/data.csv\") as file:\n",
    "    text = file.read()\n",
    "    length = len(text)\n",
    "\n",
    "print(length)"
   ]
  },
  {
   "cell_type": "code",
   "execution_count": 100,
   "metadata": {
    "ExecuteTime": {
     "end_time": "2020-02-14T09:34:55.252165Z",
     "start_time": "2020-02-14T09:34:55.247183Z"
    }
   },
   "outputs": [
    {
     "name": "stdout",
     "output_type": "stream",
     "text": [
      "Hello\n",
      "I m Ben\n",
      "Bye\n"
     ]
    }
   ],
   "source": [
    "# creating your own context manager\n",
    "import contextlib\n",
    "\n",
    "@contextlib.contextmanager\n",
    "def my_context():\n",
    "    print(\"Hello\")\n",
    "    yield \n",
    "    print(\"Bye\")\n",
    "    \n",
    "with my_context():\n",
    "    print(\"I m Ben\")"
   ]
  },
  {
   "cell_type": "code",
   "execution_count": 110,
   "metadata": {
    "ExecuteTime": {
     "end_time": "2020-02-14T10:13:26.079018Z",
     "start_time": "2020-02-14T10:13:25.929355Z"
    }
   },
   "outputs": [
    {
     "name": "stdout",
     "output_type": "stream",
     "text": [
      "['AirQualityUCI.csv', 'data.csv', 'iris.txt', 'diabetes.csv', 'mpg.txt', 'text.txt', 'character-predictions.csv', 'data.pkl.zip']\n"
     ]
    }
   ],
   "source": [
    "import os\n",
    "\n",
    "@contextlib.contextmanager\n",
    "def in_dir(path):\n",
    "    old_dir = os.getcwd()\n",
    "    os.chdir(path)\n",
    "    try:\n",
    "        yield \n",
    "    finally:\n",
    "        os.chdir(old_dir)\n",
    "    \n",
    "with in_dir(\"Data/\"):\n",
    "    print(os.listdir())"
   ]
  },
  {
   "cell_type": "code",
   "execution_count": 109,
   "metadata": {
    "ExecuteTime": {
     "end_time": "2020-02-14T09:41:03.015084Z",
     "start_time": "2020-02-14T09:41:02.758849Z"
    }
   },
   "outputs": [
    {
     "name": "stdout",
     "output_type": "stream",
     "text": [
      "Elapsed: 0.25s\n"
     ]
    }
   ],
   "source": [
    "@contextlib.contextmanager\n",
    "def timer():\n",
    "\n",
    "    start = time.time()\n",
    "    yield\n",
    "    end = time.time()\n",
    "    print('Elapsed: {:.2f}s'.format(end - start))\n",
    "\n",
    "with timer():\n",
    "    time.sleep(0.25)"
   ]
  },
  {
   "cell_type": "code",
   "execution_count": null,
   "metadata": {},
   "outputs": [],
   "source": [
    "@contextlib.contextmanager\n",
    "def database(url):\n",
    "    db = postgres.connect(url)\n",
    "    try:\n",
    "        yield db\n",
    "    finally: # to ensure we disconnect even if problems occur\n",
    "        db.disconnect()"
   ]
  },
  {
   "cell_type": "markdown",
   "metadata": {},
   "source": [
    "## Decorators"
   ]
  },
  {
   "cell_type": "code",
   "execution_count": 116,
   "metadata": {
    "ExecuteTime": {
     "end_time": "2020-02-14T14:54:14.126740Z",
     "start_time": "2020-02-14T14:54:14.121665Z"
    }
   },
   "outputs": [
    {
     "name": "stdout",
     "output_type": "stream",
     "text": [
      "Hello\n",
      "6\n",
      "2.0\n"
     ]
    }
   ],
   "source": [
    "# functions are objects:\n",
    "\n",
    "pt = print\n",
    "pt(\"Hello\")\n",
    "\n",
    "list_of_fct = [print, sum, display]\n",
    "pt(list_of_fct[1]([1,2,3]))\n",
    "\n",
    "fct_dic = {\"median\": np.median,\n",
    "          \"mean\" : np.mean,\n",
    "          \"std\": np.std}\n",
    "pt(fct_dic[\"mean\"]([1,2,3]))"
   ]
  },
  {
   "cell_type": "code",
   "execution_count": 121,
   "metadata": {
    "ExecuteTime": {
     "end_time": "2020-02-14T14:58:10.082743Z",
     "start_time": "2020-02-14T14:58:10.076551Z"
    }
   },
   "outputs": [
    {
     "name": "stdout",
     "output_type": "stream",
     "text": [
      "False\n",
      "True\n"
     ]
    }
   ],
   "source": [
    "def has_doctring(func):\n",
    "    \"\"\"\n",
    "    Check if the function func has a docstring\n",
    "    \"\"\"\n",
    "    \n",
    "    return(func.__doc__ is not None)\n",
    "\n",
    "def a():\n",
    "    pass\n",
    "\n",
    "def b():\n",
    "    \"heu\"\n",
    "    pass\n",
    "\n",
    "pt(has_doctring(a))\n",
    "pt(has_doctring(b))"
   ]
  },
  {
   "cell_type": "code",
   "execution_count": 124,
   "metadata": {
    "ExecuteTime": {
     "end_time": "2020-02-14T15:21:04.282677Z",
     "start_time": "2020-02-14T15:21:04.277266Z"
    }
   },
   "outputs": [
    {
     "name": "stdout",
     "output_type": "stream",
     "text": [
      "5\n",
      "None\n",
      "5\n"
     ]
    }
   ],
   "source": [
    "# closures -  contains a copy of nonlocal variables so that function can execute\n",
    "# deleting x won't have an impact because it is still in the fct closure\n",
    "def foo():\n",
    "    a=5\n",
    "    def bar():\n",
    "        print(a)\n",
    "    return(bar)\n",
    "\n",
    "func = foo()\n",
    "print(func())\n",
    "print(func.__closure__[0].cell_contents)"
   ]
  },
  {
   "cell_type": "code",
   "execution_count": 128,
   "metadata": {
    "ExecuteTime": {
     "end_time": "2020-02-14T15:35:12.467532Z",
     "start_time": "2020-02-14T15:35:12.451828Z"
    }
   },
   "outputs": [
    {
     "name": "stdout",
     "output_type": "stream",
     "text": [
      "20\n"
     ]
    }
   ],
   "source": [
    "def multiply(a,b):\n",
    "    return(a*b)\n",
    "\n",
    "def double_args(func):\n",
    "    #define a new function that we can modify\n",
    "    def wrapper(a,b):\n",
    "        return(func(a*2,b*2))\n",
    "    \n",
    "    return(wrapper)\n",
    "\n",
    "new_multiply = double_args(multiply) #equivalent to put @double_args before the function definition\n",
    "\n",
    "print(new_multiply(1,5))"
   ]
  },
  {
   "cell_type": "code",
   "execution_count": 6,
   "metadata": {
    "ExecuteTime": {
     "end_time": "2019-03-07T13:13:37.809669Z",
     "start_time": "2019-03-07T13:13:37.803812Z"
    }
   },
   "outputs": [
    {
     "name": "stdout",
     "output_type": "stream",
     "text": [
      "The function somme is working fine\n",
      "----------------------------------------\n"
     ]
    },
    {
     "data": {
      "text/plain": [
       "13"
      ]
     },
     "execution_count": 6,
     "metadata": {},
     "output_type": "execute_result"
    }
   ],
   "source": [
    "def more(func):\n",
    "    def inner(*args, **kwargs):\n",
    "        print(\"The function {} is working fine\".format(func.__name__))\n",
    "        print(\"----\"*10)\n",
    "        return(func(*args, **kwargs))\n",
    "        print(\"----\"*10)\n",
    "    return(inner)\n",
    "\n",
    "@more\n",
    "def somme(a,b):\n",
    "    return(a+b)\n",
    "\n",
    "\n",
    "somme(5,8)"
   ]
  },
  {
   "cell_type": "markdown",
   "metadata": {},
   "source": [
    "Decorators are wrapper around a function to increase it's functionality\n",
    "\n",
    "the @decorator is just a short way of saying:\n",
    "\n",
    "new_fct = decorator(old_fct)"
   ]
  },
  {
   "cell_type": "markdown",
   "metadata": {},
   "source": [
    "### Real examples"
   ]
  },
  {
   "cell_type": "code",
   "execution_count": 3,
   "metadata": {
    "ExecuteTime": {
     "end_time": "2020-02-17T14:26:39.679298Z",
     "start_time": "2020-02-17T14:26:39.668730Z"
    }
   },
   "outputs": [
    {
     "name": "stdout",
     "output_type": "stream",
     "text": [
      "Code has started\n",
      "hello\n",
      "hello\n",
      "hello\n",
      "hello\n",
      "hello\n",
      "hello\n",
      "hello\n",
      "hello\n",
      "hello\n",
      "hello\n",
      "print_hello function took 3.04e-04s\n"
     ]
    }
   ],
   "source": [
    "import time\n",
    "from functools import wraps\n",
    "\n",
    "def print_execution_time(fct):\n",
    "    \n",
    "    @wraps(fct) # allows to keep the metadata of the decorated function\n",
    "    def wrapper(*args, **kwargs):\n",
    "        print(\"Code has started\")\n",
    "        start_time = time.time()\n",
    "        result = fct(*args, **kwargs) \n",
    "        print(\"{} function took {:.2e}s\".format(fct.__name__, time.time() - start_time))\n",
    "        return(result)\n",
    "        \n",
    "    return(wrapper)\n",
    "\n",
    "@print_execution_time\n",
    "def print_hello(num):\n",
    "    \"\"\"\n",
    "    print hello num times\n",
    "    \"\"\"\n",
    "    for i in range(num):\n",
    "        print(\"hello\")\n",
    "        \n",
    "print_hello(10)"
   ]
  },
  {
   "cell_type": "code",
   "execution_count": 156,
   "metadata": {
    "ExecuteTime": {
     "end_time": "2020-02-17T14:14:16.779083Z",
     "start_time": "2020-02-17T14:14:16.775966Z"
    }
   },
   "outputs": [
    {
     "name": "stdout",
     "output_type": "stream",
     "text": [
      "hello\n",
      "hello\n",
      "hello\n",
      "hello\n",
      "hello\n"
     ]
    }
   ],
   "source": [
    "print_hello.__wrapped__(5) # to call the function without the decoration"
   ]
  },
  {
   "cell_type": "code",
   "execution_count": 154,
   "metadata": {
    "ExecuteTime": {
     "end_time": "2020-02-17T14:08:04.663506Z",
     "start_time": "2020-02-17T14:08:04.658404Z"
    }
   },
   "outputs": [
    {
     "name": "stdout",
     "output_type": "stream",
     "text": [
      "print_hello\n",
      "\n",
      "    print hello num times\n",
      "    \n"
     ]
    }
   ],
   "source": [
    "print(print_hello.__name__)\n",
    "print(print_hello.__doc__) "
   ]
  },
  {
   "cell_type": "code",
   "execution_count": 142,
   "metadata": {
    "ExecuteTime": {
     "end_time": "2020-02-17T12:51:35.946009Z",
     "start_time": "2020-02-17T12:51:35.256648Z"
    }
   },
   "outputs": [
    {
     "ename": "TypeError",
     "evalue": "unhashable type: 'dict'",
     "output_type": "error",
     "traceback": [
      "\u001b[0;31m---------------------------------------------------------------------------\u001b[0m",
      "\u001b[0;31mTypeError\u001b[0m                                 Traceback (most recent call last)",
      "\u001b[0;32m<ipython-input-142-849044e2c228>\u001b[0m in \u001b[0;36m<module>\u001b[0;34m\u001b[0m\n\u001b[1;32m     18\u001b[0m     \u001b[0;32mreturn\u001b[0m\u001b[0;34m(\u001b[0m\u001b[0ma\u001b[0m\u001b[0;34m+\u001b[0m\u001b[0mb\u001b[0m\u001b[0;34m)\u001b[0m\u001b[0;34m\u001b[0m\u001b[0m\n\u001b[1;32m     19\u001b[0m \u001b[0;34m\u001b[0m\u001b[0m\n\u001b[0;32m---> 20\u001b[0;31m \u001b[0mslow_function\u001b[0m\u001b[0;34m(\u001b[0m\u001b[0;36m10\u001b[0m\u001b[0;34m,\u001b[0m\u001b[0;36m5\u001b[0m\u001b[0;34m)\u001b[0m\u001b[0;34m\u001b[0m\u001b[0m\n\u001b[0m",
      "\u001b[0;32m<ipython-input-142-849044e2c228>\u001b[0m in \u001b[0;36mwrapper\u001b[0;34m(*args, **kwargs)\u001b[0m\n\u001b[1;32m      6\u001b[0m     \u001b[0mcache\u001b[0m \u001b[0;34m=\u001b[0m \u001b[0;34m{\u001b[0m\u001b[0;34m}\u001b[0m\u001b[0;34m\u001b[0m\u001b[0m\n\u001b[1;32m      7\u001b[0m     \u001b[0;32mdef\u001b[0m \u001b[0mwrapper\u001b[0m\u001b[0;34m(\u001b[0m\u001b[0;34m*\u001b[0m\u001b[0margs\u001b[0m\u001b[0;34m,\u001b[0m \u001b[0;34m**\u001b[0m\u001b[0mkwargs\u001b[0m\u001b[0;34m)\u001b[0m\u001b[0;34m:\u001b[0m\u001b[0;34m\u001b[0m\u001b[0m\n\u001b[0;32m----> 8\u001b[0;31m         \u001b[0;32mif\u001b[0m \u001b[0;34m(\u001b[0m\u001b[0margs\u001b[0m\u001b[0;34m,\u001b[0m \u001b[0mkwargs\u001b[0m\u001b[0;34m)\u001b[0m \u001b[0;32mnot\u001b[0m \u001b[0;32min\u001b[0m \u001b[0mcache\u001b[0m\u001b[0;34m:\u001b[0m\u001b[0;34m\u001b[0m\u001b[0m\n\u001b[0m\u001b[1;32m      9\u001b[0m             \u001b[0mcache\u001b[0m\u001b[0;34m[\u001b[0m\u001b[0;34m(\u001b[0m\u001b[0margs\u001b[0m\u001b[0;34m,\u001b[0m \u001b[0mkwargs\u001b[0m\u001b[0;34m)\u001b[0m\u001b[0;34m]\u001b[0m \u001b[0;34m=\u001b[0m \u001b[0mfunc\u001b[0m\u001b[0;34m(\u001b[0m\u001b[0;34m*\u001b[0m\u001b[0margs\u001b[0m\u001b[0;34m,\u001b[0m \u001b[0;34m**\u001b[0m\u001b[0mkwargs\u001b[0m\u001b[0;34m)\u001b[0m\u001b[0;34m\u001b[0m\u001b[0m\n\u001b[1;32m     10\u001b[0m         \u001b[0;32mreturn\u001b[0m\u001b[0;34m(\u001b[0m\u001b[0mcache\u001b[0m\u001b[0;34m[\u001b[0m\u001b[0;34m(\u001b[0m\u001b[0margs\u001b[0m\u001b[0;34m,\u001b[0m \u001b[0mkwargs\u001b[0m\u001b[0;34m)\u001b[0m\u001b[0;34m]\u001b[0m\u001b[0;34m)\u001b[0m\u001b[0;34m\u001b[0m\u001b[0m\n",
      "\u001b[0;31mTypeError\u001b[0m: unhashable type: 'dict'"
     ]
    }
   ],
   "source": [
    "def memoize(func):\n",
    "    \"\"\"\n",
    "    Store the result of decorated function in a dictionary for fast lookup\n",
    "    \"\"\"\n",
    "    \n",
    "    cache = {}\n",
    "    def wrapper(*args, **kwargs):\n",
    "        if (args, kwargs) not in cache:\n",
    "            cache[(args, kwargs)] = func(*args, **kwargs)\n",
    "        return(cache[(args, kwargs)])\n",
    "\n",
    "    return(wrapper)\n",
    "\n",
    "@memoize\n",
    "def slow_function(a,b):\n",
    "    print(\"Sleeping\")\n",
    "    time.sleep(2)\n",
    "    return(a+b)\n",
    "\n",
    "slow_function(10,5)"
   ]
  },
  {
   "cell_type": "markdown",
   "metadata": {},
   "source": [
    "### Decorators with parameters"
   ]
  },
  {
   "cell_type": "code",
   "execution_count": 159,
   "metadata": {
    "ExecuteTime": {
     "end_time": "2020-02-17T14:18:48.444838Z",
     "start_time": "2020-02-17T14:18:48.437723Z"
    }
   },
   "outputs": [
    {
     "name": "stdout",
     "output_type": "stream",
     "text": [
      "Hello Ben\n",
      "Hello Ben\n",
      "Hello Ben\n"
     ]
    }
   ],
   "source": [
    "def run_n_times(n):\n",
    "    def decorator(func):\n",
    "        def wrapper(*args, **kwargs):\n",
    "            for _ in range(n):\n",
    "                func(*args, **kwargs)\n",
    "        return(wrapper)\n",
    "    return(decorator)\n",
    "\n",
    "@run_n_times(3)\n",
    "def pp(string):\n",
    "    print(\"Hello \" + string)\n",
    "    \n",
    "pp(\"Ben\")"
   ]
  },
  {
   "cell_type": "code",
   "execution_count": 7,
   "metadata": {
    "ExecuteTime": {
     "end_time": "2020-02-17T14:29:39.381718Z",
     "start_time": "2020-02-17T14:29:37.373802Z"
    }
   },
   "outputs": [
    {
     "name": "stdout",
     "output_type": "stream",
     "text": [
      "foo!\n"
     ]
    }
   ],
   "source": [
    "import signal\n",
    "\n",
    "def raise_timeout(*args, **kwargs):\n",
    "    raise TimeoutError()\n",
    "    \n",
    "signal.signal(signalnum = signal.SIGALRM, handler=raise_timeout)\n",
    "\n",
    "def timeout(n_seconds):\n",
    "    \n",
    "    def decorator(func):\n",
    "        @wraps(func)\n",
    "        def wrapper(*args, **kwargs):\n",
    "            signal.alarm(n_seconds)\n",
    "            try:\n",
    "                return(func(*args, **kwargs))\n",
    "            finally:\n",
    "                signal.alarm(0) # to kill the alarm\n",
    "        return(wrapper)\n",
    "    return(decorator)\n",
    "\n",
    "@timeout(3)\n",
    "def foo():\n",
    "    time.sleep(2)\n",
    "    print(\"foo!\")\n",
    "    \n",
    "foo()"
   ]
  },
  {
   "cell_type": "markdown",
   "metadata": {},
   "source": [
    "## Generators & iterators"
   ]
  },
  {
   "cell_type": "code",
   "execution_count": 2,
   "metadata": {
    "ExecuteTime": {
     "end_time": "2019-03-13T10:34:17.014642Z",
     "start_time": "2019-03-13T10:34:17.007739Z"
    }
   },
   "outputs": [
    {
     "name": "stdout",
     "output_type": "stream",
     "text": [
      "Je m'initialise à 40\n",
      "On a appelé __iter__\n",
      "On a appelé __next__\n",
      "42\n",
      "On a appelé __next__\n",
      "44\n",
      "On a appelé __next__\n",
      "46\n",
      "On a appelé __next__\n",
      "48\n",
      "On a appelé __next__\n",
      "50\n",
      "On a appelé __next__\n",
      "52\n",
      "On a appelé __next__\n",
      "54\n",
      "On a appelé __next__\n",
      "56\n",
      "On a appelé __next__\n"
     ]
    }
   ],
   "source": [
    "class MyIterator:\n",
    "\n",
    "    def __init__(self):\n",
    "\n",
    "        print(\"Je m'initialise à 40\")\n",
    "        self.i = 40\n",
    "\n",
    "    def __iter__(self):\n",
    "\n",
    "        print(\"On a appelé __iter__\")\n",
    "        return self\n",
    "\n",
    "    def __next__(self):\n",
    "\n",
    "        print(\"On a appelé __next__\")\n",
    "        self.i += 2\n",
    "        if self.i > 56 :\n",
    "            raise StopIteration()\n",
    "\n",
    "        return self.i\n",
    "    \n",
    "for x in MyIterator():\n",
    "    print(x)"
   ]
  },
  {
   "cell_type": "code",
   "execution_count": 1,
   "metadata": {
    "ExecuteTime": {
     "end_time": "2019-03-13T10:32:28.978473Z",
     "start_time": "2019-03-13T10:32:28.974369Z"
    }
   },
   "outputs": [
    {
     "name": "stdout",
     "output_type": "stream",
     "text": [
      "42\n",
      "44\n",
      "46\n",
      "48\n",
      "50\n",
      "52\n",
      "54\n",
      "56\n",
      "58\n"
     ]
    }
   ],
   "source": [
    "def my_generator():\n",
    "\n",
    "    i = 40\n",
    "\n",
    "    while i <= 56:\n",
    "\n",
    "        i += 2\n",
    "\n",
    "        yield i\n",
    "        \n",
    "for x in my_generator():\n",
    "    print(x)"
   ]
  },
  {
   "cell_type": "markdown",
   "metadata": {},
   "source": [
    "L'intérêt des générateurs et de ne pas avoir à stocker un grand nombre de données dans une variable si on sait qu'on va encore filtrer par la suite"
   ]
  },
  {
   "cell_type": "code",
   "execution_count": 4,
   "metadata": {
    "ExecuteTime": {
     "end_time": "2019-03-13T10:40:07.005914Z",
     "start_time": "2019-03-13T10:40:06.994825Z"
    }
   },
   "outputs": [
    {
     "name": "stdout",
     "output_type": "stream",
     "text": [
      "'words' est encore un générateur. Le texte n'a toujours pas été lu\n",
      "L'opération suivante va lancer la lecture du texte: \n",
      "Je commence à lire le texte maintenant\n"
     ]
    },
    {
     "data": {
      "text/plain": [
       "['sénateur',\n",
       " 'inattentive',\n",
       " 'obstacle',\n",
       " 'marché',\n",
       " 'avancement',\n",
       " 'ancien',\n",
       " 'attendri',\n",
       " 'méchant',\n",
       " 'rendant',\n",
       " 'pouvait',\n",
       " 'parents',\n",
       " 'sagement',\n",
       " 'occasions',\n",
       " 'aubaines',\n",
       " 'semblait',\n",
       " 'Pigault',\n",
       " 'Misérables']"
      ]
     },
     "execution_count": 4,
     "metadata": {},
     "output_type": "execute_result"
    }
   ],
   "source": [
    "big_data = \"\"\"Le sénateur, dont il a été parlé plus haut, était un homme entendu qui \n",
    "    avait fait son chemin avec une rectitude inattentive à toutes ces rencontres qui font \n",
    "    obstacle et qu'on nomme conscience, foi jurée, justice, devoir; il avait marché droit à \n",
    "    son but et sans broncher une seule fois dans la ligne de son avancement et de son intérêt. \n",
    "    C'était un ancien procureur, attendri par le succès, pas méchant homme du tout, rendant \n",
    "    tous les petits services qu'il pouvait à ses fils, à ses gendres, à ses parents, même à \n",
    "    des amis; ayant sagement pris de la vie les bons côtés, les bonnes occasions, les bonnes \n",
    "    aubaines. Le reste lui semblait assez bête. Il était spirituel, et juste assez lettré \n",
    "    pour se croire un disciple d'Epicure en n'étant peut-être qu'un produit de Pigault-Lebrun.\n",
    "    [...]\n",
    "    (Les Misérables, Victor Hugo)\n",
    "    \"\"\"\n",
    "\n",
    "import re\n",
    "\n",
    "def is_part_of_a_word(character):\n",
    "    return len(re.findall('\\w', character, flags = re.UNICODE))  \n",
    "\n",
    "def get_words(text):\n",
    "    print(\"Je commence à lire le texte maintenant\")\n",
    "    \n",
    "    current_word = \"\"\n",
    "    for character in text:\n",
    "        if not is_part_of_a_word(character):\n",
    "            if current_word != \"\":\n",
    "                yield current_word\n",
    "                current_word = \"\"\n",
    "        else:\n",
    "            current_word += character\n",
    "\n",
    "def filter_by_size(words, min_size):\n",
    "    return (w for w in words if len(w) >= min_size)\n",
    "\n",
    "def filter_by_letters(words, char):\n",
    "    return (w for w in words if char in w)\n",
    "         \n",
    "    \n",
    "words = get_words(big_data)\n",
    "words = filter_by_size(words, 6)\n",
    "words = filter_by_letters(words, \"a\")\n",
    "print(\"'words' est encore un générateur. Le texte n'a toujours pas été lu\")\n",
    "        \n",
    "print(\"L'opération suivante va lancer la lecture du texte: \")\n",
    "[w for w in words]"
   ]
  },
  {
   "cell_type": "code",
   "execution_count": 8,
   "metadata": {
    "ExecuteTime": {
     "end_time": "2019-03-13T10:50:11.450221Z",
     "start_time": "2019-03-13T10:50:11.442800Z"
    }
   },
   "outputs": [
    {
     "ename": "NameError",
     "evalue": "name 'datafile' is not defined",
     "output_type": "error",
     "traceback": [
      "\u001b[0;31m---------------------------------------------------------------------------\u001b[0m",
      "\u001b[0;31mNameError\u001b[0m                                 Traceback (most recent call last)",
      "\u001b[0;32m<ipython-input-8-6f63a992368a>\u001b[0m in \u001b[0;36m<module>\u001b[0;34m\u001b[0m\n\u001b[0;32m----> 1\u001b[0;31m \u001b[0;32mif\u001b[0m \u001b[0mdatafile\u001b[0m \u001b[0;32mis\u001b[0m \u001b[0;32mNone\u001b[0m\u001b[0;34m:\u001b[0m\u001b[0;34m\u001b[0m\u001b[0m\n\u001b[0m\u001b[1;32m      2\u001b[0m     \u001b[0mprint\u001b[0m\u001b[0;34m(\u001b[0m\u001b[0;34m\"nothing\"\u001b[0m\u001b[0;34m)\u001b[0m\u001b[0;34m\u001b[0m\u001b[0m\n",
      "\u001b[0;31mNameError\u001b[0m: name 'datafile' is not defined"
     ]
    }
   ],
   "source": [
    "if datafile is None:\n",
    "    print(\"nothing\")"
   ]
  },
  {
   "cell_type": "markdown",
   "metadata": {},
   "source": [
    "# Packages"
   ]
  },
  {
   "cell_type": "markdown",
   "metadata": {},
   "source": [
    "## os"
   ]
  },
  {
   "cell_type": "code",
   "execution_count": 1,
   "metadata": {
    "ExecuteTime": {
     "end_time": "2019-10-30T12:36:05.396322Z",
     "start_time": "2019-10-30T12:36:05.393303Z"
    }
   },
   "outputs": [],
   "source": [
    "import os"
   ]
  },
  {
   "cell_type": "code",
   "execution_count": 2,
   "metadata": {
    "ExecuteTime": {
     "end_time": "2019-10-30T12:36:05.415862Z",
     "start_time": "2019-10-30T12:36:05.400200Z"
    }
   },
   "outputs": [
    {
     "data": {
      "text/plain": [
       "'/work/jupyterhub/id860112/Playground'"
      ]
     },
     "execution_count": 2,
     "metadata": {},
     "output_type": "execute_result"
    }
   ],
   "source": [
    "os.getcwd()"
   ]
  },
  {
   "cell_type": "code",
   "execution_count": 67,
   "metadata": {
    "ExecuteTime": {
     "end_time": "2019-10-30T12:35:44.786663Z",
     "start_time": "2019-10-30T12:35:44.783914Z"
    }
   },
   "outputs": [],
   "source": [
    "os.chdir('../RWMI')\n",
    "os.getcwd()"
   ]
  },
  {
   "cell_type": "code",
   "execution_count": 4,
   "metadata": {
    "ExecuteTime": {
     "end_time": "2019-10-30T12:37:02.628432Z",
     "start_time": "2019-10-30T12:37:02.623443Z"
    }
   },
   "outputs": [],
   "source": [
    "os.mkdir('testdir')\n",
    "# os.makedirs('level1dir/level2dir')\n",
    "\n",
    "os.rmdir('testdir')\n",
    "# os.removedirs('level1dir/level2dir')\n",
    "\n",
    "# os.rename('newDir','newDir2')"
   ]
  },
  {
   "cell_type": "code",
   "execution_count": 29,
   "metadata": {
    "ExecuteTime": {
     "end_time": "2019-10-30T12:55:25.873113Z",
     "start_time": "2019-10-30T12:55:25.869582Z"
    }
   },
   "outputs": [
    {
     "data": {
      "text/plain": [
       "['Iris.ipynb',\n",
       " '.ipynb_checkpoints',\n",
       " 'mpg.ipynb',\n",
       " 'NN.ipynb',\n",
       " 'DC_suivi_Py.ipynb']"
      ]
     },
     "execution_count": 29,
     "metadata": {},
     "output_type": "execute_result"
    }
   ],
   "source": [
    "os.listdir()[:5]"
   ]
  },
  {
   "cell_type": "code",
   "execution_count": 14,
   "metadata": {
    "ExecuteTime": {
     "end_time": "2019-10-30T12:39:37.283408Z",
     "start_time": "2019-10-30T12:39:37.276486Z"
    }
   },
   "outputs": [
    {
     "data": {
      "text/plain": [
       "('/work/jupyterhub/id860112/',\n",
       " ['.ipynb_checkpoints',\n",
       "  'envs',\n",
       "  'pkgs',\n",
       "  'Functions',\n",
       "  'Playground',\n",
       "  'Intervention_time',\n",
       "  'PPA_2017-reduce-wasteful-prf-interventions',\n",
       "  'rwpi',\n",
       "  'RWMI',\n",
       "  'Standardization'],\n",
       " ['useful conda commands.ipynb',\n",
       "  'Clean_up_tmp_Spark_directory.ipynb',\n",
       "  'Clean_up_your_Conda_disk_usage.ipynb',\n",
       "  'Connection_to_oracle_DB.ipynb',\n",
       "  'How_to_generate_Kerberos_ticket_using_Python_in_JupyterHub.ipynb',\n",
       "  'packages_installation.ipynb',\n",
       "  'PySpark_ connections.ipynb',\n",
       "  'TeraData_query.ipynb',\n",
       "  'Access_DL_MELT.ipynb',\n",
       "  'papermill_test.ipynb',\n",
       "  'make_datascience_structure_folders.sh',\n",
       "  'freeze_requirements.ipynb'])"
      ]
     },
     "execution_count": 14,
     "metadata": {},
     "output_type": "execute_result"
    }
   ],
   "source": [
    "next(os.walk(\"/work/jupyterhub/id860112/\"))"
   ]
  },
  {
   "cell_type": "code",
   "execution_count": 28,
   "metadata": {
    "ExecuteTime": {
     "end_time": "2019-10-30T12:45:02.627177Z",
     "start_time": "2019-10-30T12:45:02.613351Z"
    }
   },
   "outputs": [
    {
     "name": "stdout",
     "output_type": "stream",
     "text": [
      "AirQualityUCI.csv\n",
      "data.csv\n",
      "diabetes.csv\n",
      "character-predictions.csv\n",
      "heart.csv\n",
      "heart_cleaned.csv\n",
      "uli.csv\n",
      "ESS1-8e01.csv\n",
      "fleurs_complete.csv\n",
      "sansmodif.csv\n",
      "table.csv\n",
      "breast_cancer_data.csv\n"
     ]
    }
   ],
   "source": [
    "for root, dirs, files in os.walk(os.getcwd()):\n",
    "    for file in files:\n",
    "        if file.endswith(\".csv\"):\n",
    "            print(file)\n",
    "            list_states.append(pd.read_csv(root+'/'+file, index_col=None))\n",
    "\n",
    "merge_data = pd.concat(list_states[0:])"
   ]
  },
  {
   "cell_type": "code",
   "execution_count": 66,
   "metadata": {
    "ExecuteTime": {
     "end_time": "2019-10-30T12:34:43.317119Z",
     "start_time": "2019-10-30T12:34:42.392532Z"
    }
   },
   "outputs": [
    {
     "data": {
      "text/plain": [
       "{'In': ['',\n",
       "  'import pandas as pd\\nimport matplotlib.pyplot as plt\\nimport seaborn as sns\\nimport numpy as np\\nimport time\\nfrom sklearn import datasets\\n\\nimport scikitplot as skplt',\n",
       "  'import pyodbc\\n\\nquery = \"SEL top 500 contact_phone_number FROM D0_BUS_EUDS_APPV.APP_PPADS_R_RWMI\"\\n\\nwith pyodbc.connect(driver=\\'Teradata\\', dbcname=\\'dwhp\\', uid=\"id860112\", pwd=\"Phynix_777\") as conn:\\n        conn.setdecoding(pyodbc.SQL_CHAR, encoding=\\'CP1252\\')\\n        rawdata = pd.read_sql(query, conn) \\n\\nprint(\"Training Data has been imported successfully\")\\nprint(rawdata.shape)',\n",
       "  'import pyodbc\\n\\nquery = \"SEL top 500 contact_phon_number FROM D0_BUS_EUDS_APPV.APP_PPADS_R_RWMI\"\\n\\nwith pyodbc.connect(driver=\\'Teradata\\', dbcname=\\'dwhp\\', uid=\"id860112\", pwd=\"Phynix_777\") as conn:\\n        conn.setdecoding(pyodbc.SQL_CHAR, encoding=\\'CP1252\\')\\n        rawdata = pd.read_sql(query, conn) \\n\\nprint(\"Training Data has been imported successfully\")\\nprint(rawdata.shape)',\n",
       "  'rawdata.head()',\n",
       "  'rawdata.head(20)',\n",
       "  'rawdata.head(40)',\n",
       "  'rawdata[\"length\"] = len(rawdata[\"CONTACT_PHON_NUMBER\"])',\n",
       "  'rawdata',\n",
       "  'rawdata[\"CONTACT_PHON_NUMBER\"].apply(len)',\n",
       "  'rawdata[\"CONTACT_PHON_NUMBER\"]dropna().apply(len)',\n",
       "  'rawdata[\"CONTACT_PHON_NUMBER\"].dropna().apply(len)',\n",
       "  'rawdata[\"length\"] = rawdata[\"CONTACT_PHON_NUMBER\"].dropna().apply(len)',\n",
       "  'rawdata[rawdata[\"length\"] > 9]',\n",
       "  'rawdata[rawdata[\"length\"] > 10]',\n",
       "  'bad_phone = rawdata[rawdata[\"length\"] > 10].copy()',\n",
       "  'bad_phone',\n",
       "  'bad_phone[0]',\n",
       "  'bad_phone[58]',\n",
       "  'bad_phone',\n",
       "  'bad_phone.loc[58,:]',\n",
       "  'bad_phone[\"CONTACT_PHON_NUMBER\"]',\n",
       "  'bad_phone[\"CONTACT_PHON_NUMBER\"][0]',\n",
       "  'bad_phone[\"CONTACT_PHON_NUMBER\"][58]',\n",
       "  'example = bad_phone[\"CONTACT_PHON_NUMBER\"][58]',\n",
       "  'example',\n",
       "  'example[0:2]',\n",
       "  'example2 = example',\n",
       "  \"example2 = '+' + example2[2:]\",\n",
       "  'example2',\n",
       "  \"def clean_phone_number(phone_num):\\n    \\n    cleaned_num = phone_num\\n    \\n    if len(cleaned_num) > 10:\\n        if cleaned_num[:2] == '00':\\n            cleaned_num = '+' + cleaned_num[2:]\\n            \\n    return(cleaned_num)\",\n",
       "  'bad_phone',\n",
       "  'bad_phone[\"CONTACT_PHON_NUMBER\"].apply(clean_phone_number)',\n",
       "  'bad_phone[\"cleaned\"] =bad_phone[\"CONTACT_PHON_NUMBER\"].apply(clean_phone_number)',\n",
       "  'bad_phone',\n",
       "  'rawdata.apply(clean_phone_number)',\n",
       "  'rawdata[\"CONTACT_PHON_NUMBER\"].apply(clean_phone_number)',\n",
       "  'rawdata[\"CONTACT_PHON_NUMBER\"].dropna().apply(clean_phone_number)',\n",
       "  'rawdata',\n",
       "  'rawdata[\"cleaned\"] =rawdata[\"CONTACT_PHON_NUMBER\"].apply(clean_phone_number)',\n",
       "  'rawdata.dropna(inplace=True)\\n\\nrawdata[\"cleaned\"] = rawdata[\"CONTACT_PHON_NUMBER\"].apply(clean_phone_number)',\n",
       "  'from openpyxl import Workbook\\nfrom openpyxl.utils.dataframe import dataframe_to_rows\\n\\nwb = Workbook()\\nws = wb.active\\n\\nfor r in dataframe_to_rows(rawdata, index=False, header=True):\\n    ws.append(r)\\n\\nwb.save(filename = \"test.xlsx\")',\n",
       "  'import pyodbc\\n\\nquery = \"SEL top 500 contact_phon_number FROM D0_BUS_EUDS_APPV.APP_PPADS_R_RWMI\"\\n\\nwith pyodbc.connect(driver=\\'Teradata\\', dbcname=\\'dwhp\\', uid=\"id860112\", pwd=\"Phynix_777\") as conn:\\n        conn.setdecoding(pyodbc.SQL_CHAR, encoding=\\'CP1252\\')\\n        rawdata = pd.read_sql(query, conn) \\n\\nprint(\"Training Data has been imported successfully\")\\nprint(rawdata.shape)',\n",
       "  'rawdata.fillna(\"Missing\", inplace=True)\\n\\nrawdata[\"cleaned\"] = rawdata[\"CONTACT_PHON_NUMBER\"].apply(clean_phone_number)',\n",
       "  'from openpyxl import Workbook\\nfrom openpyxl.utils.dataframe import dataframe_to_rows\\n\\nwb = Workbook()\\nws = wb.active\\n\\nfor r in dataframe_to_rows(rawdata, index=False, header=True):\\n    ws.append(r)\\n\\nwb.save(filename = \"test.xlsx\")',\n",
       "  'rawdata.info()',\n",
       "  '(1,2,5).apply(str)',\n",
       "  'str((1,2))',\n",
       "  'map(str, (1,5,3))',\n",
       "  'tuple(map(str, (1,5,3)))',\n",
       "  '[1,2,3].apply(str)',\n",
       "  'list(map(str, [1,2,3]))',\n",
       "  'pd.read_csv(\"/work/jupyterhub/id860112/RWMI/PPA_2019-rwmi/\" + \"data/predictions/flagged_wo_on_\" + dt.date.today().strftime(\"%d_%m_%Y\") + \".csv\")',\n",
       "  'import datetime as dt\\npd.read_csv(\"/work/jupyterhub/id860112/RWMI/PPA_2019-rwmi/\" + \"data/predictions/flagged_wo_on_\" + dt.date.today().strftime(\"%d_%m_%Y\") + \".csv\")',\n",
       "  'import datetime as dt\\ndf = pd.read_csv(\"/work/jupyterhub/id860112/RWMI/PPA_2019-rwmi/\" + \"data/predictions/flagged_wo_on_\" + dt.date.today().strftime(\"%d_%m_%Y\") + \".csv\")',\n",
       "  'df.head()',\n",
       "  'import datetime as dt\\ndf = pd.read_csv(\"/work/jupyterhub/id860112/RWMI/PPA_2019-rwmi/\" + \"data/predictions/flagged_wo_on_\" + dt.date.today().strftime(\"%d_%m_%Y\") + \".csv\",\\n                converters={\\'CONTACT_PHON_NUMBER\\': lambda x: str(x)})',\n",
       "  'df.head()',\n",
       "  'import datetime as dt\\ndf = pd.read_csv(\"/work/jupyterhub/id860112/RWMI/PPA_2019-rwmi/\" + \"data/predictions/flagged_wo_on_\" + dt.date.today().strftime(\"%d_%m_%Y\") + \".csv\"',\n",
       "  'df.head()',\n",
       "  'import datetime as dt\\ndf = pd.read_csv(\"/work/jupyterhub/id860112/RWMI/PPA_2019-rwmi/\" + \"data/predictions/flagged_wo_on_\" + dt.date.today().strftime(\"%d_%m_%Y\") + \".csv\")',\n",
       "  'df.head()',\n",
       "  'os.listdir()[:5]',\n",
       "  'import os',\n",
       "  'os.getcwd()',\n",
       "  'os.listdir()[:5]',\n",
       "  'globals()'],\n",
       " 'Out': {4:   CONTACT_PHON_NUMBER\n",
       "  0          0474834821\n",
       "  1          0499191769\n",
       "  2          0472893211\n",
       "  3          0483692513\n",
       "  4                None, 5:    CONTACT_PHON_NUMBER\n",
       "  0           0474834821\n",
       "  1           0499191769\n",
       "  2           0472893211\n",
       "  3           0483692513\n",
       "  4                 None\n",
       "  5           0475968574\n",
       "  6           0499226407\n",
       "  7           0486351660\n",
       "  8           0474256001\n",
       "  9                 None\n",
       "  10          0473217520\n",
       "  11          0475417917\n",
       "  12          0474109378\n",
       "  13          0468115973\n",
       "  14          0476094479\n",
       "  15          0495311829\n",
       "  16          0495311829\n",
       "  17          0465802045\n",
       "  18          0497182436\n",
       "  19          0475324699, 6:    CONTACT_PHON_NUMBER\n",
       "  0           0474834821\n",
       "  1           0499191769\n",
       "  2           0472893211\n",
       "  3           0483692513\n",
       "  4                 None\n",
       "  5           0475968574\n",
       "  6           0499226407\n",
       "  7           0486351660\n",
       "  8           0474256001\n",
       "  9                 None\n",
       "  10          0473217520\n",
       "  11          0475417917\n",
       "  12          0474109378\n",
       "  13          0468115973\n",
       "  14          0476094479\n",
       "  15          0495311829\n",
       "  16          0495311829\n",
       "  17          0465802045\n",
       "  18          0497182436\n",
       "  19          0475324699\n",
       "  20          0476219288\n",
       "  21          0479317781\n",
       "  22          0495321062\n",
       "  23          0478206045\n",
       "  24          0472849013\n",
       "  25          0476666836\n",
       "  26          0474275719\n",
       "  27          0473936446\n",
       "  28           011450460\n",
       "  29          0497698212\n",
       "  30          0476868296\n",
       "  31          0489288783\n",
       "  32          0498564367\n",
       "  33          0467703961\n",
       "  34          0476277348\n",
       "  35          0477494016\n",
       "  36          0474741486\n",
       "  37          0471342797\n",
       "  38           023459294\n",
       "  39          0496914339, 8:     CONTACT_PHON_NUMBER  length     cleaned\n",
       "  0            0474834821    10.0  0474834821\n",
       "  1            0499191769    10.0  0499191769\n",
       "  2            0472893211    10.0  0472893211\n",
       "  3            0483692513    10.0  0483692513\n",
       "  5            0475968574    10.0  0475968574\n",
       "  6            0499226407    10.0  0499226407\n",
       "  7            0486351660    10.0  0486351660\n",
       "  8            0474256001    10.0  0474256001\n",
       "  10           0473217520    10.0  0473217520\n",
       "  11           0475417917    10.0  0475417917\n",
       "  12           0474109378    10.0  0474109378\n",
       "  13           0468115973    10.0  0468115973\n",
       "  14           0476094479    10.0  0476094479\n",
       "  15           0495311829    10.0  0495311829\n",
       "  16           0495311829    10.0  0495311829\n",
       "  17           0465802045    10.0  0465802045\n",
       "  18           0497182436    10.0  0497182436\n",
       "  19           0475324699    10.0  0475324699\n",
       "  20           0476219288    10.0  0476219288\n",
       "  21           0479317781    10.0  0479317781\n",
       "  22           0495321062    10.0  0495321062\n",
       "  23           0478206045    10.0  0478206045\n",
       "  24           0472849013    10.0  0472849013\n",
       "  25           0476666836    10.0  0476666836\n",
       "  26           0474275719    10.0  0474275719\n",
       "  27           0473936446    10.0  0473936446\n",
       "  28            011450460     9.0   011450460\n",
       "  29           0497698212    10.0  0497698212\n",
       "  30           0476868296    10.0  0476868296\n",
       "  31           0489288783    10.0  0489288783\n",
       "  ..                  ...     ...         ...\n",
       "  469          0474122044    10.0  0474122044\n",
       "  470          0470811607    10.0  0470811607\n",
       "  471          0477596634    10.0  0477596634\n",
       "  472          0474982504    10.0  0474982504\n",
       "  473          0497893627    10.0  0497893627\n",
       "  474          0497893627    10.0  0497893627\n",
       "  475          0476650686    10.0  0476650686\n",
       "  476          0476650686    10.0  0476650686\n",
       "  477          0474630297    10.0  0474630297\n",
       "  478          0487160328    10.0  0487160328\n",
       "  479          0477223364    10.0  0477223364\n",
       "  480          0497156789    10.0  0497156789\n",
       "  481          0493206330    10.0  0493206330\n",
       "  482          0495578422    10.0  0495578422\n",
       "  483          0496533209    10.0  0496533209\n",
       "  484          0497872227    10.0  0497872227\n",
       "  485          0476541248    10.0  0476541248\n",
       "  486          0499341110    10.0  0499341110\n",
       "  487          0476246108    10.0  0476246108\n",
       "  489          0497859282    10.0  0497859282\n",
       "  490          0474417177    10.0  0474417177\n",
       "  491          0472267357    10.0  0472267357\n",
       "  492          0473692676    10.0  0473692676\n",
       "  493          0486998744    10.0  0486998744\n",
       "  494          0471082430    10.0  0471082430\n",
       "  495          0474174984    10.0  0474174984\n",
       "  496          0478574497    10.0  0478574497\n",
       "  497          0477073591    10.0  0477073591\n",
       "  498          0498278926    10.0  0498278926\n",
       "  499          0472956931    10.0  0472956931\n",
       "  \n",
       "  [485 rows x 3 columns], 11: 0      10\n",
       "  1      10\n",
       "  2      10\n",
       "  3      10\n",
       "  5      10\n",
       "  6      10\n",
       "  7      10\n",
       "  8      10\n",
       "  10     10\n",
       "  11     10\n",
       "  12     10\n",
       "  13     10\n",
       "  14     10\n",
       "  15     10\n",
       "  16     10\n",
       "  17     10\n",
       "  18     10\n",
       "  19     10\n",
       "  20     10\n",
       "  21     10\n",
       "  22     10\n",
       "  23     10\n",
       "  24     10\n",
       "  25     10\n",
       "  26     10\n",
       "  27     10\n",
       "  28      9\n",
       "  29     10\n",
       "  30     10\n",
       "  31     10\n",
       "         ..\n",
       "  469    10\n",
       "  470    10\n",
       "  471    10\n",
       "  472    10\n",
       "  473    10\n",
       "  474    10\n",
       "  475    10\n",
       "  476    10\n",
       "  477    10\n",
       "  478    10\n",
       "  479    10\n",
       "  480    10\n",
       "  481    10\n",
       "  482    10\n",
       "  483    10\n",
       "  484    10\n",
       "  485    10\n",
       "  486    10\n",
       "  487    10\n",
       "  489    10\n",
       "  490    10\n",
       "  491    10\n",
       "  492    10\n",
       "  493    10\n",
       "  494    10\n",
       "  495    10\n",
       "  496    10\n",
       "  497    10\n",
       "  498    10\n",
       "  499    10\n",
       "  Name: CONTACT_PHON_NUMBER, Length: 485, dtype: int64, 13:     CONTACT_PHON_NUMBER  length\n",
       "  0            0474834821    10.0\n",
       "  1            0499191769    10.0\n",
       "  2            0472893211    10.0\n",
       "  3            0483692513    10.0\n",
       "  5            0475968574    10.0\n",
       "  6            0499226407    10.0\n",
       "  7            0486351660    10.0\n",
       "  8            0474256001    10.0\n",
       "  10           0473217520    10.0\n",
       "  11           0475417917    10.0\n",
       "  12           0474109378    10.0\n",
       "  13           0468115973    10.0\n",
       "  14           0476094479    10.0\n",
       "  15           0495311829    10.0\n",
       "  16           0495311829    10.0\n",
       "  17           0465802045    10.0\n",
       "  18           0497182436    10.0\n",
       "  19           0475324699    10.0\n",
       "  20           0476219288    10.0\n",
       "  21           0479317781    10.0\n",
       "  22           0495321062    10.0\n",
       "  23           0478206045    10.0\n",
       "  24           0472849013    10.0\n",
       "  25           0476666836    10.0\n",
       "  26           0474275719    10.0\n",
       "  27           0473936446    10.0\n",
       "  29           0497698212    10.0\n",
       "  30           0476868296    10.0\n",
       "  31           0489288783    10.0\n",
       "  32           0498564367    10.0\n",
       "  ..                  ...     ...\n",
       "  469          0474122044    10.0\n",
       "  470          0470811607    10.0\n",
       "  471          0477596634    10.0\n",
       "  472          0474982504    10.0\n",
       "  473          0497893627    10.0\n",
       "  474          0497893627    10.0\n",
       "  475          0476650686    10.0\n",
       "  476          0476650686    10.0\n",
       "  477          0474630297    10.0\n",
       "  478          0487160328    10.0\n",
       "  479          0477223364    10.0\n",
       "  480          0497156789    10.0\n",
       "  481          0493206330    10.0\n",
       "  482          0495578422    10.0\n",
       "  483          0496533209    10.0\n",
       "  484          0497872227    10.0\n",
       "  485          0476541248    10.0\n",
       "  486          0499341110    10.0\n",
       "  487          0476246108    10.0\n",
       "  489          0497859282    10.0\n",
       "  490          0474417177    10.0\n",
       "  491          0472267357    10.0\n",
       "  492          0473692676    10.0\n",
       "  493          0486998744    10.0\n",
       "  494          0471082430    10.0\n",
       "  495          0474174984    10.0\n",
       "  496          0478574497    10.0\n",
       "  497          0477073591    10.0\n",
       "  498          0498278926    10.0\n",
       "  499          0472956931    10.0\n",
       "  \n",
       "  [462 rows x 2 columns], 14:     CONTACT_PHON_NUMBER  length\n",
       "  58        0033769094615    13.0\n",
       "  64       00393393442704    14.0\n",
       "  110       0031646762560    13.0\n",
       "  158      00352621260149    14.0\n",
       "  184      00351621176161    14.0\n",
       "  217      00352621730355    14.0\n",
       "  220       0033659878921    13.0\n",
       "  274      00352691201271    14.0\n",
       "  307      00393663040699    14.0, 16:     CONTACT_PHON_NUMBER  length        cleaned\n",
       "  58        0033769094615    13.0   +33769094615\n",
       "  64       00393393442704    14.0  +393393442704\n",
       "  110       0031646762560    13.0   +31646762560\n",
       "  158      00352621260149    14.0  +352621260149\n",
       "  184      00351621176161    14.0  +351621176161\n",
       "  217      00352621730355    14.0  +352621730355\n",
       "  220       0033659878921    13.0   +33659878921\n",
       "  274      00352691201271    14.0  +352691201271\n",
       "  307      00393663040699    14.0  +393663040699, 19:     CONTACT_PHON_NUMBER  length        cleaned\n",
       "  58        0033769094615    13.0   +33769094615\n",
       "  64       00393393442704    14.0  +393393442704\n",
       "  110       0031646762560    13.0   +31646762560\n",
       "  158      00352621260149    14.0  +352621260149\n",
       "  184      00351621176161    14.0  +351621176161\n",
       "  217      00352621730355    14.0  +352621730355\n",
       "  220       0033659878921    13.0   +33659878921\n",
       "  274      00352691201271    14.0  +352691201271\n",
       "  307      00393663040699    14.0  +393663040699, 20: CONTACT_PHON_NUMBER    0033769094615\n",
       "  length                            13\n",
       "  Name: 58, dtype: object, 21: 58      0033769094615\n",
       "  64     00393393442704\n",
       "  110     0031646762560\n",
       "  158    00352621260149\n",
       "  184    00351621176161\n",
       "  217    00352621730355\n",
       "  220     0033659878921\n",
       "  274    00352691201271\n",
       "  307    00393663040699\n",
       "  Name: CONTACT_PHON_NUMBER, dtype: object, 23: '0033769094615', 25: '0033769094615', 26: '00', 29: '+33769094615', 31:     CONTACT_PHON_NUMBER  length        cleaned\n",
       "  58        0033769094615    13.0   +33769094615\n",
       "  64       00393393442704    14.0  +393393442704\n",
       "  110       0031646762560    13.0   +31646762560\n",
       "  158      00352621260149    14.0  +352621260149\n",
       "  184      00351621176161    14.0  +351621176161\n",
       "  217      00352621730355    14.0  +352621730355\n",
       "  220       0033659878921    13.0   +33659878921\n",
       "  274      00352691201271    14.0  +352691201271\n",
       "  307      00393663040699    14.0  +393663040699, 32: 58      +33769094615\n",
       "  64     +393393442704\n",
       "  110     +31646762560\n",
       "  158    +352621260149\n",
       "  184    +351621176161\n",
       "  217    +352621730355\n",
       "  220     +33659878921\n",
       "  274    +352691201271\n",
       "  307    +393663040699\n",
       "  Name: CONTACT_PHON_NUMBER, dtype: object, 34:     CONTACT_PHON_NUMBER  length        cleaned\n",
       "  58        0033769094615    13.0   +33769094615\n",
       "  64       00393393442704    14.0  +393393442704\n",
       "  110       0031646762560    13.0   +31646762560\n",
       "  158      00352621260149    14.0  +352621260149\n",
       "  184      00351621176161    14.0  +351621176161\n",
       "  217      00352621730355    14.0  +352621730355\n",
       "  220       0033659878921    13.0   +33659878921\n",
       "  274      00352691201271    14.0  +352691201271\n",
       "  307      00393663040699    14.0  +393663040699, 37: 0      0474834821\n",
       "  1      0499191769\n",
       "  2      0472893211\n",
       "  3      0483692513\n",
       "  5      0475968574\n",
       "  6      0499226407\n",
       "  7      0486351660\n",
       "  8      0474256001\n",
       "  10     0473217520\n",
       "  11     0475417917\n",
       "  12     0474109378\n",
       "  13     0468115973\n",
       "  14     0476094479\n",
       "  15     0495311829\n",
       "  16     0495311829\n",
       "  17     0465802045\n",
       "  18     0497182436\n",
       "  19     0475324699\n",
       "  20     0476219288\n",
       "  21     0479317781\n",
       "  22     0495321062\n",
       "  23     0478206045\n",
       "  24     0472849013\n",
       "  25     0476666836\n",
       "  26     0474275719\n",
       "  27     0473936446\n",
       "  28      011450460\n",
       "  29     0497698212\n",
       "  30     0476868296\n",
       "  31     0489288783\n",
       "            ...    \n",
       "  469    0474122044\n",
       "  470    0470811607\n",
       "  471    0477596634\n",
       "  472    0474982504\n",
       "  473    0497893627\n",
       "  474    0497893627\n",
       "  475    0476650686\n",
       "  476    0476650686\n",
       "  477    0474630297\n",
       "  478    0487160328\n",
       "  479    0477223364\n",
       "  480    0497156789\n",
       "  481    0493206330\n",
       "  482    0495578422\n",
       "  483    0496533209\n",
       "  484    0497872227\n",
       "  485    0476541248\n",
       "  486    0499341110\n",
       "  487    0476246108\n",
       "  489    0497859282\n",
       "  490    0474417177\n",
       "  491    0472267357\n",
       "  492    0473692676\n",
       "  493    0486998744\n",
       "  494    0471082430\n",
       "  495    0474174984\n",
       "  496    0478574497\n",
       "  497    0477073591\n",
       "  498    0498278926\n",
       "  499    0472956931\n",
       "  Name: CONTACT_PHON_NUMBER, Length: 485, dtype: object, 38:     CONTACT_PHON_NUMBER  length     cleaned\n",
       "  0            0474834821    10.0  0474834821\n",
       "  1            0499191769    10.0  0499191769\n",
       "  2            0472893211    10.0  0472893211\n",
       "  3            0483692513    10.0  0483692513\n",
       "  5            0475968574    10.0  0475968574\n",
       "  6            0499226407    10.0  0499226407\n",
       "  7            0486351660    10.0  0486351660\n",
       "  8            0474256001    10.0  0474256001\n",
       "  10           0473217520    10.0  0473217520\n",
       "  11           0475417917    10.0  0475417917\n",
       "  12           0474109378    10.0  0474109378\n",
       "  13           0468115973    10.0  0468115973\n",
       "  14           0476094479    10.0  0476094479\n",
       "  15           0495311829    10.0  0495311829\n",
       "  16           0495311829    10.0  0495311829\n",
       "  17           0465802045    10.0  0465802045\n",
       "  18           0497182436    10.0  0497182436\n",
       "  19           0475324699    10.0  0475324699\n",
       "  20           0476219288    10.0  0476219288\n",
       "  21           0479317781    10.0  0479317781\n",
       "  22           0495321062    10.0  0495321062\n",
       "  23           0478206045    10.0  0478206045\n",
       "  24           0472849013    10.0  0472849013\n",
       "  25           0476666836    10.0  0476666836\n",
       "  26           0474275719    10.0  0474275719\n",
       "  27           0473936446    10.0  0473936446\n",
       "  28            011450460     9.0   011450460\n",
       "  29           0497698212    10.0  0497698212\n",
       "  30           0476868296    10.0  0476868296\n",
       "  31           0489288783    10.0  0489288783\n",
       "  ..                  ...     ...         ...\n",
       "  469          0474122044    10.0  0474122044\n",
       "  470          0470811607    10.0  0470811607\n",
       "  471          0477596634    10.0  0477596634\n",
       "  472          0474982504    10.0  0474982504\n",
       "  473          0497893627    10.0  0497893627\n",
       "  474          0497893627    10.0  0497893627\n",
       "  475          0476650686    10.0  0476650686\n",
       "  476          0476650686    10.0  0476650686\n",
       "  477          0474630297    10.0  0474630297\n",
       "  478          0487160328    10.0  0487160328\n",
       "  479          0477223364    10.0  0477223364\n",
       "  480          0497156789    10.0  0497156789\n",
       "  481          0493206330    10.0  0493206330\n",
       "  482          0495578422    10.0  0495578422\n",
       "  483          0496533209    10.0  0496533209\n",
       "  484          0497872227    10.0  0497872227\n",
       "  485          0476541248    10.0  0476541248\n",
       "  486          0499341110    10.0  0499341110\n",
       "  487          0476246108    10.0  0476246108\n",
       "  489          0497859282    10.0  0497859282\n",
       "  490          0474417177    10.0  0474417177\n",
       "  491          0472267357    10.0  0472267357\n",
       "  492          0473692676    10.0  0473692676\n",
       "  493          0486998744    10.0  0486998744\n",
       "  494          0471082430    10.0  0471082430\n",
       "  495          0474174984    10.0  0474174984\n",
       "  496          0478574497    10.0  0478574497\n",
       "  497          0477073591    10.0  0477073591\n",
       "  498          0498278926    10.0  0498278926\n",
       "  499          0472956931    10.0  0472956931\n",
       "  \n",
       "  [485 rows x 3 columns], 47: '(1, 2)', 48: <map at 0x7f5444133c18>, 49: ('1',\n",
       "   '5',\n",
       "   '3'), 51: ['1',\n",
       "   '2',\n",
       "   '3'], 53:     PROV_WORK_ORDR_NUM   CUST_NUM MACRO_SEG CUST_LEG_LANG_CD PRODUCT_FAMILY  \\\n",
       "  0          202397723.0  620206602        SE           NL           INTERNET   \n",
       "  1          201962218.0  623194454       RES           FR                 TV   \n",
       "  2          201472916.0  616304667       RES           FR                 TV   \n",
       "  3          202326289.0  607047556       RES           FR                 TV   \n",
       "  4          202069273.0  615507099       RES           NL           INTERNET   \n",
       "  5          201687988.0  623060702       RES           NL                 TV   \n",
       "  6          202151021.0  623217786       RES           NL           INTERNET   \n",
       "  7          202161231.0  610857666       RES           FR                 TV   \n",
       "  8          202585550.0  623243053       RES           NL                 TV   \n",
       "  9          202536881.0  608744035       RES           FR                 TV   \n",
       "  10         201472122.0  620681072       RES           FR           INTERNET   \n",
       "  11         202804397.0  623187839       RES           NL                 TV   \n",
       "  12         202313236.0  623220421       RES           DE                 TV   \n",
       "  13         202611041.0  623238872       RES           NL                 TV   \n",
       "  14         202509952.0  620998770       RES           FR                 TV   \n",
       "  15         202228348.0  612073953       RES           NL           INTERNET   \n",
       "  16         197789539.0  607266596       RES           FR                 TV   \n",
       "  17         202449715.0  623236814       RES           FR           INTERNET   \n",
       "  18         202330814.0  608512432       RES           FR                 TV   \n",
       "  19         202515610.0  623240031       RES           NL                 TV   \n",
       "  20         202031117.0  623126980        SE           FR                 TV   \n",
       "  21         201895332.0  619800414       RES           FR           INTERNET   \n",
       "  22         202667621.0  623202267       RES           FR           INTERNET   \n",
       "  23         201701569.0  623033378       RES           FR                 TV   \n",
       "  24         201797867.0  623178906       RES           FR           INTERNET   \n",
       "  25         199108436.0  623020982       RES           FR                 TV   \n",
       "  26         202632144.0  623226739       RES           FR                 TV   \n",
       "  27         202622509.0  623217940       RES           FR                 TV   \n",
       "  28         202800456.0    2973613       RES           FR                 TV   \n",
       "  29         202608360.0  621084315       RES           NL                 TV   \n",
       "  ..                 ...        ...       ...              ...            ...   \n",
       "  70         201457539.0  607698750       RES           NL                 TV   \n",
       "  71         202528072.0  611448998       RES           FR                 TV   \n",
       "  72         201686018.0  608664383       RES           FR                 TV   \n",
       "  73         201882223.0  617106285       RES           FR                 TV   \n",
       "  74         201749308.0  623166532       RES           FR                 TV   \n",
       "  75         201532318.0  614026696       RES           FR                 TV   \n",
       "  76         202253197.0  623211072       RES           NL                 TV   \n",
       "  77         201459923.0    3070095       RES           FR                 TV   \n",
       "  78         202151283.0  622826649        SE           NL                 TV   \n",
       "  79         202560916.0  623194179       RES           FR           INTERNET   \n",
       "  80         201856579.0  609122193       RES           FR                 TV   \n",
       "  81         202171155.0  618320429       RES           FR                 TV   \n",
       "  82         202367116.0  623232005       RES           NL                 TV   \n",
       "  83         202482589.0  175553533        SE           NL           INTERNET   \n",
       "  84         202807754.0  623225414       RES           NL                 TV   \n",
       "  85         201611130.0  622990078       RES           FR                 TV   \n",
       "  86         202280508.0  620877079       RES           FR                 TV   \n",
       "  87         198535375.0  616637125        SE           FR           INTERNET   \n",
       "  88         202070604.0  620846136        SE           FR               PSTN   \n",
       "  89         202489155.0  615738781       RES           FR                 TV   \n",
       "  90         202590242.0  623242315       RES           FR                 TV   \n",
       "  91         202751259.0    4016092        SE           FR                 TV   \n",
       "  92         202752845.0  623122337       RES           NL                 TV   \n",
       "  93         202279078.0  614199160       RES           FR                 TV   \n",
       "  94         202279697.0  615215730        SE           NL           INTERNET   \n",
       "  95         202506527.0  622653437       RES           FR           INTERNET   \n",
       "  96         202743632.0  614148471       RES           FR                 TV   \n",
       "  97         202480674.0  620914550        SE           FR                 TV   \n",
       "  98         201994761.0  616557855       RES           FR                 TV   \n",
       "  99         202688408.0  623210568       RES           FR           INTERNET   \n",
       "  \n",
       "     LAST_APPT_DT LAST_APPT_SLOT  CONTACT_PHON_NUMBER  WASTE_SCORE  reached  \\\n",
       "  0    2019-10-31             AM            472228645        0.207      NaN   \n",
       "  1    2019-10-31           LATE            466332741        0.558      NaN   \n",
       "  2    2019-10-31             PM             64842690        0.336      NaN   \n",
       "  3    2019-10-31             PM            496518865        0.236      NaN   \n",
       "  4    2019-10-31           LATE            489344691        0.221      NaN   \n",
       "  5    2019-10-31             PM            474838235        0.763      NaN   \n",
       "  6    2019-10-31           NOON            484656641        0.607      NaN   \n",
       "  7    2019-10-31           LATE            489876520        0.325      NaN   \n",
       "  8    2019-10-31             PM            488086126        0.264      NaN   \n",
       "  9    2019-10-31           LATE            486586205        0.231      NaN   \n",
       "  10   2019-10-31           LATE            466026162        0.279      NaN   \n",
       "  11   2019-10-31             PM            476715822        0.886      NaN   \n",
       "  12   2019-10-31             PM         491712211088        0.620      NaN   \n",
       "  13   2019-10-31             AM            468225538        0.258      NaN   \n",
       "  14   2019-10-31             PM            472227735        0.554      NaN   \n",
       "  15   2019-10-31           NOON            473213018        0.389      NaN   \n",
       "  16   2019-10-31             PM            471752828        0.698      NaN   \n",
       "  17   2019-10-31             AM          33686039318        0.780      NaN   \n",
       "  18   2019-10-31             PM            483488813        0.783      NaN   \n",
       "  19   2019-10-31             PM            470039281        0.245      NaN   \n",
       "  20   2019-10-31           NOON            470243772        0.202      NaN   \n",
       "  21   2019-10-31             PM            497410911        0.204      NaN   \n",
       "  22   2019-10-31             PM            470922711        0.516      NaN   \n",
       "  23   2019-10-31            DAY            495357074        0.383      NaN   \n",
       "  24   2019-10-31             PM            465796050        0.652      NaN   \n",
       "  25   2019-10-31             PM            466442899        0.739      NaN   \n",
       "  26   2019-10-31            DAY            484026768        0.328      NaN   \n",
       "  27   2019-10-31             PM            473637600        0.263      NaN   \n",
       "  28   2019-10-31            DAY            494572516        0.381      NaN   \n",
       "  29   2019-10-31            DAY            486427254        0.763      NaN   \n",
       "  ..          ...            ...                  ...          ...      ...   \n",
       "  70   2019-10-31             AM            474614838        0.459      NaN   \n",
       "  71   2019-10-31           LATE            486532086        0.260      NaN   \n",
       "  72   2019-10-31            DAY            479629885        0.612      NaN   \n",
       "  73   2019-10-31           LATE            487755359        0.330      NaN   \n",
       "  74   2019-10-31             PM            465212299        0.556      NaN   \n",
       "  75   2019-10-31            DAY            483733683        0.408      NaN   \n",
       "  76   2019-10-31           LATE          31657541472        0.513      NaN   \n",
       "  77   2019-10-31            DAY            498167729        0.331      NaN   \n",
       "  78   2019-10-31            DAY            476768176        0.858      NaN   \n",
       "  79   2019-10-31             AM          33661485042        0.204      NaN   \n",
       "  80   2019-10-31           LATE            498563744        0.452      NaN   \n",
       "  81   2019-10-31             AM            477445308        0.551      NaN   \n",
       "  82   2019-10-31             PM            498166415        0.218      NaN   \n",
       "  83   2019-10-31           NOON            472025900        0.256      NaN   \n",
       "  84   2019-10-31             PM            494904470        0.846      NaN   \n",
       "  85   2019-10-31             PM            468097735        0.948      NaN   \n",
       "  86   2019-10-31             PM            492162324        0.794      NaN   \n",
       "  87   2019-10-31            DAY            477348423        0.658      NaN   \n",
       "  88   2019-10-31             AM            494884763        0.714      NaN   \n",
       "  89   2019-10-31             AM            485351340        0.362      NaN   \n",
       "  90   2019-10-31             PM            493833937        0.683      NaN   \n",
       "  91   2019-10-31            DAY            484619776        0.279      NaN   \n",
       "  92   2019-10-31            DAY            496307503        0.228      NaN   \n",
       "  93   2019-10-31             AM            475963296        0.281      NaN   \n",
       "  94   2019-10-31             PM             32837155        0.697      NaN   \n",
       "  95   2019-10-31             AM            497734818        0.470      NaN   \n",
       "  96   2019-10-31             AM            472861400        0.388      NaN   \n",
       "  97   2019-10-31             AM            484477268        0.282      NaN   \n",
       "  98   2019-10-31             AM            497124018        0.210      NaN   \n",
       "  99   2019-10-31             PM            470130553        0.662      NaN   \n",
       "  \n",
       "      voice_mail  outcome  cust_aware  Adapter numéro contact  \\\n",
       "  0          NaN      NaN         NaN                     NaN   \n",
       "  1          NaN      NaN         NaN                     NaN   \n",
       "  2          NaN      NaN         NaN                     NaN   \n",
       "  3          NaN      NaN         NaN                     NaN   \n",
       "  4          NaN      NaN         NaN                     NaN   \n",
       "  5          NaN      NaN         NaN                     NaN   \n",
       "  6          NaN      NaN         NaN                     NaN   \n",
       "  7          NaN      NaN         NaN                     NaN   \n",
       "  8          NaN      NaN         NaN                     NaN   \n",
       "  9          NaN      NaN         NaN                     NaN   \n",
       "  10         NaN      NaN         NaN                     NaN   \n",
       "  11         NaN      NaN         NaN                     NaN   \n",
       "  12         NaN      NaN         NaN                     NaN   \n",
       "  13         NaN      NaN         NaN                     NaN   \n",
       "  14         NaN      NaN         NaN                     NaN   \n",
       "  15         NaN      NaN         NaN                     NaN   \n",
       "  16         NaN      NaN         NaN                     NaN   \n",
       "  17         NaN      NaN         NaN                     NaN   \n",
       "  18         NaN      NaN         NaN                     NaN   \n",
       "  19         NaN      NaN         NaN                     NaN   \n",
       "  20         NaN      NaN         NaN                     NaN   \n",
       "  21         NaN      NaN         NaN                     NaN   \n",
       "  22         NaN      NaN         NaN                     NaN   \n",
       "  23         NaN      NaN         NaN                     NaN   \n",
       "  24         NaN      NaN         NaN                     NaN   \n",
       "  25         NaN      NaN         NaN                     NaN   \n",
       "  26         NaN      NaN         NaN                     NaN   \n",
       "  27         NaN      NaN         NaN                     NaN   \n",
       "  28         NaN      NaN         NaN                     NaN   \n",
       "  29         NaN      NaN         NaN                     NaN   \n",
       "  ..         ...      ...         ...                     ...   \n",
       "  70         NaN      NaN         NaN                     NaN   \n",
       "  71         NaN      NaN         NaN                     NaN   \n",
       "  72         NaN      NaN         NaN                     NaN   \n",
       "  73         NaN      NaN         NaN                     NaN   \n",
       "  74         NaN      NaN         NaN                     NaN   \n",
       "  75         NaN      NaN         NaN                     NaN   \n",
       "  76         NaN      NaN         NaN                     NaN   \n",
       "  77         NaN      NaN         NaN                     NaN   \n",
       "  78         NaN      NaN         NaN                     NaN   \n",
       "  79         NaN      NaN         NaN                     NaN   \n",
       "  80         NaN      NaN         NaN                     NaN   \n",
       "  81         NaN      NaN         NaN                     NaN   \n",
       "  82         NaN      NaN         NaN                     NaN   \n",
       "  83         NaN      NaN         NaN                     NaN   \n",
       "  84         NaN      NaN         NaN                     NaN   \n",
       "  85         NaN      NaN         NaN                     NaN   \n",
       "  86         NaN      NaN         NaN                     NaN   \n",
       "  87         NaN      NaN         NaN                     NaN   \n",
       "  88         NaN      NaN         NaN                     NaN   \n",
       "  89         NaN      NaN         NaN                     NaN   \n",
       "  90         NaN      NaN         NaN                     NaN   \n",
       "  91         NaN      NaN         NaN                     NaN   \n",
       "  92         NaN      NaN         NaN                     NaN   \n",
       "  93         NaN      NaN         NaN                     NaN   \n",
       "  94         NaN      NaN         NaN                     NaN   \n",
       "  95         NaN      NaN         NaN                     NaN   \n",
       "  96         NaN      NaN         NaN                     NaN   \n",
       "  97         NaN      NaN         NaN                     NaN   \n",
       "  98         NaN      NaN         NaN                     NaN   \n",
       "  99         NaN      NaN         NaN                     NaN   \n",
       "  \n",
       "      adapter install address  \n",
       "  0                       NaN  \n",
       "  1                       NaN  \n",
       "  2                       NaN  \n",
       "  3                       NaN  \n",
       "  4                       NaN  \n",
       "  5                       NaN  \n",
       "  6                       NaN  \n",
       "  7                       NaN  \n",
       "  8                       NaN  \n",
       "  9                       NaN  \n",
       "  10                      NaN  \n",
       "  11                      NaN  \n",
       "  12                      NaN  \n",
       "  13                      NaN  \n",
       "  14                      NaN  \n",
       "  15                      NaN  \n",
       "  16                      NaN  \n",
       "  17                      NaN  \n",
       "  18                      NaN  \n",
       "  19                      NaN  \n",
       "  20                      NaN  \n",
       "  21                      NaN  \n",
       "  22                      NaN  \n",
       "  23                      NaN  \n",
       "  24                      NaN  \n",
       "  25                      NaN  \n",
       "  26                      NaN  \n",
       "  27                      NaN  \n",
       "  28                      NaN  \n",
       "  29                      NaN  \n",
       "  ..                      ...  \n",
       "  70                      NaN  \n",
       "  71                      NaN  \n",
       "  72                      NaN  \n",
       "  73                      NaN  \n",
       "  74                      NaN  \n",
       "  75                      NaN  \n",
       "  76                      NaN  \n",
       "  77                      NaN  \n",
       "  78                      NaN  \n",
       "  79                      NaN  \n",
       "  80                      NaN  \n",
       "  81                      NaN  \n",
       "  82                      NaN  \n",
       "  83                      NaN  \n",
       "  84                      NaN  \n",
       "  85                      NaN  \n",
       "  86                      NaN  \n",
       "  87                      NaN  \n",
       "  88                      NaN  \n",
       "  89                      NaN  \n",
       "  90                      NaN  \n",
       "  91                      NaN  \n",
       "  92                      NaN  \n",
       "  93                      NaN  \n",
       "  94                      NaN  \n",
       "  95                      NaN  \n",
       "  96                      NaN  \n",
       "  97                      NaN  \n",
       "  98                      NaN  \n",
       "  99                      NaN  \n",
       "  \n",
       "  [100 rows x 15 columns], 55:    PROV_WORK_ORDR_NUM   CUST_NUM MACRO_SEG CUST_LEG_LANG_CD PRODUCT_FAMILY  \\\n",
       "  0         202397723.0  620206602        SE           NL           INTERNET   \n",
       "  1         201962218.0  623194454       RES           FR                 TV   \n",
       "  2         201472916.0  616304667       RES           FR                 TV   \n",
       "  3         202326289.0  607047556       RES           FR                 TV   \n",
       "  4         202069273.0  615507099       RES           NL           INTERNET   \n",
       "  \n",
       "    LAST_APPT_DT LAST_APPT_SLOT  CONTACT_PHON_NUMBER  WASTE_SCORE  reached  \\\n",
       "  0   2019-10-31             AM            472228645        0.207      NaN   \n",
       "  1   2019-10-31           LATE            466332741        0.558      NaN   \n",
       "  2   2019-10-31             PM             64842690        0.336      NaN   \n",
       "  3   2019-10-31             PM            496518865        0.236      NaN   \n",
       "  4   2019-10-31           LATE            489344691        0.221      NaN   \n",
       "  \n",
       "     voice_mail  outcome  cust_aware  Adapter numéro contact  \\\n",
       "  0         NaN      NaN         NaN                     NaN   \n",
       "  1         NaN      NaN         NaN                     NaN   \n",
       "  2         NaN      NaN         NaN                     NaN   \n",
       "  3         NaN      NaN         NaN                     NaN   \n",
       "  4         NaN      NaN         NaN                     NaN   \n",
       "  \n",
       "     adapter install address  \n",
       "  0                      NaN  \n",
       "  1                      NaN  \n",
       "  2                      NaN  \n",
       "  3                      NaN  \n",
       "  4                      NaN  , 57:    PROV_WORK_ORDR_NUM   CUST_NUM MACRO_SEG CUST_LEG_LANG_CD PRODUCT_FAMILY  \\\n",
       "  0         202397723.0  620206602        SE           NL           INTERNET   \n",
       "  1         201962218.0  623194454       RES           FR                 TV   \n",
       "  2         201472916.0  616304667       RES           FR                 TV   \n",
       "  3         202326289.0  607047556       RES           FR                 TV   \n",
       "  4         202069273.0  615507099       RES           NL           INTERNET   \n",
       "  \n",
       "    LAST_APPT_DT LAST_APPT_SLOT CONTACT_PHON_NUMBER  WASTE_SCORE  reached  \\\n",
       "  0   2019-10-31             AM          0472228645        0.207      NaN   \n",
       "  1   2019-10-31           LATE          0466332741        0.558      NaN   \n",
       "  2   2019-10-31             PM           064842690        0.336      NaN   \n",
       "  3   2019-10-31             PM          0496518865        0.236      NaN   \n",
       "  4   2019-10-31           LATE          0489344691        0.221      NaN   \n",
       "  \n",
       "     voice_mail  outcome  cust_aware  Adapter numéro contact  \\\n",
       "  0         NaN      NaN         NaN                     NaN   \n",
       "  1         NaN      NaN         NaN                     NaN   \n",
       "  2         NaN      NaN         NaN                     NaN   \n",
       "  3         NaN      NaN         NaN                     NaN   \n",
       "  4         NaN      NaN         NaN                     NaN   \n",
       "  \n",
       "     adapter install address  \n",
       "  0                      NaN  \n",
       "  1                      NaN  \n",
       "  2                      NaN  \n",
       "  3                      NaN  \n",
       "  4                      NaN  , 59:    PROV_WORK_ORDR_NUM   CUST_NUM MACRO_SEG CUST_LEG_LANG_CD PRODUCT_FAMILY  \\\n",
       "  0         202397723.0  620206602        SE           NL           INTERNET   \n",
       "  1         201962218.0  623194454       RES           FR                 TV   \n",
       "  2         201472916.0  616304667       RES           FR                 TV   \n",
       "  3         202326289.0  607047556       RES           FR                 TV   \n",
       "  4         202069273.0  615507099       RES           NL           INTERNET   \n",
       "  \n",
       "    LAST_APPT_DT LAST_APPT_SLOT CONTACT_PHON_NUMBER  WASTE_SCORE  reached  \\\n",
       "  0   2019-10-31             AM          0472228645        0.207      NaN   \n",
       "  1   2019-10-31           LATE          0466332741        0.558      NaN   \n",
       "  2   2019-10-31             PM           064842690        0.336      NaN   \n",
       "  3   2019-10-31             PM          0496518865        0.236      NaN   \n",
       "  4   2019-10-31           LATE          0489344691        0.221      NaN   \n",
       "  \n",
       "     voice_mail  outcome  cust_aware  Adapter numéro contact  \\\n",
       "  0         NaN      NaN         NaN                     NaN   \n",
       "  1         NaN      NaN         NaN                     NaN   \n",
       "  2         NaN      NaN         NaN                     NaN   \n",
       "  3         NaN      NaN         NaN                     NaN   \n",
       "  4         NaN      NaN         NaN                     NaN   \n",
       "  \n",
       "     adapter install address  \n",
       "  0                      NaN  \n",
       "  1                      NaN  \n",
       "  2                      NaN  \n",
       "  3                      NaN  \n",
       "  4                      NaN  , 61:    PROV_WORK_ORDR_NUM   CUST_NUM MACRO_SEG CUST_LEG_LANG_CD PRODUCT_FAMILY  \\\n",
       "  0         202397723.0  620206602        SE           NL           INTERNET   \n",
       "  1         201962218.0  623194454       RES           FR                 TV   \n",
       "  2         201472916.0  616304667       RES           FR                 TV   \n",
       "  3         202326289.0  607047556       RES           FR                 TV   \n",
       "  4         202069273.0  615507099       RES           NL           INTERNET   \n",
       "  \n",
       "    LAST_APPT_DT LAST_APPT_SLOT  CONTACT_PHON_NUMBER  WASTE_SCORE  reached  \\\n",
       "  0   2019-10-31             AM            472228645        0.207      NaN   \n",
       "  1   2019-10-31           LATE            466332741        0.558      NaN   \n",
       "  2   2019-10-31             PM             64842690        0.336      NaN   \n",
       "  3   2019-10-31             PM            496518865        0.236      NaN   \n",
       "  4   2019-10-31           LATE            489344691        0.221      NaN   \n",
       "  \n",
       "     voice_mail  outcome  cust_aware  Adapter numéro contact  \\\n",
       "  0         NaN      NaN         NaN                     NaN   \n",
       "  1         NaN      NaN         NaN                     NaN   \n",
       "  2         NaN      NaN         NaN                     NaN   \n",
       "  3         NaN      NaN         NaN                     NaN   \n",
       "  4         NaN      NaN         NaN                     NaN   \n",
       "  \n",
       "     adapter install address  \n",
       "  0                      NaN  \n",
       "  1                      NaN  \n",
       "  2                      NaN  \n",
       "  3                      NaN  \n",
       "  4                      NaN  , 64: '/work/jupyterhub/id860112/Playground', 65: ['Iris.ipynb',\n",
       "   '.ipynb_checkpoints',\n",
       "   'mpg.ipynb',\n",
       "   'NN.ipynb',\n",
       "   'DC_suivi_Py.ipynb']},\n",
       " 'Workbook': openpyxl.workbook.workbook.Workbook,\n",
       " '_': ['Iris.ipynb',\n",
       "  '.ipynb_checkpoints',\n",
       "  'mpg.ipynb',\n",
       "  'NN.ipynb',\n",
       "  'DC_suivi_Py.ipynb'],\n",
       " '_11': 0      10\n",
       " 1      10\n",
       " 2      10\n",
       " 3      10\n",
       " 5      10\n",
       " 6      10\n",
       " 7      10\n",
       " 8      10\n",
       " 10     10\n",
       " 11     10\n",
       " 12     10\n",
       " 13     10\n",
       " 14     10\n",
       " 15     10\n",
       " 16     10\n",
       " 17     10\n",
       " 18     10\n",
       " 19     10\n",
       " 20     10\n",
       " 21     10\n",
       " 22     10\n",
       " 23     10\n",
       " 24     10\n",
       " 25     10\n",
       " 26     10\n",
       " 27     10\n",
       " 28      9\n",
       " 29     10\n",
       " 30     10\n",
       " 31     10\n",
       "        ..\n",
       " 469    10\n",
       " 470    10\n",
       " 471    10\n",
       " 472    10\n",
       " 473    10\n",
       " 474    10\n",
       " 475    10\n",
       " 476    10\n",
       " 477    10\n",
       " 478    10\n",
       " 479    10\n",
       " 480    10\n",
       " 481    10\n",
       " 482    10\n",
       " 483    10\n",
       " 484    10\n",
       " 485    10\n",
       " 486    10\n",
       " 487    10\n",
       " 489    10\n",
       " 490    10\n",
       " 491    10\n",
       " 492    10\n",
       " 493    10\n",
       " 494    10\n",
       " 495    10\n",
       " 496    10\n",
       " 497    10\n",
       " 498    10\n",
       " 499    10\n",
       " Name: CONTACT_PHON_NUMBER, Length: 485, dtype: int64,\n",
       " '_13':     CONTACT_PHON_NUMBER  length\n",
       " 0            0474834821    10.0\n",
       " 1            0499191769    10.0\n",
       " 2            0472893211    10.0\n",
       " 3            0483692513    10.0\n",
       " 5            0475968574    10.0\n",
       " 6            0499226407    10.0\n",
       " 7            0486351660    10.0\n",
       " 8            0474256001    10.0\n",
       " 10           0473217520    10.0\n",
       " 11           0475417917    10.0\n",
       " 12           0474109378    10.0\n",
       " 13           0468115973    10.0\n",
       " 14           0476094479    10.0\n",
       " 15           0495311829    10.0\n",
       " 16           0495311829    10.0\n",
       " 17           0465802045    10.0\n",
       " 18           0497182436    10.0\n",
       " 19           0475324699    10.0\n",
       " 20           0476219288    10.0\n",
       " 21           0479317781    10.0\n",
       " 22           0495321062    10.0\n",
       " 23           0478206045    10.0\n",
       " 24           0472849013    10.0\n",
       " 25           0476666836    10.0\n",
       " 26           0474275719    10.0\n",
       " 27           0473936446    10.0\n",
       " 29           0497698212    10.0\n",
       " 30           0476868296    10.0\n",
       " 31           0489288783    10.0\n",
       " 32           0498564367    10.0\n",
       " ..                  ...     ...\n",
       " 469          0474122044    10.0\n",
       " 470          0470811607    10.0\n",
       " 471          0477596634    10.0\n",
       " 472          0474982504    10.0\n",
       " 473          0497893627    10.0\n",
       " 474          0497893627    10.0\n",
       " 475          0476650686    10.0\n",
       " 476          0476650686    10.0\n",
       " 477          0474630297    10.0\n",
       " 478          0487160328    10.0\n",
       " 479          0477223364    10.0\n",
       " 480          0497156789    10.0\n",
       " 481          0493206330    10.0\n",
       " 482          0495578422    10.0\n",
       " 483          0496533209    10.0\n",
       " 484          0497872227    10.0\n",
       " 485          0476541248    10.0\n",
       " 486          0499341110    10.0\n",
       " 487          0476246108    10.0\n",
       " 489          0497859282    10.0\n",
       " 490          0474417177    10.0\n",
       " 491          0472267357    10.0\n",
       " 492          0473692676    10.0\n",
       " 493          0486998744    10.0\n",
       " 494          0471082430    10.0\n",
       " 495          0474174984    10.0\n",
       " 496          0478574497    10.0\n",
       " 497          0477073591    10.0\n",
       " 498          0498278926    10.0\n",
       " 499          0472956931    10.0\n",
       " \n",
       " [462 rows x 2 columns],\n",
       " '_14':     CONTACT_PHON_NUMBER  length\n",
       " 58        0033769094615    13.0\n",
       " 64       00393393442704    14.0\n",
       " 110       0031646762560    13.0\n",
       " 158      00352621260149    14.0\n",
       " 184      00351621176161    14.0\n",
       " 217      00352621730355    14.0\n",
       " 220       0033659878921    13.0\n",
       " 274      00352691201271    14.0\n",
       " 307      00393663040699    14.0,\n",
       " '_16':     CONTACT_PHON_NUMBER  length        cleaned\n",
       " 58        0033769094615    13.0   +33769094615\n",
       " 64       00393393442704    14.0  +393393442704\n",
       " 110       0031646762560    13.0   +31646762560\n",
       " 158      00352621260149    14.0  +352621260149\n",
       " 184      00351621176161    14.0  +351621176161\n",
       " 217      00352621730355    14.0  +352621730355\n",
       " 220       0033659878921    13.0   +33659878921\n",
       " 274      00352691201271    14.0  +352691201271\n",
       " 307      00393663040699    14.0  +393663040699,\n",
       " '_19':     CONTACT_PHON_NUMBER  length        cleaned\n",
       " 58        0033769094615    13.0   +33769094615\n",
       " 64       00393393442704    14.0  +393393442704\n",
       " 110       0031646762560    13.0   +31646762560\n",
       " 158      00352621260149    14.0  +352621260149\n",
       " 184      00351621176161    14.0  +351621176161\n",
       " 217      00352621730355    14.0  +352621730355\n",
       " 220       0033659878921    13.0   +33659878921\n",
       " 274      00352691201271    14.0  +352691201271\n",
       " 307      00393663040699    14.0  +393663040699,\n",
       " '_20': CONTACT_PHON_NUMBER    0033769094615\n",
       " length                            13\n",
       " Name: 58, dtype: object,\n",
       " '_21': 58      0033769094615\n",
       " 64     00393393442704\n",
       " 110     0031646762560\n",
       " 158    00352621260149\n",
       " 184    00351621176161\n",
       " 217    00352621730355\n",
       " 220     0033659878921\n",
       " 274    00352691201271\n",
       " 307    00393663040699\n",
       " Name: CONTACT_PHON_NUMBER, dtype: object,\n",
       " '_23': '0033769094615',\n",
       " '_25': '0033769094615',\n",
       " '_26': '00',\n",
       " '_29': '+33769094615',\n",
       " '_31':     CONTACT_PHON_NUMBER  length        cleaned\n",
       " 58        0033769094615    13.0   +33769094615\n",
       " 64       00393393442704    14.0  +393393442704\n",
       " 110       0031646762560    13.0   +31646762560\n",
       " 158      00352621260149    14.0  +352621260149\n",
       " 184      00351621176161    14.0  +351621176161\n",
       " 217      00352621730355    14.0  +352621730355\n",
       " 220       0033659878921    13.0   +33659878921\n",
       " 274      00352691201271    14.0  +352691201271\n",
       " 307      00393663040699    14.0  +393663040699,\n",
       " '_32': 58      +33769094615\n",
       " 64     +393393442704\n",
       " 110     +31646762560\n",
       " 158    +352621260149\n",
       " 184    +351621176161\n",
       " 217    +352621730355\n",
       " 220     +33659878921\n",
       " 274    +352691201271\n",
       " 307    +393663040699\n",
       " Name: CONTACT_PHON_NUMBER, dtype: object,\n",
       " '_34':     CONTACT_PHON_NUMBER  length        cleaned\n",
       " 58        0033769094615    13.0   +33769094615\n",
       " 64       00393393442704    14.0  +393393442704\n",
       " 110       0031646762560    13.0   +31646762560\n",
       " 158      00352621260149    14.0  +352621260149\n",
       " 184      00351621176161    14.0  +351621176161\n",
       " 217      00352621730355    14.0  +352621730355\n",
       " 220       0033659878921    13.0   +33659878921\n",
       " 274      00352691201271    14.0  +352691201271\n",
       " 307      00393663040699    14.0  +393663040699,\n",
       " '_37': 0      0474834821\n",
       " 1      0499191769\n",
       " 2      0472893211\n",
       " 3      0483692513\n",
       " 5      0475968574\n",
       " 6      0499226407\n",
       " 7      0486351660\n",
       " 8      0474256001\n",
       " 10     0473217520\n",
       " 11     0475417917\n",
       " 12     0474109378\n",
       " 13     0468115973\n",
       " 14     0476094479\n",
       " 15     0495311829\n",
       " 16     0495311829\n",
       " 17     0465802045\n",
       " 18     0497182436\n",
       " 19     0475324699\n",
       " 20     0476219288\n",
       " 21     0479317781\n",
       " 22     0495321062\n",
       " 23     0478206045\n",
       " 24     0472849013\n",
       " 25     0476666836\n",
       " 26     0474275719\n",
       " 27     0473936446\n",
       " 28      011450460\n",
       " 29     0497698212\n",
       " 30     0476868296\n",
       " 31     0489288783\n",
       "           ...    \n",
       " 469    0474122044\n",
       " 470    0470811607\n",
       " 471    0477596634\n",
       " 472    0474982504\n",
       " 473    0497893627\n",
       " 474    0497893627\n",
       " 475    0476650686\n",
       " 476    0476650686\n",
       " 477    0474630297\n",
       " 478    0487160328\n",
       " 479    0477223364\n",
       " 480    0497156789\n",
       " 481    0493206330\n",
       " 482    0495578422\n",
       " 483    0496533209\n",
       " 484    0497872227\n",
       " 485    0476541248\n",
       " 486    0499341110\n",
       " 487    0476246108\n",
       " 489    0497859282\n",
       " 490    0474417177\n",
       " 491    0472267357\n",
       " 492    0473692676\n",
       " 493    0486998744\n",
       " 494    0471082430\n",
       " 495    0474174984\n",
       " 496    0478574497\n",
       " 497    0477073591\n",
       " 498    0498278926\n",
       " 499    0472956931\n",
       " Name: CONTACT_PHON_NUMBER, Length: 485, dtype: object,\n",
       " '_38':     CONTACT_PHON_NUMBER  length     cleaned\n",
       " 0            0474834821    10.0  0474834821\n",
       " 1            0499191769    10.0  0499191769\n",
       " 2            0472893211    10.0  0472893211\n",
       " 3            0483692513    10.0  0483692513\n",
       " 5            0475968574    10.0  0475968574\n",
       " 6            0499226407    10.0  0499226407\n",
       " 7            0486351660    10.0  0486351660\n",
       " 8            0474256001    10.0  0474256001\n",
       " 10           0473217520    10.0  0473217520\n",
       " 11           0475417917    10.0  0475417917\n",
       " 12           0474109378    10.0  0474109378\n",
       " 13           0468115973    10.0  0468115973\n",
       " 14           0476094479    10.0  0476094479\n",
       " 15           0495311829    10.0  0495311829\n",
       " 16           0495311829    10.0  0495311829\n",
       " 17           0465802045    10.0  0465802045\n",
       " 18           0497182436    10.0  0497182436\n",
       " 19           0475324699    10.0  0475324699\n",
       " 20           0476219288    10.0  0476219288\n",
       " 21           0479317781    10.0  0479317781\n",
       " 22           0495321062    10.0  0495321062\n",
       " 23           0478206045    10.0  0478206045\n",
       " 24           0472849013    10.0  0472849013\n",
       " 25           0476666836    10.0  0476666836\n",
       " 26           0474275719    10.0  0474275719\n",
       " 27           0473936446    10.0  0473936446\n",
       " 28            011450460     9.0   011450460\n",
       " 29           0497698212    10.0  0497698212\n",
       " 30           0476868296    10.0  0476868296\n",
       " 31           0489288783    10.0  0489288783\n",
       " ..                  ...     ...         ...\n",
       " 469          0474122044    10.0  0474122044\n",
       " 470          0470811607    10.0  0470811607\n",
       " 471          0477596634    10.0  0477596634\n",
       " 472          0474982504    10.0  0474982504\n",
       " 473          0497893627    10.0  0497893627\n",
       " 474          0497893627    10.0  0497893627\n",
       " 475          0476650686    10.0  0476650686\n",
       " 476          0476650686    10.0  0476650686\n",
       " 477          0474630297    10.0  0474630297\n",
       " 478          0487160328    10.0  0487160328\n",
       " 479          0477223364    10.0  0477223364\n",
       " 480          0497156789    10.0  0497156789\n",
       " 481          0493206330    10.0  0493206330\n",
       " 482          0495578422    10.0  0495578422\n",
       " 483          0496533209    10.0  0496533209\n",
       " 484          0497872227    10.0  0497872227\n",
       " 485          0476541248    10.0  0476541248\n",
       " 486          0499341110    10.0  0499341110\n",
       " 487          0476246108    10.0  0476246108\n",
       " 489          0497859282    10.0  0497859282\n",
       " 490          0474417177    10.0  0474417177\n",
       " 491          0472267357    10.0  0472267357\n",
       " 492          0473692676    10.0  0473692676\n",
       " 493          0486998744    10.0  0486998744\n",
       " 494          0471082430    10.0  0471082430\n",
       " 495          0474174984    10.0  0474174984\n",
       " 496          0478574497    10.0  0478574497\n",
       " 497          0477073591    10.0  0477073591\n",
       " 498          0498278926    10.0  0498278926\n",
       " 499          0472956931    10.0  0472956931\n",
       " \n",
       " [485 rows x 3 columns],\n",
       " '_4':   CONTACT_PHON_NUMBER\n",
       " 0          0474834821\n",
       " 1          0499191769\n",
       " 2          0472893211\n",
       " 3          0483692513\n",
       " 4                None,\n",
       " '_47': '(1, 2)',\n",
       " '_48': <map at 0x7f5444133c18>,\n",
       " '_49': ('1', '5', '3'),\n",
       " '_5':    CONTACT_PHON_NUMBER\n",
       " 0           0474834821\n",
       " 1           0499191769\n",
       " 2           0472893211\n",
       " 3           0483692513\n",
       " 4                 None\n",
       " 5           0475968574\n",
       " 6           0499226407\n",
       " 7           0486351660\n",
       " 8           0474256001\n",
       " 9                 None\n",
       " 10          0473217520\n",
       " 11          0475417917\n",
       " 12          0474109378\n",
       " 13          0468115973\n",
       " 14          0476094479\n",
       " 15          0495311829\n",
       " 16          0495311829\n",
       " 17          0465802045\n",
       " 18          0497182436\n",
       " 19          0475324699,\n",
       " '_51': ['1', '2', '3'],\n",
       " '_53':     PROV_WORK_ORDR_NUM   CUST_NUM MACRO_SEG CUST_LEG_LANG_CD PRODUCT_FAMILY  \\\n",
       " 0          202397723.0  620206602        SE           NL           INTERNET   \n",
       " 1          201962218.0  623194454       RES           FR                 TV   \n",
       " 2          201472916.0  616304667       RES           FR                 TV   \n",
       " 3          202326289.0  607047556       RES           FR                 TV   \n",
       " 4          202069273.0  615507099       RES           NL           INTERNET   \n",
       " 5          201687988.0  623060702       RES           NL                 TV   \n",
       " 6          202151021.0  623217786       RES           NL           INTERNET   \n",
       " 7          202161231.0  610857666       RES           FR                 TV   \n",
       " 8          202585550.0  623243053       RES           NL                 TV   \n",
       " 9          202536881.0  608744035       RES           FR                 TV   \n",
       " 10         201472122.0  620681072       RES           FR           INTERNET   \n",
       " 11         202804397.0  623187839       RES           NL                 TV   \n",
       " 12         202313236.0  623220421       RES           DE                 TV   \n",
       " 13         202611041.0  623238872       RES           NL                 TV   \n",
       " 14         202509952.0  620998770       RES           FR                 TV   \n",
       " 15         202228348.0  612073953       RES           NL           INTERNET   \n",
       " 16         197789539.0  607266596       RES           FR                 TV   \n",
       " 17         202449715.0  623236814       RES           FR           INTERNET   \n",
       " 18         202330814.0  608512432       RES           FR                 TV   \n",
       " 19         202515610.0  623240031       RES           NL                 TV   \n",
       " 20         202031117.0  623126980        SE           FR                 TV   \n",
       " 21         201895332.0  619800414       RES           FR           INTERNET   \n",
       " 22         202667621.0  623202267       RES           FR           INTERNET   \n",
       " 23         201701569.0  623033378       RES           FR                 TV   \n",
       " 24         201797867.0  623178906       RES           FR           INTERNET   \n",
       " 25         199108436.0  623020982       RES           FR                 TV   \n",
       " 26         202632144.0  623226739       RES           FR                 TV   \n",
       " 27         202622509.0  623217940       RES           FR                 TV   \n",
       " 28         202800456.0    2973613       RES           FR                 TV   \n",
       " 29         202608360.0  621084315       RES           NL                 TV   \n",
       " ..                 ...        ...       ...              ...            ...   \n",
       " 70         201457539.0  607698750       RES           NL                 TV   \n",
       " 71         202528072.0  611448998       RES           FR                 TV   \n",
       " 72         201686018.0  608664383       RES           FR                 TV   \n",
       " 73         201882223.0  617106285       RES           FR                 TV   \n",
       " 74         201749308.0  623166532       RES           FR                 TV   \n",
       " 75         201532318.0  614026696       RES           FR                 TV   \n",
       " 76         202253197.0  623211072       RES           NL                 TV   \n",
       " 77         201459923.0    3070095       RES           FR                 TV   \n",
       " 78         202151283.0  622826649        SE           NL                 TV   \n",
       " 79         202560916.0  623194179       RES           FR           INTERNET   \n",
       " 80         201856579.0  609122193       RES           FR                 TV   \n",
       " 81         202171155.0  618320429       RES           FR                 TV   \n",
       " 82         202367116.0  623232005       RES           NL                 TV   \n",
       " 83         202482589.0  175553533        SE           NL           INTERNET   \n",
       " 84         202807754.0  623225414       RES           NL                 TV   \n",
       " 85         201611130.0  622990078       RES           FR                 TV   \n",
       " 86         202280508.0  620877079       RES           FR                 TV   \n",
       " 87         198535375.0  616637125        SE           FR           INTERNET   \n",
       " 88         202070604.0  620846136        SE           FR               PSTN   \n",
       " 89         202489155.0  615738781       RES           FR                 TV   \n",
       " 90         202590242.0  623242315       RES           FR                 TV   \n",
       " 91         202751259.0    4016092        SE           FR                 TV   \n",
       " 92         202752845.0  623122337       RES           NL                 TV   \n",
       " 93         202279078.0  614199160       RES           FR                 TV   \n",
       " 94         202279697.0  615215730        SE           NL           INTERNET   \n",
       " 95         202506527.0  622653437       RES           FR           INTERNET   \n",
       " 96         202743632.0  614148471       RES           FR                 TV   \n",
       " 97         202480674.0  620914550        SE           FR                 TV   \n",
       " 98         201994761.0  616557855       RES           FR                 TV   \n",
       " 99         202688408.0  623210568       RES           FR           INTERNET   \n",
       " \n",
       "    LAST_APPT_DT LAST_APPT_SLOT  CONTACT_PHON_NUMBER  WASTE_SCORE  reached  \\\n",
       " 0    2019-10-31             AM            472228645        0.207      NaN   \n",
       " 1    2019-10-31           LATE            466332741        0.558      NaN   \n",
       " 2    2019-10-31             PM             64842690        0.336      NaN   \n",
       " 3    2019-10-31             PM            496518865        0.236      NaN   \n",
       " 4    2019-10-31           LATE            489344691        0.221      NaN   \n",
       " 5    2019-10-31             PM            474838235        0.763      NaN   \n",
       " 6    2019-10-31           NOON            484656641        0.607      NaN   \n",
       " 7    2019-10-31           LATE            489876520        0.325      NaN   \n",
       " 8    2019-10-31             PM            488086126        0.264      NaN   \n",
       " 9    2019-10-31           LATE            486586205        0.231      NaN   \n",
       " 10   2019-10-31           LATE            466026162        0.279      NaN   \n",
       " 11   2019-10-31             PM            476715822        0.886      NaN   \n",
       " 12   2019-10-31             PM         491712211088        0.620      NaN   \n",
       " 13   2019-10-31             AM            468225538        0.258      NaN   \n",
       " 14   2019-10-31             PM            472227735        0.554      NaN   \n",
       " 15   2019-10-31           NOON            473213018        0.389      NaN   \n",
       " 16   2019-10-31             PM            471752828        0.698      NaN   \n",
       " 17   2019-10-31             AM          33686039318        0.780      NaN   \n",
       " 18   2019-10-31             PM            483488813        0.783      NaN   \n",
       " 19   2019-10-31             PM            470039281        0.245      NaN   \n",
       " 20   2019-10-31           NOON            470243772        0.202      NaN   \n",
       " 21   2019-10-31             PM            497410911        0.204      NaN   \n",
       " 22   2019-10-31             PM            470922711        0.516      NaN   \n",
       " 23   2019-10-31            DAY            495357074        0.383      NaN   \n",
       " 24   2019-10-31             PM            465796050        0.652      NaN   \n",
       " 25   2019-10-31             PM            466442899        0.739      NaN   \n",
       " 26   2019-10-31            DAY            484026768        0.328      NaN   \n",
       " 27   2019-10-31             PM            473637600        0.263      NaN   \n",
       " 28   2019-10-31            DAY            494572516        0.381      NaN   \n",
       " 29   2019-10-31            DAY            486427254        0.763      NaN   \n",
       " ..          ...            ...                  ...          ...      ...   \n",
       " 70   2019-10-31             AM            474614838        0.459      NaN   \n",
       " 71   2019-10-31           LATE            486532086        0.260      NaN   \n",
       " 72   2019-10-31            DAY            479629885        0.612      NaN   \n",
       " 73   2019-10-31           LATE            487755359        0.330      NaN   \n",
       " 74   2019-10-31             PM            465212299        0.556      NaN   \n",
       " 75   2019-10-31            DAY            483733683        0.408      NaN   \n",
       " 76   2019-10-31           LATE          31657541472        0.513      NaN   \n",
       " 77   2019-10-31            DAY            498167729        0.331      NaN   \n",
       " 78   2019-10-31            DAY            476768176        0.858      NaN   \n",
       " 79   2019-10-31             AM          33661485042        0.204      NaN   \n",
       " 80   2019-10-31           LATE            498563744        0.452      NaN   \n",
       " 81   2019-10-31             AM            477445308        0.551      NaN   \n",
       " 82   2019-10-31             PM            498166415        0.218      NaN   \n",
       " 83   2019-10-31           NOON            472025900        0.256      NaN   \n",
       " 84   2019-10-31             PM            494904470        0.846      NaN   \n",
       " 85   2019-10-31             PM            468097735        0.948      NaN   \n",
       " 86   2019-10-31             PM            492162324        0.794      NaN   \n",
       " 87   2019-10-31            DAY            477348423        0.658      NaN   \n",
       " 88   2019-10-31             AM            494884763        0.714      NaN   \n",
       " 89   2019-10-31             AM            485351340        0.362      NaN   \n",
       " 90   2019-10-31             PM            493833937        0.683      NaN   \n",
       " 91   2019-10-31            DAY            484619776        0.279      NaN   \n",
       " 92   2019-10-31            DAY            496307503        0.228      NaN   \n",
       " 93   2019-10-31             AM            475963296        0.281      NaN   \n",
       " 94   2019-10-31             PM             32837155        0.697      NaN   \n",
       " 95   2019-10-31             AM            497734818        0.470      NaN   \n",
       " 96   2019-10-31             AM            472861400        0.388      NaN   \n",
       " 97   2019-10-31             AM            484477268        0.282      NaN   \n",
       " 98   2019-10-31             AM            497124018        0.210      NaN   \n",
       " 99   2019-10-31             PM            470130553        0.662      NaN   \n",
       " \n",
       "     voice_mail  outcome  cust_aware  Adapter numéro contact  \\\n",
       " 0          NaN      NaN         NaN                     NaN   \n",
       " 1          NaN      NaN         NaN                     NaN   \n",
       " 2          NaN      NaN         NaN                     NaN   \n",
       " 3          NaN      NaN         NaN                     NaN   \n",
       " 4          NaN      NaN         NaN                     NaN   \n",
       " 5          NaN      NaN         NaN                     NaN   \n",
       " 6          NaN      NaN         NaN                     NaN   \n",
       " 7          NaN      NaN         NaN                     NaN   \n",
       " 8          NaN      NaN         NaN                     NaN   \n",
       " 9          NaN      NaN         NaN                     NaN   \n",
       " 10         NaN      NaN         NaN                     NaN   \n",
       " 11         NaN      NaN         NaN                     NaN   \n",
       " 12         NaN      NaN         NaN                     NaN   \n",
       " 13         NaN      NaN         NaN                     NaN   \n",
       " 14         NaN      NaN         NaN                     NaN   \n",
       " 15         NaN      NaN         NaN                     NaN   \n",
       " 16         NaN      NaN         NaN                     NaN   \n",
       " 17         NaN      NaN         NaN                     NaN   \n",
       " 18         NaN      NaN         NaN                     NaN   \n",
       " 19         NaN      NaN         NaN                     NaN   \n",
       " 20         NaN      NaN         NaN                     NaN   \n",
       " 21         NaN      NaN         NaN                     NaN   \n",
       " 22         NaN      NaN         NaN                     NaN   \n",
       " 23         NaN      NaN         NaN                     NaN   \n",
       " 24         NaN      NaN         NaN                     NaN   \n",
       " 25         NaN      NaN         NaN                     NaN   \n",
       " 26         NaN      NaN         NaN                     NaN   \n",
       " 27         NaN      NaN         NaN                     NaN   \n",
       " 28         NaN      NaN         NaN                     NaN   \n",
       " 29         NaN      NaN         NaN                     NaN   \n",
       " ..         ...      ...         ...                     ...   \n",
       " 70         NaN      NaN         NaN                     NaN   \n",
       " 71         NaN      NaN         NaN                     NaN   \n",
       " 72         NaN      NaN         NaN                     NaN   \n",
       " 73         NaN      NaN         NaN                     NaN   \n",
       " 74         NaN      NaN         NaN                     NaN   \n",
       " 75         NaN      NaN         NaN                     NaN   \n",
       " 76         NaN      NaN         NaN                     NaN   \n",
       " 77         NaN      NaN         NaN                     NaN   \n",
       " 78         NaN      NaN         NaN                     NaN   \n",
       " 79         NaN      NaN         NaN                     NaN   \n",
       " 80         NaN      NaN         NaN                     NaN   \n",
       " 81         NaN      NaN         NaN                     NaN   \n",
       " 82         NaN      NaN         NaN                     NaN   \n",
       " 83         NaN      NaN         NaN                     NaN   \n",
       " 84         NaN      NaN         NaN                     NaN   \n",
       " 85         NaN      NaN         NaN                     NaN   \n",
       " 86         NaN      NaN         NaN                     NaN   \n",
       " 87         NaN      NaN         NaN                     NaN   \n",
       " 88         NaN      NaN         NaN                     NaN   \n",
       " 89         NaN      NaN         NaN                     NaN   \n",
       " 90         NaN      NaN         NaN                     NaN   \n",
       " 91         NaN      NaN         NaN                     NaN   \n",
       " 92         NaN      NaN         NaN                     NaN   \n",
       " 93         NaN      NaN         NaN                     NaN   \n",
       " 94         NaN      NaN         NaN                     NaN   \n",
       " 95         NaN      NaN         NaN                     NaN   \n",
       " 96         NaN      NaN         NaN                     NaN   \n",
       " 97         NaN      NaN         NaN                     NaN   \n",
       " 98         NaN      NaN         NaN                     NaN   \n",
       " 99         NaN      NaN         NaN                     NaN   \n",
       " \n",
       "     adapter install address  \n",
       " 0                       NaN  \n",
       " 1                       NaN  \n",
       " 2                       NaN  \n",
       " 3                       NaN  \n",
       " 4                       NaN  \n",
       " 5                       NaN  \n",
       " 6                       NaN  \n",
       " 7                       NaN  \n",
       " 8                       NaN  \n",
       " 9                       NaN  \n",
       " 10                      NaN  \n",
       " 11                      NaN  \n",
       " 12                      NaN  \n",
       " 13                      NaN  \n",
       " 14                      NaN  \n",
       " 15                      NaN  \n",
       " 16                      NaN  \n",
       " 17                      NaN  \n",
       " 18                      NaN  \n",
       " 19                      NaN  \n",
       " 20                      NaN  \n",
       " 21                      NaN  \n",
       " 22                      NaN  \n",
       " 23                      NaN  \n",
       " 24                      NaN  \n",
       " 25                      NaN  \n",
       " 26                      NaN  \n",
       " 27                      NaN  \n",
       " 28                      NaN  \n",
       " 29                      NaN  \n",
       " ..                      ...  \n",
       " 70                      NaN  \n",
       " 71                      NaN  \n",
       " 72                      NaN  \n",
       " 73                      NaN  \n",
       " 74                      NaN  \n",
       " 75                      NaN  \n",
       " 76                      NaN  \n",
       " 77                      NaN  \n",
       " 78                      NaN  \n",
       " 79                      NaN  \n",
       " 80                      NaN  \n",
       " 81                      NaN  \n",
       " 82                      NaN  \n",
       " 83                      NaN  \n",
       " 84                      NaN  \n",
       " 85                      NaN  \n",
       " 86                      NaN  \n",
       " 87                      NaN  \n",
       " 88                      NaN  \n",
       " 89                      NaN  \n",
       " 90                      NaN  \n",
       " 91                      NaN  \n",
       " 92                      NaN  \n",
       " 93                      NaN  \n",
       " 94                      NaN  \n",
       " 95                      NaN  \n",
       " 96                      NaN  \n",
       " 97                      NaN  \n",
       " 98                      NaN  \n",
       " 99                      NaN  \n",
       " \n",
       " [100 rows x 15 columns],\n",
       " '_55':    PROV_WORK_ORDR_NUM   CUST_NUM MACRO_SEG CUST_LEG_LANG_CD PRODUCT_FAMILY  \\\n",
       " 0         202397723.0  620206602        SE           NL           INTERNET   \n",
       " 1         201962218.0  623194454       RES           FR                 TV   \n",
       " 2         201472916.0  616304667       RES           FR                 TV   \n",
       " 3         202326289.0  607047556       RES           FR                 TV   \n",
       " 4         202069273.0  615507099       RES           NL           INTERNET   \n",
       " \n",
       "   LAST_APPT_DT LAST_APPT_SLOT  CONTACT_PHON_NUMBER  WASTE_SCORE  reached  \\\n",
       " 0   2019-10-31             AM            472228645        0.207      NaN   \n",
       " 1   2019-10-31           LATE            466332741        0.558      NaN   \n",
       " 2   2019-10-31             PM             64842690        0.336      NaN   \n",
       " 3   2019-10-31             PM            496518865        0.236      NaN   \n",
       " 4   2019-10-31           LATE            489344691        0.221      NaN   \n",
       " \n",
       "    voice_mail  outcome  cust_aware  Adapter numéro contact  \\\n",
       " 0         NaN      NaN         NaN                     NaN   \n",
       " 1         NaN      NaN         NaN                     NaN   \n",
       " 2         NaN      NaN         NaN                     NaN   \n",
       " 3         NaN      NaN         NaN                     NaN   \n",
       " 4         NaN      NaN         NaN                     NaN   \n",
       " \n",
       "    adapter install address  \n",
       " 0                      NaN  \n",
       " 1                      NaN  \n",
       " 2                      NaN  \n",
       " 3                      NaN  \n",
       " 4                      NaN  ,\n",
       " '_57':    PROV_WORK_ORDR_NUM   CUST_NUM MACRO_SEG CUST_LEG_LANG_CD PRODUCT_FAMILY  \\\n",
       " 0         202397723.0  620206602        SE           NL           INTERNET   \n",
       " 1         201962218.0  623194454       RES           FR                 TV   \n",
       " 2         201472916.0  616304667       RES           FR                 TV   \n",
       " 3         202326289.0  607047556       RES           FR                 TV   \n",
       " 4         202069273.0  615507099       RES           NL           INTERNET   \n",
       " \n",
       "   LAST_APPT_DT LAST_APPT_SLOT CONTACT_PHON_NUMBER  WASTE_SCORE  reached  \\\n",
       " 0   2019-10-31             AM          0472228645        0.207      NaN   \n",
       " 1   2019-10-31           LATE          0466332741        0.558      NaN   \n",
       " 2   2019-10-31             PM           064842690        0.336      NaN   \n",
       " 3   2019-10-31             PM          0496518865        0.236      NaN   \n",
       " 4   2019-10-31           LATE          0489344691        0.221      NaN   \n",
       " \n",
       "    voice_mail  outcome  cust_aware  Adapter numéro contact  \\\n",
       " 0         NaN      NaN         NaN                     NaN   \n",
       " 1         NaN      NaN         NaN                     NaN   \n",
       " 2         NaN      NaN         NaN                     NaN   \n",
       " 3         NaN      NaN         NaN                     NaN   \n",
       " 4         NaN      NaN         NaN                     NaN   \n",
       " \n",
       "    adapter install address  \n",
       " 0                      NaN  \n",
       " 1                      NaN  \n",
       " 2                      NaN  \n",
       " 3                      NaN  \n",
       " 4                      NaN  ,\n",
       " '_59':    PROV_WORK_ORDR_NUM   CUST_NUM MACRO_SEG CUST_LEG_LANG_CD PRODUCT_FAMILY  \\\n",
       " 0         202397723.0  620206602        SE           NL           INTERNET   \n",
       " 1         201962218.0  623194454       RES           FR                 TV   \n",
       " 2         201472916.0  616304667       RES           FR                 TV   \n",
       " 3         202326289.0  607047556       RES           FR                 TV   \n",
       " 4         202069273.0  615507099       RES           NL           INTERNET   \n",
       " \n",
       "   LAST_APPT_DT LAST_APPT_SLOT CONTACT_PHON_NUMBER  WASTE_SCORE  reached  \\\n",
       " 0   2019-10-31             AM          0472228645        0.207      NaN   \n",
       " 1   2019-10-31           LATE          0466332741        0.558      NaN   \n",
       " 2   2019-10-31             PM           064842690        0.336      NaN   \n",
       " 3   2019-10-31             PM          0496518865        0.236      NaN   \n",
       " 4   2019-10-31           LATE          0489344691        0.221      NaN   \n",
       " \n",
       "    voice_mail  outcome  cust_aware  Adapter numéro contact  \\\n",
       " 0         NaN      NaN         NaN                     NaN   \n",
       " 1         NaN      NaN         NaN                     NaN   \n",
       " 2         NaN      NaN         NaN                     NaN   \n",
       " 3         NaN      NaN         NaN                     NaN   \n",
       " 4         NaN      NaN         NaN                     NaN   \n",
       " \n",
       "    adapter install address  \n",
       " 0                      NaN  \n",
       " 1                      NaN  \n",
       " 2                      NaN  \n",
       " 3                      NaN  \n",
       " 4                      NaN  ,\n",
       " '_6':    CONTACT_PHON_NUMBER\n",
       " 0           0474834821\n",
       " 1           0499191769\n",
       " 2           0472893211\n",
       " 3           0483692513\n",
       " 4                 None\n",
       " 5           0475968574\n",
       " 6           0499226407\n",
       " 7           0486351660\n",
       " 8           0474256001\n",
       " 9                 None\n",
       " 10          0473217520\n",
       " 11          0475417917\n",
       " 12          0474109378\n",
       " 13          0468115973\n",
       " 14          0476094479\n",
       " 15          0495311829\n",
       " 16          0495311829\n",
       " 17          0465802045\n",
       " 18          0497182436\n",
       " 19          0475324699\n",
       " 20          0476219288\n",
       " 21          0479317781\n",
       " 22          0495321062\n",
       " 23          0478206045\n",
       " 24          0472849013\n",
       " 25          0476666836\n",
       " 26          0474275719\n",
       " 27          0473936446\n",
       " 28           011450460\n",
       " 29          0497698212\n",
       " 30          0476868296\n",
       " 31          0489288783\n",
       " 32          0498564367\n",
       " 33          0467703961\n",
       " 34          0476277348\n",
       " 35          0477494016\n",
       " 36          0474741486\n",
       " 37          0471342797\n",
       " 38           023459294\n",
       " 39          0496914339,\n",
       " '_61':    PROV_WORK_ORDR_NUM   CUST_NUM MACRO_SEG CUST_LEG_LANG_CD PRODUCT_FAMILY  \\\n",
       " 0         202397723.0  620206602        SE           NL           INTERNET   \n",
       " 1         201962218.0  623194454       RES           FR                 TV   \n",
       " 2         201472916.0  616304667       RES           FR                 TV   \n",
       " 3         202326289.0  607047556       RES           FR                 TV   \n",
       " 4         202069273.0  615507099       RES           NL           INTERNET   \n",
       " \n",
       "   LAST_APPT_DT LAST_APPT_SLOT  CONTACT_PHON_NUMBER  WASTE_SCORE  reached  \\\n",
       " 0   2019-10-31             AM            472228645        0.207      NaN   \n",
       " 1   2019-10-31           LATE            466332741        0.558      NaN   \n",
       " 2   2019-10-31             PM             64842690        0.336      NaN   \n",
       " 3   2019-10-31             PM            496518865        0.236      NaN   \n",
       " 4   2019-10-31           LATE            489344691        0.221      NaN   \n",
       " \n",
       "    voice_mail  outcome  cust_aware  Adapter numéro contact  \\\n",
       " 0         NaN      NaN         NaN                     NaN   \n",
       " 1         NaN      NaN         NaN                     NaN   \n",
       " 2         NaN      NaN         NaN                     NaN   \n",
       " 3         NaN      NaN         NaN                     NaN   \n",
       " 4         NaN      NaN         NaN                     NaN   \n",
       " \n",
       "    adapter install address  \n",
       " 0                      NaN  \n",
       " 1                      NaN  \n",
       " 2                      NaN  \n",
       " 3                      NaN  \n",
       " 4                      NaN  ,\n",
       " '_64': '/work/jupyterhub/id860112/Playground',\n",
       " '_65': ['Iris.ipynb',\n",
       "  '.ipynb_checkpoints',\n",
       "  'mpg.ipynb',\n",
       "  'NN.ipynb',\n",
       "  'DC_suivi_Py.ipynb'],\n",
       " '_8':     CONTACT_PHON_NUMBER  length     cleaned\n",
       " 0            0474834821    10.0  0474834821\n",
       " 1            0499191769    10.0  0499191769\n",
       " 2            0472893211    10.0  0472893211\n",
       " 3            0483692513    10.0  0483692513\n",
       " 5            0475968574    10.0  0475968574\n",
       " 6            0499226407    10.0  0499226407\n",
       " 7            0486351660    10.0  0486351660\n",
       " 8            0474256001    10.0  0474256001\n",
       " 10           0473217520    10.0  0473217520\n",
       " 11           0475417917    10.0  0475417917\n",
       " 12           0474109378    10.0  0474109378\n",
       " 13           0468115973    10.0  0468115973\n",
       " 14           0476094479    10.0  0476094479\n",
       " 15           0495311829    10.0  0495311829\n",
       " 16           0495311829    10.0  0495311829\n",
       " 17           0465802045    10.0  0465802045\n",
       " 18           0497182436    10.0  0497182436\n",
       " 19           0475324699    10.0  0475324699\n",
       " 20           0476219288    10.0  0476219288\n",
       " 21           0479317781    10.0  0479317781\n",
       " 22           0495321062    10.0  0495321062\n",
       " 23           0478206045    10.0  0478206045\n",
       " 24           0472849013    10.0  0472849013\n",
       " 25           0476666836    10.0  0476666836\n",
       " 26           0474275719    10.0  0474275719\n",
       " 27           0473936446    10.0  0473936446\n",
       " 28            011450460     9.0   011450460\n",
       " 29           0497698212    10.0  0497698212\n",
       " 30           0476868296    10.0  0476868296\n",
       " 31           0489288783    10.0  0489288783\n",
       " ..                  ...     ...         ...\n",
       " 469          0474122044    10.0  0474122044\n",
       " 470          0470811607    10.0  0470811607\n",
       " 471          0477596634    10.0  0477596634\n",
       " 472          0474982504    10.0  0474982504\n",
       " 473          0497893627    10.0  0497893627\n",
       " 474          0497893627    10.0  0497893627\n",
       " 475          0476650686    10.0  0476650686\n",
       " 476          0476650686    10.0  0476650686\n",
       " 477          0474630297    10.0  0474630297\n",
       " 478          0487160328    10.0  0487160328\n",
       " 479          0477223364    10.0  0477223364\n",
       " 480          0497156789    10.0  0497156789\n",
       " 481          0493206330    10.0  0493206330\n",
       " 482          0495578422    10.0  0495578422\n",
       " 483          0496533209    10.0  0496533209\n",
       " 484          0497872227    10.0  0497872227\n",
       " 485          0476541248    10.0  0476541248\n",
       " 486          0499341110    10.0  0499341110\n",
       " 487          0476246108    10.0  0476246108\n",
       " 489          0497859282    10.0  0497859282\n",
       " 490          0474417177    10.0  0474417177\n",
       " 491          0472267357    10.0  0472267357\n",
       " 492          0473692676    10.0  0473692676\n",
       " 493          0486998744    10.0  0486998744\n",
       " 494          0471082430    10.0  0471082430\n",
       " 495          0474174984    10.0  0474174984\n",
       " 496          0478574497    10.0  0478574497\n",
       " 497          0477073591    10.0  0477073591\n",
       " 498          0498278926    10.0  0498278926\n",
       " 499          0472956931    10.0  0472956931\n",
       " \n",
       " [485 rows x 3 columns],\n",
       " '__': '/work/jupyterhub/id860112/Playground',\n",
       " '___':    PROV_WORK_ORDR_NUM   CUST_NUM MACRO_SEG CUST_LEG_LANG_CD PRODUCT_FAMILY  \\\n",
       " 0         202397723.0  620206602        SE           NL           INTERNET   \n",
       " 1         201962218.0  623194454       RES           FR                 TV   \n",
       " 2         201472916.0  616304667       RES           FR                 TV   \n",
       " 3         202326289.0  607047556       RES           FR                 TV   \n",
       " 4         202069273.0  615507099       RES           NL           INTERNET   \n",
       " \n",
       "   LAST_APPT_DT LAST_APPT_SLOT  CONTACT_PHON_NUMBER  WASTE_SCORE  reached  \\\n",
       " 0   2019-10-31             AM            472228645        0.207      NaN   \n",
       " 1   2019-10-31           LATE            466332741        0.558      NaN   \n",
       " 2   2019-10-31             PM             64842690        0.336      NaN   \n",
       " 3   2019-10-31             PM            496518865        0.236      NaN   \n",
       " 4   2019-10-31           LATE            489344691        0.221      NaN   \n",
       " \n",
       "    voice_mail  outcome  cust_aware  Adapter numéro contact  \\\n",
       " 0         NaN      NaN         NaN                     NaN   \n",
       " 1         NaN      NaN         NaN                     NaN   \n",
       " 2         NaN      NaN         NaN                     NaN   \n",
       " 3         NaN      NaN         NaN                     NaN   \n",
       " 4         NaN      NaN         NaN                     NaN   \n",
       " \n",
       "    adapter install address  \n",
       " 0                      NaN  \n",
       " 1                      NaN  \n",
       " 2                      NaN  \n",
       " 3                      NaN  \n",
       " 4                      NaN  ,\n",
       " '__builtin__': <module 'builtins' (built-in)>,\n",
       " '__builtins__': <module 'builtins' (built-in)>,\n",
       " '__doc__': 'Automatically created module for IPython interactive environment',\n",
       " '__loader__': None,\n",
       " '__name__': '__main__',\n",
       " '__package__': None,\n",
       " '__spec__': None,\n",
       " '_dh': ['/work/jupyterhub/id860112/Playground'],\n",
       " '_i': 'os.listdir()[:5]',\n",
       " '_i1': 'import pandas as pd\\nimport matplotlib.pyplot as plt\\nimport seaborn as sns\\nimport numpy as np\\nimport time\\nfrom sklearn import datasets\\n\\nimport scikitplot as skplt',\n",
       " '_i10': 'rawdata[\"CONTACT_PHON_NUMBER\"]dropna().apply(len)',\n",
       " '_i11': 'rawdata[\"CONTACT_PHON_NUMBER\"].dropna().apply(len)',\n",
       " '_i12': 'rawdata[\"length\"] = rawdata[\"CONTACT_PHON_NUMBER\"].dropna().apply(len)',\n",
       " '_i13': 'rawdata[rawdata[\"length\"] > 9]',\n",
       " '_i14': 'rawdata[rawdata[\"length\"] > 10]',\n",
       " '_i15': 'bad_phone = rawdata[rawdata[\"length\"] > 10].copy()',\n",
       " '_i16': 'bad_phone',\n",
       " '_i17': 'bad_phone[0]',\n",
       " '_i18': 'bad_phone[58]',\n",
       " '_i19': 'bad_phone',\n",
       " '_i2': 'import pyodbc\\n\\nquery = \"SEL top 500 contact_phone_number FROM D0_BUS_EUDS_APPV.APP_PPADS_R_RWMI\"\\n\\nwith pyodbc.connect(driver=\\'Teradata\\', dbcname=\\'dwhp\\', uid=\"id860112\", pwd=\"Phynix_777\") as conn:\\n        conn.setdecoding(pyodbc.SQL_CHAR, encoding=\\'CP1252\\')\\n        rawdata = pd.read_sql(query, conn) \\n\\nprint(\"Training Data has been imported successfully\")\\nprint(rawdata.shape)',\n",
       " '_i20': 'bad_phone.loc[58,:]',\n",
       " '_i21': 'bad_phone[\"CONTACT_PHON_NUMBER\"]',\n",
       " '_i22': 'bad_phone[\"CONTACT_PHON_NUMBER\"][0]',\n",
       " '_i23': 'bad_phone[\"CONTACT_PHON_NUMBER\"][58]',\n",
       " '_i24': 'example = bad_phone[\"CONTACT_PHON_NUMBER\"][58]',\n",
       " '_i25': 'example',\n",
       " '_i26': 'example[0:2]',\n",
       " '_i27': 'example2 = example',\n",
       " '_i28': \"example2 = '+' + example2[2:]\",\n",
       " '_i29': 'example2',\n",
       " '_i3': 'import pyodbc\\n\\nquery = \"SEL top 500 contact_phon_number FROM D0_BUS_EUDS_APPV.APP_PPADS_R_RWMI\"\\n\\nwith pyodbc.connect(driver=\\'Teradata\\', dbcname=\\'dwhp\\', uid=\"id860112\", pwd=\"Phynix_777\") as conn:\\n        conn.setdecoding(pyodbc.SQL_CHAR, encoding=\\'CP1252\\')\\n        rawdata = pd.read_sql(query, conn) \\n\\nprint(\"Training Data has been imported successfully\")\\nprint(rawdata.shape)',\n",
       " '_i30': \"def clean_phone_number(phone_num):\\n    \\n    cleaned_num = phone_num\\n    \\n    if len(cleaned_num) > 10:\\n        if cleaned_num[:2] == '00':\\n            cleaned_num = '+' + cleaned_num[2:]\\n            \\n    return(cleaned_num)\",\n",
       " '_i31': 'bad_phone',\n",
       " '_i32': 'bad_phone[\"CONTACT_PHON_NUMBER\"].apply(clean_phone_number)',\n",
       " '_i33': 'bad_phone[\"cleaned\"] =bad_phone[\"CONTACT_PHON_NUMBER\"].apply(clean_phone_number)',\n",
       " '_i34': 'bad_phone',\n",
       " '_i35': 'rawdata.apply(clean_phone_number)',\n",
       " '_i36': 'rawdata[\"CONTACT_PHON_NUMBER\"].apply(clean_phone_number)',\n",
       " '_i37': 'rawdata[\"CONTACT_PHON_NUMBER\"].dropna().apply(clean_phone_number)',\n",
       " '_i38': 'rawdata',\n",
       " '_i39': 'rawdata[\"cleaned\"] =rawdata[\"CONTACT_PHON_NUMBER\"].apply(clean_phone_number)',\n",
       " '_i4': 'rawdata.head()',\n",
       " '_i40': 'rawdata.dropna(inplace=True)\\n\\nrawdata[\"cleaned\"] = rawdata[\"CONTACT_PHON_NUMBER\"].apply(clean_phone_number)',\n",
       " '_i41': 'from openpyxl import Workbook\\nfrom openpyxl.utils.dataframe import dataframe_to_rows\\n\\nwb = Workbook()\\nws = wb.active\\n\\nfor r in dataframe_to_rows(rawdata, index=False, header=True):\\n    ws.append(r)\\n\\nwb.save(filename = \"test.xlsx\")',\n",
       " '_i42': 'import pyodbc\\n\\nquery = \"SEL top 500 contact_phon_number FROM D0_BUS_EUDS_APPV.APP_PPADS_R_RWMI\"\\n\\nwith pyodbc.connect(driver=\\'Teradata\\', dbcname=\\'dwhp\\', uid=\"id860112\", pwd=\"Phynix_777\") as conn:\\n        conn.setdecoding(pyodbc.SQL_CHAR, encoding=\\'CP1252\\')\\n        rawdata = pd.read_sql(query, conn) \\n\\nprint(\"Training Data has been imported successfully\")\\nprint(rawdata.shape)',\n",
       " '_i43': 'rawdata.fillna(\"Missing\", inplace=True)\\n\\nrawdata[\"cleaned\"] = rawdata[\"CONTACT_PHON_NUMBER\"].apply(clean_phone_number)',\n",
       " '_i44': 'from openpyxl import Workbook\\nfrom openpyxl.utils.dataframe import dataframe_to_rows\\n\\nwb = Workbook()\\nws = wb.active\\n\\nfor r in dataframe_to_rows(rawdata, index=False, header=True):\\n    ws.append(r)\\n\\nwb.save(filename = \"test.xlsx\")',\n",
       " '_i45': 'rawdata.info()',\n",
       " '_i46': '(1,2,5).apply(str)',\n",
       " '_i47': 'str((1,2))',\n",
       " '_i48': 'map(str, (1,5,3))',\n",
       " '_i49': 'tuple(map(str, (1,5,3)))',\n",
       " '_i5': 'rawdata.head(20)',\n",
       " '_i50': '[1,2,3].apply(str)',\n",
       " '_i51': 'list(map(str, [1,2,3]))',\n",
       " '_i52': 'pd.read_csv(\"/work/jupyterhub/id860112/RWMI/PPA_2019-rwmi/\" + \"data/predictions/flagged_wo_on_\" + dt.date.today().strftime(\"%d_%m_%Y\") + \".csv\")',\n",
       " '_i53': 'import datetime as dt\\npd.read_csv(\"/work/jupyterhub/id860112/RWMI/PPA_2019-rwmi/\" + \"data/predictions/flagged_wo_on_\" + dt.date.today().strftime(\"%d_%m_%Y\") + \".csv\")',\n",
       " '_i54': 'import datetime as dt\\ndf = pd.read_csv(\"/work/jupyterhub/id860112/RWMI/PPA_2019-rwmi/\" + \"data/predictions/flagged_wo_on_\" + dt.date.today().strftime(\"%d_%m_%Y\") + \".csv\")',\n",
       " '_i55': 'df.head()',\n",
       " '_i56': 'import datetime as dt\\ndf = pd.read_csv(\"/work/jupyterhub/id860112/RWMI/PPA_2019-rwmi/\" + \"data/predictions/flagged_wo_on_\" + dt.date.today().strftime(\"%d_%m_%Y\") + \".csv\",\\n                converters={\\'CONTACT_PHON_NUMBER\\': lambda x: str(x)})',\n",
       " '_i57': 'df.head()',\n",
       " '_i58': 'import datetime as dt\\ndf = pd.read_csv(\"/work/jupyterhub/id860112/RWMI/PPA_2019-rwmi/\" + \"data/predictions/flagged_wo_on_\" + dt.date.today().strftime(\"%d_%m_%Y\") + \".csv\"',\n",
       " '_i59': 'df.head()',\n",
       " '_i6': 'rawdata.head(40)',\n",
       " '_i60': 'import datetime as dt\\ndf = pd.read_csv(\"/work/jupyterhub/id860112/RWMI/PPA_2019-rwmi/\" + \"data/predictions/flagged_wo_on_\" + dt.date.today().strftime(\"%d_%m_%Y\") + \".csv\")',\n",
       " '_i61': 'df.head()',\n",
       " '_i62': 'os.listdir()[:5]',\n",
       " '_i63': 'import os',\n",
       " '_i64': 'os.getcwd()',\n",
       " '_i65': 'os.listdir()[:5]',\n",
       " '_i66': 'globals()',\n",
       " '_i7': 'rawdata[\"length\"] = len(rawdata[\"CONTACT_PHON_NUMBER\"])',\n",
       " '_i8': 'rawdata',\n",
       " '_i9': 'rawdata[\"CONTACT_PHON_NUMBER\"].apply(len)',\n",
       " '_ih': ['',\n",
       "  'import pandas as pd\\nimport matplotlib.pyplot as plt\\nimport seaborn as sns\\nimport numpy as np\\nimport time\\nfrom sklearn import datasets\\n\\nimport scikitplot as skplt',\n",
       "  'import pyodbc\\n\\nquery = \"SEL top 500 contact_phone_number FROM D0_BUS_EUDS_APPV.APP_PPADS_R_RWMI\"\\n\\nwith pyodbc.connect(driver=\\'Teradata\\', dbcname=\\'dwhp\\', uid=\"id860112\", pwd=\"Phynix_777\") as conn:\\n        conn.setdecoding(pyodbc.SQL_CHAR, encoding=\\'CP1252\\')\\n        rawdata = pd.read_sql(query, conn) \\n\\nprint(\"Training Data has been imported successfully\")\\nprint(rawdata.shape)',\n",
       "  'import pyodbc\\n\\nquery = \"SEL top 500 contact_phon_number FROM D0_BUS_EUDS_APPV.APP_PPADS_R_RWMI\"\\n\\nwith pyodbc.connect(driver=\\'Teradata\\', dbcname=\\'dwhp\\', uid=\"id860112\", pwd=\"Phynix_777\") as conn:\\n        conn.setdecoding(pyodbc.SQL_CHAR, encoding=\\'CP1252\\')\\n        rawdata = pd.read_sql(query, conn) \\n\\nprint(\"Training Data has been imported successfully\")\\nprint(rawdata.shape)',\n",
       "  'rawdata.head()',\n",
       "  'rawdata.head(20)',\n",
       "  'rawdata.head(40)',\n",
       "  'rawdata[\"length\"] = len(rawdata[\"CONTACT_PHON_NUMBER\"])',\n",
       "  'rawdata',\n",
       "  'rawdata[\"CONTACT_PHON_NUMBER\"].apply(len)',\n",
       "  'rawdata[\"CONTACT_PHON_NUMBER\"]dropna().apply(len)',\n",
       "  'rawdata[\"CONTACT_PHON_NUMBER\"].dropna().apply(len)',\n",
       "  'rawdata[\"length\"] = rawdata[\"CONTACT_PHON_NUMBER\"].dropna().apply(len)',\n",
       "  'rawdata[rawdata[\"length\"] > 9]',\n",
       "  'rawdata[rawdata[\"length\"] > 10]',\n",
       "  'bad_phone = rawdata[rawdata[\"length\"] > 10].copy()',\n",
       "  'bad_phone',\n",
       "  'bad_phone[0]',\n",
       "  'bad_phone[58]',\n",
       "  'bad_phone',\n",
       "  'bad_phone.loc[58,:]',\n",
       "  'bad_phone[\"CONTACT_PHON_NUMBER\"]',\n",
       "  'bad_phone[\"CONTACT_PHON_NUMBER\"][0]',\n",
       "  'bad_phone[\"CONTACT_PHON_NUMBER\"][58]',\n",
       "  'example = bad_phone[\"CONTACT_PHON_NUMBER\"][58]',\n",
       "  'example',\n",
       "  'example[0:2]',\n",
       "  'example2 = example',\n",
       "  \"example2 = '+' + example2[2:]\",\n",
       "  'example2',\n",
       "  \"def clean_phone_number(phone_num):\\n    \\n    cleaned_num = phone_num\\n    \\n    if len(cleaned_num) > 10:\\n        if cleaned_num[:2] == '00':\\n            cleaned_num = '+' + cleaned_num[2:]\\n            \\n    return(cleaned_num)\",\n",
       "  'bad_phone',\n",
       "  'bad_phone[\"CONTACT_PHON_NUMBER\"].apply(clean_phone_number)',\n",
       "  'bad_phone[\"cleaned\"] =bad_phone[\"CONTACT_PHON_NUMBER\"].apply(clean_phone_number)',\n",
       "  'bad_phone',\n",
       "  'rawdata.apply(clean_phone_number)',\n",
       "  'rawdata[\"CONTACT_PHON_NUMBER\"].apply(clean_phone_number)',\n",
       "  'rawdata[\"CONTACT_PHON_NUMBER\"].dropna().apply(clean_phone_number)',\n",
       "  'rawdata',\n",
       "  'rawdata[\"cleaned\"] =rawdata[\"CONTACT_PHON_NUMBER\"].apply(clean_phone_number)',\n",
       "  'rawdata.dropna(inplace=True)\\n\\nrawdata[\"cleaned\"] = rawdata[\"CONTACT_PHON_NUMBER\"].apply(clean_phone_number)',\n",
       "  'from openpyxl import Workbook\\nfrom openpyxl.utils.dataframe import dataframe_to_rows\\n\\nwb = Workbook()\\nws = wb.active\\n\\nfor r in dataframe_to_rows(rawdata, index=False, header=True):\\n    ws.append(r)\\n\\nwb.save(filename = \"test.xlsx\")',\n",
       "  'import pyodbc\\n\\nquery = \"SEL top 500 contact_phon_number FROM D0_BUS_EUDS_APPV.APP_PPADS_R_RWMI\"\\n\\nwith pyodbc.connect(driver=\\'Teradata\\', dbcname=\\'dwhp\\', uid=\"id860112\", pwd=\"Phynix_777\") as conn:\\n        conn.setdecoding(pyodbc.SQL_CHAR, encoding=\\'CP1252\\')\\n        rawdata = pd.read_sql(query, conn) \\n\\nprint(\"Training Data has been imported successfully\")\\nprint(rawdata.shape)',\n",
       "  'rawdata.fillna(\"Missing\", inplace=True)\\n\\nrawdata[\"cleaned\"] = rawdata[\"CONTACT_PHON_NUMBER\"].apply(clean_phone_number)',\n",
       "  'from openpyxl import Workbook\\nfrom openpyxl.utils.dataframe import dataframe_to_rows\\n\\nwb = Workbook()\\nws = wb.active\\n\\nfor r in dataframe_to_rows(rawdata, index=False, header=True):\\n    ws.append(r)\\n\\nwb.save(filename = \"test.xlsx\")',\n",
       "  'rawdata.info()',\n",
       "  '(1,2,5).apply(str)',\n",
       "  'str((1,2))',\n",
       "  'map(str, (1,5,3))',\n",
       "  'tuple(map(str, (1,5,3)))',\n",
       "  '[1,2,3].apply(str)',\n",
       "  'list(map(str, [1,2,3]))',\n",
       "  'pd.read_csv(\"/work/jupyterhub/id860112/RWMI/PPA_2019-rwmi/\" + \"data/predictions/flagged_wo_on_\" + dt.date.today().strftime(\"%d_%m_%Y\") + \".csv\")',\n",
       "  'import datetime as dt\\npd.read_csv(\"/work/jupyterhub/id860112/RWMI/PPA_2019-rwmi/\" + \"data/predictions/flagged_wo_on_\" + dt.date.today().strftime(\"%d_%m_%Y\") + \".csv\")',\n",
       "  'import datetime as dt\\ndf = pd.read_csv(\"/work/jupyterhub/id860112/RWMI/PPA_2019-rwmi/\" + \"data/predictions/flagged_wo_on_\" + dt.date.today().strftime(\"%d_%m_%Y\") + \".csv\")',\n",
       "  'df.head()',\n",
       "  'import datetime as dt\\ndf = pd.read_csv(\"/work/jupyterhub/id860112/RWMI/PPA_2019-rwmi/\" + \"data/predictions/flagged_wo_on_\" + dt.date.today().strftime(\"%d_%m_%Y\") + \".csv\",\\n                converters={\\'CONTACT_PHON_NUMBER\\': lambda x: str(x)})',\n",
       "  'df.head()',\n",
       "  'import datetime as dt\\ndf = pd.read_csv(\"/work/jupyterhub/id860112/RWMI/PPA_2019-rwmi/\" + \"data/predictions/flagged_wo_on_\" + dt.date.today().strftime(\"%d_%m_%Y\") + \".csv\"',\n",
       "  'df.head()',\n",
       "  'import datetime as dt\\ndf = pd.read_csv(\"/work/jupyterhub/id860112/RWMI/PPA_2019-rwmi/\" + \"data/predictions/flagged_wo_on_\" + dt.date.today().strftime(\"%d_%m_%Y\") + \".csv\")',\n",
       "  'df.head()',\n",
       "  'os.listdir()[:5]',\n",
       "  'import os',\n",
       "  'os.getcwd()',\n",
       "  'os.listdir()[:5]',\n",
       "  'globals()'],\n",
       " '_ii': 'os.getcwd()',\n",
       " '_iii': 'import os',\n",
       " '_oh': {4:   CONTACT_PHON_NUMBER\n",
       "  0          0474834821\n",
       "  1          0499191769\n",
       "  2          0472893211\n",
       "  3          0483692513\n",
       "  4                None, 5:    CONTACT_PHON_NUMBER\n",
       "  0           0474834821\n",
       "  1           0499191769\n",
       "  2           0472893211\n",
       "  3           0483692513\n",
       "  4                 None\n",
       "  5           0475968574\n",
       "  6           0499226407\n",
       "  7           0486351660\n",
       "  8           0474256001\n",
       "  9                 None\n",
       "  10          0473217520\n",
       "  11          0475417917\n",
       "  12          0474109378\n",
       "  13          0468115973\n",
       "  14          0476094479\n",
       "  15          0495311829\n",
       "  16          0495311829\n",
       "  17          0465802045\n",
       "  18          0497182436\n",
       "  19          0475324699, 6:    CONTACT_PHON_NUMBER\n",
       "  0           0474834821\n",
       "  1           0499191769\n",
       "  2           0472893211\n",
       "  3           0483692513\n",
       "  4                 None\n",
       "  5           0475968574\n",
       "  6           0499226407\n",
       "  7           0486351660\n",
       "  8           0474256001\n",
       "  9                 None\n",
       "  10          0473217520\n",
       "  11          0475417917\n",
       "  12          0474109378\n",
       "  13          0468115973\n",
       "  14          0476094479\n",
       "  15          0495311829\n",
       "  16          0495311829\n",
       "  17          0465802045\n",
       "  18          0497182436\n",
       "  19          0475324699\n",
       "  20          0476219288\n",
       "  21          0479317781\n",
       "  22          0495321062\n",
       "  23          0478206045\n",
       "  24          0472849013\n",
       "  25          0476666836\n",
       "  26          0474275719\n",
       "  27          0473936446\n",
       "  28           011450460\n",
       "  29          0497698212\n",
       "  30          0476868296\n",
       "  31          0489288783\n",
       "  32          0498564367\n",
       "  33          0467703961\n",
       "  34          0476277348\n",
       "  35          0477494016\n",
       "  36          0474741486\n",
       "  37          0471342797\n",
       "  38           023459294\n",
       "  39          0496914339, 8:     CONTACT_PHON_NUMBER  length     cleaned\n",
       "  0            0474834821    10.0  0474834821\n",
       "  1            0499191769    10.0  0499191769\n",
       "  2            0472893211    10.0  0472893211\n",
       "  3            0483692513    10.0  0483692513\n",
       "  5            0475968574    10.0  0475968574\n",
       "  6            0499226407    10.0  0499226407\n",
       "  7            0486351660    10.0  0486351660\n",
       "  8            0474256001    10.0  0474256001\n",
       "  10           0473217520    10.0  0473217520\n",
       "  11           0475417917    10.0  0475417917\n",
       "  12           0474109378    10.0  0474109378\n",
       "  13           0468115973    10.0  0468115973\n",
       "  14           0476094479    10.0  0476094479\n",
       "  15           0495311829    10.0  0495311829\n",
       "  16           0495311829    10.0  0495311829\n",
       "  17           0465802045    10.0  0465802045\n",
       "  18           0497182436    10.0  0497182436\n",
       "  19           0475324699    10.0  0475324699\n",
       "  20           0476219288    10.0  0476219288\n",
       "  21           0479317781    10.0  0479317781\n",
       "  22           0495321062    10.0  0495321062\n",
       "  23           0478206045    10.0  0478206045\n",
       "  24           0472849013    10.0  0472849013\n",
       "  25           0476666836    10.0  0476666836\n",
       "  26           0474275719    10.0  0474275719\n",
       "  27           0473936446    10.0  0473936446\n",
       "  28            011450460     9.0   011450460\n",
       "  29           0497698212    10.0  0497698212\n",
       "  30           0476868296    10.0  0476868296\n",
       "  31           0489288783    10.0  0489288783\n",
       "  ..                  ...     ...         ...\n",
       "  469          0474122044    10.0  0474122044\n",
       "  470          0470811607    10.0  0470811607\n",
       "  471          0477596634    10.0  0477596634\n",
       "  472          0474982504    10.0  0474982504\n",
       "  473          0497893627    10.0  0497893627\n",
       "  474          0497893627    10.0  0497893627\n",
       "  475          0476650686    10.0  0476650686\n",
       "  476          0476650686    10.0  0476650686\n",
       "  477          0474630297    10.0  0474630297\n",
       "  478          0487160328    10.0  0487160328\n",
       "  479          0477223364    10.0  0477223364\n",
       "  480          0497156789    10.0  0497156789\n",
       "  481          0493206330    10.0  0493206330\n",
       "  482          0495578422    10.0  0495578422\n",
       "  483          0496533209    10.0  0496533209\n",
       "  484          0497872227    10.0  0497872227\n",
       "  485          0476541248    10.0  0476541248\n",
       "  486          0499341110    10.0  0499341110\n",
       "  487          0476246108    10.0  0476246108\n",
       "  489          0497859282    10.0  0497859282\n",
       "  490          0474417177    10.0  0474417177\n",
       "  491          0472267357    10.0  0472267357\n",
       "  492          0473692676    10.0  0473692676\n",
       "  493          0486998744    10.0  0486998744\n",
       "  494          0471082430    10.0  0471082430\n",
       "  495          0474174984    10.0  0474174984\n",
       "  496          0478574497    10.0  0478574497\n",
       "  497          0477073591    10.0  0477073591\n",
       "  498          0498278926    10.0  0498278926\n",
       "  499          0472956931    10.0  0472956931\n",
       "  \n",
       "  [485 rows x 3 columns], 11: 0      10\n",
       "  1      10\n",
       "  2      10\n",
       "  3      10\n",
       "  5      10\n",
       "  6      10\n",
       "  7      10\n",
       "  8      10\n",
       "  10     10\n",
       "  11     10\n",
       "  12     10\n",
       "  13     10\n",
       "  14     10\n",
       "  15     10\n",
       "  16     10\n",
       "  17     10\n",
       "  18     10\n",
       "  19     10\n",
       "  20     10\n",
       "  21     10\n",
       "  22     10\n",
       "  23     10\n",
       "  24     10\n",
       "  25     10\n",
       "  26     10\n",
       "  27     10\n",
       "  28      9\n",
       "  29     10\n",
       "  30     10\n",
       "  31     10\n",
       "         ..\n",
       "  469    10\n",
       "  470    10\n",
       "  471    10\n",
       "  472    10\n",
       "  473    10\n",
       "  474    10\n",
       "  475    10\n",
       "  476    10\n",
       "  477    10\n",
       "  478    10\n",
       "  479    10\n",
       "  480    10\n",
       "  481    10\n",
       "  482    10\n",
       "  483    10\n",
       "  484    10\n",
       "  485    10\n",
       "  486    10\n",
       "  487    10\n",
       "  489    10\n",
       "  490    10\n",
       "  491    10\n",
       "  492    10\n",
       "  493    10\n",
       "  494    10\n",
       "  495    10\n",
       "  496    10\n",
       "  497    10\n",
       "  498    10\n",
       "  499    10\n",
       "  Name: CONTACT_PHON_NUMBER, Length: 485, dtype: int64, 13:     CONTACT_PHON_NUMBER  length\n",
       "  0            0474834821    10.0\n",
       "  1            0499191769    10.0\n",
       "  2            0472893211    10.0\n",
       "  3            0483692513    10.0\n",
       "  5            0475968574    10.0\n",
       "  6            0499226407    10.0\n",
       "  7            0486351660    10.0\n",
       "  8            0474256001    10.0\n",
       "  10           0473217520    10.0\n",
       "  11           0475417917    10.0\n",
       "  12           0474109378    10.0\n",
       "  13           0468115973    10.0\n",
       "  14           0476094479    10.0\n",
       "  15           0495311829    10.0\n",
       "  16           0495311829    10.0\n",
       "  17           0465802045    10.0\n",
       "  18           0497182436    10.0\n",
       "  19           0475324699    10.0\n",
       "  20           0476219288    10.0\n",
       "  21           0479317781    10.0\n",
       "  22           0495321062    10.0\n",
       "  23           0478206045    10.0\n",
       "  24           0472849013    10.0\n",
       "  25           0476666836    10.0\n",
       "  26           0474275719    10.0\n",
       "  27           0473936446    10.0\n",
       "  29           0497698212    10.0\n",
       "  30           0476868296    10.0\n",
       "  31           0489288783    10.0\n",
       "  32           0498564367    10.0\n",
       "  ..                  ...     ...\n",
       "  469          0474122044    10.0\n",
       "  470          0470811607    10.0\n",
       "  471          0477596634    10.0\n",
       "  472          0474982504    10.0\n",
       "  473          0497893627    10.0\n",
       "  474          0497893627    10.0\n",
       "  475          0476650686    10.0\n",
       "  476          0476650686    10.0\n",
       "  477          0474630297    10.0\n",
       "  478          0487160328    10.0\n",
       "  479          0477223364    10.0\n",
       "  480          0497156789    10.0\n",
       "  481          0493206330    10.0\n",
       "  482          0495578422    10.0\n",
       "  483          0496533209    10.0\n",
       "  484          0497872227    10.0\n",
       "  485          0476541248    10.0\n",
       "  486          0499341110    10.0\n",
       "  487          0476246108    10.0\n",
       "  489          0497859282    10.0\n",
       "  490          0474417177    10.0\n",
       "  491          0472267357    10.0\n",
       "  492          0473692676    10.0\n",
       "  493          0486998744    10.0\n",
       "  494          0471082430    10.0\n",
       "  495          0474174984    10.0\n",
       "  496          0478574497    10.0\n",
       "  497          0477073591    10.0\n",
       "  498          0498278926    10.0\n",
       "  499          0472956931    10.0\n",
       "  \n",
       "  [462 rows x 2 columns], 14:     CONTACT_PHON_NUMBER  length\n",
       "  58        0033769094615    13.0\n",
       "  64       00393393442704    14.0\n",
       "  110       0031646762560    13.0\n",
       "  158      00352621260149    14.0\n",
       "  184      00351621176161    14.0\n",
       "  217      00352621730355    14.0\n",
       "  220       0033659878921    13.0\n",
       "  274      00352691201271    14.0\n",
       "  307      00393663040699    14.0, 16:     CONTACT_PHON_NUMBER  length        cleaned\n",
       "  58        0033769094615    13.0   +33769094615\n",
       "  64       00393393442704    14.0  +393393442704\n",
       "  110       0031646762560    13.0   +31646762560\n",
       "  158      00352621260149    14.0  +352621260149\n",
       "  184      00351621176161    14.0  +351621176161\n",
       "  217      00352621730355    14.0  +352621730355\n",
       "  220       0033659878921    13.0   +33659878921\n",
       "  274      00352691201271    14.0  +352691201271\n",
       "  307      00393663040699    14.0  +393663040699, 19:     CONTACT_PHON_NUMBER  length        cleaned\n",
       "  58        0033769094615    13.0   +33769094615\n",
       "  64       00393393442704    14.0  +393393442704\n",
       "  110       0031646762560    13.0   +31646762560\n",
       "  158      00352621260149    14.0  +352621260149\n",
       "  184      00351621176161    14.0  +351621176161\n",
       "  217      00352621730355    14.0  +352621730355\n",
       "  220       0033659878921    13.0   +33659878921\n",
       "  274      00352691201271    14.0  +352691201271\n",
       "  307      00393663040699    14.0  +393663040699, 20: CONTACT_PHON_NUMBER    0033769094615\n",
       "  length                            13\n",
       "  Name: 58, dtype: object, 21: 58      0033769094615\n",
       "  64     00393393442704\n",
       "  110     0031646762560\n",
       "  158    00352621260149\n",
       "  184    00351621176161\n",
       "  217    00352621730355\n",
       "  220     0033659878921\n",
       "  274    00352691201271\n",
       "  307    00393663040699\n",
       "  Name: CONTACT_PHON_NUMBER, dtype: object, 23: '0033769094615', 25: '0033769094615', 26: '00', 29: '+33769094615', 31:     CONTACT_PHON_NUMBER  length        cleaned\n",
       "  58        0033769094615    13.0   +33769094615\n",
       "  64       00393393442704    14.0  +393393442704\n",
       "  110       0031646762560    13.0   +31646762560\n",
       "  158      00352621260149    14.0  +352621260149\n",
       "  184      00351621176161    14.0  +351621176161\n",
       "  217      00352621730355    14.0  +352621730355\n",
       "  220       0033659878921    13.0   +33659878921\n",
       "  274      00352691201271    14.0  +352691201271\n",
       "  307      00393663040699    14.0  +393663040699, 32: 58      +33769094615\n",
       "  64     +393393442704\n",
       "  110     +31646762560\n",
       "  158    +352621260149\n",
       "  184    +351621176161\n",
       "  217    +352621730355\n",
       "  220     +33659878921\n",
       "  274    +352691201271\n",
       "  307    +393663040699\n",
       "  Name: CONTACT_PHON_NUMBER, dtype: object, 34:     CONTACT_PHON_NUMBER  length        cleaned\n",
       "  58        0033769094615    13.0   +33769094615\n",
       "  64       00393393442704    14.0  +393393442704\n",
       "  110       0031646762560    13.0   +31646762560\n",
       "  158      00352621260149    14.0  +352621260149\n",
       "  184      00351621176161    14.0  +351621176161\n",
       "  217      00352621730355    14.0  +352621730355\n",
       "  220       0033659878921    13.0   +33659878921\n",
       "  274      00352691201271    14.0  +352691201271\n",
       "  307      00393663040699    14.0  +393663040699, 37: 0      0474834821\n",
       "  1      0499191769\n",
       "  2      0472893211\n",
       "  3      0483692513\n",
       "  5      0475968574\n",
       "  6      0499226407\n",
       "  7      0486351660\n",
       "  8      0474256001\n",
       "  10     0473217520\n",
       "  11     0475417917\n",
       "  12     0474109378\n",
       "  13     0468115973\n",
       "  14     0476094479\n",
       "  15     0495311829\n",
       "  16     0495311829\n",
       "  17     0465802045\n",
       "  18     0497182436\n",
       "  19     0475324699\n",
       "  20     0476219288\n",
       "  21     0479317781\n",
       "  22     0495321062\n",
       "  23     0478206045\n",
       "  24     0472849013\n",
       "  25     0476666836\n",
       "  26     0474275719\n",
       "  27     0473936446\n",
       "  28      011450460\n",
       "  29     0497698212\n",
       "  30     0476868296\n",
       "  31     0489288783\n",
       "            ...    \n",
       "  469    0474122044\n",
       "  470    0470811607\n",
       "  471    0477596634\n",
       "  472    0474982504\n",
       "  473    0497893627\n",
       "  474    0497893627\n",
       "  475    0476650686\n",
       "  476    0476650686\n",
       "  477    0474630297\n",
       "  478    0487160328\n",
       "  479    0477223364\n",
       "  480    0497156789\n",
       "  481    0493206330\n",
       "  482    0495578422\n",
       "  483    0496533209\n",
       "  484    0497872227\n",
       "  485    0476541248\n",
       "  486    0499341110\n",
       "  487    0476246108\n",
       "  489    0497859282\n",
       "  490    0474417177\n",
       "  491    0472267357\n",
       "  492    0473692676\n",
       "  493    0486998744\n",
       "  494    0471082430\n",
       "  495    0474174984\n",
       "  496    0478574497\n",
       "  497    0477073591\n",
       "  498    0498278926\n",
       "  499    0472956931\n",
       "  Name: CONTACT_PHON_NUMBER, Length: 485, dtype: object, 38:     CONTACT_PHON_NUMBER  length     cleaned\n",
       "  0            0474834821    10.0  0474834821\n",
       "  1            0499191769    10.0  0499191769\n",
       "  2            0472893211    10.0  0472893211\n",
       "  3            0483692513    10.0  0483692513\n",
       "  5            0475968574    10.0  0475968574\n",
       "  6            0499226407    10.0  0499226407\n",
       "  7            0486351660    10.0  0486351660\n",
       "  8            0474256001    10.0  0474256001\n",
       "  10           0473217520    10.0  0473217520\n",
       "  11           0475417917    10.0  0475417917\n",
       "  12           0474109378    10.0  0474109378\n",
       "  13           0468115973    10.0  0468115973\n",
       "  14           0476094479    10.0  0476094479\n",
       "  15           0495311829    10.0  0495311829\n",
       "  16           0495311829    10.0  0495311829\n",
       "  17           0465802045    10.0  0465802045\n",
       "  18           0497182436    10.0  0497182436\n",
       "  19           0475324699    10.0  0475324699\n",
       "  20           0476219288    10.0  0476219288\n",
       "  21           0479317781    10.0  0479317781\n",
       "  22           0495321062    10.0  0495321062\n",
       "  23           0478206045    10.0  0478206045\n",
       "  24           0472849013    10.0  0472849013\n",
       "  25           0476666836    10.0  0476666836\n",
       "  26           0474275719    10.0  0474275719\n",
       "  27           0473936446    10.0  0473936446\n",
       "  28            011450460     9.0   011450460\n",
       "  29           0497698212    10.0  0497698212\n",
       "  30           0476868296    10.0  0476868296\n",
       "  31           0489288783    10.0  0489288783\n",
       "  ..                  ...     ...         ...\n",
       "  469          0474122044    10.0  0474122044\n",
       "  470          0470811607    10.0  0470811607\n",
       "  471          0477596634    10.0  0477596634\n",
       "  472          0474982504    10.0  0474982504\n",
       "  473          0497893627    10.0  0497893627\n",
       "  474          0497893627    10.0  0497893627\n",
       "  475          0476650686    10.0  0476650686\n",
       "  476          0476650686    10.0  0476650686\n",
       "  477          0474630297    10.0  0474630297\n",
       "  478          0487160328    10.0  0487160328\n",
       "  479          0477223364    10.0  0477223364\n",
       "  480          0497156789    10.0  0497156789\n",
       "  481          0493206330    10.0  0493206330\n",
       "  482          0495578422    10.0  0495578422\n",
       "  483          0496533209    10.0  0496533209\n",
       "  484          0497872227    10.0  0497872227\n",
       "  485          0476541248    10.0  0476541248\n",
       "  486          0499341110    10.0  0499341110\n",
       "  487          0476246108    10.0  0476246108\n",
       "  489          0497859282    10.0  0497859282\n",
       "  490          0474417177    10.0  0474417177\n",
       "  491          0472267357    10.0  0472267357\n",
       "  492          0473692676    10.0  0473692676\n",
       "  493          0486998744    10.0  0486998744\n",
       "  494          0471082430    10.0  0471082430\n",
       "  495          0474174984    10.0  0474174984\n",
       "  496          0478574497    10.0  0478574497\n",
       "  497          0477073591    10.0  0477073591\n",
       "  498          0498278926    10.0  0498278926\n",
       "  499          0472956931    10.0  0472956931\n",
       "  \n",
       "  [485 rows x 3 columns], 47: '(1, 2)', 48: <map at 0x7f5444133c18>, 49: ('1',\n",
       "   '5',\n",
       "   '3'), 51: ['1',\n",
       "   '2',\n",
       "   '3'], 53:     PROV_WORK_ORDR_NUM   CUST_NUM MACRO_SEG CUST_LEG_LANG_CD PRODUCT_FAMILY  \\\n",
       "  0          202397723.0  620206602        SE           NL           INTERNET   \n",
       "  1          201962218.0  623194454       RES           FR                 TV   \n",
       "  2          201472916.0  616304667       RES           FR                 TV   \n",
       "  3          202326289.0  607047556       RES           FR                 TV   \n",
       "  4          202069273.0  615507099       RES           NL           INTERNET   \n",
       "  5          201687988.0  623060702       RES           NL                 TV   \n",
       "  6          202151021.0  623217786       RES           NL           INTERNET   \n",
       "  7          202161231.0  610857666       RES           FR                 TV   \n",
       "  8          202585550.0  623243053       RES           NL                 TV   \n",
       "  9          202536881.0  608744035       RES           FR                 TV   \n",
       "  10         201472122.0  620681072       RES           FR           INTERNET   \n",
       "  11         202804397.0  623187839       RES           NL                 TV   \n",
       "  12         202313236.0  623220421       RES           DE                 TV   \n",
       "  13         202611041.0  623238872       RES           NL                 TV   \n",
       "  14         202509952.0  620998770       RES           FR                 TV   \n",
       "  15         202228348.0  612073953       RES           NL           INTERNET   \n",
       "  16         197789539.0  607266596       RES           FR                 TV   \n",
       "  17         202449715.0  623236814       RES           FR           INTERNET   \n",
       "  18         202330814.0  608512432       RES           FR                 TV   \n",
       "  19         202515610.0  623240031       RES           NL                 TV   \n",
       "  20         202031117.0  623126980        SE           FR                 TV   \n",
       "  21         201895332.0  619800414       RES           FR           INTERNET   \n",
       "  22         202667621.0  623202267       RES           FR           INTERNET   \n",
       "  23         201701569.0  623033378       RES           FR                 TV   \n",
       "  24         201797867.0  623178906       RES           FR           INTERNET   \n",
       "  25         199108436.0  623020982       RES           FR                 TV   \n",
       "  26         202632144.0  623226739       RES           FR                 TV   \n",
       "  27         202622509.0  623217940       RES           FR                 TV   \n",
       "  28         202800456.0    2973613       RES           FR                 TV   \n",
       "  29         202608360.0  621084315       RES           NL                 TV   \n",
       "  ..                 ...        ...       ...              ...            ...   \n",
       "  70         201457539.0  607698750       RES           NL                 TV   \n",
       "  71         202528072.0  611448998       RES           FR                 TV   \n",
       "  72         201686018.0  608664383       RES           FR                 TV   \n",
       "  73         201882223.0  617106285       RES           FR                 TV   \n",
       "  74         201749308.0  623166532       RES           FR                 TV   \n",
       "  75         201532318.0  614026696       RES           FR                 TV   \n",
       "  76         202253197.0  623211072       RES           NL                 TV   \n",
       "  77         201459923.0    3070095       RES           FR                 TV   \n",
       "  78         202151283.0  622826649        SE           NL                 TV   \n",
       "  79         202560916.0  623194179       RES           FR           INTERNET   \n",
       "  80         201856579.0  609122193       RES           FR                 TV   \n",
       "  81         202171155.0  618320429       RES           FR                 TV   \n",
       "  82         202367116.0  623232005       RES           NL                 TV   \n",
       "  83         202482589.0  175553533        SE           NL           INTERNET   \n",
       "  84         202807754.0  623225414       RES           NL                 TV   \n",
       "  85         201611130.0  622990078       RES           FR                 TV   \n",
       "  86         202280508.0  620877079       RES           FR                 TV   \n",
       "  87         198535375.0  616637125        SE           FR           INTERNET   \n",
       "  88         202070604.0  620846136        SE           FR               PSTN   \n",
       "  89         202489155.0  615738781       RES           FR                 TV   \n",
       "  90         202590242.0  623242315       RES           FR                 TV   \n",
       "  91         202751259.0    4016092        SE           FR                 TV   \n",
       "  92         202752845.0  623122337       RES           NL                 TV   \n",
       "  93         202279078.0  614199160       RES           FR                 TV   \n",
       "  94         202279697.0  615215730        SE           NL           INTERNET   \n",
       "  95         202506527.0  622653437       RES           FR           INTERNET   \n",
       "  96         202743632.0  614148471       RES           FR                 TV   \n",
       "  97         202480674.0  620914550        SE           FR                 TV   \n",
       "  98         201994761.0  616557855       RES           FR                 TV   \n",
       "  99         202688408.0  623210568       RES           FR           INTERNET   \n",
       "  \n",
       "     LAST_APPT_DT LAST_APPT_SLOT  CONTACT_PHON_NUMBER  WASTE_SCORE  reached  \\\n",
       "  0    2019-10-31             AM            472228645        0.207      NaN   \n",
       "  1    2019-10-31           LATE            466332741        0.558      NaN   \n",
       "  2    2019-10-31             PM             64842690        0.336      NaN   \n",
       "  3    2019-10-31             PM            496518865        0.236      NaN   \n",
       "  4    2019-10-31           LATE            489344691        0.221      NaN   \n",
       "  5    2019-10-31             PM            474838235        0.763      NaN   \n",
       "  6    2019-10-31           NOON            484656641        0.607      NaN   \n",
       "  7    2019-10-31           LATE            489876520        0.325      NaN   \n",
       "  8    2019-10-31             PM            488086126        0.264      NaN   \n",
       "  9    2019-10-31           LATE            486586205        0.231      NaN   \n",
       "  10   2019-10-31           LATE            466026162        0.279      NaN   \n",
       "  11   2019-10-31             PM            476715822        0.886      NaN   \n",
       "  12   2019-10-31             PM         491712211088        0.620      NaN   \n",
       "  13   2019-10-31             AM            468225538        0.258      NaN   \n",
       "  14   2019-10-31             PM            472227735        0.554      NaN   \n",
       "  15   2019-10-31           NOON            473213018        0.389      NaN   \n",
       "  16   2019-10-31             PM            471752828        0.698      NaN   \n",
       "  17   2019-10-31             AM          33686039318        0.780      NaN   \n",
       "  18   2019-10-31             PM            483488813        0.783      NaN   \n",
       "  19   2019-10-31             PM            470039281        0.245      NaN   \n",
       "  20   2019-10-31           NOON            470243772        0.202      NaN   \n",
       "  21   2019-10-31             PM            497410911        0.204      NaN   \n",
       "  22   2019-10-31             PM            470922711        0.516      NaN   \n",
       "  23   2019-10-31            DAY            495357074        0.383      NaN   \n",
       "  24   2019-10-31             PM            465796050        0.652      NaN   \n",
       "  25   2019-10-31             PM            466442899        0.739      NaN   \n",
       "  26   2019-10-31            DAY            484026768        0.328      NaN   \n",
       "  27   2019-10-31             PM            473637600        0.263      NaN   \n",
       "  28   2019-10-31            DAY            494572516        0.381      NaN   \n",
       "  29   2019-10-31            DAY            486427254        0.763      NaN   \n",
       "  ..          ...            ...                  ...          ...      ...   \n",
       "  70   2019-10-31             AM            474614838        0.459      NaN   \n",
       "  71   2019-10-31           LATE            486532086        0.260      NaN   \n",
       "  72   2019-10-31            DAY            479629885        0.612      NaN   \n",
       "  73   2019-10-31           LATE            487755359        0.330      NaN   \n",
       "  74   2019-10-31             PM            465212299        0.556      NaN   \n",
       "  75   2019-10-31            DAY            483733683        0.408      NaN   \n",
       "  76   2019-10-31           LATE          31657541472        0.513      NaN   \n",
       "  77   2019-10-31            DAY            498167729        0.331      NaN   \n",
       "  78   2019-10-31            DAY            476768176        0.858      NaN   \n",
       "  79   2019-10-31             AM          33661485042        0.204      NaN   \n",
       "  80   2019-10-31           LATE            498563744        0.452      NaN   \n",
       "  81   2019-10-31             AM            477445308        0.551      NaN   \n",
       "  82   2019-10-31             PM            498166415        0.218      NaN   \n",
       "  83   2019-10-31           NOON            472025900        0.256      NaN   \n",
       "  84   2019-10-31             PM            494904470        0.846      NaN   \n",
       "  85   2019-10-31             PM            468097735        0.948      NaN   \n",
       "  86   2019-10-31             PM            492162324        0.794      NaN   \n",
       "  87   2019-10-31            DAY            477348423        0.658      NaN   \n",
       "  88   2019-10-31             AM            494884763        0.714      NaN   \n",
       "  89   2019-10-31             AM            485351340        0.362      NaN   \n",
       "  90   2019-10-31             PM            493833937        0.683      NaN   \n",
       "  91   2019-10-31            DAY            484619776        0.279      NaN   \n",
       "  92   2019-10-31            DAY            496307503        0.228      NaN   \n",
       "  93   2019-10-31             AM            475963296        0.281      NaN   \n",
       "  94   2019-10-31             PM             32837155        0.697      NaN   \n",
       "  95   2019-10-31             AM            497734818        0.470      NaN   \n",
       "  96   2019-10-31             AM            472861400        0.388      NaN   \n",
       "  97   2019-10-31             AM            484477268        0.282      NaN   \n",
       "  98   2019-10-31             AM            497124018        0.210      NaN   \n",
       "  99   2019-10-31             PM            470130553        0.662      NaN   \n",
       "  \n",
       "      voice_mail  outcome  cust_aware  Adapter numéro contact  \\\n",
       "  0          NaN      NaN         NaN                     NaN   \n",
       "  1          NaN      NaN         NaN                     NaN   \n",
       "  2          NaN      NaN         NaN                     NaN   \n",
       "  3          NaN      NaN         NaN                     NaN   \n",
       "  4          NaN      NaN         NaN                     NaN   \n",
       "  5          NaN      NaN         NaN                     NaN   \n",
       "  6          NaN      NaN         NaN                     NaN   \n",
       "  7          NaN      NaN         NaN                     NaN   \n",
       "  8          NaN      NaN         NaN                     NaN   \n",
       "  9          NaN      NaN         NaN                     NaN   \n",
       "  10         NaN      NaN         NaN                     NaN   \n",
       "  11         NaN      NaN         NaN                     NaN   \n",
       "  12         NaN      NaN         NaN                     NaN   \n",
       "  13         NaN      NaN         NaN                     NaN   \n",
       "  14         NaN      NaN         NaN                     NaN   \n",
       "  15         NaN      NaN         NaN                     NaN   \n",
       "  16         NaN      NaN         NaN                     NaN   \n",
       "  17         NaN      NaN         NaN                     NaN   \n",
       "  18         NaN      NaN         NaN                     NaN   \n",
       "  19         NaN      NaN         NaN                     NaN   \n",
       "  20         NaN      NaN         NaN                     NaN   \n",
       "  21         NaN      NaN         NaN                     NaN   \n",
       "  22         NaN      NaN         NaN                     NaN   \n",
       "  23         NaN      NaN         NaN                     NaN   \n",
       "  24         NaN      NaN         NaN                     NaN   \n",
       "  25         NaN      NaN         NaN                     NaN   \n",
       "  26         NaN      NaN         NaN                     NaN   \n",
       "  27         NaN      NaN         NaN                     NaN   \n",
       "  28         NaN      NaN         NaN                     NaN   \n",
       "  29         NaN      NaN         NaN                     NaN   \n",
       "  ..         ...      ...         ...                     ...   \n",
       "  70         NaN      NaN         NaN                     NaN   \n",
       "  71         NaN      NaN         NaN                     NaN   \n",
       "  72         NaN      NaN         NaN                     NaN   \n",
       "  73         NaN      NaN         NaN                     NaN   \n",
       "  74         NaN      NaN         NaN                     NaN   \n",
       "  75         NaN      NaN         NaN                     NaN   \n",
       "  76         NaN      NaN         NaN                     NaN   \n",
       "  77         NaN      NaN         NaN                     NaN   \n",
       "  78         NaN      NaN         NaN                     NaN   \n",
       "  79         NaN      NaN         NaN                     NaN   \n",
       "  80         NaN      NaN         NaN                     NaN   \n",
       "  81         NaN      NaN         NaN                     NaN   \n",
       "  82         NaN      NaN         NaN                     NaN   \n",
       "  83         NaN      NaN         NaN                     NaN   \n",
       "  84         NaN      NaN         NaN                     NaN   \n",
       "  85         NaN      NaN         NaN                     NaN   \n",
       "  86         NaN      NaN         NaN                     NaN   \n",
       "  87         NaN      NaN         NaN                     NaN   \n",
       "  88         NaN      NaN         NaN                     NaN   \n",
       "  89         NaN      NaN         NaN                     NaN   \n",
       "  90         NaN      NaN         NaN                     NaN   \n",
       "  91         NaN      NaN         NaN                     NaN   \n",
       "  92         NaN      NaN         NaN                     NaN   \n",
       "  93         NaN      NaN         NaN                     NaN   \n",
       "  94         NaN      NaN         NaN                     NaN   \n",
       "  95         NaN      NaN         NaN                     NaN   \n",
       "  96         NaN      NaN         NaN                     NaN   \n",
       "  97         NaN      NaN         NaN                     NaN   \n",
       "  98         NaN      NaN         NaN                     NaN   \n",
       "  99         NaN      NaN         NaN                     NaN   \n",
       "  \n",
       "      adapter install address  \n",
       "  0                       NaN  \n",
       "  1                       NaN  \n",
       "  2                       NaN  \n",
       "  3                       NaN  \n",
       "  4                       NaN  \n",
       "  5                       NaN  \n",
       "  6                       NaN  \n",
       "  7                       NaN  \n",
       "  8                       NaN  \n",
       "  9                       NaN  \n",
       "  10                      NaN  \n",
       "  11                      NaN  \n",
       "  12                      NaN  \n",
       "  13                      NaN  \n",
       "  14                      NaN  \n",
       "  15                      NaN  \n",
       "  16                      NaN  \n",
       "  17                      NaN  \n",
       "  18                      NaN  \n",
       "  19                      NaN  \n",
       "  20                      NaN  \n",
       "  21                      NaN  \n",
       "  22                      NaN  \n",
       "  23                      NaN  \n",
       "  24                      NaN  \n",
       "  25                      NaN  \n",
       "  26                      NaN  \n",
       "  27                      NaN  \n",
       "  28                      NaN  \n",
       "  29                      NaN  \n",
       "  ..                      ...  \n",
       "  70                      NaN  \n",
       "  71                      NaN  \n",
       "  72                      NaN  \n",
       "  73                      NaN  \n",
       "  74                      NaN  \n",
       "  75                      NaN  \n",
       "  76                      NaN  \n",
       "  77                      NaN  \n",
       "  78                      NaN  \n",
       "  79                      NaN  \n",
       "  80                      NaN  \n",
       "  81                      NaN  \n",
       "  82                      NaN  \n",
       "  83                      NaN  \n",
       "  84                      NaN  \n",
       "  85                      NaN  \n",
       "  86                      NaN  \n",
       "  87                      NaN  \n",
       "  88                      NaN  \n",
       "  89                      NaN  \n",
       "  90                      NaN  \n",
       "  91                      NaN  \n",
       "  92                      NaN  \n",
       "  93                      NaN  \n",
       "  94                      NaN  \n",
       "  95                      NaN  \n",
       "  96                      NaN  \n",
       "  97                      NaN  \n",
       "  98                      NaN  \n",
       "  99                      NaN  \n",
       "  \n",
       "  [100 rows x 15 columns], 55:    PROV_WORK_ORDR_NUM   CUST_NUM MACRO_SEG CUST_LEG_LANG_CD PRODUCT_FAMILY  \\\n",
       "  0         202397723.0  620206602        SE           NL           INTERNET   \n",
       "  1         201962218.0  623194454       RES           FR                 TV   \n",
       "  2         201472916.0  616304667       RES           FR                 TV   \n",
       "  3         202326289.0  607047556       RES           FR                 TV   \n",
       "  4         202069273.0  615507099       RES           NL           INTERNET   \n",
       "  \n",
       "    LAST_APPT_DT LAST_APPT_SLOT  CONTACT_PHON_NUMBER  WASTE_SCORE  reached  \\\n",
       "  0   2019-10-31             AM            472228645        0.207      NaN   \n",
       "  1   2019-10-31           LATE            466332741        0.558      NaN   \n",
       "  2   2019-10-31             PM             64842690        0.336      NaN   \n",
       "  3   2019-10-31             PM            496518865        0.236      NaN   \n",
       "  4   2019-10-31           LATE            489344691        0.221      NaN   \n",
       "  \n",
       "     voice_mail  outcome  cust_aware  Adapter numéro contact  \\\n",
       "  0         NaN      NaN         NaN                     NaN   \n",
       "  1         NaN      NaN         NaN                     NaN   \n",
       "  2         NaN      NaN         NaN                     NaN   \n",
       "  3         NaN      NaN         NaN                     NaN   \n",
       "  4         NaN      NaN         NaN                     NaN   \n",
       "  \n",
       "     adapter install address  \n",
       "  0                      NaN  \n",
       "  1                      NaN  \n",
       "  2                      NaN  \n",
       "  3                      NaN  \n",
       "  4                      NaN  , 57:    PROV_WORK_ORDR_NUM   CUST_NUM MACRO_SEG CUST_LEG_LANG_CD PRODUCT_FAMILY  \\\n",
       "  0         202397723.0  620206602        SE           NL           INTERNET   \n",
       "  1         201962218.0  623194454       RES           FR                 TV   \n",
       "  2         201472916.0  616304667       RES           FR                 TV   \n",
       "  3         202326289.0  607047556       RES           FR                 TV   \n",
       "  4         202069273.0  615507099       RES           NL           INTERNET   \n",
       "  \n",
       "    LAST_APPT_DT LAST_APPT_SLOT CONTACT_PHON_NUMBER  WASTE_SCORE  reached  \\\n",
       "  0   2019-10-31             AM          0472228645        0.207      NaN   \n",
       "  1   2019-10-31           LATE          0466332741        0.558      NaN   \n",
       "  2   2019-10-31             PM           064842690        0.336      NaN   \n",
       "  3   2019-10-31             PM          0496518865        0.236      NaN   \n",
       "  4   2019-10-31           LATE          0489344691        0.221      NaN   \n",
       "  \n",
       "     voice_mail  outcome  cust_aware  Adapter numéro contact  \\\n",
       "  0         NaN      NaN         NaN                     NaN   \n",
       "  1         NaN      NaN         NaN                     NaN   \n",
       "  2         NaN      NaN         NaN                     NaN   \n",
       "  3         NaN      NaN         NaN                     NaN   \n",
       "  4         NaN      NaN         NaN                     NaN   \n",
       "  \n",
       "     adapter install address  \n",
       "  0                      NaN  \n",
       "  1                      NaN  \n",
       "  2                      NaN  \n",
       "  3                      NaN  \n",
       "  4                      NaN  , 59:    PROV_WORK_ORDR_NUM   CUST_NUM MACRO_SEG CUST_LEG_LANG_CD PRODUCT_FAMILY  \\\n",
       "  0         202397723.0  620206602        SE           NL           INTERNET   \n",
       "  1         201962218.0  623194454       RES           FR                 TV   \n",
       "  2         201472916.0  616304667       RES           FR                 TV   \n",
       "  3         202326289.0  607047556       RES           FR                 TV   \n",
       "  4         202069273.0  615507099       RES           NL           INTERNET   \n",
       "  \n",
       "    LAST_APPT_DT LAST_APPT_SLOT CONTACT_PHON_NUMBER  WASTE_SCORE  reached  \\\n",
       "  0   2019-10-31             AM          0472228645        0.207      NaN   \n",
       "  1   2019-10-31           LATE          0466332741        0.558      NaN   \n",
       "  2   2019-10-31             PM           064842690        0.336      NaN   \n",
       "  3   2019-10-31             PM          0496518865        0.236      NaN   \n",
       "  4   2019-10-31           LATE          0489344691        0.221      NaN   \n",
       "  \n",
       "     voice_mail  outcome  cust_aware  Adapter numéro contact  \\\n",
       "  0         NaN      NaN         NaN                     NaN   \n",
       "  1         NaN      NaN         NaN                     NaN   \n",
       "  2         NaN      NaN         NaN                     NaN   \n",
       "  3         NaN      NaN         NaN                     NaN   \n",
       "  4         NaN      NaN         NaN                     NaN   \n",
       "  \n",
       "     adapter install address  \n",
       "  0                      NaN  \n",
       "  1                      NaN  \n",
       "  2                      NaN  \n",
       "  3                      NaN  \n",
       "  4                      NaN  , 61:    PROV_WORK_ORDR_NUM   CUST_NUM MACRO_SEG CUST_LEG_LANG_CD PRODUCT_FAMILY  \\\n",
       "  0         202397723.0  620206602        SE           NL           INTERNET   \n",
       "  1         201962218.0  623194454       RES           FR                 TV   \n",
       "  2         201472916.0  616304667       RES           FR                 TV   \n",
       "  3         202326289.0  607047556       RES           FR                 TV   \n",
       "  4         202069273.0  615507099       RES           NL           INTERNET   \n",
       "  \n",
       "    LAST_APPT_DT LAST_APPT_SLOT  CONTACT_PHON_NUMBER  WASTE_SCORE  reached  \\\n",
       "  0   2019-10-31             AM            472228645        0.207      NaN   \n",
       "  1   2019-10-31           LATE            466332741        0.558      NaN   \n",
       "  2   2019-10-31             PM             64842690        0.336      NaN   \n",
       "  3   2019-10-31             PM            496518865        0.236      NaN   \n",
       "  4   2019-10-31           LATE            489344691        0.221      NaN   \n",
       "  \n",
       "     voice_mail  outcome  cust_aware  Adapter numéro contact  \\\n",
       "  0         NaN      NaN         NaN                     NaN   \n",
       "  1         NaN      NaN         NaN                     NaN   \n",
       "  2         NaN      NaN         NaN                     NaN   \n",
       "  3         NaN      NaN         NaN                     NaN   \n",
       "  4         NaN      NaN         NaN                     NaN   \n",
       "  \n",
       "     adapter install address  \n",
       "  0                      NaN  \n",
       "  1                      NaN  \n",
       "  2                      NaN  \n",
       "  3                      NaN  \n",
       "  4                      NaN  , 64: '/work/jupyterhub/id860112/Playground', 65: ['Iris.ipynb',\n",
       "   '.ipynb_checkpoints',\n",
       "   'mpg.ipynb',\n",
       "   'NN.ipynb',\n",
       "   'DC_suivi_Py.ipynb']},\n",
       " 'bad_phone':     CONTACT_PHON_NUMBER  length        cleaned\n",
       " 58        0033769094615    13.0   +33769094615\n",
       " 64       00393393442704    14.0  +393393442704\n",
       " 110       0031646762560    13.0   +31646762560\n",
       " 158      00352621260149    14.0  +352621260149\n",
       " 184      00351621176161    14.0  +351621176161\n",
       " 217      00352621730355    14.0  +352621730355\n",
       " 220       0033659878921    13.0   +33659878921\n",
       " 274      00352691201271    14.0  +352691201271\n",
       " 307      00393663040699    14.0  +393663040699,\n",
       " 'clean_phone_number': <function __main__.clean_phone_number(phone_num)>,\n",
       " 'conn': <pyodbc.Connection at 0x7f543f0ea540>,\n",
       " 'dataframe_to_rows': <function openpyxl.utils.dataframe.dataframe_to_rows(df, index=True, header=True)>,\n",
       " 'datasets': <module 'sklearn.datasets' from '/work/jupyterhub/id860112/envs/My_Python_3.5/lib/python3.5/site-packages/sklearn/datasets/__init__.py'>,\n",
       " 'df':     PROV_WORK_ORDR_NUM   CUST_NUM MACRO_SEG CUST_LEG_LANG_CD PRODUCT_FAMILY  \\\n",
       " 0          202397723.0  620206602        SE           NL           INTERNET   \n",
       " 1          201962218.0  623194454       RES           FR                 TV   \n",
       " 2          201472916.0  616304667       RES           FR                 TV   \n",
       " 3          202326289.0  607047556       RES           FR                 TV   \n",
       " 4          202069273.0  615507099       RES           NL           INTERNET   \n",
       " 5          201687988.0  623060702       RES           NL                 TV   \n",
       " 6          202151021.0  623217786       RES           NL           INTERNET   \n",
       " 7          202161231.0  610857666       RES           FR                 TV   \n",
       " 8          202585550.0  623243053       RES           NL                 TV   \n",
       " 9          202536881.0  608744035       RES           FR                 TV   \n",
       " 10         201472122.0  620681072       RES           FR           INTERNET   \n",
       " 11         202804397.0  623187839       RES           NL                 TV   \n",
       " 12         202313236.0  623220421       RES           DE                 TV   \n",
       " 13         202611041.0  623238872       RES           NL                 TV   \n",
       " 14         202509952.0  620998770       RES           FR                 TV   \n",
       " 15         202228348.0  612073953       RES           NL           INTERNET   \n",
       " 16         197789539.0  607266596       RES           FR                 TV   \n",
       " 17         202449715.0  623236814       RES           FR           INTERNET   \n",
       " 18         202330814.0  608512432       RES           FR                 TV   \n",
       " 19         202515610.0  623240031       RES           NL                 TV   \n",
       " 20         202031117.0  623126980        SE           FR                 TV   \n",
       " 21         201895332.0  619800414       RES           FR           INTERNET   \n",
       " 22         202667621.0  623202267       RES           FR           INTERNET   \n",
       " 23         201701569.0  623033378       RES           FR                 TV   \n",
       " 24         201797867.0  623178906       RES           FR           INTERNET   \n",
       " 25         199108436.0  623020982       RES           FR                 TV   \n",
       " 26         202632144.0  623226739       RES           FR                 TV   \n",
       " 27         202622509.0  623217940       RES           FR                 TV   \n",
       " 28         202800456.0    2973613       RES           FR                 TV   \n",
       " 29         202608360.0  621084315       RES           NL                 TV   \n",
       " ..                 ...        ...       ...              ...            ...   \n",
       " 70         201457539.0  607698750       RES           NL                 TV   \n",
       " 71         202528072.0  611448998       RES           FR                 TV   \n",
       " 72         201686018.0  608664383       RES           FR                 TV   \n",
       " 73         201882223.0  617106285       RES           FR                 TV   \n",
       " 74         201749308.0  623166532       RES           FR                 TV   \n",
       " 75         201532318.0  614026696       RES           FR                 TV   \n",
       " 76         202253197.0  623211072       RES           NL                 TV   \n",
       " 77         201459923.0    3070095       RES           FR                 TV   \n",
       " 78         202151283.0  622826649        SE           NL                 TV   \n",
       " 79         202560916.0  623194179       RES           FR           INTERNET   \n",
       " 80         201856579.0  609122193       RES           FR                 TV   \n",
       " 81         202171155.0  618320429       RES           FR                 TV   \n",
       " 82         202367116.0  623232005       RES           NL                 TV   \n",
       " 83         202482589.0  175553533        SE           NL           INTERNET   \n",
       " 84         202807754.0  623225414       RES           NL                 TV   \n",
       " 85         201611130.0  622990078       RES           FR                 TV   \n",
       " 86         202280508.0  620877079       RES           FR                 TV   \n",
       " 87         198535375.0  616637125        SE           FR           INTERNET   \n",
       " 88         202070604.0  620846136        SE           FR               PSTN   \n",
       " 89         202489155.0  615738781       RES           FR                 TV   \n",
       " 90         202590242.0  623242315       RES           FR                 TV   \n",
       " 91         202751259.0    4016092        SE           FR                 TV   \n",
       " 92         202752845.0  623122337       RES           NL                 TV   \n",
       " 93         202279078.0  614199160       RES           FR                 TV   \n",
       " 94         202279697.0  615215730        SE           NL           INTERNET   \n",
       " 95         202506527.0  622653437       RES           FR           INTERNET   \n",
       " 96         202743632.0  614148471       RES           FR                 TV   \n",
       " 97         202480674.0  620914550        SE           FR                 TV   \n",
       " 98         201994761.0  616557855       RES           FR                 TV   \n",
       " 99         202688408.0  623210568       RES           FR           INTERNET   \n",
       " \n",
       "    LAST_APPT_DT LAST_APPT_SLOT  CONTACT_PHON_NUMBER  WASTE_SCORE  reached  \\\n",
       " 0    2019-10-31             AM            472228645        0.207      NaN   \n",
       " 1    2019-10-31           LATE            466332741        0.558      NaN   \n",
       " 2    2019-10-31             PM             64842690        0.336      NaN   \n",
       " 3    2019-10-31             PM            496518865        0.236      NaN   \n",
       " 4    2019-10-31           LATE            489344691        0.221      NaN   \n",
       " 5    2019-10-31             PM            474838235        0.763      NaN   \n",
       " 6    2019-10-31           NOON            484656641        0.607      NaN   \n",
       " 7    2019-10-31           LATE            489876520        0.325      NaN   \n",
       " 8    2019-10-31             PM            488086126        0.264      NaN   \n",
       " 9    2019-10-31           LATE            486586205        0.231      NaN   \n",
       " 10   2019-10-31           LATE            466026162        0.279      NaN   \n",
       " 11   2019-10-31             PM            476715822        0.886      NaN   \n",
       " 12   2019-10-31             PM         491712211088        0.620      NaN   \n",
       " 13   2019-10-31             AM            468225538        0.258      NaN   \n",
       " 14   2019-10-31             PM            472227735        0.554      NaN   \n",
       " 15   2019-10-31           NOON            473213018        0.389      NaN   \n",
       " 16   2019-10-31             PM            471752828        0.698      NaN   \n",
       " 17   2019-10-31             AM          33686039318        0.780      NaN   \n",
       " 18   2019-10-31             PM            483488813        0.783      NaN   \n",
       " 19   2019-10-31             PM            470039281        0.245      NaN   \n",
       " 20   2019-10-31           NOON            470243772        0.202      NaN   \n",
       " 21   2019-10-31             PM            497410911        0.204      NaN   \n",
       " 22   2019-10-31             PM            470922711        0.516      NaN   \n",
       " 23   2019-10-31            DAY            495357074        0.383      NaN   \n",
       " 24   2019-10-31             PM            465796050        0.652      NaN   \n",
       " 25   2019-10-31             PM            466442899        0.739      NaN   \n",
       " 26   2019-10-31            DAY            484026768        0.328      NaN   \n",
       " 27   2019-10-31             PM            473637600        0.263      NaN   \n",
       " 28   2019-10-31            DAY            494572516        0.381      NaN   \n",
       " 29   2019-10-31            DAY            486427254        0.763      NaN   \n",
       " ..          ...            ...                  ...          ...      ...   \n",
       " 70   2019-10-31             AM            474614838        0.459      NaN   \n",
       " 71   2019-10-31           LATE            486532086        0.260      NaN   \n",
       " 72   2019-10-31            DAY            479629885        0.612      NaN   \n",
       " 73   2019-10-31           LATE            487755359        0.330      NaN   \n",
       " 74   2019-10-31             PM            465212299        0.556      NaN   \n",
       " 75   2019-10-31            DAY            483733683        0.408      NaN   \n",
       " 76   2019-10-31           LATE          31657541472        0.513      NaN   \n",
       " 77   2019-10-31            DAY            498167729        0.331      NaN   \n",
       " 78   2019-10-31            DAY            476768176        0.858      NaN   \n",
       " 79   2019-10-31             AM          33661485042        0.204      NaN   \n",
       " 80   2019-10-31           LATE            498563744        0.452      NaN   \n",
       " 81   2019-10-31             AM            477445308        0.551      NaN   \n",
       " 82   2019-10-31             PM            498166415        0.218      NaN   \n",
       " 83   2019-10-31           NOON            472025900        0.256      NaN   \n",
       " 84   2019-10-31             PM            494904470        0.846      NaN   \n",
       " 85   2019-10-31             PM            468097735        0.948      NaN   \n",
       " 86   2019-10-31             PM            492162324        0.794      NaN   \n",
       " 87   2019-10-31            DAY            477348423        0.658      NaN   \n",
       " 88   2019-10-31             AM            494884763        0.714      NaN   \n",
       " 89   2019-10-31             AM            485351340        0.362      NaN   \n",
       " 90   2019-10-31             PM            493833937        0.683      NaN   \n",
       " 91   2019-10-31            DAY            484619776        0.279      NaN   \n",
       " 92   2019-10-31            DAY            496307503        0.228      NaN   \n",
       " 93   2019-10-31             AM            475963296        0.281      NaN   \n",
       " 94   2019-10-31             PM             32837155        0.697      NaN   \n",
       " 95   2019-10-31             AM            497734818        0.470      NaN   \n",
       " 96   2019-10-31             AM            472861400        0.388      NaN   \n",
       " 97   2019-10-31             AM            484477268        0.282      NaN   \n",
       " 98   2019-10-31             AM            497124018        0.210      NaN   \n",
       " 99   2019-10-31             PM            470130553        0.662      NaN   \n",
       " \n",
       "     voice_mail  outcome  cust_aware  Adapter numéro contact  \\\n",
       " 0          NaN      NaN         NaN                     NaN   \n",
       " 1          NaN      NaN         NaN                     NaN   \n",
       " 2          NaN      NaN         NaN                     NaN   \n",
       " 3          NaN      NaN         NaN                     NaN   \n",
       " 4          NaN      NaN         NaN                     NaN   \n",
       " 5          NaN      NaN         NaN                     NaN   \n",
       " 6          NaN      NaN         NaN                     NaN   \n",
       " 7          NaN      NaN         NaN                     NaN   \n",
       " 8          NaN      NaN         NaN                     NaN   \n",
       " 9          NaN      NaN         NaN                     NaN   \n",
       " 10         NaN      NaN         NaN                     NaN   \n",
       " 11         NaN      NaN         NaN                     NaN   \n",
       " 12         NaN      NaN         NaN                     NaN   \n",
       " 13         NaN      NaN         NaN                     NaN   \n",
       " 14         NaN      NaN         NaN                     NaN   \n",
       " 15         NaN      NaN         NaN                     NaN   \n",
       " 16         NaN      NaN         NaN                     NaN   \n",
       " 17         NaN      NaN         NaN                     NaN   \n",
       " 18         NaN      NaN         NaN                     NaN   \n",
       " 19         NaN      NaN         NaN                     NaN   \n",
       " 20         NaN      NaN         NaN                     NaN   \n",
       " 21         NaN      NaN         NaN                     NaN   \n",
       " 22         NaN      NaN         NaN                     NaN   \n",
       " 23         NaN      NaN         NaN                     NaN   \n",
       " 24         NaN      NaN         NaN                     NaN   \n",
       " 25         NaN      NaN         NaN                     NaN   \n",
       " 26         NaN      NaN         NaN                     NaN   \n",
       " 27         NaN      NaN         NaN                     NaN   \n",
       " 28         NaN      NaN         NaN                     NaN   \n",
       " 29         NaN      NaN         NaN                     NaN   \n",
       " ..         ...      ...         ...                     ...   \n",
       " 70         NaN      NaN         NaN                     NaN   \n",
       " 71         NaN      NaN         NaN                     NaN   \n",
       " 72         NaN      NaN         NaN                     NaN   \n",
       " 73         NaN      NaN         NaN                     NaN   \n",
       " 74         NaN      NaN         NaN                     NaN   \n",
       " 75         NaN      NaN         NaN                     NaN   \n",
       " 76         NaN      NaN         NaN                     NaN   \n",
       " 77         NaN      NaN         NaN                     NaN   \n",
       " 78         NaN      NaN         NaN                     NaN   \n",
       " 79         NaN      NaN         NaN                     NaN   \n",
       " 80         NaN      NaN         NaN                     NaN   \n",
       " 81         NaN      NaN         NaN                     NaN   \n",
       " 82         NaN      NaN         NaN                     NaN   \n",
       " 83         NaN      NaN         NaN                     NaN   \n",
       " 84         NaN      NaN         NaN                     NaN   \n",
       " 85         NaN      NaN         NaN                     NaN   \n",
       " 86         NaN      NaN         NaN                     NaN   \n",
       " 87         NaN      NaN         NaN                     NaN   \n",
       " 88         NaN      NaN         NaN                     NaN   \n",
       " 89         NaN      NaN         NaN                     NaN   \n",
       " 90         NaN      NaN         NaN                     NaN   \n",
       " 91         NaN      NaN         NaN                     NaN   \n",
       " 92         NaN      NaN         NaN                     NaN   \n",
       " 93         NaN      NaN         NaN                     NaN   \n",
       " 94         NaN      NaN         NaN                     NaN   \n",
       " 95         NaN      NaN         NaN                     NaN   \n",
       " 96         NaN      NaN         NaN                     NaN   \n",
       " 97         NaN      NaN         NaN                     NaN   \n",
       " 98         NaN      NaN         NaN                     NaN   \n",
       " 99         NaN      NaN         NaN                     NaN   \n",
       " \n",
       "     adapter install address  \n",
       " 0                       NaN  \n",
       " 1                       NaN  \n",
       " 2                       NaN  \n",
       " 3                       NaN  \n",
       " 4                       NaN  \n",
       " 5                       NaN  \n",
       " 6                       NaN  \n",
       " 7                       NaN  \n",
       " 8                       NaN  \n",
       " 9                       NaN  \n",
       " 10                      NaN  \n",
       " 11                      NaN  \n",
       " 12                      NaN  \n",
       " 13                      NaN  \n",
       " 14                      NaN  \n",
       " 15                      NaN  \n",
       " 16                      NaN  \n",
       " 17                      NaN  \n",
       " 18                      NaN  \n",
       " 19                      NaN  \n",
       " 20                      NaN  \n",
       " 21                      NaN  \n",
       " 22                      NaN  \n",
       " 23                      NaN  \n",
       " 24                      NaN  \n",
       " 25                      NaN  \n",
       " 26                      NaN  \n",
       " 27                      NaN  \n",
       " 28                      NaN  \n",
       " 29                      NaN  \n",
       " ..                      ...  \n",
       " 70                      NaN  \n",
       " 71                      NaN  \n",
       " 72                      NaN  \n",
       " 73                      NaN  \n",
       " 74                      NaN  \n",
       " 75                      NaN  \n",
       " 76                      NaN  \n",
       " 77                      NaN  \n",
       " 78                      NaN  \n",
       " 79                      NaN  \n",
       " 80                      NaN  \n",
       " 81                      NaN  \n",
       " 82                      NaN  \n",
       " 83                      NaN  \n",
       " 84                      NaN  \n",
       " 85                      NaN  \n",
       " 86                      NaN  \n",
       " 87                      NaN  \n",
       " 88                      NaN  \n",
       " 89                      NaN  \n",
       " 90                      NaN  \n",
       " 91                      NaN  \n",
       " 92                      NaN  \n",
       " 93                      NaN  \n",
       " 94                      NaN  \n",
       " 95                      NaN  \n",
       " 96                      NaN  \n",
       " 97                      NaN  \n",
       " 98                      NaN  \n",
       " 99                      NaN  \n",
       " \n",
       " [100 rows x 15 columns],\n",
       " 'dt': <module 'datetime' from '/work/jupyterhub/id860112/envs/My_Python_3.5/lib/python3.5/datetime.py'>,\n",
       " 'example': '0033769094615',\n",
       " 'example2': '+33769094615',\n",
       " 'exit': <IPython.core.autocall.ZMQExitAutocall at 0x7f547cc30828>,\n",
       " 'get_ipython': <bound method InteractiveShell.get_ipython of <ipykernel.zmqshell.ZMQInteractiveShell object at 0x7f547fcdc5c0>>,\n",
       " 'np': <module 'numpy' from '/work/jupyterhub/id860112/envs/My_Python_3.5/lib/python3.5/site-packages/numpy/__init__.py'>,\n",
       " 'os': <module 'os' from '/work/jupyterhub/id860112/envs/My_Python_3.5/lib/python3.5/os.py'>,\n",
       " 'pd': <module 'pandas' from '/work/jupyterhub/id860112/envs/My_Python_3.5/lib/python3.5/site-packages/pandas/__init__.py'>,\n",
       " 'plt': <module 'matplotlib.pyplot' from '/work/jupyterhub/id860112/envs/My_Python_3.5/lib/python3.5/site-packages/matplotlib/pyplot.py'>,\n",
       " 'pyodbc': <module 'pyodbc' from '/work/jupyterhub/id860112/envs/My_Python_3.5/lib/python3.5/site-packages/pyodbc.cpython-35m-x86_64-linux-gnu.so'>,\n",
       " 'query': 'SEL top 500 contact_phon_number FROM D0_BUS_EUDS_APPV.APP_PPADS_R_RWMI',\n",
       " 'quit': <IPython.core.autocall.ZMQExitAutocall at 0x7f547cc30828>,\n",
       " 'r': ['0494901292', '0494901292'],\n",
       " 'rawdata':     CONTACT_PHON_NUMBER     cleaned\n",
       " 0            0476426128  0476426128\n",
       " 1            0484173156  0484173156\n",
       " 2            0478421717  0478421717\n",
       " 3            0496486091  0496486091\n",
       " 4            0477394529  0477394529\n",
       " 5            0472807316  0472807316\n",
       " 6            0493023667  0493023667\n",
       " 7            0497797270  0497797270\n",
       " 8            0484062255  0484062255\n",
       " 9            0487147064  0487147064\n",
       " 10           0477608963  0477608963\n",
       " 11           0476453876  0476453876\n",
       " 12           0465414121  0465414121\n",
       " 13           0475213060  0475213060\n",
       " 14           0475213060  0475213060\n",
       " 15           0493880730  0493880730\n",
       " 16           0484020349  0484020349\n",
       " 17           0479323593  0479323593\n",
       " 18           0475590687  0475590687\n",
       " 19           0476904032  0476904032\n",
       " 20           0475968909  0475968909\n",
       " 21           0465844857  0465844857\n",
       " 22           0495865085  0495865085\n",
       " 23           0473707923  0473707923\n",
       " 24           0488147262  0488147262\n",
       " 25           0483643998  0483643998\n",
       " 26           0474919096  0474919096\n",
       " 27           0472126591  0472126591\n",
       " 28           0475792348  0475792348\n",
       " 29           0478281761  0478281761\n",
       " ..                  ...         ...\n",
       " 470          0491398223  0491398223\n",
       " 471          0473915426  0473915426\n",
       " 472          0479392621  0479392621\n",
       " 473          0471304749  0471304749\n",
       " 474          0489666646  0489666646\n",
       " 475          0474915384  0474915384\n",
       " 476          0478776956  0478776956\n",
       " 477          0496061772  0496061772\n",
       " 478          0486079888  0486079888\n",
       " 479           023765945   023765945\n",
       " 480          0499127478  0499127478\n",
       " 481          0473765381  0473765381\n",
       " 482          0470764741  0470764741\n",
       " 483          0479307536  0479307536\n",
       " 484          0499731171  0499731171\n",
       " 485          0470389541  0470389541\n",
       " 486          0476812590  0476812590\n",
       " 487          0470241270  0470241270\n",
       " 488          0470241270  0470241270\n",
       " 489          0473248441  0473248441\n",
       " 490          0499230589  0499230589\n",
       " 491          0485869499  0485869499\n",
       " 492          0468131950  0468131950\n",
       " 493          0497390673  0497390673\n",
       " 494          0495406000  0495406000\n",
       " 495          0497043567  0497043567\n",
       " 496          0493760176  0493760176\n",
       " 497          0499147066  0499147066\n",
       " 498          0474423670  0474423670\n",
       " 499          0494901292  0494901292\n",
       " \n",
       " [500 rows x 2 columns],\n",
       " 'skplt': <module 'scikitplot' from '/work/jupyterhub/id860112/envs/My_Python_3.5/lib/python3.5/site-packages/scikitplot/__init__.py'>,\n",
       " 'sns': <module 'seaborn' from '/work/jupyterhub/id860112/envs/My_Python_3.5/lib/python3.5/site-packages/seaborn/__init__.py'>,\n",
       " 'time': <module 'time' (built-in)>,\n",
       " 'wb': <openpyxl.workbook.workbook.Workbook at 0x7f543c99fd30>,\n",
       " 'ws': <Worksheet \"Sheet\">}"
      ]
     },
     "execution_count": 66,
     "metadata": {},
     "output_type": "execute_result"
    }
   ],
   "source": [
    "globals()"
   ]
  },
  {
   "cell_type": "code",
   "execution_count": null,
   "metadata": {},
   "outputs": [],
   "source": []
  },
  {
   "cell_type": "markdown",
   "metadata": {
    "heading_collapsed": true
   },
   "source": [
    "## Dates and times"
   ]
  },
  {
   "cell_type": "code",
   "execution_count": 1,
   "metadata": {
    "ExecuteTime": {
     "end_time": "2019-02-26T11:01:35.056829Z",
     "start_time": "2019-02-26T11:01:35.054337Z"
    },
    "hidden": true
   },
   "outputs": [],
   "source": [
    "import datetime as dt"
   ]
  },
  {
   "cell_type": "code",
   "execution_count": 2,
   "metadata": {
    "ExecuteTime": {
     "end_time": "2019-02-21T09:03:16.601742Z",
     "start_time": "2019-02-21T09:03:16.597836Z"
    },
    "hidden": true
   },
   "outputs": [
    {
     "name": "stdout",
     "output_type": "stream",
     "text": [
      "1990-03-30 00:00:00\n",
      "1990-03-30 03:25:00\n"
     ]
    }
   ],
   "source": [
    "print(dt.datetime(1990,3,30))\n",
    "print(dt.datetime(1990,3,30,3,25))"
   ]
  },
  {
   "cell_type": "code",
   "execution_count": 12,
   "metadata": {
    "ExecuteTime": {
     "end_time": "2019-02-26T11:08:49.215549Z",
     "start_time": "2019-02-26T11:08:49.211469Z"
    },
    "hidden": true
   },
   "outputs": [
    {
     "name": "stdout",
     "output_type": "stream",
     "text": [
      "2018-03-25 08:12:00\n",
      "1990-03-30 00:00:00\n"
     ]
    }
   ],
   "source": [
    "date_str = \"25/03/2018 8:12\"\n",
    "date = dt.datetime.strptime(date_str, \"%d/%m/%Y %H:%M\") # parse date\n",
    "print(date)\n",
    "print(dt.datetime.strptime(\"March 30, 1990\", \"%B %d, %Y\"))"
   ]
  },
  {
   "cell_type": "code",
   "execution_count": 19,
   "metadata": {
    "ExecuteTime": {
     "end_time": "2019-02-26T11:13:57.499440Z",
     "start_time": "2019-02-26T11:13:57.495363Z"
    },
    "hidden": true
   },
   "outputs": [
    {
     "name": "stdout",
     "output_type": "stream",
     "text": [
      "Sunday 25 March, 2018 - 8:12 AM\n",
      "08:12:00\n",
      "25\n"
     ]
    }
   ],
   "source": [
    "print(date.strftime(\"%A %d %B, %Y - %-I:%M %p\")) # format date\n",
    "print(date.time()) # only keep time component\n",
    "print(date.day)"
   ]
  },
  {
   "cell_type": "code",
   "execution_count": 20,
   "metadata": {
    "ExecuteTime": {
     "end_time": "2019-02-26T11:14:06.146355Z",
     "start_time": "2019-02-26T11:14:06.142986Z"
    },
    "hidden": true
   },
   "outputs": [
    {
     "name": "stdout",
     "output_type": "stream",
     "text": [
      "10\n"
     ]
    }
   ],
   "source": [
    "time = dt.time(8,10,25)\n",
    "print(time.minute)"
   ]
  },
  {
   "cell_type": "code",
   "execution_count": 21,
   "metadata": {
    "ExecuteTime": {
     "end_time": "2019-02-26T11:14:24.442550Z",
     "start_time": "2019-02-26T11:14:24.437609Z"
    },
    "hidden": true
   },
   "outputs": [
    {
     "data": {
      "text/plain": [
       "False"
      ]
     },
     "execution_count": 21,
     "metadata": {},
     "output_type": "execute_result"
    }
   ],
   "source": [
    "date.time() < time"
   ]
  },
  {
   "cell_type": "markdown",
   "metadata": {},
   "source": [
    "## Numpy"
   ]
  },
  {
   "cell_type": "code",
   "execution_count": null,
   "metadata": {},
   "outputs": [],
   "source": [
    "indices = np.argsort(taxi[:,15])\n",
    "taxi_sorted = taxi[indices]"
   ]
  },
  {
   "cell_type": "code",
   "execution_count": 3,
   "metadata": {
    "ExecuteTime": {
     "end_time": "2019-03-01T10:21:19.919063Z",
     "start_time": "2019-03-01T10:21:19.913467Z"
    }
   },
   "outputs": [
    {
     "name": "stdout",
     "output_type": "stream",
     "text": [
      "[[0 0 0]]\n",
      "(1, 3)\n",
      "\n",
      "\n",
      "\n",
      "[[1 1 1]\n",
      " [1 1 1]\n",
      " [0 0 0]]\n"
     ]
    }
   ],
   "source": [
    "ones = [ [1,1,1],\n",
    "       [1,1,1]]\n",
    "zeros = [0,0,0]\n",
    "\n",
    "zeros_2d = np.expand_dims(zeros,axis=0)\n",
    "print(zeros_2d)\n",
    "print(zeros_2d.shape)\n",
    "print()\n",
    "print('\\n')\n",
    "combined = np.concatenate([ones,zeros_2d],axis=0)\n",
    "print(combined)"
   ]
  },
  {
   "cell_type": "code",
   "execution_count": 151,
   "metadata": {
    "ExecuteTime": {
     "end_time": "2019-09-12T11:29:00.744722Z",
     "start_time": "2019-09-12T11:29:00.740273Z"
    }
   },
   "outputs": [
    {
     "name": "stdout",
     "output_type": "stream",
     "text": [
      "[[1 2 3 4 5 6]]\n",
      "[[1]\n",
      " [2]\n",
      " [3]\n",
      " [4]\n",
      " [5]\n",
      " [6]]\n",
      "[[1 2]\n",
      " [3 4]\n",
      " [5 6]]\n",
      "[[1]\n",
      " [2]\n",
      " [3]\n",
      " [4]\n",
      " [5]\n",
      " [6]]\n"
     ]
    }
   ],
   "source": [
    "arr = np.array([1,2,3,4,5,6])\n",
    "\n",
    "print(arr.reshape(1,6))\n",
    "print(arr.reshape(6,1))\n",
    "print(arr.reshape(3,2))\n",
    "print(arr.reshape(-1,1))"
   ]
  },
  {
   "cell_type": "markdown",
   "metadata": {},
   "source": [
    "## Stats"
   ]
  },
  {
   "cell_type": "code",
   "execution_count": 1,
   "metadata": {
    "ExecuteTime": {
     "end_time": "2019-07-15T14:35:46.570192Z",
     "start_time": "2019-07-15T14:35:46.214798Z"
    }
   },
   "outputs": [],
   "source": [
    "from scipy.stats import norm"
   ]
  },
  {
   "cell_type": "code",
   "execution_count": 8,
   "metadata": {
    "ExecuteTime": {
     "end_time": "2019-07-15T14:37:01.339870Z",
     "start_time": "2019-07-15T14:37:01.137300Z"
    }
   },
   "outputs": [
    {
     "data": {
      "image/png": "[encoded data removed]",
      "text/plain": [
       "<Figure size 432x288 with 1 Axes>"
      ]
     },
     "metadata": {
      "needs_background": "light"
     },
     "output_type": "display_data"
    }
   ],
   "source": [
    "x = np.linspace(-4,4)\n",
    "y = norm(0,1).cdf(x)\n",
    "\n",
    "plt.plot(y)\n",
    "plt.show()"
   ]
  },
  {
   "cell_type": "code",
   "execution_count": 30,
   "metadata": {
    "ExecuteTime": {
     "end_time": "2019-07-15T14:55:51.927055Z",
     "start_time": "2019-07-15T14:55:51.789157Z"
    }
   },
   "outputs": [
    {
     "data": {
      "text/plain": [
       "<matplotlib.axes._subplots.AxesSubplot at 0x7fcbd95e5cc0>"
      ]
     },
     "execution_count": 30,
     "metadata": {},
     "output_type": "execute_result"
    },
    {
     "data": {
      "image/png": "[encoded data removed]",
      "text/plain": [
       "<Figure size 432x288 with 1 Axes>"
      ]
     },
     "metadata": {
      "needs_background": "light"
     },
     "output_type": "display_data"
    }
   ],
   "source": [
    "hp = df.HP\n",
    "\n",
    "mean = hp.mean()\n",
    "std = hp.std()\n",
    "\n",
    "x = np.linspace(hp.min(), hp.max())\n",
    "y = norm(mean, std).pdf(x)\n",
    "\n",
    "plt.plot(x,y)\n",
    "sns.kdeplot(hp)"
   ]
  },
  {
   "attachments": {
    "image.png": {
     "image/png": "[encoded data removed]"
    }
   },
   "cell_type": "markdown",
   "metadata": {},
   "source": [
    "![image.png](attachment:image.png)"
   ]
  },
  {
   "cell_type": "code",
   "execution_count": 12,
   "metadata": {
    "ExecuteTime": {
     "end_time": "2019-10-18T12:23:09.278256Z",
     "start_time": "2019-10-18T12:23:09.272959Z"
    }
   },
   "outputs": [],
   "source": [
    "from sklearn.model_selection import train_test_split\n",
    "\n",
    "train, test = train_test_split(df, test_size = 0.3)"
   ]
  },
  {
   "cell_type": "code",
   "execution_count": 14,
   "metadata": {
    "ExecuteTime": {
     "end_time": "2019-10-18T12:23:17.960374Z",
     "start_time": "2019-10-18T12:23:17.788205Z"
    }
   },
   "outputs": [
    {
     "data": {
      "image/png": "[encoded data removed]",
      "text/plain": [
       "<Figure size 432x288 with 1 Axes>"
      ]
     },
     "metadata": {
      "needs_background": "light"
     },
     "output_type": "display_data"
    }
   ],
   "source": [
    "from scipy.stats import boxcox\n",
    "\n",
    "plt.hist(boxcox(train[\"HP\"], 0), bins=30);"
   ]
  },
  {
   "cell_type": "markdown",
   "metadata": {},
   "source": [
    "## Statsmodels"
   ]
  },
  {
   "cell_type": "code",
   "execution_count": 8,
   "metadata": {
    "ExecuteTime": {
     "end_time": "2019-10-31T12:53:38.909577Z",
     "start_time": "2019-10-31T12:53:38.903795Z"
    }
   },
   "outputs": [
    {
     "name": "stdout",
     "output_type": "stream",
     "text": [
      "pvalue = 0.077 -> We cannot reject the Null hypothesis that p1 = p2\n"
     ]
    }
   ],
   "source": [
    "from statsmodels.stats.proportion import proportions_ztest\n",
    "\n",
    "\n",
    "count = np.array([98, 30])\n",
    "nobs = np.array([500, 200])\n",
    "stat, pvalue = proportions_ztest(count, nobs, alternative=\"larger\")\n",
    "\n",
    "if pvalue > 0.05:\n",
    "    print(\"pvalue = {:.3f} -> We cannot reject the Null hypothesis that p1 = p2\".format(pvalue))\n",
    "else:\n",
    "    print(\"pvalue = {:.3f} -> There is enough evidence to reject the Null hypothesis in favor of the alternative\".format(pvalue))"
   ]
  },
  {
   "cell_type": "markdown",
   "metadata": {},
   "source": [
    "## Pickle"
   ]
  },
  {
   "cell_type": "code",
   "execution_count": 34,
   "metadata": {
    "ExecuteTime": {
     "end_time": "2019-09-24T11:51:18.202003Z",
     "start_time": "2019-09-24T11:51:18.182693Z"
    }
   },
   "outputs": [
    {
     "data": {
      "text/plain": [
       "['knn_model.pkl']"
      ]
     },
     "execution_count": 34,
     "metadata": {},
     "output_type": "execute_result"
    }
   ],
   "source": [
    "import joblib\n",
    "from sklearn import datasets, model_selection, neighbors\n",
    "\n",
    "diabetes = datasets.load_diabetes()\n",
    "\n",
    "X_train, X_test, y_train, y_test = model_selection.train_test_split(diabetes.data, diabetes.target, test_size = 0.25, random_state = 42)\n",
    "\n",
    "knn = neighbors.KNeighborsRegressor().fit(X_train, y_train)\n",
    "\n",
    "joblib.dump(knn, \"knn_model.pkl\")"
   ]
  },
  {
   "cell_type": "code",
   "execution_count": 38,
   "metadata": {
    "ExecuteTime": {
     "end_time": "2019-09-24T11:56:32.033072Z",
     "start_time": "2019-09-24T11:56:32.025497Z"
    }
   },
   "outputs": [
    {
     "data": {
      "text/plain": [
       "KNeighborsRegressor(algorithm='auto', leaf_size=30, metric='minkowski',\n",
       "          metric_params=None, n_jobs=None, n_neighbors=5, p=2,\n",
       "          weights='uniform')"
      ]
     },
     "execution_count": 38,
     "metadata": {},
     "output_type": "execute_result"
    }
   ],
   "source": [
    "joblib.load(\"knn_model.pkl\")"
   ]
  },
  {
   "cell_type": "code",
   "execution_count": 35,
   "metadata": {
    "ExecuteTime": {
     "end_time": "2019-09-24T11:55:16.717258Z",
     "start_time": "2019-09-24T11:55:16.705336Z"
    }
   },
   "outputs": [],
   "source": [
    "df.to_pickle(\"Data/data.pkl.zip\")"
   ]
  },
  {
   "cell_type": "code",
   "execution_count": 36,
   "metadata": {
    "ExecuteTime": {
     "end_time": "2019-09-24T11:55:38.407595Z",
     "start_time": "2019-09-24T11:55:38.402179Z"
    }
   },
   "outputs": [],
   "source": [
    "df2 = pd.read_pickle(\"Data/data.pkl.zip\")"
   ]
  },
  {
   "cell_type": "markdown",
   "metadata": {},
   "source": [
    "## Cookiecutter"
   ]
  },
  {
   "cell_type": "code",
   "execution_count": 42,
   "metadata": {
    "ExecuteTime": {
     "end_time": "2019-09-24T12:08:53.974406Z",
     "start_time": "2019-09-24T12:08:53.791445Z"
    }
   },
   "outputs": [
    {
     "ename": "CalledProcessError",
     "evalue": "Command '['git', 'clone', 'https://github.com/drivendata/cookiecutter-data-science']' returned non-zero exit status 128",
     "output_type": "error",
     "traceback": [
      "\u001b[0;31m---------------------------------------------------------------------------\u001b[0m",
      "\u001b[0;31mCalledProcessError\u001b[0m                        Traceback (most recent call last)",
      "\u001b[0;32m<ipython-input-42-4063f01ff0e8>\u001b[0m in \u001b[0;36m<module>\u001b[0;34m\u001b[0m\n\u001b[1;32m      1\u001b[0m \u001b[0;32mfrom\u001b[0m \u001b[0mcookiecutter\u001b[0m\u001b[0;34m.\u001b[0m\u001b[0mmain\u001b[0m \u001b[0;32mimport\u001b[0m \u001b[0mcookiecutter\u001b[0m\u001b[0;34m\u001b[0m\u001b[0m\n\u001b[1;32m      2\u001b[0m \u001b[0;34m\u001b[0m\u001b[0m\n\u001b[0;32m----> 3\u001b[0;31m \u001b[0mcookiecutter\u001b[0m\u001b[0;34m(\u001b[0m\u001b[0mtemplate\u001b[0m\u001b[0;34m=\u001b[0m\u001b[0;34m\"https://github.com/drivendata/cookiecutter-data-science\"\u001b[0m\u001b[0;34m)\u001b[0m\u001b[0;34m\u001b[0m\u001b[0m\n\u001b[0m",
      "\u001b[0;32m/work/jupyterhub/id860112/envs/My_Python_3.5/lib/python3.5/site-packages/cookiecutter/main.py\u001b[0m in \u001b[0;36mcookiecutter\u001b[0;34m(template, checkout, no_input, extra_context, replay, overwrite_if_exists, output_dir, config_file, default_config, password)\u001b[0m\n\u001b[1;32m     61\u001b[0m         \u001b[0mcheckout\u001b[0m\u001b[0;34m=\u001b[0m\u001b[0mcheckout\u001b[0m\u001b[0;34m,\u001b[0m\u001b[0;34m\u001b[0m\u001b[0m\n\u001b[1;32m     62\u001b[0m         \u001b[0mno_input\u001b[0m\u001b[0;34m=\u001b[0m\u001b[0mno_input\u001b[0m\u001b[0;34m,\u001b[0m\u001b[0;34m\u001b[0m\u001b[0m\n\u001b[0;32m---> 63\u001b[0;31m         \u001b[0mpassword\u001b[0m\u001b[0;34m=\u001b[0m\u001b[0mpassword\u001b[0m\u001b[0;34m\u001b[0m\u001b[0m\n\u001b[0m\u001b[1;32m     64\u001b[0m     )\n\u001b[1;32m     65\u001b[0m \u001b[0;34m\u001b[0m\u001b[0m\n",
      "\u001b[0;32m/work/jupyterhub/id860112/envs/My_Python_3.5/lib/python3.5/site-packages/cookiecutter/repository.py\u001b[0m in \u001b[0;36mdetermine_repo_dir\u001b[0;34m(template, abbreviations, clone_to_dir, checkout, no_input, password)\u001b[0m\n\u001b[1;32m    101\u001b[0m             \u001b[0mcheckout\u001b[0m\u001b[0;34m=\u001b[0m\u001b[0mcheckout\u001b[0m\u001b[0;34m,\u001b[0m\u001b[0;34m\u001b[0m\u001b[0m\n\u001b[1;32m    102\u001b[0m             \u001b[0mclone_to_dir\u001b[0m\u001b[0;34m=\u001b[0m\u001b[0mclone_to_dir\u001b[0m\u001b[0;34m,\u001b[0m\u001b[0;34m\u001b[0m\u001b[0m\n\u001b[0;32m--> 103\u001b[0;31m             \u001b[0mno_input\u001b[0m\u001b[0;34m=\u001b[0m\u001b[0mno_input\u001b[0m\u001b[0;34m,\u001b[0m\u001b[0;34m\u001b[0m\u001b[0m\n\u001b[0m\u001b[1;32m    104\u001b[0m         )\n\u001b[1;32m    105\u001b[0m         \u001b[0mrepository_candidates\u001b[0m \u001b[0;34m=\u001b[0m \u001b[0;34m[\u001b[0m\u001b[0mcloned_repo\u001b[0m\u001b[0;34m]\u001b[0m\u001b[0;34m\u001b[0m\u001b[0m\n",
      "\u001b[0;32m/work/jupyterhub/id860112/envs/My_Python_3.5/lib/python3.5/site-packages/cookiecutter/vcs.py\u001b[0m in \u001b[0;36mclone\u001b[0;34m(repo_url, checkout, clone_to_dir, no_input)\u001b[0m\n\u001b[1;32m     97\u001b[0m                 \u001b[0;34m[\u001b[0m\u001b[0mrepo_type\u001b[0m\u001b[0;34m,\u001b[0m \u001b[0;34m'clone'\u001b[0m\u001b[0;34m,\u001b[0m \u001b[0mrepo_url\u001b[0m\u001b[0;34m]\u001b[0m\u001b[0;34m,\u001b[0m\u001b[0;34m\u001b[0m\u001b[0m\n\u001b[1;32m     98\u001b[0m                 \u001b[0mcwd\u001b[0m\u001b[0;34m=\u001b[0m\u001b[0mclone_to_dir\u001b[0m\u001b[0;34m,\u001b[0m\u001b[0;34m\u001b[0m\u001b[0m\n\u001b[0;32m---> 99\u001b[0;31m                 \u001b[0mstderr\u001b[0m\u001b[0;34m=\u001b[0m\u001b[0msubprocess\u001b[0m\u001b[0;34m.\u001b[0m\u001b[0mSTDOUT\u001b[0m\u001b[0;34m,\u001b[0m\u001b[0;34m\u001b[0m\u001b[0m\n\u001b[0m\u001b[1;32m    100\u001b[0m             )\n\u001b[1;32m    101\u001b[0m             \u001b[0;32mif\u001b[0m \u001b[0mcheckout\u001b[0m \u001b[0;32mis\u001b[0m \u001b[0;32mnot\u001b[0m \u001b[0;32mNone\u001b[0m\u001b[0;34m:\u001b[0m\u001b[0;34m\u001b[0m\u001b[0m\n",
      "\u001b[0;32m/work/jupyterhub/id860112/envs/My_Python_3.5/lib/python3.5/subprocess.py\u001b[0m in \u001b[0;36mcheck_output\u001b[0;34m(timeout, *popenargs, **kwargs)\u001b[0m\n\u001b[1;32m    314\u001b[0m \u001b[0;34m\u001b[0m\u001b[0m\n\u001b[1;32m    315\u001b[0m     return run(*popenargs, stdout=PIPE, timeout=timeout, check=True,\n\u001b[0;32m--> 316\u001b[0;31m                **kwargs).stdout\n\u001b[0m\u001b[1;32m    317\u001b[0m \u001b[0;34m\u001b[0m\u001b[0m\n\u001b[1;32m    318\u001b[0m \u001b[0;34m\u001b[0m\u001b[0m\n",
      "\u001b[0;32m/work/jupyterhub/id860112/envs/My_Python_3.5/lib/python3.5/subprocess.py\u001b[0m in \u001b[0;36mrun\u001b[0;34m(input, timeout, check, *popenargs, **kwargs)\u001b[0m\n\u001b[1;32m    396\u001b[0m         \u001b[0;32mif\u001b[0m \u001b[0mcheck\u001b[0m \u001b[0;32mand\u001b[0m \u001b[0mretcode\u001b[0m\u001b[0;34m:\u001b[0m\u001b[0;34m\u001b[0m\u001b[0m\n\u001b[1;32m    397\u001b[0m             raise CalledProcessError(retcode, process.args,\n\u001b[0;32m--> 398\u001b[0;31m                                      output=stdout, stderr=stderr)\n\u001b[0m\u001b[1;32m    399\u001b[0m     \u001b[0;32mreturn\u001b[0m \u001b[0mCompletedProcess\u001b[0m\u001b[0;34m(\u001b[0m\u001b[0mprocess\u001b[0m\u001b[0;34m.\u001b[0m\u001b[0margs\u001b[0m\u001b[0;34m,\u001b[0m \u001b[0mretcode\u001b[0m\u001b[0;34m,\u001b[0m \u001b[0mstdout\u001b[0m\u001b[0;34m,\u001b[0m \u001b[0mstderr\u001b[0m\u001b[0;34m)\u001b[0m\u001b[0;34m\u001b[0m\u001b[0m\n\u001b[1;32m    400\u001b[0m \u001b[0;34m\u001b[0m\u001b[0m\n",
      "\u001b[0;31mCalledProcessError\u001b[0m: Command '['git', 'clone', 'https://github.com/drivendata/cookiecutter-data-science']' returned non-zero exit status 128"
     ]
    }
   ],
   "source": [
    "from cookiecutter.main import cookiecutter\n",
    "\n",
    "cookiecutter(template=\"https://github.com/drivendata/cookiecutter-data-science\")"
   ]
  },
  {
   "cell_type": "markdown",
   "metadata": {},
   "source": [
    "## Papermill"
   ]
  },
  {
   "cell_type": "code",
   "execution_count": 67,
   "metadata": {
    "ExecuteTime": {
     "end_time": "2019-09-24T12:45:42.624889Z",
     "start_time": "2019-09-24T12:45:42.594220Z"
    }
   },
   "outputs": [
    {
     "name": "stderr",
     "output_type": "stream",
     "text": [
      "Input Notebook:  papermill_test.ipynb\n",
      "Output Notebook: papermill_test.ipynb\n"
     ]
    },
    {
     "ename": "FileNotFoundError",
     "evalue": "[Errno 2] No such file or directory: 'papermill_test.ipynb'",
     "output_type": "error",
     "traceback": [
      "\u001b[0;31m---------------------------------------------------------------------------\u001b[0m",
      "\u001b[0;31mFileNotFoundError\u001b[0m                         Traceback (most recent call last)",
      "\u001b[0;32m<ipython-input-67-f389a4827e2e>\u001b[0m in \u001b[0;36m<module>\u001b[0;34m\u001b[0m\n\u001b[1;32m      8\u001b[0m pm.execute_notebook('papermill_test.ipynb', \"papermill_test.ipynb\",\n\u001b[1;32m      9\u001b[0m     \u001b[0mkernel_name\u001b[0m \u001b[0;34m=\u001b[0m \u001b[0;34m\"Python 3.5\"\u001b[0m\u001b[0;34m,\u001b[0m\u001b[0;34m\u001b[0m\u001b[0m\n\u001b[0;32m---> 10\u001b[0;31m     parameters = param_dic)\n\u001b[0m",
      "\u001b[0;32m/work/jupyterhub/id860112/envs/My_Python_3.5/lib/python3.5/site-packages/papermill/execute.py\u001b[0m in \u001b[0;36mexecute_notebook\u001b[0;34m(notebook, output, parameters, prepare_only, kernel_name, progress_bar, log_output, start_timeout, report_mode)\u001b[0m\n\u001b[1;32m     45\u001b[0m     \u001b[0mprint\u001b[0m\u001b[0;34m(\u001b[0m\u001b[0;34m\"Input Notebook:  %s\"\u001b[0m \u001b[0;34m%\u001b[0m \u001b[0mget_pretty_path\u001b[0m\u001b[0;34m(\u001b[0m\u001b[0mnotebook\u001b[0m\u001b[0;34m)\u001b[0m\u001b[0;34m,\u001b[0m \u001b[0mfile\u001b[0m\u001b[0;34m=\u001b[0m\u001b[0msys\u001b[0m\u001b[0;34m.\u001b[0m\u001b[0mstderr\u001b[0m\u001b[0;34m)\u001b[0m\u001b[0;34m\u001b[0m\u001b[0m\n\u001b[1;32m     46\u001b[0m     \u001b[0mprint\u001b[0m\u001b[0;34m(\u001b[0m\u001b[0;34m\"Output Notebook: %s\"\u001b[0m \u001b[0;34m%\u001b[0m \u001b[0mget_pretty_path\u001b[0m\u001b[0;34m(\u001b[0m\u001b[0moutput\u001b[0m\u001b[0;34m)\u001b[0m\u001b[0;34m,\u001b[0m \u001b[0mfile\u001b[0m\u001b[0;34m=\u001b[0m\u001b[0msys\u001b[0m\u001b[0;34m.\u001b[0m\u001b[0mstderr\u001b[0m\u001b[0;34m)\u001b[0m\u001b[0;34m\u001b[0m\u001b[0m\n\u001b[0;32m---> 47\u001b[0;31m     \u001b[0mnb\u001b[0m \u001b[0;34m=\u001b[0m \u001b[0mload_notebook_node\u001b[0m\u001b[0;34m(\u001b[0m\u001b[0mnotebook\u001b[0m\u001b[0;34m)\u001b[0m\u001b[0;34m\u001b[0m\u001b[0m\n\u001b[0m\u001b[1;32m     48\u001b[0m \u001b[0;34m\u001b[0m\u001b[0m\n\u001b[1;32m     49\u001b[0m     \u001b[0;31m# Hide input if report-mode is set to True.\u001b[0m\u001b[0;34m\u001b[0m\u001b[0;34m\u001b[0m\u001b[0m\n",
      "\u001b[0;32m/work/jupyterhub/id860112/envs/My_Python_3.5/lib/python3.5/site-packages/papermill/iorw.py\u001b[0m in \u001b[0;36mload_notebook_node\u001b[0;34m(notebook_path)\u001b[0m\n\u001b[1;32m    152\u001b[0m \u001b[0;34m\u001b[0m\u001b[0m\n\u001b[1;32m    153\u001b[0m     \"\"\"\n\u001b[0;32m--> 154\u001b[0;31m     \u001b[0mnb\u001b[0m \u001b[0;34m=\u001b[0m \u001b[0mnbformat\u001b[0m\u001b[0;34m.\u001b[0m\u001b[0mreads\u001b[0m\u001b[0;34m(\u001b[0m\u001b[0mpapermill_io\u001b[0m\u001b[0;34m.\u001b[0m\u001b[0mread\u001b[0m\u001b[0;34m(\u001b[0m\u001b[0mnotebook_path\u001b[0m\u001b[0;34m)\u001b[0m\u001b[0;34m,\u001b[0m \u001b[0mas_version\u001b[0m\u001b[0;34m=\u001b[0m\u001b[0;36m4\u001b[0m\u001b[0;34m)\u001b[0m\u001b[0;34m\u001b[0m\u001b[0m\n\u001b[0m\u001b[1;32m    155\u001b[0m \u001b[0;34m\u001b[0m\u001b[0m\n\u001b[1;32m    156\u001b[0m     \u001b[0;32mif\u001b[0m \u001b[0;32mnot\u001b[0m \u001b[0mhasattr\u001b[0m\u001b[0;34m(\u001b[0m\u001b[0mnb\u001b[0m\u001b[0;34m.\u001b[0m\u001b[0mmetadata\u001b[0m\u001b[0;34m,\u001b[0m \u001b[0;34m'papermill'\u001b[0m\u001b[0;34m)\u001b[0m\u001b[0;34m:\u001b[0m\u001b[0;34m\u001b[0m\u001b[0m\n",
      "\u001b[0;32m/work/jupyterhub/id860112/envs/My_Python_3.5/lib/python3.5/site-packages/papermill/iorw.py\u001b[0m in \u001b[0;36mread\u001b[0;34m(self, path)\u001b[0m\n\u001b[1;32m     21\u001b[0m \u001b[0;34m\u001b[0m\u001b[0m\n\u001b[1;32m     22\u001b[0m     \u001b[0;32mdef\u001b[0m \u001b[0mread\u001b[0m\u001b[0;34m(\u001b[0m\u001b[0mself\u001b[0m\u001b[0;34m,\u001b[0m \u001b[0mpath\u001b[0m\u001b[0;34m)\u001b[0m\u001b[0;34m:\u001b[0m\u001b[0;34m\u001b[0m\u001b[0m\n\u001b[0;32m---> 23\u001b[0;31m         \u001b[0;32mreturn\u001b[0m \u001b[0mself\u001b[0m\u001b[0;34m.\u001b[0m\u001b[0mget_handler\u001b[0m\u001b[0;34m(\u001b[0m\u001b[0mpath\u001b[0m\u001b[0;34m)\u001b[0m\u001b[0;34m.\u001b[0m\u001b[0mread\u001b[0m\u001b[0;34m(\u001b[0m\u001b[0mpath\u001b[0m\u001b[0;34m)\u001b[0m\u001b[0;34m\u001b[0m\u001b[0m\n\u001b[0m\u001b[1;32m     24\u001b[0m \u001b[0;34m\u001b[0m\u001b[0m\n\u001b[1;32m     25\u001b[0m     \u001b[0;32mdef\u001b[0m \u001b[0mwrite\u001b[0m\u001b[0;34m(\u001b[0m\u001b[0mself\u001b[0m\u001b[0;34m,\u001b[0m \u001b[0mbuf\u001b[0m\u001b[0;34m,\u001b[0m \u001b[0mpath\u001b[0m\u001b[0;34m)\u001b[0m\u001b[0;34m:\u001b[0m\u001b[0;34m\u001b[0m\u001b[0m\n",
      "\u001b[0;32m/work/jupyterhub/id860112/envs/My_Python_3.5/lib/python3.5/site-packages/papermill/iorw.py\u001b[0m in \u001b[0;36mread\u001b[0;34m(cls, path)\u001b[0m\n\u001b[1;32m     79\u001b[0m     \u001b[0;34m@\u001b[0m\u001b[0mclassmethod\u001b[0m\u001b[0;34m\u001b[0m\u001b[0m\n\u001b[1;32m     80\u001b[0m     \u001b[0;32mdef\u001b[0m \u001b[0mread\u001b[0m\u001b[0;34m(\u001b[0m\u001b[0mcls\u001b[0m\u001b[0;34m,\u001b[0m \u001b[0mpath\u001b[0m\u001b[0;34m)\u001b[0m\u001b[0;34m:\u001b[0m\u001b[0;34m\u001b[0m\u001b[0m\n\u001b[0;32m---> 81\u001b[0;31m         \u001b[0;32mwith\u001b[0m \u001b[0mio\u001b[0m\u001b[0;34m.\u001b[0m\u001b[0mopen\u001b[0m\u001b[0;34m(\u001b[0m\u001b[0mpath\u001b[0m\u001b[0;34m,\u001b[0m \u001b[0;34m'r'\u001b[0m\u001b[0;34m,\u001b[0m \u001b[0mencoding\u001b[0m\u001b[0;34m=\u001b[0m\u001b[0;34m\"utf-8\"\u001b[0m\u001b[0;34m)\u001b[0m \u001b[0;32mas\u001b[0m \u001b[0mf\u001b[0m\u001b[0;34m:\u001b[0m\u001b[0;34m\u001b[0m\u001b[0m\n\u001b[0m\u001b[1;32m     82\u001b[0m             \u001b[0;32mreturn\u001b[0m \u001b[0mf\u001b[0m\u001b[0;34m.\u001b[0m\u001b[0mread\u001b[0m\u001b[0;34m(\u001b[0m\u001b[0;34m)\u001b[0m\u001b[0;34m\u001b[0m\u001b[0m\n\u001b[1;32m     83\u001b[0m \u001b[0;34m\u001b[0m\u001b[0m\n",
      "\u001b[0;31mFileNotFoundError\u001b[0m: [Errno 2] No such file or directory: 'papermill_test.ipynb'"
     ]
    }
   ],
   "source": [
    "import papermill as pm\n",
    "\n",
    "params = [\"name\", \"age\"]\n",
    "values = [\"Ben\", 29]\n",
    "\n",
    "param_dic = dict(zip(params, values))\n",
    "\n",
    "pm.execute_notebook('papermill_test.ipynb', \"papermill_test.ipynb\",\n",
    "    kernel_name = \"Python 3.5\",\n",
    "    parameters = param_dic)"
   ]
  },
  {
   "cell_type": "code",
   "execution_count": null,
   "metadata": {},
   "outputs": [],
   "source": []
  },
  {
   "cell_type": "code",
   "execution_count": 58,
   "metadata": {
    "ExecuteTime": {
     "end_time": "2019-09-24T12:38:30.168878Z",
     "start_time": "2019-09-24T12:38:30.165069Z"
    }
   },
   "outputs": [
    {
     "data": {
      "text/plain": [
       "{'hyperparameters': {'max_depth': 3, 'n_estimators': 100},\n",
       " 'model_name': 'RandomForestRegressor',\n",
       " 'model_type': 'ensemble'}"
      ]
     },
     "execution_count": 58,
     "metadata": {},
     "output_type": "execute_result"
    }
   ],
   "source": [
    "dict(zip(keys, vals))"
   ]
  },
  {
   "cell_type": "code",
   "execution_count": 62,
   "metadata": {
    "ExecuteTime": {
     "end_time": "2019-09-24T12:42:46.801083Z",
     "start_time": "2019-09-24T12:42:46.700806Z"
    }
   },
   "outputs": [
    {
     "ename": "ImportError",
     "evalue": "cannot import name '_get_n_jobs'",
     "output_type": "error",
     "traceback": [
      "\u001b[0;31m---------------------------------------------------------------------------\u001b[0m",
      "\u001b[0;31mImportError\u001b[0m                               Traceback (most recent call last)",
      "\u001b[0;32m<ipython-input-62-749f38163d10>\u001b[0m in \u001b[0;36m<module>\u001b[0;34m\u001b[0m\n\u001b[1;32m     12\u001b[0m \u001b[0mvals\u001b[0m \u001b[0;34m=\u001b[0m \u001b[0;34m[\u001b[0m\u001b[0mmodel_type\u001b[0m\u001b[0;34m,\u001b[0m \u001b[0mmodel_name\u001b[0m\u001b[0;34m,\u001b[0m \u001b[0mhyperparameters\u001b[0m\u001b[0;34m]\u001b[0m\u001b[0;34m\u001b[0m\u001b[0m\n\u001b[1;32m     13\u001b[0m \u001b[0;34m\u001b[0m\u001b[0m\n\u001b[0;32m---> 14\u001b[0;31m \u001b[0mmodel\u001b[0m \u001b[0;34m=\u001b[0m \u001b[0mget_model\u001b[0m\u001b[0;34m(\u001b[0m\u001b[0;34m**\u001b[0m\u001b[0mdict\u001b[0m\u001b[0;34m(\u001b[0m\u001b[0mzip\u001b[0m\u001b[0;34m(\u001b[0m\u001b[0mkeys\u001b[0m\u001b[0;34m,\u001b[0m \u001b[0mvals\u001b[0m\u001b[0;34m)\u001b[0m\u001b[0;34m)\u001b[0m\u001b[0;34m)\u001b[0m\u001b[0;34m\u001b[0m\u001b[0m\n\u001b[0m",
      "\u001b[0;32m<ipython-input-62-749f38163d10>\u001b[0m in \u001b[0;36mget_model\u001b[0;34m(model_type, model_name, hyperparameters)\u001b[0m\n\u001b[1;32m      3\u001b[0m \u001b[0;34m\u001b[0m\u001b[0m\n\u001b[1;32m      4\u001b[0m \u001b[0;32mdef\u001b[0m \u001b[0mget_model\u001b[0m\u001b[0;34m(\u001b[0m\u001b[0mmodel_type\u001b[0m\u001b[0;34m,\u001b[0m \u001b[0mmodel_name\u001b[0m\u001b[0;34m,\u001b[0m \u001b[0mhyperparameters\u001b[0m\u001b[0;34m=\u001b[0m\u001b[0;32mNone\u001b[0m\u001b[0;34m)\u001b[0m\u001b[0;34m:\u001b[0m\u001b[0;34m\u001b[0m\u001b[0m\n\u001b[0;32m----> 5\u001b[0;31m     \u001b[0mmodel\u001b[0m \u001b[0;34m=\u001b[0m \u001b[0mgetattr\u001b[0m\u001b[0;34m(\u001b[0m\u001b[0mimport_module\u001b[0m\u001b[0;34m(\u001b[0m\u001b[0;34m\"sklearn.\"\u001b[0m \u001b[0;34m+\u001b[0m \u001b[0mmodel_type\u001b[0m\u001b[0;34m)\u001b[0m\u001b[0;34m,\u001b[0m \u001b[0mmodel_name\u001b[0m\u001b[0;34m)\u001b[0m\u001b[0;34m\u001b[0m\u001b[0m\n\u001b[0m\u001b[1;32m      6\u001b[0m     \u001b[0;32mreturn\u001b[0m \u001b[0mmodel\u001b[0m\u001b[0;34m(\u001b[0m\u001b[0;34m**\u001b[0m\u001b[0mhyperparameters\u001b[0m\u001b[0;34m)\u001b[0m \u001b[0;32mif\u001b[0m \u001b[0mhyperparameters\u001b[0m \u001b[0;32melse\u001b[0m \u001b[0mmodel\u001b[0m\u001b[0;34m(\u001b[0m\u001b[0;34m)\u001b[0m\u001b[0;34m\u001b[0m\u001b[0m\n\u001b[1;32m      7\u001b[0m \u001b[0;34m\u001b[0m\u001b[0m\n",
      "\u001b[0;32m/work/jupyterhub/id860112/envs/My_Python_3.5/lib/python3.5/importlib/__init__.py\u001b[0m in \u001b[0;36mimport_module\u001b[0;34m(name, package)\u001b[0m\n\u001b[1;32m    124\u001b[0m                 \u001b[0;32mbreak\u001b[0m\u001b[0;34m\u001b[0m\u001b[0m\n\u001b[1;32m    125\u001b[0m             \u001b[0mlevel\u001b[0m \u001b[0;34m+=\u001b[0m \u001b[0;36m1\u001b[0m\u001b[0;34m\u001b[0m\u001b[0m\n\u001b[0;32m--> 126\u001b[0;31m     \u001b[0;32mreturn\u001b[0m \u001b[0m_bootstrap\u001b[0m\u001b[0;34m.\u001b[0m\u001b[0m_gcd_import\u001b[0m\u001b[0;34m(\u001b[0m\u001b[0mname\u001b[0m\u001b[0;34m[\u001b[0m\u001b[0mlevel\u001b[0m\u001b[0;34m:\u001b[0m\u001b[0;34m]\u001b[0m\u001b[0;34m,\u001b[0m \u001b[0mpackage\u001b[0m\u001b[0;34m,\u001b[0m \u001b[0mlevel\u001b[0m\u001b[0;34m)\u001b[0m\u001b[0;34m\u001b[0m\u001b[0m\n\u001b[0m\u001b[1;32m    127\u001b[0m \u001b[0;34m\u001b[0m\u001b[0m\n\u001b[1;32m    128\u001b[0m \u001b[0;34m\u001b[0m\u001b[0m\n",
      "\u001b[0;32m/work/jupyterhub/id860112/envs/My_Python_3.5/lib/python3.5/importlib/_bootstrap.py\u001b[0m in \u001b[0;36m_gcd_import\u001b[0;34m(name, package, level)\u001b[0m\n",
      "\u001b[0;32m/work/jupyterhub/id860112/envs/My_Python_3.5/lib/python3.5/importlib/_bootstrap.py\u001b[0m in \u001b[0;36m_find_and_load\u001b[0;34m(name, import_)\u001b[0m\n",
      "\u001b[0;32m/work/jupyterhub/id860112/envs/My_Python_3.5/lib/python3.5/importlib/_bootstrap.py\u001b[0m in \u001b[0;36m_find_and_load_unlocked\u001b[0;34m(name, import_)\u001b[0m\n",
      "\u001b[0;32m/work/jupyterhub/id860112/envs/My_Python_3.5/lib/python3.5/importlib/_bootstrap.py\u001b[0m in \u001b[0;36m_load_unlocked\u001b[0;34m(spec)\u001b[0m\n",
      "\u001b[0;32m/work/jupyterhub/id860112/envs/My_Python_3.5/lib/python3.5/importlib/_bootstrap_external.py\u001b[0m in \u001b[0;36mexec_module\u001b[0;34m(self, module)\u001b[0m\n",
      "\u001b[0;32m/work/jupyterhub/id860112/envs/My_Python_3.5/lib/python3.5/importlib/_bootstrap.py\u001b[0m in \u001b[0;36m_call_with_frames_removed\u001b[0;34m(f, *args, **kwds)\u001b[0m\n",
      "\u001b[0;32m/work/jupyterhub/id860112/envs/My_Python_3.5/lib/python3.5/site-packages/sklearn/ensemble/__init__.py\u001b[0m in \u001b[0;36m<module>\u001b[0;34m\u001b[0m\n\u001b[1;32m      4\u001b[0m \"\"\"\n\u001b[1;32m      5\u001b[0m \u001b[0;34m\u001b[0m\u001b[0m\n\u001b[0;32m----> 6\u001b[0;31m \u001b[0;32mfrom\u001b[0m \u001b[0;34m.\u001b[0m\u001b[0mbase\u001b[0m \u001b[0;32mimport\u001b[0m \u001b[0mBaseEnsemble\u001b[0m\u001b[0;34m\u001b[0m\u001b[0m\n\u001b[0m\u001b[1;32m      7\u001b[0m \u001b[0;32mfrom\u001b[0m \u001b[0;34m.\u001b[0m\u001b[0mforest\u001b[0m \u001b[0;32mimport\u001b[0m \u001b[0mRandomForestClassifier\u001b[0m\u001b[0;34m\u001b[0m\u001b[0m\n\u001b[1;32m      8\u001b[0m \u001b[0;32mfrom\u001b[0m \u001b[0;34m.\u001b[0m\u001b[0mforest\u001b[0m \u001b[0;32mimport\u001b[0m \u001b[0mRandomForestRegressor\u001b[0m\u001b[0;34m\u001b[0m\u001b[0m\n",
      "\u001b[0;32m/work/jupyterhub/id860112/envs/My_Python_3.5/lib/python3.5/site-packages/sklearn/ensemble/base.py\u001b[0m in \u001b[0;36m<module>\u001b[0;34m\u001b[0m\n\u001b[1;32m     12\u001b[0m \u001b[0;32mfrom\u001b[0m \u001b[0;34m.\u001b[0m\u001b[0;34m.\u001b[0m\u001b[0mbase\u001b[0m \u001b[0;32mimport\u001b[0m \u001b[0mBaseEstimator\u001b[0m\u001b[0;34m\u001b[0m\u001b[0m\n\u001b[1;32m     13\u001b[0m \u001b[0;32mfrom\u001b[0m \u001b[0;34m.\u001b[0m\u001b[0;34m.\u001b[0m\u001b[0mbase\u001b[0m \u001b[0;32mimport\u001b[0m \u001b[0mMetaEstimatorMixin\u001b[0m\u001b[0;34m\u001b[0m\u001b[0m\n\u001b[0;32m---> 14\u001b[0;31m \u001b[0;32mfrom\u001b[0m \u001b[0;34m.\u001b[0m\u001b[0;34m.\u001b[0m\u001b[0mutils\u001b[0m \u001b[0;32mimport\u001b[0m \u001b[0m_get_n_jobs\u001b[0m\u001b[0;34m,\u001b[0m \u001b[0mcheck_random_state\u001b[0m\u001b[0;34m\u001b[0m\u001b[0m\n\u001b[0m\u001b[1;32m     15\u001b[0m \u001b[0;32mfrom\u001b[0m \u001b[0;34m.\u001b[0m\u001b[0;34m.\u001b[0m\u001b[0mexternals\u001b[0m \u001b[0;32mimport\u001b[0m \u001b[0msix\u001b[0m\u001b[0;34m\u001b[0m\u001b[0m\n\u001b[1;32m     16\u001b[0m \u001b[0;32mfrom\u001b[0m \u001b[0mabc\u001b[0m \u001b[0;32mimport\u001b[0m \u001b[0mABCMeta\u001b[0m\u001b[0;34m,\u001b[0m \u001b[0mabstractmethod\u001b[0m\u001b[0;34m\u001b[0m\u001b[0m\n",
      "\u001b[0;31mImportError\u001b[0m: cannot import name '_get_n_jobs'"
     ]
    }
   ],
   "source": [
    "from importlib import import_module\n",
    "# from typing import Optional, Dict\n",
    "\n",
    "def get_model(model_type, model_name, hyperparameters=None):\n",
    "    model = getattr(import_module(\"sklearn.\" + model_type), model_name)\n",
    "    return model(**hyperparameters) if hyperparameters else model()\n",
    "\n",
    "model_type = \"ensemble\"\n",
    "model_name = \"RandomForestRegressor\"\n",
    "hyperparameters = {\"max_depth\":3, \"n_estimators\":100}\n",
    "keys = [\"model_type\", \"model_name\", \"hyperparameters\"]\n",
    "vals = [model_type, model_name, hyperparameters]\n",
    "\n",
    "model = get_model(**dict(zip(keys, vals)))"
   ]
  },
  {
   "cell_type": "markdown",
   "metadata": {},
   "source": [
    "## pyodbc"
   ]
  },
  {
   "cell_type": "code",
   "execution_count": 42,
   "metadata": {
    "ExecuteTime": {
     "end_time": "2019-10-30T09:42:21.463896Z",
     "start_time": "2019-10-30T09:42:19.407522Z"
    }
   },
   "outputs": [
    {
     "name": "stdout",
     "output_type": "stream",
     "text": [
      "Training Data has been imported successfully\n",
      "(500, 1)\n"
     ]
    }
   ],
   "source": [
    "import pyodbc\n",
    "\n",
    "query = \"SEL top 500 contact_phon_number FROM D0_BUS_EUDS_APPV.APP_PPADS_R_RWMI\"\n",
    "\n",
    "with pyodbc.connect(driver='Teradata', dbcname='dwhp', uid=\"id860112\", pwd=\"***\") as conn:\n",
    "        conn.setdecoding(pyodbc.SQL_CHAR, encoding='CP1252')\n",
    "        rawdata = pd.read_sql(query, conn) \n",
    "\n",
    "print(\"Training Data has been imported successfully\")\n",
    "print(rawdata.shape)"
   ]
  },
  {
   "cell_type": "markdown",
   "metadata": {},
   "source": [
    "# Efficient code"
   ]
  },
  {
   "cell_type": "markdown",
   "metadata": {},
   "source": [
    "## Foundation"
   ]
  },
  {
   "cell_type": "code",
   "execution_count": 7,
   "metadata": {
    "ExecuteTime": {
     "end_time": "2020-02-11T10:48:27.450652Z",
     "start_time": "2020-02-11T10:48:27.444380Z"
    }
   },
   "outputs": [
    {
     "name": "stdout",
     "output_type": "stream",
     "text": [
      "[0, 1, 2, 3, 4, 5, 6, 7, 8, 9, 10]\n",
      "[2, 4, 6, 8, 10]\n",
      "[1, 3, 5, 7, 9, 11]\n"
     ]
    }
   ],
   "source": [
    "print(list(range(11)))\n",
    "print(list(range(2,11,2)))\n",
    "print([*range(1,12,2)])"
   ]
  },
  {
   "cell_type": "code",
   "execution_count": 8,
   "metadata": {
    "ExecuteTime": {
     "end_time": "2020-02-11T10:50:27.680402Z",
     "start_time": "2020-02-11T10:50:27.677082Z"
    }
   },
   "outputs": [
    {
     "name": "stdout",
     "output_type": "stream",
     "text": [
      "(5, 'a') (6, 'b') (7, 'c')\n"
     ]
    }
   ],
   "source": [
    "print(*enumerate([\"a\", \"b\", \"c\"], start = 5))\n"
   ]
  },
  {
   "cell_type": "code",
   "execution_count": 9,
   "metadata": {
    "ExecuteTime": {
     "end_time": "2020-02-11T10:57:25.203356Z",
     "start_time": "2020-02-11T10:57:25.196471Z"
    }
   },
   "outputs": [
    {
     "data": {
      "text/plain": [
       "[0, 2, 4, 6, 8]"
      ]
     },
     "execution_count": 9,
     "metadata": {},
     "output_type": "execute_result"
    }
   ],
   "source": [
    "list(map(lambda x: x*2, range(5)))"
   ]
  },
  {
   "cell_type": "markdown",
   "metadata": {},
   "source": [
    "* Use numpy arrays instead of list (faster because contains only 1 data type)\n",
    "* they also use broadcasting for computations\n",
    "* they have better indexing scheme for multidimentional [0,0] instead of [0][0]\n",
    "* they allow slicing like [:,2]"
   ]
  },
  {
   "cell_type": "markdown",
   "metadata": {},
   "source": [
    "## Timing and profiling"
   ]
  },
  {
   "cell_type": "code",
   "execution_count": 18,
   "metadata": {
    "ExecuteTime": {
     "end_time": "2020-02-11T12:58:53.995009Z",
     "start_time": "2020-02-11T12:58:52.257739Z"
    }
   },
   "outputs": [
    {
     "name": "stdout",
     "output_type": "stream",
     "text": [
      "2.14 µs ± 40.9 ns per loop (mean ± std. dev. of 7 runs, 100000 loops each)\n"
     ]
    }
   ],
   "source": [
    "%%timeit \n",
    "\n",
    "np.random.rand(100)"
   ]
  },
  {
   "cell_type": "code",
   "execution_count": 19,
   "metadata": {
    "ExecuteTime": {
     "end_time": "2020-02-11T13:00:04.567384Z",
     "start_time": "2020-02-11T13:00:02.774141Z"
    }
   },
   "outputs": [
    {
     "name": "stdout",
     "output_type": "stream",
     "text": [
      "2.22 µs ± 311 ns per loop (mean ± std. dev. of 7 runs, 100000 loops each)\n"
     ]
    }
   ],
   "source": [
    "%timeit np.random.rand(100)"
   ]
  },
  {
   "cell_type": "code",
   "execution_count": 30,
   "metadata": {
    "ExecuteTime": {
     "end_time": "2020-02-11T13:02:35.103195Z",
     "start_time": "2020-02-11T13:02:33.394135Z"
    }
   },
   "outputs": [
    {
     "name": "stdout",
     "output_type": "stream",
     "text": [
      "2.1 µs ± 19.3 ns per loop (mean ± std. dev. of 7 runs, 100000 loops each)\n",
      "[2.073507378809154e-06, 2.0763688487932085e-06, 2.1162284398451446e-06, 2.1287747705355285e-06, 2.1114376420155166e-06, 2.113295430317521e-06, 2.107888269238174e-06]\n",
      "2.073507378809154e-06\n",
      "2.1287747705355285e-06\n"
     ]
    }
   ],
   "source": [
    "times = %timeit -o np.random.rand(100)\n",
    "\n",
    "print(times.timings)\n",
    "print(times.best)\n",
    "print(times.worst)"
   ]
  },
  {
   "cell_type": "code",
   "execution_count": 25,
   "metadata": {
    "ExecuteTime": {
     "end_time": "2020-02-11T13:00:35.733548Z",
     "start_time": "2020-02-11T13:00:35.716939Z"
    }
   },
   "outputs": [
    {
     "name": "stdout",
     "output_type": "stream",
     "text": [
      "2.41 µs ± 473 ns per loop (mean ± std. dev. of 5 runs, 1000 loops each)\n"
     ]
    }
   ],
   "source": [
    "%timeit -r5 -n1000 np.random.rand(100)"
   ]
  },
  {
   "cell_type": "code",
   "execution_count": 26,
   "metadata": {
    "ExecuteTime": {
     "end_time": "2020-02-11T13:01:09.568454Z",
     "start_time": "2020-02-11T13:01:09.562888Z"
    }
   },
   "outputs": [
    {
     "name": "stdout",
     "output_type": "stream",
     "text": [
      "Elapsed time = 0.00014138221740722656\n"
     ]
    }
   ],
   "source": [
    "import time\n",
    "\n",
    "start = time.time()\n",
    "np.random.rand(100)\n",
    "end = time.time()\n",
    "\n",
    "print(\"Elapsed time = {}\".format(end-start))"
   ]
  },
  {
   "cell_type": "code",
   "execution_count": 31,
   "metadata": {
    "ExecuteTime": {
     "end_time": "2020-02-11T13:25:52.803602Z",
     "start_time": "2020-02-11T13:25:52.794143Z"
    }
   },
   "outputs": [
    {
     "data": {
      "text/plain": [
       "896"
      ]
     },
     "execution_count": 31,
     "metadata": {},
     "output_type": "execute_result"
    }
   ],
   "source": [
    "import sys\n",
    "\n",
    "sys.getsizeof(np.random.rand(100))"
   ]
  },
  {
   "cell_type": "markdown",
   "metadata": {},
   "source": [
    "## gaining efficiency"
   ]
  },
  {
   "cell_type": "markdown",
   "metadata": {},
   "source": [
    "### zip, collections and itertools"
   ]
  },
  {
   "cell_type": "code",
   "execution_count": 37,
   "metadata": {
    "ExecuteTime": {
     "end_time": "2020-02-11T13:34:36.514162Z",
     "start_time": "2020-02-11T13:34:36.509009Z"
    }
   },
   "outputs": [
    {
     "data": {
      "text/plain": [
       "[('Bulbasaur', 45),\n",
       " ('Ivysaur', 60),\n",
       " ('Venusaur', 80),\n",
       " ('VenusaurMega Venusaur', 80),\n",
       " ('Charmander', 39)]"
      ]
     },
     "execution_count": 37,
     "metadata": {},
     "output_type": "execute_result"
    }
   ],
   "source": [
    "[*zip(df[\"Name\"].head(), df[\"HP\"].head())]"
   ]
  },
  {
   "cell_type": "code",
   "execution_count": 38,
   "metadata": {
    "ExecuteTime": {
     "end_time": "2020-02-11T13:35:43.613837Z",
     "start_time": "2020-02-11T13:35:43.608107Z"
    }
   },
   "outputs": [
    {
     "data": {
      "text/plain": [
       "Counter({'Bug': 69,\n",
       "         'Dark': 31,\n",
       "         'Dragon': 32,\n",
       "         'Electric': 44,\n",
       "         'Fairy': 17,\n",
       "         'Fighting': 27,\n",
       "         'Fire': 52,\n",
       "         'Flying': 4,\n",
       "         'Ghost': 32,\n",
       "         'Grass': 70,\n",
       "         'Ground': 32,\n",
       "         'Ice': 24,\n",
       "         'Normal': 98,\n",
       "         'Poison': 28,\n",
       "         'Psychic': 57,\n",
       "         'Rock': 44,\n",
       "         'Steel': 27,\n",
       "         'Water': 112})"
      ]
     },
     "execution_count": 38,
     "metadata": {},
     "output_type": "execute_result"
    }
   ],
   "source": [
    "from collections import Counter\n",
    "\n",
    "Counter(df[\"Type 1\"])"
   ]
  },
  {
   "cell_type": "code",
   "execution_count": 51,
   "metadata": {
    "ExecuteTime": {
     "end_time": "2020-02-11T13:39:26.948406Z",
     "start_time": "2020-02-11T13:39:26.942403Z"
    }
   },
   "outputs": [
    {
     "name": "stdout",
     "output_type": "stream",
     "text": [
      "permutations =  [('Red', 'Blue', 'Green'), ('Red', 'Green', 'Blue'), ('Blue', 'Red', 'Green'), ('Blue', 'Green', 'Red'), ('Green', 'Red', 'Blue'), ('Green', 'Blue', 'Red')] \n",
      "\n",
      "combinations =  [('Red', 'Blue'), ('Red', 'Green'), ('Blue', 'Green')] \n",
      "\n",
      "combinations_with_replacement =  [('Red', 'Red'), ('Red', 'Blue'), ('Red', 'Green'), ('Blue', 'Blue'), ('Blue', 'Green'), ('Green', 'Green')] \n",
      "\n",
      "product =  [('Red', 1), ('Red', 2), ('Red', 3), ('Blue', 1), ('Blue', 2), ('Blue', 3), ('Green', 1), ('Green', 2), ('Green', 3)] \n",
      "\n"
     ]
    }
   ],
   "source": [
    "from itertools import product, permutations, combinations, combinations_with_replacement\n",
    "\n",
    "colors = [\"Red\", \"Blue\", \"Green\"]\n",
    "values = [1,2,3]\n",
    "\n",
    "print(\"permutations = \", [*permutations(colors)], \"\\n\")\n",
    "print(\"combinations = \", [*combinations(colors, 2)], \"\\n\")\n",
    "print(\"combinations_with_replacement = \", [*combinations_with_replacement(colors, 2)], \"\\n\")\n",
    "print(\"product = \", [*product(colors, values)], \"\\n\")"
   ]
  },
  {
   "cell_type": "code",
   "execution_count": 58,
   "metadata": {
    "ExecuteTime": {
     "end_time": "2020-02-11T14:07:09.855260Z",
     "start_time": "2020-02-11T14:07:09.837218Z"
    }
   },
   "outputs": [
    {
     "name": "stdout",
     "output_type": "stream",
     "text": [
      "{'Ground', 'Psychic', 'Bug', 'Rock', 'Normal'}\n",
      "{'Grass', 'Normal', 'Fire', 'Water', 'Electric', 'Rock', 'Ghost', 'Dark'}\n",
      "intersection = {'Normal', 'Rock'} \n",
      "\n",
      "difference = {'Ground', 'Psychic', 'Bug'} \n",
      "\n",
      "union = {'Normal', 'Grass', 'Fire', 'Bug', 'Dark', 'Ground', 'Psychic', 'Water', 'Rock', 'Ghost', 'Electric'} \n",
      "\n",
      "symmetric difference = {'Grass', 'Fire', 'Bug', 'Water', 'Electric', 'Ground', 'Psychic', 'Ghost', 'Dark'} \n",
      "\n"
     ]
    }
   ],
   "source": [
    "type1 = set(df[\"Type 1\"].sample(10))\n",
    "type2 = set(df[\"Type 1\"].sample(10))\n",
    "\n",
    "print(type1)\n",
    "print(type2)\n",
    "\n",
    "print(\"intersection = {} \\n\".format(type1.intersection(type2)))\n",
    "print(\"difference = {} \\n\".format(type1.difference(type2)))\n",
    "print(\"union = {} \\n\".format(type1.union(type2)))\n",
    "print(\"symmetric difference = {} \\n\".format(type1.symmetric_difference(type2)))"
   ]
  },
  {
   "cell_type": "markdown",
   "metadata": {},
   "source": [
    "### pandas efficiency"
   ]
  },
  {
   "cell_type": "code",
   "execution_count": 77,
   "metadata": {
    "ExecuteTime": {
     "end_time": "2020-02-11T16:15:44.990989Z",
     "start_time": "2020-02-11T16:15:44.976338Z"
    }
   },
   "outputs": [
    {
     "name": "stdout",
     "output_type": "stream",
     "text": [
      "Name          Bulbasaur\n",
      "Type 1            Grass\n",
      "Type 2           Poison\n",
      "Total               318\n",
      "HP                   45\n",
      "Attack               49\n",
      "Defense              49\n",
      "Sp. Atk              65\n",
      "Sp. Def              65\n",
      "Speed                45\n",
      "Generation            1\n",
      "Legendary         False\n",
      "Name: 0, dtype: object\n",
      "Name          Ivysaur\n",
      "Type 1          Grass\n",
      "Type 2         Poison\n",
      "Total             405\n",
      "HP                 60\n",
      "Attack             62\n",
      "Defense            63\n",
      "Sp. Atk            80\n",
      "Sp. Def            80\n",
      "Speed              60\n",
      "Generation          1\n",
      "Legendary       False\n",
      "Name: 1, dtype: object\n",
      "Name          Venusaur\n",
      "Type 1           Grass\n",
      "Type 2          Poison\n",
      "Total              525\n",
      "HP                  80\n",
      "Attack              82\n",
      "Defense             83\n",
      "Sp. Atk            100\n",
      "Sp. Def            100\n",
      "Speed               80\n",
      "Generation           1\n",
      "Legendary        False\n",
      "Name: 2, dtype: object\n"
     ]
    }
   ],
   "source": [
    "for i, row in df.head(3).iterrows():\n",
    "    print(row)"
   ]
  },
  {
   "cell_type": "code",
   "execution_count": 81,
   "metadata": {
    "ExecuteTime": {
     "end_time": "2020-02-11T16:16:51.711696Z",
     "start_time": "2020-02-11T16:16:51.701057Z"
    }
   },
   "outputs": [
    {
     "name": "stdout",
     "output_type": "stream",
     "text": [
      "Pandas(Index=0, Name='Bulbasaur', _2='Grass', _3='Poison', Total=318, HP=45, Attack=49, Defense=49, _8=65, _9=65, Speed=45, Generation=1, Legendary=False)\n",
      "Bulbasaur\n",
      "Pandas(Index=1, Name='Ivysaur', _2='Grass', _3='Poison', Total=405, HP=60, Attack=62, Defense=63, _8=80, _9=80, Speed=60, Generation=1, Legendary=False)\n",
      "Ivysaur\n",
      "Pandas(Index=2, Name='Venusaur', _2='Grass', _3='Poison', Total=525, HP=80, Attack=82, Defense=83, _8=100, _9=100, Speed=80, Generation=1, Legendary=False)\n",
      "Venusaur\n"
     ]
    }
   ],
   "source": [
    "for row_named in df.head(3).itertuples(): # much faster than iterrows\n",
    "    print(row_named)\n",
    "    print(row_named.Name)"
   ]
  },
  {
   "cell_type": "code",
   "execution_count": 85,
   "metadata": {
    "ExecuteTime": {
     "end_time": "2020-02-11T16:30:03.116825Z",
     "start_time": "2020-02-11T16:30:02.983098Z"
    }
   },
   "outputs": [
    {
     "data": {
      "text/plain": [
       "0     98\n",
       "1    125\n",
       "2    165\n",
       "3    223\n",
       "4     95\n",
       "dtype: int64"
      ]
     },
     "execution_count": 85,
     "metadata": {},
     "output_type": "execute_result"
    }
   ],
   "source": [
    "df.apply(lambda row: row[\"Attack\"] + row[\"Defense\"], axis=1).head()"
   ]
  },
  {
   "cell_type": "markdown",
   "metadata": {},
   "source": [
    "Use .values to speed up computations by factor 10 ! -> it uses the power of numpy"
   ]
  },
  {
   "cell_type": "code",
   "execution_count": 87,
   "metadata": {
    "ExecuteTime": {
     "end_time": "2020-02-11T16:34:36.715247Z",
     "start_time": "2020-02-11T16:34:33.675936Z"
    }
   },
   "outputs": [
    {
     "name": "stdout",
     "output_type": "stream",
     "text": [
      "336 µs ± 20.8 µs per loop (mean ± std. dev. of 7 runs, 1000 loops each)\n"
     ]
    }
   ],
   "source": [
    "%%timeit\n",
    "\n",
    "df[\"Attack\"] - df[\"Defense\"]"
   ]
  },
  {
   "cell_type": "code",
   "execution_count": 88,
   "metadata": {
    "ExecuteTime": {
     "end_time": "2020-02-11T16:34:52.289918Z",
     "start_time": "2020-02-11T16:34:49.664889Z"
    }
   },
   "outputs": [
    {
     "name": "stdout",
     "output_type": "stream",
     "text": [
      "32 µs ± 5.94 µs per loop (mean ± std. dev. of 7 runs, 10000 loops each)\n"
     ]
    }
   ],
   "source": [
    "%%timeit\n",
    "\n",
    "df[\"Attack\"].values - df[\"Defense\"].values"
   ]
  },
  {
   "cell_type": "markdown",
   "metadata": {},
   "source": [
    "Conclusion: with pandas fastests ways to do computations:\n",
    "* using .values\n",
    "* using itertuples\n",
    "* using apply"
   ]
  },
  {
   "cell_type": "markdown",
   "metadata": {},
   "source": [
    "## Paraller computing"
   ]
  },
  {
   "cell_type": "code",
   "execution_count": 70,
   "metadata": {
    "ExecuteTime": {
     "end_time": "2019-09-24T12:57:26.315809Z",
     "start_time": "2019-09-24T12:57:26.310811Z"
    }
   },
   "outputs": [],
   "source": [
    "import time\n",
    "def sleep(duration):\n",
    "    time.sleep(duration)\n",
    "    \n",
    "    \n",
    "from multiprocessing import Pool\n",
    "from itertools import repeat\n",
    "\n",
    "def split_tasks(n_workers, n_tasks, task_duration):\n",
    "    start = time.time()\n",
    "    Pool(n_workers).map(sleep, repeat(task_duration, n_tasks))\n",
    "    end = time.time()\n",
    "    print(\"Workers:\", n_workers, \"Tasks:\", n_tasks, \"Seconds:\", round(end-start))"
   ]
  },
  {
   "cell_type": "code",
   "execution_count": 71,
   "metadata": {
    "ExecuteTime": {
     "end_time": "2019-09-24T12:57:34.900742Z",
     "start_time": "2019-09-24T12:57:26.864273Z"
    }
   },
   "outputs": [
    {
     "name": "stdout",
     "output_type": "stream",
     "text": [
      "Workers: 1 Tasks: 4 Seconds: 8\n"
     ]
    }
   ],
   "source": [
    "split_tasks(1, 4, 2)"
   ]
  },
  {
   "cell_type": "code",
   "execution_count": 72,
   "metadata": {
    "ExecuteTime": {
     "end_time": "2019-09-24T12:57:46.169601Z",
     "start_time": "2019-09-24T12:57:44.132897Z"
    }
   },
   "outputs": [
    {
     "name": "stdout",
     "output_type": "stream",
     "text": [
      "Workers: 4 Tasks: 4 Seconds: 2\n"
     ]
    }
   ],
   "source": [
    "split_tasks(4,4,2)"
   ]
  },
  {
   "cell_type": "markdown",
   "metadata": {},
   "source": [
    "# Text data"
   ]
  },
  {
   "cell_type": "code",
   "execution_count": 21,
   "metadata": {
    "ExecuteTime": {
     "end_time": "2019-09-17T08:59:33.858689Z",
     "start_time": "2019-09-17T08:59:33.854258Z"
    }
   },
   "outputs": [],
   "source": [
    "text = [\n",
    "    \"Hello my name is Ben 29, I'm glad to meet you :- tell me what's up with you\",\n",
    "    \"Oh oh oh I don't know what to write, but I keep on going as I need a few entries.\",\n",
    "    \"That's crappy 88 ;:! i know but & it's for the need ++\"\n",
    "]\n",
    "\n",
    "text_df = pd.DataFrame(text)\n",
    "text_df.columns = [\"text\"]\n",
    "\n",
    "text_df[\"name\"] = [\"Ben\", \"Karl\", \"Cyrine\"]"
   ]
  },
  {
   "cell_type": "code",
   "execution_count": 24,
   "metadata": {
    "ExecuteTime": {
     "end_time": "2019-09-17T09:00:02.679652Z",
     "start_time": "2019-09-17T09:00:02.670143Z"
    }
   },
   "outputs": [
    {
     "data": {
      "text/html": [
       "<div>\n",
       "<style scoped>\n",
       "    .dataframe tbody tr th:only-of-type {\n",
       "        vertical-align: middle;\n",
       "    }\n",
       "\n",
       "    .dataframe tbody tr th {\n",
       "        vertical-align: top;\n",
       "    }\n",
       "\n",
       "    .dataframe thead th {\n",
       "        text-align: right;\n",
       "    }\n",
       "</style>\n",
       "<table border=\"1\" class=\"dataframe\">\n",
       "  <thead>\n",
       "    <tr style=\"text-align: right;\">\n",
       "      <th></th>\n",
       "      <th>text</th>\n",
       "      <th>name</th>\n",
       "      <th>cleaned_text</th>\n",
       "    </tr>\n",
       "  </thead>\n",
       "  <tbody>\n",
       "    <tr>\n",
       "      <th>0</th>\n",
       "      <td>Hello my name is Ben 29, I'm glad to meet you ...</td>\n",
       "      <td>Ben</td>\n",
       "      <td>hello my name is ben 29  i m glad to meet you ...</td>\n",
       "    </tr>\n",
       "    <tr>\n",
       "      <th>1</th>\n",
       "      <td>Oh oh oh I don't know what to write, but I kee...</td>\n",
       "      <td>Karl</td>\n",
       "      <td>oh oh oh i don t know what to write  but i kee...</td>\n",
       "    </tr>\n",
       "    <tr>\n",
       "      <th>2</th>\n",
       "      <td>That's crappy 88 ;:! i know but &amp; it's for the...</td>\n",
       "      <td>Cyrine</td>\n",
       "      <td>that s crappy 88     i know but   it s for the...</td>\n",
       "    </tr>\n",
       "  </tbody>\n",
       "</table>\n",
       "</div>"
      ],
      "text/plain": [
       "                                                text    name  \\\n",
       "0  Hello my name is Ben 29, I'm glad to meet you ...     Ben   \n",
       "1  Oh oh oh I don't know what to write, but I kee...    Karl   \n",
       "2  That's crappy 88 ;:! i know but & it's for the...  Cyrine   \n",
       "\n",
       "                                        cleaned_text  \n",
       "0  hello my name is ben 29  i m glad to meet you ...  \n",
       "1  oh oh oh i don t know what to write  but i kee...  \n",
       "2  that s crappy 88     i know but   it s for the...  "
      ]
     },
     "execution_count": 24,
     "metadata": {},
     "output_type": "execute_result"
    }
   ],
   "source": [
    "text_df[\"cleaned_text\"] = text_df[\"text\"].str.replace('[^a-zA-Z0-9]', ' ').str.lower()\n",
    "text_df"
   ]
  },
  {
   "cell_type": "code",
   "execution_count": 27,
   "metadata": {
    "ExecuteTime": {
     "end_time": "2019-09-17T09:01:48.871943Z",
     "start_time": "2019-09-17T09:01:48.859148Z"
    }
   },
   "outputs": [
    {
     "data": {
      "text/html": [
       "<div>\n",
       "<style scoped>\n",
       "    .dataframe tbody tr th:only-of-type {\n",
       "        vertical-align: middle;\n",
       "    }\n",
       "\n",
       "    .dataframe tbody tr th {\n",
       "        vertical-align: top;\n",
       "    }\n",
       "\n",
       "    .dataframe thead th {\n",
       "        text-align: right;\n",
       "    }\n",
       "</style>\n",
       "<table border=\"1\" class=\"dataframe\">\n",
       "  <thead>\n",
       "    <tr style=\"text-align: right;\">\n",
       "      <th></th>\n",
       "      <th>text</th>\n",
       "      <th>name</th>\n",
       "      <th>cleaned_text</th>\n",
       "      <th>char_cnt</th>\n",
       "      <th>word_cnt</th>\n",
       "      <th>avg_word_len</th>\n",
       "    </tr>\n",
       "  </thead>\n",
       "  <tbody>\n",
       "    <tr>\n",
       "      <th>0</th>\n",
       "      <td>Hello my name is Ben 29, I'm glad to meet you ...</td>\n",
       "      <td>Ben</td>\n",
       "      <td>hello my name is ben 29  i m glad to meet you ...</td>\n",
       "      <td>75</td>\n",
       "      <td>19</td>\n",
       "      <td>3.947368</td>\n",
       "    </tr>\n",
       "    <tr>\n",
       "      <th>1</th>\n",
       "      <td>Oh oh oh I don't know what to write, but I kee...</td>\n",
       "      <td>Karl</td>\n",
       "      <td>oh oh oh i don t know what to write  but i kee...</td>\n",
       "      <td>81</td>\n",
       "      <td>21</td>\n",
       "      <td>3.857143</td>\n",
       "    </tr>\n",
       "    <tr>\n",
       "      <th>2</th>\n",
       "      <td>That's crappy 88 ;:! i know but &amp; it's for the...</td>\n",
       "      <td>Cyrine</td>\n",
       "      <td>that s crappy 88     i know but   it s for the...</td>\n",
       "      <td>54</td>\n",
       "      <td>12</td>\n",
       "      <td>4.500000</td>\n",
       "    </tr>\n",
       "  </tbody>\n",
       "</table>\n",
       "</div>"
      ],
      "text/plain": [
       "                                                text    name  \\\n",
       "0  Hello my name is Ben 29, I'm glad to meet you ...     Ben   \n",
       "1  Oh oh oh I don't know what to write, but I kee...    Karl   \n",
       "2  That's crappy 88 ;:! i know but & it's for the...  Cyrine   \n",
       "\n",
       "                                        cleaned_text  char_cnt  word_cnt  \\\n",
       "0  hello my name is ben 29  i m glad to meet you ...        75        19   \n",
       "1  oh oh oh i don t know what to write  but i kee...        81        21   \n",
       "2  that s crappy 88     i know but   it s for the...        54        12   \n",
       "\n",
       "   avg_word_len  \n",
       "0      3.947368  \n",
       "1      3.857143  \n",
       "2      4.500000  "
      ]
     },
     "execution_count": 27,
     "metadata": {},
     "output_type": "execute_result"
    }
   ],
   "source": [
    "text_df[\"char_cnt\"] = text_df[\"cleaned_text\"].str.len()\n",
    "text_df[\"word_cnt\"] = text_df[\"cleaned_text\"].str.split().str.len()\n",
    "text_df[\"avg_word_len\"] = text_df[\"char_cnt\"] / text_df[\"word_cnt\"]\n",
    "text_df"
   ]
  },
  {
   "cell_type": "code",
   "execution_count": 40,
   "metadata": {
    "ExecuteTime": {
     "end_time": "2019-09-17T09:12:19.921131Z",
     "start_time": "2019-09-17T09:12:19.893251Z"
    }
   },
   "outputs": [
    {
     "name": "stdout",
     "output_type": "stream",
     "text": [
      "[[1 0 0 1 0 0 0 0 0 0 1 0 1 1 0 0 0 1 1 1 1 0 0 0 1 0 0 1 1 1 1 0 2]\n",
      " [0 0 1 0 1 0 1 1 1 0 0 1 0 0 0 1 1 0 0 0 0 1 3 1 0 0 0 1 0 1 0 1 0]\n",
      " [0 1 0 0 1 1 0 0 0 1 0 0 0 0 1 0 1 0 0 0 0 1 0 0 0 1 1 0 0 0 0 0 0]]\n",
      "['29', '88', 'as', 'ben', 'but', 'crappy', 'don', 'entries', 'few', 'for', 'glad', 'going', 'hello', 'is', 'it', 'keep', 'know', 'me', 'meet', 'my', 'name', 'need', 'oh', 'on', 'tell', 'that', 'the', 'to', 'up', 'what', 'with', 'write', 'you']\n"
     ]
    },
    {
     "data": {
      "text/html": [
       "<div>\n",
       "<style scoped>\n",
       "    .dataframe tbody tr th:only-of-type {\n",
       "        vertical-align: middle;\n",
       "    }\n",
       "\n",
       "    .dataframe tbody tr th {\n",
       "        vertical-align: top;\n",
       "    }\n",
       "\n",
       "    .dataframe thead th {\n",
       "        text-align: right;\n",
       "    }\n",
       "</style>\n",
       "<table border=\"1\" class=\"dataframe\">\n",
       "  <thead>\n",
       "    <tr style=\"text-align: right;\">\n",
       "      <th></th>\n",
       "      <th>text</th>\n",
       "      <th>name</th>\n",
       "      <th>cleaned_text</th>\n",
       "      <th>char_cnt</th>\n",
       "      <th>word_cnt</th>\n",
       "      <th>avg_word_len</th>\n",
       "      <th>count_29</th>\n",
       "      <th>count_88</th>\n",
       "      <th>count_as</th>\n",
       "      <th>count_ben</th>\n",
       "      <th>...</th>\n",
       "      <th>count_on</th>\n",
       "      <th>count_tell</th>\n",
       "      <th>count_that</th>\n",
       "      <th>count_the</th>\n",
       "      <th>count_to</th>\n",
       "      <th>count_up</th>\n",
       "      <th>count_what</th>\n",
       "      <th>count_with</th>\n",
       "      <th>count_write</th>\n",
       "      <th>count_you</th>\n",
       "    </tr>\n",
       "  </thead>\n",
       "  <tbody>\n",
       "    <tr>\n",
       "      <th>0</th>\n",
       "      <td>Hello my name is Ben 29, I'm glad to meet you ...</td>\n",
       "      <td>Ben</td>\n",
       "      <td>hello my name is ben 29  i m glad to meet you ...</td>\n",
       "      <td>75</td>\n",
       "      <td>19</td>\n",
       "      <td>3.947368</td>\n",
       "      <td>1</td>\n",
       "      <td>0</td>\n",
       "      <td>0</td>\n",
       "      <td>1</td>\n",
       "      <td>...</td>\n",
       "      <td>0</td>\n",
       "      <td>1</td>\n",
       "      <td>0</td>\n",
       "      <td>0</td>\n",
       "      <td>1</td>\n",
       "      <td>1</td>\n",
       "      <td>1</td>\n",
       "      <td>1</td>\n",
       "      <td>0</td>\n",
       "      <td>2</td>\n",
       "    </tr>\n",
       "    <tr>\n",
       "      <th>1</th>\n",
       "      <td>Oh oh oh I don't know what to write, but I kee...</td>\n",
       "      <td>Karl</td>\n",
       "      <td>oh oh oh i don t know what to write  but i kee...</td>\n",
       "      <td>81</td>\n",
       "      <td>21</td>\n",
       "      <td>3.857143</td>\n",
       "      <td>0</td>\n",
       "      <td>0</td>\n",
       "      <td>1</td>\n",
       "      <td>0</td>\n",
       "      <td>...</td>\n",
       "      <td>1</td>\n",
       "      <td>0</td>\n",
       "      <td>0</td>\n",
       "      <td>0</td>\n",
       "      <td>1</td>\n",
       "      <td>0</td>\n",
       "      <td>1</td>\n",
       "      <td>0</td>\n",
       "      <td>1</td>\n",
       "      <td>0</td>\n",
       "    </tr>\n",
       "    <tr>\n",
       "      <th>2</th>\n",
       "      <td>That's crappy 88 ;:! i know but &amp; it's for the...</td>\n",
       "      <td>Cyrine</td>\n",
       "      <td>that s crappy 88     i know but   it s for the...</td>\n",
       "      <td>54</td>\n",
       "      <td>12</td>\n",
       "      <td>4.500000</td>\n",
       "      <td>0</td>\n",
       "      <td>1</td>\n",
       "      <td>0</td>\n",
       "      <td>0</td>\n",
       "      <td>...</td>\n",
       "      <td>0</td>\n",
       "      <td>0</td>\n",
       "      <td>1</td>\n",
       "      <td>1</td>\n",
       "      <td>0</td>\n",
       "      <td>0</td>\n",
       "      <td>0</td>\n",
       "      <td>0</td>\n",
       "      <td>0</td>\n",
       "      <td>0</td>\n",
       "    </tr>\n",
       "  </tbody>\n",
       "</table>\n",
       "<p>3 rows × 39 columns</p>\n",
       "</div>"
      ],
      "text/plain": [
       "                                                text    name  \\\n",
       "0  Hello my name is Ben 29, I'm glad to meet you ...     Ben   \n",
       "1  Oh oh oh I don't know what to write, but I kee...    Karl   \n",
       "2  That's crappy 88 ;:! i know but & it's for the...  Cyrine   \n",
       "\n",
       "                                        cleaned_text  char_cnt  word_cnt  \\\n",
       "0  hello my name is ben 29  i m glad to meet you ...        75        19   \n",
       "1  oh oh oh i don t know what to write  but i kee...        81        21   \n",
       "2  that s crappy 88     i know but   it s for the...        54        12   \n",
       "\n",
       "   avg_word_len  count_29  count_88  count_as  count_ben    ...      count_on  \\\n",
       "0      3.947368         1         0         0          1    ...             0   \n",
       "1      3.857143         0         0         1          0    ...             1   \n",
       "2      4.500000         0         1         0          0    ...             0   \n",
       "\n",
       "   count_tell  count_that  count_the  count_to  count_up  count_what  \\\n",
       "0           1           0          0         1         1           1   \n",
       "1           0           0          0         1         0           1   \n",
       "2           0           1          1         0         0           0   \n",
       "\n",
       "   count_with  count_write  count_you  \n",
       "0           1            0          2  \n",
       "1           0            1          0  \n",
       "2           0            0          0  \n",
       "\n",
       "[3 rows x 39 columns]"
      ]
     },
     "execution_count": 40,
     "metadata": {},
     "output_type": "execute_result"
    }
   ],
   "source": [
    "from sklearn.feature_extraction.text import CountVectorizer\n",
    "\n",
    "cv = CountVectorizer(min_df = 0.1, max_df = 0.9)\n",
    "\n",
    "text_cv = cv.fit_transform(text_df[\"cleaned_text\"])\n",
    "\n",
    "print(text_cv.toarray())\n",
    "print(cv.get_feature_names())\n",
    "\n",
    "cv_df = pd.DataFrame(text_cv.toarray(), columns = cv.get_feature_names()).add_prefix(\"count_\")\n",
    "\n",
    "results = pd.concat([text_df, cv_df], axis=1, sort=False)\n",
    "results"
   ]
  },
  {
   "cell_type": "code",
   "execution_count": 60,
   "metadata": {
    "ExecuteTime": {
     "end_time": "2019-09-17T09:28:23.804847Z",
     "start_time": "2019-09-17T09:28:23.791037Z"
    }
   },
   "outputs": [
    {
     "name": "stdout",
     "output_type": "stream",
     "text": [
      "[[0.37796447 0.37796447 0.37796447 0.37796447 0.         0.\n",
      "  0.         0.         0.37796447 0.37796447 0.         0.\n",
      "  0.         0.         0.         0.         0.         0.\n",
      "  0.37796447 0.        ]\n",
      " [0.         0.         0.         0.         0.16156989 0.\n",
      "  0.21244499 0.21244499 0.         0.         0.16156989 0.21244499\n",
      "  0.63733497 0.21244499 0.21244499 0.42488998 0.21244499 0.21244499\n",
      "  0.         0.21244499]\n",
      " [0.         0.         0.         0.         0.51785612 0.68091856\n",
      "  0.         0.         0.         0.         0.51785612 0.\n",
      "  0.         0.         0.         0.         0.         0.\n",
      "  0.         0.        ]]\n",
      "['29', 'hello', 'hello ben', 'hello ben 29', 'know', 'know need', 'know write', 'know write going', 'meet', 'meet tell', 'need', 'need entries', 'oh', 'oh don', 'oh don know', 'oh oh', 'oh oh don', 'oh oh oh', 'tell', 'write']\n"
     ]
    },
    {
     "data": {
      "text/plain": [
       "TFIDF_meet tell           0.377964\n",
       "TFIDF_tell                0.377964\n",
       "TFIDF_hello               0.377964\n",
       "TFIDF_hello ben           0.377964\n",
       "TFIDF_hello ben 29        0.377964\n",
       "TFIDF_meet                0.377964\n",
       "TFIDF_29                  0.377964\n",
       "TFIDF_oh                  0.000000\n",
       "TFIDF_need entries        0.000000\n",
       "TFIDF_need                0.000000\n",
       "TFIDF_oh don              0.000000\n",
       "TFIDF_oh don know         0.000000\n",
       "TFIDF_know write going    0.000000\n",
       "TFIDF_know write          0.000000\n",
       "TFIDF_know need           0.000000\n",
       "TFIDF_know                0.000000\n",
       "TFIDF_oh oh               0.000000\n",
       "TFIDF_oh oh don           0.000000\n",
       "TFIDF_oh oh oh            0.000000\n",
       "TFIDF_write               0.000000\n",
       "Name: 0, dtype: float64"
      ]
     },
     "execution_count": 60,
     "metadata": {},
     "output_type": "execute_result"
    }
   ],
   "source": [
    "from sklearn.feature_extraction.text import TfidfVectorizer\n",
    "\n",
    "tfidf = TfidfVectorizer(max_features = 20 \n",
    "                        , stop_words = \"english\"\n",
    "                       , ngram_range = (1,3)) #1gram, 2grams and 3 grams included\n",
    "\n",
    "text_tfidf = tfidf.fit_transform(text_df[\"cleaned_text\"])\n",
    "\n",
    "print(text_tfidf.toarray())\n",
    "print(tfidf.get_feature_names())\n",
    "\n",
    "tfidf_df = pd.DataFrame(text_tfidf.toarray(), columns = tfidf.get_feature_names()).add_prefix(\"TFIDF_\")\n",
    "\n",
    "results = pd.concat([text_df, tfidf_df], axis=1, sort=False)\n",
    "\n",
    "tfidf_df.iloc[0].sort_values(ascending=False)"
   ]
  },
  {
   "cell_type": "code",
   "execution_count": null,
   "metadata": {},
   "outputs": [],
   "source": []
  },
  {
   "cell_type": "markdown",
   "metadata": {},
   "source": [
    "# Object Oriented"
   ]
  },
  {
   "cell_type": "markdown",
   "metadata": {},
   "source": [
    "* No private/public like in java or c++\n",
    "* all methods should have \"self\" as first argument\n",
    "* __init__ method is the constructor\n",
    "* __ dict __ contains a list of all attributes of an object"
   ]
  },
  {
   "cell_type": "markdown",
   "metadata": {},
   "source": [
    "## Classes"
   ]
  },
  {
   "cell_type": "code",
   "execution_count": 13,
   "metadata": {
    "ExecuteTime": {
     "end_time": "2020-02-18T16:30:47.232044Z",
     "start_time": "2020-02-18T16:30:47.226275Z"
    }
   },
   "outputs": [
    {
     "data": {
      "text/plain": [
       "<__main__.Dinosaur at 0x7f1dad100908>"
      ]
     },
     "execution_count": 13,
     "metadata": {},
     "output_type": "execute_result"
    }
   ],
   "source": [
    "class Dinosaur:\n",
    "    pass\n",
    "\n",
    "a = Dinosaur()\n",
    "a"
   ]
  },
  {
   "cell_type": "code",
   "execution_count": 8,
   "metadata": {
    "ExecuteTime": {
     "end_time": "2020-02-18T16:06:34.554613Z",
     "start_time": "2020-02-18T16:06:34.544347Z"
    }
   },
   "outputs": [
    {
     "name": "stdout",
     "output_type": "stream",
     "text": [
      "Happy Birthday Benoît. You turned 29 years old\n",
      "Benoît is dead on 2020-02-18 17:06:34.550624\n"
     ]
    },
    {
     "data": {
      "text/plain": [
       "'dead'"
      ]
     },
     "execution_count": 8,
     "metadata": {},
     "output_type": "execute_result"
    }
   ],
   "source": [
    "from abc import ABCMeta, abstractmethod\n",
    "\n",
    "class character(object):\n",
    "    \"\"\"\n",
    "    Character for MMORPG\n",
    "    \"\"\"\n",
    "    # static attribute\n",
    "    legs = 2\n",
    "    \n",
    "    __metaclass__ = ABCMeta\n",
    "    \n",
    "    def __init__(self, name, age, hp, status = \"alive\"):\n",
    "        self.name = name\n",
    "        self.age = age\n",
    "        self.hp = hp\n",
    "        self.status = status\n",
    "        \n",
    "    def birthday(self):\n",
    "        print(\"Happy Birthday {}. You turned {} years old\".format(self.name, self.age))\n",
    "        self.age = self.age + 1\n",
    "        \n",
    "    def die(self):\n",
    "        print(\"{} is dead on {}\".format(self.name, dt.datetime.today()))\n",
    "        self.status = \"dead\"\n",
    "        \n",
    "    def display_status(self):\n",
    "        print(\"{} has {} HP\".format(self.name, self.hp))\n",
    "        \n",
    "    @abstractmethod    \n",
    "    def attack(self):\n",
    "        pass\n",
    "        \n",
    "        \n",
    "Ben = character(\"Benoît\", 29, 100)\n",
    "Ben.birthday()\n",
    "Ben.die()\n",
    "\n",
    "Ben.status"
   ]
  },
  {
   "cell_type": "code",
   "execution_count": 228,
   "metadata": {
    "ExecuteTime": {
     "end_time": "2019-04-30T13:23:27.464935Z",
     "start_time": "2019-04-30T13:23:27.417222Z"
    }
   },
   "outputs": [
    {
     "name": "stdout",
     "output_type": "stream",
     "text": [
      "zu has 50/50 MP\n",
      "zu send a fire ball\n",
      "zu has 45/50 MP\n",
      "zu has been hit, he lost 10. His current HP are 50\n",
      "zu has 50 HP\n",
      "zu has 45 MP\n",
      "zu has been hit, he lost 30. His current HP are 20\n",
      "zu is dead on 2019-04-30 15:23:27.451375\n"
     ]
    }
   ],
   "source": [
    "class wizard(character):\n",
    "    \n",
    "    def __init__(self, name, age, hp, mp):\n",
    "        character.__init__(self, name, age, hp)\n",
    "        self.mp = mp\n",
    "        \n",
    "        \n",
    "    def attack(self):\n",
    "        self.get_mp()\n",
    "        print(\"{} send a fire ball\".format(self.name))\n",
    "        self.mp = self.mp - 5\n",
    "        self.get_mp()\n",
    "        \n",
    "    def get_mp(self):\n",
    "        print(\"{} has {}/50 MP\".format(self.name, self.mp))\n",
    "        \n",
    "    def get_hit(self, damage):\n",
    "        self.hp = self.hp - damage\n",
    "        if self.hp <= 0:\n",
    "            self.die()\n",
    "        else:\n",
    "            print(\"{} has been hit, he lost {}. His current HP are {}\".format(self.name, damage, self.hp))\n",
    "    \n",
    "    def display_status(self):\n",
    "        character.display_status(self)\n",
    "        print(\"{} has {} MP\".format(self.name, self.mp))\n",
    "        \n",
    "za = wizard(\"zu\", 25, 60, 50)\n",
    "za.attack()\n",
    "za.get_hit(10)\n",
    "za.display_status()\n",
    "za.get_hit(30)\n",
    "za.get_hit(40)"
   ]
  },
  {
   "cell_type": "code",
   "execution_count": 1,
   "metadata": {
    "ExecuteTime": {
     "end_time": "2019-02-20T09:41:38.801577Z",
     "start_time": "2019-02-20T09:41:38.786642Z"
    },
    "scrolled": true
   },
   "outputs": [
    {
     "name": "stdout",
     "output_type": "stream",
     "text": [
      "List Length:     5\n",
      "Max Value:       5\n",
      "Min Value:       1\n",
      "Types Contained: [<class 'int'>]\n",
      "List Length:     3\n",
      "Max Value:       None\n",
      "Min Value:       None\n",
      "Types Contained: [<class 'float'>, <class 'int'>, <class 'str'>]\n"
     ]
    }
   ],
   "source": [
    "class SuperList():\n",
    "    \"\"\"\n",
    "    A Python list with some extras!\n",
    "    functionw with __...__ are called dunder methods\n",
    "    \"\"\"\n",
    "    \n",
    "    def __init__(self, initial_state=[]):\n",
    "        self._data = initial_state # use prefix _ to tell users that this attribute is for internal use\n",
    "        self._update()\n",
    "        \n",
    "    def __repr__(self): # to overwrite default behaviour of print function\n",
    "        string_representation = str(self._data)\n",
    "        return string_representation\n",
    "    \n",
    "    def __eq__(self, other): # to overwrite default behaviour of == operator\n",
    "        is_equal = self.__dict__ == other.__dict__\n",
    "        return is_equal\n",
    "    \n",
    "    def _calc_length(self):\n",
    "        l = 0\n",
    "        for x in self._data:\n",
    "            l += 1\n",
    "        self.length = l\n",
    "        \n",
    "    def _calc_max(self):\n",
    "        # max() will fail if our list is empty\n",
    "        is_empty = self.length == 0\n",
    "        # max() will fail if our list contains more\n",
    "        # that one type of object:\n",
    "        types = []\n",
    "        for i in self._data:\n",
    "            i_type = type(i)\n",
    "            if i_type not in types:\n",
    "                types.append(i_type)\n",
    "        more_than_one_type = len(types) > 1\n",
    "\n",
    "        # check both conditions and return either the\n",
    "        # max or None\n",
    "        if is_empty or more_than_one_type:\n",
    "            self.max = None\n",
    "        else:\n",
    "            self.max = max(self._data)\n",
    "\n",
    "    \n",
    "    def _calc_min(self):\n",
    "        # min() will fail if our list is empty\n",
    "        is_empty = self.length == 0\n",
    "\n",
    "        types = []\n",
    "        for i in self._data:\n",
    "            i_type = type(i)\n",
    "            if i_type not in types:\n",
    "                types.append(i_type)\n",
    "        more_than_one_type = len(types) > 1\n",
    "\n",
    "        # check both conditions and return either the\n",
    "        # max or None\n",
    "        if is_empty or more_than_one_type:\n",
    "            self.min = None\n",
    "        else:\n",
    "            self.min = min(self._data)\n",
    "    \n",
    "    def _calc_types(self):\n",
    "        types = []\n",
    "        for item in self._data:\n",
    "            item_type = type(item)\n",
    "            if item_type not in types:\n",
    "                types.append(item_type)\n",
    "        self.types = types\n",
    "    \n",
    "    def _update(self):\n",
    "        self._calc_length()\n",
    "        self._calc_max()\n",
    "        self._calc_min()\n",
    "        self._calc_types()\n",
    "        \n",
    "    def append(self, new):\n",
    "        self._data = self._data + [new]\n",
    "        self._update()\n",
    "        \n",
    "    def reverse(self):\n",
    "        self._data = self._data[::-1]\n",
    "        self._update()\n",
    "        \n",
    "    def info(self):\n",
    "        template = '''\\\n",
    "List Length:     {}\n",
    "Max Value:       {}\n",
    "Min Value:       {}\n",
    "Types Contained: {}'''.format(self.length, self.max, self.min, self.types)\n",
    "        print(template)\n",
    "    \n",
    "    \n",
    "a = SuperList([1,2,3,4,5])\n",
    "a.info()\n",
    "\n",
    "b= SuperList([1.3,-14, \"hello\"])\n",
    "b.info()\n",
    "\n"
   ]
  },
  {
   "cell_type": "code",
   "execution_count": 42,
   "metadata": {
    "ExecuteTime": {
     "end_time": "2020-02-20T13:19:08.565364Z",
     "start_time": "2020-02-20T13:19:08.523369Z"
    }
   },
   "outputs": [
    {
     "data": {
      "text/html": [
       "<div>\n",
       "<style scoped>\n",
       "    .dataframe tbody tr th:only-of-type {\n",
       "        vertical-align: middle;\n",
       "    }\n",
       "\n",
       "    .dataframe tbody tr th {\n",
       "        vertical-align: top;\n",
       "    }\n",
       "\n",
       "    .dataframe thead th {\n",
       "        text-align: right;\n",
       "    }\n",
       "</style>\n",
       "<table border=\"1\" class=\"dataframe\">\n",
       "  <thead>\n",
       "    <tr style=\"text-align: right;\">\n",
       "      <th></th>\n",
       "      <th>num</th>\n",
       "      <th>Total</th>\n",
       "      <th>HP</th>\n",
       "      <th>Attack</th>\n",
       "      <th>Defense</th>\n",
       "      <th>Sp. Atk</th>\n",
       "      <th>Sp. Def</th>\n",
       "      <th>Speed</th>\n",
       "      <th>Generation</th>\n",
       "    </tr>\n",
       "  </thead>\n",
       "  <tbody>\n",
       "    <tr>\n",
       "      <th>count</th>\n",
       "      <td>800.000000</td>\n",
       "      <td>800.00000</td>\n",
       "      <td>800.000000</td>\n",
       "      <td>800.000000</td>\n",
       "      <td>800.000000</td>\n",
       "      <td>800.000000</td>\n",
       "      <td>800.000000</td>\n",
       "      <td>800.000000</td>\n",
       "      <td>800.00000</td>\n",
       "    </tr>\n",
       "    <tr>\n",
       "      <th>mean</th>\n",
       "      <td>362.813750</td>\n",
       "      <td>435.10250</td>\n",
       "      <td>69.258750</td>\n",
       "      <td>79.001250</td>\n",
       "      <td>73.842500</td>\n",
       "      <td>72.820000</td>\n",
       "      <td>71.902500</td>\n",
       "      <td>68.277500</td>\n",
       "      <td>3.32375</td>\n",
       "    </tr>\n",
       "    <tr>\n",
       "      <th>std</th>\n",
       "      <td>208.343798</td>\n",
       "      <td>119.96304</td>\n",
       "      <td>25.534669</td>\n",
       "      <td>32.457366</td>\n",
       "      <td>31.183501</td>\n",
       "      <td>32.722294</td>\n",
       "      <td>27.828916</td>\n",
       "      <td>29.060474</td>\n",
       "      <td>1.66129</td>\n",
       "    </tr>\n",
       "    <tr>\n",
       "      <th>min</th>\n",
       "      <td>1.000000</td>\n",
       "      <td>180.00000</td>\n",
       "      <td>1.000000</td>\n",
       "      <td>5.000000</td>\n",
       "      <td>5.000000</td>\n",
       "      <td>10.000000</td>\n",
       "      <td>20.000000</td>\n",
       "      <td>5.000000</td>\n",
       "      <td>1.00000</td>\n",
       "    </tr>\n",
       "    <tr>\n",
       "      <th>25%</th>\n",
       "      <td>184.750000</td>\n",
       "      <td>330.00000</td>\n",
       "      <td>50.000000</td>\n",
       "      <td>55.000000</td>\n",
       "      <td>50.000000</td>\n",
       "      <td>49.750000</td>\n",
       "      <td>50.000000</td>\n",
       "      <td>45.000000</td>\n",
       "      <td>2.00000</td>\n",
       "    </tr>\n",
       "    <tr>\n",
       "      <th>50%</th>\n",
       "      <td>364.500000</td>\n",
       "      <td>450.00000</td>\n",
       "      <td>65.000000</td>\n",
       "      <td>75.000000</td>\n",
       "      <td>70.000000</td>\n",
       "      <td>65.000000</td>\n",
       "      <td>70.000000</td>\n",
       "      <td>65.000000</td>\n",
       "      <td>3.00000</td>\n",
       "    </tr>\n",
       "    <tr>\n",
       "      <th>75%</th>\n",
       "      <td>539.250000</td>\n",
       "      <td>515.00000</td>\n",
       "      <td>80.000000</td>\n",
       "      <td>100.000000</td>\n",
       "      <td>90.000000</td>\n",
       "      <td>95.000000</td>\n",
       "      <td>90.000000</td>\n",
       "      <td>90.000000</td>\n",
       "      <td>5.00000</td>\n",
       "    </tr>\n",
       "    <tr>\n",
       "      <th>max</th>\n",
       "      <td>721.000000</td>\n",
       "      <td>780.00000</td>\n",
       "      <td>255.000000</td>\n",
       "      <td>190.000000</td>\n",
       "      <td>230.000000</td>\n",
       "      <td>194.000000</td>\n",
       "      <td>230.000000</td>\n",
       "      <td>180.000000</td>\n",
       "      <td>6.00000</td>\n",
       "    </tr>\n",
       "  </tbody>\n",
       "</table>\n",
       "</div>"
      ],
      "text/plain": [
       "              num      Total          HP      Attack     Defense     Sp. Atk  \\\n",
       "count  800.000000  800.00000  800.000000  800.000000  800.000000  800.000000   \n",
       "mean   362.813750  435.10250   69.258750   79.001250   73.842500   72.820000   \n",
       "std    208.343798  119.96304   25.534669   32.457366   31.183501   32.722294   \n",
       "min      1.000000  180.00000    1.000000    5.000000    5.000000   10.000000   \n",
       "25%    184.750000  330.00000   50.000000   55.000000   50.000000   49.750000   \n",
       "50%    364.500000  450.00000   65.000000   75.000000   70.000000   65.000000   \n",
       "75%    539.250000  515.00000   80.000000  100.000000   90.000000   95.000000   \n",
       "max    721.000000  780.00000  255.000000  190.000000  230.000000  194.000000   \n",
       "\n",
       "          Sp. Def       Speed  Generation  \n",
       "count  800.000000  800.000000   800.00000  \n",
       "mean    71.902500   68.277500     3.32375  \n",
       "std     27.828916   29.060474     1.66129  \n",
       "min     20.000000    5.000000     1.00000  \n",
       "25%     50.000000   45.000000     2.00000  \n",
       "50%     70.000000   65.000000     3.00000  \n",
       "75%     90.000000   90.000000     5.00000  \n",
       "max    230.000000  180.000000     6.00000  "
      ]
     },
     "execution_count": 42,
     "metadata": {},
     "output_type": "execute_result"
    }
   ],
   "source": [
    "class DataShell():\n",
    "    \n",
    "    family = \"DataShell\" # class variable (shared among all objects)\n",
    "    \n",
    "    def __init__(self, name):\n",
    "        self.filename = name\n",
    "        self.data = pd.read_csv(name)\n",
    "        self.stats = self.data.describe()\n",
    "        \n",
    "    def generate_csv(self):\n",
    "        self.data_as_csv = pd.read_csv(self.filename)\n",
    "        return self.data_as_csv\n",
    "    \n",
    "    def rename_column(self, column_name, new_column_name):\n",
    "        self.data.columns = self.data.columns.str.replace(column_name, new_column_name)\n",
    "    \n",
    "        \n",
    "df = DataShell(\"Data/data.csv\")\n",
    "df.filename\n",
    "df.rename_column(\"num\", \"pokedex_id\")\n",
    "df.stats"
   ]
  },
  {
   "cell_type": "code",
   "execution_count": 36,
   "metadata": {
    "ExecuteTime": {
     "end_time": "2020-02-20T13:11:06.305951Z",
     "start_time": "2020-02-20T13:11:06.296909Z"
    }
   },
   "outputs": [
    {
     "name": "stdout",
     "output_type": "stream",
     "text": [
      "std of column HP is 25.53\n"
     ]
    }
   ],
   "source": [
    "class StdDataShell(DataShell):\n",
    "    # inherits all attributes and methods from DataShell\n",
    "    \n",
    "    def get_std(self, column):\n",
    "        print(\"std of column {} is {:.2f}\".format(column, self.data[column].std()))\n",
    "#         return(self.data[column].std())\n",
    "\n",
    "\n",
    "truc = StdDataShell(\"Data/data.csv\")\n",
    "truc.get_std(\"HP\")"
   ]
  },
  {
   "cell_type": "markdown",
   "metadata": {},
   "source": [
    "### Inheritance & polymorphisme"
   ]
  },
  {
   "cell_type": "code",
   "execution_count": 30,
   "metadata": {
    "ExecuteTime": {
     "end_time": "2020-02-20T12:43:26.134634Z",
     "start_time": "2020-02-20T12:43:26.124615Z"
    }
   },
   "outputs": [
    {
     "name": "stdout",
     "output_type": "stream",
     "text": [
      "Stella Spinal cord: True\n",
      "Stella temperature regulation: False\n",
      "Daisy Spinal cord: True\n",
      "Daisy temperature regulation: True\n"
     ]
    }
   ],
   "source": [
    "# Create a class Vertebrate\n",
    "class Vertebrate:\n",
    "    spinal_cord = True\n",
    "    def __init__(self, name):\n",
    "        self.name = name\n",
    "\n",
    "# Create a class Mammal, which inherits from Vertebrate\n",
    "class Mammal(Vertebrate):\n",
    "    def __init__(self, name, animal_type):\n",
    "        self.animal_type = animal_type\n",
    "        self.temperature_regulation = True\n",
    "\n",
    "# Create a class Reptile, which also inherits from Vertebrate\n",
    "class Reptile(Vertebrate):\n",
    "    def __init__(self, name, animal_type):\n",
    "        self.animal_type = animal_type\n",
    "        self.temperature_regulation = False\n",
    "\n",
    "# Instantiate a mammal with name 'Daisy' and animal_type 'dog': daisy\n",
    "daisy = Mammal('Daisy', 'dog')\n",
    "\n",
    "# Instantiate a reptile with name 'Stella' and animal_type 'alligator': stella\n",
    "stella = Reptile('Stella', 'alligator')\n",
    "\n",
    "# Print stella's attributes spinal_cord and temperature_regulation\n",
    "print(\"Stella Spinal cord: \" + str(stella.spinal_cord))\n",
    "print(\"Stella temperature regulation: \" + str(stella.temperature_regulation))\n",
    "\n",
    "# Print daisy's attributes spinal_cord and temperature_regulation\n",
    "print(\"Daisy Spinal cord: \" + str(daisy.spinal_cord))\n",
    "print(\"Daisy temperature regulation: \" + str(daisy.temperature_regulation))"
   ]
  },
  {
   "cell_type": "markdown",
   "metadata": {},
   "source": [
    "### Special methods"
   ]
  },
  {
   "cell_type": "code",
   "execution_count": 7,
   "metadata": {
    "ExecuteTime": {
     "end_time": "2019-03-05T08:35:31.698291Z",
     "start_time": "2019-03-05T08:35:31.694428Z"
    }
   },
   "outputs": [
    {
     "name": "stdout",
     "output_type": "stream",
     "text": [
      "hey hey\n",
      "5\n",
      "Je suis un éléphant très spécial\n"
     ]
    }
   ],
   "source": [
    "class Hack:\n",
    "    def __len__(self):\n",
    "        print(\"hey hey\")\n",
    "        return(5)\n",
    "    def __repr__(self):\n",
    "        return \"Je suis un éléphant très spécial\"\n",
    "    \n",
    "a = Hack()\n",
    "print(len(a))\n",
    "print(a)"
   ]
  },
  {
   "cell_type": "markdown",
   "metadata": {},
   "source": [
    "# Widgets"
   ]
  },
  {
   "cell_type": "code",
   "execution_count": 1,
   "metadata": {
    "ExecuteTime": {
     "end_time": "2019-04-25T07:00:08.341314Z",
     "start_time": "2019-04-25T07:00:08.338416Z"
    }
   },
   "outputs": [],
   "source": [
    "from ipywidgets import interact, interactive, fixed, interact_manual, FloatSlider\n",
    "import ipywidgets as widgets\n",
    "from IPython.display import display"
   ]
  },
  {
   "cell_type": "code",
   "execution_count": 4,
   "metadata": {
    "ExecuteTime": {
     "end_time": "2019-04-25T07:01:06.108230Z",
     "start_time": "2019-04-25T07:01:06.089097Z"
    }
   },
   "outputs": [
    {
     "data": {
      "application/vnd.jupyter.widget-view+json": {
       "model_id": "bb8b8f9c70594e759c8036385124f191",
       "version_major": 2,
       "version_minor": 0
      },
      "text/plain": [
       "IntSlider(value=0)"
      ]
     },
     "metadata": {},
     "output_type": "display_data"
    },
    {
     "name": "stdout",
     "output_type": "stream",
     "text": [
      "0\n",
      "['style', '_dom_classes', 'max', '_model_module_version', '_model_name', 'disabled', 'readout', 'value', 'continuous_update', 'readout_format', '_view_name', 'description_tooltip', '_model_module', 'min', '_view_module', 'orientation', 'description', 'layout', '_view_module_version', '_view_count', 'step']\n"
     ]
    }
   ],
   "source": [
    "w = widgets.IntSlider()\n",
    "display(w)\n",
    "print(w.value)\n",
    "print(w.keys)\n",
    "w.max = 250"
   ]
  },
  {
   "cell_type": "code",
   "execution_count": 5,
   "metadata": {
    "ExecuteTime": {
     "end_time": "2019-04-25T07:01:14.364064Z",
     "start_time": "2019-04-25T07:01:14.350492Z"
    }
   },
   "outputs": [
    {
     "data": {
      "application/vnd.jupyter.widget-view+json": {
       "model_id": "1696ef4621b3441bb40df5ac8cb65063",
       "version_major": 2,
       "version_minor": 0
      },
      "text/plain": [
       "Text(value='Hello World!', disabled=True)"
      ]
     },
     "metadata": {},
     "output_type": "display_data"
    }
   ],
   "source": [
    "widgets.Text(value='Hello World!', disabled=True)"
   ]
  },
  {
   "cell_type": "markdown",
   "metadata": {},
   "source": [
    "## Control list"
   ]
  },
  {
   "cell_type": "code",
   "execution_count": 13,
   "metadata": {
    "ExecuteTime": {
     "end_time": "2019-04-25T07:02:30.536878Z",
     "start_time": "2019-04-25T07:02:30.515607Z"
    }
   },
   "outputs": [
    {
     "data": {
      "application/vnd.jupyter.widget-view+json": {
       "model_id": "758f8d1e343f408bbb4a945bbec339eb",
       "version_major": 2,
       "version_minor": 0
      },
      "text/plain": [
       "FloatText(value=0.0)"
      ]
     },
     "metadata": {},
     "output_type": "display_data"
    },
    {
     "data": {
      "application/vnd.jupyter.widget-view+json": {
       "model_id": "7f9511c659e94733bae09ad4a0a6241f",
       "version_major": 2,
       "version_minor": 0
      },
      "text/plain": [
       "FloatSlider(value=0.0)"
      ]
     },
     "metadata": {},
     "output_type": "display_data"
    },
    {
     "name": "stdout",
     "output_type": "stream",
     "text": [
      "FloatText(value=0.0)\n"
     ]
    }
   ],
   "source": [
    "a = widgets.FloatText()\n",
    "b = widgets.FloatSlider()\n",
    "display(a,b)\n",
    "\n",
    "mylink = widgets.jslink((a, 'value'), (b, 'value'))"
   ]
  },
  {
   "cell_type": "code",
   "execution_count": 11,
   "metadata": {
    "ExecuteTime": {
     "end_time": "2019-04-25T07:02:11.453460Z",
     "start_time": "2019-04-25T07:02:11.440709Z"
    }
   },
   "outputs": [
    {
     "data": {
      "application/vnd.jupyter.widget-view+json": {
       "model_id": "2b487ff43ed94cc1b7886be405a460dd",
       "version_major": 2,
       "version_minor": 0
      },
      "text/plain": [
       "IntSlider(value=7, continuous_update=False, description='Test:', max=10)"
      ]
     },
     "metadata": {},
     "output_type": "display_data"
    }
   ],
   "source": [
    "widgets.IntSlider(\n",
    "    value=7,\n",
    "    min=0,\n",
    "    max=10,\n",
    "    step=1,\n",
    "    description='Test:',\n",
    "    disabled=False,\n",
    "    continuous_update=False,\n",
    "    orientation='horizontal',\n",
    "    readout=True,\n",
    "    readout_format='d'\n",
    ")\n"
   ]
  },
  {
   "cell_type": "code",
   "execution_count": 53,
   "metadata": {
    "ExecuteTime": {
     "end_time": "2019-03-15T16:01:57.140483Z",
     "start_time": "2019-03-15T16:01:57.127780Z"
    }
   },
   "outputs": [
    {
     "data": {
      "application/vnd.jupyter.widget-view+json": {
       "model_id": "6ba72056bbc34d1f93a42bf0d5dbf5bd",
       "version_major": 2,
       "version_minor": 0
      },
      "text/plain": [
       "FloatSlider(value=7.5, continuous_update=False, description='Test:', max=10.0, orientation='vertical', readout…"
      ]
     },
     "metadata": {},
     "output_type": "display_data"
    }
   ],
   "source": [
    "widgets.FloatSlider(\n",
    "    value=7.5,\n",
    "    min=0,\n",
    "    max=10.0,\n",
    "    step=0.1,\n",
    "    description='Test:',\n",
    "    disabled=False,\n",
    "    continuous_update=False,\n",
    "    orientation='vertical',\n",
    "    readout=True,\n",
    "    readout_format='.1f',\n",
    ")"
   ]
  },
  {
   "cell_type": "code",
   "execution_count": 54,
   "metadata": {
    "ExecuteTime": {
     "end_time": "2019-03-15T16:02:15.065408Z",
     "start_time": "2019-03-15T16:02:15.052985Z"
    }
   },
   "outputs": [
    {
     "data": {
      "application/vnd.jupyter.widget-view+json": {
       "model_id": "80223de2d55a4a5983f5e47846f88da6",
       "version_major": 2,
       "version_minor": 0
      },
      "text/plain": [
       "FloatLogSlider(value=10.0, description='Log Slider', max=10.0, min=-10.0, step=0.2)"
      ]
     },
     "metadata": {},
     "output_type": "display_data"
    }
   ],
   "source": [
    "widgets.FloatLogSlider(\n",
    "    value=10,\n",
    "    base=10,\n",
    "    min=-10, # max exponent of base\n",
    "    max=10, # min exponent of base\n",
    "    step=0.2, # exponent step\n",
    "    description='Log Slider'\n",
    ")"
   ]
  },
  {
   "cell_type": "code",
   "execution_count": 55,
   "metadata": {
    "ExecuteTime": {
     "end_time": "2019-03-15T16:02:23.465980Z",
     "start_time": "2019-03-15T16:02:23.452857Z"
    }
   },
   "outputs": [
    {
     "data": {
      "application/vnd.jupyter.widget-view+json": {
       "model_id": "2322c9f251a8457e9699f4adb648ca91",
       "version_major": 2,
       "version_minor": 0
      },
      "text/plain": [
       "IntRangeSlider(value=(5, 7), continuous_update=False, description='Test:', max=10)"
      ]
     },
     "metadata": {},
     "output_type": "display_data"
    }
   ],
   "source": [
    "widgets.IntRangeSlider(\n",
    "    value=[5, 7],\n",
    "    min=0,\n",
    "    max=10,\n",
    "    step=1,\n",
    "    description='Test:',\n",
    "    disabled=False,\n",
    "    continuous_update=False,\n",
    "    orientation='horizontal',\n",
    "    readout=True,\n",
    "    readout_format='d',\n",
    ")"
   ]
  },
  {
   "cell_type": "code",
   "execution_count": 57,
   "metadata": {
    "ExecuteTime": {
     "end_time": "2019-03-15T16:02:47.676388Z",
     "start_time": "2019-03-15T16:02:47.657074Z"
    }
   },
   "outputs": [
    {
     "data": {
      "application/vnd.jupyter.widget-view+json": {
       "model_id": "1dac9cc4b9294df2b22319c26b728b76",
       "version_major": 2,
       "version_minor": 0
      },
      "text/plain": [
       "FloatProgress(value=7.5, bar_style='info', description='Loading:', max=10.0)"
      ]
     },
     "metadata": {},
     "output_type": "display_data"
    }
   ],
   "source": [
    "widgets.IntProgress(\n",
    "    value=7,\n",
    "    min=0,\n",
    "    max=10,\n",
    "    step=1,\n",
    "    description='Loading:',\n",
    "    bar_style='', # 'success', 'info', 'warning', 'danger' or ''\n",
    "    orientation='horizontal'\n",
    ")\n",
    "\n",
    "\n",
    "widgets.FloatProgress(\n",
    "    value=7.5,\n",
    "    min=0,\n",
    "    max=10.0,\n",
    "    step=0.1,\n",
    "    description='Loading:',\n",
    "    bar_style='info',\n",
    "    orientation='horizontal'\n",
    ")"
   ]
  },
  {
   "cell_type": "code",
   "execution_count": 61,
   "metadata": {
    "ExecuteTime": {
     "end_time": "2019-03-15T16:03:16.047438Z",
     "start_time": "2019-03-15T16:03:16.028052Z"
    }
   },
   "outputs": [
    {
     "data": {
      "application/vnd.jupyter.widget-view+json": {
       "model_id": "2a1036f7663f423cb4752f0bc168827b",
       "version_major": 2,
       "version_minor": 0
      },
      "text/plain": [
       "BoundedFloatText(value=7.5, description='Text:', max=10.0, step=0.1)"
      ]
     },
     "metadata": {},
     "output_type": "display_data"
    }
   ],
   "source": [
    "widgets.BoundedIntText(\n",
    "    value=7,\n",
    "    min=0,\n",
    "    max=10,\n",
    "    step=1,\n",
    "    description='Text:',\n",
    "    disabled=False\n",
    ")\n",
    "\n",
    "widgets.BoundedFloatText(\n",
    "    value=7.5,\n",
    "    min=0,\n",
    "    max=10.0,\n",
    "    step=0.1,\n",
    "    description='Text:',\n",
    "    disabled=False\n",
    ")"
   ]
  },
  {
   "cell_type": "code",
   "execution_count": 62,
   "metadata": {
    "ExecuteTime": {
     "end_time": "2019-03-15T16:03:35.119368Z",
     "start_time": "2019-03-15T16:03:35.101822Z"
    }
   },
   "outputs": [
    {
     "data": {
      "application/vnd.jupyter.widget-view+json": {
       "model_id": "f477b4569971446ebf67fccbd490870e",
       "version_major": 2,
       "version_minor": 0
      },
      "text/plain": [
       "FloatText(value=7.5, description='Any:')"
      ]
     },
     "metadata": {},
     "output_type": "display_data"
    }
   ],
   "source": [
    "widgets.IntText(\n",
    "    value=7,\n",
    "    description='Any:',\n",
    "    disabled=False\n",
    ")\n",
    "widgets.FloatText(\n",
    "    value=7.5,\n",
    "    description='Any:',\n",
    "    disabled=False\n",
    ")"
   ]
  },
  {
   "cell_type": "code",
   "execution_count": 63,
   "metadata": {
    "ExecuteTime": {
     "end_time": "2019-03-15T16:05:02.079377Z",
     "start_time": "2019-03-15T16:05:02.066801Z"
    }
   },
   "outputs": [
    {
     "data": {
      "application/vnd.jupyter.widget-view+json": {
       "model_id": "5916c45cf7c1417d8706bdb7f2ef5115",
       "version_major": 2,
       "version_minor": 0
      },
      "text/plain": [
       "ToggleButton(value=False, description='Click me', icon='check', tooltip='Description')"
      ]
     },
     "metadata": {},
     "output_type": "display_data"
    }
   ],
   "source": [
    "\n",
    "widgets.ToggleButton(\n",
    "    value=False,\n",
    "    description='Click me',\n",
    "    disabled=False,\n",
    "    button_style='', # 'success', 'info', 'warning', 'danger' or ''\n",
    "    tooltip='Description',\n",
    "    icon='check'\n",
    ")"
   ]
  },
  {
   "cell_type": "code",
   "execution_count": 64,
   "metadata": {
    "ExecuteTime": {
     "end_time": "2019-03-15T16:05:11.381792Z",
     "start_time": "2019-03-15T16:05:11.370939Z"
    }
   },
   "outputs": [
    {
     "data": {
      "application/vnd.jupyter.widget-view+json": {
       "model_id": "95e0368714694290b0a9af6b3b0fc9bc",
       "version_major": 2,
       "version_minor": 0
      },
      "text/plain": [
       "Checkbox(value=False, description='Check me')"
      ]
     },
     "metadata": {},
     "output_type": "display_data"
    }
   ],
   "source": [
    "\n",
    "widgets.Checkbox(\n",
    "    value=False,\n",
    "    description='Check me',\n",
    "    disabled=False\n",
    ")"
   ]
  },
  {
   "cell_type": "code",
   "execution_count": 65,
   "metadata": {
    "ExecuteTime": {
     "end_time": "2019-03-15T16:05:18.928570Z",
     "start_time": "2019-03-15T16:05:18.917288Z"
    }
   },
   "outputs": [
    {
     "data": {
      "application/vnd.jupyter.widget-view+json": {
       "model_id": "0e43b59cf0d547cf85d0a19858fc81d9",
       "version_major": 2,
       "version_minor": 0
      },
      "text/plain": [
       "Valid(value=False, description='Valid!')"
      ]
     },
     "metadata": {},
     "output_type": "display_data"
    }
   ],
   "source": [
    "widgets.Valid(\n",
    "    value=False,\n",
    "    description='Valid!',\n",
    ")"
   ]
  },
  {
   "cell_type": "code",
   "execution_count": 66,
   "metadata": {
    "ExecuteTime": {
     "end_time": "2019-03-15T16:05:35.907554Z",
     "start_time": "2019-03-15T16:05:35.892839Z"
    }
   },
   "outputs": [
    {
     "data": {
      "application/vnd.jupyter.widget-view+json": {
       "model_id": "babca0f3b3f84bf6961dd0f2c81dcc63",
       "version_major": 2,
       "version_minor": 0
      },
      "text/plain": [
       "Dropdown(description='Number:', index=1, options=('1', '2', '3'), value='2')"
      ]
     },
     "metadata": {},
     "output_type": "display_data"
    }
   ],
   "source": [
    "widgets.Dropdown(\n",
    "    options=['1', '2', '3'],\n",
    "    value='2',\n",
    "    description='Number:',\n",
    "    disabled=False,\n",
    ")"
   ]
  },
  {
   "cell_type": "code",
   "execution_count": 67,
   "metadata": {
    "ExecuteTime": {
     "end_time": "2019-03-15T16:05:43.619283Z",
     "start_time": "2019-03-15T16:05:43.606596Z"
    }
   },
   "outputs": [
    {
     "data": {
      "application/vnd.jupyter.widget-view+json": {
       "model_id": "e789c32f831a4deb9b05b0e5b27b6f37",
       "version_major": 2,
       "version_minor": 0
      },
      "text/plain": [
       "RadioButtons(description='Pizza topping:', options=('pepperoni', 'pineapple', 'anchovies'), value='pepperoni')"
      ]
     },
     "metadata": {},
     "output_type": "display_data"
    }
   ],
   "source": [
    "widgets.RadioButtons(\n",
    "    options=['pepperoni', 'pineapple', 'anchovies'],\n",
    "#     value='pineapple',\n",
    "    description='Pizza topping:',\n",
    "    disabled=False\n",
    ")"
   ]
  },
  {
   "cell_type": "code",
   "execution_count": 68,
   "metadata": {
    "ExecuteTime": {
     "end_time": "2019-03-15T16:05:50.838169Z",
     "start_time": "2019-03-15T16:05:50.824893Z"
    }
   },
   "outputs": [
    {
     "data": {
      "application/vnd.jupyter.widget-view+json": {
       "model_id": "8c66e2c60f204c73bf8457df3d2f346d",
       "version_major": 2,
       "version_minor": 0
      },
      "text/plain": [
       "Select(description='OS:', index=2, options=('Linux', 'Windows', 'OSX'), value='OSX')"
      ]
     },
     "metadata": {},
     "output_type": "display_data"
    }
   ],
   "source": [
    "widgets.Select(\n",
    "    options=['Linux', 'Windows', 'OSX'],\n",
    "    value='OSX',\n",
    "    # rows=10,\n",
    "    description='OS:',\n",
    "    disabled=False\n",
    ")"
   ]
  },
  {
   "cell_type": "code",
   "execution_count": 69,
   "metadata": {
    "ExecuteTime": {
     "end_time": "2019-03-15T16:06:05.361732Z",
     "start_time": "2019-03-15T16:06:05.349056Z"
    }
   },
   "outputs": [
    {
     "data": {
      "application/vnd.jupyter.widget-view+json": {
       "model_id": "d834143bed6d4b378a672035da1a39a2",
       "version_major": 2,
       "version_minor": 0
      },
      "text/plain": [
       "SelectionSlider(continuous_update=False, description='I like my eggs ...', index=1, options=('scrambled', 'sun…"
      ]
     },
     "metadata": {},
     "output_type": "display_data"
    }
   ],
   "source": [
    "widgets.SelectionSlider(\n",
    "    options=['scrambled', 'sunny side up', 'poached', 'over easy'],\n",
    "    value='sunny side up',\n",
    "    description='I like my eggs ...',\n",
    "    disabled=False,\n",
    "    continuous_update=False,\n",
    "    orientation='horizontal',\n",
    "    readout=True\n",
    ")"
   ]
  },
  {
   "cell_type": "code",
   "execution_count": 70,
   "metadata": {
    "ExecuteTime": {
     "end_time": "2019-03-15T16:06:16.457793Z",
     "start_time": "2019-03-15T16:06:16.444239Z"
    }
   },
   "outputs": [
    {
     "data": {
      "application/vnd.jupyter.widget-view+json": {
       "model_id": "54fe1f888483420094536220641d42b8",
       "version_major": 2,
       "version_minor": 0
      },
      "text/plain": [
       "ToggleButtons(description='Speed:', options=('Slow', 'Regular', 'Fast'), tooltips=('Description of slow', 'Des…"
      ]
     },
     "metadata": {},
     "output_type": "display_data"
    }
   ],
   "source": [
    "\n",
    "widgets.ToggleButtons(\n",
    "    options=['Slow', 'Regular', 'Fast'],\n",
    "    description='Speed:',\n",
    "    disabled=False,\n",
    "    button_style='', # 'success', 'info', 'warning', 'danger' or ''\n",
    "    tooltips=['Description of slow', 'Description of regular', 'Description of fast'],\n",
    "#     icons=['check'] * 3\n",
    ")"
   ]
  },
  {
   "cell_type": "code",
   "execution_count": 71,
   "metadata": {
    "ExecuteTime": {
     "end_time": "2019-03-15T16:06:23.707273Z",
     "start_time": "2019-03-15T16:06:23.694384Z"
    }
   },
   "outputs": [
    {
     "data": {
      "application/vnd.jupyter.widget-view+json": {
       "model_id": "8628585658184c29910985620a1d6e44",
       "version_major": 2,
       "version_minor": 0
      },
      "text/plain": [
       "SelectMultiple(description='Fruits', index=(1,), options=('Apples', 'Oranges', 'Pears'), value=('Oranges',))"
      ]
     },
     "metadata": {},
     "output_type": "display_data"
    }
   ],
   "source": [
    "widgets.SelectMultiple(\n",
    "    options=['Apples', 'Oranges', 'Pears'],\n",
    "    value=['Oranges'],\n",
    "    #rows=10,\n",
    "    description='Fruits',\n",
    "    disabled=False\n",
    ")"
   ]
  },
  {
   "cell_type": "code",
   "execution_count": 72,
   "metadata": {
    "ExecuteTime": {
     "end_time": "2019-03-15T16:06:37.454731Z",
     "start_time": "2019-03-15T16:06:37.443244Z"
    }
   },
   "outputs": [
    {
     "data": {
      "application/vnd.jupyter.widget-view+json": {
       "model_id": "194908400fa445ab93bdb301042dc0da",
       "version_major": 2,
       "version_minor": 0
      },
      "text/plain": [
       "Text(value='Hello World', description='String:', placeholder='Type something')"
      ]
     },
     "metadata": {},
     "output_type": "display_data"
    }
   ],
   "source": [
    "widgets.Text(\n",
    "    value='Hello World',\n",
    "    placeholder='Type something',\n",
    "    description='String:',\n",
    "    disabled=False\n",
    ")"
   ]
  },
  {
   "cell_type": "code",
   "execution_count": 73,
   "metadata": {
    "ExecuteTime": {
     "end_time": "2019-03-15T16:06:45.831007Z",
     "start_time": "2019-03-15T16:06:45.820314Z"
    }
   },
   "outputs": [
    {
     "data": {
      "application/vnd.jupyter.widget-view+json": {
       "model_id": "e168b32adf2e4e8a806b380d17f81eec",
       "version_major": 2,
       "version_minor": 0
      },
      "text/plain": [
       "Textarea(value='Hello World', description='String:', placeholder='Type something')"
      ]
     },
     "metadata": {},
     "output_type": "display_data"
    }
   ],
   "source": [
    "widgets.Textarea(\n",
    "    value='Hello World',\n",
    "    placeholder='Type something',\n",
    "    description='String:',\n",
    "    disabled=False\n",
    ")"
   ]
  },
  {
   "cell_type": "code",
   "execution_count": 74,
   "metadata": {
    "ExecuteTime": {
     "end_time": "2019-03-15T16:07:02.666312Z",
     "start_time": "2019-03-15T16:07:02.642678Z"
    }
   },
   "outputs": [
    {
     "data": {
      "application/vnd.jupyter.widget-view+json": {
       "model_id": "382f105145fd47089ec46f7980d28d95",
       "version_major": 2,
       "version_minor": 0
      },
      "text/plain": [
       "HBox(children=(Label(value='The $m$ in $E=mc^2$:'), FloatSlider(value=0.0)))"
      ]
     },
     "metadata": {},
     "output_type": "display_data"
    }
   ],
   "source": [
    "\n",
    "widgets.HBox([widgets.Label(value=\"The $m$ in $E=mc^2$:\"), widgets.FloatSlider()])"
   ]
  },
  {
   "cell_type": "code",
   "execution_count": 75,
   "metadata": {
    "ExecuteTime": {
     "end_time": "2019-03-15T16:07:14.712259Z",
     "start_time": "2019-03-15T16:07:14.700458Z"
    }
   },
   "outputs": [
    {
     "data": {
      "application/vnd.jupyter.widget-view+json": {
       "model_id": "18067dbc5d0447ba95b1ea57d8d52083",
       "version_major": 2,
       "version_minor": 0
      },
      "text/plain": [
       "HTMLMath(value='Some math and <i>HTML</i>: \\\\(x^2\\\\) and $$\\\\frac{x+1}{x-1}$$', description='Some HTML', place…"
      ]
     },
     "metadata": {},
     "output_type": "display_data"
    }
   ],
   "source": [
    "widgets.HTMLMath(\n",
    "    value=r\"Some math and <i>HTML</i>: \\(x^2\\) and $$\\frac{x+1}{x-1}$$\",\n",
    "    placeholder='Some HTML',\n",
    "    description='Some HTML',\n",
    ")"
   ]
  },
  {
   "cell_type": "code",
   "execution_count": 76,
   "metadata": {
    "ExecuteTime": {
     "end_time": "2019-03-15T16:07:25.115563Z",
     "start_time": "2019-03-15T16:07:25.102925Z"
    }
   },
   "outputs": [
    {
     "data": {
      "application/vnd.jupyter.widget-view+json": {
       "model_id": "90755e67c5624ec49f3265edb20786fe",
       "version_major": 2,
       "version_minor": 0
      },
      "text/plain": [
       "Button(description='Click me', icon='check', style=ButtonStyle(), tooltip='Click me')"
      ]
     },
     "metadata": {},
     "output_type": "display_data"
    }
   ],
   "source": [
    "\n",
    "widgets.Button(\n",
    "    description='Click me',\n",
    "    disabled=False,\n",
    "    button_style='', # 'success', 'info', 'warning', 'danger' or ''\n",
    "    tooltip='Click me',\n",
    "    icon='check'\n",
    ")"
   ]
  },
  {
   "cell_type": "code",
   "execution_count": 77,
   "metadata": {
    "ExecuteTime": {
     "end_time": "2019-03-15T16:07:34.900182Z",
     "start_time": "2019-03-15T16:07:34.874717Z"
    }
   },
   "outputs": [
    {
     "data": {
      "application/vnd.jupyter.widget-view+json": {
       "model_id": "0b6c621c38594371ad9c12811d07c9b9",
       "version_major": 2,
       "version_minor": 0
      },
      "text/plain": [
       "HBox(children=(Play(value=50, description='Press play'), IntSlider(value=0)))"
      ]
     },
     "metadata": {},
     "output_type": "display_data"
    }
   ],
   "source": [
    "play = widgets.Play(\n",
    "#     interval=10,\n",
    "    value=50,\n",
    "    min=0,\n",
    "    max=100,\n",
    "    step=1,\n",
    "    description=\"Press play\",\n",
    "    disabled=False\n",
    ")\n",
    "slider = widgets.IntSlider()\n",
    "widgets.jslink((play, 'value'), (slider, 'value'))\n",
    "widgets.HBox([play, slider])"
   ]
  },
  {
   "cell_type": "code",
   "execution_count": 78,
   "metadata": {
    "ExecuteTime": {
     "end_time": "2019-03-15T16:07:42.319204Z",
     "start_time": "2019-03-15T16:07:42.308428Z"
    }
   },
   "outputs": [
    {
     "data": {
      "application/vnd.jupyter.widget-view+json": {
       "model_id": "14d2751dc765473196debaf836838288",
       "version_major": 2,
       "version_minor": 0
      },
      "text/plain": [
       "DatePicker(value=None, description='Pick a Date')"
      ]
     },
     "metadata": {},
     "output_type": "display_data"
    }
   ],
   "source": [
    "widgets.DatePicker(\n",
    "    description='Pick a Date',\n",
    "    disabled=False\n",
    ")"
   ]
  },
  {
   "cell_type": "code",
   "execution_count": 79,
   "metadata": {
    "ExecuteTime": {
     "end_time": "2019-03-15T16:07:51.183261Z",
     "start_time": "2019-03-15T16:07:51.171809Z"
    }
   },
   "outputs": [
    {
     "data": {
      "application/vnd.jupyter.widget-view+json": {
       "model_id": "7ee2553a720b4e52b56ba8c73e348e4f",
       "version_major": 2,
       "version_minor": 0
      },
      "text/plain": [
       "ColorPicker(value='blue', description='Pick a color')"
      ]
     },
     "metadata": {},
     "output_type": "display_data"
    }
   ],
   "source": [
    "\n",
    "widgets.ColorPicker(\n",
    "    concise=False,\n",
    "    description='Pick a color',\n",
    "    value='blue',\n",
    "    disabled=False\n",
    ")"
   ]
  },
  {
   "cell_type": "code",
   "execution_count": 80,
   "metadata": {
    "ExecuteTime": {
     "end_time": "2019-03-15T16:08:21.671753Z",
     "start_time": "2019-03-15T16:08:21.626806Z"
    }
   },
   "outputs": [
    {
     "data": {
      "application/vnd.jupyter.widget-view+json": {
       "model_id": "08671b970da54e63a193bf3b951d0de9",
       "version_major": 2,
       "version_minor": 0
      },
      "text/plain": [
       "Tab(children=(Text(value='', description='P0'), Text(value='', description='P1'), Text(value='', description='…"
      ]
     },
     "metadata": {},
     "output_type": "display_data"
    }
   ],
   "source": [
    "tab_contents = ['P0', 'P1', 'P2', 'P3', 'P4']\n",
    "children = [widgets.Text(description=name) for name in tab_contents]\n",
    "tab = widgets.Tab()\n",
    "tab.children = children\n",
    "for i in range(len(children)):\n",
    "    tab.set_title(i, str(i))\n",
    "tab"
   ]
  },
  {
   "cell_type": "markdown",
   "metadata": {},
   "source": [
    "## Examples"
   ]
  },
  {
   "cell_type": "code",
   "execution_count": 19,
   "metadata": {
    "ExecuteTime": {
     "end_time": "2019-04-25T07:09:34.264488Z",
     "start_time": "2019-04-25T07:09:34.261009Z"
    }
   },
   "outputs": [],
   "source": [
    "def normal_density(x,a,mu,sigma):\n",
    "    r=a*np.exp(-(x-mu)**2/(2*sigma**2))\n",
    "    return (r)"
   ]
  },
  {
   "cell_type": "code",
   "execution_count": 20,
   "metadata": {
    "ExecuteTime": {
     "end_time": "2019-04-25T07:09:34.892600Z",
     "start_time": "2019-04-25T07:09:34.887098Z"
    }
   },
   "outputs": [],
   "source": [
    "def func(amplitude,ideal_mu,ideal_sigma,noise_sd,noise_mean, N_samples, color, size):\n",
    "    \n",
    "    x=np.linspace(-2,2,N_samples)\n",
    "    r=normal_density(x, amplitude, ideal_mu, ideal_sigma)\n",
    "    \n",
    "    plt.figure(figsize=(8,5))\n",
    "    plt.plot(x,r,c='k',lw=3)\n",
    "    \n",
    "    r= r+np.random.normal(loc=noise_mean,scale=noise_sd,size=N_samples)\n",
    "    \n",
    "    plt.scatter(x,r,edgecolors='k',c=color,s=size)\n",
    "    plt.grid(True)\n",
    "    plt.show()\n",
    "    \n",
    "    return (r)"
   ]
  },
  {
   "cell_type": "code",
   "execution_count": 21,
   "metadata": {
    "ExecuteTime": {
     "end_time": "2019-04-25T07:09:35.775146Z",
     "start_time": "2019-04-25T07:09:35.485572Z"
    }
   },
   "outputs": [
    {
     "data": {
      "application/vnd.jupyter.widget-view+json": {
       "model_id": "32912931f88148fd85ff9e3230ac3baa",
       "version_major": 2,
       "version_minor": 0
      },
      "text/plain": [
       "interactive(children=(Dropdown(description='amplitude', options=(1, 2, 3, 4, 5), value=1), FloatSlider(value=0…"
      ]
     },
     "metadata": {},
     "output_type": "display_data"
    },
    {
     "name": "stdout",
     "output_type": "stream",
     "text": [
      "(Dropdown(description='amplitude', options=(1, 2, 3, 4, 5), value=1), FloatSlider(value=0.0, description='ideal_mu', max=5.0, min=-5.0, step=0.5), FloatSlider(value=1.0, description='ideal_sigma', max=2.0, step=0.2), FloatSlider(value=0.0, description='noise_sd', max=1.0), FloatSlider(value=0.0, description='noise_mean', max=1.0, min=-1.0, step=0.2), IntSlider(value=50, description='N_samples', min=10, step=10), Dropdown(description='color', options=('green', 'blue', 'red'), value='green'), IntSlider(value=60, description='size', min=30, step=10), Output())\n",
      "{'amplitude': 1, 'color': 'green', 'noise_sd': 0.0, 'ideal_sigma': 1.0, 'size': 60, 'ideal_mu': 0.0, 'N_samples': 50, 'noise_mean': 0.0}\n"
     ]
    }
   ],
   "source": [
    "y=interactive(func,amplitude=[1,2,3,4,5],ideal_mu=(-5,5,0.5),\n",
    "              ideal_sigma=(0,2,0.2),\n",
    "              noise_sd=(0,1,0.1),noise_mean=(-1,1,0.2),\n",
    "             N_samples=(10,100,10),\n",
    "             color=[\"green\", \"blue\", \"red\"],\n",
    "             size = (30,100,10))\n",
    "display(y)\n",
    "print(y.children)\n",
    "print(y.kwargs)"
   ]
  },
  {
   "cell_type": "code",
   "execution_count": 32,
   "metadata": {
    "ExecuteTime": {
     "end_time": "2019-03-15T15:33:47.095252Z",
     "start_time": "2019-03-15T15:33:47.066022Z"
    }
   },
   "outputs": [
    {
     "data": {
      "application/vnd.jupyter.widget-view+json": {
       "model_id": "06244633d38d46e68f57ec2e1d78d899",
       "version_major": 2,
       "version_minor": 0
      },
      "text/plain": [
       "interactive(children=(FloatSlider(value=5.0, description='a', max=10.0), FloatSlider(value=5.0, description='b…"
      ]
     },
     "metadata": {},
     "output_type": "display_data"
    }
   ],
   "source": [
    "@interact(a=(0,10,0.1), b=(0,10,0.1),continuous_update=False)\n",
    "def somme(a,b):\n",
    "    return(a+b)"
   ]
  },
  {
   "cell_type": "code",
   "execution_count": 34,
   "metadata": {
    "ExecuteTime": {
     "end_time": "2019-03-15T15:48:15.363274Z",
     "start_time": "2019-03-15T15:48:15.335400Z"
    }
   },
   "outputs": [
    {
     "data": {
      "application/vnd.jupyter.widget-view+json": {
       "model_id": "8622cf43cbff4ba99009b23d74ef55d4",
       "version_major": 2,
       "version_minor": 0
      },
      "text/plain": [
       "interactive(children=(Dropdown(description='a', options=(10, 30), value=10), Output()), _dom_classes=('widget-…"
      ]
     },
     "metadata": {},
     "output_type": "display_data"
    }
   ],
   "source": [
    "@interact(a=[10, 3*10], b=fixed(10))\n",
    "def somme(a,b):\n",
    "    return(a+b)"
   ]
  },
  {
   "cell_type": "code",
   "execution_count": 31,
   "metadata": {
    "ExecuteTime": {
     "end_time": "2019-03-15T15:33:17.435496Z",
     "start_time": "2019-03-15T15:33:17.403259Z"
    }
   },
   "outputs": [
    {
     "data": {
      "application/vnd.jupyter.widget-view+json": {
       "model_id": "c050d3bf8f86479b983a6dccbf799c5c",
       "version_major": 2,
       "version_minor": 0
      },
      "text/plain": [
       "interactive(children=(FloatSlider(value=0.0, description='a', step=2.0), FloatSlider(value=0.0, description='b…"
      ]
     },
     "metadata": {},
     "output_type": "display_data"
    }
   ],
   "source": [
    "interact_manual(somme,\n",
    "                a=widgets.FloatSlider(min=0, max=100, step=2),\n",
    "               b=widgets.FloatSlider(min=0, max=100, step=3));"
   ]
  },
  {
   "cell_type": "code",
   "execution_count": 37,
   "metadata": {
    "ExecuteTime": {
     "end_time": "2019-03-15T15:50:35.415825Z",
     "start_time": "2019-03-15T15:50:35.369639Z"
    }
   },
   "outputs": [
    {
     "data": {
      "application/vnd.jupyter.widget-view+json": {
       "model_id": "dc79f9564dbf4f7481c682cfb017a311",
       "version_major": 2,
       "version_minor": 0
      },
      "text/plain": [
       "HBox(children=(IntSlider(value=0), IntSlider(value=0), IntSlider(value=0)))"
      ]
     },
     "metadata": {},
     "output_type": "display_data"
    },
    {
     "data": {
      "application/vnd.jupyter.widget-view+json": {
       "model_id": "af5f512650aa4b03b0600b0dafb9de2b",
       "version_major": 2,
       "version_minor": 0
      },
      "text/plain": [
       "Output()"
      ]
     },
     "metadata": {},
     "output_type": "display_data"
    }
   ],
   "source": [
    "a = widgets.IntSlider()\n",
    "b = widgets.IntSlider()\n",
    "c = widgets.IntSlider()\n",
    "ui = widgets.HBox([a, b, c])\n",
    "def f(a, b, c):\n",
    "    print((a, b, c))\n",
    "\n",
    "out = widgets.interactive_output(f, {'a': a, 'b': b, 'c': c})\n",
    "\n",
    "display(ui, out)"
   ]
  },
  {
   "cell_type": "code",
   "execution_count": 46,
   "metadata": {
    "ExecuteTime": {
     "end_time": "2019-03-15T15:55:44.024808Z",
     "start_time": "2019-03-15T15:55:43.994075Z"
    }
   },
   "outputs": [
    {
     "data": {
      "application/vnd.jupyter.widget-view+json": {
       "model_id": "42747862ff2d44fba23e2e72b1002c23",
       "version_major": 2,
       "version_minor": 0
      },
      "text/plain": [
       "interactive(children=(FloatSlider(value=0.0, description='x', max=10.0, step=0.05), FloatSlider(value=0.5, des…"
      ]
     },
     "metadata": {},
     "output_type": "display_data"
    }
   ],
   "source": [
    "x_widget = FloatSlider(min=0.0, max=10.0, step=0.05)\n",
    "y_widget = FloatSlider(min=0.5, max=10.0, step=0.05, value=0.5)\n",
    "\n",
    "def update_x_range(*args):\n",
    "    x_widget.max = y_widget.value / 2\n",
    "y_widget.observe(update_x_range, 'value')\n",
    "\n",
    "def printer(x, y):\n",
    "    print(x, y)\n",
    "interact(printer,x=x_widget, y=y_widget);"
   ]
  },
  {
   "cell_type": "markdown",
   "metadata": {},
   "source": [
    "# Modules"
   ]
  },
  {
   "cell_type": "code",
   "execution_count": 3,
   "metadata": {
    "ExecuteTime": {
     "end_time": "2019-04-30T13:31:36.759859Z",
     "start_time": "2019-04-30T13:31:36.755314Z"
    }
   },
   "outputs": [],
   "source": [
    "from params import sayHello"
   ]
  },
  {
   "cell_type": "code",
   "execution_count": 2,
   "metadata": {
    "ExecuteTime": {
     "end_time": "2019-04-30T13:31:05.249392Z",
     "start_time": "2019-04-30T13:31:05.244531Z"
    }
   },
   "outputs": [
    {
     "name": "stdout",
     "output_type": "stream",
     "text": [
      "['__builtins__', '__cached__', '__doc__', '__file__', '__loader__', '__name__', '__package__', '__spec__', 'dic', 'sayHello']\n",
      "Hello ben \n"
     ]
    }
   ],
   "source": [
    "import params\n",
    "print(dir(params))\n",
    "params.dic[\"model\"]\n",
    "params.sayHello(\"ben\")"
   ]
  },
  {
   "cell_type": "code",
   "execution_count": 15,
   "metadata": {
    "ExecuteTime": {
     "end_time": "2019-04-30T13:42:39.331962Z",
     "start_time": "2019-04-30T13:42:39.311371Z"
    }
   },
   "outputs": [
    {
     "name": "stdout",
     "output_type": "stream",
     "text": [
      "{\n",
      "    \"model\": \"Lr\",\n",
      "    \"name\": \"test\"\n",
      "}\n"
     ]
    }
   ],
   "source": [
    "import json\n",
    "\n",
    "x = json.dumps(params.dic, \n",
    "               indent=4,\n",
    "              sort_keys=True)\n",
    "print(x)"
   ]
  },
  {
   "cell_type": "code",
   "execution_count": 4,
   "metadata": {
    "ExecuteTime": {
     "end_time": "2019-05-17T14:17:54.595310Z",
     "start_time": "2019-05-17T14:17:54.591385Z"
    }
   },
   "outputs": [
    {
     "data": {
      "text/plain": [
       "'/home/id860112/packages/bibou'"
      ]
     },
     "execution_count": 4,
     "metadata": {},
     "output_type": "execute_result"
    }
   ],
   "source": [
    "import os \n",
    "import sys\n",
    "os.path.join(os.getenv(\"HOME\"),\"packages\",\"bibou\")\n",
    "\n"
   ]
  },
  {
   "cell_type": "code",
   "execution_count": 18,
   "metadata": {
    "ExecuteTime": {
     "end_time": "2019-05-17T14:21:12.933035Z",
     "start_time": "2019-05-17T14:21:12.926773Z"
    }
   },
   "outputs": [
    {
     "name": "stdout",
     "output_type": "stream",
     "text": [
      "/\n",
      ".\n",
      "bibi\n",
      "baba\n",
      "False\n",
      "True\n"
     ]
    }
   ],
   "source": [
    "print(os.sep)\n",
    "print(os.curdir)\n",
    "print(os.path.basename(\"baba/bibi\"))\n",
    "print(os.path.dirname(\"baba/bibi\"))\n",
    "print(os.path.exists(\"baba/bibi\"))\n",
    "print(os.path.isdir(os.getenv(\"HOME\")))"
   ]
  },
  {
   "cell_type": "code",
   "execution_count": 19,
   "metadata": {
    "ExecuteTime": {
     "end_time": "2019-05-17T14:22:29.629840Z",
     "start_time": "2019-05-17T14:22:29.625277Z"
    }
   },
   "outputs": [
    {
     "data": {
      "text/plain": [
       "['',\n",
       " '/work/jupyterhub/id860112/envs/My_Python_3.5/lib/python35.zip',\n",
       " '/work/jupyterhub/id860112/envs/My_Python_3.5/lib/python3.5',\n",
       " '/work/jupyterhub/id860112/envs/My_Python_3.5/lib/python3.5/plat-linux',\n",
       " '/work/jupyterhub/id860112/envs/My_Python_3.5/lib/python3.5/lib-dynload',\n",
       " '/work/jupyterhub/id860112/envs/My_Python_3.5/lib/python3.5/site-packages',\n",
       " '/work/jupyterhub/id860112/envs/My_Python_3.5/lib/python3.5/site-packages/bdpcommon-0.18.13-py3.5.egg',\n",
       " '/work/jupyterhub/id860112/envs/My_Python_3.5/lib/python3.5/site-packages/IPython/extensions',\n",
       " '/home/id860112/.ipython']"
      ]
     },
     "execution_count": 19,
     "metadata": {},
     "output_type": "execute_result"
    }
   ],
   "source": [
    "sys.path"
   ]
  },
  {
   "cell_type": "code",
   "execution_count": 21,
   "metadata": {
    "ExecuteTime": {
     "end_time": "2019-05-17T14:27:22.050623Z",
     "start_time": "2019-05-17T14:27:22.045005Z"
    }
   },
   "outputs": [
    {
     "data": {
      "text/plain": [
       "environ{'CLICOLOR': '1',\n",
       "        'CUDA_HOME': '/usr/local/cuda-9.2/',\n",
       "        'GIT_PAGER': 'cat',\n",
       "        'HOME': '/home/id860112',\n",
       "        'JAVA_HOME': '/etc/alternatives/java_sdk',\n",
       "        'JPY_API_TOKEN': '8be0214db3bf487a9b0c718506d0b6af',\n",
       "        'JPY_PARENT_PID': '8978',\n",
       "        'JUPYTERHUB_ADMIN_ACCESS': '1',\n",
       "        'JUPYTERHUB_API_TOKEN': '8be0214db3bf487a9b0c718506d0b6af',\n",
       "        'JUPYTERHUB_API_URL': 'http://127.0.0.1:8081/hub/api',\n",
       "        'JUPYTERHUB_BASE_URL': '/',\n",
       "        'JUPYTERHUB_CLIENT_ID': 'user-id860112',\n",
       "        'JUPYTERHUB_HOST': '',\n",
       "        'JUPYTERHUB_OAUTH_CALLBACK_URL': '/user/id860112/oauth_callback',\n",
       "        'JUPYTERHUB_SERVICE_PREFIX': '/user/id860112/',\n",
       "        'JUPYTERHUB_USER': 'id860112',\n",
       "        'KRB5_CONFIG': '/etc/krb5.conf',\n",
       "        'LANG': 'en_US.UTF-8',\n",
       "        'LD_LIBRARY_PATH': '/usr/local/cuda-9.2/lib64/',\n",
       "        'MPLBACKEND': 'module://ipykernel.pylab.backend_inline',\n",
       "        'ORACLE_HOME': '/opt/oracle/product/12.1.0.2/',\n",
       "        'PAGER': 'cat',\n",
       "        'PATH': '/opt/px/devs/miniconda/bin:/opt/px/devs/miniconda/envs/jhub/bin:/opt/teradata/client/16.20/bin:/usr/local/bin:/bin:/usr/bin:/usr/local/sbin:/usr/sbin:/opt/oracle/product/12.1.0.2:/home/id995002/.local/bin:/home/id995002/bin',\n",
       "        'PXTOOLKIT_CONFDIR': '/opt/pxmodules/etc',\n",
       "        'SHELL': '/bin/bash',\n",
       "        'TERM': 'xterm-color',\n",
       "        'USER': 'id860112'}"
      ]
     },
     "execution_count": 21,
     "metadata": {},
     "output_type": "execute_result"
    }
   ],
   "source": [
    "os.environ"
   ]
  },
  {
   "cell_type": "code",
   "execution_count": 23,
   "metadata": {
    "ExecuteTime": {
     "end_time": "2019-09-24T10:01:56.193584Z",
     "start_time": "2019-09-24T10:01:56.190325Z"
    }
   },
   "outputs": [
    {
     "name": "stdout",
     "output_type": "stream",
     "text": [
      "Hello Ben\n"
     ]
    }
   ],
   "source": [
    "from my_package import functions as f\n",
    "\n",
    "f.hello(\"Ben\")"
   ]
  },
  {
   "cell_type": "markdown",
   "metadata": {},
   "source": [
    "# Tests"
   ]
  },
  {
   "cell_type": "markdown",
   "metadata": {},
   "source": [
    "A well tested function is a function where we test for:\n",
    "* normal arguments\n",
    "* bad arguments (when function return ane exception)\n",
    "* special arguments (boundary values & values for which functions uses conditions)"
   ]
  },
  {
   "cell_type": "markdown",
   "metadata": {},
   "source": [
    "* Create a tests/ folder with the same structure as the src/ folder and create one test file for each module in src\n",
    "* Group all unit test related to the same function in a class starting with Test...\n",
    "\n",
    "to execute test, go to tests/ and run pytest -> this will execute all tests\n",
    "\n",
    "if you want to only run a particular class of test, do pytest path-to-test or pytest -k \"name of class\""
   ]
  },
  {
   "cell_type": "markdown",
   "metadata": {},
   "source": [
    "Tips to test more complex functions in data science: 3 steps: setup (create test df), assert, teardown (clean environment)\n",
    "\n",
    "* for preprocessing: create a dummy df and check every rows\n",
    "* for models: create an easy df and check output. Also perform sanity checks (like checking linreg coeff shoul be positive)\n",
    "* for plots: generate a plot image with some arguments, inspect manually by eye if ok, then store the image. Then in the test compare the 2 images"
   ]
  },
  {
   "cell_type": "markdown",
   "metadata": {},
   "source": [
    "## docstring tests"
   ]
  },
  {
   "cell_type": "code",
   "execution_count": 43,
   "metadata": {
    "ExecuteTime": {
     "end_time": "2020-02-20T13:25:01.858657Z",
     "start_time": "2020-02-20T13:25:01.856014Z"
    }
   },
   "outputs": [],
   "source": [
    "def add_numbers(x,y):\n",
    "    \"\"\"\n",
    "    >>> add_numbers(6,8)\n",
    "    14\n",
    "    \"\"\"\n",
    "    \n",
    "    return(x+y)"
   ]
  },
  {
   "cell_type": "code",
   "execution_count": 44,
   "metadata": {
    "ExecuteTime": {
     "end_time": "2020-02-20T13:25:02.491145Z",
     "start_time": "2020-02-20T13:25:02.488565Z"
    }
   },
   "outputs": [],
   "source": [
    "import doctest"
   ]
  },
  {
   "cell_type": "code",
   "execution_count": 45,
   "metadata": {
    "ExecuteTime": {
     "end_time": "2020-02-20T13:25:03.179273Z",
     "start_time": "2020-02-20T13:25:03.095343Z"
    }
   },
   "outputs": [
    {
     "data": {
      "text/plain": [
       "TestResults(failed=0, attempted=1)"
      ]
     },
     "execution_count": 45,
     "metadata": {},
     "output_type": "execute_result"
    }
   ],
   "source": [
    "doctest.testmod() # test only examples that are put in the docstring"
   ]
  },
  {
   "cell_type": "markdown",
   "metadata": {},
   "source": [
    "## Unit tests"
   ]
  },
  {
   "cell_type": "code",
   "execution_count": 17,
   "metadata": {
    "ExecuteTime": {
     "end_time": "2019-09-24T09:51:36.755750Z",
     "start_time": "2019-09-24T09:51:36.752103Z"
    }
   },
   "outputs": [],
   "source": [
    "import pytest\n",
    "\n",
    "# need to be executed on a shell\n",
    "# important that it starts with test_ \n",
    "def test_add_numbers():\n",
    "    assert add_numbers(1,2) == 3\n",
    "    \n",
    "@pytest.mark.parametrize('x', [2,8,7])\n",
    "def test_is_even(x):\n",
    "    assert x % 2 == 0\n",
    "    "
   ]
  },
  {
   "cell_type": "code",
   "execution_count": null,
   "metadata": {},
   "outputs": [],
   "source": []
  },
  {
   "cell_type": "markdown",
   "metadata": {},
   "source": [
    "# Live updating graphs"
   ]
  },
  {
   "cell_type": "code",
   "execution_count": null,
   "metadata": {},
   "outputs": [],
   "source": []
  },
  {
   "cell_type": "code",
   "execution_count": 169,
   "metadata": {
    "ExecuteTime": {
     "end_time": "2019-04-30T11:58:14.133113Z",
     "start_time": "2019-04-30T11:58:14.060593Z"
    }
   },
   "outputs": [
    {
     "data": {
      "application/javascript": [
       "/* Put everything inside the global mpl namespace */\n",
       "window.mpl = {};\n",
       "\n",
       "\n",
       "mpl.get_websocket_type = function() {\n",
       "    if (typeof(WebSocket) !== 'undefined') {\n",
       "        return WebSocket;\n",
       "    } else if (typeof(MozWebSocket) !== 'undefined') {\n",
       "        return MozWebSocket;\n",
       "    } else {\n",
       "        alert('Your browser does not have WebSocket support.' +\n",
       "              'Please try Chrome, Safari or Firefox ≥ 6. ' +\n",
       "              'Firefox 4 and 5 are also supported but you ' +\n",
       "              'have to enable WebSockets in about:config.');\n",
       "    };\n",
       "}\n",
       "\n",
       "mpl.figure = function(figure_id, websocket, ondownload, parent_element) {\n",
       "    this.id = figure_id;\n",
       "\n",
       "    this.ws = websocket;\n",
       "\n",
       "    this.supports_binary = (this.ws.binaryType != undefined);\n",
       "\n",
       "    if (!this.supports_binary) {\n",
       "        var warnings = document.getElementById(\"mpl-warnings\");\n",
       "        if (warnings) {\n",
       "            warnings.style.display = 'block';\n",
       "            warnings.textContent = (\n",
       "                \"This browser does not support binary websocket messages. \" +\n",
       "                    \"Performance may be slow.\");\n",
       "        }\n",
       "    }\n",
       "\n",
       "    this.imageObj = new Image();\n",
       "\n",
       "    this.context = undefined;\n",
       "    this.message = undefined;\n",
       "    this.canvas = undefined;\n",
       "    this.rubberband_canvas = undefined;\n",
       "    this.rubberband_context = undefined;\n",
       "    this.format_dropdown = undefined;\n",
       "\n",
       "    this.image_mode = 'full';\n",
       "\n",
       "    this.root = $('<div/>');\n",
       "    this._root_extra_style(this.root)\n",
       "    this.root.attr('style', 'display: inline-block');\n",
       "\n",
       "    $(parent_element).append(this.root);\n",
       "\n",
       "    this._init_header(this);\n",
       "    this._init_canvas(this);\n",
       "    this._init_toolbar(this);\n",
       "\n",
       "    var fig = this;\n",
       "\n",
       "    this.waiting = false;\n",
       "\n",
       "    this.ws.onopen =  function () {\n",
       "            fig.send_message(\"supports_binary\", {value: fig.supports_binary});\n",
       "            fig.send_message(\"send_image_mode\", {});\n",
       "            if (mpl.ratio != 1) {\n",
       "                fig.send_message(\"set_dpi_ratio\", {'dpi_ratio': mpl.ratio});\n",
       "            }\n",
       "            fig.send_message(\"refresh\", {});\n",
       "        }\n",
       "\n",
       "    this.imageObj.onload = function() {\n",
       "            if (fig.image_mode == 'full') {\n",
       "                // Full images could contain transparency (where diff images\n",
       "                // almost always do), so we need to clear the canvas so that\n",
       "                // there is no ghosting.\n",
       "                fig.context.clearRect(0, 0, fig.canvas.width, fig.canvas.height);\n",
       "            }\n",
       "            fig.context.drawImage(fig.imageObj, 0, 0);\n",
       "        };\n",
       "\n",
       "    this.imageObj.onunload = function() {\n",
       "        fig.ws.close();\n",
       "    }\n",
       "\n",
       "    this.ws.onmessage = this._make_on_message_function(this);\n",
       "\n",
       "    this.ondownload = ondownload;\n",
       "}\n",
       "\n",
       "mpl.figure.prototype._init_header = function() {\n",
       "    var titlebar = $(\n",
       "        '<div class=\"ui-dialog-titlebar ui-widget-header ui-corner-all ' +\n",
       "        'ui-helper-clearfix\"/>');\n",
       "    var titletext = $(\n",
       "        '<div class=\"ui-dialog-title\" style=\"width: 100%; ' +\n",
       "        'text-align: center; padding: 3px;\"/>');\n",
       "    titlebar.append(titletext)\n",
       "    this.root.append(titlebar);\n",
       "    this.header = titletext[0];\n",
       "}\n",
       "\n",
       "\n",
       "\n",
       "mpl.figure.prototype._canvas_extra_style = function(canvas_div) {\n",
       "\n",
       "}\n",
       "\n",
       "\n",
       "mpl.figure.prototype._root_extra_style = function(canvas_div) {\n",
       "\n",
       "}\n",
       "\n",
       "mpl.figure.prototype._init_canvas = function() {\n",
       "    var fig = this;\n",
       "\n",
       "    var canvas_div = $('<div/>');\n",
       "\n",
       "    canvas_div.attr('style', 'position: relative; clear: both; outline: 0');\n",
       "\n",
       "    function canvas_keyboard_event(event) {\n",
       "        return fig.key_event(event, event['data']);\n",
       "    }\n",
       "\n",
       "    canvas_div.keydown('key_press', canvas_keyboard_event);\n",
       "    canvas_div.keyup('key_release', canvas_keyboard_event);\n",
       "    this.canvas_div = canvas_div\n",
       "    this._canvas_extra_style(canvas_div)\n",
       "    this.root.append(canvas_div);\n",
       "\n",
       "    var canvas = $('<canvas/>');\n",
       "    canvas.addClass('mpl-canvas');\n",
       "    canvas.attr('style', \"left: 0; top: 0; z-index: 0; outline: 0\")\n",
       "\n",
       "    this.canvas = canvas[0];\n",
       "    this.context = canvas[0].getContext(\"2d\");\n",
       "\n",
       "    var backingStore = this.context.backingStorePixelRatio ||\n",
       "\tthis.context.webkitBackingStorePixelRatio ||\n",
       "\tthis.context.mozBackingStorePixelRatio ||\n",
       "\tthis.context.msBackingStorePixelRatio ||\n",
       "\tthis.context.oBackingStorePixelRatio ||\n",
       "\tthis.context.backingStorePixelRatio || 1;\n",
       "\n",
       "    mpl.ratio = (window.devicePixelRatio || 1) / backingStore;\n",
       "\n",
       "    var rubberband = $('<canvas/>');\n",
       "    rubberband.attr('style', \"position: absolute; left: 0; top: 0; z-index: 1;\")\n",
       "\n",
       "    var pass_mouse_events = true;\n",
       "\n",
       "    canvas_div.resizable({\n",
       "        start: function(event, ui) {\n",
       "            pass_mouse_events = false;\n",
       "        },\n",
       "        resize: function(event, ui) {\n",
       "            fig.request_resize(ui.size.width, ui.size.height);\n",
       "        },\n",
       "        stop: function(event, ui) {\n",
       "            pass_mouse_events = true;\n",
       "            fig.request_resize(ui.size.width, ui.size.height);\n",
       "        },\n",
       "    });\n",
       "\n",
       "    function mouse_event_fn(event) {\n",
       "        if (pass_mouse_events)\n",
       "            return fig.mouse_event(event, event['data']);\n",
       "    }\n",
       "\n",
       "    rubberband.mousedown('button_press', mouse_event_fn);\n",
       "    rubberband.mouseup('button_release', mouse_event_fn);\n",
       "    // Throttle sequential mouse events to 1 every 20ms.\n",
       "    rubberband.mousemove('motion_notify', mouse_event_fn);\n",
       "\n",
       "    rubberband.mouseenter('figure_enter', mouse_event_fn);\n",
       "    rubberband.mouseleave('figure_leave', mouse_event_fn);\n",
       "\n",
       "    canvas_div.on(\"wheel\", function (event) {\n",
       "        event = event.originalEvent;\n",
       "        event['data'] = 'scroll'\n",
       "        if (event.deltaY < 0) {\n",
       "            event.step = 1;\n",
       "        } else {\n",
       "            event.step = -1;\n",
       "        }\n",
       "        mouse_event_fn(event);\n",
       "    });\n",
       "\n",
       "    canvas_div.append(canvas);\n",
       "    canvas_div.append(rubberband);\n",
       "\n",
       "    this.rubberband = rubberband;\n",
       "    this.rubberband_canvas = rubberband[0];\n",
       "    this.rubberband_context = rubberband[0].getContext(\"2d\");\n",
       "    this.rubberband_context.strokeStyle = \"#000000\";\n",
       "\n",
       "    this._resize_canvas = function(width, height) {\n",
       "        // Keep the size of the canvas, canvas container, and rubber band\n",
       "        // canvas in synch.\n",
       "        canvas_div.css('width', width)\n",
       "        canvas_div.css('height', height)\n",
       "\n",
       "        canvas.attr('width', width * mpl.ratio);\n",
       "        canvas.attr('height', height * mpl.ratio);\n",
       "        canvas.attr('style', 'width: ' + width + 'px; height: ' + height + 'px;');\n",
       "\n",
       "        rubberband.attr('width', width);\n",
       "        rubberband.attr('height', height);\n",
       "    }\n",
       "\n",
       "    // Set the figure to an initial 600x600px, this will subsequently be updated\n",
       "    // upon first draw.\n",
       "    this._resize_canvas(600, 600);\n",
       "\n",
       "    // Disable right mouse context menu.\n",
       "    $(this.rubberband_canvas).bind(\"contextmenu\",function(e){\n",
       "        return false;\n",
       "    });\n",
       "\n",
       "    function set_focus () {\n",
       "        canvas.focus();\n",
       "        canvas_div.focus();\n",
       "    }\n",
       "\n",
       "    window.setTimeout(set_focus, 100);\n",
       "}\n",
       "\n",
       "mpl.figure.prototype._init_toolbar = function() {\n",
       "    var fig = this;\n",
       "\n",
       "    var nav_element = $('<div/>')\n",
       "    nav_element.attr('style', 'width: 100%');\n",
       "    this.root.append(nav_element);\n",
       "\n",
       "    // Define a callback function for later on.\n",
       "    function toolbar_event(event) {\n",
       "        return fig.toolbar_button_onclick(event['data']);\n",
       "    }\n",
       "    function toolbar_mouse_event(event) {\n",
       "        return fig.toolbar_button_onmouseover(event['data']);\n",
       "    }\n",
       "\n",
       "    for(var toolbar_ind in mpl.toolbar_items) {\n",
       "        var name = mpl.toolbar_items[toolbar_ind][0];\n",
       "        var tooltip = mpl.toolbar_items[toolbar_ind][1];\n",
       "        var image = mpl.toolbar_items[toolbar_ind][2];\n",
       "        var method_name = mpl.toolbar_items[toolbar_ind][3];\n",
       "\n",
       "        if (!name) {\n",
       "            // put a spacer in here.\n",
       "            continue;\n",
       "        }\n",
       "        var button = $('<button/>');\n",
       "        button.addClass('ui-button ui-widget ui-state-default ui-corner-all ' +\n",
       "                        'ui-button-icon-only');\n",
       "        button.attr('role', 'button');\n",
       "        button.attr('aria-disabled', 'false');\n",
       "        button.click(method_name, toolbar_event);\n",
       "        button.mouseover(tooltip, toolbar_mouse_event);\n",
       "\n",
       "        var icon_img = $('<span/>');\n",
       "        icon_img.addClass('ui-button-icon-primary ui-icon');\n",
       "        icon_img.addClass(image);\n",
       "        icon_img.addClass('ui-corner-all');\n",
       "\n",
       "        var tooltip_span = $('<span/>');\n",
       "        tooltip_span.addClass('ui-button-text');\n",
       "        tooltip_span.html(tooltip);\n",
       "\n",
       "        button.append(icon_img);\n",
       "        button.append(tooltip_span);\n",
       "\n",
       "        nav_element.append(button);\n",
       "    }\n",
       "\n",
       "    var fmt_picker_span = $('<span/>');\n",
       "\n",
       "    var fmt_picker = $('<select/>');\n",
       "    fmt_picker.addClass('mpl-toolbar-option ui-widget ui-widget-content');\n",
       "    fmt_picker_span.append(fmt_picker);\n",
       "    nav_element.append(fmt_picker_span);\n",
       "    this.format_dropdown = fmt_picker[0];\n",
       "\n",
       "    for (var ind in mpl.extensions) {\n",
       "        var fmt = mpl.extensions[ind];\n",
       "        var option = $(\n",
       "            '<option/>', {selected: fmt === mpl.default_extension}).html(fmt);\n",
       "        fmt_picker.append(option)\n",
       "    }\n",
       "\n",
       "    // Add hover states to the ui-buttons\n",
       "    $( \".ui-button\" ).hover(\n",
       "        function() { $(this).addClass(\"ui-state-hover\");},\n",
       "        function() { $(this).removeClass(\"ui-state-hover\");}\n",
       "    );\n",
       "\n",
       "    var status_bar = $('<span class=\"mpl-message\"/>');\n",
       "    nav_element.append(status_bar);\n",
       "    this.message = status_bar[0];\n",
       "}\n",
       "\n",
       "mpl.figure.prototype.request_resize = function(x_pixels, y_pixels) {\n",
       "    // Request matplotlib to resize the figure. Matplotlib will then trigger a resize in the client,\n",
       "    // which will in turn request a refresh of the image.\n",
       "    this.send_message('resize', {'width': x_pixels, 'height': y_pixels});\n",
       "}\n",
       "\n",
       "mpl.figure.prototype.send_message = function(type, properties) {\n",
       "    properties['type'] = type;\n",
       "    properties['figure_id'] = this.id;\n",
       "    this.ws.send(JSON.stringify(properties));\n",
       "}\n",
       "\n",
       "mpl.figure.prototype.send_draw_message = function() {\n",
       "    if (!this.waiting) {\n",
       "        this.waiting = true;\n",
       "        this.ws.send(JSON.stringify({type: \"draw\", figure_id: this.id}));\n",
       "    }\n",
       "}\n",
       "\n",
       "\n",
       "mpl.figure.prototype.handle_save = function(fig, msg) {\n",
       "    var format_dropdown = fig.format_dropdown;\n",
       "    var format = format_dropdown.options[format_dropdown.selectedIndex].value;\n",
       "    fig.ondownload(fig, format);\n",
       "}\n",
       "\n",
       "\n",
       "mpl.figure.prototype.handle_resize = function(fig, msg) {\n",
       "    var size = msg['size'];\n",
       "    if (size[0] != fig.canvas.width || size[1] != fig.canvas.height) {\n",
       "        fig._resize_canvas(size[0], size[1]);\n",
       "        fig.send_message(\"refresh\", {});\n",
       "    };\n",
       "}\n",
       "\n",
       "mpl.figure.prototype.handle_rubberband = function(fig, msg) {\n",
       "    var x0 = msg['x0'] / mpl.ratio;\n",
       "    var y0 = (fig.canvas.height - msg['y0']) / mpl.ratio;\n",
       "    var x1 = msg['x1'] / mpl.ratio;\n",
       "    var y1 = (fig.canvas.height - msg['y1']) / mpl.ratio;\n",
       "    x0 = Math.floor(x0) + 0.5;\n",
       "    y0 = Math.floor(y0) + 0.5;\n",
       "    x1 = Math.floor(x1) + 0.5;\n",
       "    y1 = Math.floor(y1) + 0.5;\n",
       "    var min_x = Math.min(x0, x1);\n",
       "    var min_y = Math.min(y0, y1);\n",
       "    var width = Math.abs(x1 - x0);\n",
       "    var height = Math.abs(y1 - y0);\n",
       "\n",
       "    fig.rubberband_context.clearRect(\n",
       "        0, 0, fig.canvas.width, fig.canvas.height);\n",
       "\n",
       "    fig.rubberband_context.strokeRect(min_x, min_y, width, height);\n",
       "}\n",
       "\n",
       "mpl.figure.prototype.handle_figure_label = function(fig, msg) {\n",
       "    // Updates the figure title.\n",
       "    fig.header.textContent = msg['label'];\n",
       "}\n",
       "\n",
       "mpl.figure.prototype.handle_cursor = function(fig, msg) {\n",
       "    var cursor = msg['cursor'];\n",
       "    switch(cursor)\n",
       "    {\n",
       "    case 0:\n",
       "        cursor = 'pointer';\n",
       "        break;\n",
       "    case 1:\n",
       "        cursor = 'default';\n",
       "        break;\n",
       "    case 2:\n",
       "        cursor = 'crosshair';\n",
       "        break;\n",
       "    case 3:\n",
       "        cursor = 'move';\n",
       "        break;\n",
       "    }\n",
       "    fig.rubberband_canvas.style.cursor = cursor;\n",
       "}\n",
       "\n",
       "mpl.figure.prototype.handle_message = function(fig, msg) {\n",
       "    fig.message.textContent = msg['message'];\n",
       "}\n",
       "\n",
       "mpl.figure.prototype.handle_draw = function(fig, msg) {\n",
       "    // Request the server to send over a new figure.\n",
       "    fig.send_draw_message();\n",
       "}\n",
       "\n",
       "mpl.figure.prototype.handle_image_mode = function(fig, msg) {\n",
       "    fig.image_mode = msg['mode'];\n",
       "}\n",
       "\n",
       "mpl.figure.prototype.updated_canvas_event = function() {\n",
       "    // Called whenever the canvas gets updated.\n",
       "    this.send_message(\"ack\", {});\n",
       "}\n",
       "\n",
       "// A function to construct a web socket function for onmessage handling.\n",
       "// Called in the figure constructor.\n",
       "mpl.figure.prototype._make_on_message_function = function(fig) {\n",
       "    return function socket_on_message(evt) {\n",
       "        if (evt.data instanceof Blob) {\n",
       "            /* FIXME: We get \"Resource interpreted as Image but\n",
       "             * transferred with MIME type text/plain:\" errors on\n",
       "             * Chrome.  But how to set the MIME type?  It doesn't seem\n",
       "             * to be part of the websocket stream */\n",
       "            evt.data.type = \"image/png\";\n",
       "\n",
       "            /* Free the memory for the previous frames */\n",
       "            if (fig.imageObj.src) {\n",
       "                (window.URL || window.webkitURL).revokeObjectURL(\n",
       "                    fig.imageObj.src);\n",
       "            }\n",
       "\n",
       "            fig.imageObj.src = (window.URL || window.webkitURL).createObjectURL(\n",
       "                evt.data);\n",
       "            fig.updated_canvas_event();\n",
       "            fig.waiting = false;\n",
       "            return;\n",
       "        }\n",
       "        else if (typeof evt.data === 'string' && evt.data.slice(0, 21) == \"data:image/png;base64\") {\n",
       "            fig.imageObj.src = evt.data;\n",
       "            fig.updated_canvas_event();\n",
       "            fig.waiting = false;\n",
       "            return;\n",
       "        }\n",
       "\n",
       "        var msg = JSON.parse(evt.data);\n",
       "        var msg_type = msg['type'];\n",
       "\n",
       "        // Call the  \"handle_{type}\" callback, which takes\n",
       "        // the figure and JSON message as its only arguments.\n",
       "        try {\n",
       "            var callback = fig[\"handle_\" + msg_type];\n",
       "        } catch (e) {\n",
       "            console.log(\"No handler for the '\" + msg_type + \"' message type: \", msg);\n",
       "            return;\n",
       "        }\n",
       "\n",
       "        if (callback) {\n",
       "            try {\n",
       "                // console.log(\"Handling '\" + msg_type + \"' message: \", msg);\n",
       "                callback(fig, msg);\n",
       "            } catch (e) {\n",
       "                console.log(\"Exception inside the 'handler_\" + msg_type + \"' callback:\", e, e.stack, msg);\n",
       "            }\n",
       "        }\n",
       "    };\n",
       "}\n",
       "\n",
       "// from http://stackoverflow.com/questions/1114465/getting-mouse-location-in-canvas\n",
       "mpl.findpos = function(e) {\n",
       "    //this section is from http://www.quirksmode.org/js/events_properties.html\n",
       "    var targ;\n",
       "    if (!e)\n",
       "        e = window.event;\n",
       "    if (e.target)\n",
       "        targ = e.target;\n",
       "    else if (e.srcElement)\n",
       "        targ = e.srcElement;\n",
       "    if (targ.nodeType == 3) // defeat Safari bug\n",
       "        targ = targ.parentNode;\n",
       "\n",
       "    // jQuery normalizes the pageX and pageY\n",
       "    // pageX,Y are the mouse positions relative to the document\n",
       "    // offset() returns the position of the element relative to the document\n",
       "    var x = e.pageX - $(targ).offset().left;\n",
       "    var y = e.pageY - $(targ).offset().top;\n",
       "\n",
       "    return {\"x\": x, \"y\": y};\n",
       "};\n",
       "\n",
       "/*\n",
       " * return a copy of an object with only non-object keys\n",
       " * we need this to avoid circular references\n",
       " * http://stackoverflow.com/a/24161582/3208463\n",
       " */\n",
       "function simpleKeys (original) {\n",
       "  return Object.keys(original).reduce(function (obj, key) {\n",
       "    if (typeof original[key] !== 'object')\n",
       "        obj[key] = original[key]\n",
       "    return obj;\n",
       "  }, {});\n",
       "}\n",
       "\n",
       "mpl.figure.prototype.mouse_event = function(event, name) {\n",
       "    var canvas_pos = mpl.findpos(event)\n",
       "\n",
       "    if (name === 'button_press')\n",
       "    {\n",
       "        this.canvas.focus();\n",
       "        this.canvas_div.focus();\n",
       "    }\n",
       "\n",
       "    var x = canvas_pos.x * mpl.ratio;\n",
       "    var y = canvas_pos.y * mpl.ratio;\n",
       "\n",
       "    this.send_message(name, {x: x, y: y, button: event.button,\n",
       "                             step: event.step,\n",
       "                             guiEvent: simpleKeys(event)});\n",
       "\n",
       "    /* This prevents the web browser from automatically changing to\n",
       "     * the text insertion cursor when the button is pressed.  We want\n",
       "     * to control all of the cursor setting manually through the\n",
       "     * 'cursor' event from matplotlib */\n",
       "    event.preventDefault();\n",
       "    return false;\n",
       "}\n",
       "\n",
       "mpl.figure.prototype._key_event_extra = function(event, name) {\n",
       "    // Handle any extra behaviour associated with a key event\n",
       "}\n",
       "\n",
       "mpl.figure.prototype.key_event = function(event, name) {\n",
       "\n",
       "    // Prevent repeat events\n",
       "    if (name == 'key_press')\n",
       "    {\n",
       "        if (event.which === this._key)\n",
       "            return;\n",
       "        else\n",
       "            this._key = event.which;\n",
       "    }\n",
       "    if (name == 'key_release')\n",
       "        this._key = null;\n",
       "\n",
       "    var value = '';\n",
       "    if (event.ctrlKey && event.which != 17)\n",
       "        value += \"ctrl+\";\n",
       "    if (event.altKey && event.which != 18)\n",
       "        value += \"alt+\";\n",
       "    if (event.shiftKey && event.which != 16)\n",
       "        value += \"shift+\";\n",
       "\n",
       "    value += 'k';\n",
       "    value += event.which.toString();\n",
       "\n",
       "    this._key_event_extra(event, name);\n",
       "\n",
       "    this.send_message(name, {key: value,\n",
       "                             guiEvent: simpleKeys(event)});\n",
       "    return false;\n",
       "}\n",
       "\n",
       "mpl.figure.prototype.toolbar_button_onclick = function(name) {\n",
       "    if (name == 'download') {\n",
       "        this.handle_save(this, null);\n",
       "    } else {\n",
       "        this.send_message(\"toolbar_button\", {name: name});\n",
       "    }\n",
       "};\n",
       "\n",
       "mpl.figure.prototype.toolbar_button_onmouseover = function(tooltip) {\n",
       "    this.message.textContent = tooltip;\n",
       "};\n",
       "mpl.toolbar_items = [[\"Home\", \"Reset original view\", \"fa fa-home icon-home\", \"home\"], [\"Back\", \"Back to  previous view\", \"fa fa-arrow-left icon-arrow-left\", \"back\"], [\"Forward\", \"Forward to next view\", \"fa fa-arrow-right icon-arrow-right\", \"forward\"], [\"\", \"\", \"\", \"\"], [\"Pan\", \"Pan axes with left mouse, zoom with right\", \"fa fa-arrows icon-move\", \"pan\"], [\"Zoom\", \"Zoom to rectangle\", \"fa fa-square-o icon-check-empty\", \"zoom\"], [\"\", \"\", \"\", \"\"], [\"Download\", \"Download plot\", \"fa fa-floppy-o icon-save\", \"download\"]];\n",
       "\n",
       "mpl.extensions = [\"eps\", \"jpeg\", \"pdf\", \"png\", \"ps\", \"raw\", \"svg\", \"tif\"];\n",
       "\n",
       "mpl.default_extension = \"png\";var comm_websocket_adapter = function(comm) {\n",
       "    // Create a \"websocket\"-like object which calls the given IPython comm\n",
       "    // object with the appropriate methods. Currently this is a non binary\n",
       "    // socket, so there is still some room for performance tuning.\n",
       "    var ws = {};\n",
       "\n",
       "    ws.close = function() {\n",
       "        comm.close()\n",
       "    };\n",
       "    ws.send = function(m) {\n",
       "        //console.log('sending', m);\n",
       "        comm.send(m);\n",
       "    };\n",
       "    // Register the callback with on_msg.\n",
       "    comm.on_msg(function(msg) {\n",
       "        //console.log('receiving', msg['content']['data'], msg);\n",
       "        // Pass the mpl event to the overridden (by mpl) onmessage function.\n",
       "        ws.onmessage(msg['content']['data'])\n",
       "    });\n",
       "    return ws;\n",
       "}\n",
       "\n",
       "mpl.mpl_figure_comm = function(comm, msg) {\n",
       "    // This is the function which gets called when the mpl process\n",
       "    // starts-up an IPython Comm through the \"matplotlib\" channel.\n",
       "\n",
       "    var id = msg.content.data.id;\n",
       "    // Get hold of the div created by the display call when the Comm\n",
       "    // socket was opened in Python.\n",
       "    var element = $(\"#\" + id);\n",
       "    var ws_proxy = comm_websocket_adapter(comm)\n",
       "\n",
       "    function ondownload(figure, format) {\n",
       "        window.open(figure.imageObj.src);\n",
       "    }\n",
       "\n",
       "    var fig = new mpl.figure(id, ws_proxy,\n",
       "                           ondownload,\n",
       "                           element.get(0));\n",
       "\n",
       "    // Call onopen now - mpl needs it, as it is assuming we've passed it a real\n",
       "    // web socket which is closed, not our websocket->open comm proxy.\n",
       "    ws_proxy.onopen();\n",
       "\n",
       "    fig.parent_element = element.get(0);\n",
       "    fig.cell_info = mpl.find_output_cell(\"<div id='\" + id + \"'></div>\");\n",
       "    if (!fig.cell_info) {\n",
       "        console.error(\"Failed to find cell for figure\", id, fig);\n",
       "        return;\n",
       "    }\n",
       "\n",
       "    var output_index = fig.cell_info[2]\n",
       "    var cell = fig.cell_info[0];\n",
       "\n",
       "};\n",
       "\n",
       "mpl.figure.prototype.handle_close = function(fig, msg) {\n",
       "    var width = fig.canvas.width/mpl.ratio\n",
       "    fig.root.unbind('remove')\n",
       "\n",
       "    // Update the output cell to use the data from the current canvas.\n",
       "    fig.push_to_output();\n",
       "    var dataURL = fig.canvas.toDataURL();\n",
       "    // Re-enable the keyboard manager in IPython - without this line, in FF,\n",
       "    // the notebook keyboard shortcuts fail.\n",
       "    IPython.keyboard_manager.enable()\n",
       "    $(fig.parent_element).html('<img src=\"' + dataURL + '\" width=\"' + width + '\">');\n",
       "    fig.close_ws(fig, msg);\n",
       "}\n",
       "\n",
       "mpl.figure.prototype.close_ws = function(fig, msg){\n",
       "    fig.send_message('closing', msg);\n",
       "    // fig.ws.close()\n",
       "}\n",
       "\n",
       "mpl.figure.prototype.push_to_output = function(remove_interactive) {\n",
       "    // Turn the data on the canvas into data in the output cell.\n",
       "    var width = this.canvas.width/mpl.ratio\n",
       "    var dataURL = this.canvas.toDataURL();\n",
       "    this.cell_info[1]['text/html'] = '<img src=\"' + dataURL + '\" width=\"' + width + '\">';\n",
       "}\n",
       "\n",
       "mpl.figure.prototype.updated_canvas_event = function() {\n",
       "    // Tell IPython that the notebook contents must change.\n",
       "    IPython.notebook.set_dirty(true);\n",
       "    this.send_message(\"ack\", {});\n",
       "    var fig = this;\n",
       "    // Wait a second, then push the new image to the DOM so\n",
       "    // that it is saved nicely (might be nice to debounce this).\n",
       "    setTimeout(function () { fig.push_to_output() }, 1000);\n",
       "}\n",
       "\n",
       "mpl.figure.prototype._init_toolbar = function() {\n",
       "    var fig = this;\n",
       "\n",
       "    var nav_element = $('<div/>')\n",
       "    nav_element.attr('style', 'width: 100%');\n",
       "    this.root.append(nav_element);\n",
       "\n",
       "    // Define a callback function for later on.\n",
       "    function toolbar_event(event) {\n",
       "        return fig.toolbar_button_onclick(event['data']);\n",
       "    }\n",
       "    function toolbar_mouse_event(event) {\n",
       "        return fig.toolbar_button_onmouseover(event['data']);\n",
       "    }\n",
       "\n",
       "    for(var toolbar_ind in mpl.toolbar_items){\n",
       "        var name = mpl.toolbar_items[toolbar_ind][0];\n",
       "        var tooltip = mpl.toolbar_items[toolbar_ind][1];\n",
       "        var image = mpl.toolbar_items[toolbar_ind][2];\n",
       "        var method_name = mpl.toolbar_items[toolbar_ind][3];\n",
       "\n",
       "        if (!name) { continue; };\n",
       "\n",
       "        var button = $('<button class=\"btn btn-default\" href=\"#\" title=\"' + name + '\"><i class=\"fa ' + image + ' fa-lg\"></i></button>');\n",
       "        button.click(method_name, toolbar_event);\n",
       "        button.mouseover(tooltip, toolbar_mouse_event);\n",
       "        nav_element.append(button);\n",
       "    }\n",
       "\n",
       "    // Add the status bar.\n",
       "    var status_bar = $('<span class=\"mpl-message\" style=\"text-align:right; float: right;\"/>');\n",
       "    nav_element.append(status_bar);\n",
       "    this.message = status_bar[0];\n",
       "\n",
       "    // Add the close button to the window.\n",
       "    var buttongrp = $('<div class=\"btn-group inline pull-right\"></div>');\n",
       "    var button = $('<button class=\"btn btn-mini btn-primary\" href=\"#\" title=\"Stop Interaction\"><i class=\"fa fa-power-off icon-remove icon-large\"></i></button>');\n",
       "    button.click(function (evt) { fig.handle_close(fig, {}); } );\n",
       "    button.mouseover('Stop Interaction', toolbar_mouse_event);\n",
       "    buttongrp.append(button);\n",
       "    var titlebar = this.root.find($('.ui-dialog-titlebar'));\n",
       "    titlebar.prepend(buttongrp);\n",
       "}\n",
       "\n",
       "mpl.figure.prototype._root_extra_style = function(el){\n",
       "    var fig = this\n",
       "    el.on(\"remove\", function(){\n",
       "\tfig.close_ws(fig, {});\n",
       "    });\n",
       "}\n",
       "\n",
       "mpl.figure.prototype._canvas_extra_style = function(el){\n",
       "    // this is important to make the div 'focusable\n",
       "    el.attr('tabindex', 0)\n",
       "    // reach out to IPython and tell the keyboard manager to turn it's self\n",
       "    // off when our div gets focus\n",
       "\n",
       "    // location in version 3\n",
       "    if (IPython.notebook.keyboard_manager) {\n",
       "        IPython.notebook.keyboard_manager.register_events(el);\n",
       "    }\n",
       "    else {\n",
       "        // location in version 2\n",
       "        IPython.keyboard_manager.register_events(el);\n",
       "    }\n",
       "\n",
       "}\n",
       "\n",
       "mpl.figure.prototype._key_event_extra = function(event, name) {\n",
       "    var manager = IPython.notebook.keyboard_manager;\n",
       "    if (!manager)\n",
       "        manager = IPython.keyboard_manager;\n",
       "\n",
       "    // Check for shift+enter\n",
       "    if (event.shiftKey && event.which == 13) {\n",
       "        this.canvas_div.blur();\n",
       "        event.shiftKey = false;\n",
       "        // Send a \"J\" for go to next cell\n",
       "        event.which = 74;\n",
       "        event.keyCode = 74;\n",
       "        manager.command_mode();\n",
       "        manager.handle_keydown(event);\n",
       "    }\n",
       "}\n",
       "\n",
       "mpl.figure.prototype.handle_save = function(fig, msg) {\n",
       "    fig.ondownload(fig, null);\n",
       "}\n",
       "\n",
       "\n",
       "mpl.find_output_cell = function(html_output) {\n",
       "    // Return the cell and output element which can be found *uniquely* in the notebook.\n",
       "    // Note - this is a bit hacky, but it is done because the \"notebook_saving.Notebook\"\n",
       "    // IPython event is triggered only after the cells have been serialised, which for\n",
       "    // our purposes (turning an active figure into a static one), is too late.\n",
       "    var cells = IPython.notebook.get_cells();\n",
       "    var ncells = cells.length;\n",
       "    for (var i=0; i<ncells; i++) {\n",
       "        var cell = cells[i];\n",
       "        if (cell.cell_type === 'code'){\n",
       "            for (var j=0; j<cell.output_area.outputs.length; j++) {\n",
       "                var data = cell.output_area.outputs[j];\n",
       "                if (data.data) {\n",
       "                    // IPython >= 3 moved mimebundle to data attribute of output\n",
       "                    data = data.data;\n",
       "                }\n",
       "                if (data['text/html'] == html_output) {\n",
       "                    return [cell, data, j];\n",
       "                }\n",
       "            }\n",
       "        }\n",
       "    }\n",
       "}\n",
       "\n",
       "// Register the function which deals with the matplotlib target/channel.\n",
       "// The kernel may be null if the page has been refreshed.\n",
       "if (IPython.notebook.kernel != null) {\n",
       "    IPython.notebook.kernel.comm_manager.register_target('matplotlib', mpl.mpl_figure_comm);\n",
       "}\n"
      ],
      "text/plain": [
       "<IPython.core.display.Javascript object>"
      ]
     },
     "metadata": {},
     "output_type": "display_data"
    },
    {
     "data": {
      "text/html": [
       "<img src=\"data:image/png;base64,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\" width=\"432\">"
      ],
      "text/plain": [
       "<IPython.core.display.HTML object>"
      ]
     },
     "metadata": {},
     "output_type": "display_data"
    }
   ],
   "source": [
    "import datetime as dt\n",
    "import matplotlib.pyplot as plt\n",
    "import matplotlib.animation as animation\n",
    "%matplotlib notebook\n",
    "\n",
    "# Create figure for plotting\n",
    "fig = plt.figure()\n",
    "ax = fig.add_subplot(1, 1, 1)\n",
    "xs = []\n",
    "ys = []\n",
    "\n",
    "\n",
    "# This function is called periodically from FuncAnimation\n",
    "def animate(i, xs, ys):\n",
    "\n",
    "    # Read temperature (Celsius) from TMP102\n",
    "    temp_c = np.random.normal(30,10)\n",
    "\n",
    "    # Add x and y to lists\n",
    "    xs.append(dt.datetime.now().strftime('%H:%M:%S.%f'))\n",
    "    ys.append(temp_c)\n",
    "\n",
    "    # Limit x and y lists to 20 items\n",
    "    xs = xs[-20:]\n",
    "    ys = ys[-20:]\n",
    "\n",
    "    # Draw x and y lists\n",
    "    ax.clear()\n",
    "    ax.plot(xs, ys)\n",
    "\n",
    "    # Format plot\n",
    "    plt.xticks(rotation=45, ha='right')\n",
    "    plt.subplots_adjust(bottom=0.30)\n",
    "    plt.title('TMP102 Temperature over Time')\n",
    "    plt.ylabel('Temperature (deg C)')\n",
    "\n",
    "# Set up plot to call animate() function periodically\n",
    "ani = animation.FuncAnimation(fig, animate, fargs=(xs, ys), interval=100)\n",
    "plt.show()"
   ]
  },
  {
   "cell_type": "code",
   "execution_count": 162,
   "metadata": {
    "ExecuteTime": {
     "end_time": "2019-04-30T11:50:26.599012Z",
     "start_time": "2019-04-30T11:50:22.314547Z"
    }
   },
   "outputs": [
    {
     "data": {
      "application/javascript": [
       "/* Put everything inside the global mpl namespace */\n",
       "window.mpl = {};\n",
       "\n",
       "\n",
       "mpl.get_websocket_type = function() {\n",
       "    if (typeof(WebSocket) !== 'undefined') {\n",
       "        return WebSocket;\n",
       "    } else if (typeof(MozWebSocket) !== 'undefined') {\n",
       "        return MozWebSocket;\n",
       "    } else {\n",
       "        alert('Your browser does not have WebSocket support.' +\n",
       "              'Please try Chrome, Safari or Firefox ≥ 6. ' +\n",
       "              'Firefox 4 and 5 are also supported but you ' +\n",
       "              'have to enable WebSockets in about:config.');\n",
       "    };\n",
       "}\n",
       "\n",
       "mpl.figure = function(figure_id, websocket, ondownload, parent_element) {\n",
       "    this.id = figure_id;\n",
       "\n",
       "    this.ws = websocket;\n",
       "\n",
       "    this.supports_binary = (this.ws.binaryType != undefined);\n",
       "\n",
       "    if (!this.supports_binary) {\n",
       "        var warnings = document.getElementById(\"mpl-warnings\");\n",
       "        if (warnings) {\n",
       "            warnings.style.display = 'block';\n",
       "            warnings.textContent = (\n",
       "                \"This browser does not support binary websocket messages. \" +\n",
       "                    \"Performance may be slow.\");\n",
       "        }\n",
       "    }\n",
       "\n",
       "    this.imageObj = new Image();\n",
       "\n",
       "    this.context = undefined;\n",
       "    this.message = undefined;\n",
       "    this.canvas = undefined;\n",
       "    this.rubberband_canvas = undefined;\n",
       "    this.rubberband_context = undefined;\n",
       "    this.format_dropdown = undefined;\n",
       "\n",
       "    this.image_mode = 'full';\n",
       "\n",
       "    this.root = $('<div/>');\n",
       "    this._root_extra_style(this.root)\n",
       "    this.root.attr('style', 'display: inline-block');\n",
       "\n",
       "    $(parent_element).append(this.root);\n",
       "\n",
       "    this._init_header(this);\n",
       "    this._init_canvas(this);\n",
       "    this._init_toolbar(this);\n",
       "\n",
       "    var fig = this;\n",
       "\n",
       "    this.waiting = false;\n",
       "\n",
       "    this.ws.onopen =  function () {\n",
       "            fig.send_message(\"supports_binary\", {value: fig.supports_binary});\n",
       "            fig.send_message(\"send_image_mode\", {});\n",
       "            if (mpl.ratio != 1) {\n",
       "                fig.send_message(\"set_dpi_ratio\", {'dpi_ratio': mpl.ratio});\n",
       "            }\n",
       "            fig.send_message(\"refresh\", {});\n",
       "        }\n",
       "\n",
       "    this.imageObj.onload = function() {\n",
       "            if (fig.image_mode == 'full') {\n",
       "                // Full images could contain transparency (where diff images\n",
       "                // almost always do), so we need to clear the canvas so that\n",
       "                // there is no ghosting.\n",
       "                fig.context.clearRect(0, 0, fig.canvas.width, fig.canvas.height);\n",
       "            }\n",
       "            fig.context.drawImage(fig.imageObj, 0, 0);\n",
       "        };\n",
       "\n",
       "    this.imageObj.onunload = function() {\n",
       "        fig.ws.close();\n",
       "    }\n",
       "\n",
       "    this.ws.onmessage = this._make_on_message_function(this);\n",
       "\n",
       "    this.ondownload = ondownload;\n",
       "}\n",
       "\n",
       "mpl.figure.prototype._init_header = function() {\n",
       "    var titlebar = $(\n",
       "        '<div class=\"ui-dialog-titlebar ui-widget-header ui-corner-all ' +\n",
       "        'ui-helper-clearfix\"/>');\n",
       "    var titletext = $(\n",
       "        '<div class=\"ui-dialog-title\" style=\"width: 100%; ' +\n",
       "        'text-align: center; padding: 3px;\"/>');\n",
       "    titlebar.append(titletext)\n",
       "    this.root.append(titlebar);\n",
       "    this.header = titletext[0];\n",
       "}\n",
       "\n",
       "\n",
       "\n",
       "mpl.figure.prototype._canvas_extra_style = function(canvas_div) {\n",
       "\n",
       "}\n",
       "\n",
       "\n",
       "mpl.figure.prototype._root_extra_style = function(canvas_div) {\n",
       "\n",
       "}\n",
       "\n",
       "mpl.figure.prototype._init_canvas = function() {\n",
       "    var fig = this;\n",
       "\n",
       "    var canvas_div = $('<div/>');\n",
       "\n",
       "    canvas_div.attr('style', 'position: relative; clear: both; outline: 0');\n",
       "\n",
       "    function canvas_keyboard_event(event) {\n",
       "        return fig.key_event(event, event['data']);\n",
       "    }\n",
       "\n",
       "    canvas_div.keydown('key_press', canvas_keyboard_event);\n",
       "    canvas_div.keyup('key_release', canvas_keyboard_event);\n",
       "    this.canvas_div = canvas_div\n",
       "    this._canvas_extra_style(canvas_div)\n",
       "    this.root.append(canvas_div);\n",
       "\n",
       "    var canvas = $('<canvas/>');\n",
       "    canvas.addClass('mpl-canvas');\n",
       "    canvas.attr('style', \"left: 0; top: 0; z-index: 0; outline: 0\")\n",
       "\n",
       "    this.canvas = canvas[0];\n",
       "    this.context = canvas[0].getContext(\"2d\");\n",
       "\n",
       "    var backingStore = this.context.backingStorePixelRatio ||\n",
       "\tthis.context.webkitBackingStorePixelRatio ||\n",
       "\tthis.context.mozBackingStorePixelRatio ||\n",
       "\tthis.context.msBackingStorePixelRatio ||\n",
       "\tthis.context.oBackingStorePixelRatio ||\n",
       "\tthis.context.backingStorePixelRatio || 1;\n",
       "\n",
       "    mpl.ratio = (window.devicePixelRatio || 1) / backingStore;\n",
       "\n",
       "    var rubberband = $('<canvas/>');\n",
       "    rubberband.attr('style', \"position: absolute; left: 0; top: 0; z-index: 1;\")\n",
       "\n",
       "    var pass_mouse_events = true;\n",
       "\n",
       "    canvas_div.resizable({\n",
       "        start: function(event, ui) {\n",
       "            pass_mouse_events = false;\n",
       "        },\n",
       "        resize: function(event, ui) {\n",
       "            fig.request_resize(ui.size.width, ui.size.height);\n",
       "        },\n",
       "        stop: function(event, ui) {\n",
       "            pass_mouse_events = true;\n",
       "            fig.request_resize(ui.size.width, ui.size.height);\n",
       "        },\n",
       "    });\n",
       "\n",
       "    function mouse_event_fn(event) {\n",
       "        if (pass_mouse_events)\n",
       "            return fig.mouse_event(event, event['data']);\n",
       "    }\n",
       "\n",
       "    rubberband.mousedown('button_press', mouse_event_fn);\n",
       "    rubberband.mouseup('button_release', mouse_event_fn);\n",
       "    // Throttle sequential mouse events to 1 every 20ms.\n",
       "    rubberband.mousemove('motion_notify', mouse_event_fn);\n",
       "\n",
       "    rubberband.mouseenter('figure_enter', mouse_event_fn);\n",
       "    rubberband.mouseleave('figure_leave', mouse_event_fn);\n",
       "\n",
       "    canvas_div.on(\"wheel\", function (event) {\n",
       "        event = event.originalEvent;\n",
       "        event['data'] = 'scroll'\n",
       "        if (event.deltaY < 0) {\n",
       "            event.step = 1;\n",
       "        } else {\n",
       "            event.step = -1;\n",
       "        }\n",
       "        mouse_event_fn(event);\n",
       "    });\n",
       "\n",
       "    canvas_div.append(canvas);\n",
       "    canvas_div.append(rubberband);\n",
       "\n",
       "    this.rubberband = rubberband;\n",
       "    this.rubberband_canvas = rubberband[0];\n",
       "    this.rubberband_context = rubberband[0].getContext(\"2d\");\n",
       "    this.rubberband_context.strokeStyle = \"#000000\";\n",
       "\n",
       "    this._resize_canvas = function(width, height) {\n",
       "        // Keep the size of the canvas, canvas container, and rubber band\n",
       "        // canvas in synch.\n",
       "        canvas_div.css('width', width)\n",
       "        canvas_div.css('height', height)\n",
       "\n",
       "        canvas.attr('width', width * mpl.ratio);\n",
       "        canvas.attr('height', height * mpl.ratio);\n",
       "        canvas.attr('style', 'width: ' + width + 'px; height: ' + height + 'px;');\n",
       "\n",
       "        rubberband.attr('width', width);\n",
       "        rubberband.attr('height', height);\n",
       "    }\n",
       "\n",
       "    // Set the figure to an initial 600x600px, this will subsequently be updated\n",
       "    // upon first draw.\n",
       "    this._resize_canvas(600, 600);\n",
       "\n",
       "    // Disable right mouse context menu.\n",
       "    $(this.rubberband_canvas).bind(\"contextmenu\",function(e){\n",
       "        return false;\n",
       "    });\n",
       "\n",
       "    function set_focus () {\n",
       "        canvas.focus();\n",
       "        canvas_div.focus();\n",
       "    }\n",
       "\n",
       "    window.setTimeout(set_focus, 100);\n",
       "}\n",
       "\n",
       "mpl.figure.prototype._init_toolbar = function() {\n",
       "    var fig = this;\n",
       "\n",
       "    var nav_element = $('<div/>')\n",
       "    nav_element.attr('style', 'width: 100%');\n",
       "    this.root.append(nav_element);\n",
       "\n",
       "    // Define a callback function for later on.\n",
       "    function toolbar_event(event) {\n",
       "        return fig.toolbar_button_onclick(event['data']);\n",
       "    }\n",
       "    function toolbar_mouse_event(event) {\n",
       "        return fig.toolbar_button_onmouseover(event['data']);\n",
       "    }\n",
       "\n",
       "    for(var toolbar_ind in mpl.toolbar_items) {\n",
       "        var name = mpl.toolbar_items[toolbar_ind][0];\n",
       "        var tooltip = mpl.toolbar_items[toolbar_ind][1];\n",
       "        var image = mpl.toolbar_items[toolbar_ind][2];\n",
       "        var method_name = mpl.toolbar_items[toolbar_ind][3];\n",
       "\n",
       "        if (!name) {\n",
       "            // put a spacer in here.\n",
       "            continue;\n",
       "        }\n",
       "        var button = $('<button/>');\n",
       "        button.addClass('ui-button ui-widget ui-state-default ui-corner-all ' +\n",
       "                        'ui-button-icon-only');\n",
       "        button.attr('role', 'button');\n",
       "        button.attr('aria-disabled', 'false');\n",
       "        button.click(method_name, toolbar_event);\n",
       "        button.mouseover(tooltip, toolbar_mouse_event);\n",
       "\n",
       "        var icon_img = $('<span/>');\n",
       "        icon_img.addClass('ui-button-icon-primary ui-icon');\n",
       "        icon_img.addClass(image);\n",
       "        icon_img.addClass('ui-corner-all');\n",
       "\n",
       "        var tooltip_span = $('<span/>');\n",
       "        tooltip_span.addClass('ui-button-text');\n",
       "        tooltip_span.html(tooltip);\n",
       "\n",
       "        button.append(icon_img);\n",
       "        button.append(tooltip_span);\n",
       "\n",
       "        nav_element.append(button);\n",
       "    }\n",
       "\n",
       "    var fmt_picker_span = $('<span/>');\n",
       "\n",
       "    var fmt_picker = $('<select/>');\n",
       "    fmt_picker.addClass('mpl-toolbar-option ui-widget ui-widget-content');\n",
       "    fmt_picker_span.append(fmt_picker);\n",
       "    nav_element.append(fmt_picker_span);\n",
       "    this.format_dropdown = fmt_picker[0];\n",
       "\n",
       "    for (var ind in mpl.extensions) {\n",
       "        var fmt = mpl.extensions[ind];\n",
       "        var option = $(\n",
       "            '<option/>', {selected: fmt === mpl.default_extension}).html(fmt);\n",
       "        fmt_picker.append(option)\n",
       "    }\n",
       "\n",
       "    // Add hover states to the ui-buttons\n",
       "    $( \".ui-button\" ).hover(\n",
       "        function() { $(this).addClass(\"ui-state-hover\");},\n",
       "        function() { $(this).removeClass(\"ui-state-hover\");}\n",
       "    );\n",
       "\n",
       "    var status_bar = $('<span class=\"mpl-message\"/>');\n",
       "    nav_element.append(status_bar);\n",
       "    this.message = status_bar[0];\n",
       "}\n",
       "\n",
       "mpl.figure.prototype.request_resize = function(x_pixels, y_pixels) {\n",
       "    // Request matplotlib to resize the figure. Matplotlib will then trigger a resize in the client,\n",
       "    // which will in turn request a refresh of the image.\n",
       "    this.send_message('resize', {'width': x_pixels, 'height': y_pixels});\n",
       "}\n",
       "\n",
       "mpl.figure.prototype.send_message = function(type, properties) {\n",
       "    properties['type'] = type;\n",
       "    properties['figure_id'] = this.id;\n",
       "    this.ws.send(JSON.stringify(properties));\n",
       "}\n",
       "\n",
       "mpl.figure.prototype.send_draw_message = function() {\n",
       "    if (!this.waiting) {\n",
       "        this.waiting = true;\n",
       "        this.ws.send(JSON.stringify({type: \"draw\", figure_id: this.id}));\n",
       "    }\n",
       "}\n",
       "\n",
       "\n",
       "mpl.figure.prototype.handle_save = function(fig, msg) {\n",
       "    var format_dropdown = fig.format_dropdown;\n",
       "    var format = format_dropdown.options[format_dropdown.selectedIndex].value;\n",
       "    fig.ondownload(fig, format);\n",
       "}\n",
       "\n",
       "\n",
       "mpl.figure.prototype.handle_resize = function(fig, msg) {\n",
       "    var size = msg['size'];\n",
       "    if (size[0] != fig.canvas.width || size[1] != fig.canvas.height) {\n",
       "        fig._resize_canvas(size[0], size[1]);\n",
       "        fig.send_message(\"refresh\", {});\n",
       "    };\n",
       "}\n",
       "\n",
       "mpl.figure.prototype.handle_rubberband = function(fig, msg) {\n",
       "    var x0 = msg['x0'] / mpl.ratio;\n",
       "    var y0 = (fig.canvas.height - msg['y0']) / mpl.ratio;\n",
       "    var x1 = msg['x1'] / mpl.ratio;\n",
       "    var y1 = (fig.canvas.height - msg['y1']) / mpl.ratio;\n",
       "    x0 = Math.floor(x0) + 0.5;\n",
       "    y0 = Math.floor(y0) + 0.5;\n",
       "    x1 = Math.floor(x1) + 0.5;\n",
       "    y1 = Math.floor(y1) + 0.5;\n",
       "    var min_x = Math.min(x0, x1);\n",
       "    var min_y = Math.min(y0, y1);\n",
       "    var width = Math.abs(x1 - x0);\n",
       "    var height = Math.abs(y1 - y0);\n",
       "\n",
       "    fig.rubberband_context.clearRect(\n",
       "        0, 0, fig.canvas.width, fig.canvas.height);\n",
       "\n",
       "    fig.rubberband_context.strokeRect(min_x, min_y, width, height);\n",
       "}\n",
       "\n",
       "mpl.figure.prototype.handle_figure_label = function(fig, msg) {\n",
       "    // Updates the figure title.\n",
       "    fig.header.textContent = msg['label'];\n",
       "}\n",
       "\n",
       "mpl.figure.prototype.handle_cursor = function(fig, msg) {\n",
       "    var cursor = msg['cursor'];\n",
       "    switch(cursor)\n",
       "    {\n",
       "    case 0:\n",
       "        cursor = 'pointer';\n",
       "        break;\n",
       "    case 1:\n",
       "        cursor = 'default';\n",
       "        break;\n",
       "    case 2:\n",
       "        cursor = 'crosshair';\n",
       "        break;\n",
       "    case 3:\n",
       "        cursor = 'move';\n",
       "        break;\n",
       "    }\n",
       "    fig.rubberband_canvas.style.cursor = cursor;\n",
       "}\n",
       "\n",
       "mpl.figure.prototype.handle_message = function(fig, msg) {\n",
       "    fig.message.textContent = msg['message'];\n",
       "}\n",
       "\n",
       "mpl.figure.prototype.handle_draw = function(fig, msg) {\n",
       "    // Request the server to send over a new figure.\n",
       "    fig.send_draw_message();\n",
       "}\n",
       "\n",
       "mpl.figure.prototype.handle_image_mode = function(fig, msg) {\n",
       "    fig.image_mode = msg['mode'];\n",
       "}\n",
       "\n",
       "mpl.figure.prototype.updated_canvas_event = function() {\n",
       "    // Called whenever the canvas gets updated.\n",
       "    this.send_message(\"ack\", {});\n",
       "}\n",
       "\n",
       "// A function to construct a web socket function for onmessage handling.\n",
       "// Called in the figure constructor.\n",
       "mpl.figure.prototype._make_on_message_function = function(fig) {\n",
       "    return function socket_on_message(evt) {\n",
       "        if (evt.data instanceof Blob) {\n",
       "            /* FIXME: We get \"Resource interpreted as Image but\n",
       "             * transferred with MIME type text/plain:\" errors on\n",
       "             * Chrome.  But how to set the MIME type?  It doesn't seem\n",
       "             * to be part of the websocket stream */\n",
       "            evt.data.type = \"image/png\";\n",
       "\n",
       "            /* Free the memory for the previous frames */\n",
       "            if (fig.imageObj.src) {\n",
       "                (window.URL || window.webkitURL).revokeObjectURL(\n",
       "                    fig.imageObj.src);\n",
       "            }\n",
       "\n",
       "            fig.imageObj.src = (window.URL || window.webkitURL).createObjectURL(\n",
       "                evt.data);\n",
       "            fig.updated_canvas_event();\n",
       "            fig.waiting = false;\n",
       "            return;\n",
       "        }\n",
       "        else if (typeof evt.data === 'string' && evt.data.slice(0, 21) == \"data:image/png;base64\") {\n",
       "            fig.imageObj.src = evt.data;\n",
       "            fig.updated_canvas_event();\n",
       "            fig.waiting = false;\n",
       "            return;\n",
       "        }\n",
       "\n",
       "        var msg = JSON.parse(evt.data);\n",
       "        var msg_type = msg['type'];\n",
       "\n",
       "        // Call the  \"handle_{type}\" callback, which takes\n",
       "        // the figure and JSON message as its only arguments.\n",
       "        try {\n",
       "            var callback = fig[\"handle_\" + msg_type];\n",
       "        } catch (e) {\n",
       "            console.log(\"No handler for the '\" + msg_type + \"' message type: \", msg);\n",
       "            return;\n",
       "        }\n",
       "\n",
       "        if (callback) {\n",
       "            try {\n",
       "                // console.log(\"Handling '\" + msg_type + \"' message: \", msg);\n",
       "                callback(fig, msg);\n",
       "            } catch (e) {\n",
       "                console.log(\"Exception inside the 'handler_\" + msg_type + \"' callback:\", e, e.stack, msg);\n",
       "            }\n",
       "        }\n",
       "    };\n",
       "}\n",
       "\n",
       "// from http://stackoverflow.com/questions/1114465/getting-mouse-location-in-canvas\n",
       "mpl.findpos = function(e) {\n",
       "    //this section is from http://www.quirksmode.org/js/events_properties.html\n",
       "    var targ;\n",
       "    if (!e)\n",
       "        e = window.event;\n",
       "    if (e.target)\n",
       "        targ = e.target;\n",
       "    else if (e.srcElement)\n",
       "        targ = e.srcElement;\n",
       "    if (targ.nodeType == 3) // defeat Safari bug\n",
       "        targ = targ.parentNode;\n",
       "\n",
       "    // jQuery normalizes the pageX and pageY\n",
       "    // pageX,Y are the mouse positions relative to the document\n",
       "    // offset() returns the position of the element relative to the document\n",
       "    var x = e.pageX - $(targ).offset().left;\n",
       "    var y = e.pageY - $(targ).offset().top;\n",
       "\n",
       "    return {\"x\": x, \"y\": y};\n",
       "};\n",
       "\n",
       "/*\n",
       " * return a copy of an object with only non-object keys\n",
       " * we need this to avoid circular references\n",
       " * http://stackoverflow.com/a/24161582/3208463\n",
       " */\n",
       "function simpleKeys (original) {\n",
       "  return Object.keys(original).reduce(function (obj, key) {\n",
       "    if (typeof original[key] !== 'object')\n",
       "        obj[key] = original[key]\n",
       "    return obj;\n",
       "  }, {});\n",
       "}\n",
       "\n",
       "mpl.figure.prototype.mouse_event = function(event, name) {\n",
       "    var canvas_pos = mpl.findpos(event)\n",
       "\n",
       "    if (name === 'button_press')\n",
       "    {\n",
       "        this.canvas.focus();\n",
       "        this.canvas_div.focus();\n",
       "    }\n",
       "\n",
       "    var x = canvas_pos.x * mpl.ratio;\n",
       "    var y = canvas_pos.y * mpl.ratio;\n",
       "\n",
       "    this.send_message(name, {x: x, y: y, button: event.button,\n",
       "                             step: event.step,\n",
       "                             guiEvent: simpleKeys(event)});\n",
       "\n",
       "    /* This prevents the web browser from automatically changing to\n",
       "     * the text insertion cursor when the button is pressed.  We want\n",
       "     * to control all of the cursor setting manually through the\n",
       "     * 'cursor' event from matplotlib */\n",
       "    event.preventDefault();\n",
       "    return false;\n",
       "}\n",
       "\n",
       "mpl.figure.prototype._key_event_extra = function(event, name) {\n",
       "    // Handle any extra behaviour associated with a key event\n",
       "}\n",
       "\n",
       "mpl.figure.prototype.key_event = function(event, name) {\n",
       "\n",
       "    // Prevent repeat events\n",
       "    if (name == 'key_press')\n",
       "    {\n",
       "        if (event.which === this._key)\n",
       "            return;\n",
       "        else\n",
       "            this._key = event.which;\n",
       "    }\n",
       "    if (name == 'key_release')\n",
       "        this._key = null;\n",
       "\n",
       "    var value = '';\n",
       "    if (event.ctrlKey && event.which != 17)\n",
       "        value += \"ctrl+\";\n",
       "    if (event.altKey && event.which != 18)\n",
       "        value += \"alt+\";\n",
       "    if (event.shiftKey && event.which != 16)\n",
       "        value += \"shift+\";\n",
       "\n",
       "    value += 'k';\n",
       "    value += event.which.toString();\n",
       "\n",
       "    this._key_event_extra(event, name);\n",
       "\n",
       "    this.send_message(name, {key: value,\n",
       "                             guiEvent: simpleKeys(event)});\n",
       "    return false;\n",
       "}\n",
       "\n",
       "mpl.figure.prototype.toolbar_button_onclick = function(name) {\n",
       "    if (name == 'download') {\n",
       "        this.handle_save(this, null);\n",
       "    } else {\n",
       "        this.send_message(\"toolbar_button\", {name: name});\n",
       "    }\n",
       "};\n",
       "\n",
       "mpl.figure.prototype.toolbar_button_onmouseover = function(tooltip) {\n",
       "    this.message.textContent = tooltip;\n",
       "};\n",
       "mpl.toolbar_items = [[\"Home\", \"Reset original view\", \"fa fa-home icon-home\", \"home\"], [\"Back\", \"Back to  previous view\", \"fa fa-arrow-left icon-arrow-left\", \"back\"], [\"Forward\", \"Forward to next view\", \"fa fa-arrow-right icon-arrow-right\", \"forward\"], [\"\", \"\", \"\", \"\"], [\"Pan\", \"Pan axes with left mouse, zoom with right\", \"fa fa-arrows icon-move\", \"pan\"], [\"Zoom\", \"Zoom to rectangle\", \"fa fa-square-o icon-check-empty\", \"zoom\"], [\"\", \"\", \"\", \"\"], [\"Download\", \"Download plot\", \"fa fa-floppy-o icon-save\", \"download\"]];\n",
       "\n",
       "mpl.extensions = [\"eps\", \"jpeg\", \"pdf\", \"png\", \"ps\", \"raw\", \"svg\", \"tif\"];\n",
       "\n",
       "mpl.default_extension = \"png\";var comm_websocket_adapter = function(comm) {\n",
       "    // Create a \"websocket\"-like object which calls the given IPython comm\n",
       "    // object with the appropriate methods. Currently this is a non binary\n",
       "    // socket, so there is still some room for performance tuning.\n",
       "    var ws = {};\n",
       "\n",
       "    ws.close = function() {\n",
       "        comm.close()\n",
       "    };\n",
       "    ws.send = function(m) {\n",
       "        //console.log('sending', m);\n",
       "        comm.send(m);\n",
       "    };\n",
       "    // Register the callback with on_msg.\n",
       "    comm.on_msg(function(msg) {\n",
       "        //console.log('receiving', msg['content']['data'], msg);\n",
       "        // Pass the mpl event to the overridden (by mpl) onmessage function.\n",
       "        ws.onmessage(msg['content']['data'])\n",
       "    });\n",
       "    return ws;\n",
       "}\n",
       "\n",
       "mpl.mpl_figure_comm = function(comm, msg) {\n",
       "    // This is the function which gets called when the mpl process\n",
       "    // starts-up an IPython Comm through the \"matplotlib\" channel.\n",
       "\n",
       "    var id = msg.content.data.id;\n",
       "    // Get hold of the div created by the display call when the Comm\n",
       "    // socket was opened in Python.\n",
       "    var element = $(\"#\" + id);\n",
       "    var ws_proxy = comm_websocket_adapter(comm)\n",
       "\n",
       "    function ondownload(figure, format) {\n",
       "        window.open(figure.imageObj.src);\n",
       "    }\n",
       "\n",
       "    var fig = new mpl.figure(id, ws_proxy,\n",
       "                           ondownload,\n",
       "                           element.get(0));\n",
       "\n",
       "    // Call onopen now - mpl needs it, as it is assuming we've passed it a real\n",
       "    // web socket which is closed, not our websocket->open comm proxy.\n",
       "    ws_proxy.onopen();\n",
       "\n",
       "    fig.parent_element = element.get(0);\n",
       "    fig.cell_info = mpl.find_output_cell(\"<div id='\" + id + \"'></div>\");\n",
       "    if (!fig.cell_info) {\n",
       "        console.error(\"Failed to find cell for figure\", id, fig);\n",
       "        return;\n",
       "    }\n",
       "\n",
       "    var output_index = fig.cell_info[2]\n",
       "    var cell = fig.cell_info[0];\n",
       "\n",
       "};\n",
       "\n",
       "mpl.figure.prototype.handle_close = function(fig, msg) {\n",
       "    var width = fig.canvas.width/mpl.ratio\n",
       "    fig.root.unbind('remove')\n",
       "\n",
       "    // Update the output cell to use the data from the current canvas.\n",
       "    fig.push_to_output();\n",
       "    var dataURL = fig.canvas.toDataURL();\n",
       "    // Re-enable the keyboard manager in IPython - without this line, in FF,\n",
       "    // the notebook keyboard shortcuts fail.\n",
       "    IPython.keyboard_manager.enable()\n",
       "    $(fig.parent_element).html('<img src=\"' + dataURL + '\" width=\"' + width + '\">');\n",
       "    fig.close_ws(fig, msg);\n",
       "}\n",
       "\n",
       "mpl.figure.prototype.close_ws = function(fig, msg){\n",
       "    fig.send_message('closing', msg);\n",
       "    // fig.ws.close()\n",
       "}\n",
       "\n",
       "mpl.figure.prototype.push_to_output = function(remove_interactive) {\n",
       "    // Turn the data on the canvas into data in the output cell.\n",
       "    var width = this.canvas.width/mpl.ratio\n",
       "    var dataURL = this.canvas.toDataURL();\n",
       "    this.cell_info[1]['text/html'] = '<img src=\"' + dataURL + '\" width=\"' + width + '\">';\n",
       "}\n",
       "\n",
       "mpl.figure.prototype.updated_canvas_event = function() {\n",
       "    // Tell IPython that the notebook contents must change.\n",
       "    IPython.notebook.set_dirty(true);\n",
       "    this.send_message(\"ack\", {});\n",
       "    var fig = this;\n",
       "    // Wait a second, then push the new image to the DOM so\n",
       "    // that it is saved nicely (might be nice to debounce this).\n",
       "    setTimeout(function () { fig.push_to_output() }, 1000);\n",
       "}\n",
       "\n",
       "mpl.figure.prototype._init_toolbar = function() {\n",
       "    var fig = this;\n",
       "\n",
       "    var nav_element = $('<div/>')\n",
       "    nav_element.attr('style', 'width: 100%');\n",
       "    this.root.append(nav_element);\n",
       "\n",
       "    // Define a callback function for later on.\n",
       "    function toolbar_event(event) {\n",
       "        return fig.toolbar_button_onclick(event['data']);\n",
       "    }\n",
       "    function toolbar_mouse_event(event) {\n",
       "        return fig.toolbar_button_onmouseover(event['data']);\n",
       "    }\n",
       "\n",
       "    for(var toolbar_ind in mpl.toolbar_items){\n",
       "        var name = mpl.toolbar_items[toolbar_ind][0];\n",
       "        var tooltip = mpl.toolbar_items[toolbar_ind][1];\n",
       "        var image = mpl.toolbar_items[toolbar_ind][2];\n",
       "        var method_name = mpl.toolbar_items[toolbar_ind][3];\n",
       "\n",
       "        if (!name) { continue; };\n",
       "\n",
       "        var button = $('<button class=\"btn btn-default\" href=\"#\" title=\"' + name + '\"><i class=\"fa ' + image + ' fa-lg\"></i></button>');\n",
       "        button.click(method_name, toolbar_event);\n",
       "        button.mouseover(tooltip, toolbar_mouse_event);\n",
       "        nav_element.append(button);\n",
       "    }\n",
       "\n",
       "    // Add the status bar.\n",
       "    var status_bar = $('<span class=\"mpl-message\" style=\"text-align:right; float: right;\"/>');\n",
       "    nav_element.append(status_bar);\n",
       "    this.message = status_bar[0];\n",
       "\n",
       "    // Add the close button to the window.\n",
       "    var buttongrp = $('<div class=\"btn-group inline pull-right\"></div>');\n",
       "    var button = $('<button class=\"btn btn-mini btn-primary\" href=\"#\" title=\"Stop Interaction\"><i class=\"fa fa-power-off icon-remove icon-large\"></i></button>');\n",
       "    button.click(function (evt) { fig.handle_close(fig, {}); } );\n",
       "    button.mouseover('Stop Interaction', toolbar_mouse_event);\n",
       "    buttongrp.append(button);\n",
       "    var titlebar = this.root.find($('.ui-dialog-titlebar'));\n",
       "    titlebar.prepend(buttongrp);\n",
       "}\n",
       "\n",
       "mpl.figure.prototype._root_extra_style = function(el){\n",
       "    var fig = this\n",
       "    el.on(\"remove\", function(){\n",
       "\tfig.close_ws(fig, {});\n",
       "    });\n",
       "}\n",
       "\n",
       "mpl.figure.prototype._canvas_extra_style = function(el){\n",
       "    // this is important to make the div 'focusable\n",
       "    el.attr('tabindex', 0)\n",
       "    // reach out to IPython and tell the keyboard manager to turn it's self\n",
       "    // off when our div gets focus\n",
       "\n",
       "    // location in version 3\n",
       "    if (IPython.notebook.keyboard_manager) {\n",
       "        IPython.notebook.keyboard_manager.register_events(el);\n",
       "    }\n",
       "    else {\n",
       "        // location in version 2\n",
       "        IPython.keyboard_manager.register_events(el);\n",
       "    }\n",
       "\n",
       "}\n",
       "\n",
       "mpl.figure.prototype._key_event_extra = function(event, name) {\n",
       "    var manager = IPython.notebook.keyboard_manager;\n",
       "    if (!manager)\n",
       "        manager = IPython.keyboard_manager;\n",
       "\n",
       "    // Check for shift+enter\n",
       "    if (event.shiftKey && event.which == 13) {\n",
       "        this.canvas_div.blur();\n",
       "        event.shiftKey = false;\n",
       "        // Send a \"J\" for go to next cell\n",
       "        event.which = 74;\n",
       "        event.keyCode = 74;\n",
       "        manager.command_mode();\n",
       "        manager.handle_keydown(event);\n",
       "    }\n",
       "}\n",
       "\n",
       "mpl.figure.prototype.handle_save = function(fig, msg) {\n",
       "    fig.ondownload(fig, null);\n",
       "}\n",
       "\n",
       "\n",
       "mpl.find_output_cell = function(html_output) {\n",
       "    // Return the cell and output element which can be found *uniquely* in the notebook.\n",
       "    // Note - this is a bit hacky, but it is done because the \"notebook_saving.Notebook\"\n",
       "    // IPython event is triggered only after the cells have been serialised, which for\n",
       "    // our purposes (turning an active figure into a static one), is too late.\n",
       "    var cells = IPython.notebook.get_cells();\n",
       "    var ncells = cells.length;\n",
       "    for (var i=0; i<ncells; i++) {\n",
       "        var cell = cells[i];\n",
       "        if (cell.cell_type === 'code'){\n",
       "            for (var j=0; j<cell.output_area.outputs.length; j++) {\n",
       "                var data = cell.output_area.outputs[j];\n",
       "                if (data.data) {\n",
       "                    // IPython >= 3 moved mimebundle to data attribute of output\n",
       "                    data = data.data;\n",
       "                }\n",
       "                if (data['text/html'] == html_output) {\n",
       "                    return [cell, data, j];\n",
       "                }\n",
       "            }\n",
       "        }\n",
       "    }\n",
       "}\n",
       "\n",
       "// Register the function which deals with the matplotlib target/channel.\n",
       "// The kernel may be null if the page has been refreshed.\n",
       "if (IPython.notebook.kernel != null) {\n",
       "    IPython.notebook.kernel.comm_manager.register_target('matplotlib', mpl.mpl_figure_comm);\n",
       "}\n"
      ],
      "text/plain": [
       "<IPython.core.display.Javascript object>"
      ]
     },
     "metadata": {},
     "output_type": "display_data"
    },
    {
     "data": {
      "text/html": [
       "<img src=\"data:image/png;base64,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\" width=\"432\">"
      ],
      "text/plain": [
       "<IPython.core.display.HTML object>"
      ]
     },
     "metadata": {},
     "output_type": "display_data"
    }
   ],
   "source": [
    "%matplotlib notebook\n",
    "fig = plt.figure()\n",
    "ax1 = fig.add_subplot(1,1,1)\n",
    "plt.ion()\n",
    "\n",
    "x=[]\n",
    "y=[]\n",
    "\n",
    "for a in np.array(range(3)):\n",
    "\n",
    "    time.sleep(1)\n",
    "    x.append(a)\n",
    "    y.append(2*a)\n",
    "\n",
    "    ax1.clear()\n",
    "    ax1.scatter(x,y, label=\"ok\")\n",
    "\n",
    "\n",
    "    fig.canvas.draw()\n",
    "    "
   ]
  },
  {
   "cell_type": "code",
   "execution_count": 154,
   "metadata": {
    "ExecuteTime": {
     "end_time": "2019-04-30T11:37:45.205540Z",
     "start_time": "2019-04-30T11:37:45.155660Z"
    }
   },
   "outputs": [
    {
     "data": {
      "application/javascript": [
       "/* Put everything inside the global mpl namespace */\n",
       "window.mpl = {};\n",
       "\n",
       "\n",
       "mpl.get_websocket_type = function() {\n",
       "    if (typeof(WebSocket) !== 'undefined') {\n",
       "        return WebSocket;\n",
       "    } else if (typeof(MozWebSocket) !== 'undefined') {\n",
       "        return MozWebSocket;\n",
       "    } else {\n",
       "        alert('Your browser does not have WebSocket support.' +\n",
       "              'Please try Chrome, Safari or Firefox ≥ 6. ' +\n",
       "              'Firefox 4 and 5 are also supported but you ' +\n",
       "              'have to enable WebSockets in about:config.');\n",
       "    };\n",
       "}\n",
       "\n",
       "mpl.figure = function(figure_id, websocket, ondownload, parent_element) {\n",
       "    this.id = figure_id;\n",
       "\n",
       "    this.ws = websocket;\n",
       "\n",
       "    this.supports_binary = (this.ws.binaryType != undefined);\n",
       "\n",
       "    if (!this.supports_binary) {\n",
       "        var warnings = document.getElementById(\"mpl-warnings\");\n",
       "        if (warnings) {\n",
       "            warnings.style.display = 'block';\n",
       "            warnings.textContent = (\n",
       "                \"This browser does not support binary websocket messages. \" +\n",
       "                    \"Performance may be slow.\");\n",
       "        }\n",
       "    }\n",
       "\n",
       "    this.imageObj = new Image();\n",
       "\n",
       "    this.context = undefined;\n",
       "    this.message = undefined;\n",
       "    this.canvas = undefined;\n",
       "    this.rubberband_canvas = undefined;\n",
       "    this.rubberband_context = undefined;\n",
       "    this.format_dropdown = undefined;\n",
       "\n",
       "    this.image_mode = 'full';\n",
       "\n",
       "    this.root = $('<div/>');\n",
       "    this._root_extra_style(this.root)\n",
       "    this.root.attr('style', 'display: inline-block');\n",
       "\n",
       "    $(parent_element).append(this.root);\n",
       "\n",
       "    this._init_header(this);\n",
       "    this._init_canvas(this);\n",
       "    this._init_toolbar(this);\n",
       "\n",
       "    var fig = this;\n",
       "\n",
       "    this.waiting = false;\n",
       "\n",
       "    this.ws.onopen =  function () {\n",
       "            fig.send_message(\"supports_binary\", {value: fig.supports_binary});\n",
       "            fig.send_message(\"send_image_mode\", {});\n",
       "            if (mpl.ratio != 1) {\n",
       "                fig.send_message(\"set_dpi_ratio\", {'dpi_ratio': mpl.ratio});\n",
       "            }\n",
       "            fig.send_message(\"refresh\", {});\n",
       "        }\n",
       "\n",
       "    this.imageObj.onload = function() {\n",
       "            if (fig.image_mode == 'full') {\n",
       "                // Full images could contain transparency (where diff images\n",
       "                // almost always do), so we need to clear the canvas so that\n",
       "                // there is no ghosting.\n",
       "                fig.context.clearRect(0, 0, fig.canvas.width, fig.canvas.height);\n",
       "            }\n",
       "            fig.context.drawImage(fig.imageObj, 0, 0);\n",
       "        };\n",
       "\n",
       "    this.imageObj.onunload = function() {\n",
       "        fig.ws.close();\n",
       "    }\n",
       "\n",
       "    this.ws.onmessage = this._make_on_message_function(this);\n",
       "\n",
       "    this.ondownload = ondownload;\n",
       "}\n",
       "\n",
       "mpl.figure.prototype._init_header = function() {\n",
       "    var titlebar = $(\n",
       "        '<div class=\"ui-dialog-titlebar ui-widget-header ui-corner-all ' +\n",
       "        'ui-helper-clearfix\"/>');\n",
       "    var titletext = $(\n",
       "        '<div class=\"ui-dialog-title\" style=\"width: 100%; ' +\n",
       "        'text-align: center; padding: 3px;\"/>');\n",
       "    titlebar.append(titletext)\n",
       "    this.root.append(titlebar);\n",
       "    this.header = titletext[0];\n",
       "}\n",
       "\n",
       "\n",
       "\n",
       "mpl.figure.prototype._canvas_extra_style = function(canvas_div) {\n",
       "\n",
       "}\n",
       "\n",
       "\n",
       "mpl.figure.prototype._root_extra_style = function(canvas_div) {\n",
       "\n",
       "}\n",
       "\n",
       "mpl.figure.prototype._init_canvas = function() {\n",
       "    var fig = this;\n",
       "\n",
       "    var canvas_div = $('<div/>');\n",
       "\n",
       "    canvas_div.attr('style', 'position: relative; clear: both; outline: 0');\n",
       "\n",
       "    function canvas_keyboard_event(event) {\n",
       "        return fig.key_event(event, event['data']);\n",
       "    }\n",
       "\n",
       "    canvas_div.keydown('key_press', canvas_keyboard_event);\n",
       "    canvas_div.keyup('key_release', canvas_keyboard_event);\n",
       "    this.canvas_div = canvas_div\n",
       "    this._canvas_extra_style(canvas_div)\n",
       "    this.root.append(canvas_div);\n",
       "\n",
       "    var canvas = $('<canvas/>');\n",
       "    canvas.addClass('mpl-canvas');\n",
       "    canvas.attr('style', \"left: 0; top: 0; z-index: 0; outline: 0\")\n",
       "\n",
       "    this.canvas = canvas[0];\n",
       "    this.context = canvas[0].getContext(\"2d\");\n",
       "\n",
       "    var backingStore = this.context.backingStorePixelRatio ||\n",
       "\tthis.context.webkitBackingStorePixelRatio ||\n",
       "\tthis.context.mozBackingStorePixelRatio ||\n",
       "\tthis.context.msBackingStorePixelRatio ||\n",
       "\tthis.context.oBackingStorePixelRatio ||\n",
       "\tthis.context.backingStorePixelRatio || 1;\n",
       "\n",
       "    mpl.ratio = (window.devicePixelRatio || 1) / backingStore;\n",
       "\n",
       "    var rubberband = $('<canvas/>');\n",
       "    rubberband.attr('style', \"position: absolute; left: 0; top: 0; z-index: 1;\")\n",
       "\n",
       "    var pass_mouse_events = true;\n",
       "\n",
       "    canvas_div.resizable({\n",
       "        start: function(event, ui) {\n",
       "            pass_mouse_events = false;\n",
       "        },\n",
       "        resize: function(event, ui) {\n",
       "            fig.request_resize(ui.size.width, ui.size.height);\n",
       "        },\n",
       "        stop: function(event, ui) {\n",
       "            pass_mouse_events = true;\n",
       "            fig.request_resize(ui.size.width, ui.size.height);\n",
       "        },\n",
       "    });\n",
       "\n",
       "    function mouse_event_fn(event) {\n",
       "        if (pass_mouse_events)\n",
       "            return fig.mouse_event(event, event['data']);\n",
       "    }\n",
       "\n",
       "    rubberband.mousedown('button_press', mouse_event_fn);\n",
       "    rubberband.mouseup('button_release', mouse_event_fn);\n",
       "    // Throttle sequential mouse events to 1 every 20ms.\n",
       "    rubberband.mousemove('motion_notify', mouse_event_fn);\n",
       "\n",
       "    rubberband.mouseenter('figure_enter', mouse_event_fn);\n",
       "    rubberband.mouseleave('figure_leave', mouse_event_fn);\n",
       "\n",
       "    canvas_div.on(\"wheel\", function (event) {\n",
       "        event = event.originalEvent;\n",
       "        event['data'] = 'scroll'\n",
       "        if (event.deltaY < 0) {\n",
       "            event.step = 1;\n",
       "        } else {\n",
       "            event.step = -1;\n",
       "        }\n",
       "        mouse_event_fn(event);\n",
       "    });\n",
       "\n",
       "    canvas_div.append(canvas);\n",
       "    canvas_div.append(rubberband);\n",
       "\n",
       "    this.rubberband = rubberband;\n",
       "    this.rubberband_canvas = rubberband[0];\n",
       "    this.rubberband_context = rubberband[0].getContext(\"2d\");\n",
       "    this.rubberband_context.strokeStyle = \"#000000\";\n",
       "\n",
       "    this._resize_canvas = function(width, height) {\n",
       "        // Keep the size of the canvas, canvas container, and rubber band\n",
       "        // canvas in synch.\n",
       "        canvas_div.css('width', width)\n",
       "        canvas_div.css('height', height)\n",
       "\n",
       "        canvas.attr('width', width * mpl.ratio);\n",
       "        canvas.attr('height', height * mpl.ratio);\n",
       "        canvas.attr('style', 'width: ' + width + 'px; height: ' + height + 'px;');\n",
       "\n",
       "        rubberband.attr('width', width);\n",
       "        rubberband.attr('height', height);\n",
       "    }\n",
       "\n",
       "    // Set the figure to an initial 600x600px, this will subsequently be updated\n",
       "    // upon first draw.\n",
       "    this._resize_canvas(600, 600);\n",
       "\n",
       "    // Disable right mouse context menu.\n",
       "    $(this.rubberband_canvas).bind(\"contextmenu\",function(e){\n",
       "        return false;\n",
       "    });\n",
       "\n",
       "    function set_focus () {\n",
       "        canvas.focus();\n",
       "        canvas_div.focus();\n",
       "    }\n",
       "\n",
       "    window.setTimeout(set_focus, 100);\n",
       "}\n",
       "\n",
       "mpl.figure.prototype._init_toolbar = function() {\n",
       "    var fig = this;\n",
       "\n",
       "    var nav_element = $('<div/>')\n",
       "    nav_element.attr('style', 'width: 100%');\n",
       "    this.root.append(nav_element);\n",
       "\n",
       "    // Define a callback function for later on.\n",
       "    function toolbar_event(event) {\n",
       "        return fig.toolbar_button_onclick(event['data']);\n",
       "    }\n",
       "    function toolbar_mouse_event(event) {\n",
       "        return fig.toolbar_button_onmouseover(event['data']);\n",
       "    }\n",
       "\n",
       "    for(var toolbar_ind in mpl.toolbar_items) {\n",
       "        var name = mpl.toolbar_items[toolbar_ind][0];\n",
       "        var tooltip = mpl.toolbar_items[toolbar_ind][1];\n",
       "        var image = mpl.toolbar_items[toolbar_ind][2];\n",
       "        var method_name = mpl.toolbar_items[toolbar_ind][3];\n",
       "\n",
       "        if (!name) {\n",
       "            // put a spacer in here.\n",
       "            continue;\n",
       "        }\n",
       "        var button = $('<button/>');\n",
       "        button.addClass('ui-button ui-widget ui-state-default ui-corner-all ' +\n",
       "                        'ui-button-icon-only');\n",
       "        button.attr('role', 'button');\n",
       "        button.attr('aria-disabled', 'false');\n",
       "        button.click(method_name, toolbar_event);\n",
       "        button.mouseover(tooltip, toolbar_mouse_event);\n",
       "\n",
       "        var icon_img = $('<span/>');\n",
       "        icon_img.addClass('ui-button-icon-primary ui-icon');\n",
       "        icon_img.addClass(image);\n",
       "        icon_img.addClass('ui-corner-all');\n",
       "\n",
       "        var tooltip_span = $('<span/>');\n",
       "        tooltip_span.addClass('ui-button-text');\n",
       "        tooltip_span.html(tooltip);\n",
       "\n",
       "        button.append(icon_img);\n",
       "        button.append(tooltip_span);\n",
       "\n",
       "        nav_element.append(button);\n",
       "    }\n",
       "\n",
       "    var fmt_picker_span = $('<span/>');\n",
       "\n",
       "    var fmt_picker = $('<select/>');\n",
       "    fmt_picker.addClass('mpl-toolbar-option ui-widget ui-widget-content');\n",
       "    fmt_picker_span.append(fmt_picker);\n",
       "    nav_element.append(fmt_picker_span);\n",
       "    this.format_dropdown = fmt_picker[0];\n",
       "\n",
       "    for (var ind in mpl.extensions) {\n",
       "        var fmt = mpl.extensions[ind];\n",
       "        var option = $(\n",
       "            '<option/>', {selected: fmt === mpl.default_extension}).html(fmt);\n",
       "        fmt_picker.append(option)\n",
       "    }\n",
       "\n",
       "    // Add hover states to the ui-buttons\n",
       "    $( \".ui-button\" ).hover(\n",
       "        function() { $(this).addClass(\"ui-state-hover\");},\n",
       "        function() { $(this).removeClass(\"ui-state-hover\");}\n",
       "    );\n",
       "\n",
       "    var status_bar = $('<span class=\"mpl-message\"/>');\n",
       "    nav_element.append(status_bar);\n",
       "    this.message = status_bar[0];\n",
       "}\n",
       "\n",
       "mpl.figure.prototype.request_resize = function(x_pixels, y_pixels) {\n",
       "    // Request matplotlib to resize the figure. Matplotlib will then trigger a resize in the client,\n",
       "    // which will in turn request a refresh of the image.\n",
       "    this.send_message('resize', {'width': x_pixels, 'height': y_pixels});\n",
       "}\n",
       "\n",
       "mpl.figure.prototype.send_message = function(type, properties) {\n",
       "    properties['type'] = type;\n",
       "    properties['figure_id'] = this.id;\n",
       "    this.ws.send(JSON.stringify(properties));\n",
       "}\n",
       "\n",
       "mpl.figure.prototype.send_draw_message = function() {\n",
       "    if (!this.waiting) {\n",
       "        this.waiting = true;\n",
       "        this.ws.send(JSON.stringify({type: \"draw\", figure_id: this.id}));\n",
       "    }\n",
       "}\n",
       "\n",
       "\n",
       "mpl.figure.prototype.handle_save = function(fig, msg) {\n",
       "    var format_dropdown = fig.format_dropdown;\n",
       "    var format = format_dropdown.options[format_dropdown.selectedIndex].value;\n",
       "    fig.ondownload(fig, format);\n",
       "}\n",
       "\n",
       "\n",
       "mpl.figure.prototype.handle_resize = function(fig, msg) {\n",
       "    var size = msg['size'];\n",
       "    if (size[0] != fig.canvas.width || size[1] != fig.canvas.height) {\n",
       "        fig._resize_canvas(size[0], size[1]);\n",
       "        fig.send_message(\"refresh\", {});\n",
       "    };\n",
       "}\n",
       "\n",
       "mpl.figure.prototype.handle_rubberband = function(fig, msg) {\n",
       "    var x0 = msg['x0'] / mpl.ratio;\n",
       "    var y0 = (fig.canvas.height - msg['y0']) / mpl.ratio;\n",
       "    var x1 = msg['x1'] / mpl.ratio;\n",
       "    var y1 = (fig.canvas.height - msg['y1']) / mpl.ratio;\n",
       "    x0 = Math.floor(x0) + 0.5;\n",
       "    y0 = Math.floor(y0) + 0.5;\n",
       "    x1 = Math.floor(x1) + 0.5;\n",
       "    y1 = Math.floor(y1) + 0.5;\n",
       "    var min_x = Math.min(x0, x1);\n",
       "    var min_y = Math.min(y0, y1);\n",
       "    var width = Math.abs(x1 - x0);\n",
       "    var height = Math.abs(y1 - y0);\n",
       "\n",
       "    fig.rubberband_context.clearRect(\n",
       "        0, 0, fig.canvas.width, fig.canvas.height);\n",
       "\n",
       "    fig.rubberband_context.strokeRect(min_x, min_y, width, height);\n",
       "}\n",
       "\n",
       "mpl.figure.prototype.handle_figure_label = function(fig, msg) {\n",
       "    // Updates the figure title.\n",
       "    fig.header.textContent = msg['label'];\n",
       "}\n",
       "\n",
       "mpl.figure.prototype.handle_cursor = function(fig, msg) {\n",
       "    var cursor = msg['cursor'];\n",
       "    switch(cursor)\n",
       "    {\n",
       "    case 0:\n",
       "        cursor = 'pointer';\n",
       "        break;\n",
       "    case 1:\n",
       "        cursor = 'default';\n",
       "        break;\n",
       "    case 2:\n",
       "        cursor = 'crosshair';\n",
       "        break;\n",
       "    case 3:\n",
       "        cursor = 'move';\n",
       "        break;\n",
       "    }\n",
       "    fig.rubberband_canvas.style.cursor = cursor;\n",
       "}\n",
       "\n",
       "mpl.figure.prototype.handle_message = function(fig, msg) {\n",
       "    fig.message.textContent = msg['message'];\n",
       "}\n",
       "\n",
       "mpl.figure.prototype.handle_draw = function(fig, msg) {\n",
       "    // Request the server to send over a new figure.\n",
       "    fig.send_draw_message();\n",
       "}\n",
       "\n",
       "mpl.figure.prototype.handle_image_mode = function(fig, msg) {\n",
       "    fig.image_mode = msg['mode'];\n",
       "}\n",
       "\n",
       "mpl.figure.prototype.updated_canvas_event = function() {\n",
       "    // Called whenever the canvas gets updated.\n",
       "    this.send_message(\"ack\", {});\n",
       "}\n",
       "\n",
       "// A function to construct a web socket function for onmessage handling.\n",
       "// Called in the figure constructor.\n",
       "mpl.figure.prototype._make_on_message_function = function(fig) {\n",
       "    return function socket_on_message(evt) {\n",
       "        if (evt.data instanceof Blob) {\n",
       "            /* FIXME: We get \"Resource interpreted as Image but\n",
       "             * transferred with MIME type text/plain:\" errors on\n",
       "             * Chrome.  But how to set the MIME type?  It doesn't seem\n",
       "             * to be part of the websocket stream */\n",
       "            evt.data.type = \"image/png\";\n",
       "\n",
       "            /* Free the memory for the previous frames */\n",
       "            if (fig.imageObj.src) {\n",
       "                (window.URL || window.webkitURL).revokeObjectURL(\n",
       "                    fig.imageObj.src);\n",
       "            }\n",
       "\n",
       "            fig.imageObj.src = (window.URL || window.webkitURL).createObjectURL(\n",
       "                evt.data);\n",
       "            fig.updated_canvas_event();\n",
       "            fig.waiting = false;\n",
       "            return;\n",
       "        }\n",
       "        else if (typeof evt.data === 'string' && evt.data.slice(0, 21) == \"data:image/png;base64\") {\n",
       "            fig.imageObj.src = evt.data;\n",
       "            fig.updated_canvas_event();\n",
       "            fig.waiting = false;\n",
       "            return;\n",
       "        }\n",
       "\n",
       "        var msg = JSON.parse(evt.data);\n",
       "        var msg_type = msg['type'];\n",
       "\n",
       "        // Call the  \"handle_{type}\" callback, which takes\n",
       "        // the figure and JSON message as its only arguments.\n",
       "        try {\n",
       "            var callback = fig[\"handle_\" + msg_type];\n",
       "        } catch (e) {\n",
       "            console.log(\"No handler for the '\" + msg_type + \"' message type: \", msg);\n",
       "            return;\n",
       "        }\n",
       "\n",
       "        if (callback) {\n",
       "            try {\n",
       "                // console.log(\"Handling '\" + msg_type + \"' message: \", msg);\n",
       "                callback(fig, msg);\n",
       "            } catch (e) {\n",
       "                console.log(\"Exception inside the 'handler_\" + msg_type + \"' callback:\", e, e.stack, msg);\n",
       "            }\n",
       "        }\n",
       "    };\n",
       "}\n",
       "\n",
       "// from http://stackoverflow.com/questions/1114465/getting-mouse-location-in-canvas\n",
       "mpl.findpos = function(e) {\n",
       "    //this section is from http://www.quirksmode.org/js/events_properties.html\n",
       "    var targ;\n",
       "    if (!e)\n",
       "        e = window.event;\n",
       "    if (e.target)\n",
       "        targ = e.target;\n",
       "    else if (e.srcElement)\n",
       "        targ = e.srcElement;\n",
       "    if (targ.nodeType == 3) // defeat Safari bug\n",
       "        targ = targ.parentNode;\n",
       "\n",
       "    // jQuery normalizes the pageX and pageY\n",
       "    // pageX,Y are the mouse positions relative to the document\n",
       "    // offset() returns the position of the element relative to the document\n",
       "    var x = e.pageX - $(targ).offset().left;\n",
       "    var y = e.pageY - $(targ).offset().top;\n",
       "\n",
       "    return {\"x\": x, \"y\": y};\n",
       "};\n",
       "\n",
       "/*\n",
       " * return a copy of an object with only non-object keys\n",
       " * we need this to avoid circular references\n",
       " * http://stackoverflow.com/a/24161582/3208463\n",
       " */\n",
       "function simpleKeys (original) {\n",
       "  return Object.keys(original).reduce(function (obj, key) {\n",
       "    if (typeof original[key] !== 'object')\n",
       "        obj[key] = original[key]\n",
       "    return obj;\n",
       "  }, {});\n",
       "}\n",
       "\n",
       "mpl.figure.prototype.mouse_event = function(event, name) {\n",
       "    var canvas_pos = mpl.findpos(event)\n",
       "\n",
       "    if (name === 'button_press')\n",
       "    {\n",
       "        this.canvas.focus();\n",
       "        this.canvas_div.focus();\n",
       "    }\n",
       "\n",
       "    var x = canvas_pos.x * mpl.ratio;\n",
       "    var y = canvas_pos.y * mpl.ratio;\n",
       "\n",
       "    this.send_message(name, {x: x, y: y, button: event.button,\n",
       "                             step: event.step,\n",
       "                             guiEvent: simpleKeys(event)});\n",
       "\n",
       "    /* This prevents the web browser from automatically changing to\n",
       "     * the text insertion cursor when the button is pressed.  We want\n",
       "     * to control all of the cursor setting manually through the\n",
       "     * 'cursor' event from matplotlib */\n",
       "    event.preventDefault();\n",
       "    return false;\n",
       "}\n",
       "\n",
       "mpl.figure.prototype._key_event_extra = function(event, name) {\n",
       "    // Handle any extra behaviour associated with a key event\n",
       "}\n",
       "\n",
       "mpl.figure.prototype.key_event = function(event, name) {\n",
       "\n",
       "    // Prevent repeat events\n",
       "    if (name == 'key_press')\n",
       "    {\n",
       "        if (event.which === this._key)\n",
       "            return;\n",
       "        else\n",
       "            this._key = event.which;\n",
       "    }\n",
       "    if (name == 'key_release')\n",
       "        this._key = null;\n",
       "\n",
       "    var value = '';\n",
       "    if (event.ctrlKey && event.which != 17)\n",
       "        value += \"ctrl+\";\n",
       "    if (event.altKey && event.which != 18)\n",
       "        value += \"alt+\";\n",
       "    if (event.shiftKey && event.which != 16)\n",
       "        value += \"shift+\";\n",
       "\n",
       "    value += 'k';\n",
       "    value += event.which.toString();\n",
       "\n",
       "    this._key_event_extra(event, name);\n",
       "\n",
       "    this.send_message(name, {key: value,\n",
       "                             guiEvent: simpleKeys(event)});\n",
       "    return false;\n",
       "}\n",
       "\n",
       "mpl.figure.prototype.toolbar_button_onclick = function(name) {\n",
       "    if (name == 'download') {\n",
       "        this.handle_save(this, null);\n",
       "    } else {\n",
       "        this.send_message(\"toolbar_button\", {name: name});\n",
       "    }\n",
       "};\n",
       "\n",
       "mpl.figure.prototype.toolbar_button_onmouseover = function(tooltip) {\n",
       "    this.message.textContent = tooltip;\n",
       "};\n",
       "mpl.toolbar_items = [[\"Home\", \"Reset original view\", \"fa fa-home icon-home\", \"home\"], [\"Back\", \"Back to  previous view\", \"fa fa-arrow-left icon-arrow-left\", \"back\"], [\"Forward\", \"Forward to next view\", \"fa fa-arrow-right icon-arrow-right\", \"forward\"], [\"\", \"\", \"\", \"\"], [\"Pan\", \"Pan axes with left mouse, zoom with right\", \"fa fa-arrows icon-move\", \"pan\"], [\"Zoom\", \"Zoom to rectangle\", \"fa fa-square-o icon-check-empty\", \"zoom\"], [\"\", \"\", \"\", \"\"], [\"Download\", \"Download plot\", \"fa fa-floppy-o icon-save\", \"download\"]];\n",
       "\n",
       "mpl.extensions = [\"eps\", \"jpeg\", \"pdf\", \"png\", \"ps\", \"raw\", \"svg\", \"tif\"];\n",
       "\n",
       "mpl.default_extension = \"png\";var comm_websocket_adapter = function(comm) {\n",
       "    // Create a \"websocket\"-like object which calls the given IPython comm\n",
       "    // object with the appropriate methods. Currently this is a non binary\n",
       "    // socket, so there is still some room for performance tuning.\n",
       "    var ws = {};\n",
       "\n",
       "    ws.close = function() {\n",
       "        comm.close()\n",
       "    };\n",
       "    ws.send = function(m) {\n",
       "        //console.log('sending', m);\n",
       "        comm.send(m);\n",
       "    };\n",
       "    // Register the callback with on_msg.\n",
       "    comm.on_msg(function(msg) {\n",
       "        //console.log('receiving', msg['content']['data'], msg);\n",
       "        // Pass the mpl event to the overridden (by mpl) onmessage function.\n",
       "        ws.onmessage(msg['content']['data'])\n",
       "    });\n",
       "    return ws;\n",
       "}\n",
       "\n",
       "mpl.mpl_figure_comm = function(comm, msg) {\n",
       "    // This is the function which gets called when the mpl process\n",
       "    // starts-up an IPython Comm through the \"matplotlib\" channel.\n",
       "\n",
       "    var id = msg.content.data.id;\n",
       "    // Get hold of the div created by the display call when the Comm\n",
       "    // socket was opened in Python.\n",
       "    var element = $(\"#\" + id);\n",
       "    var ws_proxy = comm_websocket_adapter(comm)\n",
       "\n",
       "    function ondownload(figure, format) {\n",
       "        window.open(figure.imageObj.src);\n",
       "    }\n",
       "\n",
       "    var fig = new mpl.figure(id, ws_proxy,\n",
       "                           ondownload,\n",
       "                           element.get(0));\n",
       "\n",
       "    // Call onopen now - mpl needs it, as it is assuming we've passed it a real\n",
       "    // web socket which is closed, not our websocket->open comm proxy.\n",
       "    ws_proxy.onopen();\n",
       "\n",
       "    fig.parent_element = element.get(0);\n",
       "    fig.cell_info = mpl.find_output_cell(\"<div id='\" + id + \"'></div>\");\n",
       "    if (!fig.cell_info) {\n",
       "        console.error(\"Failed to find cell for figure\", id, fig);\n",
       "        return;\n",
       "    }\n",
       "\n",
       "    var output_index = fig.cell_info[2]\n",
       "    var cell = fig.cell_info[0];\n",
       "\n",
       "};\n",
       "\n",
       "mpl.figure.prototype.handle_close = function(fig, msg) {\n",
       "    var width = fig.canvas.width/mpl.ratio\n",
       "    fig.root.unbind('remove')\n",
       "\n",
       "    // Update the output cell to use the data from the current canvas.\n",
       "    fig.push_to_output();\n",
       "    var dataURL = fig.canvas.toDataURL();\n",
       "    // Re-enable the keyboard manager in IPython - without this line, in FF,\n",
       "    // the notebook keyboard shortcuts fail.\n",
       "    IPython.keyboard_manager.enable()\n",
       "    $(fig.parent_element).html('<img src=\"' + dataURL + '\" width=\"' + width + '\">');\n",
       "    fig.close_ws(fig, msg);\n",
       "}\n",
       "\n",
       "mpl.figure.prototype.close_ws = function(fig, msg){\n",
       "    fig.send_message('closing', msg);\n",
       "    // fig.ws.close()\n",
       "}\n",
       "\n",
       "mpl.figure.prototype.push_to_output = function(remove_interactive) {\n",
       "    // Turn the data on the canvas into data in the output cell.\n",
       "    var width = this.canvas.width/mpl.ratio\n",
       "    var dataURL = this.canvas.toDataURL();\n",
       "    this.cell_info[1]['text/html'] = '<img src=\"' + dataURL + '\" width=\"' + width + '\">';\n",
       "}\n",
       "\n",
       "mpl.figure.prototype.updated_canvas_event = function() {\n",
       "    // Tell IPython that the notebook contents must change.\n",
       "    IPython.notebook.set_dirty(true);\n",
       "    this.send_message(\"ack\", {});\n",
       "    var fig = this;\n",
       "    // Wait a second, then push the new image to the DOM so\n",
       "    // that it is saved nicely (might be nice to debounce this).\n",
       "    setTimeout(function () { fig.push_to_output() }, 1000);\n",
       "}\n",
       "\n",
       "mpl.figure.prototype._init_toolbar = function() {\n",
       "    var fig = this;\n",
       "\n",
       "    var nav_element = $('<div/>')\n",
       "    nav_element.attr('style', 'width: 100%');\n",
       "    this.root.append(nav_element);\n",
       "\n",
       "    // Define a callback function for later on.\n",
       "    function toolbar_event(event) {\n",
       "        return fig.toolbar_button_onclick(event['data']);\n",
       "    }\n",
       "    function toolbar_mouse_event(event) {\n",
       "        return fig.toolbar_button_onmouseover(event['data']);\n",
       "    }\n",
       "\n",
       "    for(var toolbar_ind in mpl.toolbar_items){\n",
       "        var name = mpl.toolbar_items[toolbar_ind][0];\n",
       "        var tooltip = mpl.toolbar_items[toolbar_ind][1];\n",
       "        var image = mpl.toolbar_items[toolbar_ind][2];\n",
       "        var method_name = mpl.toolbar_items[toolbar_ind][3];\n",
       "\n",
       "        if (!name) { continue; };\n",
       "\n",
       "        var button = $('<button class=\"btn btn-default\" href=\"#\" title=\"' + name + '\"><i class=\"fa ' + image + ' fa-lg\"></i></button>');\n",
       "        button.click(method_name, toolbar_event);\n",
       "        button.mouseover(tooltip, toolbar_mouse_event);\n",
       "        nav_element.append(button);\n",
       "    }\n",
       "\n",
       "    // Add the status bar.\n",
       "    var status_bar = $('<span class=\"mpl-message\" style=\"text-align:right; float: right;\"/>');\n",
       "    nav_element.append(status_bar);\n",
       "    this.message = status_bar[0];\n",
       "\n",
       "    // Add the close button to the window.\n",
       "    var buttongrp = $('<div class=\"btn-group inline pull-right\"></div>');\n",
       "    var button = $('<button class=\"btn btn-mini btn-primary\" href=\"#\" title=\"Stop Interaction\"><i class=\"fa fa-power-off icon-remove icon-large\"></i></button>');\n",
       "    button.click(function (evt) { fig.handle_close(fig, {}); } );\n",
       "    button.mouseover('Stop Interaction', toolbar_mouse_event);\n",
       "    buttongrp.append(button);\n",
       "    var titlebar = this.root.find($('.ui-dialog-titlebar'));\n",
       "    titlebar.prepend(buttongrp);\n",
       "}\n",
       "\n",
       "mpl.figure.prototype._root_extra_style = function(el){\n",
       "    var fig = this\n",
       "    el.on(\"remove\", function(){\n",
       "\tfig.close_ws(fig, {});\n",
       "    });\n",
       "}\n",
       "\n",
       "mpl.figure.prototype._canvas_extra_style = function(el){\n",
       "    // this is important to make the div 'focusable\n",
       "    el.attr('tabindex', 0)\n",
       "    // reach out to IPython and tell the keyboard manager to turn it's self\n",
       "    // off when our div gets focus\n",
       "\n",
       "    // location in version 3\n",
       "    if (IPython.notebook.keyboard_manager) {\n",
       "        IPython.notebook.keyboard_manager.register_events(el);\n",
       "    }\n",
       "    else {\n",
       "        // location in version 2\n",
       "        IPython.keyboard_manager.register_events(el);\n",
       "    }\n",
       "\n",
       "}\n",
       "\n",
       "mpl.figure.prototype._key_event_extra = function(event, name) {\n",
       "    var manager = IPython.notebook.keyboard_manager;\n",
       "    if (!manager)\n",
       "        manager = IPython.keyboard_manager;\n",
       "\n",
       "    // Check for shift+enter\n",
       "    if (event.shiftKey && event.which == 13) {\n",
       "        this.canvas_div.blur();\n",
       "        event.shiftKey = false;\n",
       "        // Send a \"J\" for go to next cell\n",
       "        event.which = 74;\n",
       "        event.keyCode = 74;\n",
       "        manager.command_mode();\n",
       "        manager.handle_keydown(event);\n",
       "    }\n",
       "}\n",
       "\n",
       "mpl.figure.prototype.handle_save = function(fig, msg) {\n",
       "    fig.ondownload(fig, null);\n",
       "}\n",
       "\n",
       "\n",
       "mpl.find_output_cell = function(html_output) {\n",
       "    // Return the cell and output element which can be found *uniquely* in the notebook.\n",
       "    // Note - this is a bit hacky, but it is done because the \"notebook_saving.Notebook\"\n",
       "    // IPython event is triggered only after the cells have been serialised, which for\n",
       "    // our purposes (turning an active figure into a static one), is too late.\n",
       "    var cells = IPython.notebook.get_cells();\n",
       "    var ncells = cells.length;\n",
       "    for (var i=0; i<ncells; i++) {\n",
       "        var cell = cells[i];\n",
       "        if (cell.cell_type === 'code'){\n",
       "            for (var j=0; j<cell.output_area.outputs.length; j++) {\n",
       "                var data = cell.output_area.outputs[j];\n",
       "                if (data.data) {\n",
       "                    // IPython >= 3 moved mimebundle to data attribute of output\n",
       "                    data = data.data;\n",
       "                }\n",
       "                if (data['text/html'] == html_output) {\n",
       "                    return [cell, data, j];\n",
       "                }\n",
       "            }\n",
       "        }\n",
       "    }\n",
       "}\n",
       "\n",
       "// Register the function which deals with the matplotlib target/channel.\n",
       "// The kernel may be null if the page has been refreshed.\n",
       "if (IPython.notebook.kernel != null) {\n",
       "    IPython.notebook.kernel.comm_manager.register_target('matplotlib', mpl.mpl_figure_comm);\n",
       "}\n"
      ],
      "text/plain": [
       "<IPython.core.display.Javascript object>"
      ]
     },
     "metadata": {},
     "output_type": "display_data"
    },
    {
     "data": {
      "text/html": [
       "<img src=\"data:image/png;base64,iVBORw0KGgoAAAANSUhEUgAAAeYAAAFECAYAAADyR50qAAAgAElEQVR4Xu2dB3QVxRfGv9Br6CX03iKhlwAhCYSigCCgiIqooAIqSFcQC6A0KYpKEVCpKl1pElLpIbSE3nsgQDCUEErgf2bJ+xsj8Nq+3dl9357D8Rwz5c7v3ve+N7Mzcz3AhwRIgARIgARIQBoCHtJYQkNIgARIgARIgARAYWYQkAAJkAAJkIBEBCjMEjmDppAACZAACZAAhZkxQAIkQAIkQAISEaAwS+QMmkICJEACJEACFGbGAAmQAAmQAAlIRIDCLJEzaAoJkAAJkAAJUJgZAyRAAiRAAiQgEQEKs0TOoCkkQAIkQAIkQGFmDJAACZAACZCARAQozBI5g6aQAAmQAAmQAIWZMUACJEACJEACEhGgMEvkDJpCAiRAAiRAAhRmxgAJkAAJkAAJSESAwiyRM2gKCZAACZAACVCYGQMkQAIkQAIkIBEBCrNEzqApJEACJEACJEBhZgyQAAmQAAmQgEQEKMwSOYOmkAAJkAAJkACFmTFAAiRAAiRAAhIRoDBL5AyaQgIkQAIkQAIUZsYACZAACZAACUhEgMIskTNoCgmQAAmQAAlQmBkDJEACJEACJCARAQqzRM6gKSRAAiRAAiRAYWYMkAAJkAAJkIBEBCjMEjmDppAACZAACZAAhZkxQAIkQAIkQAISEaAwS+QMmkICJEACJEACFGbGAAmQAAmQAAlIRIDCLJEzaAoJkAAJkAAJUJgZAyRAAiRAAiQgEQEKs0TOoCkkQAIkQAIkQGFmDJAACZAACZCARAQozBI5g6aQAAmQAAmQAIWZMUACJEACJEACEhGgMEvkDJpCAiRAAiRAAhRmxgAJkAAJkAAJSETALYU5c+bMDwsWLCiRG2gKCZAACZCAGgTi4uLuAciiRlt6teGWwuzl5fXwwoULejFnvyRAAiRAAi4i4OHhEQegmIua16RZCrMmmNkJCZAACZCAFgQozFpQdkEfnDG7ACqbJAESIAEJCFCYJXCCIyZQmB2hxjokQAIkID8BCrP8PnqshRRmgzqOZpMACZCAFQIUZoOGCIXZoI6j2SRAAiRAYZYiBkYAeA1ARQAdAaxItWoxgBoAkgDcANAPwC5bLKYw20KJZUiABEjAeAQ4Y9bGZw0BxAOYA2BKGmF+AcBKAA8APA/gGwBlbTGJwmwLJZYhARIgAeMRoDBr67PwdMKctndxW4g4u5YdwH1rZlGYrRHi30mABEhAWwIPHjxEhgzOn+ClMGvrt6cJ82gA1QG0t8UkCrMtlFiGBEiABLQjMDPyOJbtOo/vXqmFCoVzO9wxhdlhdA5VfJIwvwlgKICmqUvej2t8IADxT3k8PT29EhMTHTKClUiABEiABNQn8NL0rdhz7m/s+bQFcmTJ5HAHFGaH0TlU8XHC3B3AcADNAJyztVXOmG0lxXIkQAIk4HoCCbfuou7oYARULow5b9RzqkMKs1P47K6cXpjFTPljAM0BnLWnNQqzPbRYlgRIgARcS2Bx9FkMXhKDMR2ro2v9Uk51RmF2Cp/NlT8H0BNAodRjUckAfAGcAnAeQEKallo+ZTn7/8UozDazZ0ESIAEScDmBd+ZGI/jgJWwf1hyFc2dzqj8Ks1P49KtMYdaPPXsmARIggbQEku+loNbIYFTxyo3lfRo7DYfC7DRCfRqgMOvDnb2SAAmQQHoCGw5cQs+50RjSujL6BFRwGhCF2WmE+jRAYdaHO3slARIggfQEPloag193nMWGAU2dOiZlaZfCbNAYozAb1HE0mwRIwFQExKUi9b8KQa6sGRE2KAAeHrxgRDjYeQoGDBMKswGdRpNJgARMR2Dn6WvoNG0L3vYri+FtqqkyPs6YVcGofSMUZu2Zs0cSIAESSE9g7NpDmB5xHL+/64v6ZfOrAojCrApG7RuhMGvPnD2SAAmQQHoCzSeG41rSPewYHoSMKtyTrSwDe3iIvAnFjEybS9lG9h5tJwESIAGDEjhx+SaaTYxA5zol8PWLIoOvOg+FWR2OmrfCGbPmyNkhCZAACfyLgEha8dWaQ5jRrQ5aeRdVjQ6FWTWU2jZEYdaWN3sjARIggfQEXpy+BTHnErHbyaQV6dulMBs01ijMBnUczSYBEjAFgas376DelxsQWLkwZjuZtILCbIqQACjMJnEkh0ECJGBIAr9Hn8WQJTEY27E6XnYyaQWF2ZAh8F+jKcwmcSSHQQIkYEgCb8+NxoaDlxA1LAiFcmdVdQxcylYVp3aNUZi1Y82eSIAESCAtgdt3U1Br1HpU8/LEMhWSVnDGbJL4ojCbxJEcBgmQgOEIBB+4BDFjHtq6CnoHlFfdfs6YVUeqTYMUZm04sxcSIAESSE9g6JIY/BYtklb4o0LhXKoDojCrjlSbBinM2nBmLyRAAiSQlkDKg4do8NUG5M6WGaED/VVJWsGlbJPEGIXZJI7kMEiABAxFYOfpBHSathXvNC2HYc9VdYntnDG7BKvrG6Uwu54xeyABEiCB9ATGrD2IGREnsLiXL+qVUSdpBWfMJokzCrNJHMlhkAAJGIpAs4nhSEy6hygVk1ZQmA0VAk82lsJsEkdyGCRAAoYhcPzyTTSfGIEX65TABBWTVlCYDRMCTzeUwmwSR3IYJEAChiEwI+I4xqw9hJnd6qClikkrKMyGCQEKs0lcxWGQAAmYhEDnaVsQe179pBUUZpMECGfMJnEkh0ECJGAIAldSk1Y0r1IYs7rXc6nN3JXtUryua5zC7Dq2bJkESIAE0hP4fcdZDFkag3GdqqNLvVIuBURhdile1zVOYXYdW7ZMAiRAAukJ9PwlGiGHXJO0gkvZJok3CrNJHMlhkAAJSE/AkrTCu1geLO3dyOX2csbscsSu6YDC7BqubJUESIAE0hOwJK346Nkq6OWvftIKzphNEnMUZpM4ksMgARKQnsCQJXvxe/Q5lyWtoDBLHwK2GUhhto0TS5EACZCAMwRE0or6X25AnuyZEToowJmmbK7LpWybUclVkMIslz9oDQmQgDkJRJ9KQOfpW/Fu03L42EVJKzhjNknsUJhN4kgOgwRIQGoCY9YcxIzIE1jSyxd1XZS0gsIsdQjYbhyF2XZWLEkCJEACjhJo9nU4Em+7NmkFhdlR70hWj8IsmUNoDgmQgOkIWJJWvFS3BMZ3rqHZ+PiOWTPU6nZEYVaXJ1sjARIggfQEpkccx1gNklZwxmyS2KMwm8SRHAYJkIC0BDpN24L9FxKxe0RLZM+SUTM7OWPWBvUIAK8BqAigI4AVqd0WBDA39f/fB9AfwDpbTKIw20KJZUiABEjAMQKXb9xB/a82oHmVIpjVva5jjThYi8LsIDg7qzUEEA9gDoApaYT5x9T/PxyAN4BQAOUA3LLWPoXZGiH+nQRIgAQcJ/DbjjMYujQW4zv54KV6JR1vyIGaFGYHoDlRJTydMN9MnS3Hpba5HsBMAEus9UFhtkaIfycBEiABxwn0/GUHQg7FY8fwIBTMldXxhhyoSWF2AJoTVdIKcwEAFwCk9bgQ5UMAJlnrg8JsjRD/TgIkQAKOERBJK2qOXI/qxfNgiQZJK9JbSWF2zG+O1rImzGJp++AThHkgAPFPeTw9Pb0SExMdtYP1SIAESIAEnkBg/f6LeGfeTnz8bBW8q0HSCgqzvqHIpWx9+bN3EiABErBKYPDivVi88xxCBvqjfKFcVsurXYAzZrWJPr299MI8G8BFAJbNX2Gpm7/Eu+enPlzKtkaIfycBEiAB+wn8P2lFjswIHahN0grOmO33kxo1PgfQE0AhADcAJAMQO7Xvph6XEgk+U1KXqlfb0iGF2RZKLEMCJEAC9hHYcSoBL4qkFf7l8PGzVe2rrFJpzphVAql1MxRmrYmzPxIgAXcg8NWag5gZeQJLe/uiTun8ugyZwqwLduc7pTA7z5AtkAAJkEB6AiJpxfXke9g+LAgZM3joAojCrAt25zulMDvPkC2QAAmQQFoCx+JvImhSBLrULYlxnX10g0Nh1g29cx1TmJ3jx9okQAIkkJ7AtPDjGLfuEH58vS5aVCuiGyAKs27oneuYwuwcP9YmARIggfQEOv6wGQfirmuetCK9HRRmg8YmhdmgjqPZJEACUhKwJK0IqlpEmTHr+VCY9aTvRN8UZifgsSoJkAAJpCPwa9QZfLQsFuM7++ClutomreCM2SThSGE2iSM5DBIgASkIiKQVoalJKwponLSCwixFCDhvBIXZeYZsgQRIgAQEgaS791FrZDB8SuTB4l6NdIfCpWzdXeCYARRmx7ixFgmQAAmkJ/DX/ot4V8ekFZwxmyQmKcwmcSSHQQIkoDuBQYv3YsnOcwgd6I9yOiStoDDrHgLqGEBhVocjWyEBEnBvAiJpRb0vNyBfjswI0SlpBYXZJDFIYTaJIzkMEiABXQlEnUzASzO2opd/eXz0bBVdbbF0znfMUrjBfiMozPYzYw0SIAESSE/gn6QVjVCndD4pAFGYpXCD/UZQmO1nxhokQAIkkJbAw4cP0WxiBG4k30fUsObIoFPSCi5lmyQuKcwmcSSHQQIkoBuBY/E3EDQpEi/XK4mxnfRLWkFh1i0E1O2YwqwuT7ZGAiTgfgR+CD+G8esOY9brdRGkY9IKCrNJYo/CbBJHPmYYt+7cR44sGeHhoU8uWPOS5chI4N8EXvhhMw7F3cDuT1sgW+aM0uDhO2ZpXGGfIRRm+3gZpfSOUwnoOnMbvn6xBjrUKm4Us2knCRiOQPyNZDT4KgQtqhbBTJ2TVnDGbLjwebzBFGaTODLNMMRGFHFsY8epa2haqRDmvlXffIPkiEhAEgKWpBUTOvvgRZ2TVlCYJQkKZ82gMDtLUL76kUcu4/U5UYphmTN6YNeIFsidLbN8htIiEjABgR4/70DY4XhEf9IC+XNmkWpEXMqWyh22G0Nhtp2VEUqK2XKH7zdj/4XreK1hafy85RS+f6U22vh4GcF82kgChiJgSVpRo0Re/N7LVzrbKczSucQ2gyjMtnEySqkNBy6h59xodK1fCn0CysNvfBg61CyGKS/XMsoQaCcJGIbAun0X0Wv+Tgx7rgreaVpeOrspzNK5xDaDKMy2cTJCqQcPHqLt1E04Fn8T4YMDUCxvdrSeEokLf9/GzhEtkDljBiMMgzaSgGEIDPx9L5buOoewQQEoWzCndHZTmKVziW0GUZht42SEUmti49BnwS509y2NL9o/o5g8cf1hTA09hoU9G6BRhYJGGAZtJAFDELif8kBJWlEgV1ZsGOAvpc0UZindYt0oCrN1RkYoITLbiNnxmYQkbBwSiMKe2RSzY879jee/24w3GpXB5897G2EotJEEDEHAkrSid0B5DG0tR9KK9OAozIYIpf8aSWE2qOPSmb1i93l8+NsevO1XFsPbVPv/X8VmMN8xociU0UMRbF42Yg5/cxT6E/hy9QH8uPEklvVphNql5EhaQWHWPy5UsYDCrApGXRsRS2otJkfi0vVkRXzF0lra55MVsZi/7QzW9vNDVS9PXW1l5yRgBgLiB2/g1+G4eSdFqqQVFGYzRBcACrPxHfl79FkMWRKD9wLLY3Cr/y6pRRy5jO5zojCgRSX0bV7R+APmCEhAZwJHL91QfgzLlrSCwqxzYKjVPYVZLZL6tHP3/gPll/v12/ewcWgg8ub47wUHd+6noM6oDcqu0T8/aKKPoeyVBExE4PuwY5jw12HM7l4XzasWkXZkfMcsrWuebhiF2aCOSzV7/rbT+GTFPvQPqoR+QU+eDb+3YBdWx8Zh68fN4JUnu7EHTetJQGcC4hKfwxflS1rBGbPOgaFW9xRmtUhq307yvRQETAhH8v0U5d3y067dtGwOG9XeG918y2hvLHskAZMQEEkr6n8ZglbeRTCjW12pR8UZs9TuebJxFGaDOg7AnE0nMXLVAeWohjiy8bQnMekeao8ORuMKBZnUwrgup+USEFgUdQYfL4tVMrd1rlNCAouebAKFWWr3UJgN6p4nmi3u6G06PhzAQ0QOCUSOLJmsDvGVH7dBpINkUgurqFiABJ5I4K2fdyBc0qQVXMo2SeByxmxMR06POI6xaw/hkzZV0dOvnE2D+GnzSXzx5wF890ottPUpZlMdFiIBEviHwK0791FrVDBqSpq0gsJskmilMBvPkTfv3IffuFBkyZQBEYMDkS1zRpsGcTYhSUlq0b5mMXzDpBY2MWMhEkhLYN2+OPSavwvDn6uKt5va9oNYT4JcytaTvhN9U5idgKdT1akhRzEx+Agc2cjFpBY6OY3dmoLAgN/3YNmu8wgfFIAyEiat4IxZvjB7DsBoACKFUGYAUwFMt2YmhdkaIbn+LjZxNRkfCs9smRE6yB9ZM9k2W7aMYtL6w/g29BgW9GygbATjQwIkYBsBS9KKgrmyIljSpBUUZtt8qVUpIcYJAJqKvAUAxAvEowDEwdYLTzOCwqyVi9Tpx5Italyn6uhSr5TdjcaeS0S77zYxqYXd5FjB3QlsP3EVXWZuU/KcD5E0aQWFWa4oFdOmqwCeBxAJoDKACACVAFynMMvlLEetSbh1V3m3XDD3ozRzjuRXFnf8NhobigweHtg0lEktHPUF67kfgdGrDmDWppNY3qcRakmatILCLF9ctgCwEEASgAIAXgOwwpqZnDFbIyTP38esOYgZkScwuUsNvFDL8fOTI1bsw7xtp7Gmrx+qFWNSC3k8TEtkJSB+0AZ8HY6kuynY/nFzZMjgIaup/7KLm7/0dZM4xLoBwBcAwgA8AyAYQAMAZ9KZNhCA+Kc8np6eXomJifpaz96tEhC3DTUdH4YS+XLgrw+bIqMTXwyWpBbWrvG0ahQLkICbEDhy6QZaTo5E1/olMaajj2FGTWHW11XiXjgxWxZL15ZHCPNMAIufZhpnzPo6ztbeP/9jP37ecgrfv1IbbXy8bK322HKWpBZlCubAqg/8nGqLlUnAHQhYklbMeaMumlWRN2lFel9QmPWNThEpxwE0BLAPgFjn3AUgAMABCrO+znG29wt/31buxC5XKKey/KzGMtp7C3dhdUwctnzUDMXyMqmFsz5ifXMTEEkrxKxZ3Jpn670BMhChMOvvha4AhgF4AEBsBpsMYLY1szhjtkZI/78PWx6LhdvPYGa3OmjpXVQVg1buOY9+v+5x6Cy0KgawERIwCIH468mo/1UIWnsXxfRudQxi9SMzKcyGctc/xlKY5XacuK1L5FsWm7RWvtdYfNBUMTjx9j3UGRUM3/IFMK+H2IrAhwRI4HEExI9i8eN44os10EnypBXp7acwGzSmKcxyO27w4r1YvPMcfn6zHgIqF1bV2FdnbUPUyQTsHNFCubCEDwmQwH8JvPlTFMSGyZ2ftEC+nFkMhYjCbCh3ccZsBHeduHwTQZMiULtUPizu5avabNkydktSi6lda6FdDSa1MEJM0EZtCfw/aUXJvPj9XV9tO1ehNwqzChD1aIIzZj2o29Znv193Y+WeC1j4dgM0Kq/+9ZnnriWhybgwPF+jGL7tWss2o1iKBNyIwNrYOPResMuuLG4y4aEwy+QNO2yhMNsBS8Oihy/eQOtvItGwbAEsekdstnfN8+w3GyEEWuw2deQmMddYxVZJQA4ClqQVEYMDULpATjmMssMKCrMdsGQqSmGWyRv/2NJ7/k6s3XcRS3r5om6Z/C4zclLwEXwbchTzezRAk4rqz8pdZjgbJgEXExBJK+p+uQGFc2fF+v7+Lu7NNc1TmF3D1eWtUphdjtjuDvadT0TbqZvgX6kQfnmrvt317alg6euNRmXw+fPe9lRlWRIwNYFtJ67i5Znb8F5geQxuVcWQY6UwG9JtAIVZPsf1+HkHQg7F44/3G8OnRF6XGsikFi7Fy8YNTGDUqgOYvekkVrzXGDVLuvZz6CpMFGZXkXVxuxRmFwO2s/ndZ67hhR+2oEW1IvjxdXHTqusfS1KL1X2bwLtYHtd3yB5IQHIC4ger/4RwJN9LwTYDJa1Ij5XCLHmgPck8CrNcjus2ezs2Hr2Ctf38UNVLm8xPkUcu4/U5UfgwqCI+DEp73bpcbGgNCWhFQGy+bDVFJK0ohTEdq2vVrer9UJhVR6pNgxRmbTjb0ou47OOlGVuVJBUiWYVWz937D5RbwEoVyIHVfZnUQivu7EdeApakFT+9UQ+BVdS92EfLUVOYtaStYl8UZhVhOtGUWDrrMnMbok8lYH3/pqhQOLcTrdlf9f2Fu7AqJg6bP2qG4kxqYT9A1jAVgfbfb8ZRAyat4FK2ScKQwiyHIzcdvYLXZm9Hx1rFMalLTc2NsiS1GNneG6/7ltG8f3ZIArIQuHQ9GQ2+CsGzzxTFtNeMlbSCwixLFDlpB4XZSYAqVBez5Y7TtiDmXCJCBvijTEHtLzJgUgsVHMkmTEFgwfbTGL58Hya9VAMda4sMusZ9uJRtUN9RmPV3XOihS3jr52i8XK8kxnby0c0gJrXQDT07lojAGz9FKRswo4cHGS5pBWfMEgWSM6ZQmJ2h53xdMVtu990miF2gYYMCUCJfDucbdbCFnzefxOd/HlDuzRb3Z/MhAXcjcPPOfdQeGYxapfLiNwMmraAwmyRiKcz6OnLdvovoNX8nujUsjVEdntHVGEtSC5FpSmSc4kMC7kbA6EkrKMwmiVgKs36OfPDgIUQSiVNXbyFySCCKeGbTz5jUnp/7ZiPOJiQpOZqzZMqguz1qGrAq5gL+2n9JzSYdbqtAziz4+LkqyJopo8NtsKL6BAb8tgfLdp9H5OBA5fig0R++YzaoBynM+jnuj70X0HfRbvRoUhYj2lbTz5A0PU8OPoJvTJjU4srNO2g6PgxJd1Ok4CyM+OJ5b3RvxB3wsjgk6e591P8yBCXyZce6D5vKYpZTdlCYncKnX2UKsz7sReaalpMjEZeYjI1DA1EwV1Z9DEnXqyWpRXff0viivb5L62oCGb3qAGZtOomJL9ZQLnDR87l9NwXNJ0UgYwYPZWaWPQtnzXr6w9L3kp3nMGjxXuVHsvixbIaHwmxQL1KY9XGc5Uugd0B5DG0tT+YasRmt8dhQBYq4bMTDw0MfQCr2Ks6litly6QI5sLZfU0UQ9X5+jDyBL9ccxPDnquLtpuX0Nof9A3hp+lbsPnsN24cFIX/OLKZgQmE2qBspzNo77l7KAzSbGI5rt+5h45BA6Y5kfLpyH+ZuPY1VHzTBM8WNn9Tis5X78MvW05j2am08W13f2bIl2sSsuemEMKQ8eKjEQM6smbQPRPb4fwInLt9Es4kReK56UfzwqrEvFUnrVgqzQYOcwqy94xZuP4Nhy2PRr3lF9G8hX9KIjUcvo9vsKGnts8dj5/++jcAJ4ahQOJfyQyODBLNli/2W42mDW1XGe4EV7BkWy6pMYNy6Q5gWfhw/v1kPAZWNezd2eiwUZpUDRavmKMxakX7Uj0gjF/h1uLIJSbxb9syWWVsDbOjNktSiZP4cWNPP2EktPl4Wg0VRZzG7e100r1rEhtFrV+TO/RTlR8MtiWNBOxr69ST2ezQaG6q84tg0tJkUrzrUokFhVoukxu1QmLUFbpRZ0geLduPPvRcMndTi9NVbaD4xQlmOX96nkZTvy2VfPdH206FPbyEHL6HHL9H4oFkFDGxZWR8jXNQrhdlFYF3dLIXZ1YT/ad/yXlGcXxbnlmV+r2g5ymXkIz0Dft+DZbvOY16P+vCrWEg7R9vRk9hvIH48JNy6K+V+AzuGYtii786LVs63m+XsclpHUJgNGpYUZu0cZ6SduJakFg3LFcD8ng20g6RST8fib6Ll5AjULZ0fv73bUMrZsmWosu7QV8kVUjdz+cYd+I4JQb0y+bHonYZS2+qIcRRmR6hJUIfCrI0TxB284shOpgweiDDI2dXXZm3HthNXlVvA8mSX71340zxnyS/96zsNIX5cyPykPdMuVlIK5ZbjTLvMzNSyzfJjeUqXmuhQq7hazUrTDoVZGlfYZwiF2T5ejpb+PuwYJvx12FC3Pf2y5RQ++2M/vnm5JtrXNM6X1qGL19F6ykY0qVDQMLN9GW+BczTWjVJPnNlvMTkS4pz7juFByJbZfBe9UJiNEo3p7KQwu95xYlnYb1wocmXNhLDBAYa5H1kcNRKXjbT18cJ3r9R2PSiVerC8M1zWpxFql8qnUquubSbtveliRaVoHv3vTXftiPVvfefpa+g0bQtea1gKoztU198gF1hAYXYBVC2apDC7nvKk4CP4NuQoxnSsjq71S7m+QxV7aPPtRpy5apykFrHnEpU0ms2qFMacN+qpSML1TcmUacz1o9W/h4+WxuDXHWfxx/uN4VMir/4GucACCrMLoGrRJIXZtZSv3boLv/FhyhV/IQP9kTmjsTI2TdlwBFM2HJV6Z3NaD775UxTCDl825K1lMuXmdu2nQv/Wb90RCSs2QJzVX9vPT+rNgc7QojA7Q0/HuhRm18Ifu/YQpkccV5IndKpTwrWduaB1S1KL131LY6TkSS0sS5OtvItgRre6LqDh+iZDD13CWz9Ho0vdkhjX2cf1HbppD4ujz2Lwkhh82rYa3jJJworHuZLCbNAApzC7znHiKIbYie2VNxuC+/sb8kYhMYtrMi4M4r+yJ7V4ddY2bDl+VZkBVSnq6TrHurBlwbnjtC2IOZeIkAH+KFMwpwt7c9+mX5y+BXvPJmL7sObS3VWvplcozGrS1LAtCrPrYI9adQCzN53E1K610K5GMdd15OKWLUkgZE5qsfX4VXT9cZvCWfA28rPp6BW8Nns7OtYqjkldahp5KFLabklY0aa6F75/1TibGh2BSWF2hJoEdSjMrnHCxcRkJXtQuYI5saavn1TJE+wdsUUo+javiAESJt0Qs8yXZmyFWMoOHuCP8oVy2TtEqcqL8XSZuQ07TiUguH9TVCicWyr7jG6M5fXSL2/Vh38lOW+EU4sxhVktko63IxKIjgfQRuRKAHASwPPWmqMwWyPk2N9HrNiHedtOY0a3OmjlXdSxRiSpJa6NrD0qGCXyPdooI9sTeeQyXsFrBaIAACAASURBVJ8ThU61S2DiSzVkM88he7afuKqIcxsfL3xvoKNqDg1Ww0riMhffsaHInMEDG02WsOJxGCnMGgbXE7r6GkAOAO8DeABAqMFFa2ZRmK0Rsv/v564lKRmkxHtOcRTDw8PD/kYkq9F30W6ISzA2DQ1UBFqWR8wuO/ywBfvPJyJ0YABKFZDHNmcZdZu9HRuPXlF+DFX1MuY7c2cZqF1/w4FL6Dk3Gn2bVcAAkyWsoDCrHS3Otye+jYQIi22/1+1pjsJsDy3byg5dEoPfos/ipzfqIbCKOXK7Wm6m+rxdNbzRuKxtIDQoZfmiFefDxTlxMz27z1zDCz9sQYtqRfDj68bcZS6bP96eG43gA+ZMWEFhli3aAHGu4k8ACwC0AHAXwBgAq6yZSmG2Rsi+v5+6cgvNJ0WgRok8WNpbzlSD9o3oUenryfdQZ1Qw6pfNjwU95bjsX9yW1XbqJoiEFeGDA1Asb3ZHhiZ1nR4/70DIoXhTX4KhlQPibyTDd0woGpTNj4VvyxHDrh47l7JdTfjp7dcBEA2gB4A5AKoAiAQgou9EuqoDAYh/yuPp6emVmJior/Um6r3/b3uwfPd5LOjZAI0rFDTRyACxtCp2P8uS1GJNbBz6LNiF7r6l8YXkZ6wdDQTLOXKxSUlsVuLjOIEZEccxZu0hw9397viIIV6jxQEw7pEQAEZ+ESgUIB6AuGBXzJbFEwxgBoAlT3MsZ8zOhP2/6x69dAMtp0Qqv8gXvS13qkFHRj136yl8ulKOpBYpDx6i9ZRInElIUvIYF/Y0793SvefvxNp9F7G0ty/qlM7viOvcvo7YixA0KQLxN+6YNmHF45xMYdY/9NcCmAbgDwBeAHYD8AdwmMKsjXPeW7ALq2PjsLiXr5Lf1WzPhb9vo9HYUCl2Cq/ccx79ft2Dt/3KYnibamZD/a/xHLl0A62mRMK3XAG3WYJV26E7Tyeg07St6NawNEZ1eEbt5qVtj8Ksv2vKAJgNQOw2eghgXOo756daxhmzOo47cOE6nvt2I/wqFsS8Hg3UaVTCVtpO3YhTV5Kwa0QLZMmkz73f4siLJV2fmC0XyGX+/MX9ft2NlXsuYOHbDdCovLlekWgR5pYNmX++3wTVS+TRoksp+qAwS+EG+42gMNvP7HE1LLs9V7zXGDVLmjNTjRi3JanF3Lfqo6lOlzP8Hn0WQ5bE4L3A8hjcSmynMP8jbqsSS7EijaVYkTHDETytvGZJWFGqgLjsp4lbsaMwaxVlKvdDYXYe6N6zf6P995sRVLUwZnU3VqpBe0e//0Ii2ny7Sbclwbv3HyhnxK/fvoeNQwORN4e4V8c9nkGL92LJznPKJjCz31ilpkctP+Q+a1cNb0p01E/NMT6pLQqzFpRd0AeF2Xmo3edEIeLIZazu2wTexcy9TGZJavHg4UNs+aiZ5rOP+dtO45MV+9A/qBL6BVV03nkGauFswqOLa6oV88TK98xxcY0W+DunJgUxe8KKx7GkMGsRYS7og8LsHNToUwnoPH0rnqteFD+8Kk6tmf/5/I/9+HnLKWj9vi75XgoCJoQj+X6KshM7d7bM5oedboTDlsdi4fYzyoUj4uIRPk8nIM64i1cA7nq1KYXZoJ8QCrNzjus6cxu2nbyKvz5sikpF3CPZwOZjV/DqrO2aX2s4Z9NJjFx1AENbV0HvgPLOOc6gteMSb8N/QrgpkqNo4YIxaw9iRsQJ6LknQotxcilbT8ou6JvC7DjULceu4JVZ29GhZjFMednYqQbtoaBHUovbd1PgNz5MOXAQOSQQObJkssdkU5W1rFiI5BZiJsjn8QREnIqbvrJkdI+EFVzKNtEngcLsmDPFu1axhL3n7N/YMMAfZd0sob0lqYVYUi6Z3/WJIyy3Nn3Spip6+pVzzGkmqSWulmw6PkxJJiJWajJmMPLdSK5zirgTW5yWkDVdqetG/k/LXMrWgrIL+qAwOwY1/HA83vhpB16sUwITXjRHqkF7SPy59wI+WLQbWux0vXnnPvzGhSrnpiMGByJb5oz2mGrKsmPWHMSMyBOY3KUGXqglctfwSU+g5y/R2HDwkrIfQYsfjzJ6gMIso1dssInCbAOkdEXEbFkcjzoYd11JNeiOH/obyfeUHM3ihjNXJwSYGnIUE4OPYFR7b3TzFffo8Em4dVf5sVIod1YED/BH5oz6XPYiqycsCSsalpMn6YoerCjMelBXoU8Ks/0Q1++/iHfm7cSrDUrhyxfMlWrQHhoiqcWW41ex65MWyJPDNTukE5Puocn4UHhmy4zQQf7ImomzZYuPvv7rML4LO4ZxnaqjS71S9rjO9GWnRxzHWDdLWPE4p1KYDRrqFGb7HCdSDYqrN09cuYWIwQHwymO+VIO2Epm39RRGrNyPKV1qokOt4rZWs6vcxPWHMTWU4vM4aGl/tIQNCtDtilS7HKpBYbGiJVKvXrlxB1HDg9z61QeFWYOAc0UXFGb7qK6KuYD3F+7Gm43L4LN23vZVNllpcXRH7Hp11RlRy3JtwdxZlQ12XK79bwB9G3IUk8Qyf4dnlNvY+ACWuwVe9y2NkSZNB2qrnynMtpKSrByF2XaHiFSDIsvPuWtJypGdwrnNm2rQViqWpBY7RwSpvszMDU7WvSDe9Ysd2twY9w+rwYv3YvHOc1j1QRM8U9zcN/FZixAKszVCkv6dwmy7Y5bvPof+v+3Fu/7l8PGzVW2vaOKS32w4iskbjqh+fzOPBNkeNJb3qSPaVkOPJmVtr2jCkmIHf/0vN6CMSFjRz8+EI7RvSBRm+3hJU5rCbJsrxGUF4mo/8d5q49BmyJ/TfZInPI2QJd3law1LYXQH9TbCWS7R+O6VWmjrU8w2J7lpqaS795VZs3jc/fKV33acwdClsfi8XTW84WYJKx4X/hRmg34pUJhtc5zlA/9BswoY2LKybZXcoJQlqYVY5t/6sTpJLZRrJ8eHo1whkabPDxl4gYbVSOJ1pY8QdZq2BbHnEhE1vLlbZR57UoBQmK1+dOQsQGG27pc791PQ7OsIiPd5YracJ7trjgZZt0TOEpbZ7R/vN4ZPCedzUQ9fHosF289gZrc6aOldVM5BS2YVE3wAx+JvIGhSJNr6eOG7V2pL5iF9zKEw68Pd6V4pzNYRWo4FDWxRCR80d69Ug9bpAJY7w/s2q4ABTq4mMLWhLcQfX8adU2IKIpbNgvN61IdfxUKOgzRRTQqzQZ1JYX6648RMxH9CGO7ef6DMlnNldd/kCU8iJd6/1xkVjGJ5s2Pdh02d+iRYdtT+/GY9BFQu7FRb7lZZxGizieFIvH0Pm4Y0c9mlLzJyfZSwIkQ5GSCu4OTrj0deojDLGK022ERhfjqkWRtPYPTqg/j42Sp41989Uw3aEEbo9+turNxzwal7iU9cvokWkyNRs2ReLOnlK75UbOmaZdIQ+H3HWQxZGoP3AytgUCv32QthuY2vX/OK6N+iEmMilQCF2aChQGF+suP+2e3qoQhO9iy8DvJJtCwXr3zathrecvDIjkXcF77dAI3KFzToJ0pfs++nnh6IF6cHhgSiQK6s+hqkUe89f9mBkEPxiBzsvgkrHoeawqxRAKrdDYX5yUSnhR/HuHWHNMmgpLZftW7PktSibun8WPROQ7u7P3LphnJ5S8OyBRyqb3eHJq6wYvd5fPjbHrzTtByGPWf+8/bx15PhOzYUvuUKYH7PBib2rP1DozDbz0yKGhTmx7tBCI3f+DBkz5wR4h5iphq0Hq6vz4nC5mNXsPOTILuPqvSevxNr911UlrDrlslvvTOWeCIBcXSt9ZRInElIUmbNhT3NfUOd5Qf0t11r4fkaPPOeNjAozAb9oqAwP95xlhutRnd4Bq/xDmKbonvettMYsWKf3Ukt9l9IRJtvN8G/UiHlBjE+zhNYExuHPgt24Y1GZfD58+a9011JWDExAldv3cX2Yc35Azpd6FCYnf8s6dIChfm/2P9OErluw5RdrSLfsriHmI91Av9PalHdC9+/avs5UvF+cMPBeKx8rzFqlHT+HLR1S81fQmRBazN1E47H30T44ABlx7wZnx2nEvDi9K3o7lsaX7h5worH+ZfCbNCopzD/13ET/jqE78OOY3xnH7xUt6RBPauP2e2mboLYXb3r0xY2JbXYfeYaXvhhC1pUK4IfX6+rj9Em7XXDgUvoOTcaXeuXwpiO6l2XKhOuQYv3YgkTVjzRJRRmmaLVDlsozP+GdfXmHeXdchHPbAju3xSZMnK2bEc4wZKG0NZzyN1mb8fGo1ewtp8fqnp52tMVy1ohIJZ5O/ywBfvPJyorP6UK5DAVM5Gwot7oDcrVrav7MmEFZ8wmCm8K87+d+eXqA/hx40l883JNtK9Z3ESe1mYoB+Ou49lvNuLVBqXw5QtPn6VFnUzASzO2oo2dS9/ajMQcvUQcuYzuc6LQuU4JfP1iDXMMKnUUv0adwUfLYvHF897o3qiMqcam1mA4Y1aLpMbtUJj/AS6OXYjZcqn8OZQbrDIyeYLd0ShmaYKhuIlp60fNn3gDkyj38sxtEO8I1/dvigqFc9vdFytYJyA4ix8/O09fQ/AAf5QvlMt6JYOU6PjDZuy7cB1Rw5iw4kkuozAbJJjTm0lh/oeIJRnDtFdr49nqXgb1qP5mf/Hnfvy0+dRTN3OJY1WvztqOF2oVx+QuNfU32sQWbD1+FV1/3KYcJRJHiszwWBJWtKtRDFNNMiZX+IXC7AqqGrRJYX4E+fzftxE4IRwVCufCqg+a8K5dJ2LPktTiSSkyxSyu47QtiDmXiJAB/ihTMKcTvbGqLQRenbUNW45fxbp+TVG5qPFXJ75acxAzI09gfo8GaFKRt8RxxmzLp8BAZSjMj5z18bJYLIo6g1mv10VQtSIG8qB8plpLahF2KB5v/rwDXeqWxLjOPvINwIQWiaVskau4tXdRTO9Wx9AjZMIK293HGbPtrKQqSWEGzlxNUrLyeBfPgxV9GjF5ggoR+uGvu7HiMUktxGy53XebcPjiDeVGtRL5zLVTWAV0LmvijZ+iEH74srIi9EzxPC7rx9UNr9t3Eb3m78SHQRXxYRATVjyNN4XZ1dHoovYpzMDA3/di6a5zmPtWfTStxDyuaoTa6pg4vLdwF0a0rYYeaZJaWL5UuzUsjVEdnlGjK7ZhI4HYc4nKj6JmVQpjzhv1bKwlX7EeP+9A6OF45bpR/rB7un8ozPLFr00WubswHxepBidFQCRf+O3dhpwt2xQ11guJM6a1Rwajdum8+PUdX6WCuI1KHKU6efWWkgWoaB5z3+FsnZL2Jd6ZG431By5hWZ9GqF0qn/YGONnjJZGwYkwIGlcoiHk9mLDCGk4KszVCkv7d3YX5g0W78efeC/j1nYZoWK6ApF4yplnpk1r8sfcC+i7arcygxUyaj/YEDl18dM68cfmChszE9EP4MYxfd1jZiS12ZPPhjNmUMeDOwmz5kmpUvgAW9LQ/VaEpA0LFQVmSWkzuUgPtfIqh5ZRIxP2djI1DA1HQTfIEq4hTtabeX7gLq2Li8Ns7DdHAQD9Gxf6EZhMjkMCEFTbHAmfMNqNyecE3AcwB8AKAFdZ6c2dhfndeNP7afwlLezdCndLGW9az5lu9/34xMRkNx4TguepF0bxKEQxcvBe9/Mvjo2er6G2aW/d/LP4mWk423usby01xZs+YpWZwUpjVpOl4W6UBLALgAWAchfnJIPedT0TbqZsQWLkQfnqTqQYdD7mn13z+u0cZjvLnyoJrt+4pG3by5cziqu7Yro0EBvy+B8t2nce8HvXhV9EYGx4tmzRX920C72LG3VVuo4tUKUZhVgWjU42IbAvrAQwFMBHAFArzk3m+JXZ2HorHn+83QfUS/JA7FXlPqTw15CgmBh9RSvRtXhEDWvB4i6tY29Pu6au3lGXh6sXzYLkBjgjeSL6H+l+GoHzhnFj1ARNW2OprCrOtpFxXbhAAcaXPZwDCKcxPBm25bKGVdxHM6MZUg64LSUC8x289ZSPyZM+MyCGByn/5yEHg42UxWBR1Fu8HVlB+NMmcd1xc/iMuARrZ3huv+zJhha0RRGG2lZRrynkDmA1A/JS8Z0WYBwIQ/5TH09PTKzEx0TVWSdrqa7O2Y/PxR6kGqxRlqkFXukls2Ply9UHUKpUPbXx4/7grWdvbtjh6JO7QPnH5FqoUza3kH/cpkdfeZjQp3+H7zTgQdx07hgUhTw7+uLMVOoXZVlKuKdcbwKcA7qQ2XxTAdQAjAXz3tC7dbfPXthNXlaxGvPzeNYHIVo1FIPleipJDe0bkCYgfUW/7lVNu08qeJaM0Azly6QZaTo40VRIOreBSmLUibVs/XMp+DCfxxdNlxjZEn04wXQo828KCpUjg8QTEZsghS2KUWWmZAjkwtpOPNOf6R686gFmbTmJBzwbKxSJ8bCdAYbadlRYlKcyPobzx6GV0mx2FjrWLY9JLTDWoRSCyD+MQEMkhRMamb0KO4u79B3i1QSnlaFvubPotHQs7xE1fYgYvbovLwBzpdgUUhdkuXPIUdpelbDFb7vDDFuw/n4iQgf4oXYCpBuWJQloiEwFxzvmjpTGIPn0NXnmy4csXnkGzKvpkXFu3Lw695u9C/6BK6BdUUSZMhrCFwmwIN/3XSHcR5pCDl9Djl2h0rV8SYzoy1aBBw5Vma0RA3Gsubm4bt+4Qku6moH3NYvi0bTUU0PjGNnGsMexwPDYNbYbiebNrNHrzdENhNqgv3UGYxZeMyKpz9NJNhA0O4AfcoLFKs7UncO5aEoYt34fII5eRP2cWfP68N9r5eGmS7EXcHNdoLBNWOON1CrMz9HSs6w7CvDY2Dr0X7EJ339L4oj1TDeoYbuzagATEa6Clu85j1KoDSLx9D0FVC2N0h+ouzw72fdgxTPjrML57pRba+jBhhSOhQ2F2hJoEdcwuzClKqsFInL6apFwHWdiTqQYlCDuaYEAC8TeS8fkf+7Em9iJyZ82EYW2q4uV6JV0yexY/BgK/Dsfft+9h+7DmyJpJnuNbRnIdhdlI3kpjq9mFeeWe8+j36x687VcWw9sw1aBBw5RmS0RAbMgasXI/Lt+4A99yBTCmY3WUKajuZkrLfQNMWOGc4ynMzvHTrbaZhfl+ygO0mBwJccORmC1rvXFFN6eyYxJwMYHEpHsYvfoAFu88h2yZM2Bgi8p4q0lZZFTpOJMlycaavn6oVoy38znqTgqzo+R0rmdmYV4cfRaDl8SgT0B5DGnNVIM6hxq7NyEBcTeAuMP63LXbqFEiD8Z3roHKRcWV/Y4/15WEFRtQsXBu/PlBE8cbYk3xmiEOgKFf0ItUiW73mFWYxcUEzSaGQ/yy3zg0EHlzMNWg2wU3B6wJgVt37iubtH7ZegqZMnigT0AFvBdYweGkGAu3n8Gw5bEY1d4b3ZiwwikfUpidwqdfZbMK84LtpzF8+T58GFRRufuXDwmQgGsJ7DydoFzrefzyLVQqkkuZPdcsaX9SjPbfb8ahuOuIGh7EbGROuozC7CRAvaqbUZjFxfxiR+fteylKqkFPHa8U1Muv7JcE9CAgPnvimNO08ON48PAh3mpcFgNaVkKOLJlsMufwxRtoNSVSudDkm5dr2VSHhZ5MgMJs0OgwozD/tPkkvvjzAIa0rqwsq/EhARLQlsCBC9cxdGkMYs8nolT+HBjbsToa2ZCAQpyVnr3pJBb2bGBTeW1HZbzeKMzG85lisdmE+fbdFPiND1NS2InZcs6stv1SN6j7aDYJSEtAnIoQWaEmBx/BnfsPlDPPHz9X9YnL02JfSMMxIciZNSMiBjFhhRqOpTCrQVGHNswmzDMijmPM2kP4pE1V9PQrpwNRdkkCJJCWwInLIilGLKJOJaCIZ1bl1rAW1f6bFMNyQ9+AFpXQtzkTVqgRRRRmNSjq0IaZhPnmnfvwGxeq7AaNGByIbJl5W5AOIcUuSeA/BMR99QuizmDsmoO4dTcFbX28lHu3C6ZJivHmT1EIP3KZCStUjB8Ks4owtWzKTML8XehRfL3+CEa298brPGahZRixLxKwicD5v29j+PJYhB++jHw5MuOzdt7KRq9L1+8oCSuaVCyEuW/Vt6ktFrJOgMJsnZGUJcwizOJyfTFbFkndQwf5825dKaONRpEAlP0fK/acx8g/D+Ba0j0EVi6kbBD7ZetpfP9KbbTx8SImlQhQmFUCqXUzZhDmeykP8Nkf+yEuJhC7P1+uX0prjOyPBEjATgJXbt5RkmKsihGXU0GZQW9jwgo7KT69OIVZVZzaNWZ0Yd53PlE5lrH/wnVU9fLEH+83RuaMGbQDyJ5IgAScIrB+/0WMXXcIL9UtiV7+5Z1qi5X/TYDCbNCIMKowi4sMpoYexfSIE8rSmNiB3T+oErJn4YYvg4YizSYBElCZAIVZZaBaNWdEYY4+lYAhS2Nw4vItVC6SG+M6+zh09Z9WjNkPCZAACehBgMKsB3UV+jSSMKe/LP/9wIroHVDe4cvyVcDHJkiABEhAWgIUZmld83TDjCLMEUcuY9iyWIjjFuJi/PGdfVCpiHPp5QzqMppNAiRAAjYRoDDbhEm+QrIL899JdzFq1UEs3fUoIfuglpXxZmP1ErLL5xFaRAIkQALqEKAwq8NR81ZkFmZxRd+IlfshjlU0Kl8AYzv6oFSBHJozYockQAIkYEQCFGYjek3SJBbx15Px6cr9WLf/InJny6Tcey2OUnh4eBiUMs0mARIgAe0JUJi1Z65KjzLNmMWxpyU7z0GkfruefF+56H50h2dQxDObKmNlIyRAAiTgTgQozAb1tizCfDYhCcOWx2Lj0SsokDMLvmjvjTbVvThLNmhc0WwSIAH9CVCY9feBQxboLcwpDx5i7tZTmPDXYSTdTcELtYrj07bVkC9nFofGw0okQAIkQAKPCFCYDRoJegrzsfgbGLo0FjtPX4NXnmz46oXqCKxS2KAkaTYJkAAJyEWAwiyXP2y2Rg9hFkknZkQcx7chx3A35QG6NSyNIa0rK5mh+JAACZAACahDgMKsDkfNW9FamEXSicFLYnAw7jrKFsypZINqUK6A5uNmhyRAAiRgdgIUZoN6WCthFkknpmw4ih83nlBIve1XDh8GVUS2zEw6YdDQodkkQAKSE6AwS+6gJ5mnhTBvP3EVHy2Lxckrt5TUjOM7+aB6iTwGJUazSYAESMAYBCjMxvDTf6x0pTDfSL6H8esOY96208iSMQP6Nq+Ad/3LM1+yQWOFZpMACRiLAIXZWP76v7WuEuaww/EYviwWFxKTUbvUo6QTFQoz6YRBw4RmkwAJGJAAhVl/p+UDMA9AJQBJAC4C6APg0UvdJzxqC3PCLZF04gCW7z6PHFkyYkiryujmWwYZM/A6Tf1DhBaQAAm4EwEKs/7ezgugLoANqab0BdABQDMthFlcp7k6Ng6frdyPq7fuwq9iQeVccsn8TDqhf2jQAhIgAXckQGGWz+tCpJcAKONqYb50PRmfrNiH4AOX4JktE0a0rYbOdUrwOk35YoIWkQAJuBEBCrN8zp4P4CqAfq4SZjFL/j36LEavPogbyffR2rsoRrb3RmEmnZAvGmgRCZCA2xGgMMvl8s8AtAIQlPq+Oa11AwGIf8rj6enplZiY6JD1Ij1j4NfhyJ4lE0a198az1b0caoeVSIAESIAE1CdAYVafqaMtfgKgHYCWAKwqrrObv7Ycu4JqxTyRNweTTjjqMNYjARIgAVcQoDC7gqr9bX4KoI2toiyad1aY7TeRNUiABEiABLQgQGHWgvLT+/AGsA/AcQA3U4veT92p/cSaFGb9HUcLSIAESMAVBCjMrqCqQZsUZg0gswsSIAES0IEAhVkH6Gp0SWFWgyLbIAESIAH5CFCY5fOJTRZRmG3CxEIkQAIkYDgCFGbDueyRwRRmgzqOZpMACZCAFQIUZoOGCIXZoI6j2SRAAiRAYTZnDFCYzelXjooESIAEOGM2aAxQmA3qOJpNAiRAApwxmzMGKMzm9CtHRQIkQAKcMRs3Bu4CuGJc8/9leU4At0wyFrWGQSb/Jkke/40sMjFvjBQEYOj7kj3U+iZkO7oRuACgmG69y9kxmfzbL+Tx3zglE8aInN9eACjM0rrGZsP4BcMvXWvBwhhhjDBGrBGQ6O8UZomc4aAp/NLll6610GGMMEYYI9YISPR3CrNEznDQFJFneqKDdc1ajUz+7Vny+G+kkwljRNrvPwqztK6hYSRAAiRAAu5IgMLsjl7nmEmABEiABKQlQGGW1jVPNSwfgHkAKgFIAnARQB8AJ4w5HNWtfhPAHAAvAFiheuvGaVAcGRkPoA2AZAAnATxvHPNdYulzAEYDyAAgM4CpAKa7pCc5Gx0B4DUAFQF0TPP5EEeM5qb+f5HTvj+AdXIOwfxWUZiN6eO8AOoC2JBqfl8AHQA0M+ZwVLW6NIBFqScOxrm5MH8NIAeA9wE8AFA09UecqsAN1JgQ4wQATQHEpB4zPJoqRmKDnDs8DQHEp/5wnZLm8/Fj6v8fDsAbQCiAcrwjQZ+QoDDrw13tXoVILwFQRu2GDdae+OJdD2Bo6oa4tF88BhuK0+YKQRYrKSUAXHe6NXM0kBHA1dRVg0gAlQFEpK48uRujcABpPx83U3+gxKW6WnyOZqZ+r5jD+wYaBYXZQM56iqnzU79w+pljOA6PYhCA3AA+A5D+i8fhRg1a0QfAnwAWAGgBQNx2NwbAKoOORy2zBYuFqa+ACqQu67rj6460nw/BQawYZE0DWYjyIQCT1ALPdmwnQGG2nZWsJYUItQIQlPplI6udrrZLLL/NBuAH4B6FGXUARAPokbpsWQWAmCWKpUx33YuQKfX1zxcAwgA8AyAYQAMAZ1wdoJK1b02YxdL2QQqzPl6jMOvDXa1ePwHQDkBLAIlqNWrQdnoD+BTAnVT7xftUsTw5EsB3Bh2TM2aLzTziXWK21NmyaEuI0Aw3Xp4Ur3zEbFlsmrQ8gomYHS52BrYBJgB9nAAAAjJJREFU63IpW2KnUZgldo4V04QIid22FOXHg3L3pWxBZS2AaQD+AOAFYDcAfwCHjRv2TlleBMDx1FWDfanv33cBCABwwKmWjVc5/edDrDaJPQmWzV9iRUFs/hLvnvloTIDCrDFwlboTy7bii0V8yVg+OOKIg5gR8HlEgML8aDOg+MItDOAhALFLXbxzduenK4BhqbvUxWawyamM3IXJ5wB6AigE4EbqMTrxekPsQRDHpcoDSAEgbkZb7S5QZBsnhVk2j9AeEiABEiABtyZAYXZr93PwJEACJEACshGgMMvmEdpDAiRAAiTg1gQozG7tfg6eBEiABEhANgIUZtk8QntIgARIgATcmgCF2a3dz8GTAAmQAAnIRoDCLJtHaA8JkAAJkIBbE6Awu7X7OXgSIAESIAHZCFCYZfMI7SEBEiABEnBrAhRmt3Y/B08CJEACJCAbAQqzbB6hPSRAAiRAAm5NgMLs1u7n4EmABEiABGQjQGGWzSO0hwRIgARIwK0JUJjd2v0cPAmQAAmQgGwEKMyyeYT2kAAJkAAJuDUBCrNbu5+DJwESIAESkI0AhVk2j9AeEiABEiABtyZAYXZr93PwJEACJEACshGgMMvmEdpDAiRAAiTg1gQozG7tfg6eBEiABEhANgIUZtk8QntIgARIgATcmgCF2a3dz8GTAAmQAAnIRoDCLJtHaA8JkAAJkIBbE6Awu7X7OXgSIAESIAHZCFCYZfMI7SEBEiABEnBrAv8D5X0+j0gp7q8AAAAASUVORK5CYII=\" width=\"432\">"
      ],
      "text/plain": [
       "<IPython.core.display.HTML object>"
      ]
     },
     "metadata": {},
     "output_type": "display_data"
    }
   ],
   "source": [
    "# Once launched, this plot will get updated as the file is modified (and saved)\n",
    "\n",
    "%matplotlib notebook\n",
    "import matplotlib.pyplot as plt\n",
    "import matplotlib.animation as animation\n",
    "import time\n",
    "\n",
    "fig = plt.figure()\n",
    "ax1 = fig.add_subplot(1,1,1)\n",
    "\n",
    "def animate(i):\n",
    "    pullData = open(\"sampleText.txt\",\"r\").read()\n",
    "    dataArray = pullData.split('\\n')\n",
    "    xar = []\n",
    "    yar = []\n",
    "\n",
    "    for eachLine in dataArray:\n",
    "        if len(eachLine)>1:\n",
    "            x,y = eachLine.split(',')\n",
    "            xar.append(int(x))\n",
    "            yar.append(int(y))\n",
    "    ax1.clear()\n",
    "    ax1.plot(xar,yar)\n",
    "    \n",
    "    \n",
    "ani = animation.FuncAnimation(fig, animate, interval=2000)\n",
    "plt.show()"
   ]
  },
  {
   "cell_type": "markdown",
   "metadata": {},
   "source": [
    "# Other"
   ]
  },
  {
   "cell_type": "code",
   "execution_count": 4,
   "metadata": {
    "ExecuteTime": {
     "end_time": "2019-03-22T14:17:40.479112Z",
     "start_time": "2019-03-22T14:17:40.465634Z"
    }
   },
   "outputs": [
    {
     "data": {
      "text/html": [
       "<div>\n",
       "<style scoped>\n",
       "    .dataframe tbody tr th:only-of-type {\n",
       "        vertical-align: middle;\n",
       "    }\n",
       "\n",
       "    .dataframe tbody tr th {\n",
       "        vertical-align: top;\n",
       "    }\n",
       "\n",
       "    .dataframe thead th {\n",
       "        text-align: right;\n",
       "    }\n",
       "</style>\n",
       "<table border=\"1\" class=\"dataframe\">\n",
       "  <thead>\n",
       "    <tr style=\"text-align: right;\">\n",
       "      <th></th>\n",
       "      <th>#</th>\n",
       "      <th>Name</th>\n",
       "      <th>Type 1</th>\n",
       "      <th>Type 2</th>\n",
       "      <th>Total</th>\n",
       "      <th>HP</th>\n",
       "      <th>Attack</th>\n",
       "      <th>Defense</th>\n",
       "      <th>Sp. Atk</th>\n",
       "      <th>Sp. Def</th>\n",
       "      <th>Speed</th>\n",
       "      <th>Generation</th>\n",
       "      <th>Legendary</th>\n",
       "    </tr>\n",
       "  </thead>\n",
       "  <tbody>\n",
       "    <tr>\n",
       "      <th>0</th>\n",
       "      <td>1</td>\n",
       "      <td>Bulbasaur</td>\n",
       "      <td>Grass</td>\n",
       "      <td>Poison</td>\n",
       "      <td>318</td>\n",
       "      <td>45</td>\n",
       "      <td>49</td>\n",
       "      <td>49</td>\n",
       "      <td>65</td>\n",
       "      <td>65</td>\n",
       "      <td>45</td>\n",
       "      <td>1</td>\n",
       "      <td>False</td>\n",
       "    </tr>\n",
       "    <tr>\n",
       "      <th>1</th>\n",
       "      <td>2</td>\n",
       "      <td>Ivysaur</td>\n",
       "      <td>Grass</td>\n",
       "      <td>Poison</td>\n",
       "      <td>405</td>\n",
       "      <td>60</td>\n",
       "      <td>62</td>\n",
       "      <td>63</td>\n",
       "      <td>80</td>\n",
       "      <td>80</td>\n",
       "      <td>60</td>\n",
       "      <td>1</td>\n",
       "      <td>False</td>\n",
       "    </tr>\n",
       "    <tr>\n",
       "      <th>2</th>\n",
       "      <td>3</td>\n",
       "      <td>Venusaur</td>\n",
       "      <td>Grass</td>\n",
       "      <td>Poison</td>\n",
       "      <td>525</td>\n",
       "      <td>80</td>\n",
       "      <td>82</td>\n",
       "      <td>83</td>\n",
       "      <td>100</td>\n",
       "      <td>100</td>\n",
       "      <td>80</td>\n",
       "      <td>1</td>\n",
       "      <td>False</td>\n",
       "    </tr>\n",
       "    <tr>\n",
       "      <th>3</th>\n",
       "      <td>3</td>\n",
       "      <td>VenusaurMega Venusaur</td>\n",
       "      <td>Grass</td>\n",
       "      <td>Poison</td>\n",
       "      <td>625</td>\n",
       "      <td>80</td>\n",
       "      <td>100</td>\n",
       "      <td>123</td>\n",
       "      <td>122</td>\n",
       "      <td>120</td>\n",
       "      <td>80</td>\n",
       "      <td>1</td>\n",
       "      <td>False</td>\n",
       "    </tr>\n",
       "    <tr>\n",
       "      <th>4</th>\n",
       "      <td>4</td>\n",
       "      <td>Charmander</td>\n",
       "      <td>Fire</td>\n",
       "      <td>NaN</td>\n",
       "      <td>309</td>\n",
       "      <td>39</td>\n",
       "      <td>52</td>\n",
       "      <td>43</td>\n",
       "      <td>60</td>\n",
       "      <td>50</td>\n",
       "      <td>65</td>\n",
       "      <td>1</td>\n",
       "      <td>False</td>\n",
       "    </tr>\n",
       "  </tbody>\n",
       "</table>\n",
       "</div>"
      ],
      "text/plain": [
       "   #                   Name Type 1  Type 2  Total  HP  Attack  Defense  \\\n",
       "0  1              Bulbasaur  Grass  Poison    318  45      49       49   \n",
       "1  2                Ivysaur  Grass  Poison    405  60      62       63   \n",
       "2  3               Venusaur  Grass  Poison    525  80      82       83   \n",
       "3  3  VenusaurMega Venusaur  Grass  Poison    625  80     100      123   \n",
       "4  4             Charmander   Fire     NaN    309  39      52       43   \n",
       "\n",
       "   Sp. Atk  Sp. Def  Speed  Generation  Legendary  \n",
       "0       65       65     45           1      False  \n",
       "1       80       80     60           1      False  \n",
       "2      100      100     80           1      False  \n",
       "3      122      120     80           1      False  \n",
       "4       60       50     65           1      False  "
      ]
     },
     "execution_count": 4,
     "metadata": {},
     "output_type": "execute_result"
    }
   ],
   "source": [
    "df.head()"
   ]
  },
  {
   "cell_type": "code",
   "execution_count": 5,
   "metadata": {
    "ExecuteTime": {
     "end_time": "2019-03-22T14:18:00.543573Z",
     "start_time": "2019-03-22T14:17:59.154294Z"
    }
   },
   "outputs": [
    {
     "name": "stderr",
     "output_type": "stream",
     "text": [
      "Using TensorFlow backend.\n"
     ]
    }
   ],
   "source": [
    "%run \"../Functions/EDA_fct.py\"\n",
    "%run \"../Functions/cleaning_fct.py\"\n",
    "%run \"../Functions/ML_fct.py\""
   ]
  },
  {
   "cell_type": "code",
   "execution_count": 10,
   "metadata": {
    "ExecuteTime": {
     "end_time": "2019-09-24T09:42:20.642357Z",
     "start_time": "2019-09-24T09:42:20.432349Z"
    }
   },
   "outputs": [],
   "source": [
    "from nbconvert.exporters import HTMLExporter\n",
    "\n",
    "html_exporter = HTMLExporter()\n",
    "\n",
    "contents = html_exporter.from_filename(\"medium.ipynb\")[0]"
   ]
  },
  {
   "cell_type": "code",
   "execution_count": 12,
   "metadata": {
    "ExecuteTime": {
     "end_time": "2019-09-24T09:42:54.349597Z",
     "start_time": "2019-09-24T09:42:54.345126Z"
    }
   },
   "outputs": [
    {
     "data": {
      "text/plain": [
       "421026"
      ]
     },
     "execution_count": 12,
     "metadata": {},
     "output_type": "execute_result"
    }
   ],
   "source": [
    "from pathlib import Path\n",
    "\n",
    "Path(\"my_report.html\").write_text(contents)"
   ]
  },
  {
   "cell_type": "code",
   "execution_count": 13,
   "metadata": {
    "ExecuteTime": {
     "end_time": "2019-09-24T09:47:07.439453Z",
     "start_time": "2019-09-24T09:47:06.000455Z"
    }
   },
   "outputs": [
    {
     "ename": "OSError",
     "evalue": "xelatex not found on PATH, if you have not installed xelatex you may need to do so. Find further instructions at https://nbconvert.readthedocs.io/en/latest/install.html#installing-tex.",
     "output_type": "error",
     "traceback": [
      "\u001b[0;31m---------------------------------------------------------------------------\u001b[0m",
      "\u001b[0;31mOSError\u001b[0m                                   Traceback (most recent call last)",
      "\u001b[0;32m<ipython-input-13-514d631ceb0d>\u001b[0m in \u001b[0;36m<module>\u001b[0;34m\u001b[0m\n\u001b[1;32m      3\u001b[0m \u001b[0mpdf_exporter\u001b[0m \u001b[0;34m=\u001b[0m \u001b[0mget_exporter\u001b[0m\u001b[0;34m(\u001b[0m\u001b[0;34m\"pdf\"\u001b[0m\u001b[0;34m)\u001b[0m\u001b[0;34m(\u001b[0m\u001b[0;34m)\u001b[0m\u001b[0;34m\u001b[0m\u001b[0m\n\u001b[1;32m      4\u001b[0m \u001b[0;34m\u001b[0m\u001b[0m\n\u001b[0;32m----> 5\u001b[0;31m \u001b[0mcontents\u001b[0m \u001b[0;34m=\u001b[0m \u001b[0mpdf_exporter\u001b[0m\u001b[0;34m.\u001b[0m\u001b[0mfrom_filename\u001b[0m\u001b[0;34m(\u001b[0m\u001b[0;34m\"medium.ipynb\"\u001b[0m\u001b[0;34m)\u001b[0m\u001b[0;34m[\u001b[0m\u001b[0;36m0\u001b[0m\u001b[0;34m]\u001b[0m\u001b[0;34m\u001b[0m\u001b[0m\n\u001b[0m\u001b[1;32m      6\u001b[0m \u001b[0;34m\u001b[0m\u001b[0m\n\u001b[1;32m      7\u001b[0m \u001b[0mPath\u001b[0m\u001b[0;34m(\u001b[0m\u001b[0;34m\"my_report.pdf\"\u001b[0m\u001b[0;34m)\u001b[0m\u001b[0;34m.\u001b[0m\u001b[0mwrite_text\u001b[0m\u001b[0;34m(\u001b[0m\u001b[0mcontents\u001b[0m\u001b[0;34m)\u001b[0m\u001b[0;34m\u001b[0m\u001b[0m\n",
      "\u001b[0;32m/work/jupyterhub/id860112/envs/My_Python_3.5/lib/python3.5/site-packages/nbconvert/exporters/exporter.py\u001b[0m in \u001b[0;36mfrom_filename\u001b[0;34m(self, filename, resources, **kw)\u001b[0m\n\u001b[1;32m    172\u001b[0m \u001b[0;34m\u001b[0m\u001b[0m\n\u001b[1;32m    173\u001b[0m         \u001b[0;32mwith\u001b[0m \u001b[0mio\u001b[0m\u001b[0;34m.\u001b[0m\u001b[0mopen\u001b[0m\u001b[0;34m(\u001b[0m\u001b[0mfilename\u001b[0m\u001b[0;34m,\u001b[0m \u001b[0mencoding\u001b[0m\u001b[0;34m=\u001b[0m\u001b[0;34m'utf-8'\u001b[0m\u001b[0;34m)\u001b[0m \u001b[0;32mas\u001b[0m \u001b[0mf\u001b[0m\u001b[0;34m:\u001b[0m\u001b[0;34m\u001b[0m\u001b[0m\n\u001b[0;32m--> 174\u001b[0;31m             \u001b[0;32mreturn\u001b[0m \u001b[0mself\u001b[0m\u001b[0;34m.\u001b[0m\u001b[0mfrom_file\u001b[0m\u001b[0;34m(\u001b[0m\u001b[0mf\u001b[0m\u001b[0;34m,\u001b[0m \u001b[0mresources\u001b[0m\u001b[0;34m=\u001b[0m\u001b[0mresources\u001b[0m\u001b[0;34m,\u001b[0m \u001b[0;34m**\u001b[0m\u001b[0mkw\u001b[0m\u001b[0;34m)\u001b[0m\u001b[0;34m\u001b[0m\u001b[0m\n\u001b[0m\u001b[1;32m    175\u001b[0m \u001b[0;34m\u001b[0m\u001b[0m\n\u001b[1;32m    176\u001b[0m \u001b[0;34m\u001b[0m\u001b[0m\n",
      "\u001b[0;32m/work/jupyterhub/id860112/envs/My_Python_3.5/lib/python3.5/site-packages/nbconvert/exporters/exporter.py\u001b[0m in \u001b[0;36mfrom_file\u001b[0;34m(self, file_stream, resources, **kw)\u001b[0m\n\u001b[1;32m    190\u001b[0m \u001b[0;34m\u001b[0m\u001b[0m\n\u001b[1;32m    191\u001b[0m         \"\"\"\n\u001b[0;32m--> 192\u001b[0;31m         \u001b[0;32mreturn\u001b[0m \u001b[0mself\u001b[0m\u001b[0;34m.\u001b[0m\u001b[0mfrom_notebook_node\u001b[0m\u001b[0;34m(\u001b[0m\u001b[0mnbformat\u001b[0m\u001b[0;34m.\u001b[0m\u001b[0mread\u001b[0m\u001b[0;34m(\u001b[0m\u001b[0mfile_stream\u001b[0m\u001b[0;34m,\u001b[0m \u001b[0mas_version\u001b[0m\u001b[0;34m=\u001b[0m\u001b[0;36m4\u001b[0m\u001b[0;34m)\u001b[0m\u001b[0;34m,\u001b[0m \u001b[0mresources\u001b[0m\u001b[0;34m=\u001b[0m\u001b[0mresources\u001b[0m\u001b[0;34m,\u001b[0m \u001b[0;34m**\u001b[0m\u001b[0mkw\u001b[0m\u001b[0;34m)\u001b[0m\u001b[0;34m\u001b[0m\u001b[0m\n\u001b[0m\u001b[1;32m    193\u001b[0m \u001b[0;34m\u001b[0m\u001b[0m\n\u001b[1;32m    194\u001b[0m \u001b[0;34m\u001b[0m\u001b[0m\n",
      "\u001b[0;32m/work/jupyterhub/id860112/envs/My_Python_3.5/lib/python3.5/site-packages/nbconvert/exporters/pdf.py\u001b[0m in \u001b[0;36mfrom_notebook_node\u001b[0;34m(self, nb, resources, **kw)\u001b[0m\n\u001b[1;32m    173\u001b[0m             \u001b[0mtex_file\u001b[0m \u001b[0;34m=\u001b[0m \u001b[0mself\u001b[0m\u001b[0;34m.\u001b[0m\u001b[0mwriter\u001b[0m\u001b[0;34m.\u001b[0m\u001b[0mwrite\u001b[0m\u001b[0;34m(\u001b[0m\u001b[0mlatex\u001b[0m\u001b[0;34m,\u001b[0m \u001b[0mresources\u001b[0m\u001b[0;34m,\u001b[0m \u001b[0mnotebook_name\u001b[0m\u001b[0;34m=\u001b[0m\u001b[0mnotebook_name\u001b[0m\u001b[0;34m)\u001b[0m\u001b[0;34m\u001b[0m\u001b[0m\n\u001b[1;32m    174\u001b[0m             \u001b[0mself\u001b[0m\u001b[0;34m.\u001b[0m\u001b[0mlog\u001b[0m\u001b[0;34m.\u001b[0m\u001b[0minfo\u001b[0m\u001b[0;34m(\u001b[0m\u001b[0;34m\"Building PDF\"\u001b[0m\u001b[0;34m)\u001b[0m\u001b[0;34m\u001b[0m\u001b[0m\n\u001b[0;32m--> 175\u001b[0;31m             \u001b[0mrc\u001b[0m \u001b[0;34m=\u001b[0m \u001b[0mself\u001b[0m\u001b[0;34m.\u001b[0m\u001b[0mrun_latex\u001b[0m\u001b[0;34m(\u001b[0m\u001b[0mtex_file\u001b[0m\u001b[0;34m)\u001b[0m\u001b[0;34m\u001b[0m\u001b[0m\n\u001b[0m\u001b[1;32m    176\u001b[0m             \u001b[0;32mif\u001b[0m \u001b[0mrc\u001b[0m\u001b[0;34m:\u001b[0m\u001b[0;34m\u001b[0m\u001b[0m\n\u001b[1;32m    177\u001b[0m                 \u001b[0mrc\u001b[0m \u001b[0;34m=\u001b[0m \u001b[0mself\u001b[0m\u001b[0;34m.\u001b[0m\u001b[0mrun_bib\u001b[0m\u001b[0;34m(\u001b[0m\u001b[0mtex_file\u001b[0m\u001b[0;34m)\u001b[0m\u001b[0;34m\u001b[0m\u001b[0m\n",
      "\u001b[0;32m/work/jupyterhub/id860112/envs/My_Python_3.5/lib/python3.5/site-packages/nbconvert/exporters/pdf.py\u001b[0m in \u001b[0;36mrun_latex\u001b[0;34m(self, filename)\u001b[0m\n\u001b[1;32m    135\u001b[0m \u001b[0;34m\u001b[0m\u001b[0m\n\u001b[1;32m    136\u001b[0m         return self.run_command(self.latex_command, filename,\n\u001b[0;32m--> 137\u001b[0;31m             self.latex_count, log_error)\n\u001b[0m\u001b[1;32m    138\u001b[0m \u001b[0;34m\u001b[0m\u001b[0m\n\u001b[1;32m    139\u001b[0m     \u001b[0;32mdef\u001b[0m \u001b[0mrun_bib\u001b[0m\u001b[0;34m(\u001b[0m\u001b[0mself\u001b[0m\u001b[0;34m,\u001b[0m \u001b[0mfilename\u001b[0m\u001b[0;34m)\u001b[0m\u001b[0;34m:\u001b[0m\u001b[0;34m\u001b[0m\u001b[0m\n",
      "\u001b[0;32m/work/jupyterhub/id860112/envs/My_Python_3.5/lib/python3.5/site-packages/nbconvert/exporters/pdf.py\u001b[0m in \u001b[0;36mrun_command\u001b[0;34m(self, command_list, filename, count, log_function)\u001b[0m\n\u001b[1;32m     97\u001b[0m             raise OSError(\"{formatter} not found on PATH, if you have not installed \"\n\u001b[1;32m     98\u001b[0m                           \u001b[0;34m\"{formatter} you may need to do so. Find further instructions \"\u001b[0m\u001b[0;34m\u001b[0m\u001b[0m\n\u001b[0;32m---> 99\u001b[0;31m                           \"at {link}.\".format(formatter=command_list[0], link=link))\n\u001b[0m\u001b[1;32m    100\u001b[0m \u001b[0;34m\u001b[0m\u001b[0m\n\u001b[1;32m    101\u001b[0m         \u001b[0mtimes\u001b[0m \u001b[0;34m=\u001b[0m \u001b[0;34m'time'\u001b[0m \u001b[0;32mif\u001b[0m \u001b[0mcount\u001b[0m \u001b[0;34m==\u001b[0m \u001b[0;36m1\u001b[0m \u001b[0;32melse\u001b[0m \u001b[0;34m'times'\u001b[0m\u001b[0;34m\u001b[0m\u001b[0m\n",
      "\u001b[0;31mOSError\u001b[0m: xelatex not found on PATH, if you have not installed xelatex you may need to do so. Find further instructions at https://nbconvert.readthedocs.io/en/latest/install.html#installing-tex."
     ]
    }
   ],
   "source": [
    "from nbconvert.exporters import get_exporter\n",
    "\n",
    "pdf_exporter = get_exporter(\"pdf\")()\n",
    "\n",
    "contents = pdf_exporter.from_filename(\"medium.ipynb\")[0]\n",
    "\n",
    "Path(\"my_report.pdf\").write_text(contents)"
   ]
  },
  {
   "cell_type": "code",
   "execution_count": 30,
   "metadata": {
    "ExecuteTime": {
     "end_time": "2019-09-24T11:40:56.450259Z",
     "start_time": "2019-09-24T11:40:56.431985Z"
    }
   },
   "outputs": [
    {
     "name": "stdout",
     "output_type": "stream",
     "text": [
      "Case\n",
      "cours\n",
      "Data\n",
      "DC_suivi_Py.ipynb\n",
      "Iris.ipynb\n",
      "Jupyter_commands.ipynb\n",
      "medium.ipynb\n",
      "model.pkl\n",
      "mpg.ipynb\n",
      "my_package\n",
      "NN.ipynb\n",
      "OOP\n",
      "params.py\n",
      "__pycache__\n",
      "PySpark.ipynb\n",
      "Python.ipynb\n",
      "R.ipynb\n",
      "sampleText.txt\n",
      "Shell\n",
      "test.html\n",
      "Workshop\n",
      "\n"
     ]
    }
   ],
   "source": [
    "import subprocess\n",
    "\n",
    "cp = subprocess.run([\"ls\"], stdout = -1)\n",
    "print(cp.stdout.decode())"
   ]
  },
  {
   "cell_type": "code",
   "execution_count": 32,
   "metadata": {
    "ExecuteTime": {
     "end_time": "2019-09-24T11:42:48.908443Z",
     "start_time": "2019-09-24T11:42:48.462568Z"
    }
   },
   "outputs": [
    {
     "name": "stdout",
     "output_type": "stream",
     "text": [
      "asn1crypto (0.24.0)\n",
      "certifi (2018.11.29)\n",
      "cffi (1.11.5)\n",
      "chardet (3.0.4)\n",
      "conda (4.6.7)\n",
      "cryptography (2.5)\n",
      "idna (2.6)\n",
      "pip (9.0.3)\n",
      "pycosat (0.6.3)\n",
      "pycparser (2.18)\n",
      "pyOpenSSL (17.5.0)\n",
      "PySocks (1.6.8)\n",
      "requests (2.18.4)\n",
      "ruamel-yaml (0.15.35)\n",
      "setuptools (39.0.1)\n",
      "six (1.11.0)\n",
      "urllib3 (1.22)\n",
      "wheel (0.31.0)\n",
      "\n"
     ]
    }
   ],
   "source": [
    "cp = subprocess.run([\"python\", \"-m\", \"pip\", \"list\"], stdout = -1)\n",
    "print(cp.stdout.decode())"
   ]
  },
  {
   "cell_type": "code",
   "execution_count": 40,
   "metadata": {
    "ExecuteTime": {
     "end_time": "2019-09-26T12:31:41.259451Z",
     "start_time": "2019-09-26T12:31:41.256594Z"
    }
   },
   "outputs": [
    {
     "name": "stdout",
     "output_type": "stream",
     "text": [
      "40\n"
     ]
    }
   ],
   "source": [
    "import os\n",
    "print(os.cpu_count())"
   ]
  }
 ],
 "metadata": {
  "kernelspec": {
   "display_name": "Python 3.7",
   "language": "python",
   "name": "py37"
  },
  "language_info": {
   "codemirror_mode": {
    "name": "ipython",
    "version": 3
   },
   "file_extension": ".py",
   "mimetype": "text/x-python",
   "name": "python",
   "nbconvert_exporter": "python",
   "pygments_lexer": "ipython3",
   "version": "3.6.7"
  },
  "toc": {
   "base_numbering": 1,
   "nav_menu": {},
   "number_sections": true,
   "sideBar": true,
   "skip_h1_title": false,
   "title_cell": "Table of Contents",
   "title_sidebar": "Contents",
   "toc_cell": false,
   "toc_position": {
    "height": "calc(100% - 180px)",
    "left": "10px",
    "top": "150px",
    "width": "199.4px"
   },
   "toc_section_display": true,
   "toc_window_display": true
  },
  "varInspector": {
   "cols": {
    "lenName": 16,
    "lenType": 16,
    "lenVar": 40
   },
   "kernels_config": {
    "python": {
     "delete_cmd_postfix": "",
     "delete_cmd_prefix": "del ",
     "library": "var_list.py",
     "varRefreshCmd": "print(var_dic_list())"
    },
    "r": {
     "delete_cmd_postfix": ") ",
     "delete_cmd_prefix": "rm(",
     "library": "var_list.r",
     "varRefreshCmd": "cat(var_dic_list()) "
    }
   },
   "types_to_exclude": [
    "module",
    "function",
    "builtin_function_or_method",
    "instance",
    "_Feature"
   ],
   "window_display": false
  }
 },
 "nbformat": 4,
 "nbformat_minor": 2
}
